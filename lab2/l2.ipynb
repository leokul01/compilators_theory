{
 "cells": [
  {
   "cell_type": "markdown",
   "metadata": {},
   "source": [
    "## Лабораторная работа №2"
   ]
  },
  {
   "cell_type": "code",
   "execution_count": 2,
   "metadata": {},
   "outputs": [
    {
     "data": {
      "text/html": [
       "        <script type=\"text/javascript\">\n",
       "        window.PlotlyConfig = {MathJaxConfig: 'local'};\n",
       "        if (window.MathJax) {MathJax.Hub.Config({SVG: {font: \"STIX-Web\"}});}\n",
       "        if (typeof require !== 'undefined') {\n",
       "        require.undef(\"plotly\");\n",
       "        requirejs.config({\n",
       "            paths: {\n",
       "                'plotly': ['https://cdn.plot.ly/plotly-latest.min']\n",
       "            }\n",
       "        });\n",
       "        require(['plotly'], function(Plotly) {\n",
       "            window._Plotly = Plotly;\n",
       "        });\n",
       "        }\n",
       "        </script>\n",
       "        "
      ]
     },
     "metadata": {},
     "output_type": "display_data"
    }
   ],
   "source": [
    "from math import sin, pi\n",
    "\n",
    "from scipy import signal\n",
    "import pandas as pd\n",
    "import cufflinks as cf\n",
    "import numpy as np"
   ]
  },
  {
   "cell_type": "code",
   "execution_count": 3,
   "metadata": {},
   "outputs": [
    {
     "data": {
      "text/html": [
       "        <script type=\"text/javascript\">\n",
       "        window.PlotlyConfig = {MathJaxConfig: 'local'};\n",
       "        if (window.MathJax) {MathJax.Hub.Config({SVG: {font: \"STIX-Web\"}});}\n",
       "        if (typeof require !== 'undefined') {\n",
       "        require.undef(\"plotly\");\n",
       "        requirejs.config({\n",
       "            paths: {\n",
       "                'plotly': ['https://cdn.plot.ly/plotly-latest.min']\n",
       "            }\n",
       "        });\n",
       "        require(['plotly'], function(Plotly) {\n",
       "            window._Plotly = Plotly;\n",
       "        });\n",
       "        }\n",
       "        </script>\n",
       "        "
      ]
     },
     "metadata": {},
     "output_type": "display_data"
    }
   ],
   "source": [
    "cf.set_config_file(theme='white', offline=True)"
   ]
  },
  {
   "cell_type": "markdown",
   "metadata": {},
   "source": [
    "### 1. По согласованию с преподавателем выберите одну из систем"
   ]
  },
  {
   "cell_type": "code",
   "execution_count": 4,
   "metadata": {},
   "outputs": [],
   "source": [
    "# Преобразующая система - px =(1+ap)y, меняется a\n",
    "a = 1e8"
   ]
  },
  {
   "cell_type": "markdown",
   "metadata": {},
   "source": [
    "### 2. Вычислите передаточную функцию системы"
   ]
  },
  {
   "cell_type": "code",
   "execution_count": 5,
   "metadata": {},
   "outputs": [],
   "source": [
    "# W(s) = y(s)/x(s) = s/(1+a*s)\n",
    "\n",
    "transfer_func = signal.lti([1, 0], [a, 1])"
   ]
  },
  {
   "cell_type": "markdown",
   "metadata": {},
   "source": [
    "### 3. С помощью scipy.signal вычислите, как меняются полюсы системы при изменении указанного параметра (остальные параметры можно принять равными небольшим целым числам)."
   ]
  },
  {
   "cell_type": "code",
   "execution_count": 6,
   "metadata": {},
   "outputs": [
    {
     "data": {
      "application/vnd.plotly.v1+json": {
       "config": {
        "linkText": "Export to plot.ly",
        "plotlyServerURL": "https://plot.ly",
        "showLink": true
       },
       "data": [
        {
         "line": {
          "color": "rgba(255, 153, 51, 1.0)",
          "dash": "solid",
          "shape": "linear",
          "width": 1.3
         },
         "marker": {
          "size": 12,
          "symbol": "circle"
         },
         "mode": "lines+markers",
         "name": "0",
         "text": "",
         "type": "scatter",
         "x": [
          -1e-07,
          -1.1481536214968829e-07,
          -1.3182567385564074e-07,
          -1.513561248436208e-07,
          -1.737800828749375e-07,
          -1.9952623149688798e-07,
          -2.2908676527677721e-07,
          -2.6302679918953816e-07,
          -3.019951720402016e-07,
          -3.4673685045253164e-07,
          -3.9810717055349735e-07,
          -4.5708818961487495e-07,
          -5.248074602497725e-07,
          -6.025595860743577e-07,
          -6.918309709189363e-07,
          -7.943282347242813e-07,
          -9.120108393559097e-07,
          -1.0471285480508996e-06,
          -1.2022644346174132e-06,
          -1.3803842646028838e-06,
          -1.584893192461114e-06,
          -1.8197008586099826e-06,
          -2.089296130854039e-06,
          -2.3988329190194897e-06,
          -2.7542287033381663e-06,
          -3.1622776601683796e-06,
          -3.6307805477010137e-06,
          -4.168693834703355e-06,
          -4.78630092322638e-06,
          -5.495408738576248e-06,
          -6.3095734448019305e-06,
          -7.244359600749898e-06,
          -8.317637711026708e-06,
          -9.549925860214359e-06,
          -1.0964781961431852e-05,
          -1.2589254117941675e-05,
          -1.445439770745928e-05,
          -1.6595869074375598e-05,
          -1.9054607179632464e-05,
          -2.187761623949552e-05,
          -2.5118864315095798e-05,
          -2.884031503126606e-05,
          -3.311311214825911e-05,
          -3.8018939632056124e-05,
          -4.365158322401657e-05,
          -5.011872336272719e-05,
          -5.754399373371566e-05,
          -6.606934480075958e-05,
          -7.585775750291836e-05,
          -8.709635899560806e-05,
          -0.0001,
          -0.0001148153621496884,
          -0.00013182567385564074,
          -0.00015135612484362072,
          -0.0001737800828749376,
          -0.00019952623149688788,
          -0.000229086765276777,
          -0.00026302679918953814,
          -0.0003019951720402019,
          -0.00034673685045253164,
          -0.0003981071705534969,
          -0.00045708818961487515,
          -0.0005248074602497723,
          -0.0006025595860743569,
          -0.0006918309709189361,
          -0.000794328234724282,
          -0.0009120108393559097,
          -0.0010471285480508985,
          -0.001202264434617413,
          -0.0013803842646028838,
          -0.001584893192461114,
          -0.0018197008586099826,
          -0.0020892961308540407,
          -0.00239883291901949,
          -0.0027542287033381634,
          -0.003162277660168379,
          -0.00363078054770101,
          -0.004168693834703355,
          -0.00478630092322638,
          -0.005495408738576249,
          -0.006309573444801929,
          -0.007244359600749891,
          -0.008317637711026709,
          -0.00954992586021435,
          -0.01096478196143185,
          -0.012589254117941661,
          -0.01445439770745928,
          -0.0165958690743756,
          -0.019054607179632446,
          -0.02187761623949552,
          -0.025118864315095774,
          -0.028840315031266057,
          -0.03311311214825908,
          -0.038018939632056124,
          -0.04365158322401657,
          -0.050118723362727255,
          -0.057543993733715666,
          -0.06606934480075952,
          -0.07585775750291836,
          -0.08709635899560796,
          -0.1
         ],
         "y": [
          0,
          0,
          0,
          0,
          0,
          0,
          0,
          0,
          0,
          0,
          0,
          0,
          0,
          0,
          0,
          0,
          0,
          0,
          0,
          0,
          0,
          0,
          0,
          0,
          0,
          0,
          0,
          0,
          0,
          0,
          0,
          0,
          0,
          0,
          0,
          0,
          0,
          0,
          0,
          0,
          0,
          0,
          0,
          0,
          0,
          0,
          0,
          0,
          0,
          0,
          0,
          0,
          0,
          0,
          0,
          0,
          0,
          0,
          0,
          0,
          0,
          0,
          0,
          0,
          0,
          0,
          0,
          0,
          0,
          0,
          0,
          0,
          0,
          0,
          0,
          0,
          0,
          0,
          0,
          0,
          0,
          0,
          0,
          0,
          0,
          0,
          0,
          0,
          0,
          0,
          0,
          0,
          0,
          0,
          0,
          0,
          0,
          0,
          0,
          0,
          0
         ]
        }
       ],
       "layout": {
        "legend": {
         "bgcolor": "#FFFFFF",
         "font": {
          "color": "#4D5663"
         }
        },
        "paper_bgcolor": "#FFFFFF",
        "plot_bgcolor": "#FFFFFF",
        "template": {
         "data": {
          "bar": [
           {
            "error_x": {
             "color": "#2a3f5f"
            },
            "error_y": {
             "color": "#2a3f5f"
            },
            "marker": {
             "line": {
              "color": "#E5ECF6",
              "width": 0.5
             }
            },
            "type": "bar"
           }
          ],
          "barpolar": [
           {
            "marker": {
             "line": {
              "color": "#E5ECF6",
              "width": 0.5
             }
            },
            "type": "barpolar"
           }
          ],
          "carpet": [
           {
            "aaxis": {
             "endlinecolor": "#2a3f5f",
             "gridcolor": "white",
             "linecolor": "white",
             "minorgridcolor": "white",
             "startlinecolor": "#2a3f5f"
            },
            "baxis": {
             "endlinecolor": "#2a3f5f",
             "gridcolor": "white",
             "linecolor": "white",
             "minorgridcolor": "white",
             "startlinecolor": "#2a3f5f"
            },
            "type": "carpet"
           }
          ],
          "choropleth": [
           {
            "colorbar": {
             "outlinewidth": 0,
             "ticks": ""
            },
            "type": "choropleth"
           }
          ],
          "contour": [
           {
            "colorbar": {
             "outlinewidth": 0,
             "ticks": ""
            },
            "colorscale": [
             [
              0,
              "#0d0887"
             ],
             [
              0.1111111111111111,
              "#46039f"
             ],
             [
              0.2222222222222222,
              "#7201a8"
             ],
             [
              0.3333333333333333,
              "#9c179e"
             ],
             [
              0.4444444444444444,
              "#bd3786"
             ],
             [
              0.5555555555555556,
              "#d8576b"
             ],
             [
              0.6666666666666666,
              "#ed7953"
             ],
             [
              0.7777777777777778,
              "#fb9f3a"
             ],
             [
              0.8888888888888888,
              "#fdca26"
             ],
             [
              1,
              "#f0f921"
             ]
            ],
            "type": "contour"
           }
          ],
          "contourcarpet": [
           {
            "colorbar": {
             "outlinewidth": 0,
             "ticks": ""
            },
            "type": "contourcarpet"
           }
          ],
          "heatmap": [
           {
            "colorbar": {
             "outlinewidth": 0,
             "ticks": ""
            },
            "colorscale": [
             [
              0,
              "#0d0887"
             ],
             [
              0.1111111111111111,
              "#46039f"
             ],
             [
              0.2222222222222222,
              "#7201a8"
             ],
             [
              0.3333333333333333,
              "#9c179e"
             ],
             [
              0.4444444444444444,
              "#bd3786"
             ],
             [
              0.5555555555555556,
              "#d8576b"
             ],
             [
              0.6666666666666666,
              "#ed7953"
             ],
             [
              0.7777777777777778,
              "#fb9f3a"
             ],
             [
              0.8888888888888888,
              "#fdca26"
             ],
             [
              1,
              "#f0f921"
             ]
            ],
            "type": "heatmap"
           }
          ],
          "heatmapgl": [
           {
            "colorbar": {
             "outlinewidth": 0,
             "ticks": ""
            },
            "colorscale": [
             [
              0,
              "#0d0887"
             ],
             [
              0.1111111111111111,
              "#46039f"
             ],
             [
              0.2222222222222222,
              "#7201a8"
             ],
             [
              0.3333333333333333,
              "#9c179e"
             ],
             [
              0.4444444444444444,
              "#bd3786"
             ],
             [
              0.5555555555555556,
              "#d8576b"
             ],
             [
              0.6666666666666666,
              "#ed7953"
             ],
             [
              0.7777777777777778,
              "#fb9f3a"
             ],
             [
              0.8888888888888888,
              "#fdca26"
             ],
             [
              1,
              "#f0f921"
             ]
            ],
            "type": "heatmapgl"
           }
          ],
          "histogram": [
           {
            "marker": {
             "colorbar": {
              "outlinewidth": 0,
              "ticks": ""
             }
            },
            "type": "histogram"
           }
          ],
          "histogram2d": [
           {
            "colorbar": {
             "outlinewidth": 0,
             "ticks": ""
            },
            "colorscale": [
             [
              0,
              "#0d0887"
             ],
             [
              0.1111111111111111,
              "#46039f"
             ],
             [
              0.2222222222222222,
              "#7201a8"
             ],
             [
              0.3333333333333333,
              "#9c179e"
             ],
             [
              0.4444444444444444,
              "#bd3786"
             ],
             [
              0.5555555555555556,
              "#d8576b"
             ],
             [
              0.6666666666666666,
              "#ed7953"
             ],
             [
              0.7777777777777778,
              "#fb9f3a"
             ],
             [
              0.8888888888888888,
              "#fdca26"
             ],
             [
              1,
              "#f0f921"
             ]
            ],
            "type": "histogram2d"
           }
          ],
          "histogram2dcontour": [
           {
            "colorbar": {
             "outlinewidth": 0,
             "ticks": ""
            },
            "colorscale": [
             [
              0,
              "#0d0887"
             ],
             [
              0.1111111111111111,
              "#46039f"
             ],
             [
              0.2222222222222222,
              "#7201a8"
             ],
             [
              0.3333333333333333,
              "#9c179e"
             ],
             [
              0.4444444444444444,
              "#bd3786"
             ],
             [
              0.5555555555555556,
              "#d8576b"
             ],
             [
              0.6666666666666666,
              "#ed7953"
             ],
             [
              0.7777777777777778,
              "#fb9f3a"
             ],
             [
              0.8888888888888888,
              "#fdca26"
             ],
             [
              1,
              "#f0f921"
             ]
            ],
            "type": "histogram2dcontour"
           }
          ],
          "mesh3d": [
           {
            "colorbar": {
             "outlinewidth": 0,
             "ticks": ""
            },
            "type": "mesh3d"
           }
          ],
          "parcoords": [
           {
            "line": {
             "colorbar": {
              "outlinewidth": 0,
              "ticks": ""
             }
            },
            "type": "parcoords"
           }
          ],
          "scatter": [
           {
            "marker": {
             "colorbar": {
              "outlinewidth": 0,
              "ticks": ""
             }
            },
            "type": "scatter"
           }
          ],
          "scatter3d": [
           {
            "line": {
             "colorbar": {
              "outlinewidth": 0,
              "ticks": ""
             }
            },
            "marker": {
             "colorbar": {
              "outlinewidth": 0,
              "ticks": ""
             }
            },
            "type": "scatter3d"
           }
          ],
          "scattercarpet": [
           {
            "marker": {
             "colorbar": {
              "outlinewidth": 0,
              "ticks": ""
             }
            },
            "type": "scattercarpet"
           }
          ],
          "scattergeo": [
           {
            "marker": {
             "colorbar": {
              "outlinewidth": 0,
              "ticks": ""
             }
            },
            "type": "scattergeo"
           }
          ],
          "scattergl": [
           {
            "marker": {
             "colorbar": {
              "outlinewidth": 0,
              "ticks": ""
             }
            },
            "type": "scattergl"
           }
          ],
          "scattermapbox": [
           {
            "marker": {
             "colorbar": {
              "outlinewidth": 0,
              "ticks": ""
             }
            },
            "type": "scattermapbox"
           }
          ],
          "scatterpolar": [
           {
            "marker": {
             "colorbar": {
              "outlinewidth": 0,
              "ticks": ""
             }
            },
            "type": "scatterpolar"
           }
          ],
          "scatterpolargl": [
           {
            "marker": {
             "colorbar": {
              "outlinewidth": 0,
              "ticks": ""
             }
            },
            "type": "scatterpolargl"
           }
          ],
          "scatterternary": [
           {
            "marker": {
             "colorbar": {
              "outlinewidth": 0,
              "ticks": ""
             }
            },
            "type": "scatterternary"
           }
          ],
          "surface": [
           {
            "colorbar": {
             "outlinewidth": 0,
             "ticks": ""
            },
            "colorscale": [
             [
              0,
              "#0d0887"
             ],
             [
              0.1111111111111111,
              "#46039f"
             ],
             [
              0.2222222222222222,
              "#7201a8"
             ],
             [
              0.3333333333333333,
              "#9c179e"
             ],
             [
              0.4444444444444444,
              "#bd3786"
             ],
             [
              0.5555555555555556,
              "#d8576b"
             ],
             [
              0.6666666666666666,
              "#ed7953"
             ],
             [
              0.7777777777777778,
              "#fb9f3a"
             ],
             [
              0.8888888888888888,
              "#fdca26"
             ],
             [
              1,
              "#f0f921"
             ]
            ],
            "type": "surface"
           }
          ],
          "table": [
           {
            "cells": {
             "fill": {
              "color": "#EBF0F8"
             },
             "line": {
              "color": "white"
             }
            },
            "header": {
             "fill": {
              "color": "#C8D4E3"
             },
             "line": {
              "color": "white"
             }
            },
            "type": "table"
           }
          ]
         },
         "layout": {
          "annotationdefaults": {
           "arrowcolor": "#2a3f5f",
           "arrowhead": 0,
           "arrowwidth": 1
          },
          "colorscale": {
           "diverging": [
            [
             0,
             "#8e0152"
            ],
            [
             0.1,
             "#c51b7d"
            ],
            [
             0.2,
             "#de77ae"
            ],
            [
             0.3,
             "#f1b6da"
            ],
            [
             0.4,
             "#fde0ef"
            ],
            [
             0.5,
             "#f7f7f7"
            ],
            [
             0.6,
             "#e6f5d0"
            ],
            [
             0.7,
             "#b8e186"
            ],
            [
             0.8,
             "#7fbc41"
            ],
            [
             0.9,
             "#4d9221"
            ],
            [
             1,
             "#276419"
            ]
           ],
           "sequential": [
            [
             0,
             "#0d0887"
            ],
            [
             0.1111111111111111,
             "#46039f"
            ],
            [
             0.2222222222222222,
             "#7201a8"
            ],
            [
             0.3333333333333333,
             "#9c179e"
            ],
            [
             0.4444444444444444,
             "#bd3786"
            ],
            [
             0.5555555555555556,
             "#d8576b"
            ],
            [
             0.6666666666666666,
             "#ed7953"
            ],
            [
             0.7777777777777778,
             "#fb9f3a"
            ],
            [
             0.8888888888888888,
             "#fdca26"
            ],
            [
             1,
             "#f0f921"
            ]
           ],
           "sequentialminus": [
            [
             0,
             "#0d0887"
            ],
            [
             0.1111111111111111,
             "#46039f"
            ],
            [
             0.2222222222222222,
             "#7201a8"
            ],
            [
             0.3333333333333333,
             "#9c179e"
            ],
            [
             0.4444444444444444,
             "#bd3786"
            ],
            [
             0.5555555555555556,
             "#d8576b"
            ],
            [
             0.6666666666666666,
             "#ed7953"
            ],
            [
             0.7777777777777778,
             "#fb9f3a"
            ],
            [
             0.8888888888888888,
             "#fdca26"
            ],
            [
             1,
             "#f0f921"
            ]
           ]
          },
          "colorway": [
           "#636efa",
           "#EF553B",
           "#00cc96",
           "#ab63fa",
           "#FFA15A",
           "#19d3f3",
           "#FF6692",
           "#B6E880",
           "#FF97FF",
           "#FECB52"
          ],
          "font": {
           "color": "#2a3f5f"
          },
          "geo": {
           "bgcolor": "white",
           "lakecolor": "white",
           "landcolor": "#E5ECF6",
           "showlakes": true,
           "showland": true,
           "subunitcolor": "white"
          },
          "hoverlabel": {
           "align": "left"
          },
          "hovermode": "closest",
          "mapbox": {
           "style": "light"
          },
          "paper_bgcolor": "white",
          "plot_bgcolor": "#E5ECF6",
          "polar": {
           "angularaxis": {
            "gridcolor": "white",
            "linecolor": "white",
            "ticks": ""
           },
           "bgcolor": "#E5ECF6",
           "radialaxis": {
            "gridcolor": "white",
            "linecolor": "white",
            "ticks": ""
           }
          },
          "scene": {
           "xaxis": {
            "backgroundcolor": "#E5ECF6",
            "gridcolor": "white",
            "gridwidth": 2,
            "linecolor": "white",
            "showbackground": true,
            "ticks": "",
            "zerolinecolor": "white"
           },
           "yaxis": {
            "backgroundcolor": "#E5ECF6",
            "gridcolor": "white",
            "gridwidth": 2,
            "linecolor": "white",
            "showbackground": true,
            "ticks": "",
            "zerolinecolor": "white"
           },
           "zaxis": {
            "backgroundcolor": "#E5ECF6",
            "gridcolor": "white",
            "gridwidth": 2,
            "linecolor": "white",
            "showbackground": true,
            "ticks": "",
            "zerolinecolor": "white"
           }
          },
          "shapedefaults": {
           "line": {
            "color": "#2a3f5f"
           }
          },
          "ternary": {
           "aaxis": {
            "gridcolor": "white",
            "linecolor": "white",
            "ticks": ""
           },
           "baxis": {
            "gridcolor": "white",
            "linecolor": "white",
            "ticks": ""
           },
           "bgcolor": "#E5ECF6",
           "caxis": {
            "gridcolor": "white",
            "linecolor": "white",
            "ticks": ""
           }
          },
          "title": {
           "x": 0.05
          },
          "xaxis": {
           "automargin": true,
           "gridcolor": "white",
           "linecolor": "white",
           "ticks": "",
           "zerolinecolor": "white",
           "zerolinewidth": 2
          },
          "yaxis": {
           "automargin": true,
           "gridcolor": "white",
           "linecolor": "white",
           "ticks": "",
           "zerolinecolor": "white",
           "zerolinewidth": 2
          }
         }
        },
        "title": {
         "font": {
          "color": "#4D5663"
         },
         "text": "a varies from 10000000.0 to 10.0"
        },
        "xaxis": {
         "gridcolor": "#E1E5ED",
         "showgrid": true,
         "tickfont": {
          "color": "#4D5663"
         },
         "title": {
          "font": {
           "color": "#4D5663"
          },
          "text": "Re(P)"
         },
         "zerolinecolor": "#E1E5ED"
        },
        "yaxis": {
         "gridcolor": "#E1E5ED",
         "showgrid": true,
         "tickfont": {
          "color": "#4D5663"
         },
         "title": {
          "font": {
           "color": "#4D5663"
          },
          "text": "Im(P)"
         },
         "zerolinecolor": "#E1E5ED"
        }
       }
      },
      "text/html": [
       "<div>\n",
       "        \n",
       "        \n",
       "            <div id=\"bcd96917-9395-4bc7-8fff-feb93fe037a0\" class=\"plotly-graph-div\" style=\"height:525px; width:100%;\"></div>\n",
       "            <script type=\"text/javascript\">\n",
       "                require([\"plotly\"], function(Plotly) {\n",
       "                    window.PLOTLYENV=window.PLOTLYENV || {};\n",
       "                    window.PLOTLYENV.BASE_URL='https://plot.ly';\n",
       "                    \n",
       "                if (document.getElementById(\"bcd96917-9395-4bc7-8fff-feb93fe037a0\")) {\n",
       "                    Plotly.newPlot(\n",
       "                        'bcd96917-9395-4bc7-8fff-feb93fe037a0',\n",
       "                        [{\"line\": {\"color\": \"rgba(255, 153, 51, 1.0)\", \"dash\": \"solid\", \"shape\": \"linear\", \"width\": 1.3}, \"marker\": {\"size\": 12, \"symbol\": \"circle\"}, \"mode\": \"lines+markers\", \"name\": \"0\", \"text\": \"\", \"type\": \"scatter\", \"x\": [-1e-07, -1.1481536214968829e-07, -1.3182567385564074e-07, -1.513561248436208e-07, -1.737800828749375e-07, -1.9952623149688798e-07, -2.2908676527677721e-07, -2.6302679918953816e-07, -3.019951720402016e-07, -3.4673685045253164e-07, -3.9810717055349735e-07, -4.5708818961487495e-07, -5.248074602497725e-07, -6.025595860743577e-07, -6.918309709189363e-07, -7.943282347242813e-07, -9.120108393559097e-07, -1.0471285480508996e-06, -1.2022644346174132e-06, -1.3803842646028838e-06, -1.584893192461114e-06, -1.8197008586099826e-06, -2.089296130854039e-06, -2.3988329190194897e-06, -2.7542287033381663e-06, -3.1622776601683796e-06, -3.6307805477010137e-06, -4.168693834703355e-06, -4.78630092322638e-06, -5.495408738576248e-06, -6.3095734448019305e-06, -7.244359600749898e-06, -8.317637711026708e-06, -9.549925860214359e-06, -1.0964781961431852e-05, -1.2589254117941675e-05, -1.445439770745928e-05, -1.6595869074375598e-05, -1.9054607179632464e-05, -2.187761623949552e-05, -2.5118864315095798e-05, -2.884031503126606e-05, -3.311311214825911e-05, -3.8018939632056124e-05, -4.365158322401657e-05, -5.011872336272719e-05, -5.754399373371566e-05, -6.606934480075958e-05, -7.585775750291836e-05, -8.709635899560806e-05, -0.0001, -0.0001148153621496884, -0.00013182567385564074, -0.00015135612484362072, -0.0001737800828749376, -0.00019952623149688788, -0.000229086765276777, -0.00026302679918953814, -0.0003019951720402019, -0.00034673685045253164, -0.0003981071705534969, -0.00045708818961487515, -0.0005248074602497723, -0.0006025595860743569, -0.0006918309709189361, -0.000794328234724282, -0.0009120108393559097, -0.0010471285480508985, -0.001202264434617413, -0.0013803842646028838, -0.001584893192461114, -0.0018197008586099826, -0.0020892961308540407, -0.00239883291901949, -0.0027542287033381634, -0.003162277660168379, -0.00363078054770101, -0.004168693834703355, -0.00478630092322638, -0.005495408738576249, -0.006309573444801929, -0.007244359600749891, -0.008317637711026709, -0.00954992586021435, -0.01096478196143185, -0.012589254117941661, -0.01445439770745928, -0.0165958690743756, -0.019054607179632446, -0.02187761623949552, -0.025118864315095774, -0.028840315031266057, -0.03311311214825908, -0.038018939632056124, -0.04365158322401657, -0.050118723362727255, -0.057543993733715666, -0.06606934480075952, -0.07585775750291836, -0.08709635899560796, -0.1], \"y\": [0.0, 0.0, 0.0, 0.0, 0.0, 0.0, 0.0, 0.0, 0.0, 0.0, 0.0, 0.0, 0.0, 0.0, 0.0, 0.0, 0.0, 0.0, 0.0, 0.0, 0.0, 0.0, 0.0, 0.0, 0.0, 0.0, 0.0, 0.0, 0.0, 0.0, 0.0, 0.0, 0.0, 0.0, 0.0, 0.0, 0.0, 0.0, 0.0, 0.0, 0.0, 0.0, 0.0, 0.0, 0.0, 0.0, 0.0, 0.0, 0.0, 0.0, 0.0, 0.0, 0.0, 0.0, 0.0, 0.0, 0.0, 0.0, 0.0, 0.0, 0.0, 0.0, 0.0, 0.0, 0.0, 0.0, 0.0, 0.0, 0.0, 0.0, 0.0, 0.0, 0.0, 0.0, 0.0, 0.0, 0.0, 0.0, 0.0, 0.0, 0.0, 0.0, 0.0, 0.0, 0.0, 0.0, 0.0, 0.0, 0.0, 0.0, 0.0, 0.0, 0.0, 0.0, 0.0, 0.0, 0.0, 0.0, 0.0, 0.0, 0.0]}],\n",
       "                        {\"legend\": {\"bgcolor\": \"#FFFFFF\", \"font\": {\"color\": \"#4D5663\"}}, \"paper_bgcolor\": \"#FFFFFF\", \"plot_bgcolor\": \"#FFFFFF\", \"template\": {\"data\": {\"bar\": [{\"error_x\": {\"color\": \"#2a3f5f\"}, \"error_y\": {\"color\": \"#2a3f5f\"}, \"marker\": {\"line\": {\"color\": \"#E5ECF6\", \"width\": 0.5}}, \"type\": \"bar\"}], \"barpolar\": [{\"marker\": {\"line\": {\"color\": \"#E5ECF6\", \"width\": 0.5}}, \"type\": \"barpolar\"}], \"carpet\": [{\"aaxis\": {\"endlinecolor\": \"#2a3f5f\", \"gridcolor\": \"white\", \"linecolor\": \"white\", \"minorgridcolor\": \"white\", \"startlinecolor\": \"#2a3f5f\"}, \"baxis\": {\"endlinecolor\": \"#2a3f5f\", \"gridcolor\": \"white\", \"linecolor\": \"white\", \"minorgridcolor\": \"white\", \"startlinecolor\": \"#2a3f5f\"}, \"type\": \"carpet\"}], \"choropleth\": [{\"colorbar\": {\"outlinewidth\": 0, \"ticks\": \"\"}, \"type\": \"choropleth\"}], \"contour\": [{\"colorbar\": {\"outlinewidth\": 0, \"ticks\": \"\"}, \"colorscale\": [[0.0, \"#0d0887\"], [0.1111111111111111, \"#46039f\"], [0.2222222222222222, \"#7201a8\"], [0.3333333333333333, \"#9c179e\"], [0.4444444444444444, \"#bd3786\"], [0.5555555555555556, \"#d8576b\"], [0.6666666666666666, \"#ed7953\"], [0.7777777777777778, \"#fb9f3a\"], [0.8888888888888888, \"#fdca26\"], [1.0, \"#f0f921\"]], \"type\": \"contour\"}], \"contourcarpet\": [{\"colorbar\": {\"outlinewidth\": 0, \"ticks\": \"\"}, \"type\": \"contourcarpet\"}], \"heatmap\": [{\"colorbar\": {\"outlinewidth\": 0, \"ticks\": \"\"}, \"colorscale\": [[0.0, \"#0d0887\"], [0.1111111111111111, \"#46039f\"], [0.2222222222222222, \"#7201a8\"], [0.3333333333333333, \"#9c179e\"], [0.4444444444444444, \"#bd3786\"], [0.5555555555555556, \"#d8576b\"], [0.6666666666666666, \"#ed7953\"], [0.7777777777777778, \"#fb9f3a\"], [0.8888888888888888, \"#fdca26\"], [1.0, \"#f0f921\"]], \"type\": \"heatmap\"}], \"heatmapgl\": [{\"colorbar\": {\"outlinewidth\": 0, \"ticks\": \"\"}, \"colorscale\": [[0.0, \"#0d0887\"], [0.1111111111111111, \"#46039f\"], [0.2222222222222222, \"#7201a8\"], [0.3333333333333333, \"#9c179e\"], [0.4444444444444444, \"#bd3786\"], [0.5555555555555556, \"#d8576b\"], [0.6666666666666666, \"#ed7953\"], [0.7777777777777778, \"#fb9f3a\"], [0.8888888888888888, \"#fdca26\"], [1.0, \"#f0f921\"]], \"type\": \"heatmapgl\"}], \"histogram\": [{\"marker\": {\"colorbar\": {\"outlinewidth\": 0, \"ticks\": \"\"}}, \"type\": \"histogram\"}], \"histogram2d\": [{\"colorbar\": {\"outlinewidth\": 0, \"ticks\": \"\"}, \"colorscale\": [[0.0, \"#0d0887\"], [0.1111111111111111, \"#46039f\"], [0.2222222222222222, \"#7201a8\"], [0.3333333333333333, \"#9c179e\"], [0.4444444444444444, \"#bd3786\"], [0.5555555555555556, \"#d8576b\"], [0.6666666666666666, \"#ed7953\"], [0.7777777777777778, \"#fb9f3a\"], [0.8888888888888888, \"#fdca26\"], [1.0, \"#f0f921\"]], \"type\": \"histogram2d\"}], \"histogram2dcontour\": [{\"colorbar\": {\"outlinewidth\": 0, \"ticks\": \"\"}, \"colorscale\": [[0.0, \"#0d0887\"], [0.1111111111111111, \"#46039f\"], [0.2222222222222222, \"#7201a8\"], [0.3333333333333333, \"#9c179e\"], [0.4444444444444444, \"#bd3786\"], [0.5555555555555556, \"#d8576b\"], [0.6666666666666666, \"#ed7953\"], [0.7777777777777778, \"#fb9f3a\"], [0.8888888888888888, \"#fdca26\"], [1.0, \"#f0f921\"]], \"type\": \"histogram2dcontour\"}], \"mesh3d\": [{\"colorbar\": {\"outlinewidth\": 0, \"ticks\": \"\"}, \"type\": \"mesh3d\"}], \"parcoords\": [{\"line\": {\"colorbar\": {\"outlinewidth\": 0, \"ticks\": \"\"}}, \"type\": \"parcoords\"}], \"scatter\": [{\"marker\": {\"colorbar\": {\"outlinewidth\": 0, \"ticks\": \"\"}}, \"type\": \"scatter\"}], \"scatter3d\": [{\"line\": {\"colorbar\": {\"outlinewidth\": 0, \"ticks\": \"\"}}, \"marker\": {\"colorbar\": {\"outlinewidth\": 0, \"ticks\": \"\"}}, \"type\": \"scatter3d\"}], \"scattercarpet\": [{\"marker\": {\"colorbar\": {\"outlinewidth\": 0, \"ticks\": \"\"}}, \"type\": \"scattercarpet\"}], \"scattergeo\": [{\"marker\": {\"colorbar\": {\"outlinewidth\": 0, \"ticks\": \"\"}}, \"type\": \"scattergeo\"}], \"scattergl\": [{\"marker\": {\"colorbar\": {\"outlinewidth\": 0, \"ticks\": \"\"}}, \"type\": \"scattergl\"}], \"scattermapbox\": [{\"marker\": {\"colorbar\": {\"outlinewidth\": 0, \"ticks\": \"\"}}, \"type\": \"scattermapbox\"}], \"scatterpolar\": [{\"marker\": {\"colorbar\": {\"outlinewidth\": 0, \"ticks\": \"\"}}, \"type\": \"scatterpolar\"}], \"scatterpolargl\": [{\"marker\": {\"colorbar\": {\"outlinewidth\": 0, \"ticks\": \"\"}}, \"type\": \"scatterpolargl\"}], \"scatterternary\": [{\"marker\": {\"colorbar\": {\"outlinewidth\": 0, \"ticks\": \"\"}}, \"type\": \"scatterternary\"}], \"surface\": [{\"colorbar\": {\"outlinewidth\": 0, \"ticks\": \"\"}, \"colorscale\": [[0.0, \"#0d0887\"], [0.1111111111111111, \"#46039f\"], [0.2222222222222222, \"#7201a8\"], [0.3333333333333333, \"#9c179e\"], [0.4444444444444444, \"#bd3786\"], [0.5555555555555556, \"#d8576b\"], [0.6666666666666666, \"#ed7953\"], [0.7777777777777778, \"#fb9f3a\"], [0.8888888888888888, \"#fdca26\"], [1.0, \"#f0f921\"]], \"type\": \"surface\"}], \"table\": [{\"cells\": {\"fill\": {\"color\": \"#EBF0F8\"}, \"line\": {\"color\": \"white\"}}, \"header\": {\"fill\": {\"color\": \"#C8D4E3\"}, \"line\": {\"color\": \"white\"}}, \"type\": \"table\"}]}, \"layout\": {\"annotationdefaults\": {\"arrowcolor\": \"#2a3f5f\", \"arrowhead\": 0, \"arrowwidth\": 1}, \"colorscale\": {\"diverging\": [[0, \"#8e0152\"], [0.1, \"#c51b7d\"], [0.2, \"#de77ae\"], [0.3, \"#f1b6da\"], [0.4, \"#fde0ef\"], [0.5, \"#f7f7f7\"], [0.6, \"#e6f5d0\"], [0.7, \"#b8e186\"], [0.8, \"#7fbc41\"], [0.9, \"#4d9221\"], [1, \"#276419\"]], \"sequential\": [[0.0, \"#0d0887\"], [0.1111111111111111, \"#46039f\"], [0.2222222222222222, \"#7201a8\"], [0.3333333333333333, \"#9c179e\"], [0.4444444444444444, \"#bd3786\"], [0.5555555555555556, \"#d8576b\"], [0.6666666666666666, \"#ed7953\"], [0.7777777777777778, \"#fb9f3a\"], [0.8888888888888888, \"#fdca26\"], [1.0, \"#f0f921\"]], \"sequentialminus\": [[0.0, \"#0d0887\"], [0.1111111111111111, \"#46039f\"], [0.2222222222222222, \"#7201a8\"], [0.3333333333333333, \"#9c179e\"], [0.4444444444444444, \"#bd3786\"], [0.5555555555555556, \"#d8576b\"], [0.6666666666666666, \"#ed7953\"], [0.7777777777777778, \"#fb9f3a\"], [0.8888888888888888, \"#fdca26\"], [1.0, \"#f0f921\"]]}, \"colorway\": [\"#636efa\", \"#EF553B\", \"#00cc96\", \"#ab63fa\", \"#FFA15A\", \"#19d3f3\", \"#FF6692\", \"#B6E880\", \"#FF97FF\", \"#FECB52\"], \"font\": {\"color\": \"#2a3f5f\"}, \"geo\": {\"bgcolor\": \"white\", \"lakecolor\": \"white\", \"landcolor\": \"#E5ECF6\", \"showlakes\": true, \"showland\": true, \"subunitcolor\": \"white\"}, \"hoverlabel\": {\"align\": \"left\"}, \"hovermode\": \"closest\", \"mapbox\": {\"style\": \"light\"}, \"paper_bgcolor\": \"white\", \"plot_bgcolor\": \"#E5ECF6\", \"polar\": {\"angularaxis\": {\"gridcolor\": \"white\", \"linecolor\": \"white\", \"ticks\": \"\"}, \"bgcolor\": \"#E5ECF6\", \"radialaxis\": {\"gridcolor\": \"white\", \"linecolor\": \"white\", \"ticks\": \"\"}}, \"scene\": {\"xaxis\": {\"backgroundcolor\": \"#E5ECF6\", \"gridcolor\": \"white\", \"gridwidth\": 2, \"linecolor\": \"white\", \"showbackground\": true, \"ticks\": \"\", \"zerolinecolor\": \"white\"}, \"yaxis\": {\"backgroundcolor\": \"#E5ECF6\", \"gridcolor\": \"white\", \"gridwidth\": 2, \"linecolor\": \"white\", \"showbackground\": true, \"ticks\": \"\", \"zerolinecolor\": \"white\"}, \"zaxis\": {\"backgroundcolor\": \"#E5ECF6\", \"gridcolor\": \"white\", \"gridwidth\": 2, \"linecolor\": \"white\", \"showbackground\": true, \"ticks\": \"\", \"zerolinecolor\": \"white\"}}, \"shapedefaults\": {\"line\": {\"color\": \"#2a3f5f\"}}, \"ternary\": {\"aaxis\": {\"gridcolor\": \"white\", \"linecolor\": \"white\", \"ticks\": \"\"}, \"baxis\": {\"gridcolor\": \"white\", \"linecolor\": \"white\", \"ticks\": \"\"}, \"bgcolor\": \"#E5ECF6\", \"caxis\": {\"gridcolor\": \"white\", \"linecolor\": \"white\", \"ticks\": \"\"}}, \"title\": {\"x\": 0.05}, \"xaxis\": {\"automargin\": true, \"gridcolor\": \"white\", \"linecolor\": \"white\", \"ticks\": \"\", \"zerolinecolor\": \"white\", \"zerolinewidth\": 2}, \"yaxis\": {\"automargin\": true, \"gridcolor\": \"white\", \"linecolor\": \"white\", \"ticks\": \"\", \"zerolinecolor\": \"white\", \"zerolinewidth\": 2}}}, \"title\": {\"font\": {\"color\": \"#4D5663\"}, \"text\": \"a varies from 10000000.0 to 10.0\"}, \"xaxis\": {\"gridcolor\": \"#E1E5ED\", \"showgrid\": true, \"tickfont\": {\"color\": \"#4D5663\"}, \"title\": {\"font\": {\"color\": \"#4D5663\"}, \"text\": \"Re(P)\"}, \"zerolinecolor\": \"#E1E5ED\"}, \"yaxis\": {\"gridcolor\": \"#E1E5ED\", \"showgrid\": true, \"tickfont\": {\"color\": \"#4D5663\"}, \"title\": {\"font\": {\"color\": \"#4D5663\"}, \"text\": \"Im(P)\"}, \"zerolinecolor\": \"#E1E5ED\"}},\n",
       "                        {\"showLink\": true, \"linkText\": \"Export to plot.ly\", \"plotlyServerURL\": \"https://plot.ly\", \"responsive\": true}\n",
       "                    ).then(function(){\n",
       "                            \n",
       "var gd = document.getElementById('bcd96917-9395-4bc7-8fff-feb93fe037a0');\n",
       "var x = new MutationObserver(function (mutations, observer) {{\n",
       "        var display = window.getComputedStyle(gd).display;\n",
       "        if (!display || display === 'none') {{\n",
       "            console.log([gd, 'removed!']);\n",
       "            Plotly.purge(gd);\n",
       "            observer.disconnect();\n",
       "        }}\n",
       "}});\n",
       "\n",
       "// Listen for the removal of the full notebook cells\n",
       "var notebookContainer = gd.closest('#notebook-container');\n",
       "if (notebookContainer) {{\n",
       "    x.observe(notebookContainer, {childList: true});\n",
       "}}\n",
       "\n",
       "// Listen for the clearing of the current output cell\n",
       "var outputEl = gd.closest('.output');\n",
       "if (outputEl) {{\n",
       "    x.observe(outputEl, {childList: true});\n",
       "}}\n",
       "\n",
       "                        })\n",
       "                };\n",
       "                });\n",
       "            </script>\n",
       "        </div>"
      ]
     },
     "metadata": {},
     "output_type": "display_data"
    }
   ],
   "source": [
    "# P = -1/a\n",
    "p_num = 101\n",
    "vs = np.logspace(1, 7, p_num)\n",
    "# массив для результатов (так как полюс один, то достаточно массива, а не матрицы\n",
    "Ps = np.empty(p_num)\n",
    "\n",
    "for i, vs_i in enumerate(vs):\n",
    "    _, p, _ = signal.tf2zpk([1, 0], [a / vs_i, 1])\n",
    "    # полюс всегда гарантированно один, поэтому сохраняем его\n",
    "    Ps[i] = p[0]\n",
    "    \n",
    "df = pd.DataFrame(np.imag(Ps), index=np.real(Ps))\n",
    "df.iplot(mode='lines + markers', xTitle='Re(P)', yTitle='Im(P)', \n",
    "         title=f'a varies from {a / vs[0]} to {a / vs[-1]}')"
   ]
  },
  {
   "cell_type": "markdown",
   "metadata": {},
   "source": [
    "### 4. Проверьте, какова будет реакция системы, если подать конечный сигнал на неё при параметре, делающем её устойчивой. Затем - при параметре, делающем её неустойчивой (если оказалось, что при всех значениях изменяемого параметра система устойчива либо неустойчива, надо выполнить только одну из этих двух проверок)."
   ]
  },
  {
   "cell_type": "code",
   "execution_count": 7,
   "metadata": {},
   "outputs": [
    {
     "data": {
      "application/vnd.plotly.v1+json": {
       "config": {
        "linkText": "Export to plot.ly",
        "plotlyServerURL": "https://plot.ly",
        "showLink": true
       },
       "data": [
        {
         "line": {
          "color": "rgba(255, 153, 51, 1.0)",
          "dash": "solid",
          "shape": "linear",
          "width": 1.3
         },
         "mode": "lines",
         "name": "0",
         "text": "",
         "type": "scatter",
         "x": [
          0,
          3,
          6,
          9,
          12,
          15,
          18,
          21,
          24,
          27,
          30,
          33,
          36,
          39,
          42,
          45,
          48,
          51,
          54,
          57,
          60,
          63,
          66,
          69,
          72,
          75,
          78,
          81,
          84,
          87,
          90,
          93,
          96,
          99,
          102,
          105,
          108,
          111,
          114,
          117,
          120,
          123,
          126,
          129,
          132,
          135,
          138,
          141,
          144,
          147,
          150,
          153,
          156,
          159,
          162,
          165,
          168,
          171,
          174,
          177,
          180,
          183,
          186,
          189,
          192,
          195,
          198,
          201,
          204,
          207,
          210,
          213,
          216,
          219,
          222,
          225,
          228,
          231,
          234,
          237,
          240,
          243,
          246,
          249,
          252,
          255,
          258,
          261,
          264,
          267,
          270,
          273,
          276,
          279,
          282,
          285,
          288,
          291,
          294,
          297,
          300,
          303,
          306,
          309,
          312,
          315,
          318,
          321,
          324,
          327,
          330,
          333,
          336,
          339,
          342,
          345,
          348,
          351,
          354,
          357,
          360,
          363,
          366,
          369,
          372,
          375,
          378,
          381,
          384,
          387,
          390,
          393,
          396,
          399,
          402,
          405,
          408,
          411,
          414,
          417,
          420,
          423,
          426,
          429,
          432,
          435,
          438,
          441,
          444,
          447,
          450,
          453,
          456,
          459,
          462,
          465,
          468,
          471,
          474,
          477,
          480,
          483,
          486,
          489,
          492,
          495,
          498,
          501,
          504,
          507,
          510,
          513,
          516,
          519,
          522,
          525,
          528,
          531,
          534,
          537,
          540,
          543,
          546,
          549,
          552,
          555,
          558,
          561,
          564,
          567,
          570,
          573,
          576,
          579,
          582,
          585,
          588,
          591,
          594,
          597,
          600,
          603,
          606,
          609,
          612,
          615,
          618,
          621,
          624,
          627,
          630,
          633,
          636,
          639,
          642,
          645,
          648,
          651,
          654,
          657,
          660,
          663,
          666,
          669,
          672,
          675,
          678,
          681,
          684,
          687,
          690,
          693,
          696,
          699,
          702,
          705,
          708,
          711,
          714,
          717,
          720,
          723,
          726,
          729,
          732,
          735,
          738,
          741,
          744,
          747,
          750,
          753,
          756,
          759,
          762,
          765,
          768,
          771,
          774,
          777,
          780,
          783,
          786,
          789,
          792,
          795,
          798,
          801,
          804,
          807,
          810,
          813,
          816,
          819,
          822,
          825,
          828,
          831,
          834,
          837,
          840,
          843,
          846,
          849,
          852,
          855,
          858,
          861,
          864,
          867,
          870,
          873,
          876,
          879,
          882,
          885,
          888,
          891,
          894,
          897,
          900,
          903,
          906,
          909,
          912,
          915,
          918,
          921,
          924,
          927,
          930,
          933,
          936,
          939,
          942,
          945,
          948,
          951,
          954,
          957,
          960,
          963,
          966,
          969,
          972,
          975,
          978,
          981,
          984,
          987,
          990,
          993,
          996,
          999,
          1002,
          1005,
          1008,
          1011,
          1014,
          1017,
          1020,
          1023,
          1026,
          1029,
          1032,
          1035,
          1038,
          1041,
          1044,
          1047,
          1050,
          1053,
          1056,
          1059,
          1062,
          1065,
          1068,
          1071,
          1074,
          1077,
          1080,
          1083,
          1086,
          1089,
          1092,
          1095,
          1098,
          1101,
          1104,
          1107,
          1110,
          1113,
          1116,
          1119,
          1122,
          1125,
          1128,
          1131,
          1134,
          1137,
          1140,
          1143,
          1146,
          1149,
          1152,
          1155,
          1158,
          1161,
          1164,
          1167,
          1170,
          1173,
          1176,
          1179,
          1182,
          1185,
          1188,
          1191,
          1194,
          1197,
          1200,
          1203,
          1206,
          1209,
          1212,
          1215,
          1218,
          1221,
          1224,
          1227,
          1230,
          1233,
          1236,
          1239,
          1242,
          1245,
          1248,
          1251,
          1254,
          1257,
          1260,
          1263,
          1266,
          1269,
          1272,
          1275,
          1278,
          1281,
          1284,
          1287,
          1290,
          1293,
          1296,
          1299,
          1302,
          1305,
          1308,
          1311,
          1314,
          1317,
          1320,
          1323,
          1326,
          1329,
          1332,
          1335,
          1338,
          1341,
          1344,
          1347,
          1350,
          1353,
          1356,
          1359,
          1362,
          1365,
          1368,
          1371,
          1374,
          1377,
          1380,
          1383,
          1386,
          1389,
          1392,
          1395,
          1398,
          1401,
          1404,
          1407,
          1410,
          1413,
          1416,
          1419,
          1422,
          1425,
          1428,
          1431,
          1434,
          1437,
          1440,
          1443,
          1446,
          1449,
          1452,
          1455,
          1458,
          1461,
          1464,
          1467,
          1470,
          1473,
          1476,
          1479,
          1482,
          1485,
          1488,
          1491,
          1494,
          1497,
          1500,
          1503,
          1506,
          1509,
          1512,
          1515,
          1518,
          1521,
          1524,
          1527,
          1530,
          1533,
          1536,
          1539,
          1542,
          1545,
          1548,
          1551,
          1554,
          1557,
          1560,
          1563,
          1566,
          1569,
          1572,
          1575,
          1578,
          1581,
          1584,
          1587,
          1590,
          1593,
          1596,
          1599,
          1602,
          1605,
          1608,
          1611,
          1614,
          1617,
          1620,
          1623,
          1626,
          1629,
          1632,
          1635,
          1638,
          1641,
          1644,
          1647,
          1650,
          1653,
          1656,
          1659,
          1662,
          1665,
          1668,
          1671,
          1674,
          1677,
          1680,
          1683,
          1686,
          1689,
          1692,
          1695,
          1698,
          1701,
          1704,
          1707,
          1710,
          1713,
          1716,
          1719,
          1722,
          1725,
          1728,
          1731,
          1734,
          1737,
          1740,
          1743,
          1746,
          1749,
          1752,
          1755,
          1758,
          1761,
          1764,
          1767,
          1770,
          1773,
          1776,
          1779,
          1782,
          1785,
          1788,
          1791,
          1794,
          1797,
          1800,
          1803,
          1806,
          1809,
          1812,
          1815,
          1818,
          1821,
          1824,
          1827,
          1830,
          1833,
          1836,
          1839,
          1842,
          1845,
          1848,
          1851,
          1854,
          1857,
          1860,
          1863,
          1866,
          1869,
          1872,
          1875,
          1878,
          1881,
          1884,
          1887,
          1890,
          1893,
          1896,
          1899,
          1902,
          1905,
          1908,
          1911,
          1914,
          1917,
          1920,
          1923,
          1926,
          1929,
          1932,
          1935,
          1938,
          1941,
          1944,
          1947,
          1950,
          1953,
          1956,
          1959,
          1962,
          1965,
          1968,
          1971,
          1974,
          1977,
          1980,
          1983,
          1986,
          1989,
          1992,
          1995,
          1998,
          2001,
          2004,
          2007,
          2010,
          2013,
          2016,
          2019,
          2022,
          2025,
          2028,
          2031,
          2034,
          2037,
          2040,
          2043,
          2046,
          2049,
          2052,
          2055,
          2058,
          2061,
          2064,
          2067,
          2070,
          2073,
          2076,
          2079,
          2082,
          2085,
          2088,
          2091,
          2094,
          2097,
          2100,
          2103,
          2106,
          2109,
          2112,
          2115,
          2118,
          2121,
          2124,
          2127,
          2130,
          2133,
          2136,
          2139,
          2142,
          2145,
          2148,
          2151,
          2154,
          2157,
          2160,
          2163,
          2166,
          2169,
          2172,
          2175,
          2178,
          2181,
          2184,
          2187,
          2190,
          2193,
          2196,
          2199,
          2202,
          2205,
          2208,
          2211,
          2214,
          2217,
          2220,
          2223,
          2226,
          2229,
          2232,
          2235,
          2238,
          2241,
          2244,
          2247,
          2250,
          2253,
          2256,
          2259,
          2262,
          2265,
          2268,
          2271,
          2274,
          2277,
          2280,
          2283,
          2286,
          2289,
          2292,
          2295,
          2298,
          2301,
          2304,
          2307,
          2310,
          2313,
          2316,
          2319,
          2322,
          2325,
          2328,
          2331,
          2334,
          2337,
          2340,
          2343,
          2346,
          2349,
          2352,
          2355,
          2358,
          2361,
          2364,
          2367,
          2370,
          2373,
          2376,
          2379,
          2382,
          2385,
          2388,
          2391,
          2394,
          2397,
          2400,
          2403,
          2406,
          2409,
          2412,
          2415,
          2418,
          2421,
          2424,
          2427,
          2430,
          2433,
          2436,
          2439,
          2442,
          2445,
          2448,
          2451,
          2454,
          2457,
          2460,
          2463,
          2466,
          2469,
          2472,
          2475,
          2478,
          2481,
          2484,
          2487,
          2490,
          2493,
          2496,
          2499,
          2502,
          2505,
          2508,
          2511,
          2514,
          2517,
          2520,
          2523,
          2526,
          2529,
          2532,
          2535,
          2538,
          2541,
          2544,
          2547,
          2550,
          2553,
          2556,
          2559,
          2562,
          2565,
          2568,
          2571,
          2574,
          2577,
          2580,
          2583,
          2586,
          2589,
          2592,
          2595,
          2598,
          2601,
          2604,
          2607,
          2610,
          2613,
          2616,
          2619,
          2622,
          2625,
          2628,
          2631,
          2634,
          2637,
          2640,
          2643,
          2646,
          2649,
          2652,
          2655,
          2658,
          2661,
          2664,
          2667,
          2670,
          2673,
          2676,
          2679,
          2682,
          2685,
          2688,
          2691,
          2694,
          2697,
          2700,
          2703,
          2706,
          2709,
          2712,
          2715,
          2718,
          2721,
          2724,
          2727,
          2730,
          2733,
          2736,
          2739,
          2742,
          2745,
          2748,
          2751,
          2754,
          2757,
          2760,
          2763,
          2766,
          2769,
          2772,
          2775,
          2778,
          2781,
          2784,
          2787,
          2790,
          2793,
          2796,
          2799,
          2802,
          2805,
          2808,
          2811,
          2814,
          2817,
          2820,
          2823,
          2826,
          2829,
          2832,
          2835,
          2838,
          2841,
          2844,
          2847,
          2850,
          2853,
          2856,
          2859,
          2862,
          2865,
          2868,
          2871,
          2874,
          2877,
          2880,
          2883,
          2886,
          2889,
          2892,
          2895,
          2898,
          2901,
          2904,
          2907,
          2910,
          2913,
          2916,
          2919,
          2922,
          2925,
          2928,
          2931,
          2934,
          2937,
          2940,
          2943,
          2946,
          2949,
          2952,
          2955,
          2958,
          2961,
          2964,
          2967,
          2970,
          2973,
          2976,
          2979,
          2982,
          2985,
          2988,
          2991,
          2994,
          2997,
          3000
         ],
         "y": [
          0,
          0.018848439715408175,
          0.03769018266993454,
          0.05651853448202453,
          0.07532680552793272,
          0.09410831331851431,
          0.11285638487348168,
          0.1315643590922825,
          0.15022558912075706,
          0.16883344471273387,
          0.1873813145857246,
          0.20586260876988133,
          0.22427076094938117,
          0.2425992307954074,
          0.26084150628989694,
          0.2789911060392293,
          0.2970415815770349,
          0.3149865196553048,
          0.3328195445229866,
          0.35053432019125896,
          0.3681245526846779,
          0.38558399227739654,
          0.40290643571366264,
          0.42008572841180625,
          0.4371157666509329,
          0.45399049973954675,
          0.4707039321653326,
          0.4872501257253323,
          0.5036232016357608,
          0.5198173426207094,
          0.5358267949789967,
          0.5516458706284302,
          0.5672689491267565,
          0.5826904796685761,
          0.5979049830575188,
          0.6129070536529765,
          0.6276913612907005,
          0.6422526531765844,
          0.6565857557529564,
          0.67068557653672,
          0.6845471059286886,
          0.6981654189934727,
          0.7115356772092853,
          0.7246531301870466,
          0.7375131173581739,
          0.7501110696304595,
          0.7624425110114479,
          0.7745030601987337,
          0.7862884321366188,
          0.797794439538571,
          0.8090169943749473,
          0.8199521093254523,
          0.8305958991958126,
          0.840944582298169,
          0.8509944817946917,
          0.8607420270039435,
          0.8701837546695257,
          0.8793163101905562,
          0.8881364488135445,
          0.8966410367852359,
          0.9048270524660196,
          0.9126915874035028,
          0.9202318473658703,
          0.9274451533346614,
          0.934328942456612,
          0.9408807689542255,
          0.9470983049947443,
          0.9529793415172189,
          0.9585217890173758,
          0.9637236782900097,
          0.9685831611286311,
          0.9730985109821265,
          0.9772681235681935,
          0.9810905174433341,
          0.9845643345292053,
          0.9876883405951378,
          0.9904614256966512,
          0.9928826045698137,
          0.9949510169813002,
          0.9966659280340299,
          0.9980267284282716,
          0.9990329346781247,
          0.9996841892832999,
          0.9999802608561371,
          0.9999210442038161,
          0.9995065603657316,
          0.9987369566060175,
          0.9976125063612252,
          0.9961336091431725,
          0.9943007903969989,
          0.9921147013144779,
          0.9895761186026509,
          0.986685944207868,
          0.9834452049953297,
          0.9798550523842469,
          0.9759167619387474,
          0.971631732914674,
          0.9670014877624351,
          0.9620276715860858,
          0.9567120515588305,
          0.9510565162951536,
          0.9450630751798049,
          0.9387338576538741,
          0.932071112458211,
          0.925077206834458,
          0.9177546256839811,
          0.9101059706849957,
          0.9021339593682027,
          0.8938414241512638,
          0.8852313113324553,
          0.8763066800438637,
          0.8670707011644901,
          0.8575266561936523,
          0.8476779360850834,
          0.8375280400421418,
          0.8270805742745618,
          0.816339250717184,
          0.805307885711122,
          0.7939903986478353,
          0.7823908105765882,
          0.7705132427757893,
          0.7583619152887218,
          0.7459411454241822,
          0.73325534622256,
          0.7203090248879072,
          0.7071067811865476,
          0.6936533058128049,
          0.6799533787224193,
          0.6660118674342517,
          0.6518337253008787,
          0.6374239897486899,
          0.6227877804881126,
          0.6079302976946053,
          0.5928568201610593,
          0.5775727034222676,
          0.5620833778521308,
          0.5463943467342691,
          0.530511184306734,
          0.5144395337815066,
          0.4981851053394909,
          0.4817536741017152,
          0.46515107807745854,
          0.4483832160900323,
          0.43145604568095886,
          0.4143755809932843,
          0.3971478906347806,
          0.37977909552180095,
          0.3622753667045458,
          0.34464292317451706,
          0.32688802965494274,
          0.3090169943749475,
          0.29103616682827177,
          0.27295193551732544,
          0.2547707256833822,
          0.2364989970237246,
          0.21814324139654273,
          0.19970998051440705,
          0.18120576362713722,
          0.16263716519488375,
          0.14401078255225216,
          0.12533323356430454,
          0.10661115427526005,
          0.08785119655074315,
          0.06906002571440606,
          0.05024431817976966,
          0.03141075907812824,
          0.012566039883352836,
          -0.006283143965558882,
          -0.02513009544333757,
          -0.04396811831786471,
          -0.06279051952931333,
          -0.08159061156815767,
          -0.10036171485121473,
          -0.11909716009486973,
          -0.1377902906846378,
          -0.15643446504023076,
          -0.1750230589752761,
          -0.19354946805086,
          -0.21200710992205457,
          -0.23038942667659065,
          -0.24868988716485457,
          -0.2669019893203755,
          -0.2850192624699762,
          -0.30303526963277383,
          -0.3209436098072095,
          -0.33873792024529153,
          -0.3564118787132506,
          -0.37395920573780045,
          -0.39137366683720215,
          -0.4086490747363489,
          -0.4257792915650727,
          -0.44275823103890133,
          -0.4595798606214878,
          -0.4762382036679392,
          -0.4927273415482914,
          -0.5090414157503713,
          -0.5251746299612958,
          -0.5411212521268757,
          -0.556875616488188,
          -0.5724321255945907,
          -0.587785252292473,
          -0.6029295416890247,
          -0.6178596130903341,
          -0.6325701619131244,
          -0.6470559615694443,
          -0.6613118653236517,
          -0.6753328081210244,
          -0.6891138083873485,
          -0.7026499697988491,
          -0.7159364830218311,
          -0.7289686274214116,
          -0.7417417727387391,
          -0.7542513807361038,
          -0.7664930068093496,
          -0.7784623015670236,
          -0.7901550123756904,
          -0.8015669848708764,
          -0.8126941644330942,
          -0.8235325976284275,
          -0.8340784336131715,
          -0.8443279255020147,
          -0.8542774316992952,
          -0.8639234171928352,
          -0.8732624548099204,
          -0.8822912264349534,
          -0.8910065241883682,
          -0.8994052515663709,
          -0.907484424541117,
          -0.9152411726209175,
          -0.922672739870115,
          -0.9297764858882515,
          -0.9365498867481923,
          -0.9429905358928643,
          -0.9490961449902947,
          -0.954864544746643,
          -0.9602936856769432,
          -0.965381638833274,
          -0.9701265964901058,
          -0.9745268727865771,
          -0.9785809043254722,
          -0.9822872507286887,
          -0.9856445951489982,
          -0.9886517447379141,
          -0.9913076310695066,
          -0.9936113105200084,
          -0.99556196460308,
          -0.9971589002606139,
          -0.9984015501089751,
          -0.9992894726405892,
          -0.999822352380809,
          -1,
          -0.999822352380809,
          -0.9992894726405892,
          -0.998401550108975,
          -0.9971589002606139,
          -0.99556196460308,
          -0.9936113105200084,
          -0.9913076310695065,
          -0.988651744737914,
          -0.985644595148998,
          -0.9822872507286887,
          -0.9785809043254721,
          -0.9745268727865771,
          -0.9701265964901057,
          -0.9653816388332738,
          -0.9602936856769431,
          -0.9548645447466431,
          -0.9490961449902945,
          -0.9429905358928644,
          -0.9365498867481922,
          -0.9297764858882516,
          -0.9226727398701148,
          -0.9152411726209176,
          -0.9074844245411168,
          -0.899405251566371,
          -0.8910065241883676,
          -0.8822912264349535,
          -0.8732624548099202,
          -0.8639234171928354,
          -0.8542774316992949,
          -0.8443279255020151,
          -0.8340784336131708,
          -0.8235325976284277,
          -0.8126941644330938,
          -0.8015669848708766,
          -0.7901550123756901,
          -0.7784623015670233,
          -0.7664930068093498,
          -0.7542513807361041,
          -0.7417417727387391,
          -0.7289686274214116,
          -0.7159364830218309,
          -0.702649969798849,
          -0.6891138083873485,
          -0.6753328081210246,
          -0.6613118653236516,
          -0.6470559615694442,
          -0.632570161913124,
          -0.6178596130903348,
          -0.6029295416890247,
          -0.5877852522924732,
          -0.5724321255945906,
          -0.556875616488188,
          -0.5411212521268752,
          -0.525174629961296,
          -0.5090414157503712,
          -0.4927273415482917,
          -0.4762382036679387,
          -0.4595798606214877,
          -0.4427582310389016,
          -0.425779291565073,
          -0.40864907473634887,
          -0.3913736668372025,
          -0.37395920573779995,
          -0.3564118787132505,
          -0.3387379202452914,
          -0.32094360980720976,
          -0.3030352696327737,
          -0.2850192624699761,
          -0.26690198932037495,
          -0.24868988716485535,
          -0.23038942667659057,
          -0.2120071099220549,
          -0.19354946805085993,
          -0.175023058975276,
          -0.15643446504023023,
          -0.13779029068463858,
          -0.11909716009486966,
          -0.1003617148512151,
          -0.08159061156815717,
          -0.06279051952931326,
          -0.04396811831786419,
          -0.025130095443337937,
          -0.0062831439655588045,
          0.012566039883352469,
          0.03141075907812876,
          0.05024431817976974,
          0.06906002571440568,
          0.08785119655074278,
          0.10661115427526012,
          0.12533323356430418,
          0.1440107825522527,
          0.16263716519488383,
          0.1812057636271373,
          0.1997099805144067,
          0.21814324139654281,
          0.23649899702372468,
          0.25477072568338277,
          0.2729519355173247,
          0.2910361668282719,
          0.3090169943749472,
          0.32688802965494285,
          0.3446429231745171,
          0.36227536670454635,
          0.37977909552180067,
          0.39714789063478073,
          0.414375580993284,
          0.43145604568095935,
          0.4483832160900324,
          0.46515107807745826,
          0.48175367410171493,
          0.498185105339491,
          0.5144395337815064,
          0.5305111843067345,
          0.5463943467342692,
          0.5620833778521306,
          0.5775727034222673,
          0.5928568201610595,
          0.6079302976946054,
          0.622787780488113,
          0.63742398974869,
          0.6518337253008788,
          0.6660118674342514,
          0.6799533787224195,
          0.693653305812805,
          0.7071067811865479,
          0.7203090248879065,
          0.73325534622256,
          0.745941145424182,
          0.758361915288722,
          0.7705132427757893,
          0.7823908105765885,
          0.7939903986478349,
          0.805307885711122,
          0.8163392507171838,
          0.827080574274562,
          0.8375280400421418,
          0.8476779360850831,
          0.8575266561936521,
          0.8670707011644901,
          0.8763066800438635,
          0.8852313113324555,
          0.8938414241512639,
          0.9021339593682027,
          0.9101059706849955,
          0.9177546256839813,
          0.925077206834458,
          0.9320711124582112,
          0.9387338576538738,
          0.9450630751798048,
          0.9510565162951534,
          0.9567120515588305,
          0.9620276715860859,
          0.9670014877624352,
          0.9716317329146738,
          0.9759167619387474,
          0.9798550523842469,
          0.9834452049953297,
          0.986685944207868,
          0.989576118602651,
          0.9921147013144778,
          0.9943007903969989,
          0.9961336091431725,
          0.9976125063612252,
          0.9987369566060175,
          0.9995065603657316,
          0.9999210442038161,
          0.9999802608561371,
          0.9996841892832999,
          0.9990329346781247,
          0.9980267284282716,
          0.9966659280340299,
          0.9949510169813002,
          0.9928826045698136,
          0.9904614256966512,
          0.9876883405951377,
          0.9845643345292054,
          0.9810905174433341,
          0.9772681235681934,
          0.9730985109821267,
          0.9685831611286311,
          0.9637236782900096,
          0.9585217890173761,
          0.9529793415172187,
          0.9470983049947441,
          0.9408807689542257,
          0.934328942456612,
          0.927445153334661,
          0.9202318473658698,
          0.9126915874035028,
          0.90482705246602,
          0.8966410367852361,
          0.8881364488135445,
          0.8793163101905568,
          0.8701837546695259,
          0.8607420270039435,
          0.8509944817946915,
          0.8409445822981693,
          0.8305958991958126,
          0.8199521093254518,
          0.8090169943749466,
          0.7977944395385719,
          0.7862884321366195,
          0.774503060198734,
          0.7624425110114477,
          0.7501110696304601,
          0.7375131173581742,
          0.7246531301870465,
          0.7115356772092847,
          0.6981654189934728,
          0.6845471059286884,
          0.6706855765367193,
          0.6565857557529565,
          0.6422526531765854,
          0.627691361290701,
          0.6129070536529766,
          0.5979049830575185,
          0.5826904796685767,
          0.5672689491267566,
          0.5516458706284298,
          0.5358267949789957,
          0.5198173426207096,
          0.5036232016357604,
          0.48725012572533133,
          0.47070393216533263,
          0.4539904997395479,
          0.4371157666509335,
          0.4200857284118063,
          0.40290643571366214,
          0.38558399227739715,
          0.368124552684678,
          0.35053432019125846,
          0.3328195445229855,
          0.3149865196553048,
          0.2970415815770343,
          0.2789911060392298,
          0.2608415062898969,
          0.2425992307954085,
          0.22427076094938167,
          0.20586260876988122,
          0.18738131458572393,
          0.16883344471273432,
          0.15022558912075692,
          0.13156435909228176,
          0.11285638487348035,
          0.09410831331851414,
          0.07532680552793372,
          0.05651853448202493,
          0.03769018266993434,
          0.018848439715409147,
          3.6739403974420594e-16,
          -0.01884843971540841,
          -0.037690182669935374,
          -0.056518534482024194,
          -0.075326805527933,
          -0.0941083133185152,
          -0.11285638487348316,
          -0.13156435909228104,
          -0.1502255891207562,
          -0.16883344471273362,
          -0.18738131458572496,
          -0.20586260876988052,
          -0.22427076094938098,
          -0.2425992307954078,
          -0.26084150628989783,
          -0.27899110603922905,
          -0.29704158157703525,
          -0.3149865196553057,
          -0.33281954452298645,
          -0.35053432019125774,
          -0.36812455268467725,
          -0.3855839922773964,
          -0.4029064357136631,
          -0.4200857284118056,
          -0.4371157666509328,
          -0.4539904997395472,
          -0.4707039321653335,
          -0.4872501257253323,
          -0.5036232016357614,
          -0.519817342620709,
          -0.5358267949789967,
          -0.5516458706284293,
          -0.5672689491267561,
          -0.5826904796685761,
          -0.5979049830575194,
          -0.612907053652976,
          -0.6276913612907006,
          -0.6422526531765849,
          -0.6565857557529574,
          -0.6706855765367201,
          -0.684547105928688,
          -0.6981654189934724,
          -0.7115356772092853,
          -0.7246531301870459,
          -0.7375131173581736,
          -0.7501110696304596,
          -0.7624425110114483,
          -0.7745030601987335,
          -0.786288432136619,
          -0.7977944395385714,
          -0.8090169943749482,
          -0.8199521093254514,
          -0.8305958991958121,
          -0.8409445822981689,
          -0.850994481794692,
          -0.8607420270039432,
          -0.8701837546695255,
          -0.8793163101905563,
          -0.8881364488135449,
          -0.8966410367852358,
          -0.9048270524660197,
          -0.9126915874035032,
          -0.9202318473658709,
          -0.9274451533346608,
          -0.9343289424566117,
          -0.9408807689542253,
          -0.9470983049947443,
          -0.9529793415172185,
          -0.9585217890173758,
          -0.9637236782900098,
          -0.9685831611286314,
          -0.9730985109821265,
          -0.9772681235681936,
          -0.9810905174433343,
          -0.9845643345292053,
          -0.9876883405951375,
          -0.9904614256966511,
          -0.9928826045698137,
          -0.9949510169813002,
          -0.9966659280340299,
          -0.9980267284282716,
          -0.9990329346781247,
          -0.9996841892833,
          -0.9999802608561371,
          -0.9999210442038161,
          -0.9995065603657316,
          -0.9987369566060175,
          -0.9976125063612253,
          -0.9961336091431725,
          -0.9943007903969989,
          -0.9921147013144778,
          -0.989576118602651,
          -0.986685944207868,
          -0.9834452049953295,
          -0.9798550523842466,
          -0.9759167619387473,
          -0.9716317329146742,
          -0.9670014877624352,
          -0.9620276715860858,
          -0.9567120515588308,
          -0.9510565162951538,
          -0.9450630751798048,
          -0.9387338576538738,
          -0.9320711124582112,
          -0.9250772068344579,
          -0.9177546256839808,
          -0.9101059706849951,
          -0.9021339593682035,
          -0.8938414241512642,
          -0.8852313113324554,
          -0.8763066800438635,
          -0.8670707011644905,
          -0.8575266561936524,
          -0.8476779360850831,
          -0.8375280400421412,
          -0.8270805742745619,
          -0.8163392507171838,
          -0.8053078857111214,
          -0.7939903986478355,
          -0.782390810576589,
          -0.7705132427757897,
          -0.758361915288722,
          -0.7459411454241819,
          -0.7332553462225606,
          -0.720309024887907,
          -0.7071067811865472,
          -0.6936533058128042,
          -0.6799533787224192,
          -0.6660118674342512,
          -0.6518337253008792,
          -0.6374239897486897,
          -0.6227877804881135,
          -0.6079302976946059,
          -0.5928568201610592,
          -0.5775727034222671,
          -0.5620833778521311,
          -0.5463943467342691,
          -0.5305111843067335,
          -0.5144395337815054,
          -0.4981851053394908,
          -0.48175367410171627,
          -0.46515107807745887,
          -0.44838321609003223,
          -0.43145604568096,
          -0.41437558099328464,
          -0.39714789063478056,
          -0.3797790955218005,
          -0.3622753667045462,
          -0.344642923174517,
          -0.32688802965494185,
          -0.3090169943749462,
          -0.2910361668282717,
          -0.27295193551732627,
          -0.2547707256833826,
          -0.23649899702372454,
          -0.21814324139654356,
          -0.19970998051440744,
          -0.18120576362713717,
          -0.16263716519488283,
          -0.14401078255225255,
          -0.12533323356430404,
          -0.10661115427525909,
          -0.08785119655074175,
          -0.06906002571440731,
          -0.05024431817977047,
          -0.031410759078128604,
          -0.012566039883352314,
          0.00628314396555807,
          0.025130095443337202,
          0.04396811831786523,
          0.0627905195293143,
          0.0815906115681573,
          0.10036171485121526,
          0.1190971600948707,
          0.13779029068463786,
          0.15643446504022948,
          0.17502305897527526,
          0.19354946805086007,
          0.21200710992205504,
          0.23038942667658985,
          0.24868988716485463,
          0.266901989320376,
          0.28501926246997716,
          0.30303526963277383,
          0.32094360980720993,
          0.3387379202452907,
          0.35641187871325064,
          0.3739592057377993,
          0.3913736668372018,
          0.408649074736349,
          0.42577929156507316,
          0.442758231038901,
          0.45957986062148787,
          0.4762382036679396,
          0.4927273415482927,
          0.5090414157503713,
          0.5251746299612947,
          0.5411212521268755,
          0.5568756164881881,
          0.57243212559459,
          0.5877852522924728,
          0.6029295416890248,
          0.6178596130903349,
          0.6325701619131241,
          0.6470559615694444,
          0.6613118653236525,
          0.6753328081210255,
          0.6891138083873474,
          0.7026499697988485,
          0.7159364830218309,
          0.7289686274214117,
          0.7417417727387385,
          0.7542513807361035,
          0.76649300680935,
          0.778462301567024,
          0.7901550123756902,
          0.8015669848708767,
          0.8126941644330945,
          0.8235325976284272,
          0.8340784336131704,
          0.8443279255020146,
          0.854277431699295,
          0.8639234171928355,
          0.8732624548099197,
          0.8822912264349532,
          0.891006524188368,
          0.8994052515663714,
          0.9074844245411169,
          0.9152411726209178,
          0.9226727398701152,
          0.9297764858882513,
          0.9365498867481918,
          0.9429905358928642,
          0.9490961449902945,
          0.9548645447466431,
          0.9602936856769428,
          0.9653816388332739,
          0.9701265964901059,
          0.9745268727865773,
          0.9785809043254721,
          0.9822872507286888,
          0.9856445951489979,
          0.988651744737914,
          0.9913076310695064,
          0.9936113105200083,
          0.99556196460308,
          0.9971589002606139,
          0.998401550108975,
          0.9992894726405892,
          0.9998223523808091,
          1,
          0.999822352380809,
          0.9992894726405893,
          0.998401550108975,
          0.9971589002606139,
          0.9955619646030801,
          0.9936113105200085,
          0.9913076310695066,
          0.988651744737914,
          0.9856445951489982,
          0.9822872507286886,
          0.978580904325472,
          0.9745268727865768,
          0.9701265964901062,
          0.9653816388332741,
          0.9602936856769432,
          0.9548645447466428,
          0.9490961449902949,
          0.9429905358928646,
          0.9365498867481923,
          0.9297764858882511,
          0.922672739870115,
          0.9152411726209174,
          0.9074844245411166,
          0.8994052515663712,
          0.8910065241883686,
          0.8822912264349537,
          0.8732624548099203,
          0.8639234171928352,
          0.8542774316992956,
          0.8443279255020152,
          0.834078433613171,
          0.8235325976284269,
          0.8126941644330941,
          0.8015669848708763,
          0.7901550123756909,
          0.7784623015670236,
          0.7664930068093507,
          0.7542513807361043,
          0.7417417727387393,
          0.7289686274214111,
          0.7159364830218317,
          0.7026499697988493,
          0.6891138083873481,
          0.6753328081210237,
          0.6613118653236519,
          0.6470559615694453,
          0.632570161913125,
          0.6178596130903344,
          0.6029295416890257,
          0.5877852522924737,
          0.5724321255945909,
          0.5568756164881875,
          0.5411212521268763,
          0.5251746299612957,
          0.5090414157503708,
          0.4927273415482905,
          0.4762382036679406,
          0.4595798606214888,
          0.442758231038902,
          0.42577929156507255,
          0.40864907473635004,
          0.3913736668372028,
          0.3739592057378003,
          0.35641187871325,
          0.33873792024529176,
          0.3209436098072093,
          0.3030352696327732,
          0.2850192624699748,
          0.26690198932037706,
          0.2486898871648557,
          0.23038942667659093,
          0.2120071099220544,
          0.19354946805086118,
          0.17502305897527637,
          0.1564344650402306,
          0.1377902906846372,
          0.11909716009487002,
          0.10036171485121458,
          0.08159061156815664,
          0.06279051952931362,
          0.04396811831786633,
          0.0251300954433383,
          0.006283143965559172,
          -0.012566039883352989,
          -0.03141075907812751,
          -0.05024431817976937,
          -0.06906002571440621,
          -0.08785119655074419,
          -0.10661115427525976,
          -0.1253332335643047,
          -0.14401078255225144,
          -0.1626371651948835,
          -0.18120576362713608,
          -0.19970998051440633,
          -0.21814324139654248,
          -0.23649899702372518,
          -0.25477072568338155,
          -0.27295193551732516,
          -0.29103616682827066,
          -0.3090169943749485,
          -0.32688802965494246,
          -0.34464292317451595,
          -0.36227536670454347,
          -0.3797790955218011,
          -0.39714789063477957,
          -0.41437558099328525,
          -0.431456045680959,
          -0.44838321609003123,
          -0.4651510780774595,
          -0.4817536741017153,
          -0.49818510533948984,
          -0.5144395337815075,
          -0.530511184306734,
          -0.5463943467342681,
          -0.5620833778521287,
          -0.5775727034222676,
          -0.5928568201610583,
          -0.6079302976946064,
          -0.6227877804881126,
          -0.6374239897486889,
          -0.6518337253008771,
          -0.6660118674342518,
          -0.6799533787224185,
          -0.6936533058128059,
          -0.7071067811865477,
          -0.7203090248879087,
          -0.7332553462225586,
          -0.7459411454241823,
          -0.7583619152887213,
          -0.7705132427757879,
          -0.7823908105765883,
          -0.7939903986478348,
          -0.8053078857111229,
          -0.8163392507171842,
          -0.8270805742745614,
          -0.8375280400421407,
          -0.8476779360850835,
          -0.8575266561936519,
          -0.8670707011644908,
          -0.8763066800438638,
          -0.8852313113324548,
          -0.8938414241512646,
          -0.9021339593682015,
          -0.9101059706849954,
          -0.9177546256839804,
          -0.9250772068344583,
          -0.9320711124582107,
          -0.9387338576538746,
          -0.945063075179805,
          -0.9510565162951544,
          -0.95671205155883,
          -0.962027671586085,
          -0.9670014877624349,
          -0.9716317329146735,
          -0.9759167619387475,
          -0.9798550523842467,
          -0.9834452049953301,
          -0.9866859442078681,
          -0.9895761186026509,
          -0.9921147013144777,
          -0.9943007903969989,
          -0.9961336091431724,
          -0.9976125063612251,
          -0.9987369566060176,
          -0.9995065603657315,
          -0.9999210442038161,
          -0.9999802608561371,
          -0.9996841892832999,
          -0.9990329346781248,
          -0.9980267284282716,
          -0.9966659280340299,
          -0.9949510169813,
          -0.9928826045698136,
          -0.9904614256966513,
          -0.987688340595138,
          -0.9845643345292059,
          -0.9810905174433342,
          -0.9772681235681938,
          -0.9730985109821264,
          -0.9685831611286312,
          -0.9637236782900092,
          -0.9585217890173756,
          -0.9529793415172189,
          -0.9470983049947448,
          -0.9408807689542263,
          -0.9343289424566121,
          -0.9274451533346618,
          -0.9202318473658699,
          -0.9126915874035029,
          -0.9048270524660186,
          -0.896641036785237,
          -0.8881364488135446,
          -0.8793163101905569,
          -0.8701837546695252,
          -0.8607420270039438,
          -0.8509944817946906,
          -0.8409445822981685,
          -0.8305958991958127,
          -0.819952109325453,
          -0.8090169943749489,
          -0.797794439538571,
          -0.7862884321366197,
          -0.774503060198733,
          -0.7624425110114479,
          -0.750111069630458,
          -0.737513117358173,
          -0.7246531301870467,
          -0.7115356772092862,
          -0.6981654189934744,
          -0.6845471059286887,
          -0.670685576536721,
          -0.6565857557529555,
          -0.6422526531765844,
          -0.6276913612906987,
          -0.6129070536529784,
          -0.5979049830575188,
          -0.582690479668577,
          -0.5672689491267555,
          -0.5516458706284302,
          -0.5358267949789975,
          -0.5198173426207084,
          -0.5036232016357608,
          -0.48725012572533327,
          -0.4707039321653345,
          -0.45399049973954664,
          -0.43711576665093377,
          -0.42008572841180497,
          -0.40290643571366247,
          -0.38558399227739415,
          -0.36812455268467664,
          -0.3505343201912621,
          -0.3328195445229875,
          -0.3149865196553068,
          -0.29704158157703464,
          -0.2789911060392301,
          -0.2608415062898955,
          -0.24259923079540713,
          -0.22427076094937856,
          -0.2058626087698833,
          -0.1873813145857243,
          -0.16883344471273468,
          -0.15022558912075903,
          -0.13156435909228212,
          -0.11285638487348248,
          -0.09410831331851274,
          -0.07532680552793232,
          -0.0565185344820253,
          -0.03769018266993648,
          -0.018848439715407738,
          -7.347880794884119e-16
         ]
        }
       ],
       "layout": {
        "legend": {
         "bgcolor": "#FFFFFF",
         "font": {
          "color": "#4D5663"
         }
        },
        "paper_bgcolor": "#FFFFFF",
        "plot_bgcolor": "#FFFFFF",
        "template": {
         "data": {
          "bar": [
           {
            "error_x": {
             "color": "#2a3f5f"
            },
            "error_y": {
             "color": "#2a3f5f"
            },
            "marker": {
             "line": {
              "color": "#E5ECF6",
              "width": 0.5
             }
            },
            "type": "bar"
           }
          ],
          "barpolar": [
           {
            "marker": {
             "line": {
              "color": "#E5ECF6",
              "width": 0.5
             }
            },
            "type": "barpolar"
           }
          ],
          "carpet": [
           {
            "aaxis": {
             "endlinecolor": "#2a3f5f",
             "gridcolor": "white",
             "linecolor": "white",
             "minorgridcolor": "white",
             "startlinecolor": "#2a3f5f"
            },
            "baxis": {
             "endlinecolor": "#2a3f5f",
             "gridcolor": "white",
             "linecolor": "white",
             "minorgridcolor": "white",
             "startlinecolor": "#2a3f5f"
            },
            "type": "carpet"
           }
          ],
          "choropleth": [
           {
            "colorbar": {
             "outlinewidth": 0,
             "ticks": ""
            },
            "type": "choropleth"
           }
          ],
          "contour": [
           {
            "colorbar": {
             "outlinewidth": 0,
             "ticks": ""
            },
            "colorscale": [
             [
              0,
              "#0d0887"
             ],
             [
              0.1111111111111111,
              "#46039f"
             ],
             [
              0.2222222222222222,
              "#7201a8"
             ],
             [
              0.3333333333333333,
              "#9c179e"
             ],
             [
              0.4444444444444444,
              "#bd3786"
             ],
             [
              0.5555555555555556,
              "#d8576b"
             ],
             [
              0.6666666666666666,
              "#ed7953"
             ],
             [
              0.7777777777777778,
              "#fb9f3a"
             ],
             [
              0.8888888888888888,
              "#fdca26"
             ],
             [
              1,
              "#f0f921"
             ]
            ],
            "type": "contour"
           }
          ],
          "contourcarpet": [
           {
            "colorbar": {
             "outlinewidth": 0,
             "ticks": ""
            },
            "type": "contourcarpet"
           }
          ],
          "heatmap": [
           {
            "colorbar": {
             "outlinewidth": 0,
             "ticks": ""
            },
            "colorscale": [
             [
              0,
              "#0d0887"
             ],
             [
              0.1111111111111111,
              "#46039f"
             ],
             [
              0.2222222222222222,
              "#7201a8"
             ],
             [
              0.3333333333333333,
              "#9c179e"
             ],
             [
              0.4444444444444444,
              "#bd3786"
             ],
             [
              0.5555555555555556,
              "#d8576b"
             ],
             [
              0.6666666666666666,
              "#ed7953"
             ],
             [
              0.7777777777777778,
              "#fb9f3a"
             ],
             [
              0.8888888888888888,
              "#fdca26"
             ],
             [
              1,
              "#f0f921"
             ]
            ],
            "type": "heatmap"
           }
          ],
          "heatmapgl": [
           {
            "colorbar": {
             "outlinewidth": 0,
             "ticks": ""
            },
            "colorscale": [
             [
              0,
              "#0d0887"
             ],
             [
              0.1111111111111111,
              "#46039f"
             ],
             [
              0.2222222222222222,
              "#7201a8"
             ],
             [
              0.3333333333333333,
              "#9c179e"
             ],
             [
              0.4444444444444444,
              "#bd3786"
             ],
             [
              0.5555555555555556,
              "#d8576b"
             ],
             [
              0.6666666666666666,
              "#ed7953"
             ],
             [
              0.7777777777777778,
              "#fb9f3a"
             ],
             [
              0.8888888888888888,
              "#fdca26"
             ],
             [
              1,
              "#f0f921"
             ]
            ],
            "type": "heatmapgl"
           }
          ],
          "histogram": [
           {
            "marker": {
             "colorbar": {
              "outlinewidth": 0,
              "ticks": ""
             }
            },
            "type": "histogram"
           }
          ],
          "histogram2d": [
           {
            "colorbar": {
             "outlinewidth": 0,
             "ticks": ""
            },
            "colorscale": [
             [
              0,
              "#0d0887"
             ],
             [
              0.1111111111111111,
              "#46039f"
             ],
             [
              0.2222222222222222,
              "#7201a8"
             ],
             [
              0.3333333333333333,
              "#9c179e"
             ],
             [
              0.4444444444444444,
              "#bd3786"
             ],
             [
              0.5555555555555556,
              "#d8576b"
             ],
             [
              0.6666666666666666,
              "#ed7953"
             ],
             [
              0.7777777777777778,
              "#fb9f3a"
             ],
             [
              0.8888888888888888,
              "#fdca26"
             ],
             [
              1,
              "#f0f921"
             ]
            ],
            "type": "histogram2d"
           }
          ],
          "histogram2dcontour": [
           {
            "colorbar": {
             "outlinewidth": 0,
             "ticks": ""
            },
            "colorscale": [
             [
              0,
              "#0d0887"
             ],
             [
              0.1111111111111111,
              "#46039f"
             ],
             [
              0.2222222222222222,
              "#7201a8"
             ],
             [
              0.3333333333333333,
              "#9c179e"
             ],
             [
              0.4444444444444444,
              "#bd3786"
             ],
             [
              0.5555555555555556,
              "#d8576b"
             ],
             [
              0.6666666666666666,
              "#ed7953"
             ],
             [
              0.7777777777777778,
              "#fb9f3a"
             ],
             [
              0.8888888888888888,
              "#fdca26"
             ],
             [
              1,
              "#f0f921"
             ]
            ],
            "type": "histogram2dcontour"
           }
          ],
          "mesh3d": [
           {
            "colorbar": {
             "outlinewidth": 0,
             "ticks": ""
            },
            "type": "mesh3d"
           }
          ],
          "parcoords": [
           {
            "line": {
             "colorbar": {
              "outlinewidth": 0,
              "ticks": ""
             }
            },
            "type": "parcoords"
           }
          ],
          "scatter": [
           {
            "marker": {
             "colorbar": {
              "outlinewidth": 0,
              "ticks": ""
             }
            },
            "type": "scatter"
           }
          ],
          "scatter3d": [
           {
            "line": {
             "colorbar": {
              "outlinewidth": 0,
              "ticks": ""
             }
            },
            "marker": {
             "colorbar": {
              "outlinewidth": 0,
              "ticks": ""
             }
            },
            "type": "scatter3d"
           }
          ],
          "scattercarpet": [
           {
            "marker": {
             "colorbar": {
              "outlinewidth": 0,
              "ticks": ""
             }
            },
            "type": "scattercarpet"
           }
          ],
          "scattergeo": [
           {
            "marker": {
             "colorbar": {
              "outlinewidth": 0,
              "ticks": ""
             }
            },
            "type": "scattergeo"
           }
          ],
          "scattergl": [
           {
            "marker": {
             "colorbar": {
              "outlinewidth": 0,
              "ticks": ""
             }
            },
            "type": "scattergl"
           }
          ],
          "scattermapbox": [
           {
            "marker": {
             "colorbar": {
              "outlinewidth": 0,
              "ticks": ""
             }
            },
            "type": "scattermapbox"
           }
          ],
          "scatterpolar": [
           {
            "marker": {
             "colorbar": {
              "outlinewidth": 0,
              "ticks": ""
             }
            },
            "type": "scatterpolar"
           }
          ],
          "scatterpolargl": [
           {
            "marker": {
             "colorbar": {
              "outlinewidth": 0,
              "ticks": ""
             }
            },
            "type": "scatterpolargl"
           }
          ],
          "scatterternary": [
           {
            "marker": {
             "colorbar": {
              "outlinewidth": 0,
              "ticks": ""
             }
            },
            "type": "scatterternary"
           }
          ],
          "surface": [
           {
            "colorbar": {
             "outlinewidth": 0,
             "ticks": ""
            },
            "colorscale": [
             [
              0,
              "#0d0887"
             ],
             [
              0.1111111111111111,
              "#46039f"
             ],
             [
              0.2222222222222222,
              "#7201a8"
             ],
             [
              0.3333333333333333,
              "#9c179e"
             ],
             [
              0.4444444444444444,
              "#bd3786"
             ],
             [
              0.5555555555555556,
              "#d8576b"
             ],
             [
              0.6666666666666666,
              "#ed7953"
             ],
             [
              0.7777777777777778,
              "#fb9f3a"
             ],
             [
              0.8888888888888888,
              "#fdca26"
             ],
             [
              1,
              "#f0f921"
             ]
            ],
            "type": "surface"
           }
          ],
          "table": [
           {
            "cells": {
             "fill": {
              "color": "#EBF0F8"
             },
             "line": {
              "color": "white"
             }
            },
            "header": {
             "fill": {
              "color": "#C8D4E3"
             },
             "line": {
              "color": "white"
             }
            },
            "type": "table"
           }
          ]
         },
         "layout": {
          "annotationdefaults": {
           "arrowcolor": "#2a3f5f",
           "arrowhead": 0,
           "arrowwidth": 1
          },
          "colorscale": {
           "diverging": [
            [
             0,
             "#8e0152"
            ],
            [
             0.1,
             "#c51b7d"
            ],
            [
             0.2,
             "#de77ae"
            ],
            [
             0.3,
             "#f1b6da"
            ],
            [
             0.4,
             "#fde0ef"
            ],
            [
             0.5,
             "#f7f7f7"
            ],
            [
             0.6,
             "#e6f5d0"
            ],
            [
             0.7,
             "#b8e186"
            ],
            [
             0.8,
             "#7fbc41"
            ],
            [
             0.9,
             "#4d9221"
            ],
            [
             1,
             "#276419"
            ]
           ],
           "sequential": [
            [
             0,
             "#0d0887"
            ],
            [
             0.1111111111111111,
             "#46039f"
            ],
            [
             0.2222222222222222,
             "#7201a8"
            ],
            [
             0.3333333333333333,
             "#9c179e"
            ],
            [
             0.4444444444444444,
             "#bd3786"
            ],
            [
             0.5555555555555556,
             "#d8576b"
            ],
            [
             0.6666666666666666,
             "#ed7953"
            ],
            [
             0.7777777777777778,
             "#fb9f3a"
            ],
            [
             0.8888888888888888,
             "#fdca26"
            ],
            [
             1,
             "#f0f921"
            ]
           ],
           "sequentialminus": [
            [
             0,
             "#0d0887"
            ],
            [
             0.1111111111111111,
             "#46039f"
            ],
            [
             0.2222222222222222,
             "#7201a8"
            ],
            [
             0.3333333333333333,
             "#9c179e"
            ],
            [
             0.4444444444444444,
             "#bd3786"
            ],
            [
             0.5555555555555556,
             "#d8576b"
            ],
            [
             0.6666666666666666,
             "#ed7953"
            ],
            [
             0.7777777777777778,
             "#fb9f3a"
            ],
            [
             0.8888888888888888,
             "#fdca26"
            ],
            [
             1,
             "#f0f921"
            ]
           ]
          },
          "colorway": [
           "#636efa",
           "#EF553B",
           "#00cc96",
           "#ab63fa",
           "#FFA15A",
           "#19d3f3",
           "#FF6692",
           "#B6E880",
           "#FF97FF",
           "#FECB52"
          ],
          "font": {
           "color": "#2a3f5f"
          },
          "geo": {
           "bgcolor": "white",
           "lakecolor": "white",
           "landcolor": "#E5ECF6",
           "showlakes": true,
           "showland": true,
           "subunitcolor": "white"
          },
          "hoverlabel": {
           "align": "left"
          },
          "hovermode": "closest",
          "mapbox": {
           "style": "light"
          },
          "paper_bgcolor": "white",
          "plot_bgcolor": "#E5ECF6",
          "polar": {
           "angularaxis": {
            "gridcolor": "white",
            "linecolor": "white",
            "ticks": ""
           },
           "bgcolor": "#E5ECF6",
           "radialaxis": {
            "gridcolor": "white",
            "linecolor": "white",
            "ticks": ""
           }
          },
          "scene": {
           "xaxis": {
            "backgroundcolor": "#E5ECF6",
            "gridcolor": "white",
            "gridwidth": 2,
            "linecolor": "white",
            "showbackground": true,
            "ticks": "",
            "zerolinecolor": "white"
           },
           "yaxis": {
            "backgroundcolor": "#E5ECF6",
            "gridcolor": "white",
            "gridwidth": 2,
            "linecolor": "white",
            "showbackground": true,
            "ticks": "",
            "zerolinecolor": "white"
           },
           "zaxis": {
            "backgroundcolor": "#E5ECF6",
            "gridcolor": "white",
            "gridwidth": 2,
            "linecolor": "white",
            "showbackground": true,
            "ticks": "",
            "zerolinecolor": "white"
           }
          },
          "shapedefaults": {
           "line": {
            "color": "#2a3f5f"
           }
          },
          "ternary": {
           "aaxis": {
            "gridcolor": "white",
            "linecolor": "white",
            "ticks": ""
           },
           "baxis": {
            "gridcolor": "white",
            "linecolor": "white",
            "ticks": ""
           },
           "bgcolor": "#E5ECF6",
           "caxis": {
            "gridcolor": "white",
            "linecolor": "white",
            "ticks": ""
           }
          },
          "title": {
           "x": 0.05
          },
          "xaxis": {
           "automargin": true,
           "gridcolor": "white",
           "linecolor": "white",
           "ticks": "",
           "zerolinecolor": "white",
           "zerolinewidth": 2
          },
          "yaxis": {
           "automargin": true,
           "gridcolor": "white",
           "linecolor": "white",
           "ticks": "",
           "zerolinecolor": "white",
           "zerolinewidth": 2
          }
         }
        },
        "title": {
         "font": {
          "color": "#4D5663"
         },
         "text": "Input"
        },
        "xaxis": {
         "gridcolor": "#E1E5ED",
         "showgrid": true,
         "tickfont": {
          "color": "#4D5663"
         },
         "title": {
          "font": {
           "color": "#4D5663"
          },
          "text": "T"
         },
         "zerolinecolor": "#E1E5ED"
        },
        "yaxis": {
         "gridcolor": "#E1E5ED",
         "showgrid": true,
         "tickfont": {
          "color": "#4D5663"
         },
         "title": {
          "font": {
           "color": "#4D5663"
          },
          "text": "S"
         },
         "zerolinecolor": "#E1E5ED"
        }
       }
      },
      "text/html": [
       "<div>\n",
       "        \n",
       "        \n",
       "            <div id=\"aaafd611-84b5-4d18-8d73-f6c5788cdfca\" class=\"plotly-graph-div\" style=\"height:525px; width:100%;\"></div>\n",
       "            <script type=\"text/javascript\">\n",
       "                require([\"plotly\"], function(Plotly) {\n",
       "                    window.PLOTLYENV=window.PLOTLYENV || {};\n",
       "                    window.PLOTLYENV.BASE_URL='https://plot.ly';\n",
       "                    \n",
       "                if (document.getElementById(\"aaafd611-84b5-4d18-8d73-f6c5788cdfca\")) {\n",
       "                    Plotly.newPlot(\n",
       "                        'aaafd611-84b5-4d18-8d73-f6c5788cdfca',\n",
       "                        [{\"line\": {\"color\": \"rgba(255, 153, 51, 1.0)\", \"dash\": \"solid\", \"shape\": \"linear\", \"width\": 1.3}, \"mode\": \"lines\", \"name\": \"0\", \"text\": \"\", \"type\": \"scatter\", \"x\": [0.0, 3.0, 6.0, 9.0, 12.0, 15.0, 18.0, 21.0, 24.0, 27.0, 30.0, 33.0, 36.0, 39.0, 42.0, 45.0, 48.0, 51.0, 54.0, 57.0, 60.0, 63.0, 66.0, 69.0, 72.0, 75.0, 78.0, 81.0, 84.0, 87.0, 90.0, 93.0, 96.0, 99.0, 102.0, 105.0, 108.0, 111.0, 114.0, 117.0, 120.0, 123.0, 126.0, 129.0, 132.0, 135.0, 138.0, 141.0, 144.0, 147.0, 150.0, 153.0, 156.0, 159.0, 162.0, 165.0, 168.0, 171.0, 174.0, 177.0, 180.0, 183.0, 186.0, 189.0, 192.0, 195.0, 198.0, 201.0, 204.0, 207.0, 210.0, 213.0, 216.0, 219.0, 222.0, 225.0, 228.0, 231.0, 234.0, 237.0, 240.0, 243.0, 246.0, 249.0, 252.0, 255.0, 258.0, 261.0, 264.0, 267.0, 270.0, 273.0, 276.0, 279.0, 282.0, 285.0, 288.0, 291.0, 294.0, 297.0, 300.0, 303.0, 306.0, 309.0, 312.0, 315.0, 318.0, 321.0, 324.0, 327.0, 330.0, 333.0, 336.0, 339.0, 342.0, 345.0, 348.0, 351.0, 354.0, 357.0, 360.0, 363.0, 366.0, 369.0, 372.0, 375.0, 378.0, 381.0, 384.0, 387.0, 390.0, 393.0, 396.0, 399.0, 402.0, 405.0, 408.0, 411.0, 414.0, 417.0, 420.0, 423.0, 426.0, 429.0, 432.0, 435.0, 438.0, 441.0, 444.0, 447.0, 450.0, 453.0, 456.0, 459.0, 462.0, 465.0, 468.0, 471.0, 474.0, 477.0, 480.0, 483.0, 486.0, 489.0, 492.0, 495.0, 498.0, 501.0, 504.0, 507.0, 510.0, 513.0, 516.0, 519.0, 522.0, 525.0, 528.0, 531.0, 534.0, 537.0, 540.0, 543.0, 546.0, 549.0, 552.0, 555.0, 558.0, 561.0, 564.0, 567.0, 570.0, 573.0, 576.0, 579.0, 582.0, 585.0, 588.0, 591.0, 594.0, 597.0, 600.0, 603.0, 606.0, 609.0, 612.0, 615.0, 618.0, 621.0, 624.0, 627.0, 630.0, 633.0, 636.0, 639.0, 642.0, 645.0, 648.0, 651.0, 654.0, 657.0, 660.0, 663.0, 666.0, 669.0, 672.0, 675.0, 678.0, 681.0, 684.0, 687.0, 690.0, 693.0, 696.0, 699.0, 702.0, 705.0, 708.0, 711.0, 714.0, 717.0, 720.0, 723.0, 726.0, 729.0, 732.0, 735.0, 738.0, 741.0, 744.0, 747.0, 750.0, 753.0, 756.0, 759.0, 762.0, 765.0, 768.0, 771.0, 774.0, 777.0, 780.0, 783.0, 786.0, 789.0, 792.0, 795.0, 798.0, 801.0, 804.0, 807.0, 810.0, 813.0, 816.0, 819.0, 822.0, 825.0, 828.0, 831.0, 834.0, 837.0, 840.0, 843.0, 846.0, 849.0, 852.0, 855.0, 858.0, 861.0, 864.0, 867.0, 870.0, 873.0, 876.0, 879.0, 882.0, 885.0, 888.0, 891.0, 894.0, 897.0, 900.0, 903.0, 906.0, 909.0, 912.0, 915.0, 918.0, 921.0, 924.0, 927.0, 930.0, 933.0, 936.0, 939.0, 942.0, 945.0, 948.0, 951.0, 954.0, 957.0, 960.0, 963.0, 966.0, 969.0, 972.0, 975.0, 978.0, 981.0, 984.0, 987.0, 990.0, 993.0, 996.0, 999.0, 1002.0, 1005.0, 1008.0, 1011.0, 1014.0, 1017.0, 1020.0, 1023.0, 1026.0, 1029.0, 1032.0, 1035.0, 1038.0, 1041.0, 1044.0, 1047.0, 1050.0, 1053.0, 1056.0, 1059.0, 1062.0, 1065.0, 1068.0, 1071.0, 1074.0, 1077.0, 1080.0, 1083.0, 1086.0, 1089.0, 1092.0, 1095.0, 1098.0, 1101.0, 1104.0, 1107.0, 1110.0, 1113.0, 1116.0, 1119.0, 1122.0, 1125.0, 1128.0, 1131.0, 1134.0, 1137.0, 1140.0, 1143.0, 1146.0, 1149.0, 1152.0, 1155.0, 1158.0, 1161.0, 1164.0, 1167.0, 1170.0, 1173.0, 1176.0, 1179.0, 1182.0, 1185.0, 1188.0, 1191.0, 1194.0, 1197.0, 1200.0, 1203.0, 1206.0, 1209.0, 1212.0, 1215.0, 1218.0, 1221.0, 1224.0, 1227.0, 1230.0, 1233.0, 1236.0, 1239.0, 1242.0, 1245.0, 1248.0, 1251.0, 1254.0, 1257.0, 1260.0, 1263.0, 1266.0, 1269.0, 1272.0, 1275.0, 1278.0, 1281.0, 1284.0, 1287.0, 1290.0, 1293.0, 1296.0, 1299.0, 1302.0, 1305.0, 1308.0, 1311.0, 1314.0, 1317.0, 1320.0, 1323.0, 1326.0, 1329.0, 1332.0, 1335.0, 1338.0, 1341.0, 1344.0, 1347.0, 1350.0, 1353.0, 1356.0, 1359.0, 1362.0, 1365.0, 1368.0, 1371.0, 1374.0, 1377.0, 1380.0, 1383.0, 1386.0, 1389.0, 1392.0, 1395.0, 1398.0, 1401.0, 1404.0, 1407.0, 1410.0, 1413.0, 1416.0, 1419.0, 1422.0, 1425.0, 1428.0, 1431.0, 1434.0, 1437.0, 1440.0, 1443.0, 1446.0, 1449.0, 1452.0, 1455.0, 1458.0, 1461.0, 1464.0, 1467.0, 1470.0, 1473.0, 1476.0, 1479.0, 1482.0, 1485.0, 1488.0, 1491.0, 1494.0, 1497.0, 1500.0, 1503.0, 1506.0, 1509.0, 1512.0, 1515.0, 1518.0, 1521.0, 1524.0, 1527.0, 1530.0, 1533.0, 1536.0, 1539.0, 1542.0, 1545.0, 1548.0, 1551.0, 1554.0, 1557.0, 1560.0, 1563.0, 1566.0, 1569.0, 1572.0, 1575.0, 1578.0, 1581.0, 1584.0, 1587.0, 1590.0, 1593.0, 1596.0, 1599.0, 1602.0, 1605.0, 1608.0, 1611.0, 1614.0, 1617.0, 1620.0, 1623.0, 1626.0, 1629.0, 1632.0, 1635.0, 1638.0, 1641.0, 1644.0, 1647.0, 1650.0, 1653.0, 1656.0, 1659.0, 1662.0, 1665.0, 1668.0, 1671.0, 1674.0, 1677.0, 1680.0, 1683.0, 1686.0, 1689.0, 1692.0, 1695.0, 1698.0, 1701.0, 1704.0, 1707.0, 1710.0, 1713.0, 1716.0, 1719.0, 1722.0, 1725.0, 1728.0, 1731.0, 1734.0, 1737.0, 1740.0, 1743.0, 1746.0, 1749.0, 1752.0, 1755.0, 1758.0, 1761.0, 1764.0, 1767.0, 1770.0, 1773.0, 1776.0, 1779.0, 1782.0, 1785.0, 1788.0, 1791.0, 1794.0, 1797.0, 1800.0, 1803.0, 1806.0, 1809.0, 1812.0, 1815.0, 1818.0, 1821.0, 1824.0, 1827.0, 1830.0, 1833.0, 1836.0, 1839.0, 1842.0, 1845.0, 1848.0, 1851.0, 1854.0, 1857.0, 1860.0, 1863.0, 1866.0, 1869.0, 1872.0, 1875.0, 1878.0, 1881.0, 1884.0, 1887.0, 1890.0, 1893.0, 1896.0, 1899.0, 1902.0, 1905.0, 1908.0, 1911.0, 1914.0, 1917.0, 1920.0, 1923.0, 1926.0, 1929.0, 1932.0, 1935.0, 1938.0, 1941.0, 1944.0, 1947.0, 1950.0, 1953.0, 1956.0, 1959.0, 1962.0, 1965.0, 1968.0, 1971.0, 1974.0, 1977.0, 1980.0, 1983.0, 1986.0, 1989.0, 1992.0, 1995.0, 1998.0, 2001.0, 2004.0, 2007.0, 2010.0, 2013.0, 2016.0, 2019.0, 2022.0, 2025.0, 2028.0, 2031.0, 2034.0, 2037.0, 2040.0, 2043.0, 2046.0, 2049.0, 2052.0, 2055.0, 2058.0, 2061.0, 2064.0, 2067.0, 2070.0, 2073.0, 2076.0, 2079.0, 2082.0, 2085.0, 2088.0, 2091.0, 2094.0, 2097.0, 2100.0, 2103.0, 2106.0, 2109.0, 2112.0, 2115.0, 2118.0, 2121.0, 2124.0, 2127.0, 2130.0, 2133.0, 2136.0, 2139.0, 2142.0, 2145.0, 2148.0, 2151.0, 2154.0, 2157.0, 2160.0, 2163.0, 2166.0, 2169.0, 2172.0, 2175.0, 2178.0, 2181.0, 2184.0, 2187.0, 2190.0, 2193.0, 2196.0, 2199.0, 2202.0, 2205.0, 2208.0, 2211.0, 2214.0, 2217.0, 2220.0, 2223.0, 2226.0, 2229.0, 2232.0, 2235.0, 2238.0, 2241.0, 2244.0, 2247.0, 2250.0, 2253.0, 2256.0, 2259.0, 2262.0, 2265.0, 2268.0, 2271.0, 2274.0, 2277.0, 2280.0, 2283.0, 2286.0, 2289.0, 2292.0, 2295.0, 2298.0, 2301.0, 2304.0, 2307.0, 2310.0, 2313.0, 2316.0, 2319.0, 2322.0, 2325.0, 2328.0, 2331.0, 2334.0, 2337.0, 2340.0, 2343.0, 2346.0, 2349.0, 2352.0, 2355.0, 2358.0, 2361.0, 2364.0, 2367.0, 2370.0, 2373.0, 2376.0, 2379.0, 2382.0, 2385.0, 2388.0, 2391.0, 2394.0, 2397.0, 2400.0, 2403.0, 2406.0, 2409.0, 2412.0, 2415.0, 2418.0, 2421.0, 2424.0, 2427.0, 2430.0, 2433.0, 2436.0, 2439.0, 2442.0, 2445.0, 2448.0, 2451.0, 2454.0, 2457.0, 2460.0, 2463.0, 2466.0, 2469.0, 2472.0, 2475.0, 2478.0, 2481.0, 2484.0, 2487.0, 2490.0, 2493.0, 2496.0, 2499.0, 2502.0, 2505.0, 2508.0, 2511.0, 2514.0, 2517.0, 2520.0, 2523.0, 2526.0, 2529.0, 2532.0, 2535.0, 2538.0, 2541.0, 2544.0, 2547.0, 2550.0, 2553.0, 2556.0, 2559.0, 2562.0, 2565.0, 2568.0, 2571.0, 2574.0, 2577.0, 2580.0, 2583.0, 2586.0, 2589.0, 2592.0, 2595.0, 2598.0, 2601.0, 2604.0, 2607.0, 2610.0, 2613.0, 2616.0, 2619.0, 2622.0, 2625.0, 2628.0, 2631.0, 2634.0, 2637.0, 2640.0, 2643.0, 2646.0, 2649.0, 2652.0, 2655.0, 2658.0, 2661.0, 2664.0, 2667.0, 2670.0, 2673.0, 2676.0, 2679.0, 2682.0, 2685.0, 2688.0, 2691.0, 2694.0, 2697.0, 2700.0, 2703.0, 2706.0, 2709.0, 2712.0, 2715.0, 2718.0, 2721.0, 2724.0, 2727.0, 2730.0, 2733.0, 2736.0, 2739.0, 2742.0, 2745.0, 2748.0, 2751.0, 2754.0, 2757.0, 2760.0, 2763.0, 2766.0, 2769.0, 2772.0, 2775.0, 2778.0, 2781.0, 2784.0, 2787.0, 2790.0, 2793.0, 2796.0, 2799.0, 2802.0, 2805.0, 2808.0, 2811.0, 2814.0, 2817.0, 2820.0, 2823.0, 2826.0, 2829.0, 2832.0, 2835.0, 2838.0, 2841.0, 2844.0, 2847.0, 2850.0, 2853.0, 2856.0, 2859.0, 2862.0, 2865.0, 2868.0, 2871.0, 2874.0, 2877.0, 2880.0, 2883.0, 2886.0, 2889.0, 2892.0, 2895.0, 2898.0, 2901.0, 2904.0, 2907.0, 2910.0, 2913.0, 2916.0, 2919.0, 2922.0, 2925.0, 2928.0, 2931.0, 2934.0, 2937.0, 2940.0, 2943.0, 2946.0, 2949.0, 2952.0, 2955.0, 2958.0, 2961.0, 2964.0, 2967.0, 2970.0, 2973.0, 2976.0, 2979.0, 2982.0, 2985.0, 2988.0, 2991.0, 2994.0, 2997.0, 3000.0], \"y\": [0.0, 0.018848439715408175, 0.03769018266993454, 0.05651853448202453, 0.07532680552793272, 0.09410831331851431, 0.11285638487348168, 0.1315643590922825, 0.15022558912075706, 0.16883344471273387, 0.1873813145857246, 0.20586260876988133, 0.22427076094938117, 0.2425992307954074, 0.26084150628989694, 0.2789911060392293, 0.2970415815770349, 0.3149865196553048, 0.3328195445229866, 0.35053432019125896, 0.3681245526846779, 0.38558399227739654, 0.40290643571366264, 0.42008572841180625, 0.4371157666509329, 0.45399049973954675, 0.4707039321653326, 0.4872501257253323, 0.5036232016357608, 0.5198173426207094, 0.5358267949789967, 0.5516458706284302, 0.5672689491267565, 0.5826904796685761, 0.5979049830575188, 0.6129070536529765, 0.6276913612907005, 0.6422526531765844, 0.6565857557529564, 0.67068557653672, 0.6845471059286886, 0.6981654189934727, 0.7115356772092853, 0.7246531301870466, 0.7375131173581739, 0.7501110696304595, 0.7624425110114479, 0.7745030601987337, 0.7862884321366188, 0.797794439538571, 0.8090169943749473, 0.8199521093254523, 0.8305958991958126, 0.840944582298169, 0.8509944817946917, 0.8607420270039435, 0.8701837546695257, 0.8793163101905562, 0.8881364488135445, 0.8966410367852359, 0.9048270524660196, 0.9126915874035028, 0.9202318473658703, 0.9274451533346614, 0.934328942456612, 0.9408807689542255, 0.9470983049947443, 0.9529793415172189, 0.9585217890173758, 0.9637236782900097, 0.9685831611286311, 0.9730985109821265, 0.9772681235681935, 0.9810905174433341, 0.9845643345292053, 0.9876883405951378, 0.9904614256966512, 0.9928826045698137, 0.9949510169813002, 0.9966659280340299, 0.9980267284282716, 0.9990329346781247, 0.9996841892832999, 0.9999802608561371, 0.9999210442038161, 0.9995065603657316, 0.9987369566060175, 0.9976125063612252, 0.9961336091431725, 0.9943007903969989, 0.9921147013144779, 0.9895761186026509, 0.986685944207868, 0.9834452049953297, 0.9798550523842469, 0.9759167619387474, 0.971631732914674, 0.9670014877624351, 0.9620276715860858, 0.9567120515588305, 0.9510565162951536, 0.9450630751798049, 0.9387338576538741, 0.932071112458211, 0.925077206834458, 0.9177546256839811, 0.9101059706849957, 0.9021339593682027, 0.8938414241512638, 0.8852313113324553, 0.8763066800438637, 0.8670707011644901, 0.8575266561936523, 0.8476779360850834, 0.8375280400421418, 0.8270805742745618, 0.816339250717184, 0.805307885711122, 0.7939903986478353, 0.7823908105765882, 0.7705132427757893, 0.7583619152887218, 0.7459411454241822, 0.73325534622256, 0.7203090248879072, 0.7071067811865476, 0.6936533058128049, 0.6799533787224193, 0.6660118674342517, 0.6518337253008787, 0.6374239897486899, 0.6227877804881126, 0.6079302976946053, 0.5928568201610593, 0.5775727034222676, 0.5620833778521308, 0.5463943467342691, 0.530511184306734, 0.5144395337815066, 0.4981851053394909, 0.4817536741017152, 0.46515107807745854, 0.4483832160900323, 0.43145604568095886, 0.4143755809932843, 0.3971478906347806, 0.37977909552180095, 0.3622753667045458, 0.34464292317451706, 0.32688802965494274, 0.3090169943749475, 0.29103616682827177, 0.27295193551732544, 0.2547707256833822, 0.2364989970237246, 0.21814324139654273, 0.19970998051440705, 0.18120576362713722, 0.16263716519488375, 0.14401078255225216, 0.12533323356430454, 0.10661115427526005, 0.08785119655074315, 0.06906002571440606, 0.05024431817976966, 0.03141075907812824, 0.012566039883352836, -0.006283143965558882, -0.02513009544333757, -0.04396811831786471, -0.06279051952931333, -0.08159061156815767, -0.10036171485121473, -0.11909716009486973, -0.1377902906846378, -0.15643446504023076, -0.1750230589752761, -0.19354946805086, -0.21200710992205457, -0.23038942667659065, -0.24868988716485457, -0.2669019893203755, -0.2850192624699762, -0.30303526963277383, -0.3209436098072095, -0.33873792024529153, -0.3564118787132506, -0.37395920573780045, -0.39137366683720215, -0.4086490747363489, -0.4257792915650727, -0.44275823103890133, -0.4595798606214878, -0.4762382036679392, -0.4927273415482914, -0.5090414157503713, -0.5251746299612958, -0.5411212521268757, -0.556875616488188, -0.5724321255945907, -0.587785252292473, -0.6029295416890247, -0.6178596130903341, -0.6325701619131244, -0.6470559615694443, -0.6613118653236517, -0.6753328081210244, -0.6891138083873485, -0.7026499697988491, -0.7159364830218311, -0.7289686274214116, -0.7417417727387391, -0.7542513807361038, -0.7664930068093496, -0.7784623015670236, -0.7901550123756904, -0.8015669848708764, -0.8126941644330942, -0.8235325976284275, -0.8340784336131715, -0.8443279255020147, -0.8542774316992952, -0.8639234171928352, -0.8732624548099204, -0.8822912264349534, -0.8910065241883682, -0.8994052515663709, -0.907484424541117, -0.9152411726209175, -0.922672739870115, -0.9297764858882515, -0.9365498867481923, -0.9429905358928643, -0.9490961449902947, -0.954864544746643, -0.9602936856769432, -0.965381638833274, -0.9701265964901058, -0.9745268727865771, -0.9785809043254722, -0.9822872507286887, -0.9856445951489982, -0.9886517447379141, -0.9913076310695066, -0.9936113105200084, -0.99556196460308, -0.9971589002606139, -0.9984015501089751, -0.9992894726405892, -0.999822352380809, -1.0, -0.999822352380809, -0.9992894726405892, -0.998401550108975, -0.9971589002606139, -0.99556196460308, -0.9936113105200084, -0.9913076310695065, -0.988651744737914, -0.985644595148998, -0.9822872507286887, -0.9785809043254721, -0.9745268727865771, -0.9701265964901057, -0.9653816388332738, -0.9602936856769431, -0.9548645447466431, -0.9490961449902945, -0.9429905358928644, -0.9365498867481922, -0.9297764858882516, -0.9226727398701148, -0.9152411726209176, -0.9074844245411168, -0.899405251566371, -0.8910065241883676, -0.8822912264349535, -0.8732624548099202, -0.8639234171928354, -0.8542774316992949, -0.8443279255020151, -0.8340784336131708, -0.8235325976284277, -0.8126941644330938, -0.8015669848708766, -0.7901550123756901, -0.7784623015670233, -0.7664930068093498, -0.7542513807361041, -0.7417417727387391, -0.7289686274214116, -0.7159364830218309, -0.702649969798849, -0.6891138083873485, -0.6753328081210246, -0.6613118653236516, -0.6470559615694442, -0.632570161913124, -0.6178596130903348, -0.6029295416890247, -0.5877852522924732, -0.5724321255945906, -0.556875616488188, -0.5411212521268752, -0.525174629961296, -0.5090414157503712, -0.4927273415482917, -0.4762382036679387, -0.4595798606214877, -0.4427582310389016, -0.425779291565073, -0.40864907473634887, -0.3913736668372025, -0.37395920573779995, -0.3564118787132505, -0.3387379202452914, -0.32094360980720976, -0.3030352696327737, -0.2850192624699761, -0.26690198932037495, -0.24868988716485535, -0.23038942667659057, -0.2120071099220549, -0.19354946805085993, -0.175023058975276, -0.15643446504023023, -0.13779029068463858, -0.11909716009486966, -0.1003617148512151, -0.08159061156815717, -0.06279051952931326, -0.04396811831786419, -0.025130095443337937, -0.0062831439655588045, 0.012566039883352469, 0.03141075907812876, 0.05024431817976974, 0.06906002571440568, 0.08785119655074278, 0.10661115427526012, 0.12533323356430418, 0.1440107825522527, 0.16263716519488383, 0.1812057636271373, 0.1997099805144067, 0.21814324139654281, 0.23649899702372468, 0.25477072568338277, 0.2729519355173247, 0.2910361668282719, 0.3090169943749472, 0.32688802965494285, 0.3446429231745171, 0.36227536670454635, 0.37977909552180067, 0.39714789063478073, 0.414375580993284, 0.43145604568095935, 0.4483832160900324, 0.46515107807745826, 0.48175367410171493, 0.498185105339491, 0.5144395337815064, 0.5305111843067345, 0.5463943467342692, 0.5620833778521306, 0.5775727034222673, 0.5928568201610595, 0.6079302976946054, 0.622787780488113, 0.63742398974869, 0.6518337253008788, 0.6660118674342514, 0.6799533787224195, 0.693653305812805, 0.7071067811865479, 0.7203090248879065, 0.73325534622256, 0.745941145424182, 0.758361915288722, 0.7705132427757893, 0.7823908105765885, 0.7939903986478349, 0.805307885711122, 0.8163392507171838, 0.827080574274562, 0.8375280400421418, 0.8476779360850831, 0.8575266561936521, 0.8670707011644901, 0.8763066800438635, 0.8852313113324555, 0.8938414241512639, 0.9021339593682027, 0.9101059706849955, 0.9177546256839813, 0.925077206834458, 0.9320711124582112, 0.9387338576538738, 0.9450630751798048, 0.9510565162951534, 0.9567120515588305, 0.9620276715860859, 0.9670014877624352, 0.9716317329146738, 0.9759167619387474, 0.9798550523842469, 0.9834452049953297, 0.986685944207868, 0.989576118602651, 0.9921147013144778, 0.9943007903969989, 0.9961336091431725, 0.9976125063612252, 0.9987369566060175, 0.9995065603657316, 0.9999210442038161, 0.9999802608561371, 0.9996841892832999, 0.9990329346781247, 0.9980267284282716, 0.9966659280340299, 0.9949510169813002, 0.9928826045698136, 0.9904614256966512, 0.9876883405951377, 0.9845643345292054, 0.9810905174433341, 0.9772681235681934, 0.9730985109821267, 0.9685831611286311, 0.9637236782900096, 0.9585217890173761, 0.9529793415172187, 0.9470983049947441, 0.9408807689542257, 0.934328942456612, 0.927445153334661, 0.9202318473658698, 0.9126915874035028, 0.90482705246602, 0.8966410367852361, 0.8881364488135445, 0.8793163101905568, 0.8701837546695259, 0.8607420270039435, 0.8509944817946915, 0.8409445822981693, 0.8305958991958126, 0.8199521093254518, 0.8090169943749466, 0.7977944395385719, 0.7862884321366195, 0.774503060198734, 0.7624425110114477, 0.7501110696304601, 0.7375131173581742, 0.7246531301870465, 0.7115356772092847, 0.6981654189934728, 0.6845471059286884, 0.6706855765367193, 0.6565857557529565, 0.6422526531765854, 0.627691361290701, 0.6129070536529766, 0.5979049830575185, 0.5826904796685767, 0.5672689491267566, 0.5516458706284298, 0.5358267949789957, 0.5198173426207096, 0.5036232016357604, 0.48725012572533133, 0.47070393216533263, 0.4539904997395479, 0.4371157666509335, 0.4200857284118063, 0.40290643571366214, 0.38558399227739715, 0.368124552684678, 0.35053432019125846, 0.3328195445229855, 0.3149865196553048, 0.2970415815770343, 0.2789911060392298, 0.2608415062898969, 0.2425992307954085, 0.22427076094938167, 0.20586260876988122, 0.18738131458572393, 0.16883344471273432, 0.15022558912075692, 0.13156435909228176, 0.11285638487348035, 0.09410831331851414, 0.07532680552793372, 0.05651853448202493, 0.03769018266993434, 0.018848439715409147, 3.6739403974420594e-16, -0.01884843971540841, -0.037690182669935374, -0.056518534482024194, -0.075326805527933, -0.0941083133185152, -0.11285638487348316, -0.13156435909228104, -0.1502255891207562, -0.16883344471273362, -0.18738131458572496, -0.20586260876988052, -0.22427076094938098, -0.2425992307954078, -0.26084150628989783, -0.27899110603922905, -0.29704158157703525, -0.3149865196553057, -0.33281954452298645, -0.35053432019125774, -0.36812455268467725, -0.3855839922773964, -0.4029064357136631, -0.4200857284118056, -0.4371157666509328, -0.4539904997395472, -0.4707039321653335, -0.4872501257253323, -0.5036232016357614, -0.519817342620709, -0.5358267949789967, -0.5516458706284293, -0.5672689491267561, -0.5826904796685761, -0.5979049830575194, -0.612907053652976, -0.6276913612907006, -0.6422526531765849, -0.6565857557529574, -0.6706855765367201, -0.684547105928688, -0.6981654189934724, -0.7115356772092853, -0.7246531301870459, -0.7375131173581736, -0.7501110696304596, -0.7624425110114483, -0.7745030601987335, -0.786288432136619, -0.7977944395385714, -0.8090169943749482, -0.8199521093254514, -0.8305958991958121, -0.8409445822981689, -0.850994481794692, -0.8607420270039432, -0.8701837546695255, -0.8793163101905563, -0.8881364488135449, -0.8966410367852358, -0.9048270524660197, -0.9126915874035032, -0.9202318473658709, -0.9274451533346608, -0.9343289424566117, -0.9408807689542253, -0.9470983049947443, -0.9529793415172185, -0.9585217890173758, -0.9637236782900098, -0.9685831611286314, -0.9730985109821265, -0.9772681235681936, -0.9810905174433343, -0.9845643345292053, -0.9876883405951375, -0.9904614256966511, -0.9928826045698137, -0.9949510169813002, -0.9966659280340299, -0.9980267284282716, -0.9990329346781247, -0.9996841892833, -0.9999802608561371, -0.9999210442038161, -0.9995065603657316, -0.9987369566060175, -0.9976125063612253, -0.9961336091431725, -0.9943007903969989, -0.9921147013144778, -0.989576118602651, -0.986685944207868, -0.9834452049953295, -0.9798550523842466, -0.9759167619387473, -0.9716317329146742, -0.9670014877624352, -0.9620276715860858, -0.9567120515588308, -0.9510565162951538, -0.9450630751798048, -0.9387338576538738, -0.9320711124582112, -0.9250772068344579, -0.9177546256839808, -0.9101059706849951, -0.9021339593682035, -0.8938414241512642, -0.8852313113324554, -0.8763066800438635, -0.8670707011644905, -0.8575266561936524, -0.8476779360850831, -0.8375280400421412, -0.8270805742745619, -0.8163392507171838, -0.8053078857111214, -0.7939903986478355, -0.782390810576589, -0.7705132427757897, -0.758361915288722, -0.7459411454241819, -0.7332553462225606, -0.720309024887907, -0.7071067811865472, -0.6936533058128042, -0.6799533787224192, -0.6660118674342512, -0.6518337253008792, -0.6374239897486897, -0.6227877804881135, -0.6079302976946059, -0.5928568201610592, -0.5775727034222671, -0.5620833778521311, -0.5463943467342691, -0.5305111843067335, -0.5144395337815054, -0.4981851053394908, -0.48175367410171627, -0.46515107807745887, -0.44838321609003223, -0.43145604568096, -0.41437558099328464, -0.39714789063478056, -0.3797790955218005, -0.3622753667045462, -0.344642923174517, -0.32688802965494185, -0.3090169943749462, -0.2910361668282717, -0.27295193551732627, -0.2547707256833826, -0.23649899702372454, -0.21814324139654356, -0.19970998051440744, -0.18120576362713717, -0.16263716519488283, -0.14401078255225255, -0.12533323356430404, -0.10661115427525909, -0.08785119655074175, -0.06906002571440731, -0.05024431817977047, -0.031410759078128604, -0.012566039883352314, 0.00628314396555807, 0.025130095443337202, 0.04396811831786523, 0.0627905195293143, 0.0815906115681573, 0.10036171485121526, 0.1190971600948707, 0.13779029068463786, 0.15643446504022948, 0.17502305897527526, 0.19354946805086007, 0.21200710992205504, 0.23038942667658985, 0.24868988716485463, 0.266901989320376, 0.28501926246997716, 0.30303526963277383, 0.32094360980720993, 0.3387379202452907, 0.35641187871325064, 0.3739592057377993, 0.3913736668372018, 0.408649074736349, 0.42577929156507316, 0.442758231038901, 0.45957986062148787, 0.4762382036679396, 0.4927273415482927, 0.5090414157503713, 0.5251746299612947, 0.5411212521268755, 0.5568756164881881, 0.57243212559459, 0.5877852522924728, 0.6029295416890248, 0.6178596130903349, 0.6325701619131241, 0.6470559615694444, 0.6613118653236525, 0.6753328081210255, 0.6891138083873474, 0.7026499697988485, 0.7159364830218309, 0.7289686274214117, 0.7417417727387385, 0.7542513807361035, 0.76649300680935, 0.778462301567024, 0.7901550123756902, 0.8015669848708767, 0.8126941644330945, 0.8235325976284272, 0.8340784336131704, 0.8443279255020146, 0.854277431699295, 0.8639234171928355, 0.8732624548099197, 0.8822912264349532, 0.891006524188368, 0.8994052515663714, 0.9074844245411169, 0.9152411726209178, 0.9226727398701152, 0.9297764858882513, 0.9365498867481918, 0.9429905358928642, 0.9490961449902945, 0.9548645447466431, 0.9602936856769428, 0.9653816388332739, 0.9701265964901059, 0.9745268727865773, 0.9785809043254721, 0.9822872507286888, 0.9856445951489979, 0.988651744737914, 0.9913076310695064, 0.9936113105200083, 0.99556196460308, 0.9971589002606139, 0.998401550108975, 0.9992894726405892, 0.9998223523808091, 1.0, 0.999822352380809, 0.9992894726405893, 0.998401550108975, 0.9971589002606139, 0.9955619646030801, 0.9936113105200085, 0.9913076310695066, 0.988651744737914, 0.9856445951489982, 0.9822872507286886, 0.978580904325472, 0.9745268727865768, 0.9701265964901062, 0.9653816388332741, 0.9602936856769432, 0.9548645447466428, 0.9490961449902949, 0.9429905358928646, 0.9365498867481923, 0.9297764858882511, 0.922672739870115, 0.9152411726209174, 0.9074844245411166, 0.8994052515663712, 0.8910065241883686, 0.8822912264349537, 0.8732624548099203, 0.8639234171928352, 0.8542774316992956, 0.8443279255020152, 0.834078433613171, 0.8235325976284269, 0.8126941644330941, 0.8015669848708763, 0.7901550123756909, 0.7784623015670236, 0.7664930068093507, 0.7542513807361043, 0.7417417727387393, 0.7289686274214111, 0.7159364830218317, 0.7026499697988493, 0.6891138083873481, 0.6753328081210237, 0.6613118653236519, 0.6470559615694453, 0.632570161913125, 0.6178596130903344, 0.6029295416890257, 0.5877852522924737, 0.5724321255945909, 0.5568756164881875, 0.5411212521268763, 0.5251746299612957, 0.5090414157503708, 0.4927273415482905, 0.4762382036679406, 0.4595798606214888, 0.442758231038902, 0.42577929156507255, 0.40864907473635004, 0.3913736668372028, 0.3739592057378003, 0.35641187871325, 0.33873792024529176, 0.3209436098072093, 0.3030352696327732, 0.2850192624699748, 0.26690198932037706, 0.2486898871648557, 0.23038942667659093, 0.2120071099220544, 0.19354946805086118, 0.17502305897527637, 0.1564344650402306, 0.1377902906846372, 0.11909716009487002, 0.10036171485121458, 0.08159061156815664, 0.06279051952931362, 0.04396811831786633, 0.0251300954433383, 0.006283143965559172, -0.012566039883352989, -0.03141075907812751, -0.05024431817976937, -0.06906002571440621, -0.08785119655074419, -0.10661115427525976, -0.1253332335643047, -0.14401078255225144, -0.1626371651948835, -0.18120576362713608, -0.19970998051440633, -0.21814324139654248, -0.23649899702372518, -0.25477072568338155, -0.27295193551732516, -0.29103616682827066, -0.3090169943749485, -0.32688802965494246, -0.34464292317451595, -0.36227536670454347, -0.3797790955218011, -0.39714789063477957, -0.41437558099328525, -0.431456045680959, -0.44838321609003123, -0.4651510780774595, -0.4817536741017153, -0.49818510533948984, -0.5144395337815075, -0.530511184306734, -0.5463943467342681, -0.5620833778521287, -0.5775727034222676, -0.5928568201610583, -0.6079302976946064, -0.6227877804881126, -0.6374239897486889, -0.6518337253008771, -0.6660118674342518, -0.6799533787224185, -0.6936533058128059, -0.7071067811865477, -0.7203090248879087, -0.7332553462225586, -0.7459411454241823, -0.7583619152887213, -0.7705132427757879, -0.7823908105765883, -0.7939903986478348, -0.8053078857111229, -0.8163392507171842, -0.8270805742745614, -0.8375280400421407, -0.8476779360850835, -0.8575266561936519, -0.8670707011644908, -0.8763066800438638, -0.8852313113324548, -0.8938414241512646, -0.9021339593682015, -0.9101059706849954, -0.9177546256839804, -0.9250772068344583, -0.9320711124582107, -0.9387338576538746, -0.945063075179805, -0.9510565162951544, -0.95671205155883, -0.962027671586085, -0.9670014877624349, -0.9716317329146735, -0.9759167619387475, -0.9798550523842467, -0.9834452049953301, -0.9866859442078681, -0.9895761186026509, -0.9921147013144777, -0.9943007903969989, -0.9961336091431724, -0.9976125063612251, -0.9987369566060176, -0.9995065603657315, -0.9999210442038161, -0.9999802608561371, -0.9996841892832999, -0.9990329346781248, -0.9980267284282716, -0.9966659280340299, -0.9949510169813, -0.9928826045698136, -0.9904614256966513, -0.987688340595138, -0.9845643345292059, -0.9810905174433342, -0.9772681235681938, -0.9730985109821264, -0.9685831611286312, -0.9637236782900092, -0.9585217890173756, -0.9529793415172189, -0.9470983049947448, -0.9408807689542263, -0.9343289424566121, -0.9274451533346618, -0.9202318473658699, -0.9126915874035029, -0.9048270524660186, -0.896641036785237, -0.8881364488135446, -0.8793163101905569, -0.8701837546695252, -0.8607420270039438, -0.8509944817946906, -0.8409445822981685, -0.8305958991958127, -0.819952109325453, -0.8090169943749489, -0.797794439538571, -0.7862884321366197, -0.774503060198733, -0.7624425110114479, -0.750111069630458, -0.737513117358173, -0.7246531301870467, -0.7115356772092862, -0.6981654189934744, -0.6845471059286887, -0.670685576536721, -0.6565857557529555, -0.6422526531765844, -0.6276913612906987, -0.6129070536529784, -0.5979049830575188, -0.582690479668577, -0.5672689491267555, -0.5516458706284302, -0.5358267949789975, -0.5198173426207084, -0.5036232016357608, -0.48725012572533327, -0.4707039321653345, -0.45399049973954664, -0.43711576665093377, -0.42008572841180497, -0.40290643571366247, -0.38558399227739415, -0.36812455268467664, -0.3505343201912621, -0.3328195445229875, -0.3149865196553068, -0.29704158157703464, -0.2789911060392301, -0.2608415062898955, -0.24259923079540713, -0.22427076094937856, -0.2058626087698833, -0.1873813145857243, -0.16883344471273468, -0.15022558912075903, -0.13156435909228212, -0.11285638487348248, -0.09410831331851274, -0.07532680552793232, -0.0565185344820253, -0.03769018266993648, -0.018848439715407738, -7.347880794884119e-16]}],\n",
       "                        {\"legend\": {\"bgcolor\": \"#FFFFFF\", \"font\": {\"color\": \"#4D5663\"}}, \"paper_bgcolor\": \"#FFFFFF\", \"plot_bgcolor\": \"#FFFFFF\", \"template\": {\"data\": {\"bar\": [{\"error_x\": {\"color\": \"#2a3f5f\"}, \"error_y\": {\"color\": \"#2a3f5f\"}, \"marker\": {\"line\": {\"color\": \"#E5ECF6\", \"width\": 0.5}}, \"type\": \"bar\"}], \"barpolar\": [{\"marker\": {\"line\": {\"color\": \"#E5ECF6\", \"width\": 0.5}}, \"type\": \"barpolar\"}], \"carpet\": [{\"aaxis\": {\"endlinecolor\": \"#2a3f5f\", \"gridcolor\": \"white\", \"linecolor\": \"white\", \"minorgridcolor\": \"white\", \"startlinecolor\": \"#2a3f5f\"}, \"baxis\": {\"endlinecolor\": \"#2a3f5f\", \"gridcolor\": \"white\", \"linecolor\": \"white\", \"minorgridcolor\": \"white\", \"startlinecolor\": \"#2a3f5f\"}, \"type\": \"carpet\"}], \"choropleth\": [{\"colorbar\": {\"outlinewidth\": 0, \"ticks\": \"\"}, \"type\": \"choropleth\"}], \"contour\": [{\"colorbar\": {\"outlinewidth\": 0, \"ticks\": \"\"}, \"colorscale\": [[0.0, \"#0d0887\"], [0.1111111111111111, \"#46039f\"], [0.2222222222222222, \"#7201a8\"], [0.3333333333333333, \"#9c179e\"], [0.4444444444444444, \"#bd3786\"], [0.5555555555555556, \"#d8576b\"], [0.6666666666666666, \"#ed7953\"], [0.7777777777777778, \"#fb9f3a\"], [0.8888888888888888, \"#fdca26\"], [1.0, \"#f0f921\"]], \"type\": \"contour\"}], \"contourcarpet\": [{\"colorbar\": {\"outlinewidth\": 0, \"ticks\": \"\"}, \"type\": \"contourcarpet\"}], \"heatmap\": [{\"colorbar\": {\"outlinewidth\": 0, \"ticks\": \"\"}, \"colorscale\": [[0.0, \"#0d0887\"], [0.1111111111111111, \"#46039f\"], [0.2222222222222222, \"#7201a8\"], [0.3333333333333333, \"#9c179e\"], [0.4444444444444444, \"#bd3786\"], [0.5555555555555556, \"#d8576b\"], [0.6666666666666666, \"#ed7953\"], [0.7777777777777778, \"#fb9f3a\"], [0.8888888888888888, \"#fdca26\"], [1.0, \"#f0f921\"]], \"type\": \"heatmap\"}], \"heatmapgl\": [{\"colorbar\": {\"outlinewidth\": 0, \"ticks\": \"\"}, \"colorscale\": [[0.0, \"#0d0887\"], [0.1111111111111111, \"#46039f\"], [0.2222222222222222, \"#7201a8\"], [0.3333333333333333, \"#9c179e\"], [0.4444444444444444, \"#bd3786\"], [0.5555555555555556, \"#d8576b\"], [0.6666666666666666, \"#ed7953\"], [0.7777777777777778, \"#fb9f3a\"], [0.8888888888888888, \"#fdca26\"], [1.0, \"#f0f921\"]], \"type\": \"heatmapgl\"}], \"histogram\": [{\"marker\": {\"colorbar\": {\"outlinewidth\": 0, \"ticks\": \"\"}}, \"type\": \"histogram\"}], \"histogram2d\": [{\"colorbar\": {\"outlinewidth\": 0, \"ticks\": \"\"}, \"colorscale\": [[0.0, \"#0d0887\"], [0.1111111111111111, \"#46039f\"], [0.2222222222222222, \"#7201a8\"], [0.3333333333333333, \"#9c179e\"], [0.4444444444444444, \"#bd3786\"], [0.5555555555555556, \"#d8576b\"], [0.6666666666666666, \"#ed7953\"], [0.7777777777777778, \"#fb9f3a\"], [0.8888888888888888, \"#fdca26\"], [1.0, \"#f0f921\"]], \"type\": \"histogram2d\"}], \"histogram2dcontour\": [{\"colorbar\": {\"outlinewidth\": 0, \"ticks\": \"\"}, \"colorscale\": [[0.0, \"#0d0887\"], [0.1111111111111111, \"#46039f\"], [0.2222222222222222, \"#7201a8\"], [0.3333333333333333, \"#9c179e\"], [0.4444444444444444, \"#bd3786\"], [0.5555555555555556, \"#d8576b\"], [0.6666666666666666, \"#ed7953\"], [0.7777777777777778, \"#fb9f3a\"], [0.8888888888888888, \"#fdca26\"], [1.0, \"#f0f921\"]], \"type\": \"histogram2dcontour\"}], \"mesh3d\": [{\"colorbar\": {\"outlinewidth\": 0, \"ticks\": \"\"}, \"type\": \"mesh3d\"}], \"parcoords\": [{\"line\": {\"colorbar\": {\"outlinewidth\": 0, \"ticks\": \"\"}}, \"type\": \"parcoords\"}], \"scatter\": [{\"marker\": {\"colorbar\": {\"outlinewidth\": 0, \"ticks\": \"\"}}, \"type\": \"scatter\"}], \"scatter3d\": [{\"line\": {\"colorbar\": {\"outlinewidth\": 0, \"ticks\": \"\"}}, \"marker\": {\"colorbar\": {\"outlinewidth\": 0, \"ticks\": \"\"}}, \"type\": \"scatter3d\"}], \"scattercarpet\": [{\"marker\": {\"colorbar\": {\"outlinewidth\": 0, \"ticks\": \"\"}}, \"type\": \"scattercarpet\"}], \"scattergeo\": [{\"marker\": {\"colorbar\": {\"outlinewidth\": 0, \"ticks\": \"\"}}, \"type\": \"scattergeo\"}], \"scattergl\": [{\"marker\": {\"colorbar\": {\"outlinewidth\": 0, \"ticks\": \"\"}}, \"type\": \"scattergl\"}], \"scattermapbox\": [{\"marker\": {\"colorbar\": {\"outlinewidth\": 0, \"ticks\": \"\"}}, \"type\": \"scattermapbox\"}], \"scatterpolar\": [{\"marker\": {\"colorbar\": {\"outlinewidth\": 0, \"ticks\": \"\"}}, \"type\": \"scatterpolar\"}], \"scatterpolargl\": [{\"marker\": {\"colorbar\": {\"outlinewidth\": 0, \"ticks\": \"\"}}, \"type\": \"scatterpolargl\"}], \"scatterternary\": [{\"marker\": {\"colorbar\": {\"outlinewidth\": 0, \"ticks\": \"\"}}, \"type\": \"scatterternary\"}], \"surface\": [{\"colorbar\": {\"outlinewidth\": 0, \"ticks\": \"\"}, \"colorscale\": [[0.0, \"#0d0887\"], [0.1111111111111111, \"#46039f\"], [0.2222222222222222, \"#7201a8\"], [0.3333333333333333, \"#9c179e\"], [0.4444444444444444, \"#bd3786\"], [0.5555555555555556, \"#d8576b\"], [0.6666666666666666, \"#ed7953\"], [0.7777777777777778, \"#fb9f3a\"], [0.8888888888888888, \"#fdca26\"], [1.0, \"#f0f921\"]], \"type\": \"surface\"}], \"table\": [{\"cells\": {\"fill\": {\"color\": \"#EBF0F8\"}, \"line\": {\"color\": \"white\"}}, \"header\": {\"fill\": {\"color\": \"#C8D4E3\"}, \"line\": {\"color\": \"white\"}}, \"type\": \"table\"}]}, \"layout\": {\"annotationdefaults\": {\"arrowcolor\": \"#2a3f5f\", \"arrowhead\": 0, \"arrowwidth\": 1}, \"colorscale\": {\"diverging\": [[0, \"#8e0152\"], [0.1, \"#c51b7d\"], [0.2, \"#de77ae\"], [0.3, \"#f1b6da\"], [0.4, \"#fde0ef\"], [0.5, \"#f7f7f7\"], [0.6, \"#e6f5d0\"], [0.7, \"#b8e186\"], [0.8, \"#7fbc41\"], [0.9, \"#4d9221\"], [1, \"#276419\"]], \"sequential\": [[0.0, \"#0d0887\"], [0.1111111111111111, \"#46039f\"], [0.2222222222222222, \"#7201a8\"], [0.3333333333333333, \"#9c179e\"], [0.4444444444444444, \"#bd3786\"], [0.5555555555555556, \"#d8576b\"], [0.6666666666666666, \"#ed7953\"], [0.7777777777777778, \"#fb9f3a\"], [0.8888888888888888, \"#fdca26\"], [1.0, \"#f0f921\"]], \"sequentialminus\": [[0.0, \"#0d0887\"], [0.1111111111111111, \"#46039f\"], [0.2222222222222222, \"#7201a8\"], [0.3333333333333333, \"#9c179e\"], [0.4444444444444444, \"#bd3786\"], [0.5555555555555556, \"#d8576b\"], [0.6666666666666666, \"#ed7953\"], [0.7777777777777778, \"#fb9f3a\"], [0.8888888888888888, \"#fdca26\"], [1.0, \"#f0f921\"]]}, \"colorway\": [\"#636efa\", \"#EF553B\", \"#00cc96\", \"#ab63fa\", \"#FFA15A\", \"#19d3f3\", \"#FF6692\", \"#B6E880\", \"#FF97FF\", \"#FECB52\"], \"font\": {\"color\": \"#2a3f5f\"}, \"geo\": {\"bgcolor\": \"white\", \"lakecolor\": \"white\", \"landcolor\": \"#E5ECF6\", \"showlakes\": true, \"showland\": true, \"subunitcolor\": \"white\"}, \"hoverlabel\": {\"align\": \"left\"}, \"hovermode\": \"closest\", \"mapbox\": {\"style\": \"light\"}, \"paper_bgcolor\": \"white\", \"plot_bgcolor\": \"#E5ECF6\", \"polar\": {\"angularaxis\": {\"gridcolor\": \"white\", \"linecolor\": \"white\", \"ticks\": \"\"}, \"bgcolor\": \"#E5ECF6\", \"radialaxis\": {\"gridcolor\": \"white\", \"linecolor\": \"white\", \"ticks\": \"\"}}, \"scene\": {\"xaxis\": {\"backgroundcolor\": \"#E5ECF6\", \"gridcolor\": \"white\", \"gridwidth\": 2, \"linecolor\": \"white\", \"showbackground\": true, \"ticks\": \"\", \"zerolinecolor\": \"white\"}, \"yaxis\": {\"backgroundcolor\": \"#E5ECF6\", \"gridcolor\": \"white\", \"gridwidth\": 2, \"linecolor\": \"white\", \"showbackground\": true, \"ticks\": \"\", \"zerolinecolor\": \"white\"}, \"zaxis\": {\"backgroundcolor\": \"#E5ECF6\", \"gridcolor\": \"white\", \"gridwidth\": 2, \"linecolor\": \"white\", \"showbackground\": true, \"ticks\": \"\", \"zerolinecolor\": \"white\"}}, \"shapedefaults\": {\"line\": {\"color\": \"#2a3f5f\"}}, \"ternary\": {\"aaxis\": {\"gridcolor\": \"white\", \"linecolor\": \"white\", \"ticks\": \"\"}, \"baxis\": {\"gridcolor\": \"white\", \"linecolor\": \"white\", \"ticks\": \"\"}, \"bgcolor\": \"#E5ECF6\", \"caxis\": {\"gridcolor\": \"white\", \"linecolor\": \"white\", \"ticks\": \"\"}}, \"title\": {\"x\": 0.05}, \"xaxis\": {\"automargin\": true, \"gridcolor\": \"white\", \"linecolor\": \"white\", \"ticks\": \"\", \"zerolinecolor\": \"white\", \"zerolinewidth\": 2}, \"yaxis\": {\"automargin\": true, \"gridcolor\": \"white\", \"linecolor\": \"white\", \"ticks\": \"\", \"zerolinecolor\": \"white\", \"zerolinewidth\": 2}}}, \"title\": {\"font\": {\"color\": \"#4D5663\"}, \"text\": \"Input\"}, \"xaxis\": {\"gridcolor\": \"#E1E5ED\", \"showgrid\": true, \"tickfont\": {\"color\": \"#4D5663\"}, \"title\": {\"font\": {\"color\": \"#4D5663\"}, \"text\": \"T\"}, \"zerolinecolor\": \"#E1E5ED\"}, \"yaxis\": {\"gridcolor\": \"#E1E5ED\", \"showgrid\": true, \"tickfont\": {\"color\": \"#4D5663\"}, \"title\": {\"font\": {\"color\": \"#4D5663\"}, \"text\": \"S\"}, \"zerolinecolor\": \"#E1E5ED\"}},\n",
       "                        {\"showLink\": true, \"linkText\": \"Export to plot.ly\", \"plotlyServerURL\": \"https://plot.ly\", \"responsive\": true}\n",
       "                    ).then(function(){\n",
       "                            \n",
       "var gd = document.getElementById('aaafd611-84b5-4d18-8d73-f6c5788cdfca');\n",
       "var x = new MutationObserver(function (mutations, observer) {{\n",
       "        var display = window.getComputedStyle(gd).display;\n",
       "        if (!display || display === 'none') {{\n",
       "            console.log([gd, 'removed!']);\n",
       "            Plotly.purge(gd);\n",
       "            observer.disconnect();\n",
       "        }}\n",
       "}});\n",
       "\n",
       "// Listen for the removal of the full notebook cells\n",
       "var notebookContainer = gd.closest('#notebook-container');\n",
       "if (notebookContainer) {{\n",
       "    x.observe(notebookContainer, {childList: true});\n",
       "}}\n",
       "\n",
       "// Listen for the clearing of the current output cell\n",
       "var outputEl = gd.closest('.output');\n",
       "if (outputEl) {{\n",
       "    x.observe(outputEl, {childList: true});\n",
       "}}\n",
       "\n",
       "                        })\n",
       "                };\n",
       "                });\n",
       "            </script>\n",
       "        </div>"
      ]
     },
     "metadata": {},
     "output_type": "display_data"
    },
    {
     "data": {
      "application/vnd.plotly.v1+json": {
       "config": {
        "linkText": "Export to plot.ly",
        "plotlyServerURL": "https://plot.ly",
        "showLink": true
       },
       "data": [
        {
         "line": {
          "color": "rgba(255, 153, 51, 1.0)",
          "dash": "solid",
          "shape": "linear",
          "width": 1.3
         },
         "mode": "lines",
         "name": "0",
         "text": "",
         "type": "scatter",
         "x": [
          0,
          3,
          6,
          9,
          12,
          15,
          18,
          21,
          24,
          27,
          30,
          33,
          36,
          39,
          42,
          45,
          48,
          51,
          54,
          57,
          60,
          63,
          66,
          69,
          72,
          75,
          78,
          81,
          84,
          87,
          90,
          93,
          96,
          99,
          102,
          105,
          108,
          111,
          114,
          117,
          120,
          123,
          126,
          129,
          132,
          135,
          138,
          141,
          144,
          147,
          150,
          153,
          156,
          159,
          162,
          165,
          168,
          171,
          174,
          177,
          180,
          183,
          186,
          189,
          192,
          195,
          198,
          201,
          204,
          207,
          210,
          213,
          216,
          219,
          222,
          225,
          228,
          231,
          234,
          237,
          240,
          243,
          246,
          249,
          252,
          255,
          258,
          261,
          264,
          267,
          270,
          273,
          276,
          279,
          282,
          285,
          288,
          291,
          294,
          297,
          300,
          303,
          306,
          309,
          312,
          315,
          318,
          321,
          324,
          327,
          330,
          333,
          336,
          339,
          342,
          345,
          348,
          351,
          354,
          357,
          360,
          363,
          366,
          369,
          372,
          375,
          378,
          381,
          384,
          387,
          390,
          393,
          396,
          399,
          402,
          405,
          408,
          411,
          414,
          417,
          420,
          423,
          426,
          429,
          432,
          435,
          438,
          441,
          444,
          447,
          450,
          453,
          456,
          459,
          462,
          465,
          468,
          471,
          474,
          477,
          480,
          483,
          486,
          489,
          492,
          495,
          498,
          501,
          504,
          507,
          510,
          513,
          516,
          519,
          522,
          525,
          528,
          531,
          534,
          537,
          540,
          543,
          546,
          549,
          552,
          555,
          558,
          561,
          564,
          567,
          570,
          573,
          576,
          579,
          582,
          585,
          588,
          591,
          594,
          597,
          600,
          603,
          606,
          609,
          612,
          615,
          618,
          621,
          624,
          627,
          630,
          633,
          636,
          639,
          642,
          645,
          648,
          651,
          654,
          657,
          660,
          663,
          666,
          669,
          672,
          675,
          678,
          681,
          684,
          687,
          690,
          693,
          696,
          699,
          702,
          705,
          708,
          711,
          714,
          717,
          720,
          723,
          726,
          729,
          732,
          735,
          738,
          741,
          744,
          747,
          750,
          753,
          756,
          759,
          762,
          765,
          768,
          771,
          774,
          777,
          780,
          783,
          786,
          789,
          792,
          795,
          798,
          801,
          804,
          807,
          810,
          813,
          816,
          819,
          822,
          825,
          828,
          831,
          834,
          837,
          840,
          843,
          846,
          849,
          852,
          855,
          858,
          861,
          864,
          867,
          870,
          873,
          876,
          879,
          882,
          885,
          888,
          891,
          894,
          897,
          900,
          903,
          906,
          909,
          912,
          915,
          918,
          921,
          924,
          927,
          930,
          933,
          936,
          939,
          942,
          945,
          948,
          951,
          954,
          957,
          960,
          963,
          966,
          969,
          972,
          975,
          978,
          981,
          984,
          987,
          990,
          993,
          996,
          999,
          1002,
          1005,
          1008,
          1011,
          1014,
          1017,
          1020,
          1023,
          1026,
          1029,
          1032,
          1035,
          1038,
          1041,
          1044,
          1047,
          1050,
          1053,
          1056,
          1059,
          1062,
          1065,
          1068,
          1071,
          1074,
          1077,
          1080,
          1083,
          1086,
          1089,
          1092,
          1095,
          1098,
          1101,
          1104,
          1107,
          1110,
          1113,
          1116,
          1119,
          1122,
          1125,
          1128,
          1131,
          1134,
          1137,
          1140,
          1143,
          1146,
          1149,
          1152,
          1155,
          1158,
          1161,
          1164,
          1167,
          1170,
          1173,
          1176,
          1179,
          1182,
          1185,
          1188,
          1191,
          1194,
          1197,
          1200,
          1203,
          1206,
          1209,
          1212,
          1215,
          1218,
          1221,
          1224,
          1227,
          1230,
          1233,
          1236,
          1239,
          1242,
          1245,
          1248,
          1251,
          1254,
          1257,
          1260,
          1263,
          1266,
          1269,
          1272,
          1275,
          1278,
          1281,
          1284,
          1287,
          1290,
          1293,
          1296,
          1299,
          1302,
          1305,
          1308,
          1311,
          1314,
          1317,
          1320,
          1323,
          1326,
          1329,
          1332,
          1335,
          1338,
          1341,
          1344,
          1347,
          1350,
          1353,
          1356,
          1359,
          1362,
          1365,
          1368,
          1371,
          1374,
          1377,
          1380,
          1383,
          1386,
          1389,
          1392,
          1395,
          1398,
          1401,
          1404,
          1407,
          1410,
          1413,
          1416,
          1419,
          1422,
          1425,
          1428,
          1431,
          1434,
          1437,
          1440,
          1443,
          1446,
          1449,
          1452,
          1455,
          1458,
          1461,
          1464,
          1467,
          1470,
          1473,
          1476,
          1479,
          1482,
          1485,
          1488,
          1491,
          1494,
          1497,
          1500,
          1503,
          1506,
          1509,
          1512,
          1515,
          1518,
          1521,
          1524,
          1527,
          1530,
          1533,
          1536,
          1539,
          1542,
          1545,
          1548,
          1551,
          1554,
          1557,
          1560,
          1563,
          1566,
          1569,
          1572,
          1575,
          1578,
          1581,
          1584,
          1587,
          1590,
          1593,
          1596,
          1599,
          1602,
          1605,
          1608,
          1611,
          1614,
          1617,
          1620,
          1623,
          1626,
          1629,
          1632,
          1635,
          1638,
          1641,
          1644,
          1647,
          1650,
          1653,
          1656,
          1659,
          1662,
          1665,
          1668,
          1671,
          1674,
          1677,
          1680,
          1683,
          1686,
          1689,
          1692,
          1695,
          1698,
          1701,
          1704,
          1707,
          1710,
          1713,
          1716,
          1719,
          1722,
          1725,
          1728,
          1731,
          1734,
          1737,
          1740,
          1743,
          1746,
          1749,
          1752,
          1755,
          1758,
          1761,
          1764,
          1767,
          1770,
          1773,
          1776,
          1779,
          1782,
          1785,
          1788,
          1791,
          1794,
          1797,
          1800,
          1803,
          1806,
          1809,
          1812,
          1815,
          1818,
          1821,
          1824,
          1827,
          1830,
          1833,
          1836,
          1839,
          1842,
          1845,
          1848,
          1851,
          1854,
          1857,
          1860,
          1863,
          1866,
          1869,
          1872,
          1875,
          1878,
          1881,
          1884,
          1887,
          1890,
          1893,
          1896,
          1899,
          1902,
          1905,
          1908,
          1911,
          1914,
          1917,
          1920,
          1923,
          1926,
          1929,
          1932,
          1935,
          1938,
          1941,
          1944,
          1947,
          1950,
          1953,
          1956,
          1959,
          1962,
          1965,
          1968,
          1971,
          1974,
          1977,
          1980,
          1983,
          1986,
          1989,
          1992,
          1995,
          1998,
          2001,
          2004,
          2007,
          2010,
          2013,
          2016,
          2019,
          2022,
          2025,
          2028,
          2031,
          2034,
          2037,
          2040,
          2043,
          2046,
          2049,
          2052,
          2055,
          2058,
          2061,
          2064,
          2067,
          2070,
          2073,
          2076,
          2079,
          2082,
          2085,
          2088,
          2091,
          2094,
          2097,
          2100,
          2103,
          2106,
          2109,
          2112,
          2115,
          2118,
          2121,
          2124,
          2127,
          2130,
          2133,
          2136,
          2139,
          2142,
          2145,
          2148,
          2151,
          2154,
          2157,
          2160,
          2163,
          2166,
          2169,
          2172,
          2175,
          2178,
          2181,
          2184,
          2187,
          2190,
          2193,
          2196,
          2199,
          2202,
          2205,
          2208,
          2211,
          2214,
          2217,
          2220,
          2223,
          2226,
          2229,
          2232,
          2235,
          2238,
          2241,
          2244,
          2247,
          2250,
          2253,
          2256,
          2259,
          2262,
          2265,
          2268,
          2271,
          2274,
          2277,
          2280,
          2283,
          2286,
          2289,
          2292,
          2295,
          2298,
          2301,
          2304,
          2307,
          2310,
          2313,
          2316,
          2319,
          2322,
          2325,
          2328,
          2331,
          2334,
          2337,
          2340,
          2343,
          2346,
          2349,
          2352,
          2355,
          2358,
          2361,
          2364,
          2367,
          2370,
          2373,
          2376,
          2379,
          2382,
          2385,
          2388,
          2391,
          2394,
          2397,
          2400,
          2403,
          2406,
          2409,
          2412,
          2415,
          2418,
          2421,
          2424,
          2427,
          2430,
          2433,
          2436,
          2439,
          2442,
          2445,
          2448,
          2451,
          2454,
          2457,
          2460,
          2463,
          2466,
          2469,
          2472,
          2475,
          2478,
          2481,
          2484,
          2487,
          2490,
          2493,
          2496,
          2499,
          2502,
          2505,
          2508,
          2511,
          2514,
          2517,
          2520,
          2523,
          2526,
          2529,
          2532,
          2535,
          2538,
          2541,
          2544,
          2547,
          2550,
          2553,
          2556,
          2559,
          2562,
          2565,
          2568,
          2571,
          2574,
          2577,
          2580,
          2583,
          2586,
          2589,
          2592,
          2595,
          2598,
          2601,
          2604,
          2607,
          2610,
          2613,
          2616,
          2619,
          2622,
          2625,
          2628,
          2631,
          2634,
          2637,
          2640,
          2643,
          2646,
          2649,
          2652,
          2655,
          2658,
          2661,
          2664,
          2667,
          2670,
          2673,
          2676,
          2679,
          2682,
          2685,
          2688,
          2691,
          2694,
          2697,
          2700,
          2703,
          2706,
          2709,
          2712,
          2715,
          2718,
          2721,
          2724,
          2727,
          2730,
          2733,
          2736,
          2739,
          2742,
          2745,
          2748,
          2751,
          2754,
          2757,
          2760,
          2763,
          2766,
          2769,
          2772,
          2775,
          2778,
          2781,
          2784,
          2787,
          2790,
          2793,
          2796,
          2799,
          2802,
          2805,
          2808,
          2811,
          2814,
          2817,
          2820,
          2823,
          2826,
          2829,
          2832,
          2835,
          2838,
          2841,
          2844,
          2847,
          2850,
          2853,
          2856,
          2859,
          2862,
          2865,
          2868,
          2871,
          2874,
          2877,
          2880,
          2883,
          2886,
          2889,
          2892,
          2895,
          2898,
          2901,
          2904,
          2907,
          2910,
          2913,
          2916,
          2919,
          2922,
          2925,
          2928,
          2931,
          2934,
          2937,
          2940,
          2943,
          2946,
          2949,
          2952,
          2955,
          2958,
          2961,
          2964,
          2967,
          2970,
          2973,
          2976,
          2979,
          2982,
          2985,
          2988,
          2991,
          2994,
          2997,
          3000
         ],
         "y": [
          0,
          1.8848439432681582e-10,
          3.769018153912863e-10,
          5.651853193808792e-10,
          7.532680100631612e-10,
          9.41083062553711e-10,
          1.1285637470586825e-09,
          1.3156434525835827e-09,
          1.5022557105998408e-09,
          1.68833421866076e-09,
          1.8738128639584613e-09,
          2.058625746813449e-09,
          2.242707204088453e-09,
          2.42599183251823e-09,
          2.6084145119470303e-09,
          2.78991042846548e-09,
          2.9704150974386533e-09,
          3.1498643864171594e-09,
          3.328194537923094e-09,
          3.505342192102766e-09,
          3.6812444092381567e-09,
          3.855838692109097e-09,
          4.029063008198232e-09,
          4.200855811730886e-09,
          4.3711560655419735e-09,
          4.539903262762223e-09,
          4.70703744831597e-09,
          4.872499240222916e-09,
          5.036229850696266e-09,
          5.198171107029738e-09,
          5.358265472266061e-09,
          5.5164560656395735e-09,
          5.672686682785696e-09,
          5.826901815710064e-09,
          5.979046672510264e-09,
          6.129067196843133e-09,
          6.276910087130713e-09,
          6.422522815498059e-09,
          6.565853646436132e-09,
          6.706851655183189e-09,
          6.845466745818098e-09,
          6.9816496690591935e-09,
          7.115352039762293e-09,
          7.24652635411173e-09,
          7.375126006498218e-09,
          7.501105306077605e-09,
          7.624419493004617e-09,
          7.74502475433581e-09,
          7.862878239596117e-09,
          7.977938076003393e-09,
          8.090163383345636e-09,
          8.19951428850552e-09,
          8.305951939627129e-09,
          8.409438519919838e-09,
          8.509937261094428e-09,
          8.607412456426701e-09,
          8.701829473443892e-09,
          8.793154766229434e-09,
          8.881355887341656e-09,
          8.96640149934221e-09,
          9.048261385930103e-09,
          9.126906462677418e-09,
          9.202308787362863e-09,
          9.27444156989952e-09,
          9.343279181853215e-09,
          9.408797165548204e-09,
          9.470972242756852e-09,
          9.529782322970278e-09,
          9.585206511247017e-09,
          9.63722511563688e-09,
          9.685819654177422e-09,
          9.73097286146049e-09,
          9.772668694766535e-09,
          9.810892339764526e-09,
          9.8456302157754e-09,
          9.876869980597221e-09,
          9.904600534890298e-09,
          9.928812026120735e-09,
          9.94949585206098e-09,
          9.96664466384617e-09,
          9.980252368585131e-09,
          9.990314131525165e-09,
          9.99682637776981e-09,
          9.999786793548984e-09,
          9.999194327041057e-09,
          9.99504918874656e-09,
          9.987352851413388e-09,
          9.976108049513552e-09,
          9.961318778271623e-09,
          9.94299029224525e-09,
          9.921129103458248e-09,
          9.895742979086898e-09,
          9.86684093870031e-09,
          9.834433251055814e-09,
          9.798531430450515e-09,
          9.759148232630327e-09,
          9.716297650257904e-09,
          9.669994907941126e-09,
          9.620256456823864e-09,
          9.567099968740965e-09,
          9.510544329939531e-09,
          9.450609634368733e-09,
          9.387317176540524e-09,
          9.320689443963792e-09,
          9.25075010915467e-09,
          9.17752402122579e-09,
          9.101037197057515e-09,
          9.021316812054277e-09,
          8.938391190489267e-09,
          8.852289795440966e-09,
          8.763043218325058e-09,
          8.670683168025425e-09,
          8.575242459628162e-09,
          8.47675500276251e-09,
          8.375255789552933e-09,
          8.270780882186583e-09,
          8.163367400100582e-09,
          8.053053506793648e-09,
          7.939878396266801e-09,
          7.823882279097922e-09,
          7.705106368155103e-09,
          7.583592863953938e-09,
          7.459384939663876e-09,
          7.332526725768978e-09,
          7.2030632943886e-09,
          7.071040643263445e-09,
          6.936505679412824e-09,
          6.79950620246879e-09,
          6.660090887693157e-09,
          6.5183092686834244e-09,
          6.374211719773721e-09,
          6.227849438137032e-09,
          6.079274425595101e-09,
          5.928539470142433e-09,
          5.775698127190951e-09,
          5.620804700542042e-09,
          5.46391422309264e-09,
          5.30508243728234e-09,
          5.144365775288342e-09,
          4.981821338975378e-09,
          4.817506879607698e-09,
          4.651480777330316e-09,
          4.483802020426812e-09,
          4.314530184361095e-09,
          4.143725410610515e-09,
          3.9714483852978716e-09,
          3.7977603176299444e-09,
          3.6227229181501444e-09,
          3.446398376813037e-09,
          3.2688493408885784e-09,
          3.090138892703803e-09,
          2.9103305272300036e-09,
          2.7294881295232607e-09,
          2.547675952026367e-09,
          2.364958591740273e-09,
          2.1814009672730613e-09,
          1.997068295774665e-09,
          1.8120260697655514e-09,
          1.626340033867525e-09,
          1.4400761614449666e-09,
          1.2533006311648383e-09,
          1.0660798034836867e-09,
          8.784801970701179e-10,
          6.90568465171017e-10,
          5.024113719299555e-10,
          3.1407576866623427e-10,
          1.2562857012291508e-10,
          -6.28632693076816e-11,
          -2.5133277937252775e-10,
          -4.3971299775211244e-10,
          -6.279369938518488e-10,
          -8.159378925821689e-10,
          -1.0036488981189377e-09,
          -1.1910033176357044e-09,
          -1.3779345849993164e-09,
          -1.564376284420583e-09,
          -1.7502621740514594e-09,
          -1.935526209520473e-09,
          -2.120102567397987e-09,
          -2.303925668582924e-09,
          -2.486930201602725e-09,
          -2.6690511458182144e-09,
          -2.8502237945250976e-09,
          -3.0303837779439598e-09,
          -3.2094670860905535e-09,
          -3.387410091518216e-09,
          -3.564149571924412e-09,
          -3.7396227326133265e-09,
          -3.9137672288064934e-09,
          -4.086521187793635e-09,
          -4.2578232309157065e-09,
          -4.427612495372456e-09,
          -4.595828655846705e-09,
          -4.762411945937609e-09,
          -4.927303179395404e-09,
          -5.0904437711499995e-09,
          -5.251775758125952e-09,
          -5.4112418198364865e-09,
          -5.5687852987492015e-09,
          -5.724350220416197e-09,
          -5.877881313361548e-09,
          -6.0293240287189834e-09,
          -6.178624559612848e-09,
          -6.325729860275435e-09,
          -6.470587664893872e-09,
          -6.613146506179933e-09,
          -6.7533557336561265e-09,
          -6.8911655316515484e-09,
          -7.026526937001167e-09,
          -7.159391856442206e-09,
          -7.289713083701436e-09,
          -7.41744431626735e-09,
          -7.54254017184123e-09,
          -7.664956204461244e-09,
          -7.784648920293906e-09,
          -7.901575793087203e-09,
          -8.015695279279997e-09,
          -8.126966832762243e-09,
          -8.235350919280809e-09,
          -8.34080903048585e-09,
          -8.443303697612592e-09,
          -8.542798504793863e-09,
          -8.639258101998414e-09,
          -8.73264821759067e-09,
          -8.822935670507243e-09,
          -8.910088382046032e-09,
          -8.994075387263601e-09,
          -9.07486684597693e-09,
          -9.152434053365419e-09,
          -9.226749450169642e-09,
          -9.297786632482967e-09,
          -9.36552036113277e-09,
          -9.429926570647786e-09,
          -9.490982377808455e-09,
          -9.548666089777212e-09,
          -9.602957211805864e-09,
          -9.653836454517268e-09,
          -9.701285740758751e-09,
          -9.745288212024855e-09,
          -9.785828234447059e-09,
          -9.82289140434843e-09,
          -9.856464553361186e-09,
          -9.88653575310534e-09,
          -9.913094319426814e-09,
          -9.936130816193454e-09,
          -9.955637058647653e-09,
          -9.971606116314344e-09,
          -9.98403231546338e-09,
          -9.992911241125367e-09,
          -9.9982397386603e-09,
          -1.0000015914878376e-08,
          -9.99823913871264e-09,
          -9.992910041443205e-09,
          -9.984030516472955e-09,
          -9.97160371865483e-09,
          -9.955634063170924e-09,
          -9.93612722396379e-09,
          -9.913090131720508e-09,
          -9.886530971410268e-09,
          -9.856459179376255e-09,
          -9.822885439982994e-09,
          -9.78582168182022e-09,
          -9.745281073464728e-09,
          -9.701278018801628e-09,
          -9.653828151906716e-09,
          -9.602948331491764e-09,
          -9.548656634914688e-09,
          -9.490972351756769e-09,
          -9.429915976969141e-09,
          -9.365509203591043e-09,
          -9.297774915042373e-09,
          -9.226737176993324e-09,
          -9.152421228813976e-09,
          -9.074853474606849e-09,
          -8.994061473825665e-09,
          -8.9100739314836e-09,
          -8.822920687954542e-09,
          -8.732632708370906e-09,
          -8.639242071621938e-09,
          -8.542781958956172e-09,
          -8.443286642192344e-09,
          -8.34079147154273e-09,
          -8.235332863053433e-09,
          -8.126948285665877e-09,
          -8.015676247904337e-09,
          -7.901556284193984e-09,
          -7.78462894081454e-09,
          -7.664935761494333e-09,
          -7.54251927265005e-09,
          -7.4174229682772665e-09,
          -7.289691294497276e-09,
          -7.159369633765557e-09,
          -7.026504288747628e-09,
          -6.8911424658679225e-09,
          -6.753332258537563e-09,
          -6.613122630067009e-09,
          -6.470563396269646e-09,
          -6.325705207762414e-09,
          -6.17859953196995e-09,
          -6.029298634838377e-09,
          -5.877855562265549e-09,
          -5.724324121254028e-09,
          -5.568758860793757e-09,
          -5.411215052481021e-09,
          -5.251748670880773e-09,
          -5.090416373639049e-09,
          -4.927275481352877e-09,
          -4.762383957204454e-09,
          -4.5958003863671796e-09,
          -4.427583955190554e-09,
          -4.257794430171591e-09,
          -4.086492136720052e-09,
          -3.913737937725136e-09,
          -3.739593211931145e-09,
          -3.564119832129954e-09,
          -3.387380143177864e-09,
          -3.2094369398447908e-09,
          -3.0303534445035745e-09,
          -2.850193284667398e-09,
          -2.66902047038318e-09,
          -2.486899371489186e-09,
          -2.3038946947446273e-09,
          -2.120071460839778e-09,
          -1.9354949812943323e-09,
          -1.7502308352526056e-09,
          -1.5643448461835126e-09,
          -1.3779030584938776e-09,
          -1.190971714063067e-09,
          -1.0036172287076872e-09,
          -8.159061685842567e-10,
          -6.279052265386468e-10,
          -4.396811984103597e-10,
          -2.5130095930036483e-10,
          -6.283143981058754e-11,
          1.256603977360908e-10,
          3.1410758308733396e-10,
          5.024431618554825e-10,
          6.906002193061913e-10,
          8.785119041328804e-10,
          1.0661114522087035e-09,
          1.253332210307489e-09,
          1.4401076597853762e-09,
          1.626371440214501e-09,
          1.8120573729606036e-09,
          1.9970994846959447e-09,
          2.1814320308393333e-09,
          2.3649895189148284e-09,
          2.547706731820966e-09,
          2.7295187510020027e-09,
          2.9103609795132787e-09,
          3.090169164972079e-09,
          3.268879422386307e-09,
          3.446428256852435e-09,
          3.622752586115014e-09,
          3.797789762979422e-09,
          3.971477597570212e-09,
          4.143754379426765e-09,
          4.31455889942882e-09,
          4.483830471543709e-09,
          4.651508954387877e-09,
          4.817534772594788e-09,
          4.981848937981793e-09,
          5.144393070508317e-09,
          5.3051094190180605e-09,
          5.463940881757653e-09,
          5.620831026664688e-09,
          5.7757241114177275e-09,
          5.928565103241311e-09,
          6.0792996984587985e-09,
          6.2278743417862645e-09,
          6.374236245360375e-09,
          6.518333407493719e-09,
          6.660114631150724e-09,
          6.799529542137742e-09,
          6.9365286070007254e-09,
          7.071063150624278e-09,
          7.203085373525636e-09,
          7.332548368837665e-09,
          7.459406138974568e-09,
          7.58361361197467e-09,
          7.70512665751424e-09,
          7.8239021025868e-09,
          7.939897746842266e-09,
          8.053072377580586e-09,
          8.163385784394332e-09,
          8.270798773455346e-09,
          8.375273181440064e-09,
          8.476771889088802e-09,
          8.57525883439403e-09,
          8.670699025413042e-09,
          8.76305855270041e-09,
          8.852304601355885e-09,
          8.938405462683319e-09,
          9.021330545456665e-09,
          9.101050386788881e-09,
          9.177536662599931e-09,
          9.250762197680217e-09,
          9.320700975345801e-09,
          9.387328146681991e-09,
          9.450620039372076e-09,
          9.510554166107949e-09,
          9.56710923257977e-09,
          9.620265145041708e-09,
          9.670003017451179e-09,
          9.716305178178941e-09,
          9.759155176287772e-09,
          9.798537787377372e-09,
          9.834439018993549e-09,
          9.866846115599656e-09,
          9.89574756310858e-09,
          9.921133092973636e-09,
          9.942993685836947e-09,
          9.961321574733956e-09,
          9.976110247853004e-09,
          9.987354450848955e-09,
          9.995050188710029e-09,
          9.9991947271772e-09,
          9.999786593715689e-09,
          9.996825578038134e-09,
          9.990312732179309e-09,
          9.98025037012233e-09,
          9.966642066976527e-09,
          9.949492657707208e-09,
          9.928808235417828e-09,
          9.90459614918514e-09,
          9.876865001448087e-09,
          9.84562464495142e-09,
          9.810886179245045e-09,
          9.772661946740415e-09,
          9.730965528325336e-09,
          9.685811738538721e-09,
          9.63721662030708e-09,
          9.585197439244535e-09,
          9.52977267751841e-09,
          9.470962027282644e-09,
          9.408786383681232e-09,
          9.343267837424282e-09,
          9.27442966693931e-09,
          9.202296330100509e-09,
          9.126893455538991e-09,
          9.048247833537044e-09,
          8.966387406509677e-09,
          8.88134125907683e-09,
          8.793139607729741e-09,
          8.70181379009513e-09,
          8.607396253801157e-09,
          8.509920544948883e-09,
          8.409421296193533e-09,
          8.305934214439634e-09,
          8.199496068154571e-09,
          8.09014467430491e-09,
          7.977918884920209e-09,
          7.862858573289021e-09,
          7.74500461979222e-09,
          7.624398897378305e-09,
          7.50108425668618e-09,
          7.37510451082049e-09,
          7.246504419785079e-09,
          7.115329674579949e-09,
          6.9816268809674834e-09,
          6.845443542913582e-09,
          6.7068280457098185e-09,
          6.565829638782324e-09,
          6.422498418193692e-09,
          6.276885308844093e-09,
          6.129042046377937e-09,
          5.979021158802409e-09,
          5.826875947824534e-09,
          5.672660469913288e-09,
          5.51642951709367e-09,
          5.358238597479306e-09,
          5.198143915550708e-09,
          5.036202352186022e-09,
          4.872471444451624e-09,
          4.707009365159426e-09,
          4.539874902198315e-09,
          4.371127437647135e-09,
          4.2008269266765476e-09,
          4.029033876247194e-09,
          3.855809323611896e-09,
          3.681214814629342e-09,
          3.505312381897239e-09,
          3.328164522712356e-09,
          3.1498341768655683e-09,
          2.9703847042795803e-09,
          2.7898798624975665e-09,
          2.6083837840302828e-09,
          2.425960953570228e-09,
          2.2426761850804026e-09,
          2.0585945987663365e-09,
          1.8737815979391207e-09,
          1.6883028457779578e-09,
          1.5022242420002775e-09,
          1.3156118994479839e-09,
          1.1285321205978094e-09,
          9.410513740043949e-10,
          7.53236270684276e-10,
          5.65153540449341e-10,
          3.7687000819808175e-10,
          1.884525701729912e-10,
          -3.1829807407691354e-14,
          -1.8851622413327465e-10,
          -3.769336451967962e-10,
          -5.652171491854225e-10,
          -7.532998398667558e-10,
          -9.411148923563569e-10,
          -1.1285955768603793e-09,
          -1.3156752823842952e-09,
          -1.5022875403996045e-09,
          -1.6883660484595749e-09,
          -1.873844693756327e-09,
          -2.0586575766103487e-09,
          -2.242739033884404e-09,
          -2.4260236623132317e-09,
          -2.608446341741082e-09,
          -2.7899422582585653e-09,
          -2.9704469272307895e-09,
          -3.149896216208347e-09,
          -3.3282263677133154e-09,
          -3.5053740218920226e-09,
          -3.6812762390264636e-09,
          -3.8558705218964535e-09,
          -4.02909483798464e-09,
          -4.200887641516328e-09,
          -4.371187895326468e-09,
          -4.539935092545766e-09,
          -4.707069278098564e-09,
          -4.872531070004546e-09,
          -5.036261680476946e-09,
          -5.1982029368094535e-09,
          -5.358297302044826e-09,
          -5.516487895417374e-09,
          -5.672718512562546e-09,
          -5.826933645485964e-09,
          -5.979078502285214e-09,
          -6.129099026617119e-09,
          -6.276941916903749e-09,
          -6.422554645270143e-09,
          -6.565885476207268e-09,
          -6.70688348495336e-09,
          -6.845498575587307e-09,
          -6.98168149882745e-09,
          -7.1153838695296e-09,
          -7.246558183878075e-09,
          -7.375157836263611e-09,
          -7.501137135842046e-09,
          -7.624451322768108e-09,
          -7.74505658409834e-09,
          -7.862910069357697e-09,
          -7.97796990576402e-09,
          -8.090195213105311e-09,
          -8.199546118264222e-09,
          -8.30598376938488e-09,
          -8.409470349676638e-09,
          -8.509969090850277e-09,
          -8.607444286181589e-09,
          -8.701861303197827e-09,
          -8.793186595982417e-09,
          -8.881387717093689e-09,
          -8.96643332909328e-09,
          -9.048293215680223e-09,
          -9.126938292426584e-09,
          -9.202340617111078e-09,
          -9.274473399646767e-09,
          -9.34331101159951e-09,
          -9.408828995293546e-09,
          -9.47100407250124e-09,
          -9.529814152713708e-09,
          -9.585238340989495e-09,
          -9.637256945378405e-09,
          -9.685851483917995e-09,
          -9.731004691200103e-09,
          -9.772700524505196e-09,
          -9.810924169502231e-09,
          -9.84566204551215e-09,
          -9.876901810333014e-09,
          -9.904632364625135e-09,
          -9.928843855854619e-09,
          -9.949527681793912e-09,
          -9.966676493578146e-09,
          -9.980284198316152e-09,
          -9.99034596125523e-09,
          -9.996858207498921e-09,
          -9.999818623277139e-09,
          -9.999226156768257e-09,
          -9.995081018472806e-09,
          -9.987384681138678e-09,
          -9.976139879237888e-09,
          -9.961350607995003e-09,
          -9.943022121967676e-09,
          -9.921160933179718e-09,
          -9.895774808807415e-09,
          -9.866872768419871e-09,
          -9.834465080774418e-09,
          -9.798563260168165e-09,
          -9.75918006234702e-09,
          -9.716329479973648e-09,
          -9.670026737655914e-09,
          -9.620288286537695e-09,
          -9.567131798453843e-09,
          -9.510576159651455e-09,
          -9.4506414640797e-09,
          -9.387349006250534e-09,
          -9.320721273672853e-09,
          -9.250781938862773e-09,
          -9.177555850932935e-09,
          -9.101069026763704e-09,
          -9.021348641759522e-09,
          -8.938423020193556e-09,
          -8.852321625144296e-09,
          -8.763075048027426e-09,
          -8.670714997726847e-09,
          -8.575274289328628e-09,
          -8.476786832462017e-09,
          -8.375287619251482e-09,
          -8.270812711884183e-09,
          -8.163399229797224e-09,
          -8.05308533648933e-09,
          -7.93991022596154e-09,
          -7.82391410879171e-09,
          -7.70513819784793e-09,
          -7.58362469364581e-09,
          -7.459416769354788e-09,
          -7.332558555458945e-09,
          -7.203095124077604e-09,
          -7.071072472951492e-09,
          -6.936537509099911e-09,
          -6.799538032154929e-09,
          -6.6601227173783376e-09,
          -6.51834109836766e-09,
          -6.374243549456996e-09,
          -6.22788126781936e-09,
          -6.079306255276473e-09,
          -5.928571299822842e-09,
          -5.775729956870402e-09,
          -5.620836530220545e-09,
          -5.463946052770186e-09,
          -5.305114266958925e-09,
          -5.144397604963967e-09,
          -4.981853168650058e-09,
          -4.817538709281435e-09,
          -4.651512607003091e-09,
          -4.483833850098628e-09,
          -4.314562014031968e-09,
          -4.143757240280425e-09,
          -3.971480214966823e-09,
          -3.797792147297936e-09,
          -3.6227547478171903e-09,
          -3.446430206479124e-09,
          -3.268881170553702e-09,
          -3.090170722367967e-09,
          -2.9103623568932263e-09,
          -2.729519959185537e-09,
          -2.5477077816876843e-09,
          -2.3649904214006305e-09,
          -2.1814327969324723e-09,
          -1.9971001254331172e-09,
          -1.8120578994230442e-09,
          -1.6263718635240544e-09,
          -1.4401079911005537e-09,
          -1.2533324608194618e-09,
          -1.066111633137351e-09,
          -8.785120267228226e-10,
          -6.906002948227936e-10,
          -5.024432015807727e-10,
          -3.14107598316092e-10,
          -1.2566039977180918e-10,
          6.283143965972905e-11,
          2.5130094972553454e-10,
          4.39681168106083e-10,
          6.279051642067788e-10,
          8.159060629380403e-10,
          1.0036170684757728e-09,
          1.190971487993499e-09,
          1.3779027553580569e-09,
          1.564344454780265e-09,
          1.7502303444121007e-09,
          1.935494379882078e-09,
          2.1200707377605513e-09,
          2.30389383894643e-09,
          2.486898371967195e-09,
          2.6690193161836437e-09,
          2.8501919648914855e-09,
          3.0303519483112936e-09,
          3.2094352564588464e-09,
          3.3873782618874517e-09,
          3.5641177422946108e-09,
          3.739590902984467e-09,
          3.9137353991785984e-09,
          4.086489358166699e-09,
          4.257791401289729e-09,
          4.4275806657474264e-09,
          4.595796826222633e-09,
          4.762380116314496e-09,
          4.927271349773255e-09,
          5.090411941528792e-09,
          5.251743928505688e-09,
          5.411209990217186e-09,
          5.5687534691308604e-09,
          5.724318390798802e-09,
          5.877849483745112e-09,
          6.029292199103506e-09,
          6.178592729998334e-09,
          6.3256980306618635e-09,
          6.470555835281259e-09,
          6.613114676568282e-09,
          6.7533239040454335e-09,
          6.8911337020417885e-09,
          7.026495107392368e-09,
          7.159360026834365e-09,
          7.2896812540945535e-09,
          7.417412486661415e-09,
          7.542508342236255e-09,
          7.664924374857227e-09,
          7.784617090690845e-09,
          7.901543963485092e-09,
          8.015663449678845e-09,
          8.126935003162046e-09,
          8.235319089681562e-09,
          8.340777200887548e-09,
          8.443271868015256e-09,
          8.542766675197482e-09,
          8.639226272402991e-09,
          8.732616387996193e-09,
          8.822903840913726e-09,
          8.910056552453468e-09,
          8.994043557672e-09,
          9.074835016386276e-09,
          9.152402223775727e-09,
          9.226717620580904e-09,
          9.297754802895178e-09,
          9.365488531545934e-09,
          9.429894741061908e-09,
          9.490950548223532e-09,
          9.548634260193244e-09,
          9.602925382222847e-09,
          9.653804624935208e-09,
          9.70125391117765e-09,
          9.74525638244471e-09,
          9.785796404867866e-09,
          9.822859574770195e-09,
          9.8564327237839e-09,
          9.88650392352901e-09,
          9.913062489851438e-09,
          9.936098986619036e-09,
          9.95560522907419e-09,
          9.971574286741836e-09,
          9.984000485891826e-09,
          9.992879411554769e-09,
          9.998207909090658e-09,
          9.999984085309688e-09,
          9.998207309144905e-09,
          9.992878211876426e-09,
          9.98399868690713e-09,
          9.97157188908996e-09,
          9.95560223360701e-09,
          9.93609539440083e-09,
          9.913058302158506e-09,
          9.886499141849218e-09,
          9.856427349816163e-09,
          9.822853610423851e-09,
          9.785789852262034e-09,
          9.745249243907495e-09,
          9.70124618924536e-09,
          9.653796322351399e-09,
          9.602916501937397e-09,
          9.548624805361275e-09,
          9.490940522204315e-09,
          9.429884147417642e-09,
          9.365477374040498e-09,
          9.29774308549278e-09,
          9.22670534744469e-09,
          9.152389399266294e-09,
          9.074821645060119e-09,
          8.994029644279895e-09,
          8.910042101938794e-09,
          8.82288885841068e-09,
          8.732600878828001e-09,
          8.639210242079981e-09,
          8.542750129415182e-09,
          8.443254812652302e-09,
          8.340759642003644e-09,
          8.235301033515293e-09,
          8.126916456128702e-09,
          8.015644418368111e-09,
          7.901524454658724e-09,
          7.784597111280228e-09,
          7.664903931960984e-09,
          7.542487443117649e-09,
          7.41739113874582e-09,
          7.2896594649667794e-09,
          7.159337804236026e-09,
          7.026472459219049e-09,
          6.89111063634029e-09,
          6.75330042901088e-09,
          6.613090800541294e-09,
          6.470531566744892e-09,
          6.325673378238614e-09,
          6.178567702447093e-09,
          6.029266805316488e-09,
          5.87782373274461e-09,
          5.7242922917340414e-09,
          5.568727031274718e-09,
          5.4111832229629525e-09,
          5.251716841363645e-09,
          5.090384544122875e-09,
          4.927243651837649e-09,
          4.762352127690214e-09,
          4.5957685568538855e-09,
          4.427552125678207e-09,
          4.2577626006601914e-09,
          4.086460307209622e-09,
          3.913706108215654e-09,
          3.739561382422617e-09,
          3.564088002622373e-09,
          3.387348313671246e-09,
          3.20940511033912e-09,
          3.0303216149988583e-09,
          2.8501614551636283e-09,
          2.6689886408803994e-09,
          2.486867541987343e-09,
          2.3038628652437393e-09,
          2.1200396313398364e-09,
          1.9354631517953625e-09,
          1.750199005754582e-09,
          1.5643130166864439e-09,
          1.3778712289977464e-09,
          1.190939884567908e-09,
          1.003585399213474e-09,
          8.158743390909988e-10,
          6.278733970463526e-10,
          4.3964936891903817e-10,
          2.512691298099804e-10,
          6.279961032115804e-11,
          -1.256922272245743e-10,
          -3.141394125748449e-10,
          -5.024749913420474e-10,
          -6.906320487918102e-10,
          -8.785437336175533e-10,
          -1.0661432816924036e-09,
          -1.2533640397902434e-09,
          -1.4401394892671578e-09,
          -1.626403269695337e-09,
          -1.8120892024404757e-09,
          -1.9971313141748703e-09,
          -2.1814638603173043e-09,
          -2.365021348391853e-09,
          -2.5477385612970183e-09,
          -2.7295505804771174e-09,
          -2.910392808987421e-09,
          -3.090200994445293e-09,
          -3.2689112518585487e-09,
          -3.4464600863237135e-09,
          -3.622784415585321e-09,
          -3.797821592448808e-09,
          -3.971509427038627e-09,
          -4.143786208894248e-09,
          -4.314590728895332e-09,
          -4.483862301009259e-09,
          -4.651540783852496e-09,
          -4.817566602058444e-09,
          -4.981880767444477e-09,
          -5.1444248999700695e-09,
          -5.305141248478843e-09,
          -5.463972711217474e-09,
          -5.620862856123546e-09,
          -5.775755940875653e-09,
          -5.928596932698268e-09,
          -6.07933152791482e-09,
          -6.227906171241318e-09,
          -6.374268074814466e-09,
          -6.518365236946849e-09,
          -6.66014646060292e-09,
          -6.7995613715889694e-09,
          -6.936560436451017e-09,
          -7.0710949800736034e-09,
          -7.203117202974031e-09,
          -7.33258019828507e-09,
          -7.459437968421035e-09,
          -7.583645441420172e-09,
          -7.705158486958779e-09,
          -7.823933932030399e-09,
          -7.939929576284908e-09,
          -8.053104207022283e-09,
          -8.16341761383507e-09,
          -8.270830602895118e-09,
          -8.375305010878876e-09,
          -8.476803718526674e-09,
          -8.575290663830943e-09,
          -8.670730854849009e-09,
          -8.76309038213542e-09,
          -8.852336430789929e-09,
          -8.93843729211642e-09,
          -9.021362374888793e-09,
          -9.101082216220063e-09,
          -9.177568492030154e-09,
          -9.250794027109495e-09,
          -9.320732804774116e-09,
          -9.387359976109363e-09,
          -9.45065186879849e-09,
          -9.510585995533417e-09,
          -9.567141062004267e-09,
          -9.620296974465245e-09,
          -9.670034846873767e-09,
          -9.716337007600576e-09,
          -9.759187005708456e-09,
          -9.798569616797099e-09,
          -9.834470848412324e-09,
          -9.866877945017474e-09,
          -9.895779392525441e-09,
          -9.921164922389544e-09,
          -9.9430255152519e-09,
          -9.961353404147951e-09,
          -9.976142077266046e-09,
          -9.987386280261045e-09,
          -9.995082018121159e-09,
          -9.999226556587376e-09,
          -9.999818423124911e-09,
          -9.996857407446402e-09,
          -9.990344561586624e-09,
          -9.980282199528689e-09,
          -9.96667389638193e-09,
          -9.949524487111655e-09,
          -9.928840064821323e-09,
          -9.904627978587681e-09,
          -9.876896830849674e-09,
          -9.845656474352053e-09,
          -9.810918008644719e-09,
          -9.772693776139139e-09,
          -9.730997357723097e-09,
          -9.685843567935533e-09,
          -9.637248449702932e-09,
          -9.585229268639429e-09,
          -9.529804506912355e-09,
          -9.47099385667564e-09,
          -9.408818213073274e-09,
          -9.343299666815364e-09,
          -9.274461496329443e-09,
          -9.202328159489679e-09,
          -9.126925284927206e-09,
          -9.04827966292429e-09,
          -8.966419235895991e-09,
          -8.881373088462182e-09,
          -8.793171437114138e-09,
          -8.701845619478564e-09,
          -8.607428083183645e-09,
          -8.509952374330406e-09,
          -8.409453125574103e-09,
          -8.305966043819257e-09,
          -8.199527897533252e-09,
          -8.090176503682644e-09,
          -7.977950714296956e-09,
          -7.862890402664827e-09,
          -7.745036449167057e-09,
          -7.624430726752198e-09,
          -7.501116086059098e-09,
          -7.3751363401924614e-09,
          -7.246536249156109e-09,
          -7.115361503950038e-09,
          -6.9816587103366165e-09,
          -6.845475372281749e-09,
          -6.706859875077043e-09,
          -6.565861468148568e-09,
          -6.422530247558981e-09,
          -6.276917138208414e-09,
          -6.129073875741345e-09,
          -5.979052988164846e-09,
          -5.8269077771860165e-09,
          -5.6726922992738e-09,
          -5.5164613464532425e-09,
          -5.3582704268379396e-09,
          -5.198175744908356e-09,
          -5.036234181542731e-09,
          -4.8725032738073934e-09,
          -4.707041194514239e-09,
          -4.539906731552141e-09,
          -4.371159267000023e-09,
          -4.200858756028464e-09,
          -4.0290657055981726e-09,
          -3.855841152961886e-09,
          -3.681246643978394e-09,
          -3.5053442112453863e-09,
          -3.3281963520595315e-09,
          -3.149866006211789e-09,
          -2.9704165336248297e-09,
          -2.789911691841861e-09,
          -2.608415613373605e-09,
          -2.4259927829125954e-09,
          -2.242708014421798e-09,
          -2.0586264281068284e-09,
          -1.8738134272786407e-09,
          -1.688334675116523e-09,
          -1.5022560713379055e-09,
          -1.3156437287846393e-09,
          -1.1285639499335279e-09,
          -9.410832033391232e-10,
          -7.532681000180493e-10,
          -5.65185369782177e-10,
          -3.769018375299808e-10,
          -1.8848439950389983e-10,
          4.774361831982955e-19
         ]
        }
       ],
       "layout": {
        "legend": {
         "bgcolor": "#FFFFFF",
         "font": {
          "color": "#4D5663"
         }
        },
        "paper_bgcolor": "#FFFFFF",
        "plot_bgcolor": "#FFFFFF",
        "template": {
         "data": {
          "bar": [
           {
            "error_x": {
             "color": "#2a3f5f"
            },
            "error_y": {
             "color": "#2a3f5f"
            },
            "marker": {
             "line": {
              "color": "#E5ECF6",
              "width": 0.5
             }
            },
            "type": "bar"
           }
          ],
          "barpolar": [
           {
            "marker": {
             "line": {
              "color": "#E5ECF6",
              "width": 0.5
             }
            },
            "type": "barpolar"
           }
          ],
          "carpet": [
           {
            "aaxis": {
             "endlinecolor": "#2a3f5f",
             "gridcolor": "white",
             "linecolor": "white",
             "minorgridcolor": "white",
             "startlinecolor": "#2a3f5f"
            },
            "baxis": {
             "endlinecolor": "#2a3f5f",
             "gridcolor": "white",
             "linecolor": "white",
             "minorgridcolor": "white",
             "startlinecolor": "#2a3f5f"
            },
            "type": "carpet"
           }
          ],
          "choropleth": [
           {
            "colorbar": {
             "outlinewidth": 0,
             "ticks": ""
            },
            "type": "choropleth"
           }
          ],
          "contour": [
           {
            "colorbar": {
             "outlinewidth": 0,
             "ticks": ""
            },
            "colorscale": [
             [
              0,
              "#0d0887"
             ],
             [
              0.1111111111111111,
              "#46039f"
             ],
             [
              0.2222222222222222,
              "#7201a8"
             ],
             [
              0.3333333333333333,
              "#9c179e"
             ],
             [
              0.4444444444444444,
              "#bd3786"
             ],
             [
              0.5555555555555556,
              "#d8576b"
             ],
             [
              0.6666666666666666,
              "#ed7953"
             ],
             [
              0.7777777777777778,
              "#fb9f3a"
             ],
             [
              0.8888888888888888,
              "#fdca26"
             ],
             [
              1,
              "#f0f921"
             ]
            ],
            "type": "contour"
           }
          ],
          "contourcarpet": [
           {
            "colorbar": {
             "outlinewidth": 0,
             "ticks": ""
            },
            "type": "contourcarpet"
           }
          ],
          "heatmap": [
           {
            "colorbar": {
             "outlinewidth": 0,
             "ticks": ""
            },
            "colorscale": [
             [
              0,
              "#0d0887"
             ],
             [
              0.1111111111111111,
              "#46039f"
             ],
             [
              0.2222222222222222,
              "#7201a8"
             ],
             [
              0.3333333333333333,
              "#9c179e"
             ],
             [
              0.4444444444444444,
              "#bd3786"
             ],
             [
              0.5555555555555556,
              "#d8576b"
             ],
             [
              0.6666666666666666,
              "#ed7953"
             ],
             [
              0.7777777777777778,
              "#fb9f3a"
             ],
             [
              0.8888888888888888,
              "#fdca26"
             ],
             [
              1,
              "#f0f921"
             ]
            ],
            "type": "heatmap"
           }
          ],
          "heatmapgl": [
           {
            "colorbar": {
             "outlinewidth": 0,
             "ticks": ""
            },
            "colorscale": [
             [
              0,
              "#0d0887"
             ],
             [
              0.1111111111111111,
              "#46039f"
             ],
             [
              0.2222222222222222,
              "#7201a8"
             ],
             [
              0.3333333333333333,
              "#9c179e"
             ],
             [
              0.4444444444444444,
              "#bd3786"
             ],
             [
              0.5555555555555556,
              "#d8576b"
             ],
             [
              0.6666666666666666,
              "#ed7953"
             ],
             [
              0.7777777777777778,
              "#fb9f3a"
             ],
             [
              0.8888888888888888,
              "#fdca26"
             ],
             [
              1,
              "#f0f921"
             ]
            ],
            "type": "heatmapgl"
           }
          ],
          "histogram": [
           {
            "marker": {
             "colorbar": {
              "outlinewidth": 0,
              "ticks": ""
             }
            },
            "type": "histogram"
           }
          ],
          "histogram2d": [
           {
            "colorbar": {
             "outlinewidth": 0,
             "ticks": ""
            },
            "colorscale": [
             [
              0,
              "#0d0887"
             ],
             [
              0.1111111111111111,
              "#46039f"
             ],
             [
              0.2222222222222222,
              "#7201a8"
             ],
             [
              0.3333333333333333,
              "#9c179e"
             ],
             [
              0.4444444444444444,
              "#bd3786"
             ],
             [
              0.5555555555555556,
              "#d8576b"
             ],
             [
              0.6666666666666666,
              "#ed7953"
             ],
             [
              0.7777777777777778,
              "#fb9f3a"
             ],
             [
              0.8888888888888888,
              "#fdca26"
             ],
             [
              1,
              "#f0f921"
             ]
            ],
            "type": "histogram2d"
           }
          ],
          "histogram2dcontour": [
           {
            "colorbar": {
             "outlinewidth": 0,
             "ticks": ""
            },
            "colorscale": [
             [
              0,
              "#0d0887"
             ],
             [
              0.1111111111111111,
              "#46039f"
             ],
             [
              0.2222222222222222,
              "#7201a8"
             ],
             [
              0.3333333333333333,
              "#9c179e"
             ],
             [
              0.4444444444444444,
              "#bd3786"
             ],
             [
              0.5555555555555556,
              "#d8576b"
             ],
             [
              0.6666666666666666,
              "#ed7953"
             ],
             [
              0.7777777777777778,
              "#fb9f3a"
             ],
             [
              0.8888888888888888,
              "#fdca26"
             ],
             [
              1,
              "#f0f921"
             ]
            ],
            "type": "histogram2dcontour"
           }
          ],
          "mesh3d": [
           {
            "colorbar": {
             "outlinewidth": 0,
             "ticks": ""
            },
            "type": "mesh3d"
           }
          ],
          "parcoords": [
           {
            "line": {
             "colorbar": {
              "outlinewidth": 0,
              "ticks": ""
             }
            },
            "type": "parcoords"
           }
          ],
          "scatter": [
           {
            "marker": {
             "colorbar": {
              "outlinewidth": 0,
              "ticks": ""
             }
            },
            "type": "scatter"
           }
          ],
          "scatter3d": [
           {
            "line": {
             "colorbar": {
              "outlinewidth": 0,
              "ticks": ""
             }
            },
            "marker": {
             "colorbar": {
              "outlinewidth": 0,
              "ticks": ""
             }
            },
            "type": "scatter3d"
           }
          ],
          "scattercarpet": [
           {
            "marker": {
             "colorbar": {
              "outlinewidth": 0,
              "ticks": ""
             }
            },
            "type": "scattercarpet"
           }
          ],
          "scattergeo": [
           {
            "marker": {
             "colorbar": {
              "outlinewidth": 0,
              "ticks": ""
             }
            },
            "type": "scattergeo"
           }
          ],
          "scattergl": [
           {
            "marker": {
             "colorbar": {
              "outlinewidth": 0,
              "ticks": ""
             }
            },
            "type": "scattergl"
           }
          ],
          "scattermapbox": [
           {
            "marker": {
             "colorbar": {
              "outlinewidth": 0,
              "ticks": ""
             }
            },
            "type": "scattermapbox"
           }
          ],
          "scatterpolar": [
           {
            "marker": {
             "colorbar": {
              "outlinewidth": 0,
              "ticks": ""
             }
            },
            "type": "scatterpolar"
           }
          ],
          "scatterpolargl": [
           {
            "marker": {
             "colorbar": {
              "outlinewidth": 0,
              "ticks": ""
             }
            },
            "type": "scatterpolargl"
           }
          ],
          "scatterternary": [
           {
            "marker": {
             "colorbar": {
              "outlinewidth": 0,
              "ticks": ""
             }
            },
            "type": "scatterternary"
           }
          ],
          "surface": [
           {
            "colorbar": {
             "outlinewidth": 0,
             "ticks": ""
            },
            "colorscale": [
             [
              0,
              "#0d0887"
             ],
             [
              0.1111111111111111,
              "#46039f"
             ],
             [
              0.2222222222222222,
              "#7201a8"
             ],
             [
              0.3333333333333333,
              "#9c179e"
             ],
             [
              0.4444444444444444,
              "#bd3786"
             ],
             [
              0.5555555555555556,
              "#d8576b"
             ],
             [
              0.6666666666666666,
              "#ed7953"
             ],
             [
              0.7777777777777778,
              "#fb9f3a"
             ],
             [
              0.8888888888888888,
              "#fdca26"
             ],
             [
              1,
              "#f0f921"
             ]
            ],
            "type": "surface"
           }
          ],
          "table": [
           {
            "cells": {
             "fill": {
              "color": "#EBF0F8"
             },
             "line": {
              "color": "white"
             }
            },
            "header": {
             "fill": {
              "color": "#C8D4E3"
             },
             "line": {
              "color": "white"
             }
            },
            "type": "table"
           }
          ]
         },
         "layout": {
          "annotationdefaults": {
           "arrowcolor": "#2a3f5f",
           "arrowhead": 0,
           "arrowwidth": 1
          },
          "colorscale": {
           "diverging": [
            [
             0,
             "#8e0152"
            ],
            [
             0.1,
             "#c51b7d"
            ],
            [
             0.2,
             "#de77ae"
            ],
            [
             0.3,
             "#f1b6da"
            ],
            [
             0.4,
             "#fde0ef"
            ],
            [
             0.5,
             "#f7f7f7"
            ],
            [
             0.6,
             "#e6f5d0"
            ],
            [
             0.7,
             "#b8e186"
            ],
            [
             0.8,
             "#7fbc41"
            ],
            [
             0.9,
             "#4d9221"
            ],
            [
             1,
             "#276419"
            ]
           ],
           "sequential": [
            [
             0,
             "#0d0887"
            ],
            [
             0.1111111111111111,
             "#46039f"
            ],
            [
             0.2222222222222222,
             "#7201a8"
            ],
            [
             0.3333333333333333,
             "#9c179e"
            ],
            [
             0.4444444444444444,
             "#bd3786"
            ],
            [
             0.5555555555555556,
             "#d8576b"
            ],
            [
             0.6666666666666666,
             "#ed7953"
            ],
            [
             0.7777777777777778,
             "#fb9f3a"
            ],
            [
             0.8888888888888888,
             "#fdca26"
            ],
            [
             1,
             "#f0f921"
            ]
           ],
           "sequentialminus": [
            [
             0,
             "#0d0887"
            ],
            [
             0.1111111111111111,
             "#46039f"
            ],
            [
             0.2222222222222222,
             "#7201a8"
            ],
            [
             0.3333333333333333,
             "#9c179e"
            ],
            [
             0.4444444444444444,
             "#bd3786"
            ],
            [
             0.5555555555555556,
             "#d8576b"
            ],
            [
             0.6666666666666666,
             "#ed7953"
            ],
            [
             0.7777777777777778,
             "#fb9f3a"
            ],
            [
             0.8888888888888888,
             "#fdca26"
            ],
            [
             1,
             "#f0f921"
            ]
           ]
          },
          "colorway": [
           "#636efa",
           "#EF553B",
           "#00cc96",
           "#ab63fa",
           "#FFA15A",
           "#19d3f3",
           "#FF6692",
           "#B6E880",
           "#FF97FF",
           "#FECB52"
          ],
          "font": {
           "color": "#2a3f5f"
          },
          "geo": {
           "bgcolor": "white",
           "lakecolor": "white",
           "landcolor": "#E5ECF6",
           "showlakes": true,
           "showland": true,
           "subunitcolor": "white"
          },
          "hoverlabel": {
           "align": "left"
          },
          "hovermode": "closest",
          "mapbox": {
           "style": "light"
          },
          "paper_bgcolor": "white",
          "plot_bgcolor": "#E5ECF6",
          "polar": {
           "angularaxis": {
            "gridcolor": "white",
            "linecolor": "white",
            "ticks": ""
           },
           "bgcolor": "#E5ECF6",
           "radialaxis": {
            "gridcolor": "white",
            "linecolor": "white",
            "ticks": ""
           }
          },
          "scene": {
           "xaxis": {
            "backgroundcolor": "#E5ECF6",
            "gridcolor": "white",
            "gridwidth": 2,
            "linecolor": "white",
            "showbackground": true,
            "ticks": "",
            "zerolinecolor": "white"
           },
           "yaxis": {
            "backgroundcolor": "#E5ECF6",
            "gridcolor": "white",
            "gridwidth": 2,
            "linecolor": "white",
            "showbackground": true,
            "ticks": "",
            "zerolinecolor": "white"
           },
           "zaxis": {
            "backgroundcolor": "#E5ECF6",
            "gridcolor": "white",
            "gridwidth": 2,
            "linecolor": "white",
            "showbackground": true,
            "ticks": "",
            "zerolinecolor": "white"
           }
          },
          "shapedefaults": {
           "line": {
            "color": "#2a3f5f"
           }
          },
          "ternary": {
           "aaxis": {
            "gridcolor": "white",
            "linecolor": "white",
            "ticks": ""
           },
           "baxis": {
            "gridcolor": "white",
            "linecolor": "white",
            "ticks": ""
           },
           "bgcolor": "#E5ECF6",
           "caxis": {
            "gridcolor": "white",
            "linecolor": "white",
            "ticks": ""
           }
          },
          "title": {
           "x": 0.05
          },
          "xaxis": {
           "automargin": true,
           "gridcolor": "white",
           "linecolor": "white",
           "ticks": "",
           "zerolinecolor": "white",
           "zerolinewidth": 2
          },
          "yaxis": {
           "automargin": true,
           "gridcolor": "white",
           "linecolor": "white",
           "ticks": "",
           "zerolinecolor": "white",
           "zerolinewidth": 2
          }
         }
        },
        "title": {
         "font": {
          "color": "#4D5663"
         },
         "text": "Output"
        },
        "xaxis": {
         "gridcolor": "#E1E5ED",
         "showgrid": true,
         "tickfont": {
          "color": "#4D5663"
         },
         "title": {
          "font": {
           "color": "#4D5663"
          },
          "text": "Tout"
         },
         "zerolinecolor": "#E1E5ED"
        },
        "yaxis": {
         "gridcolor": "#E1E5ED",
         "showgrid": true,
         "tickfont": {
          "color": "#4D5663"
         },
         "title": {
          "font": {
           "color": "#4D5663"
          },
          "text": "yout"
         },
         "zerolinecolor": "#E1E5ED"
        }
       }
      },
      "text/html": [
       "<div>\n",
       "        \n",
       "        \n",
       "            <div id=\"35ff3c78-941a-400d-aa41-16e8c64deeef\" class=\"plotly-graph-div\" style=\"height:525px; width:100%;\"></div>\n",
       "            <script type=\"text/javascript\">\n",
       "                require([\"plotly\"], function(Plotly) {\n",
       "                    window.PLOTLYENV=window.PLOTLYENV || {};\n",
       "                    window.PLOTLYENV.BASE_URL='https://plot.ly';\n",
       "                    \n",
       "                if (document.getElementById(\"35ff3c78-941a-400d-aa41-16e8c64deeef\")) {\n",
       "                    Plotly.newPlot(\n",
       "                        '35ff3c78-941a-400d-aa41-16e8c64deeef',\n",
       "                        [{\"line\": {\"color\": \"rgba(255, 153, 51, 1.0)\", \"dash\": \"solid\", \"shape\": \"linear\", \"width\": 1.3}, \"mode\": \"lines\", \"name\": \"0\", \"text\": \"\", \"type\": \"scatter\", \"x\": [0.0, 3.0, 6.0, 9.0, 12.0, 15.0, 18.0, 21.0, 24.0, 27.0, 30.0, 33.0, 36.0, 39.0, 42.0, 45.0, 48.0, 51.0, 54.0, 57.0, 60.0, 63.0, 66.0, 69.0, 72.0, 75.0, 78.0, 81.0, 84.0, 87.0, 90.0, 93.0, 96.0, 99.0, 102.0, 105.0, 108.0, 111.0, 114.0, 117.0, 120.0, 123.0, 126.0, 129.0, 132.0, 135.0, 138.0, 141.0, 144.0, 147.0, 150.0, 153.0, 156.0, 159.0, 162.0, 165.0, 168.0, 171.0, 174.0, 177.0, 180.0, 183.0, 186.0, 189.0, 192.0, 195.0, 198.0, 201.0, 204.0, 207.0, 210.0, 213.0, 216.0, 219.0, 222.0, 225.0, 228.0, 231.0, 234.0, 237.0, 240.0, 243.0, 246.0, 249.0, 252.0, 255.0, 258.0, 261.0, 264.0, 267.0, 270.0, 273.0, 276.0, 279.0, 282.0, 285.0, 288.0, 291.0, 294.0, 297.0, 300.0, 303.0, 306.0, 309.0, 312.0, 315.0, 318.0, 321.0, 324.0, 327.0, 330.0, 333.0, 336.0, 339.0, 342.0, 345.0, 348.0, 351.0, 354.0, 357.0, 360.0, 363.0, 366.0, 369.0, 372.0, 375.0, 378.0, 381.0, 384.0, 387.0, 390.0, 393.0, 396.0, 399.0, 402.0, 405.0, 408.0, 411.0, 414.0, 417.0, 420.0, 423.0, 426.0, 429.0, 432.0, 435.0, 438.0, 441.0, 444.0, 447.0, 450.0, 453.0, 456.0, 459.0, 462.0, 465.0, 468.0, 471.0, 474.0, 477.0, 480.0, 483.0, 486.0, 489.0, 492.0, 495.0, 498.0, 501.0, 504.0, 507.0, 510.0, 513.0, 516.0, 519.0, 522.0, 525.0, 528.0, 531.0, 534.0, 537.0, 540.0, 543.0, 546.0, 549.0, 552.0, 555.0, 558.0, 561.0, 564.0, 567.0, 570.0, 573.0, 576.0, 579.0, 582.0, 585.0, 588.0, 591.0, 594.0, 597.0, 600.0, 603.0, 606.0, 609.0, 612.0, 615.0, 618.0, 621.0, 624.0, 627.0, 630.0, 633.0, 636.0, 639.0, 642.0, 645.0, 648.0, 651.0, 654.0, 657.0, 660.0, 663.0, 666.0, 669.0, 672.0, 675.0, 678.0, 681.0, 684.0, 687.0, 690.0, 693.0, 696.0, 699.0, 702.0, 705.0, 708.0, 711.0, 714.0, 717.0, 720.0, 723.0, 726.0, 729.0, 732.0, 735.0, 738.0, 741.0, 744.0, 747.0, 750.0, 753.0, 756.0, 759.0, 762.0, 765.0, 768.0, 771.0, 774.0, 777.0, 780.0, 783.0, 786.0, 789.0, 792.0, 795.0, 798.0, 801.0, 804.0, 807.0, 810.0, 813.0, 816.0, 819.0, 822.0, 825.0, 828.0, 831.0, 834.0, 837.0, 840.0, 843.0, 846.0, 849.0, 852.0, 855.0, 858.0, 861.0, 864.0, 867.0, 870.0, 873.0, 876.0, 879.0, 882.0, 885.0, 888.0, 891.0, 894.0, 897.0, 900.0, 903.0, 906.0, 909.0, 912.0, 915.0, 918.0, 921.0, 924.0, 927.0, 930.0, 933.0, 936.0, 939.0, 942.0, 945.0, 948.0, 951.0, 954.0, 957.0, 960.0, 963.0, 966.0, 969.0, 972.0, 975.0, 978.0, 981.0, 984.0, 987.0, 990.0, 993.0, 996.0, 999.0, 1002.0, 1005.0, 1008.0, 1011.0, 1014.0, 1017.0, 1020.0, 1023.0, 1026.0, 1029.0, 1032.0, 1035.0, 1038.0, 1041.0, 1044.0, 1047.0, 1050.0, 1053.0, 1056.0, 1059.0, 1062.0, 1065.0, 1068.0, 1071.0, 1074.0, 1077.0, 1080.0, 1083.0, 1086.0, 1089.0, 1092.0, 1095.0, 1098.0, 1101.0, 1104.0, 1107.0, 1110.0, 1113.0, 1116.0, 1119.0, 1122.0, 1125.0, 1128.0, 1131.0, 1134.0, 1137.0, 1140.0, 1143.0, 1146.0, 1149.0, 1152.0, 1155.0, 1158.0, 1161.0, 1164.0, 1167.0, 1170.0, 1173.0, 1176.0, 1179.0, 1182.0, 1185.0, 1188.0, 1191.0, 1194.0, 1197.0, 1200.0, 1203.0, 1206.0, 1209.0, 1212.0, 1215.0, 1218.0, 1221.0, 1224.0, 1227.0, 1230.0, 1233.0, 1236.0, 1239.0, 1242.0, 1245.0, 1248.0, 1251.0, 1254.0, 1257.0, 1260.0, 1263.0, 1266.0, 1269.0, 1272.0, 1275.0, 1278.0, 1281.0, 1284.0, 1287.0, 1290.0, 1293.0, 1296.0, 1299.0, 1302.0, 1305.0, 1308.0, 1311.0, 1314.0, 1317.0, 1320.0, 1323.0, 1326.0, 1329.0, 1332.0, 1335.0, 1338.0, 1341.0, 1344.0, 1347.0, 1350.0, 1353.0, 1356.0, 1359.0, 1362.0, 1365.0, 1368.0, 1371.0, 1374.0, 1377.0, 1380.0, 1383.0, 1386.0, 1389.0, 1392.0, 1395.0, 1398.0, 1401.0, 1404.0, 1407.0, 1410.0, 1413.0, 1416.0, 1419.0, 1422.0, 1425.0, 1428.0, 1431.0, 1434.0, 1437.0, 1440.0, 1443.0, 1446.0, 1449.0, 1452.0, 1455.0, 1458.0, 1461.0, 1464.0, 1467.0, 1470.0, 1473.0, 1476.0, 1479.0, 1482.0, 1485.0, 1488.0, 1491.0, 1494.0, 1497.0, 1500.0, 1503.0, 1506.0, 1509.0, 1512.0, 1515.0, 1518.0, 1521.0, 1524.0, 1527.0, 1530.0, 1533.0, 1536.0, 1539.0, 1542.0, 1545.0, 1548.0, 1551.0, 1554.0, 1557.0, 1560.0, 1563.0, 1566.0, 1569.0, 1572.0, 1575.0, 1578.0, 1581.0, 1584.0, 1587.0, 1590.0, 1593.0, 1596.0, 1599.0, 1602.0, 1605.0, 1608.0, 1611.0, 1614.0, 1617.0, 1620.0, 1623.0, 1626.0, 1629.0, 1632.0, 1635.0, 1638.0, 1641.0, 1644.0, 1647.0, 1650.0, 1653.0, 1656.0, 1659.0, 1662.0, 1665.0, 1668.0, 1671.0, 1674.0, 1677.0, 1680.0, 1683.0, 1686.0, 1689.0, 1692.0, 1695.0, 1698.0, 1701.0, 1704.0, 1707.0, 1710.0, 1713.0, 1716.0, 1719.0, 1722.0, 1725.0, 1728.0, 1731.0, 1734.0, 1737.0, 1740.0, 1743.0, 1746.0, 1749.0, 1752.0, 1755.0, 1758.0, 1761.0, 1764.0, 1767.0, 1770.0, 1773.0, 1776.0, 1779.0, 1782.0, 1785.0, 1788.0, 1791.0, 1794.0, 1797.0, 1800.0, 1803.0, 1806.0, 1809.0, 1812.0, 1815.0, 1818.0, 1821.0, 1824.0, 1827.0, 1830.0, 1833.0, 1836.0, 1839.0, 1842.0, 1845.0, 1848.0, 1851.0, 1854.0, 1857.0, 1860.0, 1863.0, 1866.0, 1869.0, 1872.0, 1875.0, 1878.0, 1881.0, 1884.0, 1887.0, 1890.0, 1893.0, 1896.0, 1899.0, 1902.0, 1905.0, 1908.0, 1911.0, 1914.0, 1917.0, 1920.0, 1923.0, 1926.0, 1929.0, 1932.0, 1935.0, 1938.0, 1941.0, 1944.0, 1947.0, 1950.0, 1953.0, 1956.0, 1959.0, 1962.0, 1965.0, 1968.0, 1971.0, 1974.0, 1977.0, 1980.0, 1983.0, 1986.0, 1989.0, 1992.0, 1995.0, 1998.0, 2001.0, 2004.0, 2007.0, 2010.0, 2013.0, 2016.0, 2019.0, 2022.0, 2025.0, 2028.0, 2031.0, 2034.0, 2037.0, 2040.0, 2043.0, 2046.0, 2049.0, 2052.0, 2055.0, 2058.0, 2061.0, 2064.0, 2067.0, 2070.0, 2073.0, 2076.0, 2079.0, 2082.0, 2085.0, 2088.0, 2091.0, 2094.0, 2097.0, 2100.0, 2103.0, 2106.0, 2109.0, 2112.0, 2115.0, 2118.0, 2121.0, 2124.0, 2127.0, 2130.0, 2133.0, 2136.0, 2139.0, 2142.0, 2145.0, 2148.0, 2151.0, 2154.0, 2157.0, 2160.0, 2163.0, 2166.0, 2169.0, 2172.0, 2175.0, 2178.0, 2181.0, 2184.0, 2187.0, 2190.0, 2193.0, 2196.0, 2199.0, 2202.0, 2205.0, 2208.0, 2211.0, 2214.0, 2217.0, 2220.0, 2223.0, 2226.0, 2229.0, 2232.0, 2235.0, 2238.0, 2241.0, 2244.0, 2247.0, 2250.0, 2253.0, 2256.0, 2259.0, 2262.0, 2265.0, 2268.0, 2271.0, 2274.0, 2277.0, 2280.0, 2283.0, 2286.0, 2289.0, 2292.0, 2295.0, 2298.0, 2301.0, 2304.0, 2307.0, 2310.0, 2313.0, 2316.0, 2319.0, 2322.0, 2325.0, 2328.0, 2331.0, 2334.0, 2337.0, 2340.0, 2343.0, 2346.0, 2349.0, 2352.0, 2355.0, 2358.0, 2361.0, 2364.0, 2367.0, 2370.0, 2373.0, 2376.0, 2379.0, 2382.0, 2385.0, 2388.0, 2391.0, 2394.0, 2397.0, 2400.0, 2403.0, 2406.0, 2409.0, 2412.0, 2415.0, 2418.0, 2421.0, 2424.0, 2427.0, 2430.0, 2433.0, 2436.0, 2439.0, 2442.0, 2445.0, 2448.0, 2451.0, 2454.0, 2457.0, 2460.0, 2463.0, 2466.0, 2469.0, 2472.0, 2475.0, 2478.0, 2481.0, 2484.0, 2487.0, 2490.0, 2493.0, 2496.0, 2499.0, 2502.0, 2505.0, 2508.0, 2511.0, 2514.0, 2517.0, 2520.0, 2523.0, 2526.0, 2529.0, 2532.0, 2535.0, 2538.0, 2541.0, 2544.0, 2547.0, 2550.0, 2553.0, 2556.0, 2559.0, 2562.0, 2565.0, 2568.0, 2571.0, 2574.0, 2577.0, 2580.0, 2583.0, 2586.0, 2589.0, 2592.0, 2595.0, 2598.0, 2601.0, 2604.0, 2607.0, 2610.0, 2613.0, 2616.0, 2619.0, 2622.0, 2625.0, 2628.0, 2631.0, 2634.0, 2637.0, 2640.0, 2643.0, 2646.0, 2649.0, 2652.0, 2655.0, 2658.0, 2661.0, 2664.0, 2667.0, 2670.0, 2673.0, 2676.0, 2679.0, 2682.0, 2685.0, 2688.0, 2691.0, 2694.0, 2697.0, 2700.0, 2703.0, 2706.0, 2709.0, 2712.0, 2715.0, 2718.0, 2721.0, 2724.0, 2727.0, 2730.0, 2733.0, 2736.0, 2739.0, 2742.0, 2745.0, 2748.0, 2751.0, 2754.0, 2757.0, 2760.0, 2763.0, 2766.0, 2769.0, 2772.0, 2775.0, 2778.0, 2781.0, 2784.0, 2787.0, 2790.0, 2793.0, 2796.0, 2799.0, 2802.0, 2805.0, 2808.0, 2811.0, 2814.0, 2817.0, 2820.0, 2823.0, 2826.0, 2829.0, 2832.0, 2835.0, 2838.0, 2841.0, 2844.0, 2847.0, 2850.0, 2853.0, 2856.0, 2859.0, 2862.0, 2865.0, 2868.0, 2871.0, 2874.0, 2877.0, 2880.0, 2883.0, 2886.0, 2889.0, 2892.0, 2895.0, 2898.0, 2901.0, 2904.0, 2907.0, 2910.0, 2913.0, 2916.0, 2919.0, 2922.0, 2925.0, 2928.0, 2931.0, 2934.0, 2937.0, 2940.0, 2943.0, 2946.0, 2949.0, 2952.0, 2955.0, 2958.0, 2961.0, 2964.0, 2967.0, 2970.0, 2973.0, 2976.0, 2979.0, 2982.0, 2985.0, 2988.0, 2991.0, 2994.0, 2997.0, 3000.0], \"y\": [0.0, 1.8848439432681582e-10, 3.769018153912863e-10, 5.651853193808792e-10, 7.532680100631612e-10, 9.41083062553711e-10, 1.1285637470586825e-09, 1.3156434525835827e-09, 1.5022557105998408e-09, 1.68833421866076e-09, 1.8738128639584613e-09, 2.058625746813449e-09, 2.242707204088453e-09, 2.42599183251823e-09, 2.6084145119470303e-09, 2.78991042846548e-09, 2.9704150974386533e-09, 3.1498643864171594e-09, 3.328194537923094e-09, 3.505342192102766e-09, 3.6812444092381567e-09, 3.855838692109097e-09, 4.029063008198232e-09, 4.200855811730886e-09, 4.3711560655419735e-09, 4.539903262762223e-09, 4.70703744831597e-09, 4.872499240222916e-09, 5.036229850696266e-09, 5.198171107029738e-09, 5.358265472266061e-09, 5.5164560656395735e-09, 5.672686682785696e-09, 5.826901815710064e-09, 5.979046672510264e-09, 6.129067196843133e-09, 6.276910087130713e-09, 6.422522815498059e-09, 6.565853646436132e-09, 6.706851655183189e-09, 6.845466745818098e-09, 6.9816496690591935e-09, 7.115352039762293e-09, 7.24652635411173e-09, 7.375126006498218e-09, 7.501105306077605e-09, 7.624419493004617e-09, 7.74502475433581e-09, 7.862878239596117e-09, 7.977938076003393e-09, 8.090163383345636e-09, 8.19951428850552e-09, 8.305951939627129e-09, 8.409438519919838e-09, 8.509937261094428e-09, 8.607412456426701e-09, 8.701829473443892e-09, 8.793154766229434e-09, 8.881355887341656e-09, 8.96640149934221e-09, 9.048261385930103e-09, 9.126906462677418e-09, 9.202308787362863e-09, 9.27444156989952e-09, 9.343279181853215e-09, 9.408797165548204e-09, 9.470972242756852e-09, 9.529782322970278e-09, 9.585206511247017e-09, 9.63722511563688e-09, 9.685819654177422e-09, 9.73097286146049e-09, 9.772668694766535e-09, 9.810892339764526e-09, 9.8456302157754e-09, 9.876869980597221e-09, 9.904600534890298e-09, 9.928812026120735e-09, 9.94949585206098e-09, 9.96664466384617e-09, 9.980252368585131e-09, 9.990314131525165e-09, 9.99682637776981e-09, 9.999786793548984e-09, 9.999194327041057e-09, 9.99504918874656e-09, 9.987352851413388e-09, 9.976108049513552e-09, 9.961318778271623e-09, 9.94299029224525e-09, 9.921129103458248e-09, 9.895742979086898e-09, 9.86684093870031e-09, 9.834433251055814e-09, 9.798531430450515e-09, 9.759148232630327e-09, 9.716297650257904e-09, 9.669994907941126e-09, 9.620256456823864e-09, 9.567099968740965e-09, 9.510544329939531e-09, 9.450609634368733e-09, 9.387317176540524e-09, 9.320689443963792e-09, 9.25075010915467e-09, 9.17752402122579e-09, 9.101037197057515e-09, 9.021316812054277e-09, 8.938391190489267e-09, 8.852289795440966e-09, 8.763043218325058e-09, 8.670683168025425e-09, 8.575242459628162e-09, 8.47675500276251e-09, 8.375255789552933e-09, 8.270780882186583e-09, 8.163367400100582e-09, 8.053053506793648e-09, 7.939878396266801e-09, 7.823882279097922e-09, 7.705106368155103e-09, 7.583592863953938e-09, 7.459384939663876e-09, 7.332526725768978e-09, 7.2030632943886e-09, 7.071040643263445e-09, 6.936505679412824e-09, 6.79950620246879e-09, 6.660090887693157e-09, 6.5183092686834244e-09, 6.374211719773721e-09, 6.227849438137032e-09, 6.079274425595101e-09, 5.928539470142433e-09, 5.775698127190951e-09, 5.620804700542042e-09, 5.46391422309264e-09, 5.30508243728234e-09, 5.144365775288342e-09, 4.981821338975378e-09, 4.817506879607698e-09, 4.651480777330316e-09, 4.483802020426812e-09, 4.314530184361095e-09, 4.143725410610515e-09, 3.9714483852978716e-09, 3.7977603176299444e-09, 3.6227229181501444e-09, 3.446398376813037e-09, 3.2688493408885784e-09, 3.090138892703803e-09, 2.9103305272300036e-09, 2.7294881295232607e-09, 2.547675952026367e-09, 2.364958591740273e-09, 2.1814009672730613e-09, 1.997068295774665e-09, 1.8120260697655514e-09, 1.626340033867525e-09, 1.4400761614449666e-09, 1.2533006311648383e-09, 1.0660798034836867e-09, 8.784801970701179e-10, 6.90568465171017e-10, 5.024113719299555e-10, 3.1407576866623427e-10, 1.2562857012291508e-10, -6.28632693076816e-11, -2.5133277937252775e-10, -4.3971299775211244e-10, -6.279369938518488e-10, -8.159378925821689e-10, -1.0036488981189377e-09, -1.1910033176357044e-09, -1.3779345849993164e-09, -1.564376284420583e-09, -1.7502621740514594e-09, -1.935526209520473e-09, -2.120102567397987e-09, -2.303925668582924e-09, -2.486930201602725e-09, -2.6690511458182144e-09, -2.8502237945250976e-09, -3.0303837779439598e-09, -3.2094670860905535e-09, -3.387410091518216e-09, -3.564149571924412e-09, -3.7396227326133265e-09, -3.9137672288064934e-09, -4.086521187793635e-09, -4.2578232309157065e-09, -4.427612495372456e-09, -4.595828655846705e-09, -4.762411945937609e-09, -4.927303179395404e-09, -5.0904437711499995e-09, -5.251775758125952e-09, -5.4112418198364865e-09, -5.5687852987492015e-09, -5.724350220416197e-09, -5.877881313361548e-09, -6.0293240287189834e-09, -6.178624559612848e-09, -6.325729860275435e-09, -6.470587664893872e-09, -6.613146506179933e-09, -6.7533557336561265e-09, -6.8911655316515484e-09, -7.026526937001167e-09, -7.159391856442206e-09, -7.289713083701436e-09, -7.41744431626735e-09, -7.54254017184123e-09, -7.664956204461244e-09, -7.784648920293906e-09, -7.901575793087203e-09, -8.015695279279997e-09, -8.126966832762243e-09, -8.235350919280809e-09, -8.34080903048585e-09, -8.443303697612592e-09, -8.542798504793863e-09, -8.639258101998414e-09, -8.73264821759067e-09, -8.822935670507243e-09, -8.910088382046032e-09, -8.994075387263601e-09, -9.07486684597693e-09, -9.152434053365419e-09, -9.226749450169642e-09, -9.297786632482967e-09, -9.36552036113277e-09, -9.429926570647786e-09, -9.490982377808455e-09, -9.548666089777212e-09, -9.602957211805864e-09, -9.653836454517268e-09, -9.701285740758751e-09, -9.745288212024855e-09, -9.785828234447059e-09, -9.82289140434843e-09, -9.856464553361186e-09, -9.88653575310534e-09, -9.913094319426814e-09, -9.936130816193454e-09, -9.955637058647653e-09, -9.971606116314344e-09, -9.98403231546338e-09, -9.992911241125367e-09, -9.9982397386603e-09, -1.0000015914878376e-08, -9.99823913871264e-09, -9.992910041443205e-09, -9.984030516472955e-09, -9.97160371865483e-09, -9.955634063170924e-09, -9.93612722396379e-09, -9.913090131720508e-09, -9.886530971410268e-09, -9.856459179376255e-09, -9.822885439982994e-09, -9.78582168182022e-09, -9.745281073464728e-09, -9.701278018801628e-09, -9.653828151906716e-09, -9.602948331491764e-09, -9.548656634914688e-09, -9.490972351756769e-09, -9.429915976969141e-09, -9.365509203591043e-09, -9.297774915042373e-09, -9.226737176993324e-09, -9.152421228813976e-09, -9.074853474606849e-09, -8.994061473825665e-09, -8.9100739314836e-09, -8.822920687954542e-09, -8.732632708370906e-09, -8.639242071621938e-09, -8.542781958956172e-09, -8.443286642192344e-09, -8.34079147154273e-09, -8.235332863053433e-09, -8.126948285665877e-09, -8.015676247904337e-09, -7.901556284193984e-09, -7.78462894081454e-09, -7.664935761494333e-09, -7.54251927265005e-09, -7.4174229682772665e-09, -7.289691294497276e-09, -7.159369633765557e-09, -7.026504288747628e-09, -6.8911424658679225e-09, -6.753332258537563e-09, -6.613122630067009e-09, -6.470563396269646e-09, -6.325705207762414e-09, -6.17859953196995e-09, -6.029298634838377e-09, -5.877855562265549e-09, -5.724324121254028e-09, -5.568758860793757e-09, -5.411215052481021e-09, -5.251748670880773e-09, -5.090416373639049e-09, -4.927275481352877e-09, -4.762383957204454e-09, -4.5958003863671796e-09, -4.427583955190554e-09, -4.257794430171591e-09, -4.086492136720052e-09, -3.913737937725136e-09, -3.739593211931145e-09, -3.564119832129954e-09, -3.387380143177864e-09, -3.2094369398447908e-09, -3.0303534445035745e-09, -2.850193284667398e-09, -2.66902047038318e-09, -2.486899371489186e-09, -2.3038946947446273e-09, -2.120071460839778e-09, -1.9354949812943323e-09, -1.7502308352526056e-09, -1.5643448461835126e-09, -1.3779030584938776e-09, -1.190971714063067e-09, -1.0036172287076872e-09, -8.159061685842567e-10, -6.279052265386468e-10, -4.396811984103597e-10, -2.5130095930036483e-10, -6.283143981058754e-11, 1.256603977360908e-10, 3.1410758308733396e-10, 5.024431618554825e-10, 6.906002193061913e-10, 8.785119041328804e-10, 1.0661114522087035e-09, 1.253332210307489e-09, 1.4401076597853762e-09, 1.626371440214501e-09, 1.8120573729606036e-09, 1.9970994846959447e-09, 2.1814320308393333e-09, 2.3649895189148284e-09, 2.547706731820966e-09, 2.7295187510020027e-09, 2.9103609795132787e-09, 3.090169164972079e-09, 3.268879422386307e-09, 3.446428256852435e-09, 3.622752586115014e-09, 3.797789762979422e-09, 3.971477597570212e-09, 4.143754379426765e-09, 4.31455889942882e-09, 4.483830471543709e-09, 4.651508954387877e-09, 4.817534772594788e-09, 4.981848937981793e-09, 5.144393070508317e-09, 5.3051094190180605e-09, 5.463940881757653e-09, 5.620831026664688e-09, 5.7757241114177275e-09, 5.928565103241311e-09, 6.0792996984587985e-09, 6.2278743417862645e-09, 6.374236245360375e-09, 6.518333407493719e-09, 6.660114631150724e-09, 6.799529542137742e-09, 6.9365286070007254e-09, 7.071063150624278e-09, 7.203085373525636e-09, 7.332548368837665e-09, 7.459406138974568e-09, 7.58361361197467e-09, 7.70512665751424e-09, 7.8239021025868e-09, 7.939897746842266e-09, 8.053072377580586e-09, 8.163385784394332e-09, 8.270798773455346e-09, 8.375273181440064e-09, 8.476771889088802e-09, 8.57525883439403e-09, 8.670699025413042e-09, 8.76305855270041e-09, 8.852304601355885e-09, 8.938405462683319e-09, 9.021330545456665e-09, 9.101050386788881e-09, 9.177536662599931e-09, 9.250762197680217e-09, 9.320700975345801e-09, 9.387328146681991e-09, 9.450620039372076e-09, 9.510554166107949e-09, 9.56710923257977e-09, 9.620265145041708e-09, 9.670003017451179e-09, 9.716305178178941e-09, 9.759155176287772e-09, 9.798537787377372e-09, 9.834439018993549e-09, 9.866846115599656e-09, 9.89574756310858e-09, 9.921133092973636e-09, 9.942993685836947e-09, 9.961321574733956e-09, 9.976110247853004e-09, 9.987354450848955e-09, 9.995050188710029e-09, 9.9991947271772e-09, 9.999786593715689e-09, 9.996825578038134e-09, 9.990312732179309e-09, 9.98025037012233e-09, 9.966642066976527e-09, 9.949492657707208e-09, 9.928808235417828e-09, 9.90459614918514e-09, 9.876865001448087e-09, 9.84562464495142e-09, 9.810886179245045e-09, 9.772661946740415e-09, 9.730965528325336e-09, 9.685811738538721e-09, 9.63721662030708e-09, 9.585197439244535e-09, 9.52977267751841e-09, 9.470962027282644e-09, 9.408786383681232e-09, 9.343267837424282e-09, 9.27442966693931e-09, 9.202296330100509e-09, 9.126893455538991e-09, 9.048247833537044e-09, 8.966387406509677e-09, 8.88134125907683e-09, 8.793139607729741e-09, 8.70181379009513e-09, 8.607396253801157e-09, 8.509920544948883e-09, 8.409421296193533e-09, 8.305934214439634e-09, 8.199496068154571e-09, 8.09014467430491e-09, 7.977918884920209e-09, 7.862858573289021e-09, 7.74500461979222e-09, 7.624398897378305e-09, 7.50108425668618e-09, 7.37510451082049e-09, 7.246504419785079e-09, 7.115329674579949e-09, 6.9816268809674834e-09, 6.845443542913582e-09, 6.7068280457098185e-09, 6.565829638782324e-09, 6.422498418193692e-09, 6.276885308844093e-09, 6.129042046377937e-09, 5.979021158802409e-09, 5.826875947824534e-09, 5.672660469913288e-09, 5.51642951709367e-09, 5.358238597479306e-09, 5.198143915550708e-09, 5.036202352186022e-09, 4.872471444451624e-09, 4.707009365159426e-09, 4.539874902198315e-09, 4.371127437647135e-09, 4.2008269266765476e-09, 4.029033876247194e-09, 3.855809323611896e-09, 3.681214814629342e-09, 3.505312381897239e-09, 3.328164522712356e-09, 3.1498341768655683e-09, 2.9703847042795803e-09, 2.7898798624975665e-09, 2.6083837840302828e-09, 2.425960953570228e-09, 2.2426761850804026e-09, 2.0585945987663365e-09, 1.8737815979391207e-09, 1.6883028457779578e-09, 1.5022242420002775e-09, 1.3156118994479839e-09, 1.1285321205978094e-09, 9.410513740043949e-10, 7.53236270684276e-10, 5.65153540449341e-10, 3.7687000819808175e-10, 1.884525701729912e-10, -3.1829807407691354e-14, -1.8851622413327465e-10, -3.769336451967962e-10, -5.652171491854225e-10, -7.532998398667558e-10, -9.411148923563569e-10, -1.1285955768603793e-09, -1.3156752823842952e-09, -1.5022875403996045e-09, -1.6883660484595749e-09, -1.873844693756327e-09, -2.0586575766103487e-09, -2.242739033884404e-09, -2.4260236623132317e-09, -2.608446341741082e-09, -2.7899422582585653e-09, -2.9704469272307895e-09, -3.149896216208347e-09, -3.3282263677133154e-09, -3.5053740218920226e-09, -3.6812762390264636e-09, -3.8558705218964535e-09, -4.02909483798464e-09, -4.200887641516328e-09, -4.371187895326468e-09, -4.539935092545766e-09, -4.707069278098564e-09, -4.872531070004546e-09, -5.036261680476946e-09, -5.1982029368094535e-09, -5.358297302044826e-09, -5.516487895417374e-09, -5.672718512562546e-09, -5.826933645485964e-09, -5.979078502285214e-09, -6.129099026617119e-09, -6.276941916903749e-09, -6.422554645270143e-09, -6.565885476207268e-09, -6.70688348495336e-09, -6.845498575587307e-09, -6.98168149882745e-09, -7.1153838695296e-09, -7.246558183878075e-09, -7.375157836263611e-09, -7.501137135842046e-09, -7.624451322768108e-09, -7.74505658409834e-09, -7.862910069357697e-09, -7.97796990576402e-09, -8.090195213105311e-09, -8.199546118264222e-09, -8.30598376938488e-09, -8.409470349676638e-09, -8.509969090850277e-09, -8.607444286181589e-09, -8.701861303197827e-09, -8.793186595982417e-09, -8.881387717093689e-09, -8.96643332909328e-09, -9.048293215680223e-09, -9.126938292426584e-09, -9.202340617111078e-09, -9.274473399646767e-09, -9.34331101159951e-09, -9.408828995293546e-09, -9.47100407250124e-09, -9.529814152713708e-09, -9.585238340989495e-09, -9.637256945378405e-09, -9.685851483917995e-09, -9.731004691200103e-09, -9.772700524505196e-09, -9.810924169502231e-09, -9.84566204551215e-09, -9.876901810333014e-09, -9.904632364625135e-09, -9.928843855854619e-09, -9.949527681793912e-09, -9.966676493578146e-09, -9.980284198316152e-09, -9.99034596125523e-09, -9.996858207498921e-09, -9.999818623277139e-09, -9.999226156768257e-09, -9.995081018472806e-09, -9.987384681138678e-09, -9.976139879237888e-09, -9.961350607995003e-09, -9.943022121967676e-09, -9.921160933179718e-09, -9.895774808807415e-09, -9.866872768419871e-09, -9.834465080774418e-09, -9.798563260168165e-09, -9.75918006234702e-09, -9.716329479973648e-09, -9.670026737655914e-09, -9.620288286537695e-09, -9.567131798453843e-09, -9.510576159651455e-09, -9.4506414640797e-09, -9.387349006250534e-09, -9.320721273672853e-09, -9.250781938862773e-09, -9.177555850932935e-09, -9.101069026763704e-09, -9.021348641759522e-09, -8.938423020193556e-09, -8.852321625144296e-09, -8.763075048027426e-09, -8.670714997726847e-09, -8.575274289328628e-09, -8.476786832462017e-09, -8.375287619251482e-09, -8.270812711884183e-09, -8.163399229797224e-09, -8.05308533648933e-09, -7.93991022596154e-09, -7.82391410879171e-09, -7.70513819784793e-09, -7.58362469364581e-09, -7.459416769354788e-09, -7.332558555458945e-09, -7.203095124077604e-09, -7.071072472951492e-09, -6.936537509099911e-09, -6.799538032154929e-09, -6.6601227173783376e-09, -6.51834109836766e-09, -6.374243549456996e-09, -6.22788126781936e-09, -6.079306255276473e-09, -5.928571299822842e-09, -5.775729956870402e-09, -5.620836530220545e-09, -5.463946052770186e-09, -5.305114266958925e-09, -5.144397604963967e-09, -4.981853168650058e-09, -4.817538709281435e-09, -4.651512607003091e-09, -4.483833850098628e-09, -4.314562014031968e-09, -4.143757240280425e-09, -3.971480214966823e-09, -3.797792147297936e-09, -3.6227547478171903e-09, -3.446430206479124e-09, -3.268881170553702e-09, -3.090170722367967e-09, -2.9103623568932263e-09, -2.729519959185537e-09, -2.5477077816876843e-09, -2.3649904214006305e-09, -2.1814327969324723e-09, -1.9971001254331172e-09, -1.8120578994230442e-09, -1.6263718635240544e-09, -1.4401079911005537e-09, -1.2533324608194618e-09, -1.066111633137351e-09, -8.785120267228226e-10, -6.906002948227936e-10, -5.024432015807727e-10, -3.14107598316092e-10, -1.2566039977180918e-10, 6.283143965972905e-11, 2.5130094972553454e-10, 4.39681168106083e-10, 6.279051642067788e-10, 8.159060629380403e-10, 1.0036170684757728e-09, 1.190971487993499e-09, 1.3779027553580569e-09, 1.564344454780265e-09, 1.7502303444121007e-09, 1.935494379882078e-09, 2.1200707377605513e-09, 2.30389383894643e-09, 2.486898371967195e-09, 2.6690193161836437e-09, 2.8501919648914855e-09, 3.0303519483112936e-09, 3.2094352564588464e-09, 3.3873782618874517e-09, 3.5641177422946108e-09, 3.739590902984467e-09, 3.9137353991785984e-09, 4.086489358166699e-09, 4.257791401289729e-09, 4.4275806657474264e-09, 4.595796826222633e-09, 4.762380116314496e-09, 4.927271349773255e-09, 5.090411941528792e-09, 5.251743928505688e-09, 5.411209990217186e-09, 5.5687534691308604e-09, 5.724318390798802e-09, 5.877849483745112e-09, 6.029292199103506e-09, 6.178592729998334e-09, 6.3256980306618635e-09, 6.470555835281259e-09, 6.613114676568282e-09, 6.7533239040454335e-09, 6.8911337020417885e-09, 7.026495107392368e-09, 7.159360026834365e-09, 7.2896812540945535e-09, 7.417412486661415e-09, 7.542508342236255e-09, 7.664924374857227e-09, 7.784617090690845e-09, 7.901543963485092e-09, 8.015663449678845e-09, 8.126935003162046e-09, 8.235319089681562e-09, 8.340777200887548e-09, 8.443271868015256e-09, 8.542766675197482e-09, 8.639226272402991e-09, 8.732616387996193e-09, 8.822903840913726e-09, 8.910056552453468e-09, 8.994043557672e-09, 9.074835016386276e-09, 9.152402223775727e-09, 9.226717620580904e-09, 9.297754802895178e-09, 9.365488531545934e-09, 9.429894741061908e-09, 9.490950548223532e-09, 9.548634260193244e-09, 9.602925382222847e-09, 9.653804624935208e-09, 9.70125391117765e-09, 9.74525638244471e-09, 9.785796404867866e-09, 9.822859574770195e-09, 9.8564327237839e-09, 9.88650392352901e-09, 9.913062489851438e-09, 9.936098986619036e-09, 9.95560522907419e-09, 9.971574286741836e-09, 9.984000485891826e-09, 9.992879411554769e-09, 9.998207909090658e-09, 9.999984085309688e-09, 9.998207309144905e-09, 9.992878211876426e-09, 9.98399868690713e-09, 9.97157188908996e-09, 9.95560223360701e-09, 9.93609539440083e-09, 9.913058302158506e-09, 9.886499141849218e-09, 9.856427349816163e-09, 9.822853610423851e-09, 9.785789852262034e-09, 9.745249243907495e-09, 9.70124618924536e-09, 9.653796322351399e-09, 9.602916501937397e-09, 9.548624805361275e-09, 9.490940522204315e-09, 9.429884147417642e-09, 9.365477374040498e-09, 9.29774308549278e-09, 9.22670534744469e-09, 9.152389399266294e-09, 9.074821645060119e-09, 8.994029644279895e-09, 8.910042101938794e-09, 8.82288885841068e-09, 8.732600878828001e-09, 8.639210242079981e-09, 8.542750129415182e-09, 8.443254812652302e-09, 8.340759642003644e-09, 8.235301033515293e-09, 8.126916456128702e-09, 8.015644418368111e-09, 7.901524454658724e-09, 7.784597111280228e-09, 7.664903931960984e-09, 7.542487443117649e-09, 7.41739113874582e-09, 7.2896594649667794e-09, 7.159337804236026e-09, 7.026472459219049e-09, 6.89111063634029e-09, 6.75330042901088e-09, 6.613090800541294e-09, 6.470531566744892e-09, 6.325673378238614e-09, 6.178567702447093e-09, 6.029266805316488e-09, 5.87782373274461e-09, 5.7242922917340414e-09, 5.568727031274718e-09, 5.4111832229629525e-09, 5.251716841363645e-09, 5.090384544122875e-09, 4.927243651837649e-09, 4.762352127690214e-09, 4.5957685568538855e-09, 4.427552125678207e-09, 4.2577626006601914e-09, 4.086460307209622e-09, 3.913706108215654e-09, 3.739561382422617e-09, 3.564088002622373e-09, 3.387348313671246e-09, 3.20940511033912e-09, 3.0303216149988583e-09, 2.8501614551636283e-09, 2.6689886408803994e-09, 2.486867541987343e-09, 2.3038628652437393e-09, 2.1200396313398364e-09, 1.9354631517953625e-09, 1.750199005754582e-09, 1.5643130166864439e-09, 1.3778712289977464e-09, 1.190939884567908e-09, 1.003585399213474e-09, 8.158743390909988e-10, 6.278733970463526e-10, 4.3964936891903817e-10, 2.512691298099804e-10, 6.279961032115804e-11, -1.256922272245743e-10, -3.141394125748449e-10, -5.024749913420474e-10, -6.906320487918102e-10, -8.785437336175533e-10, -1.0661432816924036e-09, -1.2533640397902434e-09, -1.4401394892671578e-09, -1.626403269695337e-09, -1.8120892024404757e-09, -1.9971313141748703e-09, -2.1814638603173043e-09, -2.365021348391853e-09, -2.5477385612970183e-09, -2.7295505804771174e-09, -2.910392808987421e-09, -3.090200994445293e-09, -3.2689112518585487e-09, -3.4464600863237135e-09, -3.622784415585321e-09, -3.797821592448808e-09, -3.971509427038627e-09, -4.143786208894248e-09, -4.314590728895332e-09, -4.483862301009259e-09, -4.651540783852496e-09, -4.817566602058444e-09, -4.981880767444477e-09, -5.1444248999700695e-09, -5.305141248478843e-09, -5.463972711217474e-09, -5.620862856123546e-09, -5.775755940875653e-09, -5.928596932698268e-09, -6.07933152791482e-09, -6.227906171241318e-09, -6.374268074814466e-09, -6.518365236946849e-09, -6.66014646060292e-09, -6.7995613715889694e-09, -6.936560436451017e-09, -7.0710949800736034e-09, -7.203117202974031e-09, -7.33258019828507e-09, -7.459437968421035e-09, -7.583645441420172e-09, -7.705158486958779e-09, -7.823933932030399e-09, -7.939929576284908e-09, -8.053104207022283e-09, -8.16341761383507e-09, -8.270830602895118e-09, -8.375305010878876e-09, -8.476803718526674e-09, -8.575290663830943e-09, -8.670730854849009e-09, -8.76309038213542e-09, -8.852336430789929e-09, -8.93843729211642e-09, -9.021362374888793e-09, -9.101082216220063e-09, -9.177568492030154e-09, -9.250794027109495e-09, -9.320732804774116e-09, -9.387359976109363e-09, -9.45065186879849e-09, -9.510585995533417e-09, -9.567141062004267e-09, -9.620296974465245e-09, -9.670034846873767e-09, -9.716337007600576e-09, -9.759187005708456e-09, -9.798569616797099e-09, -9.834470848412324e-09, -9.866877945017474e-09, -9.895779392525441e-09, -9.921164922389544e-09, -9.9430255152519e-09, -9.961353404147951e-09, -9.976142077266046e-09, -9.987386280261045e-09, -9.995082018121159e-09, -9.999226556587376e-09, -9.999818423124911e-09, -9.996857407446402e-09, -9.990344561586624e-09, -9.980282199528689e-09, -9.96667389638193e-09, -9.949524487111655e-09, -9.928840064821323e-09, -9.904627978587681e-09, -9.876896830849674e-09, -9.845656474352053e-09, -9.810918008644719e-09, -9.772693776139139e-09, -9.730997357723097e-09, -9.685843567935533e-09, -9.637248449702932e-09, -9.585229268639429e-09, -9.529804506912355e-09, -9.47099385667564e-09, -9.408818213073274e-09, -9.343299666815364e-09, -9.274461496329443e-09, -9.202328159489679e-09, -9.126925284927206e-09, -9.04827966292429e-09, -8.966419235895991e-09, -8.881373088462182e-09, -8.793171437114138e-09, -8.701845619478564e-09, -8.607428083183645e-09, -8.509952374330406e-09, -8.409453125574103e-09, -8.305966043819257e-09, -8.199527897533252e-09, -8.090176503682644e-09, -7.977950714296956e-09, -7.862890402664827e-09, -7.745036449167057e-09, -7.624430726752198e-09, -7.501116086059098e-09, -7.3751363401924614e-09, -7.246536249156109e-09, -7.115361503950038e-09, -6.9816587103366165e-09, -6.845475372281749e-09, -6.706859875077043e-09, -6.565861468148568e-09, -6.422530247558981e-09, -6.276917138208414e-09, -6.129073875741345e-09, -5.979052988164846e-09, -5.8269077771860165e-09, -5.6726922992738e-09, -5.5164613464532425e-09, -5.3582704268379396e-09, -5.198175744908356e-09, -5.036234181542731e-09, -4.8725032738073934e-09, -4.707041194514239e-09, -4.539906731552141e-09, -4.371159267000023e-09, -4.200858756028464e-09, -4.0290657055981726e-09, -3.855841152961886e-09, -3.681246643978394e-09, -3.5053442112453863e-09, -3.3281963520595315e-09, -3.149866006211789e-09, -2.9704165336248297e-09, -2.789911691841861e-09, -2.608415613373605e-09, -2.4259927829125954e-09, -2.242708014421798e-09, -2.0586264281068284e-09, -1.8738134272786407e-09, -1.688334675116523e-09, -1.5022560713379055e-09, -1.3156437287846393e-09, -1.1285639499335279e-09, -9.410832033391232e-10, -7.532681000180493e-10, -5.65185369782177e-10, -3.769018375299808e-10, -1.8848439950389983e-10, 4.774361831982955e-19]}],\n",
       "                        {\"legend\": {\"bgcolor\": \"#FFFFFF\", \"font\": {\"color\": \"#4D5663\"}}, \"paper_bgcolor\": \"#FFFFFF\", \"plot_bgcolor\": \"#FFFFFF\", \"template\": {\"data\": {\"bar\": [{\"error_x\": {\"color\": \"#2a3f5f\"}, \"error_y\": {\"color\": \"#2a3f5f\"}, \"marker\": {\"line\": {\"color\": \"#E5ECF6\", \"width\": 0.5}}, \"type\": \"bar\"}], \"barpolar\": [{\"marker\": {\"line\": {\"color\": \"#E5ECF6\", \"width\": 0.5}}, \"type\": \"barpolar\"}], \"carpet\": [{\"aaxis\": {\"endlinecolor\": \"#2a3f5f\", \"gridcolor\": \"white\", \"linecolor\": \"white\", \"minorgridcolor\": \"white\", \"startlinecolor\": \"#2a3f5f\"}, \"baxis\": {\"endlinecolor\": \"#2a3f5f\", \"gridcolor\": \"white\", \"linecolor\": \"white\", \"minorgridcolor\": \"white\", \"startlinecolor\": \"#2a3f5f\"}, \"type\": \"carpet\"}], \"choropleth\": [{\"colorbar\": {\"outlinewidth\": 0, \"ticks\": \"\"}, \"type\": \"choropleth\"}], \"contour\": [{\"colorbar\": {\"outlinewidth\": 0, \"ticks\": \"\"}, \"colorscale\": [[0.0, \"#0d0887\"], [0.1111111111111111, \"#46039f\"], [0.2222222222222222, \"#7201a8\"], [0.3333333333333333, \"#9c179e\"], [0.4444444444444444, \"#bd3786\"], [0.5555555555555556, \"#d8576b\"], [0.6666666666666666, \"#ed7953\"], [0.7777777777777778, \"#fb9f3a\"], [0.8888888888888888, \"#fdca26\"], [1.0, \"#f0f921\"]], \"type\": \"contour\"}], \"contourcarpet\": [{\"colorbar\": {\"outlinewidth\": 0, \"ticks\": \"\"}, \"type\": \"contourcarpet\"}], \"heatmap\": [{\"colorbar\": {\"outlinewidth\": 0, \"ticks\": \"\"}, \"colorscale\": [[0.0, \"#0d0887\"], [0.1111111111111111, \"#46039f\"], [0.2222222222222222, \"#7201a8\"], [0.3333333333333333, \"#9c179e\"], [0.4444444444444444, \"#bd3786\"], [0.5555555555555556, \"#d8576b\"], [0.6666666666666666, \"#ed7953\"], [0.7777777777777778, \"#fb9f3a\"], [0.8888888888888888, \"#fdca26\"], [1.0, \"#f0f921\"]], \"type\": \"heatmap\"}], \"heatmapgl\": [{\"colorbar\": {\"outlinewidth\": 0, \"ticks\": \"\"}, \"colorscale\": [[0.0, \"#0d0887\"], [0.1111111111111111, \"#46039f\"], [0.2222222222222222, \"#7201a8\"], [0.3333333333333333, \"#9c179e\"], [0.4444444444444444, \"#bd3786\"], [0.5555555555555556, \"#d8576b\"], [0.6666666666666666, \"#ed7953\"], [0.7777777777777778, \"#fb9f3a\"], [0.8888888888888888, \"#fdca26\"], [1.0, \"#f0f921\"]], \"type\": \"heatmapgl\"}], \"histogram\": [{\"marker\": {\"colorbar\": {\"outlinewidth\": 0, \"ticks\": \"\"}}, \"type\": \"histogram\"}], \"histogram2d\": [{\"colorbar\": {\"outlinewidth\": 0, \"ticks\": \"\"}, \"colorscale\": [[0.0, \"#0d0887\"], [0.1111111111111111, \"#46039f\"], [0.2222222222222222, \"#7201a8\"], [0.3333333333333333, \"#9c179e\"], [0.4444444444444444, \"#bd3786\"], [0.5555555555555556, \"#d8576b\"], [0.6666666666666666, \"#ed7953\"], [0.7777777777777778, \"#fb9f3a\"], [0.8888888888888888, \"#fdca26\"], [1.0, \"#f0f921\"]], \"type\": \"histogram2d\"}], \"histogram2dcontour\": [{\"colorbar\": {\"outlinewidth\": 0, \"ticks\": \"\"}, \"colorscale\": [[0.0, \"#0d0887\"], [0.1111111111111111, \"#46039f\"], [0.2222222222222222, \"#7201a8\"], [0.3333333333333333, \"#9c179e\"], [0.4444444444444444, \"#bd3786\"], [0.5555555555555556, \"#d8576b\"], [0.6666666666666666, \"#ed7953\"], [0.7777777777777778, \"#fb9f3a\"], [0.8888888888888888, \"#fdca26\"], [1.0, \"#f0f921\"]], \"type\": \"histogram2dcontour\"}], \"mesh3d\": [{\"colorbar\": {\"outlinewidth\": 0, \"ticks\": \"\"}, \"type\": \"mesh3d\"}], \"parcoords\": [{\"line\": {\"colorbar\": {\"outlinewidth\": 0, \"ticks\": \"\"}}, \"type\": \"parcoords\"}], \"scatter\": [{\"marker\": {\"colorbar\": {\"outlinewidth\": 0, \"ticks\": \"\"}}, \"type\": \"scatter\"}], \"scatter3d\": [{\"line\": {\"colorbar\": {\"outlinewidth\": 0, \"ticks\": \"\"}}, \"marker\": {\"colorbar\": {\"outlinewidth\": 0, \"ticks\": \"\"}}, \"type\": \"scatter3d\"}], \"scattercarpet\": [{\"marker\": {\"colorbar\": {\"outlinewidth\": 0, \"ticks\": \"\"}}, \"type\": \"scattercarpet\"}], \"scattergeo\": [{\"marker\": {\"colorbar\": {\"outlinewidth\": 0, \"ticks\": \"\"}}, \"type\": \"scattergeo\"}], \"scattergl\": [{\"marker\": {\"colorbar\": {\"outlinewidth\": 0, \"ticks\": \"\"}}, \"type\": \"scattergl\"}], \"scattermapbox\": [{\"marker\": {\"colorbar\": {\"outlinewidth\": 0, \"ticks\": \"\"}}, \"type\": \"scattermapbox\"}], \"scatterpolar\": [{\"marker\": {\"colorbar\": {\"outlinewidth\": 0, \"ticks\": \"\"}}, \"type\": \"scatterpolar\"}], \"scatterpolargl\": [{\"marker\": {\"colorbar\": {\"outlinewidth\": 0, \"ticks\": \"\"}}, \"type\": \"scatterpolargl\"}], \"scatterternary\": [{\"marker\": {\"colorbar\": {\"outlinewidth\": 0, \"ticks\": \"\"}}, \"type\": \"scatterternary\"}], \"surface\": [{\"colorbar\": {\"outlinewidth\": 0, \"ticks\": \"\"}, \"colorscale\": [[0.0, \"#0d0887\"], [0.1111111111111111, \"#46039f\"], [0.2222222222222222, \"#7201a8\"], [0.3333333333333333, \"#9c179e\"], [0.4444444444444444, \"#bd3786\"], [0.5555555555555556, \"#d8576b\"], [0.6666666666666666, \"#ed7953\"], [0.7777777777777778, \"#fb9f3a\"], [0.8888888888888888, \"#fdca26\"], [1.0, \"#f0f921\"]], \"type\": \"surface\"}], \"table\": [{\"cells\": {\"fill\": {\"color\": \"#EBF0F8\"}, \"line\": {\"color\": \"white\"}}, \"header\": {\"fill\": {\"color\": \"#C8D4E3\"}, \"line\": {\"color\": \"white\"}}, \"type\": \"table\"}]}, \"layout\": {\"annotationdefaults\": {\"arrowcolor\": \"#2a3f5f\", \"arrowhead\": 0, \"arrowwidth\": 1}, \"colorscale\": {\"diverging\": [[0, \"#8e0152\"], [0.1, \"#c51b7d\"], [0.2, \"#de77ae\"], [0.3, \"#f1b6da\"], [0.4, \"#fde0ef\"], [0.5, \"#f7f7f7\"], [0.6, \"#e6f5d0\"], [0.7, \"#b8e186\"], [0.8, \"#7fbc41\"], [0.9, \"#4d9221\"], [1, \"#276419\"]], \"sequential\": [[0.0, \"#0d0887\"], [0.1111111111111111, \"#46039f\"], [0.2222222222222222, \"#7201a8\"], [0.3333333333333333, \"#9c179e\"], [0.4444444444444444, \"#bd3786\"], [0.5555555555555556, \"#d8576b\"], [0.6666666666666666, \"#ed7953\"], [0.7777777777777778, \"#fb9f3a\"], [0.8888888888888888, \"#fdca26\"], [1.0, \"#f0f921\"]], \"sequentialminus\": [[0.0, \"#0d0887\"], [0.1111111111111111, \"#46039f\"], [0.2222222222222222, \"#7201a8\"], [0.3333333333333333, \"#9c179e\"], [0.4444444444444444, \"#bd3786\"], [0.5555555555555556, \"#d8576b\"], [0.6666666666666666, \"#ed7953\"], [0.7777777777777778, \"#fb9f3a\"], [0.8888888888888888, \"#fdca26\"], [1.0, \"#f0f921\"]]}, \"colorway\": [\"#636efa\", \"#EF553B\", \"#00cc96\", \"#ab63fa\", \"#FFA15A\", \"#19d3f3\", \"#FF6692\", \"#B6E880\", \"#FF97FF\", \"#FECB52\"], \"font\": {\"color\": \"#2a3f5f\"}, \"geo\": {\"bgcolor\": \"white\", \"lakecolor\": \"white\", \"landcolor\": \"#E5ECF6\", \"showlakes\": true, \"showland\": true, \"subunitcolor\": \"white\"}, \"hoverlabel\": {\"align\": \"left\"}, \"hovermode\": \"closest\", \"mapbox\": {\"style\": \"light\"}, \"paper_bgcolor\": \"white\", \"plot_bgcolor\": \"#E5ECF6\", \"polar\": {\"angularaxis\": {\"gridcolor\": \"white\", \"linecolor\": \"white\", \"ticks\": \"\"}, \"bgcolor\": \"#E5ECF6\", \"radialaxis\": {\"gridcolor\": \"white\", \"linecolor\": \"white\", \"ticks\": \"\"}}, \"scene\": {\"xaxis\": {\"backgroundcolor\": \"#E5ECF6\", \"gridcolor\": \"white\", \"gridwidth\": 2, \"linecolor\": \"white\", \"showbackground\": true, \"ticks\": \"\", \"zerolinecolor\": \"white\"}, \"yaxis\": {\"backgroundcolor\": \"#E5ECF6\", \"gridcolor\": \"white\", \"gridwidth\": 2, \"linecolor\": \"white\", \"showbackground\": true, \"ticks\": \"\", \"zerolinecolor\": \"white\"}, \"zaxis\": {\"backgroundcolor\": \"#E5ECF6\", \"gridcolor\": \"white\", \"gridwidth\": 2, \"linecolor\": \"white\", \"showbackground\": true, \"ticks\": \"\", \"zerolinecolor\": \"white\"}}, \"shapedefaults\": {\"line\": {\"color\": \"#2a3f5f\"}}, \"ternary\": {\"aaxis\": {\"gridcolor\": \"white\", \"linecolor\": \"white\", \"ticks\": \"\"}, \"baxis\": {\"gridcolor\": \"white\", \"linecolor\": \"white\", \"ticks\": \"\"}, \"bgcolor\": \"#E5ECF6\", \"caxis\": {\"gridcolor\": \"white\", \"linecolor\": \"white\", \"ticks\": \"\"}}, \"title\": {\"x\": 0.05}, \"xaxis\": {\"automargin\": true, \"gridcolor\": \"white\", \"linecolor\": \"white\", \"ticks\": \"\", \"zerolinecolor\": \"white\", \"zerolinewidth\": 2}, \"yaxis\": {\"automargin\": true, \"gridcolor\": \"white\", \"linecolor\": \"white\", \"ticks\": \"\", \"zerolinecolor\": \"white\", \"zerolinewidth\": 2}}}, \"title\": {\"font\": {\"color\": \"#4D5663\"}, \"text\": \"Output\"}, \"xaxis\": {\"gridcolor\": \"#E1E5ED\", \"showgrid\": true, \"tickfont\": {\"color\": \"#4D5663\"}, \"title\": {\"font\": {\"color\": \"#4D5663\"}, \"text\": \"Tout\"}, \"zerolinecolor\": \"#E1E5ED\"}, \"yaxis\": {\"gridcolor\": \"#E1E5ED\", \"showgrid\": true, \"tickfont\": {\"color\": \"#4D5663\"}, \"title\": {\"font\": {\"color\": \"#4D5663\"}, \"text\": \"yout\"}, \"zerolinecolor\": \"#E1E5ED\"}},\n",
       "                        {\"showLink\": true, \"linkText\": \"Export to plot.ly\", \"plotlyServerURL\": \"https://plot.ly\", \"responsive\": true}\n",
       "                    ).then(function(){\n",
       "                            \n",
       "var gd = document.getElementById('35ff3c78-941a-400d-aa41-16e8c64deeef');\n",
       "var x = new MutationObserver(function (mutations, observer) {{\n",
       "        var display = window.getComputedStyle(gd).display;\n",
       "        if (!display || display === 'none') {{\n",
       "            console.log([gd, 'removed!']);\n",
       "            Plotly.purge(gd);\n",
       "            observer.disconnect();\n",
       "        }}\n",
       "}});\n",
       "\n",
       "// Listen for the removal of the full notebook cells\n",
       "var notebookContainer = gd.closest('#notebook-container');\n",
       "if (notebookContainer) {{\n",
       "    x.observe(notebookContainer, {childList: true});\n",
       "}}\n",
       "\n",
       "// Listen for the clearing of the current output cell\n",
       "var outputEl = gd.closest('.output');\n",
       "if (outputEl) {{\n",
       "    x.observe(outputEl, {childList: true});\n",
       "}}\n",
       "\n",
       "                        })\n",
       "                };\n",
       "                });\n",
       "            </script>\n",
       "        </div>"
      ]
     },
     "metadata": {},
     "output_type": "display_data"
    }
   ],
   "source": [
    "# Система всегда устойчива, так как по критерию Гурвица для a*λ+1=0: Единственный главный минор det(1) > 0\n",
    "# Так что берем любой a\n",
    "w = 0.001\n",
    "T = np.linspace(0, 3.0/w, 1001)\n",
    "S = [sin(t * 2*pi*w) for t in T]\n",
    "Tout, yout, xout = signal.lsim(transfer_func, S, T)\n",
    "\n",
    "df_i = pd.DataFrame(S, index=T)\n",
    "df_i.iplot(mode='lines', xTitle='T', yTitle='S', title='Input')\n",
    "\n",
    "df_o = pd.DataFrame(yout, index=Tout)\n",
    "df_o.iplot(mode='lines', xTitle='Tout', yTitle='yout', title='Output')"
   ]
  },
  {
   "cell_type": "markdown",
   "metadata": {},
   "source": [
    "### 5. Постройте графики АЧХ и ФЧХ для двух систем, описанных в пункте выше. Имеет ли смысл это действие для неустойчивой системы?"
   ]
  },
  {
   "cell_type": "code",
   "execution_count": 8,
   "metadata": {},
   "outputs": [
    {
     "data": {
      "application/vnd.plotly.v1+json": {
       "config": {
        "linkText": "Export to plot.ly",
        "plotlyServerURL": "https://plot.ly",
        "showLink": true
       },
       "data": [
        {
         "line": {
          "color": "rgba(255, 153, 51, 1.0)",
          "dash": "solid",
          "shape": "linear",
          "width": 1.3
         },
         "mode": "lines",
         "name": "0",
         "text": "",
         "type": "scatter",
         "x": [
          1e-10,
          1.2915496650148827e-10,
          1.6681005372000558e-10,
          2.1544346900318867e-10,
          2.782559402207126e-10,
          3.593813663804626e-10,
          4.6415888336127727e-10,
          5.994842503189421e-10,
          7.742636826811277e-10,
          1e-09,
          1.2915496650148826e-09,
          1.6681005372000556e-09,
          2.1544346900318866e-09,
          2.7825594022071257e-09,
          3.5938136638046257e-09,
          4.641588833612773e-09,
          5.994842503189421e-09,
          7.742636826811278e-09,
          1e-08,
          1.2915496650148827e-08,
          1.6681005372000592e-08,
          2.1544346900318822e-08,
          2.782559402207126e-08,
          3.593813663804626e-08,
          4.641588833612773e-08,
          5.99484250318941e-08,
          7.742636826811277e-08,
          1e-07,
          1.2915496650148827e-07,
          1.6681005372000556e-07,
          2.1544346900318822e-07,
          2.782559402207126e-07,
          3.5938136638046254e-07,
          4.6415888336127725e-07,
          5.994842503189409e-07,
          7.742636826811278e-07,
          1e-06,
          1.2915496650148827e-06,
          1.6681005372000591e-06,
          2.1544346900318822e-06,
          2.782559402207126e-06,
          3.5938136638046257e-06,
          4.641588833612773e-06,
          5.994842503189409e-06,
          7.742636826811262e-06,
          1e-05,
          1.2915496650148827e-05,
          1.6681005372000593e-05,
          2.1544346900318823e-05,
          2.7825594022071202e-05,
          3.5938136638046256e-05,
          4.641588833612772e-05,
          5.994842503189409e-05,
          7.742636826811262e-05,
          0.0001,
          0.00012915496650148828,
          0.00016681005372000556,
          0.00021544346900318823,
          0.00027825594022071204,
          0.00035938136638046257,
          0.00046415888336127724,
          0.0005994842503189409,
          0.0007742636826811262,
          0.001,
          0.0012915496650148827,
          0.0016681005372000558,
          0.002154434690031882,
          0.00278255940220712,
          0.003593813663804626,
          0.004641588833612773,
          0.005994842503189409,
          0.007742636826811262,
          0.01,
          0.012915496650148827,
          0.016681005372000558,
          0.021544346900318777,
          0.02782559402207126,
          0.03593813663804626,
          0.046415888336127725,
          0.059948425031893966,
          0.07742636826811278,
          0.1,
          0.12915496650148828,
          0.16681005372000557,
          0.21544346900318778,
          0.2782559402207126,
          0.3593813663804626,
          0.46415888336127725,
          0.5994842503189397,
          0.7742636826811246,
          1,
          1.2915496650148828,
          1.6681005372000557,
          2.154434690031878,
          2.782559402207126,
          3.593813663804626,
          4.641588833612772,
          5.994842503189396,
          7.742636826811246,
          10
         ],
         "y": [
          -200.00043427276862,
          -197.77850216422055,
          -195.5567638376515,
          -193.33534868206618,
          -191.11447239446844,
          -188.89449439869665,
          -186.67601319301272,
          -184.46002420024487,
          -182.24817976423097,
          -180.04321373782642,
          -177.8496248749673,
          -175.6747498346412,
          -173.5303765850726,
          -171.43498711106278,
          -169.41642437968883,
          -167.51401431021748,
          -165.77785757011998,
          -164.26202190285204,
          -163.0102999566398,
          -162.0397996806298,
          -161.33341312567552,
          -160.8473476435508,
          -160.52753549079995,
          -160.32387599995167,
          -160.19704325173927,
          -160.11919427908563,
          -160.07184709718953,
          -160.04321373782642,
          -160.02595754200877,
          -160.01557975580045,
          -160.00934652634606,
          -160.00560550980776,
          -160.0033612833573,
          -160.00201534873287,
          -160.0012082820959,
          -160.00072438644278,
          -160.00043427276864,
          -160.00026034489835,
          -160.0001560745398,
          -160.00009356490185,
          -160.00005609092705,
          -160.0000336257143,
          -160.00002015811737,
          -160.00001208448512,
          -160.00000724446255,
          -160.00000434294265,
          -160.00000260352624,
          -160.00000156077317,
          -160.000000935659,
          -160.00000056091284,
          -160.0000003362584,
          -160.00000020158166,
          -160.00000012084502,
          -160.0000000724447,
          -160.00000004342945,
          -160.00000002603528,
          -160.00000001560775,
          -160.0000000093566,
          -160.00000000560914,
          -160.00000000336257,
          -160.0000000020158,
          -160.00000000120846,
          -160.00000000072444,
          -160.00000000043428,
          -160.00000000026034,
          -160.00000000015606,
          -160.00000000009356,
          -160.0000000000561,
          -160.0000000000336,
          -160.00000000002015,
          -160.00000000001208,
          -160.00000000000725,
          -160.00000000000432,
          -160.0000000000026,
          -160.00000000000156,
          -160.0000000000009,
          -160.00000000000057,
          -160.0000000000003,
          -160.00000000000023,
          -160.0000000000001,
          -160.00000000000006,
          -160.00000000000003,
          -160.00000000000003,
          -160,
          -160,
          -160,
          -160,
          -160,
          -160,
          -160,
          -160,
          -160,
          -160,
          -160,
          -160,
          -160,
          -160,
          -160,
          -160,
          -160
         ]
        }
       ],
       "layout": {
        "legend": {
         "bgcolor": "#FFFFFF",
         "font": {
          "color": "#4D5663"
         }
        },
        "paper_bgcolor": "#FFFFFF",
        "plot_bgcolor": "#FFFFFF",
        "template": {
         "data": {
          "bar": [
           {
            "error_x": {
             "color": "#2a3f5f"
            },
            "error_y": {
             "color": "#2a3f5f"
            },
            "marker": {
             "line": {
              "color": "#E5ECF6",
              "width": 0.5
             }
            },
            "type": "bar"
           }
          ],
          "barpolar": [
           {
            "marker": {
             "line": {
              "color": "#E5ECF6",
              "width": 0.5
             }
            },
            "type": "barpolar"
           }
          ],
          "carpet": [
           {
            "aaxis": {
             "endlinecolor": "#2a3f5f",
             "gridcolor": "white",
             "linecolor": "white",
             "minorgridcolor": "white",
             "startlinecolor": "#2a3f5f"
            },
            "baxis": {
             "endlinecolor": "#2a3f5f",
             "gridcolor": "white",
             "linecolor": "white",
             "minorgridcolor": "white",
             "startlinecolor": "#2a3f5f"
            },
            "type": "carpet"
           }
          ],
          "choropleth": [
           {
            "colorbar": {
             "outlinewidth": 0,
             "ticks": ""
            },
            "type": "choropleth"
           }
          ],
          "contour": [
           {
            "colorbar": {
             "outlinewidth": 0,
             "ticks": ""
            },
            "colorscale": [
             [
              0,
              "#0d0887"
             ],
             [
              0.1111111111111111,
              "#46039f"
             ],
             [
              0.2222222222222222,
              "#7201a8"
             ],
             [
              0.3333333333333333,
              "#9c179e"
             ],
             [
              0.4444444444444444,
              "#bd3786"
             ],
             [
              0.5555555555555556,
              "#d8576b"
             ],
             [
              0.6666666666666666,
              "#ed7953"
             ],
             [
              0.7777777777777778,
              "#fb9f3a"
             ],
             [
              0.8888888888888888,
              "#fdca26"
             ],
             [
              1,
              "#f0f921"
             ]
            ],
            "type": "contour"
           }
          ],
          "contourcarpet": [
           {
            "colorbar": {
             "outlinewidth": 0,
             "ticks": ""
            },
            "type": "contourcarpet"
           }
          ],
          "heatmap": [
           {
            "colorbar": {
             "outlinewidth": 0,
             "ticks": ""
            },
            "colorscale": [
             [
              0,
              "#0d0887"
             ],
             [
              0.1111111111111111,
              "#46039f"
             ],
             [
              0.2222222222222222,
              "#7201a8"
             ],
             [
              0.3333333333333333,
              "#9c179e"
             ],
             [
              0.4444444444444444,
              "#bd3786"
             ],
             [
              0.5555555555555556,
              "#d8576b"
             ],
             [
              0.6666666666666666,
              "#ed7953"
             ],
             [
              0.7777777777777778,
              "#fb9f3a"
             ],
             [
              0.8888888888888888,
              "#fdca26"
             ],
             [
              1,
              "#f0f921"
             ]
            ],
            "type": "heatmap"
           }
          ],
          "heatmapgl": [
           {
            "colorbar": {
             "outlinewidth": 0,
             "ticks": ""
            },
            "colorscale": [
             [
              0,
              "#0d0887"
             ],
             [
              0.1111111111111111,
              "#46039f"
             ],
             [
              0.2222222222222222,
              "#7201a8"
             ],
             [
              0.3333333333333333,
              "#9c179e"
             ],
             [
              0.4444444444444444,
              "#bd3786"
             ],
             [
              0.5555555555555556,
              "#d8576b"
             ],
             [
              0.6666666666666666,
              "#ed7953"
             ],
             [
              0.7777777777777778,
              "#fb9f3a"
             ],
             [
              0.8888888888888888,
              "#fdca26"
             ],
             [
              1,
              "#f0f921"
             ]
            ],
            "type": "heatmapgl"
           }
          ],
          "histogram": [
           {
            "marker": {
             "colorbar": {
              "outlinewidth": 0,
              "ticks": ""
             }
            },
            "type": "histogram"
           }
          ],
          "histogram2d": [
           {
            "colorbar": {
             "outlinewidth": 0,
             "ticks": ""
            },
            "colorscale": [
             [
              0,
              "#0d0887"
             ],
             [
              0.1111111111111111,
              "#46039f"
             ],
             [
              0.2222222222222222,
              "#7201a8"
             ],
             [
              0.3333333333333333,
              "#9c179e"
             ],
             [
              0.4444444444444444,
              "#bd3786"
             ],
             [
              0.5555555555555556,
              "#d8576b"
             ],
             [
              0.6666666666666666,
              "#ed7953"
             ],
             [
              0.7777777777777778,
              "#fb9f3a"
             ],
             [
              0.8888888888888888,
              "#fdca26"
             ],
             [
              1,
              "#f0f921"
             ]
            ],
            "type": "histogram2d"
           }
          ],
          "histogram2dcontour": [
           {
            "colorbar": {
             "outlinewidth": 0,
             "ticks": ""
            },
            "colorscale": [
             [
              0,
              "#0d0887"
             ],
             [
              0.1111111111111111,
              "#46039f"
             ],
             [
              0.2222222222222222,
              "#7201a8"
             ],
             [
              0.3333333333333333,
              "#9c179e"
             ],
             [
              0.4444444444444444,
              "#bd3786"
             ],
             [
              0.5555555555555556,
              "#d8576b"
             ],
             [
              0.6666666666666666,
              "#ed7953"
             ],
             [
              0.7777777777777778,
              "#fb9f3a"
             ],
             [
              0.8888888888888888,
              "#fdca26"
             ],
             [
              1,
              "#f0f921"
             ]
            ],
            "type": "histogram2dcontour"
           }
          ],
          "mesh3d": [
           {
            "colorbar": {
             "outlinewidth": 0,
             "ticks": ""
            },
            "type": "mesh3d"
           }
          ],
          "parcoords": [
           {
            "line": {
             "colorbar": {
              "outlinewidth": 0,
              "ticks": ""
             }
            },
            "type": "parcoords"
           }
          ],
          "scatter": [
           {
            "marker": {
             "colorbar": {
              "outlinewidth": 0,
              "ticks": ""
             }
            },
            "type": "scatter"
           }
          ],
          "scatter3d": [
           {
            "line": {
             "colorbar": {
              "outlinewidth": 0,
              "ticks": ""
             }
            },
            "marker": {
             "colorbar": {
              "outlinewidth": 0,
              "ticks": ""
             }
            },
            "type": "scatter3d"
           }
          ],
          "scattercarpet": [
           {
            "marker": {
             "colorbar": {
              "outlinewidth": 0,
              "ticks": ""
             }
            },
            "type": "scattercarpet"
           }
          ],
          "scattergeo": [
           {
            "marker": {
             "colorbar": {
              "outlinewidth": 0,
              "ticks": ""
             }
            },
            "type": "scattergeo"
           }
          ],
          "scattergl": [
           {
            "marker": {
             "colorbar": {
              "outlinewidth": 0,
              "ticks": ""
             }
            },
            "type": "scattergl"
           }
          ],
          "scattermapbox": [
           {
            "marker": {
             "colorbar": {
              "outlinewidth": 0,
              "ticks": ""
             }
            },
            "type": "scattermapbox"
           }
          ],
          "scatterpolar": [
           {
            "marker": {
             "colorbar": {
              "outlinewidth": 0,
              "ticks": ""
             }
            },
            "type": "scatterpolar"
           }
          ],
          "scatterpolargl": [
           {
            "marker": {
             "colorbar": {
              "outlinewidth": 0,
              "ticks": ""
             }
            },
            "type": "scatterpolargl"
           }
          ],
          "scatterternary": [
           {
            "marker": {
             "colorbar": {
              "outlinewidth": 0,
              "ticks": ""
             }
            },
            "type": "scatterternary"
           }
          ],
          "surface": [
           {
            "colorbar": {
             "outlinewidth": 0,
             "ticks": ""
            },
            "colorscale": [
             [
              0,
              "#0d0887"
             ],
             [
              0.1111111111111111,
              "#46039f"
             ],
             [
              0.2222222222222222,
              "#7201a8"
             ],
             [
              0.3333333333333333,
              "#9c179e"
             ],
             [
              0.4444444444444444,
              "#bd3786"
             ],
             [
              0.5555555555555556,
              "#d8576b"
             ],
             [
              0.6666666666666666,
              "#ed7953"
             ],
             [
              0.7777777777777778,
              "#fb9f3a"
             ],
             [
              0.8888888888888888,
              "#fdca26"
             ],
             [
              1,
              "#f0f921"
             ]
            ],
            "type": "surface"
           }
          ],
          "table": [
           {
            "cells": {
             "fill": {
              "color": "#EBF0F8"
             },
             "line": {
              "color": "white"
             }
            },
            "header": {
             "fill": {
              "color": "#C8D4E3"
             },
             "line": {
              "color": "white"
             }
            },
            "type": "table"
           }
          ]
         },
         "layout": {
          "annotationdefaults": {
           "arrowcolor": "#2a3f5f",
           "arrowhead": 0,
           "arrowwidth": 1
          },
          "colorscale": {
           "diverging": [
            [
             0,
             "#8e0152"
            ],
            [
             0.1,
             "#c51b7d"
            ],
            [
             0.2,
             "#de77ae"
            ],
            [
             0.3,
             "#f1b6da"
            ],
            [
             0.4,
             "#fde0ef"
            ],
            [
             0.5,
             "#f7f7f7"
            ],
            [
             0.6,
             "#e6f5d0"
            ],
            [
             0.7,
             "#b8e186"
            ],
            [
             0.8,
             "#7fbc41"
            ],
            [
             0.9,
             "#4d9221"
            ],
            [
             1,
             "#276419"
            ]
           ],
           "sequential": [
            [
             0,
             "#0d0887"
            ],
            [
             0.1111111111111111,
             "#46039f"
            ],
            [
             0.2222222222222222,
             "#7201a8"
            ],
            [
             0.3333333333333333,
             "#9c179e"
            ],
            [
             0.4444444444444444,
             "#bd3786"
            ],
            [
             0.5555555555555556,
             "#d8576b"
            ],
            [
             0.6666666666666666,
             "#ed7953"
            ],
            [
             0.7777777777777778,
             "#fb9f3a"
            ],
            [
             0.8888888888888888,
             "#fdca26"
            ],
            [
             1,
             "#f0f921"
            ]
           ],
           "sequentialminus": [
            [
             0,
             "#0d0887"
            ],
            [
             0.1111111111111111,
             "#46039f"
            ],
            [
             0.2222222222222222,
             "#7201a8"
            ],
            [
             0.3333333333333333,
             "#9c179e"
            ],
            [
             0.4444444444444444,
             "#bd3786"
            ],
            [
             0.5555555555555556,
             "#d8576b"
            ],
            [
             0.6666666666666666,
             "#ed7953"
            ],
            [
             0.7777777777777778,
             "#fb9f3a"
            ],
            [
             0.8888888888888888,
             "#fdca26"
            ],
            [
             1,
             "#f0f921"
            ]
           ]
          },
          "colorway": [
           "#636efa",
           "#EF553B",
           "#00cc96",
           "#ab63fa",
           "#FFA15A",
           "#19d3f3",
           "#FF6692",
           "#B6E880",
           "#FF97FF",
           "#FECB52"
          ],
          "font": {
           "color": "#2a3f5f"
          },
          "geo": {
           "bgcolor": "white",
           "lakecolor": "white",
           "landcolor": "#E5ECF6",
           "showlakes": true,
           "showland": true,
           "subunitcolor": "white"
          },
          "hoverlabel": {
           "align": "left"
          },
          "hovermode": "closest",
          "mapbox": {
           "style": "light"
          },
          "paper_bgcolor": "white",
          "plot_bgcolor": "#E5ECF6",
          "polar": {
           "angularaxis": {
            "gridcolor": "white",
            "linecolor": "white",
            "ticks": ""
           },
           "bgcolor": "#E5ECF6",
           "radialaxis": {
            "gridcolor": "white",
            "linecolor": "white",
            "ticks": ""
           }
          },
          "scene": {
           "xaxis": {
            "backgroundcolor": "#E5ECF6",
            "gridcolor": "white",
            "gridwidth": 2,
            "linecolor": "white",
            "showbackground": true,
            "ticks": "",
            "zerolinecolor": "white"
           },
           "yaxis": {
            "backgroundcolor": "#E5ECF6",
            "gridcolor": "white",
            "gridwidth": 2,
            "linecolor": "white",
            "showbackground": true,
            "ticks": "",
            "zerolinecolor": "white"
           },
           "zaxis": {
            "backgroundcolor": "#E5ECF6",
            "gridcolor": "white",
            "gridwidth": 2,
            "linecolor": "white",
            "showbackground": true,
            "ticks": "",
            "zerolinecolor": "white"
           }
          },
          "shapedefaults": {
           "line": {
            "color": "#2a3f5f"
           }
          },
          "ternary": {
           "aaxis": {
            "gridcolor": "white",
            "linecolor": "white",
            "ticks": ""
           },
           "baxis": {
            "gridcolor": "white",
            "linecolor": "white",
            "ticks": ""
           },
           "bgcolor": "#E5ECF6",
           "caxis": {
            "gridcolor": "white",
            "linecolor": "white",
            "ticks": ""
           }
          },
          "title": {
           "x": 0.05
          },
          "xaxis": {
           "automargin": true,
           "gridcolor": "white",
           "linecolor": "white",
           "ticks": "",
           "zerolinecolor": "white",
           "zerolinewidth": 2
          },
          "yaxis": {
           "automargin": true,
           "gridcolor": "white",
           "linecolor": "white",
           "ticks": "",
           "zerolinecolor": "white",
           "zerolinewidth": 2
          }
         }
        },
        "title": {
         "font": {
          "color": "#4D5663"
         },
         "text": "АЧХ"
        },
        "xaxis": {
         "gridcolor": "#E1E5ED",
         "showgrid": true,
         "tickfont": {
          "color": "#4D5663"
         },
         "title": {
          "font": {
           "color": "#4D5663"
          },
          "text": "W"
         },
         "type": "log",
         "zerolinecolor": "#E1E5ED"
        },
        "yaxis": {
         "gridcolor": "#E1E5ED",
         "showgrid": true,
         "tickfont": {
          "color": "#4D5663"
         },
         "title": {
          "font": {
           "color": "#4D5663"
          },
          "text": "mag"
         },
         "zerolinecolor": "#E1E5ED"
        }
       }
      },
      "text/html": [
       "<div>\n",
       "        \n",
       "        \n",
       "            <div id=\"86339a4d-5972-4e6d-9f76-b1d3d4ad165e\" class=\"plotly-graph-div\" style=\"height:525px; width:100%;\"></div>\n",
       "            <script type=\"text/javascript\">\n",
       "                require([\"plotly\"], function(Plotly) {\n",
       "                    window.PLOTLYENV=window.PLOTLYENV || {};\n",
       "                    window.PLOTLYENV.BASE_URL='https://plot.ly';\n",
       "                    \n",
       "                if (document.getElementById(\"86339a4d-5972-4e6d-9f76-b1d3d4ad165e\")) {\n",
       "                    Plotly.newPlot(\n",
       "                        '86339a4d-5972-4e6d-9f76-b1d3d4ad165e',\n",
       "                        [{\"line\": {\"color\": \"rgba(255, 153, 51, 1.0)\", \"dash\": \"solid\", \"shape\": \"linear\", \"width\": 1.3}, \"mode\": \"lines\", \"name\": \"0\", \"text\": \"\", \"type\": \"scatter\", \"x\": [1e-10, 1.2915496650148827e-10, 1.6681005372000558e-10, 2.1544346900318867e-10, 2.782559402207126e-10, 3.593813663804626e-10, 4.6415888336127727e-10, 5.994842503189421e-10, 7.742636826811277e-10, 1e-09, 1.2915496650148826e-09, 1.6681005372000556e-09, 2.1544346900318866e-09, 2.7825594022071257e-09, 3.5938136638046257e-09, 4.641588833612773e-09, 5.994842503189421e-09, 7.742636826811278e-09, 1e-08, 1.2915496650148827e-08, 1.6681005372000592e-08, 2.1544346900318822e-08, 2.782559402207126e-08, 3.593813663804626e-08, 4.641588833612773e-08, 5.99484250318941e-08, 7.742636826811277e-08, 1e-07, 1.2915496650148827e-07, 1.6681005372000556e-07, 2.1544346900318822e-07, 2.782559402207126e-07, 3.5938136638046254e-07, 4.6415888336127725e-07, 5.994842503189409e-07, 7.742636826811278e-07, 1e-06, 1.2915496650148827e-06, 1.6681005372000591e-06, 2.1544346900318822e-06, 2.782559402207126e-06, 3.5938136638046257e-06, 4.641588833612773e-06, 5.994842503189409e-06, 7.742636826811262e-06, 1e-05, 1.2915496650148827e-05, 1.6681005372000593e-05, 2.1544346900318823e-05, 2.7825594022071202e-05, 3.5938136638046256e-05, 4.641588833612772e-05, 5.994842503189409e-05, 7.742636826811262e-05, 0.0001, 0.00012915496650148828, 0.00016681005372000556, 0.00021544346900318823, 0.00027825594022071204, 0.00035938136638046257, 0.00046415888336127724, 0.0005994842503189409, 0.0007742636826811262, 0.001, 0.0012915496650148827, 0.0016681005372000558, 0.002154434690031882, 0.00278255940220712, 0.003593813663804626, 0.004641588833612773, 0.005994842503189409, 0.007742636826811262, 0.01, 0.012915496650148827, 0.016681005372000558, 0.021544346900318777, 0.02782559402207126, 0.03593813663804626, 0.046415888336127725, 0.059948425031893966, 0.07742636826811278, 0.1, 0.12915496650148828, 0.16681005372000557, 0.21544346900318778, 0.2782559402207126, 0.3593813663804626, 0.46415888336127725, 0.5994842503189397, 0.7742636826811246, 1.0, 1.2915496650148828, 1.6681005372000557, 2.154434690031878, 2.782559402207126, 3.593813663804626, 4.641588833612772, 5.994842503189396, 7.742636826811246, 10.0], \"y\": [-200.00043427276862, -197.77850216422055, -195.5567638376515, -193.33534868206618, -191.11447239446844, -188.89449439869665, -186.67601319301272, -184.46002420024487, -182.24817976423097, -180.04321373782642, -177.8496248749673, -175.6747498346412, -173.5303765850726, -171.43498711106278, -169.41642437968883, -167.51401431021748, -165.77785757011998, -164.26202190285204, -163.0102999566398, -162.0397996806298, -161.33341312567552, -160.8473476435508, -160.52753549079995, -160.32387599995167, -160.19704325173927, -160.11919427908563, -160.07184709718953, -160.04321373782642, -160.02595754200877, -160.01557975580045, -160.00934652634606, -160.00560550980776, -160.0033612833573, -160.00201534873287, -160.0012082820959, -160.00072438644278, -160.00043427276864, -160.00026034489835, -160.0001560745398, -160.00009356490185, -160.00005609092705, -160.0000336257143, -160.00002015811737, -160.00001208448512, -160.00000724446255, -160.00000434294265, -160.00000260352624, -160.00000156077317, -160.000000935659, -160.00000056091284, -160.0000003362584, -160.00000020158166, -160.00000012084502, -160.0000000724447, -160.00000004342945, -160.00000002603528, -160.00000001560775, -160.0000000093566, -160.00000000560914, -160.00000000336257, -160.0000000020158, -160.00000000120846, -160.00000000072444, -160.00000000043428, -160.00000000026034, -160.00000000015606, -160.00000000009356, -160.0000000000561, -160.0000000000336, -160.00000000002015, -160.00000000001208, -160.00000000000725, -160.00000000000432, -160.0000000000026, -160.00000000000156, -160.0000000000009, -160.00000000000057, -160.0000000000003, -160.00000000000023, -160.0000000000001, -160.00000000000006, -160.00000000000003, -160.00000000000003, -160.0, -160.0, -160.0, -160.0, -160.0, -160.0, -160.0, -160.0, -160.0, -160.0, -160.0, -160.0, -160.0, -160.0, -160.0, -160.0, -160.0]}],\n",
       "                        {\"legend\": {\"bgcolor\": \"#FFFFFF\", \"font\": {\"color\": \"#4D5663\"}}, \"paper_bgcolor\": \"#FFFFFF\", \"plot_bgcolor\": \"#FFFFFF\", \"template\": {\"data\": {\"bar\": [{\"error_x\": {\"color\": \"#2a3f5f\"}, \"error_y\": {\"color\": \"#2a3f5f\"}, \"marker\": {\"line\": {\"color\": \"#E5ECF6\", \"width\": 0.5}}, \"type\": \"bar\"}], \"barpolar\": [{\"marker\": {\"line\": {\"color\": \"#E5ECF6\", \"width\": 0.5}}, \"type\": \"barpolar\"}], \"carpet\": [{\"aaxis\": {\"endlinecolor\": \"#2a3f5f\", \"gridcolor\": \"white\", \"linecolor\": \"white\", \"minorgridcolor\": \"white\", \"startlinecolor\": \"#2a3f5f\"}, \"baxis\": {\"endlinecolor\": \"#2a3f5f\", \"gridcolor\": \"white\", \"linecolor\": \"white\", \"minorgridcolor\": \"white\", \"startlinecolor\": \"#2a3f5f\"}, \"type\": \"carpet\"}], \"choropleth\": [{\"colorbar\": {\"outlinewidth\": 0, \"ticks\": \"\"}, \"type\": \"choropleth\"}], \"contour\": [{\"colorbar\": {\"outlinewidth\": 0, \"ticks\": \"\"}, \"colorscale\": [[0.0, \"#0d0887\"], [0.1111111111111111, \"#46039f\"], [0.2222222222222222, \"#7201a8\"], [0.3333333333333333, \"#9c179e\"], [0.4444444444444444, \"#bd3786\"], [0.5555555555555556, \"#d8576b\"], [0.6666666666666666, \"#ed7953\"], [0.7777777777777778, \"#fb9f3a\"], [0.8888888888888888, \"#fdca26\"], [1.0, \"#f0f921\"]], \"type\": \"contour\"}], \"contourcarpet\": [{\"colorbar\": {\"outlinewidth\": 0, \"ticks\": \"\"}, \"type\": \"contourcarpet\"}], \"heatmap\": [{\"colorbar\": {\"outlinewidth\": 0, \"ticks\": \"\"}, \"colorscale\": [[0.0, \"#0d0887\"], [0.1111111111111111, \"#46039f\"], [0.2222222222222222, \"#7201a8\"], [0.3333333333333333, \"#9c179e\"], [0.4444444444444444, \"#bd3786\"], [0.5555555555555556, \"#d8576b\"], [0.6666666666666666, \"#ed7953\"], [0.7777777777777778, \"#fb9f3a\"], [0.8888888888888888, \"#fdca26\"], [1.0, \"#f0f921\"]], \"type\": \"heatmap\"}], \"heatmapgl\": [{\"colorbar\": {\"outlinewidth\": 0, \"ticks\": \"\"}, \"colorscale\": [[0.0, \"#0d0887\"], [0.1111111111111111, \"#46039f\"], [0.2222222222222222, \"#7201a8\"], [0.3333333333333333, \"#9c179e\"], [0.4444444444444444, \"#bd3786\"], [0.5555555555555556, \"#d8576b\"], [0.6666666666666666, \"#ed7953\"], [0.7777777777777778, \"#fb9f3a\"], [0.8888888888888888, \"#fdca26\"], [1.0, \"#f0f921\"]], \"type\": \"heatmapgl\"}], \"histogram\": [{\"marker\": {\"colorbar\": {\"outlinewidth\": 0, \"ticks\": \"\"}}, \"type\": \"histogram\"}], \"histogram2d\": [{\"colorbar\": {\"outlinewidth\": 0, \"ticks\": \"\"}, \"colorscale\": [[0.0, \"#0d0887\"], [0.1111111111111111, \"#46039f\"], [0.2222222222222222, \"#7201a8\"], [0.3333333333333333, \"#9c179e\"], [0.4444444444444444, \"#bd3786\"], [0.5555555555555556, \"#d8576b\"], [0.6666666666666666, \"#ed7953\"], [0.7777777777777778, \"#fb9f3a\"], [0.8888888888888888, \"#fdca26\"], [1.0, \"#f0f921\"]], \"type\": \"histogram2d\"}], \"histogram2dcontour\": [{\"colorbar\": {\"outlinewidth\": 0, \"ticks\": \"\"}, \"colorscale\": [[0.0, \"#0d0887\"], [0.1111111111111111, \"#46039f\"], [0.2222222222222222, \"#7201a8\"], [0.3333333333333333, \"#9c179e\"], [0.4444444444444444, \"#bd3786\"], [0.5555555555555556, \"#d8576b\"], [0.6666666666666666, \"#ed7953\"], [0.7777777777777778, \"#fb9f3a\"], [0.8888888888888888, \"#fdca26\"], [1.0, \"#f0f921\"]], \"type\": \"histogram2dcontour\"}], \"mesh3d\": [{\"colorbar\": {\"outlinewidth\": 0, \"ticks\": \"\"}, \"type\": \"mesh3d\"}], \"parcoords\": [{\"line\": {\"colorbar\": {\"outlinewidth\": 0, \"ticks\": \"\"}}, \"type\": \"parcoords\"}], \"scatter\": [{\"marker\": {\"colorbar\": {\"outlinewidth\": 0, \"ticks\": \"\"}}, \"type\": \"scatter\"}], \"scatter3d\": [{\"line\": {\"colorbar\": {\"outlinewidth\": 0, \"ticks\": \"\"}}, \"marker\": {\"colorbar\": {\"outlinewidth\": 0, \"ticks\": \"\"}}, \"type\": \"scatter3d\"}], \"scattercarpet\": [{\"marker\": {\"colorbar\": {\"outlinewidth\": 0, \"ticks\": \"\"}}, \"type\": \"scattercarpet\"}], \"scattergeo\": [{\"marker\": {\"colorbar\": {\"outlinewidth\": 0, \"ticks\": \"\"}}, \"type\": \"scattergeo\"}], \"scattergl\": [{\"marker\": {\"colorbar\": {\"outlinewidth\": 0, \"ticks\": \"\"}}, \"type\": \"scattergl\"}], \"scattermapbox\": [{\"marker\": {\"colorbar\": {\"outlinewidth\": 0, \"ticks\": \"\"}}, \"type\": \"scattermapbox\"}], \"scatterpolar\": [{\"marker\": {\"colorbar\": {\"outlinewidth\": 0, \"ticks\": \"\"}}, \"type\": \"scatterpolar\"}], \"scatterpolargl\": [{\"marker\": {\"colorbar\": {\"outlinewidth\": 0, \"ticks\": \"\"}}, \"type\": \"scatterpolargl\"}], \"scatterternary\": [{\"marker\": {\"colorbar\": {\"outlinewidth\": 0, \"ticks\": \"\"}}, \"type\": \"scatterternary\"}], \"surface\": [{\"colorbar\": {\"outlinewidth\": 0, \"ticks\": \"\"}, \"colorscale\": [[0.0, \"#0d0887\"], [0.1111111111111111, \"#46039f\"], [0.2222222222222222, \"#7201a8\"], [0.3333333333333333, \"#9c179e\"], [0.4444444444444444, \"#bd3786\"], [0.5555555555555556, \"#d8576b\"], [0.6666666666666666, \"#ed7953\"], [0.7777777777777778, \"#fb9f3a\"], [0.8888888888888888, \"#fdca26\"], [1.0, \"#f0f921\"]], \"type\": \"surface\"}], \"table\": [{\"cells\": {\"fill\": {\"color\": \"#EBF0F8\"}, \"line\": {\"color\": \"white\"}}, \"header\": {\"fill\": {\"color\": \"#C8D4E3\"}, \"line\": {\"color\": \"white\"}}, \"type\": \"table\"}]}, \"layout\": {\"annotationdefaults\": {\"arrowcolor\": \"#2a3f5f\", \"arrowhead\": 0, \"arrowwidth\": 1}, \"colorscale\": {\"diverging\": [[0, \"#8e0152\"], [0.1, \"#c51b7d\"], [0.2, \"#de77ae\"], [0.3, \"#f1b6da\"], [0.4, \"#fde0ef\"], [0.5, \"#f7f7f7\"], [0.6, \"#e6f5d0\"], [0.7, \"#b8e186\"], [0.8, \"#7fbc41\"], [0.9, \"#4d9221\"], [1, \"#276419\"]], \"sequential\": [[0.0, \"#0d0887\"], [0.1111111111111111, \"#46039f\"], [0.2222222222222222, \"#7201a8\"], [0.3333333333333333, \"#9c179e\"], [0.4444444444444444, \"#bd3786\"], [0.5555555555555556, \"#d8576b\"], [0.6666666666666666, \"#ed7953\"], [0.7777777777777778, \"#fb9f3a\"], [0.8888888888888888, \"#fdca26\"], [1.0, \"#f0f921\"]], \"sequentialminus\": [[0.0, \"#0d0887\"], [0.1111111111111111, \"#46039f\"], [0.2222222222222222, \"#7201a8\"], [0.3333333333333333, \"#9c179e\"], [0.4444444444444444, \"#bd3786\"], [0.5555555555555556, \"#d8576b\"], [0.6666666666666666, \"#ed7953\"], [0.7777777777777778, \"#fb9f3a\"], [0.8888888888888888, \"#fdca26\"], [1.0, \"#f0f921\"]]}, \"colorway\": [\"#636efa\", \"#EF553B\", \"#00cc96\", \"#ab63fa\", \"#FFA15A\", \"#19d3f3\", \"#FF6692\", \"#B6E880\", \"#FF97FF\", \"#FECB52\"], \"font\": {\"color\": \"#2a3f5f\"}, \"geo\": {\"bgcolor\": \"white\", \"lakecolor\": \"white\", \"landcolor\": \"#E5ECF6\", \"showlakes\": true, \"showland\": true, \"subunitcolor\": \"white\"}, \"hoverlabel\": {\"align\": \"left\"}, \"hovermode\": \"closest\", \"mapbox\": {\"style\": \"light\"}, \"paper_bgcolor\": \"white\", \"plot_bgcolor\": \"#E5ECF6\", \"polar\": {\"angularaxis\": {\"gridcolor\": \"white\", \"linecolor\": \"white\", \"ticks\": \"\"}, \"bgcolor\": \"#E5ECF6\", \"radialaxis\": {\"gridcolor\": \"white\", \"linecolor\": \"white\", \"ticks\": \"\"}}, \"scene\": {\"xaxis\": {\"backgroundcolor\": \"#E5ECF6\", \"gridcolor\": \"white\", \"gridwidth\": 2, \"linecolor\": \"white\", \"showbackground\": true, \"ticks\": \"\", \"zerolinecolor\": \"white\"}, \"yaxis\": {\"backgroundcolor\": \"#E5ECF6\", \"gridcolor\": \"white\", \"gridwidth\": 2, \"linecolor\": \"white\", \"showbackground\": true, \"ticks\": \"\", \"zerolinecolor\": \"white\"}, \"zaxis\": {\"backgroundcolor\": \"#E5ECF6\", \"gridcolor\": \"white\", \"gridwidth\": 2, \"linecolor\": \"white\", \"showbackground\": true, \"ticks\": \"\", \"zerolinecolor\": \"white\"}}, \"shapedefaults\": {\"line\": {\"color\": \"#2a3f5f\"}}, \"ternary\": {\"aaxis\": {\"gridcolor\": \"white\", \"linecolor\": \"white\", \"ticks\": \"\"}, \"baxis\": {\"gridcolor\": \"white\", \"linecolor\": \"white\", \"ticks\": \"\"}, \"bgcolor\": \"#E5ECF6\", \"caxis\": {\"gridcolor\": \"white\", \"linecolor\": \"white\", \"ticks\": \"\"}}, \"title\": {\"x\": 0.05}, \"xaxis\": {\"automargin\": true, \"gridcolor\": \"white\", \"linecolor\": \"white\", \"ticks\": \"\", \"zerolinecolor\": \"white\", \"zerolinewidth\": 2}, \"yaxis\": {\"automargin\": true, \"gridcolor\": \"white\", \"linecolor\": \"white\", \"ticks\": \"\", \"zerolinecolor\": \"white\", \"zerolinewidth\": 2}}}, \"title\": {\"font\": {\"color\": \"#4D5663\"}, \"text\": \"\\u0410\\u0427\\u0425\"}, \"xaxis\": {\"gridcolor\": \"#E1E5ED\", \"showgrid\": true, \"tickfont\": {\"color\": \"#4D5663\"}, \"title\": {\"font\": {\"color\": \"#4D5663\"}, \"text\": \"W\"}, \"type\": \"log\", \"zerolinecolor\": \"#E1E5ED\"}, \"yaxis\": {\"gridcolor\": \"#E1E5ED\", \"showgrid\": true, \"tickfont\": {\"color\": \"#4D5663\"}, \"title\": {\"font\": {\"color\": \"#4D5663\"}, \"text\": \"mag\"}, \"zerolinecolor\": \"#E1E5ED\"}},\n",
       "                        {\"showLink\": true, \"linkText\": \"Export to plot.ly\", \"plotlyServerURL\": \"https://plot.ly\", \"responsive\": true}\n",
       "                    ).then(function(){\n",
       "                            \n",
       "var gd = document.getElementById('86339a4d-5972-4e6d-9f76-b1d3d4ad165e');\n",
       "var x = new MutationObserver(function (mutations, observer) {{\n",
       "        var display = window.getComputedStyle(gd).display;\n",
       "        if (!display || display === 'none') {{\n",
       "            console.log([gd, 'removed!']);\n",
       "            Plotly.purge(gd);\n",
       "            observer.disconnect();\n",
       "        }}\n",
       "}});\n",
       "\n",
       "// Listen for the removal of the full notebook cells\n",
       "var notebookContainer = gd.closest('#notebook-container');\n",
       "if (notebookContainer) {{\n",
       "    x.observe(notebookContainer, {childList: true});\n",
       "}}\n",
       "\n",
       "// Listen for the clearing of the current output cell\n",
       "var outputEl = gd.closest('.output');\n",
       "if (outputEl) {{\n",
       "    x.observe(outputEl, {childList: true});\n",
       "}}\n",
       "\n",
       "                        })\n",
       "                };\n",
       "                });\n",
       "            </script>\n",
       "        </div>"
      ]
     },
     "metadata": {},
     "output_type": "display_data"
    },
    {
     "data": {
      "application/vnd.plotly.v1+json": {
       "config": {
        "linkText": "Export to plot.ly",
        "plotlyServerURL": "https://plot.ly",
        "showLink": true
       },
       "data": [
        {
         "line": {
          "color": "rgba(255, 153, 51, 1.0)",
          "dash": "solid",
          "shape": "linear",
          "width": 1.3
         },
         "mode": "lines",
         "name": "0",
         "text": "",
         "type": "scatter",
         "x": [
          1e-10,
          1.2915496650148827e-10,
          1.6681005372000558e-10,
          2.1544346900318867e-10,
          2.782559402207126e-10,
          3.593813663804626e-10,
          4.6415888336127727e-10,
          5.994842503189421e-10,
          7.742636826811277e-10,
          1e-09,
          1.2915496650148826e-09,
          1.6681005372000556e-09,
          2.1544346900318866e-09,
          2.7825594022071257e-09,
          3.5938136638046257e-09,
          4.641588833612773e-09,
          5.994842503189421e-09,
          7.742636826811278e-09,
          1e-08,
          1.2915496650148827e-08,
          1.6681005372000592e-08,
          2.1544346900318822e-08,
          2.782559402207126e-08,
          3.593813663804626e-08,
          4.641588833612773e-08,
          5.99484250318941e-08,
          7.742636826811277e-08,
          1e-07,
          1.2915496650148827e-07,
          1.6681005372000556e-07,
          2.1544346900318822e-07,
          2.782559402207126e-07,
          3.5938136638046254e-07,
          4.6415888336127725e-07,
          5.994842503189409e-07,
          7.742636826811278e-07,
          1e-06,
          1.2915496650148827e-06,
          1.6681005372000591e-06,
          2.1544346900318822e-06,
          2.782559402207126e-06,
          3.5938136638046257e-06,
          4.641588833612773e-06,
          5.994842503189409e-06,
          7.742636826811262e-06,
          1e-05,
          1.2915496650148827e-05,
          1.6681005372000593e-05,
          2.1544346900318823e-05,
          2.7825594022071202e-05,
          3.5938136638046256e-05,
          4.641588833612772e-05,
          5.994842503189409e-05,
          7.742636826811262e-05,
          0.0001,
          0.00012915496650148828,
          0.00016681005372000556,
          0.00021544346900318823,
          0.00027825594022071204,
          0.00035938136638046257,
          0.00046415888336127724,
          0.0005994842503189409,
          0.0007742636826811262,
          0.001,
          0.0012915496650148827,
          0.0016681005372000558,
          0.002154434690031882,
          0.00278255940220712,
          0.003593813663804626,
          0.004641588833612773,
          0.005994842503189409,
          0.007742636826811262,
          0.01,
          0.012915496650148827,
          0.016681005372000558,
          0.021544346900318777,
          0.02782559402207126,
          0.03593813663804626,
          0.046415888336127725,
          0.059948425031893966,
          0.07742636826811278,
          0.1,
          0.12915496650148828,
          0.16681005372000557,
          0.21544346900318778,
          0.2782559402207126,
          0.3593813663804626,
          0.46415888336127725,
          0.5994842503189397,
          0.7742636826811246,
          1,
          1.2915496650148828,
          1.6681005372000557,
          2.154434690031878,
          2.782559402207126,
          3.593813663804626,
          4.641588833612772,
          5.994842503189396,
          7.742636826811246,
          10
         ],
         "y": [
          89.42706130231653,
          89.26003769418507,
          89.04433742716898,
          88.76579078300661,
          88.40612217576286,
          87.94178223891824,
          87.34247289029904,
          86.56931407468574,
          85.57262890701192,
          84.28940686250037,
          82.64070521129922,
          80.52968454470236,
          77.84183577448113,
          74.4504579644773,
          70.23250827855884,
          65.1012096885512,
          59.05797655902463,
          52.25068221820012,
          45,
          37.74931778179989,
          30.942023440975312,
          24.898790311448842,
          19.76749172144115,
          15.549542035522716,
          12.158164225518878,
          9.470315455297667,
          7.359294788700779,
          5.710593137499643,
          4.427371092988093,
          3.430685925314276,
          2.6575271097009887,
          2.0582177610817616,
          1.5938778242371419,
          1.2342092169933803,
          0.9556625728310153,
          0.7399623058149387,
          0.5729386976834859,
          0.44361154801601443,
          0.34347505969995085,
          0.2659415405664335,
          0.2059094688211539,
          0.15942849852610855,
          0.12343982399000304,
          0.0955750319374,
          0.07400030369025773,
          0.057295760414500616,
          0.04436203238310654,
          0.03434791331317321,
          0.02659434313024722,
          0.02059103464276718,
          0.015942890587624665,
          0.012344001306554359,
          0.009557511969859062,
          0.007400034442542149,
          0.005729577932209638,
          0.004436204115923721,
          0.003434791738669289,
          0.00265943450210077,
          0.00205910355203805,
          0.0015942890994976695,
          0.0012344001495630424,
          0.0009557512057620398,
          0.0007400034483277353,
          0.0005729577951117247,
          0.00044362041246998567,
          0.000343479174274281,
          0.0002659434503991531,
          0.00020591035529156636,
          0.00015942890999050217,
          0.00012344001497521182,
          9.557512058498014e-05,
          7.400034483684706e-05,
          5.729577951306322e-05,
          4.436204124787617e-05,
          3.4347917427835444e-05,
          2.659434504010444e-05,
          2.059103552924435e-05,
          1.5942890999090952e-05,
          1.2344001497540094e-05,
          9.557512058506806e-06,
          7.400034483688764e-06,
          5.729577951308212e-06,
          4.436204124788495e-06,
          3.4347917427839523e-06,
          2.6594345040106334e-06,
          2.0591035529245234e-06,
          1.594289099909136e-06,
          1.234400149754028e-06,
          9.557512058506895e-07,
          7.400034483688835e-07,
          5.729577951308232e-07,
          4.4362041247885034e-07,
          3.4347917427839556e-07,
          2.6594345040106346e-07,
          2.059103552924524e-07,
          1.594289099909136e-07,
          1.2344001497540285e-07,
          9.557512058506898e-08,
          7.400034483688836e-08,
          5.729577951308233e-08
         ]
        }
       ],
       "layout": {
        "legend": {
         "bgcolor": "#FFFFFF",
         "font": {
          "color": "#4D5663"
         }
        },
        "paper_bgcolor": "#FFFFFF",
        "plot_bgcolor": "#FFFFFF",
        "template": {
         "data": {
          "bar": [
           {
            "error_x": {
             "color": "#2a3f5f"
            },
            "error_y": {
             "color": "#2a3f5f"
            },
            "marker": {
             "line": {
              "color": "#E5ECF6",
              "width": 0.5
             }
            },
            "type": "bar"
           }
          ],
          "barpolar": [
           {
            "marker": {
             "line": {
              "color": "#E5ECF6",
              "width": 0.5
             }
            },
            "type": "barpolar"
           }
          ],
          "carpet": [
           {
            "aaxis": {
             "endlinecolor": "#2a3f5f",
             "gridcolor": "white",
             "linecolor": "white",
             "minorgridcolor": "white",
             "startlinecolor": "#2a3f5f"
            },
            "baxis": {
             "endlinecolor": "#2a3f5f",
             "gridcolor": "white",
             "linecolor": "white",
             "minorgridcolor": "white",
             "startlinecolor": "#2a3f5f"
            },
            "type": "carpet"
           }
          ],
          "choropleth": [
           {
            "colorbar": {
             "outlinewidth": 0,
             "ticks": ""
            },
            "type": "choropleth"
           }
          ],
          "contour": [
           {
            "colorbar": {
             "outlinewidth": 0,
             "ticks": ""
            },
            "colorscale": [
             [
              0,
              "#0d0887"
             ],
             [
              0.1111111111111111,
              "#46039f"
             ],
             [
              0.2222222222222222,
              "#7201a8"
             ],
             [
              0.3333333333333333,
              "#9c179e"
             ],
             [
              0.4444444444444444,
              "#bd3786"
             ],
             [
              0.5555555555555556,
              "#d8576b"
             ],
             [
              0.6666666666666666,
              "#ed7953"
             ],
             [
              0.7777777777777778,
              "#fb9f3a"
             ],
             [
              0.8888888888888888,
              "#fdca26"
             ],
             [
              1,
              "#f0f921"
             ]
            ],
            "type": "contour"
           }
          ],
          "contourcarpet": [
           {
            "colorbar": {
             "outlinewidth": 0,
             "ticks": ""
            },
            "type": "contourcarpet"
           }
          ],
          "heatmap": [
           {
            "colorbar": {
             "outlinewidth": 0,
             "ticks": ""
            },
            "colorscale": [
             [
              0,
              "#0d0887"
             ],
             [
              0.1111111111111111,
              "#46039f"
             ],
             [
              0.2222222222222222,
              "#7201a8"
             ],
             [
              0.3333333333333333,
              "#9c179e"
             ],
             [
              0.4444444444444444,
              "#bd3786"
             ],
             [
              0.5555555555555556,
              "#d8576b"
             ],
             [
              0.6666666666666666,
              "#ed7953"
             ],
             [
              0.7777777777777778,
              "#fb9f3a"
             ],
             [
              0.8888888888888888,
              "#fdca26"
             ],
             [
              1,
              "#f0f921"
             ]
            ],
            "type": "heatmap"
           }
          ],
          "heatmapgl": [
           {
            "colorbar": {
             "outlinewidth": 0,
             "ticks": ""
            },
            "colorscale": [
             [
              0,
              "#0d0887"
             ],
             [
              0.1111111111111111,
              "#46039f"
             ],
             [
              0.2222222222222222,
              "#7201a8"
             ],
             [
              0.3333333333333333,
              "#9c179e"
             ],
             [
              0.4444444444444444,
              "#bd3786"
             ],
             [
              0.5555555555555556,
              "#d8576b"
             ],
             [
              0.6666666666666666,
              "#ed7953"
             ],
             [
              0.7777777777777778,
              "#fb9f3a"
             ],
             [
              0.8888888888888888,
              "#fdca26"
             ],
             [
              1,
              "#f0f921"
             ]
            ],
            "type": "heatmapgl"
           }
          ],
          "histogram": [
           {
            "marker": {
             "colorbar": {
              "outlinewidth": 0,
              "ticks": ""
             }
            },
            "type": "histogram"
           }
          ],
          "histogram2d": [
           {
            "colorbar": {
             "outlinewidth": 0,
             "ticks": ""
            },
            "colorscale": [
             [
              0,
              "#0d0887"
             ],
             [
              0.1111111111111111,
              "#46039f"
             ],
             [
              0.2222222222222222,
              "#7201a8"
             ],
             [
              0.3333333333333333,
              "#9c179e"
             ],
             [
              0.4444444444444444,
              "#bd3786"
             ],
             [
              0.5555555555555556,
              "#d8576b"
             ],
             [
              0.6666666666666666,
              "#ed7953"
             ],
             [
              0.7777777777777778,
              "#fb9f3a"
             ],
             [
              0.8888888888888888,
              "#fdca26"
             ],
             [
              1,
              "#f0f921"
             ]
            ],
            "type": "histogram2d"
           }
          ],
          "histogram2dcontour": [
           {
            "colorbar": {
             "outlinewidth": 0,
             "ticks": ""
            },
            "colorscale": [
             [
              0,
              "#0d0887"
             ],
             [
              0.1111111111111111,
              "#46039f"
             ],
             [
              0.2222222222222222,
              "#7201a8"
             ],
             [
              0.3333333333333333,
              "#9c179e"
             ],
             [
              0.4444444444444444,
              "#bd3786"
             ],
             [
              0.5555555555555556,
              "#d8576b"
             ],
             [
              0.6666666666666666,
              "#ed7953"
             ],
             [
              0.7777777777777778,
              "#fb9f3a"
             ],
             [
              0.8888888888888888,
              "#fdca26"
             ],
             [
              1,
              "#f0f921"
             ]
            ],
            "type": "histogram2dcontour"
           }
          ],
          "mesh3d": [
           {
            "colorbar": {
             "outlinewidth": 0,
             "ticks": ""
            },
            "type": "mesh3d"
           }
          ],
          "parcoords": [
           {
            "line": {
             "colorbar": {
              "outlinewidth": 0,
              "ticks": ""
             }
            },
            "type": "parcoords"
           }
          ],
          "scatter": [
           {
            "marker": {
             "colorbar": {
              "outlinewidth": 0,
              "ticks": ""
             }
            },
            "type": "scatter"
           }
          ],
          "scatter3d": [
           {
            "line": {
             "colorbar": {
              "outlinewidth": 0,
              "ticks": ""
             }
            },
            "marker": {
             "colorbar": {
              "outlinewidth": 0,
              "ticks": ""
             }
            },
            "type": "scatter3d"
           }
          ],
          "scattercarpet": [
           {
            "marker": {
             "colorbar": {
              "outlinewidth": 0,
              "ticks": ""
             }
            },
            "type": "scattercarpet"
           }
          ],
          "scattergeo": [
           {
            "marker": {
             "colorbar": {
              "outlinewidth": 0,
              "ticks": ""
             }
            },
            "type": "scattergeo"
           }
          ],
          "scattergl": [
           {
            "marker": {
             "colorbar": {
              "outlinewidth": 0,
              "ticks": ""
             }
            },
            "type": "scattergl"
           }
          ],
          "scattermapbox": [
           {
            "marker": {
             "colorbar": {
              "outlinewidth": 0,
              "ticks": ""
             }
            },
            "type": "scattermapbox"
           }
          ],
          "scatterpolar": [
           {
            "marker": {
             "colorbar": {
              "outlinewidth": 0,
              "ticks": ""
             }
            },
            "type": "scatterpolar"
           }
          ],
          "scatterpolargl": [
           {
            "marker": {
             "colorbar": {
              "outlinewidth": 0,
              "ticks": ""
             }
            },
            "type": "scatterpolargl"
           }
          ],
          "scatterternary": [
           {
            "marker": {
             "colorbar": {
              "outlinewidth": 0,
              "ticks": ""
             }
            },
            "type": "scatterternary"
           }
          ],
          "surface": [
           {
            "colorbar": {
             "outlinewidth": 0,
             "ticks": ""
            },
            "colorscale": [
             [
              0,
              "#0d0887"
             ],
             [
              0.1111111111111111,
              "#46039f"
             ],
             [
              0.2222222222222222,
              "#7201a8"
             ],
             [
              0.3333333333333333,
              "#9c179e"
             ],
             [
              0.4444444444444444,
              "#bd3786"
             ],
             [
              0.5555555555555556,
              "#d8576b"
             ],
             [
              0.6666666666666666,
              "#ed7953"
             ],
             [
              0.7777777777777778,
              "#fb9f3a"
             ],
             [
              0.8888888888888888,
              "#fdca26"
             ],
             [
              1,
              "#f0f921"
             ]
            ],
            "type": "surface"
           }
          ],
          "table": [
           {
            "cells": {
             "fill": {
              "color": "#EBF0F8"
             },
             "line": {
              "color": "white"
             }
            },
            "header": {
             "fill": {
              "color": "#C8D4E3"
             },
             "line": {
              "color": "white"
             }
            },
            "type": "table"
           }
          ]
         },
         "layout": {
          "annotationdefaults": {
           "arrowcolor": "#2a3f5f",
           "arrowhead": 0,
           "arrowwidth": 1
          },
          "colorscale": {
           "diverging": [
            [
             0,
             "#8e0152"
            ],
            [
             0.1,
             "#c51b7d"
            ],
            [
             0.2,
             "#de77ae"
            ],
            [
             0.3,
             "#f1b6da"
            ],
            [
             0.4,
             "#fde0ef"
            ],
            [
             0.5,
             "#f7f7f7"
            ],
            [
             0.6,
             "#e6f5d0"
            ],
            [
             0.7,
             "#b8e186"
            ],
            [
             0.8,
             "#7fbc41"
            ],
            [
             0.9,
             "#4d9221"
            ],
            [
             1,
             "#276419"
            ]
           ],
           "sequential": [
            [
             0,
             "#0d0887"
            ],
            [
             0.1111111111111111,
             "#46039f"
            ],
            [
             0.2222222222222222,
             "#7201a8"
            ],
            [
             0.3333333333333333,
             "#9c179e"
            ],
            [
             0.4444444444444444,
             "#bd3786"
            ],
            [
             0.5555555555555556,
             "#d8576b"
            ],
            [
             0.6666666666666666,
             "#ed7953"
            ],
            [
             0.7777777777777778,
             "#fb9f3a"
            ],
            [
             0.8888888888888888,
             "#fdca26"
            ],
            [
             1,
             "#f0f921"
            ]
           ],
           "sequentialminus": [
            [
             0,
             "#0d0887"
            ],
            [
             0.1111111111111111,
             "#46039f"
            ],
            [
             0.2222222222222222,
             "#7201a8"
            ],
            [
             0.3333333333333333,
             "#9c179e"
            ],
            [
             0.4444444444444444,
             "#bd3786"
            ],
            [
             0.5555555555555556,
             "#d8576b"
            ],
            [
             0.6666666666666666,
             "#ed7953"
            ],
            [
             0.7777777777777778,
             "#fb9f3a"
            ],
            [
             0.8888888888888888,
             "#fdca26"
            ],
            [
             1,
             "#f0f921"
            ]
           ]
          },
          "colorway": [
           "#636efa",
           "#EF553B",
           "#00cc96",
           "#ab63fa",
           "#FFA15A",
           "#19d3f3",
           "#FF6692",
           "#B6E880",
           "#FF97FF",
           "#FECB52"
          ],
          "font": {
           "color": "#2a3f5f"
          },
          "geo": {
           "bgcolor": "white",
           "lakecolor": "white",
           "landcolor": "#E5ECF6",
           "showlakes": true,
           "showland": true,
           "subunitcolor": "white"
          },
          "hoverlabel": {
           "align": "left"
          },
          "hovermode": "closest",
          "mapbox": {
           "style": "light"
          },
          "paper_bgcolor": "white",
          "plot_bgcolor": "#E5ECF6",
          "polar": {
           "angularaxis": {
            "gridcolor": "white",
            "linecolor": "white",
            "ticks": ""
           },
           "bgcolor": "#E5ECF6",
           "radialaxis": {
            "gridcolor": "white",
            "linecolor": "white",
            "ticks": ""
           }
          },
          "scene": {
           "xaxis": {
            "backgroundcolor": "#E5ECF6",
            "gridcolor": "white",
            "gridwidth": 2,
            "linecolor": "white",
            "showbackground": true,
            "ticks": "",
            "zerolinecolor": "white"
           },
           "yaxis": {
            "backgroundcolor": "#E5ECF6",
            "gridcolor": "white",
            "gridwidth": 2,
            "linecolor": "white",
            "showbackground": true,
            "ticks": "",
            "zerolinecolor": "white"
           },
           "zaxis": {
            "backgroundcolor": "#E5ECF6",
            "gridcolor": "white",
            "gridwidth": 2,
            "linecolor": "white",
            "showbackground": true,
            "ticks": "",
            "zerolinecolor": "white"
           }
          },
          "shapedefaults": {
           "line": {
            "color": "#2a3f5f"
           }
          },
          "ternary": {
           "aaxis": {
            "gridcolor": "white",
            "linecolor": "white",
            "ticks": ""
           },
           "baxis": {
            "gridcolor": "white",
            "linecolor": "white",
            "ticks": ""
           },
           "bgcolor": "#E5ECF6",
           "caxis": {
            "gridcolor": "white",
            "linecolor": "white",
            "ticks": ""
           }
          },
          "title": {
           "x": 0.05
          },
          "xaxis": {
           "automargin": true,
           "gridcolor": "white",
           "linecolor": "white",
           "ticks": "",
           "zerolinecolor": "white",
           "zerolinewidth": 2
          },
          "yaxis": {
           "automargin": true,
           "gridcolor": "white",
           "linecolor": "white",
           "ticks": "",
           "zerolinecolor": "white",
           "zerolinewidth": 2
          }
         }
        },
        "title": {
         "font": {
          "color": "#4D5663"
         },
         "text": "ФЧХ"
        },
        "xaxis": {
         "gridcolor": "#E1E5ED",
         "showgrid": true,
         "tickfont": {
          "color": "#4D5663"
         },
         "title": {
          "font": {
           "color": "#4D5663"
          },
          "text": "W"
         },
         "type": "log",
         "zerolinecolor": "#E1E5ED"
        },
        "yaxis": {
         "gridcolor": "#E1E5ED",
         "showgrid": true,
         "tickfont": {
          "color": "#4D5663"
         },
         "title": {
          "font": {
           "color": "#4D5663"
          },
          "text": "phase"
         },
         "zerolinecolor": "#E1E5ED"
        }
       }
      },
      "text/html": [
       "<div>\n",
       "        \n",
       "        \n",
       "            <div id=\"949c7c89-bad6-4290-8ab0-3e758367ddf6\" class=\"plotly-graph-div\" style=\"height:525px; width:100%;\"></div>\n",
       "            <script type=\"text/javascript\">\n",
       "                require([\"plotly\"], function(Plotly) {\n",
       "                    window.PLOTLYENV=window.PLOTLYENV || {};\n",
       "                    window.PLOTLYENV.BASE_URL='https://plot.ly';\n",
       "                    \n",
       "                if (document.getElementById(\"949c7c89-bad6-4290-8ab0-3e758367ddf6\")) {\n",
       "                    Plotly.newPlot(\n",
       "                        '949c7c89-bad6-4290-8ab0-3e758367ddf6',\n",
       "                        [{\"line\": {\"color\": \"rgba(255, 153, 51, 1.0)\", \"dash\": \"solid\", \"shape\": \"linear\", \"width\": 1.3}, \"mode\": \"lines\", \"name\": \"0\", \"text\": \"\", \"type\": \"scatter\", \"x\": [1e-10, 1.2915496650148827e-10, 1.6681005372000558e-10, 2.1544346900318867e-10, 2.782559402207126e-10, 3.593813663804626e-10, 4.6415888336127727e-10, 5.994842503189421e-10, 7.742636826811277e-10, 1e-09, 1.2915496650148826e-09, 1.6681005372000556e-09, 2.1544346900318866e-09, 2.7825594022071257e-09, 3.5938136638046257e-09, 4.641588833612773e-09, 5.994842503189421e-09, 7.742636826811278e-09, 1e-08, 1.2915496650148827e-08, 1.6681005372000592e-08, 2.1544346900318822e-08, 2.782559402207126e-08, 3.593813663804626e-08, 4.641588833612773e-08, 5.99484250318941e-08, 7.742636826811277e-08, 1e-07, 1.2915496650148827e-07, 1.6681005372000556e-07, 2.1544346900318822e-07, 2.782559402207126e-07, 3.5938136638046254e-07, 4.6415888336127725e-07, 5.994842503189409e-07, 7.742636826811278e-07, 1e-06, 1.2915496650148827e-06, 1.6681005372000591e-06, 2.1544346900318822e-06, 2.782559402207126e-06, 3.5938136638046257e-06, 4.641588833612773e-06, 5.994842503189409e-06, 7.742636826811262e-06, 1e-05, 1.2915496650148827e-05, 1.6681005372000593e-05, 2.1544346900318823e-05, 2.7825594022071202e-05, 3.5938136638046256e-05, 4.641588833612772e-05, 5.994842503189409e-05, 7.742636826811262e-05, 0.0001, 0.00012915496650148828, 0.00016681005372000556, 0.00021544346900318823, 0.00027825594022071204, 0.00035938136638046257, 0.00046415888336127724, 0.0005994842503189409, 0.0007742636826811262, 0.001, 0.0012915496650148827, 0.0016681005372000558, 0.002154434690031882, 0.00278255940220712, 0.003593813663804626, 0.004641588833612773, 0.005994842503189409, 0.007742636826811262, 0.01, 0.012915496650148827, 0.016681005372000558, 0.021544346900318777, 0.02782559402207126, 0.03593813663804626, 0.046415888336127725, 0.059948425031893966, 0.07742636826811278, 0.1, 0.12915496650148828, 0.16681005372000557, 0.21544346900318778, 0.2782559402207126, 0.3593813663804626, 0.46415888336127725, 0.5994842503189397, 0.7742636826811246, 1.0, 1.2915496650148828, 1.6681005372000557, 2.154434690031878, 2.782559402207126, 3.593813663804626, 4.641588833612772, 5.994842503189396, 7.742636826811246, 10.0], \"y\": [89.42706130231653, 89.26003769418507, 89.04433742716898, 88.76579078300661, 88.40612217576286, 87.94178223891824, 87.34247289029904, 86.56931407468574, 85.57262890701192, 84.28940686250037, 82.64070521129922, 80.52968454470236, 77.84183577448113, 74.4504579644773, 70.23250827855884, 65.1012096885512, 59.05797655902463, 52.25068221820012, 45.0, 37.74931778179989, 30.942023440975312, 24.898790311448842, 19.76749172144115, 15.549542035522716, 12.158164225518878, 9.470315455297667, 7.359294788700779, 5.710593137499643, 4.427371092988093, 3.430685925314276, 2.6575271097009887, 2.0582177610817616, 1.5938778242371419, 1.2342092169933803, 0.9556625728310153, 0.7399623058149387, 0.5729386976834859, 0.44361154801601443, 0.34347505969995085, 0.2659415405664335, 0.2059094688211539, 0.15942849852610855, 0.12343982399000304, 0.0955750319374, 0.07400030369025773, 0.057295760414500616, 0.04436203238310654, 0.03434791331317321, 0.02659434313024722, 0.02059103464276718, 0.015942890587624665, 0.012344001306554359, 0.009557511969859062, 0.007400034442542149, 0.005729577932209638, 0.004436204115923721, 0.003434791738669289, 0.00265943450210077, 0.00205910355203805, 0.0015942890994976695, 0.0012344001495630424, 0.0009557512057620398, 0.0007400034483277353, 0.0005729577951117247, 0.00044362041246998567, 0.000343479174274281, 0.0002659434503991531, 0.00020591035529156636, 0.00015942890999050217, 0.00012344001497521182, 9.557512058498014e-05, 7.400034483684706e-05, 5.729577951306322e-05, 4.436204124787617e-05, 3.4347917427835444e-05, 2.659434504010444e-05, 2.059103552924435e-05, 1.5942890999090952e-05, 1.2344001497540094e-05, 9.557512058506806e-06, 7.400034483688764e-06, 5.729577951308212e-06, 4.436204124788495e-06, 3.4347917427839523e-06, 2.6594345040106334e-06, 2.0591035529245234e-06, 1.594289099909136e-06, 1.234400149754028e-06, 9.557512058506895e-07, 7.400034483688835e-07, 5.729577951308232e-07, 4.4362041247885034e-07, 3.4347917427839556e-07, 2.6594345040106346e-07, 2.059103552924524e-07, 1.594289099909136e-07, 1.2344001497540285e-07, 9.557512058506898e-08, 7.400034483688836e-08, 5.729577951308233e-08]}],\n",
       "                        {\"legend\": {\"bgcolor\": \"#FFFFFF\", \"font\": {\"color\": \"#4D5663\"}}, \"paper_bgcolor\": \"#FFFFFF\", \"plot_bgcolor\": \"#FFFFFF\", \"template\": {\"data\": {\"bar\": [{\"error_x\": {\"color\": \"#2a3f5f\"}, \"error_y\": {\"color\": \"#2a3f5f\"}, \"marker\": {\"line\": {\"color\": \"#E5ECF6\", \"width\": 0.5}}, \"type\": \"bar\"}], \"barpolar\": [{\"marker\": {\"line\": {\"color\": \"#E5ECF6\", \"width\": 0.5}}, \"type\": \"barpolar\"}], \"carpet\": [{\"aaxis\": {\"endlinecolor\": \"#2a3f5f\", \"gridcolor\": \"white\", \"linecolor\": \"white\", \"minorgridcolor\": \"white\", \"startlinecolor\": \"#2a3f5f\"}, \"baxis\": {\"endlinecolor\": \"#2a3f5f\", \"gridcolor\": \"white\", \"linecolor\": \"white\", \"minorgridcolor\": \"white\", \"startlinecolor\": \"#2a3f5f\"}, \"type\": \"carpet\"}], \"choropleth\": [{\"colorbar\": {\"outlinewidth\": 0, \"ticks\": \"\"}, \"type\": \"choropleth\"}], \"contour\": [{\"colorbar\": {\"outlinewidth\": 0, \"ticks\": \"\"}, \"colorscale\": [[0.0, \"#0d0887\"], [0.1111111111111111, \"#46039f\"], [0.2222222222222222, \"#7201a8\"], [0.3333333333333333, \"#9c179e\"], [0.4444444444444444, \"#bd3786\"], [0.5555555555555556, \"#d8576b\"], [0.6666666666666666, \"#ed7953\"], [0.7777777777777778, \"#fb9f3a\"], [0.8888888888888888, \"#fdca26\"], [1.0, \"#f0f921\"]], \"type\": \"contour\"}], \"contourcarpet\": [{\"colorbar\": {\"outlinewidth\": 0, \"ticks\": \"\"}, \"type\": \"contourcarpet\"}], \"heatmap\": [{\"colorbar\": {\"outlinewidth\": 0, \"ticks\": \"\"}, \"colorscale\": [[0.0, \"#0d0887\"], [0.1111111111111111, \"#46039f\"], [0.2222222222222222, \"#7201a8\"], [0.3333333333333333, \"#9c179e\"], [0.4444444444444444, \"#bd3786\"], [0.5555555555555556, \"#d8576b\"], [0.6666666666666666, \"#ed7953\"], [0.7777777777777778, \"#fb9f3a\"], [0.8888888888888888, \"#fdca26\"], [1.0, \"#f0f921\"]], \"type\": \"heatmap\"}], \"heatmapgl\": [{\"colorbar\": {\"outlinewidth\": 0, \"ticks\": \"\"}, \"colorscale\": [[0.0, \"#0d0887\"], [0.1111111111111111, \"#46039f\"], [0.2222222222222222, \"#7201a8\"], [0.3333333333333333, \"#9c179e\"], [0.4444444444444444, \"#bd3786\"], [0.5555555555555556, \"#d8576b\"], [0.6666666666666666, \"#ed7953\"], [0.7777777777777778, \"#fb9f3a\"], [0.8888888888888888, \"#fdca26\"], [1.0, \"#f0f921\"]], \"type\": \"heatmapgl\"}], \"histogram\": [{\"marker\": {\"colorbar\": {\"outlinewidth\": 0, \"ticks\": \"\"}}, \"type\": \"histogram\"}], \"histogram2d\": [{\"colorbar\": {\"outlinewidth\": 0, \"ticks\": \"\"}, \"colorscale\": [[0.0, \"#0d0887\"], [0.1111111111111111, \"#46039f\"], [0.2222222222222222, \"#7201a8\"], [0.3333333333333333, \"#9c179e\"], [0.4444444444444444, \"#bd3786\"], [0.5555555555555556, \"#d8576b\"], [0.6666666666666666, \"#ed7953\"], [0.7777777777777778, \"#fb9f3a\"], [0.8888888888888888, \"#fdca26\"], [1.0, \"#f0f921\"]], \"type\": \"histogram2d\"}], \"histogram2dcontour\": [{\"colorbar\": {\"outlinewidth\": 0, \"ticks\": \"\"}, \"colorscale\": [[0.0, \"#0d0887\"], [0.1111111111111111, \"#46039f\"], [0.2222222222222222, \"#7201a8\"], [0.3333333333333333, \"#9c179e\"], [0.4444444444444444, \"#bd3786\"], [0.5555555555555556, \"#d8576b\"], [0.6666666666666666, \"#ed7953\"], [0.7777777777777778, \"#fb9f3a\"], [0.8888888888888888, \"#fdca26\"], [1.0, \"#f0f921\"]], \"type\": \"histogram2dcontour\"}], \"mesh3d\": [{\"colorbar\": {\"outlinewidth\": 0, \"ticks\": \"\"}, \"type\": \"mesh3d\"}], \"parcoords\": [{\"line\": {\"colorbar\": {\"outlinewidth\": 0, \"ticks\": \"\"}}, \"type\": \"parcoords\"}], \"scatter\": [{\"marker\": {\"colorbar\": {\"outlinewidth\": 0, \"ticks\": \"\"}}, \"type\": \"scatter\"}], \"scatter3d\": [{\"line\": {\"colorbar\": {\"outlinewidth\": 0, \"ticks\": \"\"}}, \"marker\": {\"colorbar\": {\"outlinewidth\": 0, \"ticks\": \"\"}}, \"type\": \"scatter3d\"}], \"scattercarpet\": [{\"marker\": {\"colorbar\": {\"outlinewidth\": 0, \"ticks\": \"\"}}, \"type\": \"scattercarpet\"}], \"scattergeo\": [{\"marker\": {\"colorbar\": {\"outlinewidth\": 0, \"ticks\": \"\"}}, \"type\": \"scattergeo\"}], \"scattergl\": [{\"marker\": {\"colorbar\": {\"outlinewidth\": 0, \"ticks\": \"\"}}, \"type\": \"scattergl\"}], \"scattermapbox\": [{\"marker\": {\"colorbar\": {\"outlinewidth\": 0, \"ticks\": \"\"}}, \"type\": \"scattermapbox\"}], \"scatterpolar\": [{\"marker\": {\"colorbar\": {\"outlinewidth\": 0, \"ticks\": \"\"}}, \"type\": \"scatterpolar\"}], \"scatterpolargl\": [{\"marker\": {\"colorbar\": {\"outlinewidth\": 0, \"ticks\": \"\"}}, \"type\": \"scatterpolargl\"}], \"scatterternary\": [{\"marker\": {\"colorbar\": {\"outlinewidth\": 0, \"ticks\": \"\"}}, \"type\": \"scatterternary\"}], \"surface\": [{\"colorbar\": {\"outlinewidth\": 0, \"ticks\": \"\"}, \"colorscale\": [[0.0, \"#0d0887\"], [0.1111111111111111, \"#46039f\"], [0.2222222222222222, \"#7201a8\"], [0.3333333333333333, \"#9c179e\"], [0.4444444444444444, \"#bd3786\"], [0.5555555555555556, \"#d8576b\"], [0.6666666666666666, \"#ed7953\"], [0.7777777777777778, \"#fb9f3a\"], [0.8888888888888888, \"#fdca26\"], [1.0, \"#f0f921\"]], \"type\": \"surface\"}], \"table\": [{\"cells\": {\"fill\": {\"color\": \"#EBF0F8\"}, \"line\": {\"color\": \"white\"}}, \"header\": {\"fill\": {\"color\": \"#C8D4E3\"}, \"line\": {\"color\": \"white\"}}, \"type\": \"table\"}]}, \"layout\": {\"annotationdefaults\": {\"arrowcolor\": \"#2a3f5f\", \"arrowhead\": 0, \"arrowwidth\": 1}, \"colorscale\": {\"diverging\": [[0, \"#8e0152\"], [0.1, \"#c51b7d\"], [0.2, \"#de77ae\"], [0.3, \"#f1b6da\"], [0.4, \"#fde0ef\"], [0.5, \"#f7f7f7\"], [0.6, \"#e6f5d0\"], [0.7, \"#b8e186\"], [0.8, \"#7fbc41\"], [0.9, \"#4d9221\"], [1, \"#276419\"]], \"sequential\": [[0.0, \"#0d0887\"], [0.1111111111111111, \"#46039f\"], [0.2222222222222222, \"#7201a8\"], [0.3333333333333333, \"#9c179e\"], [0.4444444444444444, \"#bd3786\"], [0.5555555555555556, \"#d8576b\"], [0.6666666666666666, \"#ed7953\"], [0.7777777777777778, \"#fb9f3a\"], [0.8888888888888888, \"#fdca26\"], [1.0, \"#f0f921\"]], \"sequentialminus\": [[0.0, \"#0d0887\"], [0.1111111111111111, \"#46039f\"], [0.2222222222222222, \"#7201a8\"], [0.3333333333333333, \"#9c179e\"], [0.4444444444444444, \"#bd3786\"], [0.5555555555555556, \"#d8576b\"], [0.6666666666666666, \"#ed7953\"], [0.7777777777777778, \"#fb9f3a\"], [0.8888888888888888, \"#fdca26\"], [1.0, \"#f0f921\"]]}, \"colorway\": [\"#636efa\", \"#EF553B\", \"#00cc96\", \"#ab63fa\", \"#FFA15A\", \"#19d3f3\", \"#FF6692\", \"#B6E880\", \"#FF97FF\", \"#FECB52\"], \"font\": {\"color\": \"#2a3f5f\"}, \"geo\": {\"bgcolor\": \"white\", \"lakecolor\": \"white\", \"landcolor\": \"#E5ECF6\", \"showlakes\": true, \"showland\": true, \"subunitcolor\": \"white\"}, \"hoverlabel\": {\"align\": \"left\"}, \"hovermode\": \"closest\", \"mapbox\": {\"style\": \"light\"}, \"paper_bgcolor\": \"white\", \"plot_bgcolor\": \"#E5ECF6\", \"polar\": {\"angularaxis\": {\"gridcolor\": \"white\", \"linecolor\": \"white\", \"ticks\": \"\"}, \"bgcolor\": \"#E5ECF6\", \"radialaxis\": {\"gridcolor\": \"white\", \"linecolor\": \"white\", \"ticks\": \"\"}}, \"scene\": {\"xaxis\": {\"backgroundcolor\": \"#E5ECF6\", \"gridcolor\": \"white\", \"gridwidth\": 2, \"linecolor\": \"white\", \"showbackground\": true, \"ticks\": \"\", \"zerolinecolor\": \"white\"}, \"yaxis\": {\"backgroundcolor\": \"#E5ECF6\", \"gridcolor\": \"white\", \"gridwidth\": 2, \"linecolor\": \"white\", \"showbackground\": true, \"ticks\": \"\", \"zerolinecolor\": \"white\"}, \"zaxis\": {\"backgroundcolor\": \"#E5ECF6\", \"gridcolor\": \"white\", \"gridwidth\": 2, \"linecolor\": \"white\", \"showbackground\": true, \"ticks\": \"\", \"zerolinecolor\": \"white\"}}, \"shapedefaults\": {\"line\": {\"color\": \"#2a3f5f\"}}, \"ternary\": {\"aaxis\": {\"gridcolor\": \"white\", \"linecolor\": \"white\", \"ticks\": \"\"}, \"baxis\": {\"gridcolor\": \"white\", \"linecolor\": \"white\", \"ticks\": \"\"}, \"bgcolor\": \"#E5ECF6\", \"caxis\": {\"gridcolor\": \"white\", \"linecolor\": \"white\", \"ticks\": \"\"}}, \"title\": {\"x\": 0.05}, \"xaxis\": {\"automargin\": true, \"gridcolor\": \"white\", \"linecolor\": \"white\", \"ticks\": \"\", \"zerolinecolor\": \"white\", \"zerolinewidth\": 2}, \"yaxis\": {\"automargin\": true, \"gridcolor\": \"white\", \"linecolor\": \"white\", \"ticks\": \"\", \"zerolinecolor\": \"white\", \"zerolinewidth\": 2}}}, \"title\": {\"font\": {\"color\": \"#4D5663\"}, \"text\": \"\\u0424\\u0427\\u0425\"}, \"xaxis\": {\"gridcolor\": \"#E1E5ED\", \"showgrid\": true, \"tickfont\": {\"color\": \"#4D5663\"}, \"title\": {\"font\": {\"color\": \"#4D5663\"}, \"text\": \"W\"}, \"type\": \"log\", \"zerolinecolor\": \"#E1E5ED\"}, \"yaxis\": {\"gridcolor\": \"#E1E5ED\", \"showgrid\": true, \"tickfont\": {\"color\": \"#4D5663\"}, \"title\": {\"font\": {\"color\": \"#4D5663\"}, \"text\": \"phase\"}, \"zerolinecolor\": \"#E1E5ED\"}},\n",
       "                        {\"showLink\": true, \"linkText\": \"Export to plot.ly\", \"plotlyServerURL\": \"https://plot.ly\", \"responsive\": true}\n",
       "                    ).then(function(){\n",
       "                            \n",
       "var gd = document.getElementById('949c7c89-bad6-4290-8ab0-3e758367ddf6');\n",
       "var x = new MutationObserver(function (mutations, observer) {{\n",
       "        var display = window.getComputedStyle(gd).display;\n",
       "        if (!display || display === 'none') {{\n",
       "            console.log([gd, 'removed!']);\n",
       "            Plotly.purge(gd);\n",
       "            observer.disconnect();\n",
       "        }}\n",
       "}});\n",
       "\n",
       "// Listen for the removal of the full notebook cells\n",
       "var notebookContainer = gd.closest('#notebook-container');\n",
       "if (notebookContainer) {{\n",
       "    x.observe(notebookContainer, {childList: true});\n",
       "}}\n",
       "\n",
       "// Listen for the clearing of the current output cell\n",
       "var outputEl = gd.closest('.output');\n",
       "if (outputEl) {{\n",
       "    x.observe(outputEl, {childList: true});\n",
       "}}\n",
       "\n",
       "                        })\n",
       "                };\n",
       "                });\n",
       "            </script>\n",
       "        </div>"
      ]
     },
     "metadata": {},
     "output_type": "display_data"
    }
   ],
   "source": [
    "W, bode_mag, phase = signal.bode(transfer_func)\n",
    "\n",
    "\n",
    "df_mwp = pd.DataFrame(bode_mag, index=W)\n",
    "df_mwp.iplot(mode='lines', xTitle='W', yTitle='mag', title='АЧХ', xaxis_type=\"log\")\n",
    "\n",
    "df_pwp = pd.DataFrame(phase, index=W)\n",
    "df_pwp.iplot(mode='lines', xTitle='W', yTitle='phase', title='ФЧХ', xaxis_type=\"log\")\n",
    "\n",
    "# Имеет ли смысл это действие для неустойчивой системы?\n",
    "# - Нет. Так как неустойчивая система дает бесконечный рост амплитуды."
   ]
  },
  {
   "cell_type": "markdown",
   "metadata": {},
   "source": [
    "### 6. Превратите систему в замкнутую, добавив в неё отрицательную обратную связь выхода со входом. Повторите для полученной системы пункты задания 2-5. Влияет ли обратная связь на устойчивость системы? На АЧХ, ФЧХ?"
   ]
  },
  {
   "cell_type": "code",
   "execution_count": 9,
   "metadata": {},
   "outputs": [],
   "source": [
    "# Пусть R(s) = 1 - обратная связь, C(s) = 1, W(s) = s/(1+a*s)\n",
    "# Тогда Z(s) = C(s)W(s)/(1+C(s)W(s)R(s)) = s/(1+as+s)\n",
    "# Тогда устойчивость зависит от знака a => так как устойчивость зависит от обратной связи => АЧХ и ФЧХ тоже\n",
    "\n",
    "transfer_func = signal.lti([1, 0], [1, a + 1])"
   ]
  },
  {
   "cell_type": "code",
   "execution_count": 10,
   "metadata": {},
   "outputs": [
    {
     "data": {
      "application/vnd.plotly.v1+json": {
       "config": {
        "linkText": "Export to plot.ly",
        "plotlyServerURL": "https://plot.ly",
        "showLink": true
       },
       "data": [
        {
         "line": {
          "color": "rgba(255, 153, 51, 1.0)",
          "dash": "solid",
          "shape": "linear",
          "width": 1.3
         },
         "marker": {
          "size": 12,
          "symbol": "circle"
         },
         "mode": "lines+markers",
         "name": "Re(Ps)",
         "text": "",
         "type": "scatter",
         "x": [
          0,
          0,
          0,
          0,
          0,
          0,
          0,
          0,
          0,
          0,
          0,
          0,
          0,
          0,
          0,
          0,
          0,
          0,
          0,
          0,
          0,
          0,
          0,
          0,
          0,
          0,
          0,
          0,
          0,
          0,
          0,
          0,
          0,
          0,
          0,
          0,
          0,
          0,
          0,
          0,
          0,
          0,
          0,
          0,
          0,
          0,
          0,
          0,
          0,
          0,
          0,
          0,
          0,
          0,
          0,
          0,
          0,
          0,
          0,
          0,
          0,
          0,
          0,
          0,
          0,
          0,
          0,
          0,
          0,
          0,
          0,
          0,
          0,
          0,
          0,
          0,
          0,
          0,
          0,
          0,
          0,
          0,
          0,
          0,
          0,
          0,
          0,
          0,
          0,
          0,
          0,
          0,
          0,
          0,
          0,
          0,
          0,
          0,
          0,
          0,
          0
         ],
         "y": [
          -9999999.9999999,
          -8709635.89956069,
          -7585775.750291705,
          -6606934.48007581,
          -5754399.373371396,
          -5011872.336272523,
          -4365158.322401432,
          -3801893.9632053496,
          -3311311.214825609,
          -2884031.5031262594,
          -2511886.4315091814,
          -2187761.6239490956,
          -1905460.7179627225,
          -1659586.907436958,
          -1445439.770745236,
          -1258925.411793373,
          -1096478.196142273,
          -954992.5860203889,
          -831763.7711014685,
          -724435.9600736103,
          -630957.3444786081,
          -549540.8738558051,
          -478630.0923205492,
          -416869.38346793666,
          -363078.0547673472,
          -316227.7660136756,
          -275422.87033018586,
          -239883.29189778032,
          -208929.6130806178,
          -181970.0858555029,
          -158489.31923980184,
          -138038.42645304417,
          -120226.44345342368,
          -104712.85479554003,
          -91201.08392462617,
          -79432.82345983888,
          -69183.09707743922,
          -60255.95859083994,
          -52480.74600592267,
          -45708.818939609904,
          -39810.717030230866,
          -34673.68501641285,
          -30199.51717090705,
          -26302.679880934877,
          -22908.67648402616,
          -19952.623099570086,
          -17378.008229949774,
          -15135.612418292741,
          -13182.567309706315,
          -11481.536127872469,
          -9999.999899999999,
          -8709.635784745435,
          -7585.775618466159,
          -6606.934328719836,
          -5754.3991995914785,
          -5011.872136746486,
          -4365.158093314889,
          -3801.8937001787954,
          -3311.3109128307083,
          -2884.031156389714,
          -2511.8860334023484,
          -2187.7611668612667,
          -1905.4601931556435,
          -1659.5863048777583,
          -1445.439078914626,
          -1258.9246174654304,
          -1096.477284131587,
          -954.9915388917407,
          -831.7625688364985,
          -724.4345796880957,
          -630.9557595830195,
          -549.5390541507405,
          -478.62800301738696,
          -416.86698462361244,
          -363.07530052050515,
          -316.22460370755437,
          -275.4192395054049,
          -239.87912313566818,
          -208.924826674828,
          -181.96459028629096,
          -158.48300942145798,
          -138.03118172045862,
          -120.21812524851072,
          -104.70330400810735,
          -91.19011783505573,
          -79.42023222241527,
          -69.16863967297186,
          -60.23935816495995,
          -52.46168449445966,
          -45.68693086392679,
          -39.78558232207115,
          -34.64482070190429,
          -30.16636770422609,
          -26.264605865792312,
          -22.864941449579902,
          -19.90237789732956,
          -17.320272475229253,
          -15.06925219074287,
          -13.106268014999124,
          -11.393768944554079,
          -9.898979485566356
         ]
        }
       ],
       "layout": {
        "legend": {
         "bgcolor": "#FFFFFF",
         "font": {
          "color": "#4D5663"
         }
        },
        "paper_bgcolor": "#FFFFFF",
        "plot_bgcolor": "#FFFFFF",
        "template": {
         "data": {
          "bar": [
           {
            "error_x": {
             "color": "#2a3f5f"
            },
            "error_y": {
             "color": "#2a3f5f"
            },
            "marker": {
             "line": {
              "color": "#E5ECF6",
              "width": 0.5
             }
            },
            "type": "bar"
           }
          ],
          "barpolar": [
           {
            "marker": {
             "line": {
              "color": "#E5ECF6",
              "width": 0.5
             }
            },
            "type": "barpolar"
           }
          ],
          "carpet": [
           {
            "aaxis": {
             "endlinecolor": "#2a3f5f",
             "gridcolor": "white",
             "linecolor": "white",
             "minorgridcolor": "white",
             "startlinecolor": "#2a3f5f"
            },
            "baxis": {
             "endlinecolor": "#2a3f5f",
             "gridcolor": "white",
             "linecolor": "white",
             "minorgridcolor": "white",
             "startlinecolor": "#2a3f5f"
            },
            "type": "carpet"
           }
          ],
          "choropleth": [
           {
            "colorbar": {
             "outlinewidth": 0,
             "ticks": ""
            },
            "type": "choropleth"
           }
          ],
          "contour": [
           {
            "colorbar": {
             "outlinewidth": 0,
             "ticks": ""
            },
            "colorscale": [
             [
              0,
              "#0d0887"
             ],
             [
              0.1111111111111111,
              "#46039f"
             ],
             [
              0.2222222222222222,
              "#7201a8"
             ],
             [
              0.3333333333333333,
              "#9c179e"
             ],
             [
              0.4444444444444444,
              "#bd3786"
             ],
             [
              0.5555555555555556,
              "#d8576b"
             ],
             [
              0.6666666666666666,
              "#ed7953"
             ],
             [
              0.7777777777777778,
              "#fb9f3a"
             ],
             [
              0.8888888888888888,
              "#fdca26"
             ],
             [
              1,
              "#f0f921"
             ]
            ],
            "type": "contour"
           }
          ],
          "contourcarpet": [
           {
            "colorbar": {
             "outlinewidth": 0,
             "ticks": ""
            },
            "type": "contourcarpet"
           }
          ],
          "heatmap": [
           {
            "colorbar": {
             "outlinewidth": 0,
             "ticks": ""
            },
            "colorscale": [
             [
              0,
              "#0d0887"
             ],
             [
              0.1111111111111111,
              "#46039f"
             ],
             [
              0.2222222222222222,
              "#7201a8"
             ],
             [
              0.3333333333333333,
              "#9c179e"
             ],
             [
              0.4444444444444444,
              "#bd3786"
             ],
             [
              0.5555555555555556,
              "#d8576b"
             ],
             [
              0.6666666666666666,
              "#ed7953"
             ],
             [
              0.7777777777777778,
              "#fb9f3a"
             ],
             [
              0.8888888888888888,
              "#fdca26"
             ],
             [
              1,
              "#f0f921"
             ]
            ],
            "type": "heatmap"
           }
          ],
          "heatmapgl": [
           {
            "colorbar": {
             "outlinewidth": 0,
             "ticks": ""
            },
            "colorscale": [
             [
              0,
              "#0d0887"
             ],
             [
              0.1111111111111111,
              "#46039f"
             ],
             [
              0.2222222222222222,
              "#7201a8"
             ],
             [
              0.3333333333333333,
              "#9c179e"
             ],
             [
              0.4444444444444444,
              "#bd3786"
             ],
             [
              0.5555555555555556,
              "#d8576b"
             ],
             [
              0.6666666666666666,
              "#ed7953"
             ],
             [
              0.7777777777777778,
              "#fb9f3a"
             ],
             [
              0.8888888888888888,
              "#fdca26"
             ],
             [
              1,
              "#f0f921"
             ]
            ],
            "type": "heatmapgl"
           }
          ],
          "histogram": [
           {
            "marker": {
             "colorbar": {
              "outlinewidth": 0,
              "ticks": ""
             }
            },
            "type": "histogram"
           }
          ],
          "histogram2d": [
           {
            "colorbar": {
             "outlinewidth": 0,
             "ticks": ""
            },
            "colorscale": [
             [
              0,
              "#0d0887"
             ],
             [
              0.1111111111111111,
              "#46039f"
             ],
             [
              0.2222222222222222,
              "#7201a8"
             ],
             [
              0.3333333333333333,
              "#9c179e"
             ],
             [
              0.4444444444444444,
              "#bd3786"
             ],
             [
              0.5555555555555556,
              "#d8576b"
             ],
             [
              0.6666666666666666,
              "#ed7953"
             ],
             [
              0.7777777777777778,
              "#fb9f3a"
             ],
             [
              0.8888888888888888,
              "#fdca26"
             ],
             [
              1,
              "#f0f921"
             ]
            ],
            "type": "histogram2d"
           }
          ],
          "histogram2dcontour": [
           {
            "colorbar": {
             "outlinewidth": 0,
             "ticks": ""
            },
            "colorscale": [
             [
              0,
              "#0d0887"
             ],
             [
              0.1111111111111111,
              "#46039f"
             ],
             [
              0.2222222222222222,
              "#7201a8"
             ],
             [
              0.3333333333333333,
              "#9c179e"
             ],
             [
              0.4444444444444444,
              "#bd3786"
             ],
             [
              0.5555555555555556,
              "#d8576b"
             ],
             [
              0.6666666666666666,
              "#ed7953"
             ],
             [
              0.7777777777777778,
              "#fb9f3a"
             ],
             [
              0.8888888888888888,
              "#fdca26"
             ],
             [
              1,
              "#f0f921"
             ]
            ],
            "type": "histogram2dcontour"
           }
          ],
          "mesh3d": [
           {
            "colorbar": {
             "outlinewidth": 0,
             "ticks": ""
            },
            "type": "mesh3d"
           }
          ],
          "parcoords": [
           {
            "line": {
             "colorbar": {
              "outlinewidth": 0,
              "ticks": ""
             }
            },
            "type": "parcoords"
           }
          ],
          "scatter": [
           {
            "marker": {
             "colorbar": {
              "outlinewidth": 0,
              "ticks": ""
             }
            },
            "type": "scatter"
           }
          ],
          "scatter3d": [
           {
            "line": {
             "colorbar": {
              "outlinewidth": 0,
              "ticks": ""
             }
            },
            "marker": {
             "colorbar": {
              "outlinewidth": 0,
              "ticks": ""
             }
            },
            "type": "scatter3d"
           }
          ],
          "scattercarpet": [
           {
            "marker": {
             "colorbar": {
              "outlinewidth": 0,
              "ticks": ""
             }
            },
            "type": "scattercarpet"
           }
          ],
          "scattergeo": [
           {
            "marker": {
             "colorbar": {
              "outlinewidth": 0,
              "ticks": ""
             }
            },
            "type": "scattergeo"
           }
          ],
          "scattergl": [
           {
            "marker": {
             "colorbar": {
              "outlinewidth": 0,
              "ticks": ""
             }
            },
            "type": "scattergl"
           }
          ],
          "scattermapbox": [
           {
            "marker": {
             "colorbar": {
              "outlinewidth": 0,
              "ticks": ""
             }
            },
            "type": "scattermapbox"
           }
          ],
          "scatterpolar": [
           {
            "marker": {
             "colorbar": {
              "outlinewidth": 0,
              "ticks": ""
             }
            },
            "type": "scatterpolar"
           }
          ],
          "scatterpolargl": [
           {
            "marker": {
             "colorbar": {
              "outlinewidth": 0,
              "ticks": ""
             }
            },
            "type": "scatterpolargl"
           }
          ],
          "scatterternary": [
           {
            "marker": {
             "colorbar": {
              "outlinewidth": 0,
              "ticks": ""
             }
            },
            "type": "scatterternary"
           }
          ],
          "surface": [
           {
            "colorbar": {
             "outlinewidth": 0,
             "ticks": ""
            },
            "colorscale": [
             [
              0,
              "#0d0887"
             ],
             [
              0.1111111111111111,
              "#46039f"
             ],
             [
              0.2222222222222222,
              "#7201a8"
             ],
             [
              0.3333333333333333,
              "#9c179e"
             ],
             [
              0.4444444444444444,
              "#bd3786"
             ],
             [
              0.5555555555555556,
              "#d8576b"
             ],
             [
              0.6666666666666666,
              "#ed7953"
             ],
             [
              0.7777777777777778,
              "#fb9f3a"
             ],
             [
              0.8888888888888888,
              "#fdca26"
             ],
             [
              1,
              "#f0f921"
             ]
            ],
            "type": "surface"
           }
          ],
          "table": [
           {
            "cells": {
             "fill": {
              "color": "#EBF0F8"
             },
             "line": {
              "color": "white"
             }
            },
            "header": {
             "fill": {
              "color": "#C8D4E3"
             },
             "line": {
              "color": "white"
             }
            },
            "type": "table"
           }
          ]
         },
         "layout": {
          "annotationdefaults": {
           "arrowcolor": "#2a3f5f",
           "arrowhead": 0,
           "arrowwidth": 1
          },
          "colorscale": {
           "diverging": [
            [
             0,
             "#8e0152"
            ],
            [
             0.1,
             "#c51b7d"
            ],
            [
             0.2,
             "#de77ae"
            ],
            [
             0.3,
             "#f1b6da"
            ],
            [
             0.4,
             "#fde0ef"
            ],
            [
             0.5,
             "#f7f7f7"
            ],
            [
             0.6,
             "#e6f5d0"
            ],
            [
             0.7,
             "#b8e186"
            ],
            [
             0.8,
             "#7fbc41"
            ],
            [
             0.9,
             "#4d9221"
            ],
            [
             1,
             "#276419"
            ]
           ],
           "sequential": [
            [
             0,
             "#0d0887"
            ],
            [
             0.1111111111111111,
             "#46039f"
            ],
            [
             0.2222222222222222,
             "#7201a8"
            ],
            [
             0.3333333333333333,
             "#9c179e"
            ],
            [
             0.4444444444444444,
             "#bd3786"
            ],
            [
             0.5555555555555556,
             "#d8576b"
            ],
            [
             0.6666666666666666,
             "#ed7953"
            ],
            [
             0.7777777777777778,
             "#fb9f3a"
            ],
            [
             0.8888888888888888,
             "#fdca26"
            ],
            [
             1,
             "#f0f921"
            ]
           ],
           "sequentialminus": [
            [
             0,
             "#0d0887"
            ],
            [
             0.1111111111111111,
             "#46039f"
            ],
            [
             0.2222222222222222,
             "#7201a8"
            ],
            [
             0.3333333333333333,
             "#9c179e"
            ],
            [
             0.4444444444444444,
             "#bd3786"
            ],
            [
             0.5555555555555556,
             "#d8576b"
            ],
            [
             0.6666666666666666,
             "#ed7953"
            ],
            [
             0.7777777777777778,
             "#fb9f3a"
            ],
            [
             0.8888888888888888,
             "#fdca26"
            ],
            [
             1,
             "#f0f921"
            ]
           ]
          },
          "colorway": [
           "#636efa",
           "#EF553B",
           "#00cc96",
           "#ab63fa",
           "#FFA15A",
           "#19d3f3",
           "#FF6692",
           "#B6E880",
           "#FF97FF",
           "#FECB52"
          ],
          "font": {
           "color": "#2a3f5f"
          },
          "geo": {
           "bgcolor": "white",
           "lakecolor": "white",
           "landcolor": "#E5ECF6",
           "showlakes": true,
           "showland": true,
           "subunitcolor": "white"
          },
          "hoverlabel": {
           "align": "left"
          },
          "hovermode": "closest",
          "mapbox": {
           "style": "light"
          },
          "paper_bgcolor": "white",
          "plot_bgcolor": "#E5ECF6",
          "polar": {
           "angularaxis": {
            "gridcolor": "white",
            "linecolor": "white",
            "ticks": ""
           },
           "bgcolor": "#E5ECF6",
           "radialaxis": {
            "gridcolor": "white",
            "linecolor": "white",
            "ticks": ""
           }
          },
          "scene": {
           "xaxis": {
            "backgroundcolor": "#E5ECF6",
            "gridcolor": "white",
            "gridwidth": 2,
            "linecolor": "white",
            "showbackground": true,
            "ticks": "",
            "zerolinecolor": "white"
           },
           "yaxis": {
            "backgroundcolor": "#E5ECF6",
            "gridcolor": "white",
            "gridwidth": 2,
            "linecolor": "white",
            "showbackground": true,
            "ticks": "",
            "zerolinecolor": "white"
           },
           "zaxis": {
            "backgroundcolor": "#E5ECF6",
            "gridcolor": "white",
            "gridwidth": 2,
            "linecolor": "white",
            "showbackground": true,
            "ticks": "",
            "zerolinecolor": "white"
           }
          },
          "shapedefaults": {
           "line": {
            "color": "#2a3f5f"
           }
          },
          "ternary": {
           "aaxis": {
            "gridcolor": "white",
            "linecolor": "white",
            "ticks": ""
           },
           "baxis": {
            "gridcolor": "white",
            "linecolor": "white",
            "ticks": ""
           },
           "bgcolor": "#E5ECF6",
           "caxis": {
            "gridcolor": "white",
            "linecolor": "white",
            "ticks": ""
           }
          },
          "title": {
           "x": 0.05
          },
          "xaxis": {
           "automargin": true,
           "gridcolor": "white",
           "linecolor": "white",
           "ticks": "",
           "zerolinecolor": "white",
           "zerolinewidth": 2
          },
          "yaxis": {
           "automargin": true,
           "gridcolor": "white",
           "linecolor": "white",
           "ticks": "",
           "zerolinecolor": "white",
           "zerolinewidth": 2
          }
         }
        },
        "title": {
         "font": {
          "color": "#4D5663"
         },
         "text": "a varies from 10000000.0 to 10.0"
        },
        "xaxis": {
         "gridcolor": "#E1E5ED",
         "showgrid": true,
         "tickfont": {
          "color": "#4D5663"
         },
         "title": {
          "font": {
           "color": "#4D5663"
          },
          "text": "Im(P)"
         },
         "zerolinecolor": "#E1E5ED"
        },
        "yaxis": {
         "gridcolor": "#E1E5ED",
         "showgrid": true,
         "tickfont": {
          "color": "#4D5663"
         },
         "title": {
          "font": {
           "color": "#4D5663"
          },
          "text": "Re(P)"
         },
         "zerolinecolor": "#E1E5ED"
        }
       }
      },
      "text/html": [
       "<div>\n",
       "        \n",
       "        \n",
       "            <div id=\"5cdcadec-7217-474d-a133-6f1744ed1ce0\" class=\"plotly-graph-div\" style=\"height:525px; width:100%;\"></div>\n",
       "            <script type=\"text/javascript\">\n",
       "                require([\"plotly\"], function(Plotly) {\n",
       "                    window.PLOTLYENV=window.PLOTLYENV || {};\n",
       "                    window.PLOTLYENV.BASE_URL='https://plot.ly';\n",
       "                    \n",
       "                if (document.getElementById(\"5cdcadec-7217-474d-a133-6f1744ed1ce0\")) {\n",
       "                    Plotly.newPlot(\n",
       "                        '5cdcadec-7217-474d-a133-6f1744ed1ce0',\n",
       "                        [{\"line\": {\"color\": \"rgba(255, 153, 51, 1.0)\", \"dash\": \"solid\", \"shape\": \"linear\", \"width\": 1.3}, \"marker\": {\"size\": 12, \"symbol\": \"circle\"}, \"mode\": \"lines+markers\", \"name\": \"Re(Ps)\", \"text\": \"\", \"type\": \"scatter\", \"x\": [0.0, 0.0, 0.0, 0.0, 0.0, 0.0, 0.0, 0.0, 0.0, 0.0, 0.0, 0.0, 0.0, 0.0, 0.0, 0.0, 0.0, 0.0, 0.0, 0.0, 0.0, 0.0, 0.0, 0.0, 0.0, 0.0, 0.0, 0.0, 0.0, 0.0, 0.0, 0.0, 0.0, 0.0, 0.0, 0.0, 0.0, 0.0, 0.0, 0.0, 0.0, 0.0, 0.0, 0.0, 0.0, 0.0, 0.0, 0.0, 0.0, 0.0, 0.0, 0.0, 0.0, 0.0, 0.0, 0.0, 0.0, 0.0, 0.0, 0.0, 0.0, 0.0, 0.0, 0.0, 0.0, 0.0, 0.0, 0.0, 0.0, 0.0, 0.0, 0.0, 0.0, 0.0, 0.0, 0.0, 0.0, 0.0, 0.0, 0.0, 0.0, 0.0, 0.0, 0.0, 0.0, 0.0, 0.0, 0.0, 0.0, 0.0, 0.0, 0.0, 0.0, 0.0, 0.0, 0.0, 0.0, 0.0, 0.0, 0.0, 0.0], \"y\": [-9999999.9999999, -8709635.89956069, -7585775.750291705, -6606934.48007581, -5754399.373371396, -5011872.336272523, -4365158.322401432, -3801893.9632053496, -3311311.214825609, -2884031.5031262594, -2511886.4315091814, -2187761.6239490956, -1905460.7179627225, -1659586.907436958, -1445439.770745236, -1258925.411793373, -1096478.196142273, -954992.5860203889, -831763.7711014685, -724435.9600736103, -630957.3444786081, -549540.8738558051, -478630.0923205492, -416869.38346793666, -363078.0547673472, -316227.7660136756, -275422.87033018586, -239883.29189778032, -208929.6130806178, -181970.0858555029, -158489.31923980184, -138038.42645304417, -120226.44345342368, -104712.85479554003, -91201.08392462617, -79432.82345983888, -69183.09707743922, -60255.95859083994, -52480.74600592267, -45708.818939609904, -39810.717030230866, -34673.68501641285, -30199.51717090705, -26302.679880934877, -22908.67648402616, -19952.623099570086, -17378.008229949774, -15135.612418292741, -13182.567309706315, -11481.536127872469, -9999.999899999999, -8709.635784745435, -7585.775618466159, -6606.934328719836, -5754.3991995914785, -5011.872136746486, -4365.158093314889, -3801.8937001787954, -3311.3109128307083, -2884.031156389714, -2511.8860334023484, -2187.7611668612667, -1905.4601931556435, -1659.5863048777583, -1445.439078914626, -1258.9246174654304, -1096.477284131587, -954.9915388917407, -831.7625688364985, -724.4345796880957, -630.9557595830195, -549.5390541507405, -478.62800301738696, -416.86698462361244, -363.07530052050515, -316.22460370755437, -275.4192395054049, -239.87912313566818, -208.924826674828, -181.96459028629096, -158.48300942145798, -138.03118172045862, -120.21812524851072, -104.70330400810735, -91.19011783505573, -79.42023222241527, -69.16863967297186, -60.23935816495995, -52.46168449445966, -45.68693086392679, -39.78558232207115, -34.64482070190429, -30.16636770422609, -26.264605865792312, -22.864941449579902, -19.90237789732956, -17.320272475229253, -15.06925219074287, -13.106268014999124, -11.393768944554079, -9.898979485566356]}],\n",
       "                        {\"legend\": {\"bgcolor\": \"#FFFFFF\", \"font\": {\"color\": \"#4D5663\"}}, \"paper_bgcolor\": \"#FFFFFF\", \"plot_bgcolor\": \"#FFFFFF\", \"template\": {\"data\": {\"bar\": [{\"error_x\": {\"color\": \"#2a3f5f\"}, \"error_y\": {\"color\": \"#2a3f5f\"}, \"marker\": {\"line\": {\"color\": \"#E5ECF6\", \"width\": 0.5}}, \"type\": \"bar\"}], \"barpolar\": [{\"marker\": {\"line\": {\"color\": \"#E5ECF6\", \"width\": 0.5}}, \"type\": \"barpolar\"}], \"carpet\": [{\"aaxis\": {\"endlinecolor\": \"#2a3f5f\", \"gridcolor\": \"white\", \"linecolor\": \"white\", \"minorgridcolor\": \"white\", \"startlinecolor\": \"#2a3f5f\"}, \"baxis\": {\"endlinecolor\": \"#2a3f5f\", \"gridcolor\": \"white\", \"linecolor\": \"white\", \"minorgridcolor\": \"white\", \"startlinecolor\": \"#2a3f5f\"}, \"type\": \"carpet\"}], \"choropleth\": [{\"colorbar\": {\"outlinewidth\": 0, \"ticks\": \"\"}, \"type\": \"choropleth\"}], \"contour\": [{\"colorbar\": {\"outlinewidth\": 0, \"ticks\": \"\"}, \"colorscale\": [[0.0, \"#0d0887\"], [0.1111111111111111, \"#46039f\"], [0.2222222222222222, \"#7201a8\"], [0.3333333333333333, \"#9c179e\"], [0.4444444444444444, \"#bd3786\"], [0.5555555555555556, \"#d8576b\"], [0.6666666666666666, \"#ed7953\"], [0.7777777777777778, \"#fb9f3a\"], [0.8888888888888888, \"#fdca26\"], [1.0, \"#f0f921\"]], \"type\": \"contour\"}], \"contourcarpet\": [{\"colorbar\": {\"outlinewidth\": 0, \"ticks\": \"\"}, \"type\": \"contourcarpet\"}], \"heatmap\": [{\"colorbar\": {\"outlinewidth\": 0, \"ticks\": \"\"}, \"colorscale\": [[0.0, \"#0d0887\"], [0.1111111111111111, \"#46039f\"], [0.2222222222222222, \"#7201a8\"], [0.3333333333333333, \"#9c179e\"], [0.4444444444444444, \"#bd3786\"], [0.5555555555555556, \"#d8576b\"], [0.6666666666666666, \"#ed7953\"], [0.7777777777777778, \"#fb9f3a\"], [0.8888888888888888, \"#fdca26\"], [1.0, \"#f0f921\"]], \"type\": \"heatmap\"}], \"heatmapgl\": [{\"colorbar\": {\"outlinewidth\": 0, \"ticks\": \"\"}, \"colorscale\": [[0.0, \"#0d0887\"], [0.1111111111111111, \"#46039f\"], [0.2222222222222222, \"#7201a8\"], [0.3333333333333333, \"#9c179e\"], [0.4444444444444444, \"#bd3786\"], [0.5555555555555556, \"#d8576b\"], [0.6666666666666666, \"#ed7953\"], [0.7777777777777778, \"#fb9f3a\"], [0.8888888888888888, \"#fdca26\"], [1.0, \"#f0f921\"]], \"type\": \"heatmapgl\"}], \"histogram\": [{\"marker\": {\"colorbar\": {\"outlinewidth\": 0, \"ticks\": \"\"}}, \"type\": \"histogram\"}], \"histogram2d\": [{\"colorbar\": {\"outlinewidth\": 0, \"ticks\": \"\"}, \"colorscale\": [[0.0, \"#0d0887\"], [0.1111111111111111, \"#46039f\"], [0.2222222222222222, \"#7201a8\"], [0.3333333333333333, \"#9c179e\"], [0.4444444444444444, \"#bd3786\"], [0.5555555555555556, \"#d8576b\"], [0.6666666666666666, \"#ed7953\"], [0.7777777777777778, \"#fb9f3a\"], [0.8888888888888888, \"#fdca26\"], [1.0, \"#f0f921\"]], \"type\": \"histogram2d\"}], \"histogram2dcontour\": [{\"colorbar\": {\"outlinewidth\": 0, \"ticks\": \"\"}, \"colorscale\": [[0.0, \"#0d0887\"], [0.1111111111111111, \"#46039f\"], [0.2222222222222222, \"#7201a8\"], [0.3333333333333333, \"#9c179e\"], [0.4444444444444444, \"#bd3786\"], [0.5555555555555556, \"#d8576b\"], [0.6666666666666666, \"#ed7953\"], [0.7777777777777778, \"#fb9f3a\"], [0.8888888888888888, \"#fdca26\"], [1.0, \"#f0f921\"]], \"type\": \"histogram2dcontour\"}], \"mesh3d\": [{\"colorbar\": {\"outlinewidth\": 0, \"ticks\": \"\"}, \"type\": \"mesh3d\"}], \"parcoords\": [{\"line\": {\"colorbar\": {\"outlinewidth\": 0, \"ticks\": \"\"}}, \"type\": \"parcoords\"}], \"scatter\": [{\"marker\": {\"colorbar\": {\"outlinewidth\": 0, \"ticks\": \"\"}}, \"type\": \"scatter\"}], \"scatter3d\": [{\"line\": {\"colorbar\": {\"outlinewidth\": 0, \"ticks\": \"\"}}, \"marker\": {\"colorbar\": {\"outlinewidth\": 0, \"ticks\": \"\"}}, \"type\": \"scatter3d\"}], \"scattercarpet\": [{\"marker\": {\"colorbar\": {\"outlinewidth\": 0, \"ticks\": \"\"}}, \"type\": \"scattercarpet\"}], \"scattergeo\": [{\"marker\": {\"colorbar\": {\"outlinewidth\": 0, \"ticks\": \"\"}}, \"type\": \"scattergeo\"}], \"scattergl\": [{\"marker\": {\"colorbar\": {\"outlinewidth\": 0, \"ticks\": \"\"}}, \"type\": \"scattergl\"}], \"scattermapbox\": [{\"marker\": {\"colorbar\": {\"outlinewidth\": 0, \"ticks\": \"\"}}, \"type\": \"scattermapbox\"}], \"scatterpolar\": [{\"marker\": {\"colorbar\": {\"outlinewidth\": 0, \"ticks\": \"\"}}, \"type\": \"scatterpolar\"}], \"scatterpolargl\": [{\"marker\": {\"colorbar\": {\"outlinewidth\": 0, \"ticks\": \"\"}}, \"type\": \"scatterpolargl\"}], \"scatterternary\": [{\"marker\": {\"colorbar\": {\"outlinewidth\": 0, \"ticks\": \"\"}}, \"type\": \"scatterternary\"}], \"surface\": [{\"colorbar\": {\"outlinewidth\": 0, \"ticks\": \"\"}, \"colorscale\": [[0.0, \"#0d0887\"], [0.1111111111111111, \"#46039f\"], [0.2222222222222222, \"#7201a8\"], [0.3333333333333333, \"#9c179e\"], [0.4444444444444444, \"#bd3786\"], [0.5555555555555556, \"#d8576b\"], [0.6666666666666666, \"#ed7953\"], [0.7777777777777778, \"#fb9f3a\"], [0.8888888888888888, \"#fdca26\"], [1.0, \"#f0f921\"]], \"type\": \"surface\"}], \"table\": [{\"cells\": {\"fill\": {\"color\": \"#EBF0F8\"}, \"line\": {\"color\": \"white\"}}, \"header\": {\"fill\": {\"color\": \"#C8D4E3\"}, \"line\": {\"color\": \"white\"}}, \"type\": \"table\"}]}, \"layout\": {\"annotationdefaults\": {\"arrowcolor\": \"#2a3f5f\", \"arrowhead\": 0, \"arrowwidth\": 1}, \"colorscale\": {\"diverging\": [[0, \"#8e0152\"], [0.1, \"#c51b7d\"], [0.2, \"#de77ae\"], [0.3, \"#f1b6da\"], [0.4, \"#fde0ef\"], [0.5, \"#f7f7f7\"], [0.6, \"#e6f5d0\"], [0.7, \"#b8e186\"], [0.8, \"#7fbc41\"], [0.9, \"#4d9221\"], [1, \"#276419\"]], \"sequential\": [[0.0, \"#0d0887\"], [0.1111111111111111, \"#46039f\"], [0.2222222222222222, \"#7201a8\"], [0.3333333333333333, \"#9c179e\"], [0.4444444444444444, \"#bd3786\"], [0.5555555555555556, \"#d8576b\"], [0.6666666666666666, \"#ed7953\"], [0.7777777777777778, \"#fb9f3a\"], [0.8888888888888888, \"#fdca26\"], [1.0, \"#f0f921\"]], \"sequentialminus\": [[0.0, \"#0d0887\"], [0.1111111111111111, \"#46039f\"], [0.2222222222222222, \"#7201a8\"], [0.3333333333333333, \"#9c179e\"], [0.4444444444444444, \"#bd3786\"], [0.5555555555555556, \"#d8576b\"], [0.6666666666666666, \"#ed7953\"], [0.7777777777777778, \"#fb9f3a\"], [0.8888888888888888, \"#fdca26\"], [1.0, \"#f0f921\"]]}, \"colorway\": [\"#636efa\", \"#EF553B\", \"#00cc96\", \"#ab63fa\", \"#FFA15A\", \"#19d3f3\", \"#FF6692\", \"#B6E880\", \"#FF97FF\", \"#FECB52\"], \"font\": {\"color\": \"#2a3f5f\"}, \"geo\": {\"bgcolor\": \"white\", \"lakecolor\": \"white\", \"landcolor\": \"#E5ECF6\", \"showlakes\": true, \"showland\": true, \"subunitcolor\": \"white\"}, \"hoverlabel\": {\"align\": \"left\"}, \"hovermode\": \"closest\", \"mapbox\": {\"style\": \"light\"}, \"paper_bgcolor\": \"white\", \"plot_bgcolor\": \"#E5ECF6\", \"polar\": {\"angularaxis\": {\"gridcolor\": \"white\", \"linecolor\": \"white\", \"ticks\": \"\"}, \"bgcolor\": \"#E5ECF6\", \"radialaxis\": {\"gridcolor\": \"white\", \"linecolor\": \"white\", \"ticks\": \"\"}}, \"scene\": {\"xaxis\": {\"backgroundcolor\": \"#E5ECF6\", \"gridcolor\": \"white\", \"gridwidth\": 2, \"linecolor\": \"white\", \"showbackground\": true, \"ticks\": \"\", \"zerolinecolor\": \"white\"}, \"yaxis\": {\"backgroundcolor\": \"#E5ECF6\", \"gridcolor\": \"white\", \"gridwidth\": 2, \"linecolor\": \"white\", \"showbackground\": true, \"ticks\": \"\", \"zerolinecolor\": \"white\"}, \"zaxis\": {\"backgroundcolor\": \"#E5ECF6\", \"gridcolor\": \"white\", \"gridwidth\": 2, \"linecolor\": \"white\", \"showbackground\": true, \"ticks\": \"\", \"zerolinecolor\": \"white\"}}, \"shapedefaults\": {\"line\": {\"color\": \"#2a3f5f\"}}, \"ternary\": {\"aaxis\": {\"gridcolor\": \"white\", \"linecolor\": \"white\", \"ticks\": \"\"}, \"baxis\": {\"gridcolor\": \"white\", \"linecolor\": \"white\", \"ticks\": \"\"}, \"bgcolor\": \"#E5ECF6\", \"caxis\": {\"gridcolor\": \"white\", \"linecolor\": \"white\", \"ticks\": \"\"}}, \"title\": {\"x\": 0.05}, \"xaxis\": {\"automargin\": true, \"gridcolor\": \"white\", \"linecolor\": \"white\", \"ticks\": \"\", \"zerolinecolor\": \"white\", \"zerolinewidth\": 2}, \"yaxis\": {\"automargin\": true, \"gridcolor\": \"white\", \"linecolor\": \"white\", \"ticks\": \"\", \"zerolinecolor\": \"white\", \"zerolinewidth\": 2}}}, \"title\": {\"font\": {\"color\": \"#4D5663\"}, \"text\": \"a varies from 10000000.0 to 10.0\"}, \"xaxis\": {\"gridcolor\": \"#E1E5ED\", \"showgrid\": true, \"tickfont\": {\"color\": \"#4D5663\"}, \"title\": {\"font\": {\"color\": \"#4D5663\"}, \"text\": \"Im(P)\"}, \"zerolinecolor\": \"#E1E5ED\"}, \"yaxis\": {\"gridcolor\": \"#E1E5ED\", \"showgrid\": true, \"tickfont\": {\"color\": \"#4D5663\"}, \"title\": {\"font\": {\"color\": \"#4D5663\"}, \"text\": \"Re(P)\"}, \"zerolinecolor\": \"#E1E5ED\"}},\n",
       "                        {\"showLink\": true, \"linkText\": \"Export to plot.ly\", \"plotlyServerURL\": \"https://plot.ly\", \"responsive\": true}\n",
       "                    ).then(function(){\n",
       "                            \n",
       "var gd = document.getElementById('5cdcadec-7217-474d-a133-6f1744ed1ce0');\n",
       "var x = new MutationObserver(function (mutations, observer) {{\n",
       "        var display = window.getComputedStyle(gd).display;\n",
       "        if (!display || display === 'none') {{\n",
       "            console.log([gd, 'removed!']);\n",
       "            Plotly.purge(gd);\n",
       "            observer.disconnect();\n",
       "        }}\n",
       "}});\n",
       "\n",
       "// Listen for the removal of the full notebook cells\n",
       "var notebookContainer = gd.closest('#notebook-container');\n",
       "if (notebookContainer) {{\n",
       "    x.observe(notebookContainer, {childList: true});\n",
       "}}\n",
       "\n",
       "// Listen for the clearing of the current output cell\n",
       "var outputEl = gd.closest('.output');\n",
       "if (outputEl) {{\n",
       "    x.observe(outputEl, {childList: true});\n",
       "}}\n",
       "\n",
       "                        })\n",
       "                };\n",
       "                });\n",
       "            </script>\n",
       "        </div>"
      ]
     },
     "metadata": {},
     "output_type": "display_data"
    }
   ],
   "source": [
    "# P = -1/(a + 1)\n",
    "p_num = 101\n",
    "vs = np.logspace(1, 7, p_num)\n",
    "# массив для результатов (так как полюс один, то достаточно массива, а не матрицы\n",
    "Ps = np.empty(p_num)\n",
    "\n",
    "for i, vs_i in enumerate(vs):\n",
    "    _, p, _ = signal.tf2zpk([1, 0], [1, a / vs_i, 1])\n",
    "    Ps[i] = p[0]\n",
    "    \n",
    "df = pd.DataFrame(np.real(Ps).T, columns=['Re(Ps)'], index=np.imag(Ps))\n",
    "df.iplot(mode='lines + markers', xTitle='Im(P)', yTitle='Re(P)',\n",
    "         title=f'a varies from {a / vs[0]} to {a / vs[-1]}')\n"
   ]
  },
  {
   "cell_type": "code",
   "execution_count": 11,
   "metadata": {},
   "outputs": [
    {
     "data": {
      "application/vnd.plotly.v1+json": {
       "config": {
        "linkText": "Export to plot.ly",
        "plotlyServerURL": "https://plot.ly",
        "showLink": true
       },
       "data": [
        {
         "line": {
          "color": "rgba(255, 153, 51, 1.0)",
          "dash": "solid",
          "shape": "linear",
          "width": 1.3
         },
         "mode": "lines",
         "name": "0",
         "text": "",
         "type": "scatter",
         "x": [
          0,
          3,
          6,
          9,
          12,
          15,
          18,
          21,
          24,
          27,
          30,
          33,
          36,
          39,
          42,
          45,
          48,
          51,
          54,
          57,
          60,
          63,
          66,
          69,
          72,
          75,
          78,
          81,
          84,
          87,
          90,
          93,
          96,
          99,
          102,
          105,
          108,
          111,
          114,
          117,
          120,
          123,
          126,
          129,
          132,
          135,
          138,
          141,
          144,
          147,
          150,
          153,
          156,
          159,
          162,
          165,
          168,
          171,
          174,
          177,
          180,
          183,
          186,
          189,
          192,
          195,
          198,
          201,
          204,
          207,
          210,
          213,
          216,
          219,
          222,
          225,
          228,
          231,
          234,
          237,
          240,
          243,
          246,
          249,
          252,
          255,
          258,
          261,
          264,
          267,
          270,
          273,
          276,
          279,
          282,
          285,
          288,
          291,
          294,
          297,
          300,
          303,
          306,
          309,
          312,
          315,
          318,
          321,
          324,
          327,
          330,
          333,
          336,
          339,
          342,
          345,
          348,
          351,
          354,
          357,
          360,
          363,
          366,
          369,
          372,
          375,
          378,
          381,
          384,
          387,
          390,
          393,
          396,
          399,
          402,
          405,
          408,
          411,
          414,
          417,
          420,
          423,
          426,
          429,
          432,
          435,
          438,
          441,
          444,
          447,
          450,
          453,
          456,
          459,
          462,
          465,
          468,
          471,
          474,
          477,
          480,
          483,
          486,
          489,
          492,
          495,
          498,
          501,
          504,
          507,
          510,
          513,
          516,
          519,
          522,
          525,
          528,
          531,
          534,
          537,
          540,
          543,
          546,
          549,
          552,
          555,
          558,
          561,
          564,
          567,
          570,
          573,
          576,
          579,
          582,
          585,
          588,
          591,
          594,
          597,
          600,
          603,
          606,
          609,
          612,
          615,
          618,
          621,
          624,
          627,
          630,
          633,
          636,
          639,
          642,
          645,
          648,
          651,
          654,
          657,
          660,
          663,
          666,
          669,
          672,
          675,
          678,
          681,
          684,
          687,
          690,
          693,
          696,
          699,
          702,
          705,
          708,
          711,
          714,
          717,
          720,
          723,
          726,
          729,
          732,
          735,
          738,
          741,
          744,
          747,
          750,
          753,
          756,
          759,
          762,
          765,
          768,
          771,
          774,
          777,
          780,
          783,
          786,
          789,
          792,
          795,
          798,
          801,
          804,
          807,
          810,
          813,
          816,
          819,
          822,
          825,
          828,
          831,
          834,
          837,
          840,
          843,
          846,
          849,
          852,
          855,
          858,
          861,
          864,
          867,
          870,
          873,
          876,
          879,
          882,
          885,
          888,
          891,
          894,
          897,
          900,
          903,
          906,
          909,
          912,
          915,
          918,
          921,
          924,
          927,
          930,
          933,
          936,
          939,
          942,
          945,
          948,
          951,
          954,
          957,
          960,
          963,
          966,
          969,
          972,
          975,
          978,
          981,
          984,
          987,
          990,
          993,
          996,
          999,
          1002,
          1005,
          1008,
          1011,
          1014,
          1017,
          1020,
          1023,
          1026,
          1029,
          1032,
          1035,
          1038,
          1041,
          1044,
          1047,
          1050,
          1053,
          1056,
          1059,
          1062,
          1065,
          1068,
          1071,
          1074,
          1077,
          1080,
          1083,
          1086,
          1089,
          1092,
          1095,
          1098,
          1101,
          1104,
          1107,
          1110,
          1113,
          1116,
          1119,
          1122,
          1125,
          1128,
          1131,
          1134,
          1137,
          1140,
          1143,
          1146,
          1149,
          1152,
          1155,
          1158,
          1161,
          1164,
          1167,
          1170,
          1173,
          1176,
          1179,
          1182,
          1185,
          1188,
          1191,
          1194,
          1197,
          1200,
          1203,
          1206,
          1209,
          1212,
          1215,
          1218,
          1221,
          1224,
          1227,
          1230,
          1233,
          1236,
          1239,
          1242,
          1245,
          1248,
          1251,
          1254,
          1257,
          1260,
          1263,
          1266,
          1269,
          1272,
          1275,
          1278,
          1281,
          1284,
          1287,
          1290,
          1293,
          1296,
          1299,
          1302,
          1305,
          1308,
          1311,
          1314,
          1317,
          1320,
          1323,
          1326,
          1329,
          1332,
          1335,
          1338,
          1341,
          1344,
          1347,
          1350,
          1353,
          1356,
          1359,
          1362,
          1365,
          1368,
          1371,
          1374,
          1377,
          1380,
          1383,
          1386,
          1389,
          1392,
          1395,
          1398,
          1401,
          1404,
          1407,
          1410,
          1413,
          1416,
          1419,
          1422,
          1425,
          1428,
          1431,
          1434,
          1437,
          1440,
          1443,
          1446,
          1449,
          1452,
          1455,
          1458,
          1461,
          1464,
          1467,
          1470,
          1473,
          1476,
          1479,
          1482,
          1485,
          1488,
          1491,
          1494,
          1497,
          1500,
          1503,
          1506,
          1509,
          1512,
          1515,
          1518,
          1521,
          1524,
          1527,
          1530,
          1533,
          1536,
          1539,
          1542,
          1545,
          1548,
          1551,
          1554,
          1557,
          1560,
          1563,
          1566,
          1569,
          1572,
          1575,
          1578,
          1581,
          1584,
          1587,
          1590,
          1593,
          1596,
          1599,
          1602,
          1605,
          1608,
          1611,
          1614,
          1617,
          1620,
          1623,
          1626,
          1629,
          1632,
          1635,
          1638,
          1641,
          1644,
          1647,
          1650,
          1653,
          1656,
          1659,
          1662,
          1665,
          1668,
          1671,
          1674,
          1677,
          1680,
          1683,
          1686,
          1689,
          1692,
          1695,
          1698,
          1701,
          1704,
          1707,
          1710,
          1713,
          1716,
          1719,
          1722,
          1725,
          1728,
          1731,
          1734,
          1737,
          1740,
          1743,
          1746,
          1749,
          1752,
          1755,
          1758,
          1761,
          1764,
          1767,
          1770,
          1773,
          1776,
          1779,
          1782,
          1785,
          1788,
          1791,
          1794,
          1797,
          1800,
          1803,
          1806,
          1809,
          1812,
          1815,
          1818,
          1821,
          1824,
          1827,
          1830,
          1833,
          1836,
          1839,
          1842,
          1845,
          1848,
          1851,
          1854,
          1857,
          1860,
          1863,
          1866,
          1869,
          1872,
          1875,
          1878,
          1881,
          1884,
          1887,
          1890,
          1893,
          1896,
          1899,
          1902,
          1905,
          1908,
          1911,
          1914,
          1917,
          1920,
          1923,
          1926,
          1929,
          1932,
          1935,
          1938,
          1941,
          1944,
          1947,
          1950,
          1953,
          1956,
          1959,
          1962,
          1965,
          1968,
          1971,
          1974,
          1977,
          1980,
          1983,
          1986,
          1989,
          1992,
          1995,
          1998,
          2001,
          2004,
          2007,
          2010,
          2013,
          2016,
          2019,
          2022,
          2025,
          2028,
          2031,
          2034,
          2037,
          2040,
          2043,
          2046,
          2049,
          2052,
          2055,
          2058,
          2061,
          2064,
          2067,
          2070,
          2073,
          2076,
          2079,
          2082,
          2085,
          2088,
          2091,
          2094,
          2097,
          2100,
          2103,
          2106,
          2109,
          2112,
          2115,
          2118,
          2121,
          2124,
          2127,
          2130,
          2133,
          2136,
          2139,
          2142,
          2145,
          2148,
          2151,
          2154,
          2157,
          2160,
          2163,
          2166,
          2169,
          2172,
          2175,
          2178,
          2181,
          2184,
          2187,
          2190,
          2193,
          2196,
          2199,
          2202,
          2205,
          2208,
          2211,
          2214,
          2217,
          2220,
          2223,
          2226,
          2229,
          2232,
          2235,
          2238,
          2241,
          2244,
          2247,
          2250,
          2253,
          2256,
          2259,
          2262,
          2265,
          2268,
          2271,
          2274,
          2277,
          2280,
          2283,
          2286,
          2289,
          2292,
          2295,
          2298,
          2301,
          2304,
          2307,
          2310,
          2313,
          2316,
          2319,
          2322,
          2325,
          2328,
          2331,
          2334,
          2337,
          2340,
          2343,
          2346,
          2349,
          2352,
          2355,
          2358,
          2361,
          2364,
          2367,
          2370,
          2373,
          2376,
          2379,
          2382,
          2385,
          2388,
          2391,
          2394,
          2397,
          2400,
          2403,
          2406,
          2409,
          2412,
          2415,
          2418,
          2421,
          2424,
          2427,
          2430,
          2433,
          2436,
          2439,
          2442,
          2445,
          2448,
          2451,
          2454,
          2457,
          2460,
          2463,
          2466,
          2469,
          2472,
          2475,
          2478,
          2481,
          2484,
          2487,
          2490,
          2493,
          2496,
          2499,
          2502,
          2505,
          2508,
          2511,
          2514,
          2517,
          2520,
          2523,
          2526,
          2529,
          2532,
          2535,
          2538,
          2541,
          2544,
          2547,
          2550,
          2553,
          2556,
          2559,
          2562,
          2565,
          2568,
          2571,
          2574,
          2577,
          2580,
          2583,
          2586,
          2589,
          2592,
          2595,
          2598,
          2601,
          2604,
          2607,
          2610,
          2613,
          2616,
          2619,
          2622,
          2625,
          2628,
          2631,
          2634,
          2637,
          2640,
          2643,
          2646,
          2649,
          2652,
          2655,
          2658,
          2661,
          2664,
          2667,
          2670,
          2673,
          2676,
          2679,
          2682,
          2685,
          2688,
          2691,
          2694,
          2697,
          2700,
          2703,
          2706,
          2709,
          2712,
          2715,
          2718,
          2721,
          2724,
          2727,
          2730,
          2733,
          2736,
          2739,
          2742,
          2745,
          2748,
          2751,
          2754,
          2757,
          2760,
          2763,
          2766,
          2769,
          2772,
          2775,
          2778,
          2781,
          2784,
          2787,
          2790,
          2793,
          2796,
          2799,
          2802,
          2805,
          2808,
          2811,
          2814,
          2817,
          2820,
          2823,
          2826,
          2829,
          2832,
          2835,
          2838,
          2841,
          2844,
          2847,
          2850,
          2853,
          2856,
          2859,
          2862,
          2865,
          2868,
          2871,
          2874,
          2877,
          2880,
          2883,
          2886,
          2889,
          2892,
          2895,
          2898,
          2901,
          2904,
          2907,
          2910,
          2913,
          2916,
          2919,
          2922,
          2925,
          2928,
          2931,
          2934,
          2937,
          2940,
          2943,
          2946,
          2949,
          2952,
          2955,
          2958,
          2961,
          2964,
          2967,
          2970,
          2973,
          2976,
          2979,
          2982,
          2985,
          2988,
          2991,
          2994,
          2997,
          3000
         ],
         "y": [
          0,
          0.018848439715408175,
          0.03769018266993454,
          0.05651853448202453,
          0.07532680552793272,
          0.09410831331851431,
          0.11285638487348168,
          0.1315643590922825,
          0.15022558912075706,
          0.16883344471273387,
          0.1873813145857246,
          0.20586260876988133,
          0.22427076094938117,
          0.2425992307954074,
          0.26084150628989694,
          0.2789911060392293,
          0.2970415815770349,
          0.3149865196553048,
          0.3328195445229866,
          0.35053432019125896,
          0.3681245526846779,
          0.38558399227739654,
          0.40290643571366264,
          0.42008572841180625,
          0.4371157666509329,
          0.45399049973954675,
          0.4707039321653326,
          0.4872501257253323,
          0.5036232016357608,
          0.5198173426207094,
          0.5358267949789967,
          0.5516458706284302,
          0.5672689491267565,
          0.5826904796685761,
          0.5979049830575188,
          0.6129070536529765,
          0.6276913612907005,
          0.6422526531765844,
          0.6565857557529564,
          0.67068557653672,
          0.6845471059286886,
          0.6981654189934727,
          0.7115356772092853,
          0.7246531301870466,
          0.7375131173581739,
          0.7501110696304595,
          0.7624425110114479,
          0.7745030601987337,
          0.7862884321366188,
          0.797794439538571,
          0.8090169943749473,
          0.8199521093254523,
          0.8305958991958126,
          0.840944582298169,
          0.8509944817946917,
          0.8607420270039435,
          0.8701837546695257,
          0.8793163101905562,
          0.8881364488135445,
          0.8966410367852359,
          0.9048270524660196,
          0.9126915874035028,
          0.9202318473658703,
          0.9274451533346614,
          0.934328942456612,
          0.9408807689542255,
          0.9470983049947443,
          0.9529793415172189,
          0.9585217890173758,
          0.9637236782900097,
          0.9685831611286311,
          0.9730985109821265,
          0.9772681235681935,
          0.9810905174433341,
          0.9845643345292053,
          0.9876883405951378,
          0.9904614256966512,
          0.9928826045698137,
          0.9949510169813002,
          0.9966659280340299,
          0.9980267284282716,
          0.9990329346781247,
          0.9996841892832999,
          0.9999802608561371,
          0.9999210442038161,
          0.9995065603657316,
          0.9987369566060175,
          0.9976125063612252,
          0.9961336091431725,
          0.9943007903969989,
          0.9921147013144779,
          0.9895761186026509,
          0.986685944207868,
          0.9834452049953297,
          0.9798550523842469,
          0.9759167619387474,
          0.971631732914674,
          0.9670014877624351,
          0.9620276715860858,
          0.9567120515588305,
          0.9510565162951536,
          0.9450630751798049,
          0.9387338576538741,
          0.932071112458211,
          0.925077206834458,
          0.9177546256839811,
          0.9101059706849957,
          0.9021339593682027,
          0.8938414241512638,
          0.8852313113324553,
          0.8763066800438637,
          0.8670707011644901,
          0.8575266561936523,
          0.8476779360850834,
          0.8375280400421418,
          0.8270805742745618,
          0.816339250717184,
          0.805307885711122,
          0.7939903986478353,
          0.7823908105765882,
          0.7705132427757893,
          0.7583619152887218,
          0.7459411454241822,
          0.73325534622256,
          0.7203090248879072,
          0.7071067811865476,
          0.6936533058128049,
          0.6799533787224193,
          0.6660118674342517,
          0.6518337253008787,
          0.6374239897486899,
          0.6227877804881126,
          0.6079302976946053,
          0.5928568201610593,
          0.5775727034222676,
          0.5620833778521308,
          0.5463943467342691,
          0.530511184306734,
          0.5144395337815066,
          0.4981851053394909,
          0.4817536741017152,
          0.46515107807745854,
          0.4483832160900323,
          0.43145604568095886,
          0.4143755809932843,
          0.3971478906347806,
          0.37977909552180095,
          0.3622753667045458,
          0.34464292317451706,
          0.32688802965494274,
          0.3090169943749475,
          0.29103616682827177,
          0.27295193551732544,
          0.2547707256833822,
          0.2364989970237246,
          0.21814324139654273,
          0.19970998051440705,
          0.18120576362713722,
          0.16263716519488375,
          0.14401078255225216,
          0.12533323356430454,
          0.10661115427526005,
          0.08785119655074315,
          0.06906002571440606,
          0.05024431817976966,
          0.03141075907812824,
          0.012566039883352836,
          -0.006283143965558882,
          -0.02513009544333757,
          -0.04396811831786471,
          -0.06279051952931333,
          -0.08159061156815767,
          -0.10036171485121473,
          -0.11909716009486973,
          -0.1377902906846378,
          -0.15643446504023076,
          -0.1750230589752761,
          -0.19354946805086,
          -0.21200710992205457,
          -0.23038942667659065,
          -0.24868988716485457,
          -0.2669019893203755,
          -0.2850192624699762,
          -0.30303526963277383,
          -0.3209436098072095,
          -0.33873792024529153,
          -0.3564118787132506,
          -0.37395920573780045,
          -0.39137366683720215,
          -0.4086490747363489,
          -0.4257792915650727,
          -0.44275823103890133,
          -0.4595798606214878,
          -0.4762382036679392,
          -0.4927273415482914,
          -0.5090414157503713,
          -0.5251746299612958,
          -0.5411212521268757,
          -0.556875616488188,
          -0.5724321255945907,
          -0.587785252292473,
          -0.6029295416890247,
          -0.6178596130903341,
          -0.6325701619131244,
          -0.6470559615694443,
          -0.6613118653236517,
          -0.6753328081210244,
          -0.6891138083873485,
          -0.7026499697988491,
          -0.7159364830218311,
          -0.7289686274214116,
          -0.7417417727387391,
          -0.7542513807361038,
          -0.7664930068093496,
          -0.7784623015670236,
          -0.7901550123756904,
          -0.8015669848708764,
          -0.8126941644330942,
          -0.8235325976284275,
          -0.8340784336131715,
          -0.8443279255020147,
          -0.8542774316992952,
          -0.8639234171928352,
          -0.8732624548099204,
          -0.8822912264349534,
          -0.8910065241883682,
          -0.8994052515663709,
          -0.907484424541117,
          -0.9152411726209175,
          -0.922672739870115,
          -0.9297764858882515,
          -0.9365498867481923,
          -0.9429905358928643,
          -0.9490961449902947,
          -0.954864544746643,
          -0.9602936856769432,
          -0.965381638833274,
          -0.9701265964901058,
          -0.9745268727865771,
          -0.9785809043254722,
          -0.9822872507286887,
          -0.9856445951489982,
          -0.9886517447379141,
          -0.9913076310695066,
          -0.9936113105200084,
          -0.99556196460308,
          -0.9971589002606139,
          -0.9984015501089751,
          -0.9992894726405892,
          -0.999822352380809,
          -1,
          -0.999822352380809,
          -0.9992894726405892,
          -0.998401550108975,
          -0.9971589002606139,
          -0.99556196460308,
          -0.9936113105200084,
          -0.9913076310695065,
          -0.988651744737914,
          -0.985644595148998,
          -0.9822872507286887,
          -0.9785809043254721,
          -0.9745268727865771,
          -0.9701265964901057,
          -0.9653816388332738,
          -0.9602936856769431,
          -0.9548645447466431,
          -0.9490961449902945,
          -0.9429905358928644,
          -0.9365498867481922,
          -0.9297764858882516,
          -0.9226727398701148,
          -0.9152411726209176,
          -0.9074844245411168,
          -0.899405251566371,
          -0.8910065241883676,
          -0.8822912264349535,
          -0.8732624548099202,
          -0.8639234171928354,
          -0.8542774316992949,
          -0.8443279255020151,
          -0.8340784336131708,
          -0.8235325976284277,
          -0.8126941644330938,
          -0.8015669848708766,
          -0.7901550123756901,
          -0.7784623015670233,
          -0.7664930068093498,
          -0.7542513807361041,
          -0.7417417727387391,
          -0.7289686274214116,
          -0.7159364830218309,
          -0.702649969798849,
          -0.6891138083873485,
          -0.6753328081210246,
          -0.6613118653236516,
          -0.6470559615694442,
          -0.632570161913124,
          -0.6178596130903348,
          -0.6029295416890247,
          -0.5877852522924732,
          -0.5724321255945906,
          -0.556875616488188,
          -0.5411212521268752,
          -0.525174629961296,
          -0.5090414157503712,
          -0.4927273415482917,
          -0.4762382036679387,
          -0.4595798606214877,
          -0.4427582310389016,
          -0.425779291565073,
          -0.40864907473634887,
          -0.3913736668372025,
          -0.37395920573779995,
          -0.3564118787132505,
          -0.3387379202452914,
          -0.32094360980720976,
          -0.3030352696327737,
          -0.2850192624699761,
          -0.26690198932037495,
          -0.24868988716485535,
          -0.23038942667659057,
          -0.2120071099220549,
          -0.19354946805085993,
          -0.175023058975276,
          -0.15643446504023023,
          -0.13779029068463858,
          -0.11909716009486966,
          -0.1003617148512151,
          -0.08159061156815717,
          -0.06279051952931326,
          -0.04396811831786419,
          -0.025130095443337937,
          -0.0062831439655588045,
          0.012566039883352469,
          0.03141075907812876,
          0.05024431817976974,
          0.06906002571440568,
          0.08785119655074278,
          0.10661115427526012,
          0.12533323356430418,
          0.1440107825522527,
          0.16263716519488383,
          0.1812057636271373,
          0.1997099805144067,
          0.21814324139654281,
          0.23649899702372468,
          0.25477072568338277,
          0.2729519355173247,
          0.2910361668282719,
          0.3090169943749472,
          0.32688802965494285,
          0.3446429231745171,
          0.36227536670454635,
          0.37977909552180067,
          0.39714789063478073,
          0.414375580993284,
          0.43145604568095935,
          0.4483832160900324,
          0.46515107807745826,
          0.48175367410171493,
          0.498185105339491,
          0.5144395337815064,
          0.5305111843067345,
          0.5463943467342692,
          0.5620833778521306,
          0.5775727034222673,
          0.5928568201610595,
          0.6079302976946054,
          0.622787780488113,
          0.63742398974869,
          0.6518337253008788,
          0.6660118674342514,
          0.6799533787224195,
          0.693653305812805,
          0.7071067811865479,
          0.7203090248879065,
          0.73325534622256,
          0.745941145424182,
          0.758361915288722,
          0.7705132427757893,
          0.7823908105765885,
          0.7939903986478349,
          0.805307885711122,
          0.8163392507171838,
          0.827080574274562,
          0.8375280400421418,
          0.8476779360850831,
          0.8575266561936521,
          0.8670707011644901,
          0.8763066800438635,
          0.8852313113324555,
          0.8938414241512639,
          0.9021339593682027,
          0.9101059706849955,
          0.9177546256839813,
          0.925077206834458,
          0.9320711124582112,
          0.9387338576538738,
          0.9450630751798048,
          0.9510565162951534,
          0.9567120515588305,
          0.9620276715860859,
          0.9670014877624352,
          0.9716317329146738,
          0.9759167619387474,
          0.9798550523842469,
          0.9834452049953297,
          0.986685944207868,
          0.989576118602651,
          0.9921147013144778,
          0.9943007903969989,
          0.9961336091431725,
          0.9976125063612252,
          0.9987369566060175,
          0.9995065603657316,
          0.9999210442038161,
          0.9999802608561371,
          0.9996841892832999,
          0.9990329346781247,
          0.9980267284282716,
          0.9966659280340299,
          0.9949510169813002,
          0.9928826045698136,
          0.9904614256966512,
          0.9876883405951377,
          0.9845643345292054,
          0.9810905174433341,
          0.9772681235681934,
          0.9730985109821267,
          0.9685831611286311,
          0.9637236782900096,
          0.9585217890173761,
          0.9529793415172187,
          0.9470983049947441,
          0.9408807689542257,
          0.934328942456612,
          0.927445153334661,
          0.9202318473658698,
          0.9126915874035028,
          0.90482705246602,
          0.8966410367852361,
          0.8881364488135445,
          0.8793163101905568,
          0.8701837546695259,
          0.8607420270039435,
          0.8509944817946915,
          0.8409445822981693,
          0.8305958991958126,
          0.8199521093254518,
          0.8090169943749466,
          0.7977944395385719,
          0.7862884321366195,
          0.774503060198734,
          0.7624425110114477,
          0.7501110696304601,
          0.7375131173581742,
          0.7246531301870465,
          0.7115356772092847,
          0.6981654189934728,
          0.6845471059286884,
          0.6706855765367193,
          0.6565857557529565,
          0.6422526531765854,
          0.627691361290701,
          0.6129070536529766,
          0.5979049830575185,
          0.5826904796685767,
          0.5672689491267566,
          0.5516458706284298,
          0.5358267949789957,
          0.5198173426207096,
          0.5036232016357604,
          0.48725012572533133,
          0.47070393216533263,
          0.4539904997395479,
          0.4371157666509335,
          0.4200857284118063,
          0.40290643571366214,
          0.38558399227739715,
          0.368124552684678,
          0.35053432019125846,
          0.3328195445229855,
          0.3149865196553048,
          0.2970415815770343,
          0.2789911060392298,
          0.2608415062898969,
          0.2425992307954085,
          0.22427076094938167,
          0.20586260876988122,
          0.18738131458572393,
          0.16883344471273432,
          0.15022558912075692,
          0.13156435909228176,
          0.11285638487348035,
          0.09410831331851414,
          0.07532680552793372,
          0.05651853448202493,
          0.03769018266993434,
          0.018848439715409147,
          3.6739403974420594e-16,
          -0.01884843971540841,
          -0.037690182669935374,
          -0.056518534482024194,
          -0.075326805527933,
          -0.0941083133185152,
          -0.11285638487348316,
          -0.13156435909228104,
          -0.1502255891207562,
          -0.16883344471273362,
          -0.18738131458572496,
          -0.20586260876988052,
          -0.22427076094938098,
          -0.2425992307954078,
          -0.26084150628989783,
          -0.27899110603922905,
          -0.29704158157703525,
          -0.3149865196553057,
          -0.33281954452298645,
          -0.35053432019125774,
          -0.36812455268467725,
          -0.3855839922773964,
          -0.4029064357136631,
          -0.4200857284118056,
          -0.4371157666509328,
          -0.4539904997395472,
          -0.4707039321653335,
          -0.4872501257253323,
          -0.5036232016357614,
          -0.519817342620709,
          -0.5358267949789967,
          -0.5516458706284293,
          -0.5672689491267561,
          -0.5826904796685761,
          -0.5979049830575194,
          -0.612907053652976,
          -0.6276913612907006,
          -0.6422526531765849,
          -0.6565857557529574,
          -0.6706855765367201,
          -0.684547105928688,
          -0.6981654189934724,
          -0.7115356772092853,
          -0.7246531301870459,
          -0.7375131173581736,
          -0.7501110696304596,
          -0.7624425110114483,
          -0.7745030601987335,
          -0.786288432136619,
          -0.7977944395385714,
          -0.8090169943749482,
          -0.8199521093254514,
          -0.8305958991958121,
          -0.8409445822981689,
          -0.850994481794692,
          -0.8607420270039432,
          -0.8701837546695255,
          -0.8793163101905563,
          -0.8881364488135449,
          -0.8966410367852358,
          -0.9048270524660197,
          -0.9126915874035032,
          -0.9202318473658709,
          -0.9274451533346608,
          -0.9343289424566117,
          -0.9408807689542253,
          -0.9470983049947443,
          -0.9529793415172185,
          -0.9585217890173758,
          -0.9637236782900098,
          -0.9685831611286314,
          -0.9730985109821265,
          -0.9772681235681936,
          -0.9810905174433343,
          -0.9845643345292053,
          -0.9876883405951375,
          -0.9904614256966511,
          -0.9928826045698137,
          -0.9949510169813002,
          -0.9966659280340299,
          -0.9980267284282716,
          -0.9990329346781247,
          -0.9996841892833,
          -0.9999802608561371,
          -0.9999210442038161,
          -0.9995065603657316,
          -0.9987369566060175,
          -0.9976125063612253,
          -0.9961336091431725,
          -0.9943007903969989,
          -0.9921147013144778,
          -0.989576118602651,
          -0.986685944207868,
          -0.9834452049953295,
          -0.9798550523842466,
          -0.9759167619387473,
          -0.9716317329146742,
          -0.9670014877624352,
          -0.9620276715860858,
          -0.9567120515588308,
          -0.9510565162951538,
          -0.9450630751798048,
          -0.9387338576538738,
          -0.9320711124582112,
          -0.9250772068344579,
          -0.9177546256839808,
          -0.9101059706849951,
          -0.9021339593682035,
          -0.8938414241512642,
          -0.8852313113324554,
          -0.8763066800438635,
          -0.8670707011644905,
          -0.8575266561936524,
          -0.8476779360850831,
          -0.8375280400421412,
          -0.8270805742745619,
          -0.8163392507171838,
          -0.8053078857111214,
          -0.7939903986478355,
          -0.782390810576589,
          -0.7705132427757897,
          -0.758361915288722,
          -0.7459411454241819,
          -0.7332553462225606,
          -0.720309024887907,
          -0.7071067811865472,
          -0.6936533058128042,
          -0.6799533787224192,
          -0.6660118674342512,
          -0.6518337253008792,
          -0.6374239897486897,
          -0.6227877804881135,
          -0.6079302976946059,
          -0.5928568201610592,
          -0.5775727034222671,
          -0.5620833778521311,
          -0.5463943467342691,
          -0.5305111843067335,
          -0.5144395337815054,
          -0.4981851053394908,
          -0.48175367410171627,
          -0.46515107807745887,
          -0.44838321609003223,
          -0.43145604568096,
          -0.41437558099328464,
          -0.39714789063478056,
          -0.3797790955218005,
          -0.3622753667045462,
          -0.344642923174517,
          -0.32688802965494185,
          -0.3090169943749462,
          -0.2910361668282717,
          -0.27295193551732627,
          -0.2547707256833826,
          -0.23649899702372454,
          -0.21814324139654356,
          -0.19970998051440744,
          -0.18120576362713717,
          -0.16263716519488283,
          -0.14401078255225255,
          -0.12533323356430404,
          -0.10661115427525909,
          -0.08785119655074175,
          -0.06906002571440731,
          -0.05024431817977047,
          -0.031410759078128604,
          -0.012566039883352314,
          0.00628314396555807,
          0.025130095443337202,
          0.04396811831786523,
          0.0627905195293143,
          0.0815906115681573,
          0.10036171485121526,
          0.1190971600948707,
          0.13779029068463786,
          0.15643446504022948,
          0.17502305897527526,
          0.19354946805086007,
          0.21200710992205504,
          0.23038942667658985,
          0.24868988716485463,
          0.266901989320376,
          0.28501926246997716,
          0.30303526963277383,
          0.32094360980720993,
          0.3387379202452907,
          0.35641187871325064,
          0.3739592057377993,
          0.3913736668372018,
          0.408649074736349,
          0.42577929156507316,
          0.442758231038901,
          0.45957986062148787,
          0.4762382036679396,
          0.4927273415482927,
          0.5090414157503713,
          0.5251746299612947,
          0.5411212521268755,
          0.5568756164881881,
          0.57243212559459,
          0.5877852522924728,
          0.6029295416890248,
          0.6178596130903349,
          0.6325701619131241,
          0.6470559615694444,
          0.6613118653236525,
          0.6753328081210255,
          0.6891138083873474,
          0.7026499697988485,
          0.7159364830218309,
          0.7289686274214117,
          0.7417417727387385,
          0.7542513807361035,
          0.76649300680935,
          0.778462301567024,
          0.7901550123756902,
          0.8015669848708767,
          0.8126941644330945,
          0.8235325976284272,
          0.8340784336131704,
          0.8443279255020146,
          0.854277431699295,
          0.8639234171928355,
          0.8732624548099197,
          0.8822912264349532,
          0.891006524188368,
          0.8994052515663714,
          0.9074844245411169,
          0.9152411726209178,
          0.9226727398701152,
          0.9297764858882513,
          0.9365498867481918,
          0.9429905358928642,
          0.9490961449902945,
          0.9548645447466431,
          0.9602936856769428,
          0.9653816388332739,
          0.9701265964901059,
          0.9745268727865773,
          0.9785809043254721,
          0.9822872507286888,
          0.9856445951489979,
          0.988651744737914,
          0.9913076310695064,
          0.9936113105200083,
          0.99556196460308,
          0.9971589002606139,
          0.998401550108975,
          0.9992894726405892,
          0.9998223523808091,
          1,
          0.999822352380809,
          0.9992894726405893,
          0.998401550108975,
          0.9971589002606139,
          0.9955619646030801,
          0.9936113105200085,
          0.9913076310695066,
          0.988651744737914,
          0.9856445951489982,
          0.9822872507286886,
          0.978580904325472,
          0.9745268727865768,
          0.9701265964901062,
          0.9653816388332741,
          0.9602936856769432,
          0.9548645447466428,
          0.9490961449902949,
          0.9429905358928646,
          0.9365498867481923,
          0.9297764858882511,
          0.922672739870115,
          0.9152411726209174,
          0.9074844245411166,
          0.8994052515663712,
          0.8910065241883686,
          0.8822912264349537,
          0.8732624548099203,
          0.8639234171928352,
          0.8542774316992956,
          0.8443279255020152,
          0.834078433613171,
          0.8235325976284269,
          0.8126941644330941,
          0.8015669848708763,
          0.7901550123756909,
          0.7784623015670236,
          0.7664930068093507,
          0.7542513807361043,
          0.7417417727387393,
          0.7289686274214111,
          0.7159364830218317,
          0.7026499697988493,
          0.6891138083873481,
          0.6753328081210237,
          0.6613118653236519,
          0.6470559615694453,
          0.632570161913125,
          0.6178596130903344,
          0.6029295416890257,
          0.5877852522924737,
          0.5724321255945909,
          0.5568756164881875,
          0.5411212521268763,
          0.5251746299612957,
          0.5090414157503708,
          0.4927273415482905,
          0.4762382036679406,
          0.4595798606214888,
          0.442758231038902,
          0.42577929156507255,
          0.40864907473635004,
          0.3913736668372028,
          0.3739592057378003,
          0.35641187871325,
          0.33873792024529176,
          0.3209436098072093,
          0.3030352696327732,
          0.2850192624699748,
          0.26690198932037706,
          0.2486898871648557,
          0.23038942667659093,
          0.2120071099220544,
          0.19354946805086118,
          0.17502305897527637,
          0.1564344650402306,
          0.1377902906846372,
          0.11909716009487002,
          0.10036171485121458,
          0.08159061156815664,
          0.06279051952931362,
          0.04396811831786633,
          0.0251300954433383,
          0.006283143965559172,
          -0.012566039883352989,
          -0.03141075907812751,
          -0.05024431817976937,
          -0.06906002571440621,
          -0.08785119655074419,
          -0.10661115427525976,
          -0.1253332335643047,
          -0.14401078255225144,
          -0.1626371651948835,
          -0.18120576362713608,
          -0.19970998051440633,
          -0.21814324139654248,
          -0.23649899702372518,
          -0.25477072568338155,
          -0.27295193551732516,
          -0.29103616682827066,
          -0.3090169943749485,
          -0.32688802965494246,
          -0.34464292317451595,
          -0.36227536670454347,
          -0.3797790955218011,
          -0.39714789063477957,
          -0.41437558099328525,
          -0.431456045680959,
          -0.44838321609003123,
          -0.4651510780774595,
          -0.4817536741017153,
          -0.49818510533948984,
          -0.5144395337815075,
          -0.530511184306734,
          -0.5463943467342681,
          -0.5620833778521287,
          -0.5775727034222676,
          -0.5928568201610583,
          -0.6079302976946064,
          -0.6227877804881126,
          -0.6374239897486889,
          -0.6518337253008771,
          -0.6660118674342518,
          -0.6799533787224185,
          -0.6936533058128059,
          -0.7071067811865477,
          -0.7203090248879087,
          -0.7332553462225586,
          -0.7459411454241823,
          -0.7583619152887213,
          -0.7705132427757879,
          -0.7823908105765883,
          -0.7939903986478348,
          -0.8053078857111229,
          -0.8163392507171842,
          -0.8270805742745614,
          -0.8375280400421407,
          -0.8476779360850835,
          -0.8575266561936519,
          -0.8670707011644908,
          -0.8763066800438638,
          -0.8852313113324548,
          -0.8938414241512646,
          -0.9021339593682015,
          -0.9101059706849954,
          -0.9177546256839804,
          -0.9250772068344583,
          -0.9320711124582107,
          -0.9387338576538746,
          -0.945063075179805,
          -0.9510565162951544,
          -0.95671205155883,
          -0.962027671586085,
          -0.9670014877624349,
          -0.9716317329146735,
          -0.9759167619387475,
          -0.9798550523842467,
          -0.9834452049953301,
          -0.9866859442078681,
          -0.9895761186026509,
          -0.9921147013144777,
          -0.9943007903969989,
          -0.9961336091431724,
          -0.9976125063612251,
          -0.9987369566060176,
          -0.9995065603657315,
          -0.9999210442038161,
          -0.9999802608561371,
          -0.9996841892832999,
          -0.9990329346781248,
          -0.9980267284282716,
          -0.9966659280340299,
          -0.9949510169813,
          -0.9928826045698136,
          -0.9904614256966513,
          -0.987688340595138,
          -0.9845643345292059,
          -0.9810905174433342,
          -0.9772681235681938,
          -0.9730985109821264,
          -0.9685831611286312,
          -0.9637236782900092,
          -0.9585217890173756,
          -0.9529793415172189,
          -0.9470983049947448,
          -0.9408807689542263,
          -0.9343289424566121,
          -0.9274451533346618,
          -0.9202318473658699,
          -0.9126915874035029,
          -0.9048270524660186,
          -0.896641036785237,
          -0.8881364488135446,
          -0.8793163101905569,
          -0.8701837546695252,
          -0.8607420270039438,
          -0.8509944817946906,
          -0.8409445822981685,
          -0.8305958991958127,
          -0.819952109325453,
          -0.8090169943749489,
          -0.797794439538571,
          -0.7862884321366197,
          -0.774503060198733,
          -0.7624425110114479,
          -0.750111069630458,
          -0.737513117358173,
          -0.7246531301870467,
          -0.7115356772092862,
          -0.6981654189934744,
          -0.6845471059286887,
          -0.670685576536721,
          -0.6565857557529555,
          -0.6422526531765844,
          -0.6276913612906987,
          -0.6129070536529784,
          -0.5979049830575188,
          -0.582690479668577,
          -0.5672689491267555,
          -0.5516458706284302,
          -0.5358267949789975,
          -0.5198173426207084,
          -0.5036232016357608,
          -0.48725012572533327,
          -0.4707039321653345,
          -0.45399049973954664,
          -0.43711576665093377,
          -0.42008572841180497,
          -0.40290643571366247,
          -0.38558399227739415,
          -0.36812455268467664,
          -0.3505343201912621,
          -0.3328195445229875,
          -0.3149865196553068,
          -0.29704158157703464,
          -0.2789911060392301,
          -0.2608415062898955,
          -0.24259923079540713,
          -0.22427076094937856,
          -0.2058626087698833,
          -0.1873813145857243,
          -0.16883344471273468,
          -0.15022558912075903,
          -0.13156435909228212,
          -0.11285638487348248,
          -0.09410831331851274,
          -0.07532680552793232,
          -0.0565185344820253,
          -0.03769018266993648,
          -0.018848439715407738,
          -7.347880794884119e-16
         ]
        }
       ],
       "layout": {
        "legend": {
         "bgcolor": "#FFFFFF",
         "font": {
          "color": "#4D5663"
         }
        },
        "paper_bgcolor": "#FFFFFF",
        "plot_bgcolor": "#FFFFFF",
        "template": {
         "data": {
          "bar": [
           {
            "error_x": {
             "color": "#2a3f5f"
            },
            "error_y": {
             "color": "#2a3f5f"
            },
            "marker": {
             "line": {
              "color": "#E5ECF6",
              "width": 0.5
             }
            },
            "type": "bar"
           }
          ],
          "barpolar": [
           {
            "marker": {
             "line": {
              "color": "#E5ECF6",
              "width": 0.5
             }
            },
            "type": "barpolar"
           }
          ],
          "carpet": [
           {
            "aaxis": {
             "endlinecolor": "#2a3f5f",
             "gridcolor": "white",
             "linecolor": "white",
             "minorgridcolor": "white",
             "startlinecolor": "#2a3f5f"
            },
            "baxis": {
             "endlinecolor": "#2a3f5f",
             "gridcolor": "white",
             "linecolor": "white",
             "minorgridcolor": "white",
             "startlinecolor": "#2a3f5f"
            },
            "type": "carpet"
           }
          ],
          "choropleth": [
           {
            "colorbar": {
             "outlinewidth": 0,
             "ticks": ""
            },
            "type": "choropleth"
           }
          ],
          "contour": [
           {
            "colorbar": {
             "outlinewidth": 0,
             "ticks": ""
            },
            "colorscale": [
             [
              0,
              "#0d0887"
             ],
             [
              0.1111111111111111,
              "#46039f"
             ],
             [
              0.2222222222222222,
              "#7201a8"
             ],
             [
              0.3333333333333333,
              "#9c179e"
             ],
             [
              0.4444444444444444,
              "#bd3786"
             ],
             [
              0.5555555555555556,
              "#d8576b"
             ],
             [
              0.6666666666666666,
              "#ed7953"
             ],
             [
              0.7777777777777778,
              "#fb9f3a"
             ],
             [
              0.8888888888888888,
              "#fdca26"
             ],
             [
              1,
              "#f0f921"
             ]
            ],
            "type": "contour"
           }
          ],
          "contourcarpet": [
           {
            "colorbar": {
             "outlinewidth": 0,
             "ticks": ""
            },
            "type": "contourcarpet"
           }
          ],
          "heatmap": [
           {
            "colorbar": {
             "outlinewidth": 0,
             "ticks": ""
            },
            "colorscale": [
             [
              0,
              "#0d0887"
             ],
             [
              0.1111111111111111,
              "#46039f"
             ],
             [
              0.2222222222222222,
              "#7201a8"
             ],
             [
              0.3333333333333333,
              "#9c179e"
             ],
             [
              0.4444444444444444,
              "#bd3786"
             ],
             [
              0.5555555555555556,
              "#d8576b"
             ],
             [
              0.6666666666666666,
              "#ed7953"
             ],
             [
              0.7777777777777778,
              "#fb9f3a"
             ],
             [
              0.8888888888888888,
              "#fdca26"
             ],
             [
              1,
              "#f0f921"
             ]
            ],
            "type": "heatmap"
           }
          ],
          "heatmapgl": [
           {
            "colorbar": {
             "outlinewidth": 0,
             "ticks": ""
            },
            "colorscale": [
             [
              0,
              "#0d0887"
             ],
             [
              0.1111111111111111,
              "#46039f"
             ],
             [
              0.2222222222222222,
              "#7201a8"
             ],
             [
              0.3333333333333333,
              "#9c179e"
             ],
             [
              0.4444444444444444,
              "#bd3786"
             ],
             [
              0.5555555555555556,
              "#d8576b"
             ],
             [
              0.6666666666666666,
              "#ed7953"
             ],
             [
              0.7777777777777778,
              "#fb9f3a"
             ],
             [
              0.8888888888888888,
              "#fdca26"
             ],
             [
              1,
              "#f0f921"
             ]
            ],
            "type": "heatmapgl"
           }
          ],
          "histogram": [
           {
            "marker": {
             "colorbar": {
              "outlinewidth": 0,
              "ticks": ""
             }
            },
            "type": "histogram"
           }
          ],
          "histogram2d": [
           {
            "colorbar": {
             "outlinewidth": 0,
             "ticks": ""
            },
            "colorscale": [
             [
              0,
              "#0d0887"
             ],
             [
              0.1111111111111111,
              "#46039f"
             ],
             [
              0.2222222222222222,
              "#7201a8"
             ],
             [
              0.3333333333333333,
              "#9c179e"
             ],
             [
              0.4444444444444444,
              "#bd3786"
             ],
             [
              0.5555555555555556,
              "#d8576b"
             ],
             [
              0.6666666666666666,
              "#ed7953"
             ],
             [
              0.7777777777777778,
              "#fb9f3a"
             ],
             [
              0.8888888888888888,
              "#fdca26"
             ],
             [
              1,
              "#f0f921"
             ]
            ],
            "type": "histogram2d"
           }
          ],
          "histogram2dcontour": [
           {
            "colorbar": {
             "outlinewidth": 0,
             "ticks": ""
            },
            "colorscale": [
             [
              0,
              "#0d0887"
             ],
             [
              0.1111111111111111,
              "#46039f"
             ],
             [
              0.2222222222222222,
              "#7201a8"
             ],
             [
              0.3333333333333333,
              "#9c179e"
             ],
             [
              0.4444444444444444,
              "#bd3786"
             ],
             [
              0.5555555555555556,
              "#d8576b"
             ],
             [
              0.6666666666666666,
              "#ed7953"
             ],
             [
              0.7777777777777778,
              "#fb9f3a"
             ],
             [
              0.8888888888888888,
              "#fdca26"
             ],
             [
              1,
              "#f0f921"
             ]
            ],
            "type": "histogram2dcontour"
           }
          ],
          "mesh3d": [
           {
            "colorbar": {
             "outlinewidth": 0,
             "ticks": ""
            },
            "type": "mesh3d"
           }
          ],
          "parcoords": [
           {
            "line": {
             "colorbar": {
              "outlinewidth": 0,
              "ticks": ""
             }
            },
            "type": "parcoords"
           }
          ],
          "scatter": [
           {
            "marker": {
             "colorbar": {
              "outlinewidth": 0,
              "ticks": ""
             }
            },
            "type": "scatter"
           }
          ],
          "scatter3d": [
           {
            "line": {
             "colorbar": {
              "outlinewidth": 0,
              "ticks": ""
             }
            },
            "marker": {
             "colorbar": {
              "outlinewidth": 0,
              "ticks": ""
             }
            },
            "type": "scatter3d"
           }
          ],
          "scattercarpet": [
           {
            "marker": {
             "colorbar": {
              "outlinewidth": 0,
              "ticks": ""
             }
            },
            "type": "scattercarpet"
           }
          ],
          "scattergeo": [
           {
            "marker": {
             "colorbar": {
              "outlinewidth": 0,
              "ticks": ""
             }
            },
            "type": "scattergeo"
           }
          ],
          "scattergl": [
           {
            "marker": {
             "colorbar": {
              "outlinewidth": 0,
              "ticks": ""
             }
            },
            "type": "scattergl"
           }
          ],
          "scattermapbox": [
           {
            "marker": {
             "colorbar": {
              "outlinewidth": 0,
              "ticks": ""
             }
            },
            "type": "scattermapbox"
           }
          ],
          "scatterpolar": [
           {
            "marker": {
             "colorbar": {
              "outlinewidth": 0,
              "ticks": ""
             }
            },
            "type": "scatterpolar"
           }
          ],
          "scatterpolargl": [
           {
            "marker": {
             "colorbar": {
              "outlinewidth": 0,
              "ticks": ""
             }
            },
            "type": "scatterpolargl"
           }
          ],
          "scatterternary": [
           {
            "marker": {
             "colorbar": {
              "outlinewidth": 0,
              "ticks": ""
             }
            },
            "type": "scatterternary"
           }
          ],
          "surface": [
           {
            "colorbar": {
             "outlinewidth": 0,
             "ticks": ""
            },
            "colorscale": [
             [
              0,
              "#0d0887"
             ],
             [
              0.1111111111111111,
              "#46039f"
             ],
             [
              0.2222222222222222,
              "#7201a8"
             ],
             [
              0.3333333333333333,
              "#9c179e"
             ],
             [
              0.4444444444444444,
              "#bd3786"
             ],
             [
              0.5555555555555556,
              "#d8576b"
             ],
             [
              0.6666666666666666,
              "#ed7953"
             ],
             [
              0.7777777777777778,
              "#fb9f3a"
             ],
             [
              0.8888888888888888,
              "#fdca26"
             ],
             [
              1,
              "#f0f921"
             ]
            ],
            "type": "surface"
           }
          ],
          "table": [
           {
            "cells": {
             "fill": {
              "color": "#EBF0F8"
             },
             "line": {
              "color": "white"
             }
            },
            "header": {
             "fill": {
              "color": "#C8D4E3"
             },
             "line": {
              "color": "white"
             }
            },
            "type": "table"
           }
          ]
         },
         "layout": {
          "annotationdefaults": {
           "arrowcolor": "#2a3f5f",
           "arrowhead": 0,
           "arrowwidth": 1
          },
          "colorscale": {
           "diverging": [
            [
             0,
             "#8e0152"
            ],
            [
             0.1,
             "#c51b7d"
            ],
            [
             0.2,
             "#de77ae"
            ],
            [
             0.3,
             "#f1b6da"
            ],
            [
             0.4,
             "#fde0ef"
            ],
            [
             0.5,
             "#f7f7f7"
            ],
            [
             0.6,
             "#e6f5d0"
            ],
            [
             0.7,
             "#b8e186"
            ],
            [
             0.8,
             "#7fbc41"
            ],
            [
             0.9,
             "#4d9221"
            ],
            [
             1,
             "#276419"
            ]
           ],
           "sequential": [
            [
             0,
             "#0d0887"
            ],
            [
             0.1111111111111111,
             "#46039f"
            ],
            [
             0.2222222222222222,
             "#7201a8"
            ],
            [
             0.3333333333333333,
             "#9c179e"
            ],
            [
             0.4444444444444444,
             "#bd3786"
            ],
            [
             0.5555555555555556,
             "#d8576b"
            ],
            [
             0.6666666666666666,
             "#ed7953"
            ],
            [
             0.7777777777777778,
             "#fb9f3a"
            ],
            [
             0.8888888888888888,
             "#fdca26"
            ],
            [
             1,
             "#f0f921"
            ]
           ],
           "sequentialminus": [
            [
             0,
             "#0d0887"
            ],
            [
             0.1111111111111111,
             "#46039f"
            ],
            [
             0.2222222222222222,
             "#7201a8"
            ],
            [
             0.3333333333333333,
             "#9c179e"
            ],
            [
             0.4444444444444444,
             "#bd3786"
            ],
            [
             0.5555555555555556,
             "#d8576b"
            ],
            [
             0.6666666666666666,
             "#ed7953"
            ],
            [
             0.7777777777777778,
             "#fb9f3a"
            ],
            [
             0.8888888888888888,
             "#fdca26"
            ],
            [
             1,
             "#f0f921"
            ]
           ]
          },
          "colorway": [
           "#636efa",
           "#EF553B",
           "#00cc96",
           "#ab63fa",
           "#FFA15A",
           "#19d3f3",
           "#FF6692",
           "#B6E880",
           "#FF97FF",
           "#FECB52"
          ],
          "font": {
           "color": "#2a3f5f"
          },
          "geo": {
           "bgcolor": "white",
           "lakecolor": "white",
           "landcolor": "#E5ECF6",
           "showlakes": true,
           "showland": true,
           "subunitcolor": "white"
          },
          "hoverlabel": {
           "align": "left"
          },
          "hovermode": "closest",
          "mapbox": {
           "style": "light"
          },
          "paper_bgcolor": "white",
          "plot_bgcolor": "#E5ECF6",
          "polar": {
           "angularaxis": {
            "gridcolor": "white",
            "linecolor": "white",
            "ticks": ""
           },
           "bgcolor": "#E5ECF6",
           "radialaxis": {
            "gridcolor": "white",
            "linecolor": "white",
            "ticks": ""
           }
          },
          "scene": {
           "xaxis": {
            "backgroundcolor": "#E5ECF6",
            "gridcolor": "white",
            "gridwidth": 2,
            "linecolor": "white",
            "showbackground": true,
            "ticks": "",
            "zerolinecolor": "white"
           },
           "yaxis": {
            "backgroundcolor": "#E5ECF6",
            "gridcolor": "white",
            "gridwidth": 2,
            "linecolor": "white",
            "showbackground": true,
            "ticks": "",
            "zerolinecolor": "white"
           },
           "zaxis": {
            "backgroundcolor": "#E5ECF6",
            "gridcolor": "white",
            "gridwidth": 2,
            "linecolor": "white",
            "showbackground": true,
            "ticks": "",
            "zerolinecolor": "white"
           }
          },
          "shapedefaults": {
           "line": {
            "color": "#2a3f5f"
           }
          },
          "ternary": {
           "aaxis": {
            "gridcolor": "white",
            "linecolor": "white",
            "ticks": ""
           },
           "baxis": {
            "gridcolor": "white",
            "linecolor": "white",
            "ticks": ""
           },
           "bgcolor": "#E5ECF6",
           "caxis": {
            "gridcolor": "white",
            "linecolor": "white",
            "ticks": ""
           }
          },
          "title": {
           "x": 0.05
          },
          "xaxis": {
           "automargin": true,
           "gridcolor": "white",
           "linecolor": "white",
           "ticks": "",
           "zerolinecolor": "white",
           "zerolinewidth": 2
          },
          "yaxis": {
           "automargin": true,
           "gridcolor": "white",
           "linecolor": "white",
           "ticks": "",
           "zerolinecolor": "white",
           "zerolinewidth": 2
          }
         }
        },
        "title": {
         "font": {
          "color": "#4D5663"
         },
         "text": "Input"
        },
        "xaxis": {
         "gridcolor": "#E1E5ED",
         "showgrid": true,
         "tickfont": {
          "color": "#4D5663"
         },
         "title": {
          "font": {
           "color": "#4D5663"
          },
          "text": "T"
         },
         "zerolinecolor": "#E1E5ED"
        },
        "yaxis": {
         "gridcolor": "#E1E5ED",
         "showgrid": true,
         "tickfont": {
          "color": "#4D5663"
         },
         "title": {
          "font": {
           "color": "#4D5663"
          },
          "text": "S"
         },
         "zerolinecolor": "#E1E5ED"
        }
       }
      },
      "text/html": [
       "<div>\n",
       "        \n",
       "        \n",
       "            <div id=\"84e7f09f-80e9-4b9b-9cbc-cc376d17d7bb\" class=\"plotly-graph-div\" style=\"height:525px; width:100%;\"></div>\n",
       "            <script type=\"text/javascript\">\n",
       "                require([\"plotly\"], function(Plotly) {\n",
       "                    window.PLOTLYENV=window.PLOTLYENV || {};\n",
       "                    window.PLOTLYENV.BASE_URL='https://plot.ly';\n",
       "                    \n",
       "                if (document.getElementById(\"84e7f09f-80e9-4b9b-9cbc-cc376d17d7bb\")) {\n",
       "                    Plotly.newPlot(\n",
       "                        '84e7f09f-80e9-4b9b-9cbc-cc376d17d7bb',\n",
       "                        [{\"line\": {\"color\": \"rgba(255, 153, 51, 1.0)\", \"dash\": \"solid\", \"shape\": \"linear\", \"width\": 1.3}, \"mode\": \"lines\", \"name\": \"0\", \"text\": \"\", \"type\": \"scatter\", \"x\": [0.0, 3.0, 6.0, 9.0, 12.0, 15.0, 18.0, 21.0, 24.0, 27.0, 30.0, 33.0, 36.0, 39.0, 42.0, 45.0, 48.0, 51.0, 54.0, 57.0, 60.0, 63.0, 66.0, 69.0, 72.0, 75.0, 78.0, 81.0, 84.0, 87.0, 90.0, 93.0, 96.0, 99.0, 102.0, 105.0, 108.0, 111.0, 114.0, 117.0, 120.0, 123.0, 126.0, 129.0, 132.0, 135.0, 138.0, 141.0, 144.0, 147.0, 150.0, 153.0, 156.0, 159.0, 162.0, 165.0, 168.0, 171.0, 174.0, 177.0, 180.0, 183.0, 186.0, 189.0, 192.0, 195.0, 198.0, 201.0, 204.0, 207.0, 210.0, 213.0, 216.0, 219.0, 222.0, 225.0, 228.0, 231.0, 234.0, 237.0, 240.0, 243.0, 246.0, 249.0, 252.0, 255.0, 258.0, 261.0, 264.0, 267.0, 270.0, 273.0, 276.0, 279.0, 282.0, 285.0, 288.0, 291.0, 294.0, 297.0, 300.0, 303.0, 306.0, 309.0, 312.0, 315.0, 318.0, 321.0, 324.0, 327.0, 330.0, 333.0, 336.0, 339.0, 342.0, 345.0, 348.0, 351.0, 354.0, 357.0, 360.0, 363.0, 366.0, 369.0, 372.0, 375.0, 378.0, 381.0, 384.0, 387.0, 390.0, 393.0, 396.0, 399.0, 402.0, 405.0, 408.0, 411.0, 414.0, 417.0, 420.0, 423.0, 426.0, 429.0, 432.0, 435.0, 438.0, 441.0, 444.0, 447.0, 450.0, 453.0, 456.0, 459.0, 462.0, 465.0, 468.0, 471.0, 474.0, 477.0, 480.0, 483.0, 486.0, 489.0, 492.0, 495.0, 498.0, 501.0, 504.0, 507.0, 510.0, 513.0, 516.0, 519.0, 522.0, 525.0, 528.0, 531.0, 534.0, 537.0, 540.0, 543.0, 546.0, 549.0, 552.0, 555.0, 558.0, 561.0, 564.0, 567.0, 570.0, 573.0, 576.0, 579.0, 582.0, 585.0, 588.0, 591.0, 594.0, 597.0, 600.0, 603.0, 606.0, 609.0, 612.0, 615.0, 618.0, 621.0, 624.0, 627.0, 630.0, 633.0, 636.0, 639.0, 642.0, 645.0, 648.0, 651.0, 654.0, 657.0, 660.0, 663.0, 666.0, 669.0, 672.0, 675.0, 678.0, 681.0, 684.0, 687.0, 690.0, 693.0, 696.0, 699.0, 702.0, 705.0, 708.0, 711.0, 714.0, 717.0, 720.0, 723.0, 726.0, 729.0, 732.0, 735.0, 738.0, 741.0, 744.0, 747.0, 750.0, 753.0, 756.0, 759.0, 762.0, 765.0, 768.0, 771.0, 774.0, 777.0, 780.0, 783.0, 786.0, 789.0, 792.0, 795.0, 798.0, 801.0, 804.0, 807.0, 810.0, 813.0, 816.0, 819.0, 822.0, 825.0, 828.0, 831.0, 834.0, 837.0, 840.0, 843.0, 846.0, 849.0, 852.0, 855.0, 858.0, 861.0, 864.0, 867.0, 870.0, 873.0, 876.0, 879.0, 882.0, 885.0, 888.0, 891.0, 894.0, 897.0, 900.0, 903.0, 906.0, 909.0, 912.0, 915.0, 918.0, 921.0, 924.0, 927.0, 930.0, 933.0, 936.0, 939.0, 942.0, 945.0, 948.0, 951.0, 954.0, 957.0, 960.0, 963.0, 966.0, 969.0, 972.0, 975.0, 978.0, 981.0, 984.0, 987.0, 990.0, 993.0, 996.0, 999.0, 1002.0, 1005.0, 1008.0, 1011.0, 1014.0, 1017.0, 1020.0, 1023.0, 1026.0, 1029.0, 1032.0, 1035.0, 1038.0, 1041.0, 1044.0, 1047.0, 1050.0, 1053.0, 1056.0, 1059.0, 1062.0, 1065.0, 1068.0, 1071.0, 1074.0, 1077.0, 1080.0, 1083.0, 1086.0, 1089.0, 1092.0, 1095.0, 1098.0, 1101.0, 1104.0, 1107.0, 1110.0, 1113.0, 1116.0, 1119.0, 1122.0, 1125.0, 1128.0, 1131.0, 1134.0, 1137.0, 1140.0, 1143.0, 1146.0, 1149.0, 1152.0, 1155.0, 1158.0, 1161.0, 1164.0, 1167.0, 1170.0, 1173.0, 1176.0, 1179.0, 1182.0, 1185.0, 1188.0, 1191.0, 1194.0, 1197.0, 1200.0, 1203.0, 1206.0, 1209.0, 1212.0, 1215.0, 1218.0, 1221.0, 1224.0, 1227.0, 1230.0, 1233.0, 1236.0, 1239.0, 1242.0, 1245.0, 1248.0, 1251.0, 1254.0, 1257.0, 1260.0, 1263.0, 1266.0, 1269.0, 1272.0, 1275.0, 1278.0, 1281.0, 1284.0, 1287.0, 1290.0, 1293.0, 1296.0, 1299.0, 1302.0, 1305.0, 1308.0, 1311.0, 1314.0, 1317.0, 1320.0, 1323.0, 1326.0, 1329.0, 1332.0, 1335.0, 1338.0, 1341.0, 1344.0, 1347.0, 1350.0, 1353.0, 1356.0, 1359.0, 1362.0, 1365.0, 1368.0, 1371.0, 1374.0, 1377.0, 1380.0, 1383.0, 1386.0, 1389.0, 1392.0, 1395.0, 1398.0, 1401.0, 1404.0, 1407.0, 1410.0, 1413.0, 1416.0, 1419.0, 1422.0, 1425.0, 1428.0, 1431.0, 1434.0, 1437.0, 1440.0, 1443.0, 1446.0, 1449.0, 1452.0, 1455.0, 1458.0, 1461.0, 1464.0, 1467.0, 1470.0, 1473.0, 1476.0, 1479.0, 1482.0, 1485.0, 1488.0, 1491.0, 1494.0, 1497.0, 1500.0, 1503.0, 1506.0, 1509.0, 1512.0, 1515.0, 1518.0, 1521.0, 1524.0, 1527.0, 1530.0, 1533.0, 1536.0, 1539.0, 1542.0, 1545.0, 1548.0, 1551.0, 1554.0, 1557.0, 1560.0, 1563.0, 1566.0, 1569.0, 1572.0, 1575.0, 1578.0, 1581.0, 1584.0, 1587.0, 1590.0, 1593.0, 1596.0, 1599.0, 1602.0, 1605.0, 1608.0, 1611.0, 1614.0, 1617.0, 1620.0, 1623.0, 1626.0, 1629.0, 1632.0, 1635.0, 1638.0, 1641.0, 1644.0, 1647.0, 1650.0, 1653.0, 1656.0, 1659.0, 1662.0, 1665.0, 1668.0, 1671.0, 1674.0, 1677.0, 1680.0, 1683.0, 1686.0, 1689.0, 1692.0, 1695.0, 1698.0, 1701.0, 1704.0, 1707.0, 1710.0, 1713.0, 1716.0, 1719.0, 1722.0, 1725.0, 1728.0, 1731.0, 1734.0, 1737.0, 1740.0, 1743.0, 1746.0, 1749.0, 1752.0, 1755.0, 1758.0, 1761.0, 1764.0, 1767.0, 1770.0, 1773.0, 1776.0, 1779.0, 1782.0, 1785.0, 1788.0, 1791.0, 1794.0, 1797.0, 1800.0, 1803.0, 1806.0, 1809.0, 1812.0, 1815.0, 1818.0, 1821.0, 1824.0, 1827.0, 1830.0, 1833.0, 1836.0, 1839.0, 1842.0, 1845.0, 1848.0, 1851.0, 1854.0, 1857.0, 1860.0, 1863.0, 1866.0, 1869.0, 1872.0, 1875.0, 1878.0, 1881.0, 1884.0, 1887.0, 1890.0, 1893.0, 1896.0, 1899.0, 1902.0, 1905.0, 1908.0, 1911.0, 1914.0, 1917.0, 1920.0, 1923.0, 1926.0, 1929.0, 1932.0, 1935.0, 1938.0, 1941.0, 1944.0, 1947.0, 1950.0, 1953.0, 1956.0, 1959.0, 1962.0, 1965.0, 1968.0, 1971.0, 1974.0, 1977.0, 1980.0, 1983.0, 1986.0, 1989.0, 1992.0, 1995.0, 1998.0, 2001.0, 2004.0, 2007.0, 2010.0, 2013.0, 2016.0, 2019.0, 2022.0, 2025.0, 2028.0, 2031.0, 2034.0, 2037.0, 2040.0, 2043.0, 2046.0, 2049.0, 2052.0, 2055.0, 2058.0, 2061.0, 2064.0, 2067.0, 2070.0, 2073.0, 2076.0, 2079.0, 2082.0, 2085.0, 2088.0, 2091.0, 2094.0, 2097.0, 2100.0, 2103.0, 2106.0, 2109.0, 2112.0, 2115.0, 2118.0, 2121.0, 2124.0, 2127.0, 2130.0, 2133.0, 2136.0, 2139.0, 2142.0, 2145.0, 2148.0, 2151.0, 2154.0, 2157.0, 2160.0, 2163.0, 2166.0, 2169.0, 2172.0, 2175.0, 2178.0, 2181.0, 2184.0, 2187.0, 2190.0, 2193.0, 2196.0, 2199.0, 2202.0, 2205.0, 2208.0, 2211.0, 2214.0, 2217.0, 2220.0, 2223.0, 2226.0, 2229.0, 2232.0, 2235.0, 2238.0, 2241.0, 2244.0, 2247.0, 2250.0, 2253.0, 2256.0, 2259.0, 2262.0, 2265.0, 2268.0, 2271.0, 2274.0, 2277.0, 2280.0, 2283.0, 2286.0, 2289.0, 2292.0, 2295.0, 2298.0, 2301.0, 2304.0, 2307.0, 2310.0, 2313.0, 2316.0, 2319.0, 2322.0, 2325.0, 2328.0, 2331.0, 2334.0, 2337.0, 2340.0, 2343.0, 2346.0, 2349.0, 2352.0, 2355.0, 2358.0, 2361.0, 2364.0, 2367.0, 2370.0, 2373.0, 2376.0, 2379.0, 2382.0, 2385.0, 2388.0, 2391.0, 2394.0, 2397.0, 2400.0, 2403.0, 2406.0, 2409.0, 2412.0, 2415.0, 2418.0, 2421.0, 2424.0, 2427.0, 2430.0, 2433.0, 2436.0, 2439.0, 2442.0, 2445.0, 2448.0, 2451.0, 2454.0, 2457.0, 2460.0, 2463.0, 2466.0, 2469.0, 2472.0, 2475.0, 2478.0, 2481.0, 2484.0, 2487.0, 2490.0, 2493.0, 2496.0, 2499.0, 2502.0, 2505.0, 2508.0, 2511.0, 2514.0, 2517.0, 2520.0, 2523.0, 2526.0, 2529.0, 2532.0, 2535.0, 2538.0, 2541.0, 2544.0, 2547.0, 2550.0, 2553.0, 2556.0, 2559.0, 2562.0, 2565.0, 2568.0, 2571.0, 2574.0, 2577.0, 2580.0, 2583.0, 2586.0, 2589.0, 2592.0, 2595.0, 2598.0, 2601.0, 2604.0, 2607.0, 2610.0, 2613.0, 2616.0, 2619.0, 2622.0, 2625.0, 2628.0, 2631.0, 2634.0, 2637.0, 2640.0, 2643.0, 2646.0, 2649.0, 2652.0, 2655.0, 2658.0, 2661.0, 2664.0, 2667.0, 2670.0, 2673.0, 2676.0, 2679.0, 2682.0, 2685.0, 2688.0, 2691.0, 2694.0, 2697.0, 2700.0, 2703.0, 2706.0, 2709.0, 2712.0, 2715.0, 2718.0, 2721.0, 2724.0, 2727.0, 2730.0, 2733.0, 2736.0, 2739.0, 2742.0, 2745.0, 2748.0, 2751.0, 2754.0, 2757.0, 2760.0, 2763.0, 2766.0, 2769.0, 2772.0, 2775.0, 2778.0, 2781.0, 2784.0, 2787.0, 2790.0, 2793.0, 2796.0, 2799.0, 2802.0, 2805.0, 2808.0, 2811.0, 2814.0, 2817.0, 2820.0, 2823.0, 2826.0, 2829.0, 2832.0, 2835.0, 2838.0, 2841.0, 2844.0, 2847.0, 2850.0, 2853.0, 2856.0, 2859.0, 2862.0, 2865.0, 2868.0, 2871.0, 2874.0, 2877.0, 2880.0, 2883.0, 2886.0, 2889.0, 2892.0, 2895.0, 2898.0, 2901.0, 2904.0, 2907.0, 2910.0, 2913.0, 2916.0, 2919.0, 2922.0, 2925.0, 2928.0, 2931.0, 2934.0, 2937.0, 2940.0, 2943.0, 2946.0, 2949.0, 2952.0, 2955.0, 2958.0, 2961.0, 2964.0, 2967.0, 2970.0, 2973.0, 2976.0, 2979.0, 2982.0, 2985.0, 2988.0, 2991.0, 2994.0, 2997.0, 3000.0], \"y\": [0.0, 0.018848439715408175, 0.03769018266993454, 0.05651853448202453, 0.07532680552793272, 0.09410831331851431, 0.11285638487348168, 0.1315643590922825, 0.15022558912075706, 0.16883344471273387, 0.1873813145857246, 0.20586260876988133, 0.22427076094938117, 0.2425992307954074, 0.26084150628989694, 0.2789911060392293, 0.2970415815770349, 0.3149865196553048, 0.3328195445229866, 0.35053432019125896, 0.3681245526846779, 0.38558399227739654, 0.40290643571366264, 0.42008572841180625, 0.4371157666509329, 0.45399049973954675, 0.4707039321653326, 0.4872501257253323, 0.5036232016357608, 0.5198173426207094, 0.5358267949789967, 0.5516458706284302, 0.5672689491267565, 0.5826904796685761, 0.5979049830575188, 0.6129070536529765, 0.6276913612907005, 0.6422526531765844, 0.6565857557529564, 0.67068557653672, 0.6845471059286886, 0.6981654189934727, 0.7115356772092853, 0.7246531301870466, 0.7375131173581739, 0.7501110696304595, 0.7624425110114479, 0.7745030601987337, 0.7862884321366188, 0.797794439538571, 0.8090169943749473, 0.8199521093254523, 0.8305958991958126, 0.840944582298169, 0.8509944817946917, 0.8607420270039435, 0.8701837546695257, 0.8793163101905562, 0.8881364488135445, 0.8966410367852359, 0.9048270524660196, 0.9126915874035028, 0.9202318473658703, 0.9274451533346614, 0.934328942456612, 0.9408807689542255, 0.9470983049947443, 0.9529793415172189, 0.9585217890173758, 0.9637236782900097, 0.9685831611286311, 0.9730985109821265, 0.9772681235681935, 0.9810905174433341, 0.9845643345292053, 0.9876883405951378, 0.9904614256966512, 0.9928826045698137, 0.9949510169813002, 0.9966659280340299, 0.9980267284282716, 0.9990329346781247, 0.9996841892832999, 0.9999802608561371, 0.9999210442038161, 0.9995065603657316, 0.9987369566060175, 0.9976125063612252, 0.9961336091431725, 0.9943007903969989, 0.9921147013144779, 0.9895761186026509, 0.986685944207868, 0.9834452049953297, 0.9798550523842469, 0.9759167619387474, 0.971631732914674, 0.9670014877624351, 0.9620276715860858, 0.9567120515588305, 0.9510565162951536, 0.9450630751798049, 0.9387338576538741, 0.932071112458211, 0.925077206834458, 0.9177546256839811, 0.9101059706849957, 0.9021339593682027, 0.8938414241512638, 0.8852313113324553, 0.8763066800438637, 0.8670707011644901, 0.8575266561936523, 0.8476779360850834, 0.8375280400421418, 0.8270805742745618, 0.816339250717184, 0.805307885711122, 0.7939903986478353, 0.7823908105765882, 0.7705132427757893, 0.7583619152887218, 0.7459411454241822, 0.73325534622256, 0.7203090248879072, 0.7071067811865476, 0.6936533058128049, 0.6799533787224193, 0.6660118674342517, 0.6518337253008787, 0.6374239897486899, 0.6227877804881126, 0.6079302976946053, 0.5928568201610593, 0.5775727034222676, 0.5620833778521308, 0.5463943467342691, 0.530511184306734, 0.5144395337815066, 0.4981851053394909, 0.4817536741017152, 0.46515107807745854, 0.4483832160900323, 0.43145604568095886, 0.4143755809932843, 0.3971478906347806, 0.37977909552180095, 0.3622753667045458, 0.34464292317451706, 0.32688802965494274, 0.3090169943749475, 0.29103616682827177, 0.27295193551732544, 0.2547707256833822, 0.2364989970237246, 0.21814324139654273, 0.19970998051440705, 0.18120576362713722, 0.16263716519488375, 0.14401078255225216, 0.12533323356430454, 0.10661115427526005, 0.08785119655074315, 0.06906002571440606, 0.05024431817976966, 0.03141075907812824, 0.012566039883352836, -0.006283143965558882, -0.02513009544333757, -0.04396811831786471, -0.06279051952931333, -0.08159061156815767, -0.10036171485121473, -0.11909716009486973, -0.1377902906846378, -0.15643446504023076, -0.1750230589752761, -0.19354946805086, -0.21200710992205457, -0.23038942667659065, -0.24868988716485457, -0.2669019893203755, -0.2850192624699762, -0.30303526963277383, -0.3209436098072095, -0.33873792024529153, -0.3564118787132506, -0.37395920573780045, -0.39137366683720215, -0.4086490747363489, -0.4257792915650727, -0.44275823103890133, -0.4595798606214878, -0.4762382036679392, -0.4927273415482914, -0.5090414157503713, -0.5251746299612958, -0.5411212521268757, -0.556875616488188, -0.5724321255945907, -0.587785252292473, -0.6029295416890247, -0.6178596130903341, -0.6325701619131244, -0.6470559615694443, -0.6613118653236517, -0.6753328081210244, -0.6891138083873485, -0.7026499697988491, -0.7159364830218311, -0.7289686274214116, -0.7417417727387391, -0.7542513807361038, -0.7664930068093496, -0.7784623015670236, -0.7901550123756904, -0.8015669848708764, -0.8126941644330942, -0.8235325976284275, -0.8340784336131715, -0.8443279255020147, -0.8542774316992952, -0.8639234171928352, -0.8732624548099204, -0.8822912264349534, -0.8910065241883682, -0.8994052515663709, -0.907484424541117, -0.9152411726209175, -0.922672739870115, -0.9297764858882515, -0.9365498867481923, -0.9429905358928643, -0.9490961449902947, -0.954864544746643, -0.9602936856769432, -0.965381638833274, -0.9701265964901058, -0.9745268727865771, -0.9785809043254722, -0.9822872507286887, -0.9856445951489982, -0.9886517447379141, -0.9913076310695066, -0.9936113105200084, -0.99556196460308, -0.9971589002606139, -0.9984015501089751, -0.9992894726405892, -0.999822352380809, -1.0, -0.999822352380809, -0.9992894726405892, -0.998401550108975, -0.9971589002606139, -0.99556196460308, -0.9936113105200084, -0.9913076310695065, -0.988651744737914, -0.985644595148998, -0.9822872507286887, -0.9785809043254721, -0.9745268727865771, -0.9701265964901057, -0.9653816388332738, -0.9602936856769431, -0.9548645447466431, -0.9490961449902945, -0.9429905358928644, -0.9365498867481922, -0.9297764858882516, -0.9226727398701148, -0.9152411726209176, -0.9074844245411168, -0.899405251566371, -0.8910065241883676, -0.8822912264349535, -0.8732624548099202, -0.8639234171928354, -0.8542774316992949, -0.8443279255020151, -0.8340784336131708, -0.8235325976284277, -0.8126941644330938, -0.8015669848708766, -0.7901550123756901, -0.7784623015670233, -0.7664930068093498, -0.7542513807361041, -0.7417417727387391, -0.7289686274214116, -0.7159364830218309, -0.702649969798849, -0.6891138083873485, -0.6753328081210246, -0.6613118653236516, -0.6470559615694442, -0.632570161913124, -0.6178596130903348, -0.6029295416890247, -0.5877852522924732, -0.5724321255945906, -0.556875616488188, -0.5411212521268752, -0.525174629961296, -0.5090414157503712, -0.4927273415482917, -0.4762382036679387, -0.4595798606214877, -0.4427582310389016, -0.425779291565073, -0.40864907473634887, -0.3913736668372025, -0.37395920573779995, -0.3564118787132505, -0.3387379202452914, -0.32094360980720976, -0.3030352696327737, -0.2850192624699761, -0.26690198932037495, -0.24868988716485535, -0.23038942667659057, -0.2120071099220549, -0.19354946805085993, -0.175023058975276, -0.15643446504023023, -0.13779029068463858, -0.11909716009486966, -0.1003617148512151, -0.08159061156815717, -0.06279051952931326, -0.04396811831786419, -0.025130095443337937, -0.0062831439655588045, 0.012566039883352469, 0.03141075907812876, 0.05024431817976974, 0.06906002571440568, 0.08785119655074278, 0.10661115427526012, 0.12533323356430418, 0.1440107825522527, 0.16263716519488383, 0.1812057636271373, 0.1997099805144067, 0.21814324139654281, 0.23649899702372468, 0.25477072568338277, 0.2729519355173247, 0.2910361668282719, 0.3090169943749472, 0.32688802965494285, 0.3446429231745171, 0.36227536670454635, 0.37977909552180067, 0.39714789063478073, 0.414375580993284, 0.43145604568095935, 0.4483832160900324, 0.46515107807745826, 0.48175367410171493, 0.498185105339491, 0.5144395337815064, 0.5305111843067345, 0.5463943467342692, 0.5620833778521306, 0.5775727034222673, 0.5928568201610595, 0.6079302976946054, 0.622787780488113, 0.63742398974869, 0.6518337253008788, 0.6660118674342514, 0.6799533787224195, 0.693653305812805, 0.7071067811865479, 0.7203090248879065, 0.73325534622256, 0.745941145424182, 0.758361915288722, 0.7705132427757893, 0.7823908105765885, 0.7939903986478349, 0.805307885711122, 0.8163392507171838, 0.827080574274562, 0.8375280400421418, 0.8476779360850831, 0.8575266561936521, 0.8670707011644901, 0.8763066800438635, 0.8852313113324555, 0.8938414241512639, 0.9021339593682027, 0.9101059706849955, 0.9177546256839813, 0.925077206834458, 0.9320711124582112, 0.9387338576538738, 0.9450630751798048, 0.9510565162951534, 0.9567120515588305, 0.9620276715860859, 0.9670014877624352, 0.9716317329146738, 0.9759167619387474, 0.9798550523842469, 0.9834452049953297, 0.986685944207868, 0.989576118602651, 0.9921147013144778, 0.9943007903969989, 0.9961336091431725, 0.9976125063612252, 0.9987369566060175, 0.9995065603657316, 0.9999210442038161, 0.9999802608561371, 0.9996841892832999, 0.9990329346781247, 0.9980267284282716, 0.9966659280340299, 0.9949510169813002, 0.9928826045698136, 0.9904614256966512, 0.9876883405951377, 0.9845643345292054, 0.9810905174433341, 0.9772681235681934, 0.9730985109821267, 0.9685831611286311, 0.9637236782900096, 0.9585217890173761, 0.9529793415172187, 0.9470983049947441, 0.9408807689542257, 0.934328942456612, 0.927445153334661, 0.9202318473658698, 0.9126915874035028, 0.90482705246602, 0.8966410367852361, 0.8881364488135445, 0.8793163101905568, 0.8701837546695259, 0.8607420270039435, 0.8509944817946915, 0.8409445822981693, 0.8305958991958126, 0.8199521093254518, 0.8090169943749466, 0.7977944395385719, 0.7862884321366195, 0.774503060198734, 0.7624425110114477, 0.7501110696304601, 0.7375131173581742, 0.7246531301870465, 0.7115356772092847, 0.6981654189934728, 0.6845471059286884, 0.6706855765367193, 0.6565857557529565, 0.6422526531765854, 0.627691361290701, 0.6129070536529766, 0.5979049830575185, 0.5826904796685767, 0.5672689491267566, 0.5516458706284298, 0.5358267949789957, 0.5198173426207096, 0.5036232016357604, 0.48725012572533133, 0.47070393216533263, 0.4539904997395479, 0.4371157666509335, 0.4200857284118063, 0.40290643571366214, 0.38558399227739715, 0.368124552684678, 0.35053432019125846, 0.3328195445229855, 0.3149865196553048, 0.2970415815770343, 0.2789911060392298, 0.2608415062898969, 0.2425992307954085, 0.22427076094938167, 0.20586260876988122, 0.18738131458572393, 0.16883344471273432, 0.15022558912075692, 0.13156435909228176, 0.11285638487348035, 0.09410831331851414, 0.07532680552793372, 0.05651853448202493, 0.03769018266993434, 0.018848439715409147, 3.6739403974420594e-16, -0.01884843971540841, -0.037690182669935374, -0.056518534482024194, -0.075326805527933, -0.0941083133185152, -0.11285638487348316, -0.13156435909228104, -0.1502255891207562, -0.16883344471273362, -0.18738131458572496, -0.20586260876988052, -0.22427076094938098, -0.2425992307954078, -0.26084150628989783, -0.27899110603922905, -0.29704158157703525, -0.3149865196553057, -0.33281954452298645, -0.35053432019125774, -0.36812455268467725, -0.3855839922773964, -0.4029064357136631, -0.4200857284118056, -0.4371157666509328, -0.4539904997395472, -0.4707039321653335, -0.4872501257253323, -0.5036232016357614, -0.519817342620709, -0.5358267949789967, -0.5516458706284293, -0.5672689491267561, -0.5826904796685761, -0.5979049830575194, -0.612907053652976, -0.6276913612907006, -0.6422526531765849, -0.6565857557529574, -0.6706855765367201, -0.684547105928688, -0.6981654189934724, -0.7115356772092853, -0.7246531301870459, -0.7375131173581736, -0.7501110696304596, -0.7624425110114483, -0.7745030601987335, -0.786288432136619, -0.7977944395385714, -0.8090169943749482, -0.8199521093254514, -0.8305958991958121, -0.8409445822981689, -0.850994481794692, -0.8607420270039432, -0.8701837546695255, -0.8793163101905563, -0.8881364488135449, -0.8966410367852358, -0.9048270524660197, -0.9126915874035032, -0.9202318473658709, -0.9274451533346608, -0.9343289424566117, -0.9408807689542253, -0.9470983049947443, -0.9529793415172185, -0.9585217890173758, -0.9637236782900098, -0.9685831611286314, -0.9730985109821265, -0.9772681235681936, -0.9810905174433343, -0.9845643345292053, -0.9876883405951375, -0.9904614256966511, -0.9928826045698137, -0.9949510169813002, -0.9966659280340299, -0.9980267284282716, -0.9990329346781247, -0.9996841892833, -0.9999802608561371, -0.9999210442038161, -0.9995065603657316, -0.9987369566060175, -0.9976125063612253, -0.9961336091431725, -0.9943007903969989, -0.9921147013144778, -0.989576118602651, -0.986685944207868, -0.9834452049953295, -0.9798550523842466, -0.9759167619387473, -0.9716317329146742, -0.9670014877624352, -0.9620276715860858, -0.9567120515588308, -0.9510565162951538, -0.9450630751798048, -0.9387338576538738, -0.9320711124582112, -0.9250772068344579, -0.9177546256839808, -0.9101059706849951, -0.9021339593682035, -0.8938414241512642, -0.8852313113324554, -0.8763066800438635, -0.8670707011644905, -0.8575266561936524, -0.8476779360850831, -0.8375280400421412, -0.8270805742745619, -0.8163392507171838, -0.8053078857111214, -0.7939903986478355, -0.782390810576589, -0.7705132427757897, -0.758361915288722, -0.7459411454241819, -0.7332553462225606, -0.720309024887907, -0.7071067811865472, -0.6936533058128042, -0.6799533787224192, -0.6660118674342512, -0.6518337253008792, -0.6374239897486897, -0.6227877804881135, -0.6079302976946059, -0.5928568201610592, -0.5775727034222671, -0.5620833778521311, -0.5463943467342691, -0.5305111843067335, -0.5144395337815054, -0.4981851053394908, -0.48175367410171627, -0.46515107807745887, -0.44838321609003223, -0.43145604568096, -0.41437558099328464, -0.39714789063478056, -0.3797790955218005, -0.3622753667045462, -0.344642923174517, -0.32688802965494185, -0.3090169943749462, -0.2910361668282717, -0.27295193551732627, -0.2547707256833826, -0.23649899702372454, -0.21814324139654356, -0.19970998051440744, -0.18120576362713717, -0.16263716519488283, -0.14401078255225255, -0.12533323356430404, -0.10661115427525909, -0.08785119655074175, -0.06906002571440731, -0.05024431817977047, -0.031410759078128604, -0.012566039883352314, 0.00628314396555807, 0.025130095443337202, 0.04396811831786523, 0.0627905195293143, 0.0815906115681573, 0.10036171485121526, 0.1190971600948707, 0.13779029068463786, 0.15643446504022948, 0.17502305897527526, 0.19354946805086007, 0.21200710992205504, 0.23038942667658985, 0.24868988716485463, 0.266901989320376, 0.28501926246997716, 0.30303526963277383, 0.32094360980720993, 0.3387379202452907, 0.35641187871325064, 0.3739592057377993, 0.3913736668372018, 0.408649074736349, 0.42577929156507316, 0.442758231038901, 0.45957986062148787, 0.4762382036679396, 0.4927273415482927, 0.5090414157503713, 0.5251746299612947, 0.5411212521268755, 0.5568756164881881, 0.57243212559459, 0.5877852522924728, 0.6029295416890248, 0.6178596130903349, 0.6325701619131241, 0.6470559615694444, 0.6613118653236525, 0.6753328081210255, 0.6891138083873474, 0.7026499697988485, 0.7159364830218309, 0.7289686274214117, 0.7417417727387385, 0.7542513807361035, 0.76649300680935, 0.778462301567024, 0.7901550123756902, 0.8015669848708767, 0.8126941644330945, 0.8235325976284272, 0.8340784336131704, 0.8443279255020146, 0.854277431699295, 0.8639234171928355, 0.8732624548099197, 0.8822912264349532, 0.891006524188368, 0.8994052515663714, 0.9074844245411169, 0.9152411726209178, 0.9226727398701152, 0.9297764858882513, 0.9365498867481918, 0.9429905358928642, 0.9490961449902945, 0.9548645447466431, 0.9602936856769428, 0.9653816388332739, 0.9701265964901059, 0.9745268727865773, 0.9785809043254721, 0.9822872507286888, 0.9856445951489979, 0.988651744737914, 0.9913076310695064, 0.9936113105200083, 0.99556196460308, 0.9971589002606139, 0.998401550108975, 0.9992894726405892, 0.9998223523808091, 1.0, 0.999822352380809, 0.9992894726405893, 0.998401550108975, 0.9971589002606139, 0.9955619646030801, 0.9936113105200085, 0.9913076310695066, 0.988651744737914, 0.9856445951489982, 0.9822872507286886, 0.978580904325472, 0.9745268727865768, 0.9701265964901062, 0.9653816388332741, 0.9602936856769432, 0.9548645447466428, 0.9490961449902949, 0.9429905358928646, 0.9365498867481923, 0.9297764858882511, 0.922672739870115, 0.9152411726209174, 0.9074844245411166, 0.8994052515663712, 0.8910065241883686, 0.8822912264349537, 0.8732624548099203, 0.8639234171928352, 0.8542774316992956, 0.8443279255020152, 0.834078433613171, 0.8235325976284269, 0.8126941644330941, 0.8015669848708763, 0.7901550123756909, 0.7784623015670236, 0.7664930068093507, 0.7542513807361043, 0.7417417727387393, 0.7289686274214111, 0.7159364830218317, 0.7026499697988493, 0.6891138083873481, 0.6753328081210237, 0.6613118653236519, 0.6470559615694453, 0.632570161913125, 0.6178596130903344, 0.6029295416890257, 0.5877852522924737, 0.5724321255945909, 0.5568756164881875, 0.5411212521268763, 0.5251746299612957, 0.5090414157503708, 0.4927273415482905, 0.4762382036679406, 0.4595798606214888, 0.442758231038902, 0.42577929156507255, 0.40864907473635004, 0.3913736668372028, 0.3739592057378003, 0.35641187871325, 0.33873792024529176, 0.3209436098072093, 0.3030352696327732, 0.2850192624699748, 0.26690198932037706, 0.2486898871648557, 0.23038942667659093, 0.2120071099220544, 0.19354946805086118, 0.17502305897527637, 0.1564344650402306, 0.1377902906846372, 0.11909716009487002, 0.10036171485121458, 0.08159061156815664, 0.06279051952931362, 0.04396811831786633, 0.0251300954433383, 0.006283143965559172, -0.012566039883352989, -0.03141075907812751, -0.05024431817976937, -0.06906002571440621, -0.08785119655074419, -0.10661115427525976, -0.1253332335643047, -0.14401078255225144, -0.1626371651948835, -0.18120576362713608, -0.19970998051440633, -0.21814324139654248, -0.23649899702372518, -0.25477072568338155, -0.27295193551732516, -0.29103616682827066, -0.3090169943749485, -0.32688802965494246, -0.34464292317451595, -0.36227536670454347, -0.3797790955218011, -0.39714789063477957, -0.41437558099328525, -0.431456045680959, -0.44838321609003123, -0.4651510780774595, -0.4817536741017153, -0.49818510533948984, -0.5144395337815075, -0.530511184306734, -0.5463943467342681, -0.5620833778521287, -0.5775727034222676, -0.5928568201610583, -0.6079302976946064, -0.6227877804881126, -0.6374239897486889, -0.6518337253008771, -0.6660118674342518, -0.6799533787224185, -0.6936533058128059, -0.7071067811865477, -0.7203090248879087, -0.7332553462225586, -0.7459411454241823, -0.7583619152887213, -0.7705132427757879, -0.7823908105765883, -0.7939903986478348, -0.8053078857111229, -0.8163392507171842, -0.8270805742745614, -0.8375280400421407, -0.8476779360850835, -0.8575266561936519, -0.8670707011644908, -0.8763066800438638, -0.8852313113324548, -0.8938414241512646, -0.9021339593682015, -0.9101059706849954, -0.9177546256839804, -0.9250772068344583, -0.9320711124582107, -0.9387338576538746, -0.945063075179805, -0.9510565162951544, -0.95671205155883, -0.962027671586085, -0.9670014877624349, -0.9716317329146735, -0.9759167619387475, -0.9798550523842467, -0.9834452049953301, -0.9866859442078681, -0.9895761186026509, -0.9921147013144777, -0.9943007903969989, -0.9961336091431724, -0.9976125063612251, -0.9987369566060176, -0.9995065603657315, -0.9999210442038161, -0.9999802608561371, -0.9996841892832999, -0.9990329346781248, -0.9980267284282716, -0.9966659280340299, -0.9949510169813, -0.9928826045698136, -0.9904614256966513, -0.987688340595138, -0.9845643345292059, -0.9810905174433342, -0.9772681235681938, -0.9730985109821264, -0.9685831611286312, -0.9637236782900092, -0.9585217890173756, -0.9529793415172189, -0.9470983049947448, -0.9408807689542263, -0.9343289424566121, -0.9274451533346618, -0.9202318473658699, -0.9126915874035029, -0.9048270524660186, -0.896641036785237, -0.8881364488135446, -0.8793163101905569, -0.8701837546695252, -0.8607420270039438, -0.8509944817946906, -0.8409445822981685, -0.8305958991958127, -0.819952109325453, -0.8090169943749489, -0.797794439538571, -0.7862884321366197, -0.774503060198733, -0.7624425110114479, -0.750111069630458, -0.737513117358173, -0.7246531301870467, -0.7115356772092862, -0.6981654189934744, -0.6845471059286887, -0.670685576536721, -0.6565857557529555, -0.6422526531765844, -0.6276913612906987, -0.6129070536529784, -0.5979049830575188, -0.582690479668577, -0.5672689491267555, -0.5516458706284302, -0.5358267949789975, -0.5198173426207084, -0.5036232016357608, -0.48725012572533327, -0.4707039321653345, -0.45399049973954664, -0.43711576665093377, -0.42008572841180497, -0.40290643571366247, -0.38558399227739415, -0.36812455268467664, -0.3505343201912621, -0.3328195445229875, -0.3149865196553068, -0.29704158157703464, -0.2789911060392301, -0.2608415062898955, -0.24259923079540713, -0.22427076094937856, -0.2058626087698833, -0.1873813145857243, -0.16883344471273468, -0.15022558912075903, -0.13156435909228212, -0.11285638487348248, -0.09410831331851274, -0.07532680552793232, -0.0565185344820253, -0.03769018266993648, -0.018848439715407738, -7.347880794884119e-16]}],\n",
       "                        {\"legend\": {\"bgcolor\": \"#FFFFFF\", \"font\": {\"color\": \"#4D5663\"}}, \"paper_bgcolor\": \"#FFFFFF\", \"plot_bgcolor\": \"#FFFFFF\", \"template\": {\"data\": {\"bar\": [{\"error_x\": {\"color\": \"#2a3f5f\"}, \"error_y\": {\"color\": \"#2a3f5f\"}, \"marker\": {\"line\": {\"color\": \"#E5ECF6\", \"width\": 0.5}}, \"type\": \"bar\"}], \"barpolar\": [{\"marker\": {\"line\": {\"color\": \"#E5ECF6\", \"width\": 0.5}}, \"type\": \"barpolar\"}], \"carpet\": [{\"aaxis\": {\"endlinecolor\": \"#2a3f5f\", \"gridcolor\": \"white\", \"linecolor\": \"white\", \"minorgridcolor\": \"white\", \"startlinecolor\": \"#2a3f5f\"}, \"baxis\": {\"endlinecolor\": \"#2a3f5f\", \"gridcolor\": \"white\", \"linecolor\": \"white\", \"minorgridcolor\": \"white\", \"startlinecolor\": \"#2a3f5f\"}, \"type\": \"carpet\"}], \"choropleth\": [{\"colorbar\": {\"outlinewidth\": 0, \"ticks\": \"\"}, \"type\": \"choropleth\"}], \"contour\": [{\"colorbar\": {\"outlinewidth\": 0, \"ticks\": \"\"}, \"colorscale\": [[0.0, \"#0d0887\"], [0.1111111111111111, \"#46039f\"], [0.2222222222222222, \"#7201a8\"], [0.3333333333333333, \"#9c179e\"], [0.4444444444444444, \"#bd3786\"], [0.5555555555555556, \"#d8576b\"], [0.6666666666666666, \"#ed7953\"], [0.7777777777777778, \"#fb9f3a\"], [0.8888888888888888, \"#fdca26\"], [1.0, \"#f0f921\"]], \"type\": \"contour\"}], \"contourcarpet\": [{\"colorbar\": {\"outlinewidth\": 0, \"ticks\": \"\"}, \"type\": \"contourcarpet\"}], \"heatmap\": [{\"colorbar\": {\"outlinewidth\": 0, \"ticks\": \"\"}, \"colorscale\": [[0.0, \"#0d0887\"], [0.1111111111111111, \"#46039f\"], [0.2222222222222222, \"#7201a8\"], [0.3333333333333333, \"#9c179e\"], [0.4444444444444444, \"#bd3786\"], [0.5555555555555556, \"#d8576b\"], [0.6666666666666666, \"#ed7953\"], [0.7777777777777778, \"#fb9f3a\"], [0.8888888888888888, \"#fdca26\"], [1.0, \"#f0f921\"]], \"type\": \"heatmap\"}], \"heatmapgl\": [{\"colorbar\": {\"outlinewidth\": 0, \"ticks\": \"\"}, \"colorscale\": [[0.0, \"#0d0887\"], [0.1111111111111111, \"#46039f\"], [0.2222222222222222, \"#7201a8\"], [0.3333333333333333, \"#9c179e\"], [0.4444444444444444, \"#bd3786\"], [0.5555555555555556, \"#d8576b\"], [0.6666666666666666, \"#ed7953\"], [0.7777777777777778, \"#fb9f3a\"], [0.8888888888888888, \"#fdca26\"], [1.0, \"#f0f921\"]], \"type\": \"heatmapgl\"}], \"histogram\": [{\"marker\": {\"colorbar\": {\"outlinewidth\": 0, \"ticks\": \"\"}}, \"type\": \"histogram\"}], \"histogram2d\": [{\"colorbar\": {\"outlinewidth\": 0, \"ticks\": \"\"}, \"colorscale\": [[0.0, \"#0d0887\"], [0.1111111111111111, \"#46039f\"], [0.2222222222222222, \"#7201a8\"], [0.3333333333333333, \"#9c179e\"], [0.4444444444444444, \"#bd3786\"], [0.5555555555555556, \"#d8576b\"], [0.6666666666666666, \"#ed7953\"], [0.7777777777777778, \"#fb9f3a\"], [0.8888888888888888, \"#fdca26\"], [1.0, \"#f0f921\"]], \"type\": \"histogram2d\"}], \"histogram2dcontour\": [{\"colorbar\": {\"outlinewidth\": 0, \"ticks\": \"\"}, \"colorscale\": [[0.0, \"#0d0887\"], [0.1111111111111111, \"#46039f\"], [0.2222222222222222, \"#7201a8\"], [0.3333333333333333, \"#9c179e\"], [0.4444444444444444, \"#bd3786\"], [0.5555555555555556, \"#d8576b\"], [0.6666666666666666, \"#ed7953\"], [0.7777777777777778, \"#fb9f3a\"], [0.8888888888888888, \"#fdca26\"], [1.0, \"#f0f921\"]], \"type\": \"histogram2dcontour\"}], \"mesh3d\": [{\"colorbar\": {\"outlinewidth\": 0, \"ticks\": \"\"}, \"type\": \"mesh3d\"}], \"parcoords\": [{\"line\": {\"colorbar\": {\"outlinewidth\": 0, \"ticks\": \"\"}}, \"type\": \"parcoords\"}], \"scatter\": [{\"marker\": {\"colorbar\": {\"outlinewidth\": 0, \"ticks\": \"\"}}, \"type\": \"scatter\"}], \"scatter3d\": [{\"line\": {\"colorbar\": {\"outlinewidth\": 0, \"ticks\": \"\"}}, \"marker\": {\"colorbar\": {\"outlinewidth\": 0, \"ticks\": \"\"}}, \"type\": \"scatter3d\"}], \"scattercarpet\": [{\"marker\": {\"colorbar\": {\"outlinewidth\": 0, \"ticks\": \"\"}}, \"type\": \"scattercarpet\"}], \"scattergeo\": [{\"marker\": {\"colorbar\": {\"outlinewidth\": 0, \"ticks\": \"\"}}, \"type\": \"scattergeo\"}], \"scattergl\": [{\"marker\": {\"colorbar\": {\"outlinewidth\": 0, \"ticks\": \"\"}}, \"type\": \"scattergl\"}], \"scattermapbox\": [{\"marker\": {\"colorbar\": {\"outlinewidth\": 0, \"ticks\": \"\"}}, \"type\": \"scattermapbox\"}], \"scatterpolar\": [{\"marker\": {\"colorbar\": {\"outlinewidth\": 0, \"ticks\": \"\"}}, \"type\": \"scatterpolar\"}], \"scatterpolargl\": [{\"marker\": {\"colorbar\": {\"outlinewidth\": 0, \"ticks\": \"\"}}, \"type\": \"scatterpolargl\"}], \"scatterternary\": [{\"marker\": {\"colorbar\": {\"outlinewidth\": 0, \"ticks\": \"\"}}, \"type\": \"scatterternary\"}], \"surface\": [{\"colorbar\": {\"outlinewidth\": 0, \"ticks\": \"\"}, \"colorscale\": [[0.0, \"#0d0887\"], [0.1111111111111111, \"#46039f\"], [0.2222222222222222, \"#7201a8\"], [0.3333333333333333, \"#9c179e\"], [0.4444444444444444, \"#bd3786\"], [0.5555555555555556, \"#d8576b\"], [0.6666666666666666, \"#ed7953\"], [0.7777777777777778, \"#fb9f3a\"], [0.8888888888888888, \"#fdca26\"], [1.0, \"#f0f921\"]], \"type\": \"surface\"}], \"table\": [{\"cells\": {\"fill\": {\"color\": \"#EBF0F8\"}, \"line\": {\"color\": \"white\"}}, \"header\": {\"fill\": {\"color\": \"#C8D4E3\"}, \"line\": {\"color\": \"white\"}}, \"type\": \"table\"}]}, \"layout\": {\"annotationdefaults\": {\"arrowcolor\": \"#2a3f5f\", \"arrowhead\": 0, \"arrowwidth\": 1}, \"colorscale\": {\"diverging\": [[0, \"#8e0152\"], [0.1, \"#c51b7d\"], [0.2, \"#de77ae\"], [0.3, \"#f1b6da\"], [0.4, \"#fde0ef\"], [0.5, \"#f7f7f7\"], [0.6, \"#e6f5d0\"], [0.7, \"#b8e186\"], [0.8, \"#7fbc41\"], [0.9, \"#4d9221\"], [1, \"#276419\"]], \"sequential\": [[0.0, \"#0d0887\"], [0.1111111111111111, \"#46039f\"], [0.2222222222222222, \"#7201a8\"], [0.3333333333333333, \"#9c179e\"], [0.4444444444444444, \"#bd3786\"], [0.5555555555555556, \"#d8576b\"], [0.6666666666666666, \"#ed7953\"], [0.7777777777777778, \"#fb9f3a\"], [0.8888888888888888, \"#fdca26\"], [1.0, \"#f0f921\"]], \"sequentialminus\": [[0.0, \"#0d0887\"], [0.1111111111111111, \"#46039f\"], [0.2222222222222222, \"#7201a8\"], [0.3333333333333333, \"#9c179e\"], [0.4444444444444444, \"#bd3786\"], [0.5555555555555556, \"#d8576b\"], [0.6666666666666666, \"#ed7953\"], [0.7777777777777778, \"#fb9f3a\"], [0.8888888888888888, \"#fdca26\"], [1.0, \"#f0f921\"]]}, \"colorway\": [\"#636efa\", \"#EF553B\", \"#00cc96\", \"#ab63fa\", \"#FFA15A\", \"#19d3f3\", \"#FF6692\", \"#B6E880\", \"#FF97FF\", \"#FECB52\"], \"font\": {\"color\": \"#2a3f5f\"}, \"geo\": {\"bgcolor\": \"white\", \"lakecolor\": \"white\", \"landcolor\": \"#E5ECF6\", \"showlakes\": true, \"showland\": true, \"subunitcolor\": \"white\"}, \"hoverlabel\": {\"align\": \"left\"}, \"hovermode\": \"closest\", \"mapbox\": {\"style\": \"light\"}, \"paper_bgcolor\": \"white\", \"plot_bgcolor\": \"#E5ECF6\", \"polar\": {\"angularaxis\": {\"gridcolor\": \"white\", \"linecolor\": \"white\", \"ticks\": \"\"}, \"bgcolor\": \"#E5ECF6\", \"radialaxis\": {\"gridcolor\": \"white\", \"linecolor\": \"white\", \"ticks\": \"\"}}, \"scene\": {\"xaxis\": {\"backgroundcolor\": \"#E5ECF6\", \"gridcolor\": \"white\", \"gridwidth\": 2, \"linecolor\": \"white\", \"showbackground\": true, \"ticks\": \"\", \"zerolinecolor\": \"white\"}, \"yaxis\": {\"backgroundcolor\": \"#E5ECF6\", \"gridcolor\": \"white\", \"gridwidth\": 2, \"linecolor\": \"white\", \"showbackground\": true, \"ticks\": \"\", \"zerolinecolor\": \"white\"}, \"zaxis\": {\"backgroundcolor\": \"#E5ECF6\", \"gridcolor\": \"white\", \"gridwidth\": 2, \"linecolor\": \"white\", \"showbackground\": true, \"ticks\": \"\", \"zerolinecolor\": \"white\"}}, \"shapedefaults\": {\"line\": {\"color\": \"#2a3f5f\"}}, \"ternary\": {\"aaxis\": {\"gridcolor\": \"white\", \"linecolor\": \"white\", \"ticks\": \"\"}, \"baxis\": {\"gridcolor\": \"white\", \"linecolor\": \"white\", \"ticks\": \"\"}, \"bgcolor\": \"#E5ECF6\", \"caxis\": {\"gridcolor\": \"white\", \"linecolor\": \"white\", \"ticks\": \"\"}}, \"title\": {\"x\": 0.05}, \"xaxis\": {\"automargin\": true, \"gridcolor\": \"white\", \"linecolor\": \"white\", \"ticks\": \"\", \"zerolinecolor\": \"white\", \"zerolinewidth\": 2}, \"yaxis\": {\"automargin\": true, \"gridcolor\": \"white\", \"linecolor\": \"white\", \"ticks\": \"\", \"zerolinecolor\": \"white\", \"zerolinewidth\": 2}}}, \"title\": {\"font\": {\"color\": \"#4D5663\"}, \"text\": \"Input\"}, \"xaxis\": {\"gridcolor\": \"#E1E5ED\", \"showgrid\": true, \"tickfont\": {\"color\": \"#4D5663\"}, \"title\": {\"font\": {\"color\": \"#4D5663\"}, \"text\": \"T\"}, \"zerolinecolor\": \"#E1E5ED\"}, \"yaxis\": {\"gridcolor\": \"#E1E5ED\", \"showgrid\": true, \"tickfont\": {\"color\": \"#4D5663\"}, \"title\": {\"font\": {\"color\": \"#4D5663\"}, \"text\": \"S\"}, \"zerolinecolor\": \"#E1E5ED\"}},\n",
       "                        {\"showLink\": true, \"linkText\": \"Export to plot.ly\", \"plotlyServerURL\": \"https://plot.ly\", \"responsive\": true}\n",
       "                    ).then(function(){\n",
       "                            \n",
       "var gd = document.getElementById('84e7f09f-80e9-4b9b-9cbc-cc376d17d7bb');\n",
       "var x = new MutationObserver(function (mutations, observer) {{\n",
       "        var display = window.getComputedStyle(gd).display;\n",
       "        if (!display || display === 'none') {{\n",
       "            console.log([gd, 'removed!']);\n",
       "            Plotly.purge(gd);\n",
       "            observer.disconnect();\n",
       "        }}\n",
       "}});\n",
       "\n",
       "// Listen for the removal of the full notebook cells\n",
       "var notebookContainer = gd.closest('#notebook-container');\n",
       "if (notebookContainer) {{\n",
       "    x.observe(notebookContainer, {childList: true});\n",
       "}}\n",
       "\n",
       "// Listen for the clearing of the current output cell\n",
       "var outputEl = gd.closest('.output');\n",
       "if (outputEl) {{\n",
       "    x.observe(outputEl, {childList: true});\n",
       "}}\n",
       "\n",
       "                        })\n",
       "                };\n",
       "                });\n",
       "            </script>\n",
       "        </div>"
      ]
     },
     "metadata": {},
     "output_type": "display_data"
    },
    {
     "data": {
      "application/vnd.plotly.v1+json": {
       "config": {
        "linkText": "Export to plot.ly",
        "plotlyServerURL": "https://plot.ly",
        "showLink": true
       },
       "data": [
        {
         "line": {
          "color": "rgba(255, 153, 51, 1.0)",
          "dash": "solid",
          "shape": "linear",
          "width": 1.3
         },
         "mode": "lines",
         "name": "0",
         "text": "",
         "type": "scatter",
         "x": [
          0,
          3,
          6,
          9,
          12,
          15,
          18,
          21,
          24,
          27,
          30,
          33,
          36,
          39,
          42,
          45,
          48,
          51,
          54,
          57,
          60,
          63,
          66,
          69,
          72,
          75,
          78,
          81,
          84,
          87,
          90,
          93,
          96,
          99,
          102,
          105,
          108,
          111,
          114,
          117,
          120,
          123,
          126,
          129,
          132,
          135,
          138,
          141,
          144,
          147,
          150,
          153,
          156,
          159,
          162,
          165,
          168,
          171,
          174,
          177,
          180,
          183,
          186,
          189,
          192,
          195,
          198,
          201,
          204,
          207,
          210,
          213,
          216,
          219,
          222,
          225,
          228,
          231,
          234,
          237,
          240,
          243,
          246,
          249,
          252,
          255,
          258,
          261,
          264,
          267,
          270,
          273,
          276,
          279,
          282,
          285,
          288,
          291,
          294,
          297,
          300,
          303,
          306,
          309,
          312,
          315,
          318,
          321,
          324,
          327,
          330,
          333,
          336,
          339,
          342,
          345,
          348,
          351,
          354,
          357,
          360,
          363,
          366,
          369,
          372,
          375,
          378,
          381,
          384,
          387,
          390,
          393,
          396,
          399,
          402,
          405,
          408,
          411,
          414,
          417,
          420,
          423,
          426,
          429,
          432,
          435,
          438,
          441,
          444,
          447,
          450,
          453,
          456,
          459,
          462,
          465,
          468,
          471,
          474,
          477,
          480,
          483,
          486,
          489,
          492,
          495,
          498,
          501,
          504,
          507,
          510,
          513,
          516,
          519,
          522,
          525,
          528,
          531,
          534,
          537,
          540,
          543,
          546,
          549,
          552,
          555,
          558,
          561,
          564,
          567,
          570,
          573,
          576,
          579,
          582,
          585,
          588,
          591,
          594,
          597,
          600,
          603,
          606,
          609,
          612,
          615,
          618,
          621,
          624,
          627,
          630,
          633,
          636,
          639,
          642,
          645,
          648,
          651,
          654,
          657,
          660,
          663,
          666,
          669,
          672,
          675,
          678,
          681,
          684,
          687,
          690,
          693,
          696,
          699,
          702,
          705,
          708,
          711,
          714,
          717,
          720,
          723,
          726,
          729,
          732,
          735,
          738,
          741,
          744,
          747,
          750,
          753,
          756,
          759,
          762,
          765,
          768,
          771,
          774,
          777,
          780,
          783,
          786,
          789,
          792,
          795,
          798,
          801,
          804,
          807,
          810,
          813,
          816,
          819,
          822,
          825,
          828,
          831,
          834,
          837,
          840,
          843,
          846,
          849,
          852,
          855,
          858,
          861,
          864,
          867,
          870,
          873,
          876,
          879,
          882,
          885,
          888,
          891,
          894,
          897,
          900,
          903,
          906,
          909,
          912,
          915,
          918,
          921,
          924,
          927,
          930,
          933,
          936,
          939,
          942,
          945,
          948,
          951,
          954,
          957,
          960,
          963,
          966,
          969,
          972,
          975,
          978,
          981,
          984,
          987,
          990,
          993,
          996,
          999,
          1002,
          1005,
          1008,
          1011,
          1014,
          1017,
          1020,
          1023,
          1026,
          1029,
          1032,
          1035,
          1038,
          1041,
          1044,
          1047,
          1050,
          1053,
          1056,
          1059,
          1062,
          1065,
          1068,
          1071,
          1074,
          1077,
          1080,
          1083,
          1086,
          1089,
          1092,
          1095,
          1098,
          1101,
          1104,
          1107,
          1110,
          1113,
          1116,
          1119,
          1122,
          1125,
          1128,
          1131,
          1134,
          1137,
          1140,
          1143,
          1146,
          1149,
          1152,
          1155,
          1158,
          1161,
          1164,
          1167,
          1170,
          1173,
          1176,
          1179,
          1182,
          1185,
          1188,
          1191,
          1194,
          1197,
          1200,
          1203,
          1206,
          1209,
          1212,
          1215,
          1218,
          1221,
          1224,
          1227,
          1230,
          1233,
          1236,
          1239,
          1242,
          1245,
          1248,
          1251,
          1254,
          1257,
          1260,
          1263,
          1266,
          1269,
          1272,
          1275,
          1278,
          1281,
          1284,
          1287,
          1290,
          1293,
          1296,
          1299,
          1302,
          1305,
          1308,
          1311,
          1314,
          1317,
          1320,
          1323,
          1326,
          1329,
          1332,
          1335,
          1338,
          1341,
          1344,
          1347,
          1350,
          1353,
          1356,
          1359,
          1362,
          1365,
          1368,
          1371,
          1374,
          1377,
          1380,
          1383,
          1386,
          1389,
          1392,
          1395,
          1398,
          1401,
          1404,
          1407,
          1410,
          1413,
          1416,
          1419,
          1422,
          1425,
          1428,
          1431,
          1434,
          1437,
          1440,
          1443,
          1446,
          1449,
          1452,
          1455,
          1458,
          1461,
          1464,
          1467,
          1470,
          1473,
          1476,
          1479,
          1482,
          1485,
          1488,
          1491,
          1494,
          1497,
          1500,
          1503,
          1506,
          1509,
          1512,
          1515,
          1518,
          1521,
          1524,
          1527,
          1530,
          1533,
          1536,
          1539,
          1542,
          1545,
          1548,
          1551,
          1554,
          1557,
          1560,
          1563,
          1566,
          1569,
          1572,
          1575,
          1578,
          1581,
          1584,
          1587,
          1590,
          1593,
          1596,
          1599,
          1602,
          1605,
          1608,
          1611,
          1614,
          1617,
          1620,
          1623,
          1626,
          1629,
          1632,
          1635,
          1638,
          1641,
          1644,
          1647,
          1650,
          1653,
          1656,
          1659,
          1662,
          1665,
          1668,
          1671,
          1674,
          1677,
          1680,
          1683,
          1686,
          1689,
          1692,
          1695,
          1698,
          1701,
          1704,
          1707,
          1710,
          1713,
          1716,
          1719,
          1722,
          1725,
          1728,
          1731,
          1734,
          1737,
          1740,
          1743,
          1746,
          1749,
          1752,
          1755,
          1758,
          1761,
          1764,
          1767,
          1770,
          1773,
          1776,
          1779,
          1782,
          1785,
          1788,
          1791,
          1794,
          1797,
          1800,
          1803,
          1806,
          1809,
          1812,
          1815,
          1818,
          1821,
          1824,
          1827,
          1830,
          1833,
          1836,
          1839,
          1842,
          1845,
          1848,
          1851,
          1854,
          1857,
          1860,
          1863,
          1866,
          1869,
          1872,
          1875,
          1878,
          1881,
          1884,
          1887,
          1890,
          1893,
          1896,
          1899,
          1902,
          1905,
          1908,
          1911,
          1914,
          1917,
          1920,
          1923,
          1926,
          1929,
          1932,
          1935,
          1938,
          1941,
          1944,
          1947,
          1950,
          1953,
          1956,
          1959,
          1962,
          1965,
          1968,
          1971,
          1974,
          1977,
          1980,
          1983,
          1986,
          1989,
          1992,
          1995,
          1998,
          2001,
          2004,
          2007,
          2010,
          2013,
          2016,
          2019,
          2022,
          2025,
          2028,
          2031,
          2034,
          2037,
          2040,
          2043,
          2046,
          2049,
          2052,
          2055,
          2058,
          2061,
          2064,
          2067,
          2070,
          2073,
          2076,
          2079,
          2082,
          2085,
          2088,
          2091,
          2094,
          2097,
          2100,
          2103,
          2106,
          2109,
          2112,
          2115,
          2118,
          2121,
          2124,
          2127,
          2130,
          2133,
          2136,
          2139,
          2142,
          2145,
          2148,
          2151,
          2154,
          2157,
          2160,
          2163,
          2166,
          2169,
          2172,
          2175,
          2178,
          2181,
          2184,
          2187,
          2190,
          2193,
          2196,
          2199,
          2202,
          2205,
          2208,
          2211,
          2214,
          2217,
          2220,
          2223,
          2226,
          2229,
          2232,
          2235,
          2238,
          2241,
          2244,
          2247,
          2250,
          2253,
          2256,
          2259,
          2262,
          2265,
          2268,
          2271,
          2274,
          2277,
          2280,
          2283,
          2286,
          2289,
          2292,
          2295,
          2298,
          2301,
          2304,
          2307,
          2310,
          2313,
          2316,
          2319,
          2322,
          2325,
          2328,
          2331,
          2334,
          2337,
          2340,
          2343,
          2346,
          2349,
          2352,
          2355,
          2358,
          2361,
          2364,
          2367,
          2370,
          2373,
          2376,
          2379,
          2382,
          2385,
          2388,
          2391,
          2394,
          2397,
          2400,
          2403,
          2406,
          2409,
          2412,
          2415,
          2418,
          2421,
          2424,
          2427,
          2430,
          2433,
          2436,
          2439,
          2442,
          2445,
          2448,
          2451,
          2454,
          2457,
          2460,
          2463,
          2466,
          2469,
          2472,
          2475,
          2478,
          2481,
          2484,
          2487,
          2490,
          2493,
          2496,
          2499,
          2502,
          2505,
          2508,
          2511,
          2514,
          2517,
          2520,
          2523,
          2526,
          2529,
          2532,
          2535,
          2538,
          2541,
          2544,
          2547,
          2550,
          2553,
          2556,
          2559,
          2562,
          2565,
          2568,
          2571,
          2574,
          2577,
          2580,
          2583,
          2586,
          2589,
          2592,
          2595,
          2598,
          2601,
          2604,
          2607,
          2610,
          2613,
          2616,
          2619,
          2622,
          2625,
          2628,
          2631,
          2634,
          2637,
          2640,
          2643,
          2646,
          2649,
          2652,
          2655,
          2658,
          2661,
          2664,
          2667,
          2670,
          2673,
          2676,
          2679,
          2682,
          2685,
          2688,
          2691,
          2694,
          2697,
          2700,
          2703,
          2706,
          2709,
          2712,
          2715,
          2718,
          2721,
          2724,
          2727,
          2730,
          2733,
          2736,
          2739,
          2742,
          2745,
          2748,
          2751,
          2754,
          2757,
          2760,
          2763,
          2766,
          2769,
          2772,
          2775,
          2778,
          2781,
          2784,
          2787,
          2790,
          2793,
          2796,
          2799,
          2802,
          2805,
          2808,
          2811,
          2814,
          2817,
          2820,
          2823,
          2826,
          2829,
          2832,
          2835,
          2838,
          2841,
          2844,
          2847,
          2850,
          2853,
          2856,
          2859,
          2862,
          2865,
          2868,
          2871,
          2874,
          2877,
          2880,
          2883,
          2886,
          2889,
          2892,
          2895,
          2898,
          2901,
          2904,
          2907,
          2910,
          2913,
          2916,
          2919,
          2922,
          2925,
          2928,
          2931,
          2934,
          2937,
          2940,
          2943,
          2946,
          2949,
          2952,
          2955,
          2958,
          2961,
          2964,
          2967,
          2970,
          2973,
          2976,
          2979,
          2982,
          2985,
          2988,
          2991,
          2994,
          2997,
          3000
         ],
         "y": [
          0,
          3.436917625498914e-10,
          6.244332759197668e-10,
          9.049529459126404e-10,
          1.1851510883786887e-09,
          1.4649281371292844e-09,
          1.7441847133259358e-09,
          2.022821604663605e-09,
          2.3007397376151317e-09,
          2.577840496620354e-09,
          2.854025349385836e-09,
          3.129196152196201e-09,
          3.4032551499141306e-09,
          3.6761050592470923e-09,
          3.947648818947158e-09,
          4.217790006144639e-09,
          4.486432614303482e-09,
          4.753481219754718e-09,
          5.018841009452046e-09,
          5.2824175589272215e-09,
          5.544117220868117e-09,
          5.803847180629873e-09,
          6.061515067656842e-09,
          6.31702923303834e-09,
          6.570299082575559e-09,
          6.821234577181201e-09,
          7.069746399412935e-09,
          7.315746453073757e-09,
          7.559147197078175e-09,
          7.799862311586025e-09,
          8.037806087379806e-09,
          8.272894036487344e-09,
          8.505042781159489e-09,
          8.734169720803209e-09,
          8.960193365048497e-09,
          9.183033444770672e-09,
          9.402610912090381e-09,
          9.618847718328993e-09,
          9.831666925030902e-09,
          1.0040993037030432e-08,
          1.0246751669384935e-08,
          1.0448869547374784e-08,
          1.0647275172637194e-08,
          1.0841897712943194e-08,
          1.1032668223442954e-08,
          1.121951886950967e-08,
          1.1402383370828773e-08,
          1.1581196557308715e-08,
          1.1755894813170187e-08,
          1.1926416743079926e-08,
          1.2092700951704671e-08,
          1.2254688597224117e-08,
          1.2412322392130193e-08,
          1.256554604811555e-08,
          1.2714305275274285e-08,
          1.2858547226990424e-08,
          1.2998220499937929e-08,
          1.3133275689192203e-08,
          1.3263664500051675e-08,
          1.3389340969283126e-08,
          1.3510260021831755e-08,
          1.3626379247178022e-08,
          1.3737657011958504e-08,
          1.3844053792233524e-08,
          1.3945531729397942e-08,
          1.4042055185292668e-08,
          1.4133589187892426e-08,
          1.4220101984818712e-08,
          1.430156226778223e-08,
          1.4377941170984343e-08,
          1.444921171600555e-08,
          1.451534858976089e-08,
          1.4576328255522242e-08,
          1.463212884189602e-08,
          1.4682730919979292e-08,
          1.4728116282114456e-08,
          1.4768268719045352e-08,
          1.4803173908894962e-08,
          1.483281986125462e-08,
          1.4857195695938685e-08,
          1.4876292753207565e-08,
          1.4890104482745414e-08,
          1.4898625666504017e-08,
          1.4901853639948115e-08,
          1.4899787070810078e-08,
          1.4892426403179115e-08,
          1.4879774634657394e-08,
          1.4861836317159316e-08,
          1.4838617445889213e-08,
          1.4810126569564375e-08,
          1.4776373680192023e-08,
          1.4737370990225429e-08,
          1.4693132044385493e-08,
          1.4643672718861467e-08,
          1.4589010666199442e-08,
          1.4529165093257745e-08,
          1.4464157205296146e-08,
          1.4394010428020465e-08,
          1.4318749630426453e-08,
          1.4238401346844398e-08,
          1.4152994443072942e-08,
          1.4062558673089143e-08,
          1.3967126788472228e-08,
          1.3866732428979844e-08,
          1.3761411232771081e-08,
          1.3651200836406474e-08,
          1.353613987564728e-08,
          1.3416269761812316e-08,
          1.329163312746573e-08,
          1.3162273826416993e-08,
          1.3028237932921627e-08,
          1.2889573297591994e-08,
          1.2746329103308085e-08,
          1.2598556198284427e-08,
          1.2446306985047784e-08,
          1.228963586452636e-08,
          1.2128598125826784e-08,
          1.1963251167479427e-08,
          1.1793653609259991e-08,
          1.1619866069345619e-08,
          1.1441949943069574e-08,
          1.1259968402121956e-08,
          1.1073986616594311e-08,
          1.0884069867600488e-08,
          1.0690286322834197e-08,
          1.0492704372033756e-08,
          1.0291394625383532e-08,
          1.0086428248179402e-08,
          9.877878182074085e-09,
          9.665818700987927e-09,
          9.450324967019696e-09,
          9.23147347453579e-09,
          9.009342272214838e-09,
          8.784009852824681e-09,
          8.555556707534606e-09,
          8.324063771603107e-09,
          8.089613201534007e-09,
          7.85228859712106e-09,
          7.612174113269532e-09,
          7.3693549595965635e-09,
          7.1239175669646215e-09,
          6.875949087881139e-09,
          6.625537507520818e-09,
          6.372772032303686e-09,
          6.117742312738983e-09,
          5.860538887514366e-09,
          5.6012534610516695e-09,
          5.3399777377727276e-09,
          5.076804809878155e-09,
          4.811828102635474e-09,
          4.5451418184683234e-09,
          4.276840659400705e-09,
          4.00701988256813e-09,
          3.73577552226223e-09,
          3.4632038348192395e-09,
          3.1894016594424812e-09,
          2.9144663349356392e-09,
          2.6384955054137293e-09,
          2.3615872313254016e-09,
          2.0838398784306378e-09,
          1.8053521733119027e-09,
          1.5262230229629026e-09,
          1.2465516258108877e-09,
          9.664373190609865e-10,
          6.859796411462504e-10,
          4.052782484609274e-10,
          1.244328546451401e-10,
          -1.5645674946579424e-10,
          -4.372907626282174e-10,
          -7.179694061498765e-10,
          -9.98392965523287e-10,
          -1.278461794762542e-09,
          -1.5580764040068473e-09,
          -1.8371374282954989e-09,
          -2.11554571083461e-09,
          -2.393202358508262e-09,
          -2.670008714122929e-09,
          -2.945866439674205e-09,
          -3.2206775302245916e-09,
          -3.4943442861479213e-09,
          -3.766769535173964e-09,
          -4.037856493610548e-09,
          -4.307508738587984e-09,
          -4.575630652148277e-09,
          -4.84212681062246e-09,
          -5.106902567497684e-09,
          -5.369863942394915e-09,
          -5.630917343513175e-09,
          -5.889970178252213e-09,
          -6.146930298100983e-09,
          -6.401706387215711e-09,
          -6.654208128953343e-09,
          -6.904345595248884e-09,
          -7.152029912749214e-09,
          -7.3971732073019325e-09,
          -7.639688215377305e-09,
          -7.879488950202074e-09,
          -8.11649025767025e-09,
          -8.35060764980966e-09,
          -8.581758192960365e-09,
          -8.809859730618541e-09,
          -9.03483110548109e-09,
          -9.256592381490236e-09,
          -9.475064954855839e-09,
          -9.690170887921568e-09,
          -9.901834241432539e-09,
          -1.0109979298178473e-08,
          -1.0314532450372838e-08,
          -1.0515420645340612e-08,
          -1.0712573161875127e-08,
          -1.0905919278769716e-08,
          -1.109539060628606e-08,
          -1.1280919864908867e-08,
          -1.1462440996368173e-08,
          -1.1639889607728549e-08,
          -1.1813202638322196e-08,
          -1.1982318470771247e-08,
          -1.2147177153032374e-08,
          -1.230771984328527e-08,
          -1.2463889698111075e-08,
          -1.2615631206358557e-08,
          -1.2762890411188721e-08,
          -1.2905615021097105e-08,
          -1.304375452093609e-08,
          -1.317725950578108e-08,
          -1.3306082569108924e-08,
          -1.3430178080753308e-08,
          -1.3549501964860156e-08,
          -1.3664011588865321e-08,
          -1.3773666762695314e-08,
          -1.387842818445506e-08,
          -1.3978258439628632e-08,
          -1.4073122334146149e-08,
          -1.4162986339272265e-08,
          -1.4247818258539269e-08,
          -1.4327587893880889e-08,
          -1.4402266823587695e-08,
          -1.4471829068440911e-08,
          -1.4536249315355576e-08,
          -1.4595504915781987e-08,
          -1.4649574886504979e-08,
          -1.4698439798621621e-08,
          -1.4742082554697333e-08,
          -1.4780487389565167e-08,
          -1.481364075850422e-08,
          -1.4841531115195039e-08,
          -1.4864148245585795e-08,
          -1.4881484267093015e-08,
          -1.489353296246776e-08,
          -1.490028989081793e-08,
          -1.490175294271978e-08,
          -1.48979215630618e-08,
          -1.488879686206701e-08,
          -1.4874382392449093e-08,
          -1.4854683039189354e-08,
          -1.4829705907715152e-08,
          -1.4799459768788381e-08,
          -1.4763955502594683e-08,
          -1.4723205654654237e-08,
          -1.4677224657866361e-08,
          -1.4626029276598729e-08,
          -1.4569636830330523e-08,
          -1.450806830227691e-08,
          -1.4441344786675359e-08,
          -1.4369490486387804e-08,
          -1.4292530714499208e-08,
          -1.4210493004540581e-08,
          -1.4123406333332866e-08,
          -1.4031301676098451e-08,
          -1.3934211673394259e-08,
          -1.3832170853156356e-08,
          -1.3725215741722252e-08,
          -1.3613384197697087e-08,
          -1.3496715633998235e-08,
          -1.337525168398912e-08,
          -1.3249035868412307e-08,
          -1.311811259618878e-08,
          -1.2982528385663272e-08,
          -1.2842331642559657e-08,
          -1.2697572104869437e-08,
          -1.2548301175918652e-08,
          -1.2394571924367881e-08,
          -1.2236438751145329e-08,
          -1.2073958388647554e-08,
          -1.1907188013360326e-08,
          -1.173618702221546e-08,
          -1.1561016255434708e-08,
          -1.138173799652975e-08,
          -1.1198415750257595e-08,
          -1.1011114686709789e-08,
          -1.0819901641312413e-08,
          -1.0624844226647667e-08,
          -1.0426011831654591e-08,
          -1.0223475177539854e-08,
          -1.0017306095733147e-08,
          -9.8075779719764e-09,
          -9.594365191212262e-09,
          -9.37774380371792e-09,
          -9.15779030385977e-09,
          -8.934583184405653e-09,
          -8.708201604257226e-09,
          -8.478726165606076e-09,
          -8.246238136777606e-09,
          -8.01082022938715e-09,
          -7.772556154250765e-09,
          -7.53153062138523e-09,
          -7.287829062452289e-09,
          -7.041538241381318e-09,
          -6.792745643746656e-09,
          -6.541539532278762e-09,
          -6.288009279931117e-09,
          -6.032244870279868e-09,
          -5.774337286101883e-09,
          -5.51437800977439e-09,
          -5.252459633897644e-09,
          -4.988675028627654e-09,
          -4.723118007810001e-09,
          -4.455882829379476e-09,
          -4.187064528426987e-09,
          -3.916758584132651e-09,
          -3.645060975276948e-09,
          -3.3720683745297464e-09,
          -3.097877648849945e-09,
          -2.8225862758191056e-09,
          -2.5462920383301224e-09,
          -2.2690931356095234e-09,
          -1.991088044439593e-09,
          -1.7123755191583712e-09,
          -1.4330545639040793e-09,
          -1.1532244881262699e-09,
          -8.72984656785647e-10,
          -5.924346707653072e-10,
          -3.1167418992894547e-10,
          -3.080296868268606e-11,
          2.5007919346453633e-10,
          5.308725056774044e-10,
          8.114771979372826e-10,
          1.0917935722165595e-09,
          1.3717220415099263e-09,
          1.6511631367732704e-09,
          1.9300176179459783e-09,
          2.208186328234163e-09,
          2.4855704994219963e-09,
          2.7620715437048915e-09,
          3.037591289611896e-09,
          3.3120317322055115e-09,
          3.5852954494153266e-09,
          3.8572853244822625e-09,
          4.127904740247601e-09,
          4.3970574958862585e-09,
          4.664648001195815e-09,
          4.930581221085362e-09,
          5.194762620064353e-09,
          5.4570983287760555e-09,
          5.717495143997553e-09,
          5.975860584150894e-09,
          6.2321028337919415e-09,
          6.4861307991215256e-09,
          6.737854330030046e-09,
          6.987183942541719e-09,
          7.2340309298368766e-09,
          7.478307806341178e-09,
          7.719927697102946e-09,
          7.958804726371227e-09,
          8.194854017595787e-09,
          8.427991637915966e-09,
          8.658134764694125e-09,
          8.885201907560258e-09,
          9.109112020233567e-09,
          9.329785832790094e-09,
          9.547144741439695e-09,
          9.761111585682158e-09,
          9.9716104262626e-09,
          1.0178566323126859e-08,
          1.0381905890533005e-08,
          1.0581556852962137e-08,
          1.0777448156140679e-08,
          1.0969510300107288e-08,
          1.115767500614595e-08,
          1.1341875438830584e-08,
          1.1522046317047341e-08,
          1.169812313683849e-08,
          1.1870043836736954e-08,
          1.203774735447638e-08,
          1.2201173626991135e-08,
          1.2360265033706241e-08,
          1.2514964953247443e-08,
          1.2665218318552718e-08,
          1.2810971727894582e-08,
          1.2952173444880088e-08,
          1.3088773287428523e-08,
          1.3220722960838316e-08,
          1.3347975169608617e-08,
          1.3470485060729231e-08,
          1.358820889141299e-08,
          1.370110469522956e-08,
          1.3809132948239267e-08,
          1.3912254681613945e-08,
          1.4010433369016084e-08,
          1.4103634260465014e-08,
          1.4191824271314601e-08,
          1.4274971982253248e-08,
          1.43530478613485e-08,
          1.4426023930980136e-08,
          1.4493874767040893e-08,
          1.4556575944624228e-08,
          1.461410525926965e-08,
          1.4666442393895807e-08,
          1.4713568585733583e-08,
          1.4755466848370702e-08,
          1.479212263788554e-08,
          1.4823522964668712e-08,
          1.4849656504445363e-08,
          1.4870514042364391e-08,
          1.488608813993153e-08,
          1.489637335705396e-08,
          1.4901365918973397e-08,
          1.4901064160355304e-08,
          1.4895468081199681e-08,
          1.488457956888567e-08,
          1.4868402731238461e-08,
          1.4846943341417784e-08,
          1.4820208615873298e-08,
          1.478820876865683e-08,
          1.4750954457909415e-08,
          1.4708459117329653e-08,
          1.4660738179017585e-08,
          1.460780829631858e-08,
          1.4549688120979454e-08,
          1.448639863621537e-08,
          1.4417962379553728e-08,
          1.4344403220789559e-08,
          1.426574769425315e-08,
          1.4182023777564723e-08,
          1.4093260780612127e-08,
          1.3999490566796169e-08,
          1.3900746442807588e-08,
          1.3797063491693962e-08,
          1.3688478461837406e-08,
          1.3575030100021479e-08,
          1.3456758485297371e-08,
          1.3333705584095412e-08,
          1.3205915361247378e-08,
          1.3073433335897278e-08,
          1.2936306248434448e-08,
          1.2794583059694276e-08,
          1.2648313729712868e-08,
          1.2497550883061592e-08,
          1.2342347477378723e-08,
          1.218275891279319e-08,
          1.2018841810679248e-08,
          1.1850654679790296e-08,
          1.1678257028080452e-08,
          1.1501710139860677e-08,
          1.1321076520687257e-08,
          1.1136421007584829e-08,
          1.0947808437578033e-08,
          1.0755306201204462e-08,
          1.0558982799224736e-08,
          1.0358907731600198e-08,
          1.0155152163626724e-08,
          9.947788592867823e-09,
          9.736890627110029e-09,
          9.522532984362897e-09,
          9.304792270015128e-09,
          9.083745644566932e-09,
          8.859471489763848e-09,
          8.632049519619045e-09,
          8.40156078041332e-09,
          8.168086873538982e-09,
          7.931710954700577e-09,
          7.692516956758766e-09,
          7.450589922797235e-09,
          7.206015562033485e-09,
          6.95888102697495e-09,
          6.709274025240575e-09,
          6.457283208138875e-09,
          6.2029982261790906e-09,
          5.946509284981971e-09,
          5.68790758936899e-09,
          5.427285010295435e-09,
          5.164734195872711e-09,
          4.900348293812584e-09,
          4.634221395516391e-09,
          4.366447925452377e-09,
          4.0971230852449025e-09,
          3.826342576118691e-09,
          3.5542025433876745e-09,
          3.280799770744025e-09,
          3.006231347191246e-09,
          2.7305947780664752e-09,
          2.4539880683072113e-09,
          2.1765094726511336e-09,
          1.898257578902829e-09,
          1.6193312246670644e-09,
          1.339829552859939e-09,
          1.0598518174198546e-09,
          7.794975429020745e-10,
          4.9886630243412e-10,
          2.1805782179917799e-10,
          -6.282813095419104e-11,
          -3.436917625498914e-10,
          -6.244332759197668e-10,
          -9.049529459126404e-10,
          -1.1851510745009008e-09,
          -1.4649281371292844e-09,
          -1.7441847133259358e-09,
          -2.022821604663605e-09,
          -2.3007397653707073e-09,
          -2.577840496620354e-09,
          -2.854025349385836e-09,
          -3.1291961799517765e-09,
          -3.403255177669706e-09,
          -3.6761050314915167e-09,
          -3.947648763436007e-09,
          -4.217790006144639e-09,
          -4.486432614303482e-09,
          -4.753481219754718e-09,
          -5.018841009452046e-09,
          -5.2824175589272215e-09,
          -5.544117276379268e-09,
          -5.803847180629873e-09,
          -6.061515012145691e-09,
          -6.31702923303834e-09,
          -6.570299082575559e-09,
          -6.82123452167005e-09,
          -7.069746454924086e-09,
          -7.315746453073757e-09,
          -7.559147197078175e-09,
          -7.799862311586025e-09,
          -8.037806087379806e-09,
          -8.272894147509646e-09,
          -8.505042670137186e-09,
          -8.734169720803209e-09,
          -8.960193365048497e-09,
          -9.183033444770672e-09,
          -9.402611023112684e-09,
          -9.618847718328993e-09,
          -9.831666925030902e-09,
          -1.0040993037030432e-08,
          -1.0246751669384935e-08,
          -1.0448869547374784e-08,
          -1.0647275172637194e-08,
          -1.0841897712943194e-08,
          -1.1032668223442954e-08,
          -1.1219518758487368e-08,
          -1.140238325980647e-08,
          -1.1581196557308715e-08,
          -1.175589492419249e-08,
          -1.1926416632057624e-08,
          -1.2092700840682369e-08,
          -1.2254688597224117e-08,
          -1.2412322392130193e-08,
          -1.256554604811555e-08,
          -1.2714305386296587e-08,
          -1.2858547226990424e-08,
          -1.2998220610960232e-08,
          -1.31332755781699e-08,
          -1.3263664611073978e-08,
          -1.3389340858260823e-08,
          -1.3510260132854057e-08,
          -1.3626379247178022e-08,
          -1.3737657011958504e-08,
          -1.3844053792233524e-08,
          -1.3945531729397942e-08,
          -1.4042055074270365e-08,
          -1.4133589187892426e-08,
          -1.4220101984818712e-08,
          -1.430156226778223e-08,
          -1.4377941282006645e-08,
          -1.444921171600555e-08,
          -1.451534858976089e-08,
          -1.4576328255522242e-08,
          -1.4632128952918322e-08,
          -1.4682730919979292e-08,
          -1.4728116282114456e-08,
          -1.476826860802305e-08,
          -1.4803173908894962e-08,
          -1.483281986125462e-08,
          -1.4857195695938685e-08,
          -1.4876292753207565e-08,
          -1.4890104482745414e-08,
          -1.4898625666504017e-08,
          -1.4901853639948115e-08,
          -1.4899787070810078e-08,
          -1.4892426403179115e-08,
          -1.4879774634657394e-08,
          -1.4861836206137014e-08,
          -1.4838617445889213e-08,
          -1.4810126569564375e-08,
          -1.4776373791214326e-08,
          -1.4737370990225429e-08,
          -1.4693132044385493e-08,
          -1.4643672718861467e-08,
          -1.458901055517714e-08,
          -1.4529165093257745e-08,
          -1.4464157205296146e-08,
          -1.4394010428020465e-08,
          -1.4318749630426453e-08,
          -1.4238401235822096e-08,
          -1.4152994443072942e-08,
          -1.4062558784111445e-08,
          -1.3967126788472228e-08,
          -1.3866732428979844e-08,
          -1.3761411232771081e-08,
          -1.3651200836406474e-08,
          -1.3536139986669582e-08,
          -1.3416269761812316e-08,
          -1.3291633016443427e-08,
          -1.316227371539469e-08,
          -1.3028237932921627e-08,
          -1.2889573297591994e-08,
          -1.2746329214330387e-08,
          -1.259855630930673e-08,
          -1.2446306985047784e-08,
          -1.2289635753504058e-08,
          -1.2128598125826784e-08,
          -1.1963251056457125e-08,
          -1.1793653609259991e-08,
          -1.1619865958323317e-08,
          -1.1441949832047271e-08,
          -1.1259968291099653e-08,
          -1.1073986616594311e-08,
          -1.0884069867600488e-08,
          -1.0690286211811895e-08,
          -1.0492704372033756e-08,
          -1.029139451436123e-08,
          -1.0086428248179402e-08,
          -9.877878293096387e-09,
          -9.665818700987927e-09,
          -9.450324967019696e-09,
          -9.231473585558092e-09,
          -9.009342161192535e-09,
          -8.784009852824681e-09,
          -8.555556707534606e-09,
          -8.324063660580805e-09,
          -8.089613201534007e-09,
          -7.85228859712106e-09,
          -7.61217400224723e-09,
          -7.369355015107715e-09,
          -7.1239175669646215e-09,
          -6.875949087881139e-09,
          -6.625537507520818e-09,
          -6.372772032303686e-09,
          -6.117742312738983e-09,
          -5.860538943025517e-09,
          -5.601253405540518e-09,
          -5.3399777377727276e-09,
          -5.076804809878155e-09,
          -4.811828158146625e-09,
          -4.5451418184683234e-09,
          -4.2768406038895534e-09,
          -4.0070199380792815e-09,
          -3.73577552226223e-09,
          -3.463203807063664e-09,
          -3.1894016594424812e-09,
          -2.9144663071800636e-09,
          -2.6384955054137293e-09,
          -2.3615872313254016e-09,
          -2.0838398784306378e-09,
          -1.8053521733119027e-09,
          -1.5262230229629026e-09,
          -1.2465516258108877e-09,
          -9.664373190609865e-10,
          -6.859796480851443e-10,
          -4.052782415220335e-10,
          -1.244328546451401e-10,
          1.5645674946579424e-10,
          4.372907626282174e-10,
          7.179694130887704e-10,
          9.98392965523287e-10,
          1.278461794762542e-09,
          1.5580764040068473e-09,
          1.8371374282954989e-09,
          2.11554571083461e-09,
          2.393202358508262e-09,
          2.670008714122929e-09,
          2.945866439674205e-09,
          3.220677557980167e-09,
          3.494344313903497e-09,
          3.766769535173964e-09,
          4.037856493610548e-09,
          4.307508794099135e-09,
          4.575630652148277e-09,
          4.84212681062246e-09,
          5.1069026230088355e-09,
          5.369863942394915e-09,
          5.630917343513175e-09,
          5.889970178252213e-09,
          6.146930242589832e-09,
          6.401706387215711e-09,
          6.654208128953343e-09,
          6.904345539737733e-09,
          7.152029912749214e-09,
          7.397173151790781e-09,
          7.639688215377305e-09,
          7.879488950202074e-09,
          8.11649025767025e-09,
          8.35060764980966e-09,
          8.581758192960365e-09,
          8.809859730618541e-09,
          9.03483110548109e-09,
          9.256592381490236e-09,
          9.475064954855839e-09,
          9.690170887921568e-09,
          9.901834130410236e-09,
          1.010997918715617e-08,
          1.0314532339350535e-08,
          1.0515420756362914e-08,
          1.0712573050852825e-08,
          1.0905919278769716e-08,
          1.109539060628606e-08,
          1.1280919864908867e-08,
          1.1462440996368173e-08,
          1.1639889496706246e-08,
          1.1813202749344498e-08,
          1.1982318470771247e-08,
          1.2147177153032374e-08,
          1.230771984328527e-08,
          1.2463889809133377e-08,
          1.2615631095336255e-08,
          1.2762890522211023e-08,
          1.2905615021097105e-08,
          1.304375452093609e-08,
          1.3177259394758778e-08,
          1.3306082458086621e-08,
          1.3430178080753308e-08,
          1.3549501964860156e-08,
          1.3664011699887624e-08,
          1.3773666873717616e-08,
          1.387842818445506e-08,
          1.3978258550650935e-08,
          1.4073122445168451e-08,
          1.4162986339272265e-08,
          1.4247818147516966e-08,
          1.4327587893880889e-08,
          1.4402266934609997e-08,
          1.4471828957418609e-08,
          1.4536249204333274e-08,
          1.4595504804759685e-08,
          1.4649574775482677e-08,
          1.4698439798621621e-08,
          1.4742082554697333e-08,
          1.4780487389565167e-08,
          1.481364075850422e-08,
          1.4841531115195039e-08,
          1.4864148245585795e-08,
          1.4881484378115317e-08,
          1.489353296246776e-08,
          1.490028989081793e-08,
          1.490175294271978e-08,
          1.48979215630618e-08,
          1.4888796751044708e-08,
          1.4874382392449093e-08,
          1.4854683039189354e-08,
          1.4829705907715152e-08,
          1.4799459879810684e-08,
          1.4763955613616986e-08,
          1.4723205654654237e-08,
          1.4677224768888664e-08,
          1.4626029165576426e-08,
          1.4569636941352826e-08,
          1.450806830227691e-08,
          1.4441344897697661e-08,
          1.4369490486387804e-08,
          1.429253082552151e-08,
          1.4210492893518278e-08,
          1.4123406333332866e-08,
          1.4031301565076149e-08,
          1.3934211562371956e-08,
          1.3832170964178658e-08,
          1.372521563069995e-08,
          1.3613384086674785e-08,
          1.3496715633998235e-08,
          1.3375251572966818e-08,
          1.3249035868412307e-08,
          1.311811259618878e-08,
          1.298252827464097e-08,
          1.284233175358196e-08,
          1.2697572104869437e-08,
          1.2548301175918652e-08,
          1.2394572035390183e-08,
          1.2236438862167631e-08,
          1.2073958388647554e-08,
          1.1907188013360326e-08,
          1.1736187133237763e-08,
          1.1561016255434708e-08,
          1.1381737885507448e-08,
          1.1198415750257595e-08,
          1.1011114797732091e-08,
          1.0819901641312413e-08,
          1.0624844226647667e-08,
          1.0426011831654591e-08,
          1.0223475177539854e-08,
          1.0017306095733147e-08,
          9.8075779719764e-09,
          9.594365302234564e-09,
          9.37774380371792e-09,
          9.15779030385977e-09,
          8.934583184405653e-09,
          8.708201604257226e-09,
          8.478726165606076e-09,
          8.246238136777606e-09,
          8.01082022938715e-09,
          7.772556154250765e-09,
          7.53153062138523e-09,
          7.287829062452289e-09,
          7.041538296892469e-09,
          6.792745699257807e-09,
          6.541539587789913e-09,
          6.288009224419966e-09,
          6.032244870279868e-09,
          5.77433717507958e-09,
          5.51437800977439e-09,
          5.252459633897644e-09,
          4.988675028627654e-09,
          4.723118007810001e-09,
          4.455882829379476e-09,
          4.187064528426987e-09,
          3.916758584132651e-09,
          3.6450610030325237e-09,
          3.372068402285322e-09,
          3.097877648849945e-09,
          2.8225863035746812e-09,
          2.546292066085698e-09,
          2.269093163365099e-09,
          1.991088044439593e-09,
          1.7123755052805834e-09,
          1.4330545500262915e-09,
          1.1532244881262699e-09,
          8.72984656785647e-10,
          5.924346707653072e-10,
          3.116741864594985e-10,
          3.080296868268606e-11,
          -2.5007919172981286e-10,
          -5.308725056774044e-10,
          -8.114771909983887e-10,
          -1.0917935722165595e-09,
          -1.3717220415099263e-09,
          -1.6511631367732704e-09,
          -1.9300175901904026e-09,
          -2.208186328234163e-09,
          -2.4855704994219963e-09,
          -2.7620715437048915e-09,
          -3.037591234100745e-09,
          -3.3120317322055115e-09,
          -3.5852954494153266e-09,
          -3.8572853244822625e-09,
          -4.127904740247601e-09,
          -4.39705755139741e-09,
          -4.664648001195815e-09,
          -4.930581221085362e-09,
          -5.194762620064353e-09,
          -5.4570983287760555e-09,
          -5.717495143997553e-09,
          -5.975860584150894e-09,
          -6.232102889303093e-09,
          -6.4861307991215256e-09,
          -6.737854330030046e-09,
          -6.987183887030568e-09,
          -7.2340309298368766e-09,
          -7.478307806341178e-09,
          -7.719927697102946e-09,
          -7.958804615348924e-09,
          -8.194853906573485e-09,
          -8.427991637915966e-09,
          -8.658134764694125e-09,
          -8.885201907560258e-09,
          -9.109112020233567e-09,
          -9.329785832790094e-09,
          -9.547144741439695e-09,
          -9.761111585682158e-09,
          -9.9716104262626e-09,
          -1.0178566323126859e-08,
          -1.0381905890533005e-08,
          -1.0581556852962137e-08,
          -1.0777448156140679e-08,
          -1.0969510300107288e-08,
          -1.115767500614595e-08,
          -1.1341875438830584e-08,
          -1.1522046317047341e-08,
          -1.169812313683849e-08,
          -1.1870043947759257e-08,
          -1.203774735447638e-08,
          -1.2201173626991135e-08,
          -1.2360265033706241e-08,
          -1.2514965064269745e-08,
          -1.2665218318552718e-08,
          -1.281097161687228e-08,
          -1.2952173444880088e-08,
          -1.3088773287428523e-08,
          -1.3220722960838316e-08,
          -1.3347975169608617e-08,
          -1.3470484949706929e-08,
          -1.358820889141299e-08,
          -1.370110469522956e-08,
          -1.3809132948239267e-08,
          -1.3912254570591642e-08,
          -1.4010433257993782e-08,
          -1.4103634260465014e-08,
          -1.4191824271314601e-08,
          -1.4274971982253248e-08,
          -1.43530478613485e-08,
          -1.4426023930980136e-08,
          -1.4493874878063195e-08,
          -1.4556575944624228e-08,
          -1.4614105370291952e-08,
          -1.4666442393895807e-08,
          -1.471356847471128e-08,
          -1.4755466959393004e-08,
          -1.479212263788554e-08,
          -1.4823522964668712e-08,
          -1.4849656615467666e-08,
          -1.4870514153386694e-08,
          -1.488608813993153e-08,
          -1.489637335705396e-08,
          -1.4901365918973397e-08,
          -1.4901064160355304e-08,
          -1.4895468081199681e-08,
          -1.488457956888567e-08,
          -1.4868402731238461e-08,
          -1.4846943341417784e-08,
          -1.48202087268956e-08,
          -1.478820876865683e-08,
          -1.4750954457909415e-08,
          -1.4708459117329653e-08,
          -1.4660738290039887e-08,
          -1.460780829631858e-08,
          -1.4549688232001756e-08,
          -1.448639863621537e-08,
          -1.4417962268531426e-08,
          -1.4344403220789559e-08,
          -1.426574769425315e-08,
          -1.418202366654242e-08,
          -1.4093260780612127e-08,
          -1.3999490566796169e-08,
          -1.3900746331785285e-08,
          -1.3797063491693962e-08,
          -1.3688478350815103e-08,
          -1.3575029988999177e-08,
          -1.3456758374275068e-08,
          -1.3333705584095412e-08,
          -1.320591547226968e-08,
          -1.3073433335897278e-08,
          -1.2936306248434448e-08,
          -1.2794583059694276e-08,
          -1.264831384073517e-08,
          -1.2497550883061592e-08,
          -1.2342347477378723e-08,
          -1.218275891279319e-08,
          -1.2018841810679248e-08,
          -1.1850654790812598e-08,
          -1.1678257028080452e-08,
          -1.1501710139860677e-08,
          -1.1321076631709559e-08,
          -1.1136421007584829e-08,
          -1.0947808437578033e-08,
          -1.0755306201204462e-08,
          -1.0558982799224736e-08,
          -1.0358907731600198e-08,
          -1.0155152163626724e-08,
          -9.947788592867823e-09,
          -9.736890627110029e-09,
          -9.522532984362897e-09,
          -9.30479238103743e-09,
          -9.08374553354463e-09,
          -8.859471489763848e-09,
          -8.632049519619045e-09,
          -8.401560669391017e-09,
          -8.168086873538982e-09,
          -7.931710954700577e-09,
          -7.692517067781068e-09,
          -7.450589811774933e-09,
          -7.206015617544637e-09,
          -6.958880971463799e-09,
          -6.709274025240575e-09,
          -6.4572832636500266e-09,
          -6.2029982261790906e-09,
          -5.946509284981971e-09,
          -5.68790758936899e-09,
          -5.427285010295435e-09,
          -5.164734195872711e-09,
          -4.900348293812584e-09,
          -4.634221395516391e-09,
          -4.366447925452377e-09,
          -4.0971230852449025e-09,
          -3.826342576118691e-09,
          -3.5542025433876745e-09,
          -3.2807997429884495e-09,
          -3.0062313194356705e-09,
          -2.7305947780664752e-09,
          -2.4539880683072113e-09,
          -2.1765094726511336e-09,
          -1.898257578902829e-09,
          -1.6193312246670644e-09,
          -1.339829552859939e-09,
          -1.0598518174198546e-09,
          -7.794975359631806e-10,
          -4.9886630243412e-10,
          -2.1805782179917799e-10,
          6.282813095417965e-11
         ]
        }
       ],
       "layout": {
        "legend": {
         "bgcolor": "#FFFFFF",
         "font": {
          "color": "#4D5663"
         }
        },
        "paper_bgcolor": "#FFFFFF",
        "plot_bgcolor": "#FFFFFF",
        "template": {
         "data": {
          "bar": [
           {
            "error_x": {
             "color": "#2a3f5f"
            },
            "error_y": {
             "color": "#2a3f5f"
            },
            "marker": {
             "line": {
              "color": "#E5ECF6",
              "width": 0.5
             }
            },
            "type": "bar"
           }
          ],
          "barpolar": [
           {
            "marker": {
             "line": {
              "color": "#E5ECF6",
              "width": 0.5
             }
            },
            "type": "barpolar"
           }
          ],
          "carpet": [
           {
            "aaxis": {
             "endlinecolor": "#2a3f5f",
             "gridcolor": "white",
             "linecolor": "white",
             "minorgridcolor": "white",
             "startlinecolor": "#2a3f5f"
            },
            "baxis": {
             "endlinecolor": "#2a3f5f",
             "gridcolor": "white",
             "linecolor": "white",
             "minorgridcolor": "white",
             "startlinecolor": "#2a3f5f"
            },
            "type": "carpet"
           }
          ],
          "choropleth": [
           {
            "colorbar": {
             "outlinewidth": 0,
             "ticks": ""
            },
            "type": "choropleth"
           }
          ],
          "contour": [
           {
            "colorbar": {
             "outlinewidth": 0,
             "ticks": ""
            },
            "colorscale": [
             [
              0,
              "#0d0887"
             ],
             [
              0.1111111111111111,
              "#46039f"
             ],
             [
              0.2222222222222222,
              "#7201a8"
             ],
             [
              0.3333333333333333,
              "#9c179e"
             ],
             [
              0.4444444444444444,
              "#bd3786"
             ],
             [
              0.5555555555555556,
              "#d8576b"
             ],
             [
              0.6666666666666666,
              "#ed7953"
             ],
             [
              0.7777777777777778,
              "#fb9f3a"
             ],
             [
              0.8888888888888888,
              "#fdca26"
             ],
             [
              1,
              "#f0f921"
             ]
            ],
            "type": "contour"
           }
          ],
          "contourcarpet": [
           {
            "colorbar": {
             "outlinewidth": 0,
             "ticks": ""
            },
            "type": "contourcarpet"
           }
          ],
          "heatmap": [
           {
            "colorbar": {
             "outlinewidth": 0,
             "ticks": ""
            },
            "colorscale": [
             [
              0,
              "#0d0887"
             ],
             [
              0.1111111111111111,
              "#46039f"
             ],
             [
              0.2222222222222222,
              "#7201a8"
             ],
             [
              0.3333333333333333,
              "#9c179e"
             ],
             [
              0.4444444444444444,
              "#bd3786"
             ],
             [
              0.5555555555555556,
              "#d8576b"
             ],
             [
              0.6666666666666666,
              "#ed7953"
             ],
             [
              0.7777777777777778,
              "#fb9f3a"
             ],
             [
              0.8888888888888888,
              "#fdca26"
             ],
             [
              1,
              "#f0f921"
             ]
            ],
            "type": "heatmap"
           }
          ],
          "heatmapgl": [
           {
            "colorbar": {
             "outlinewidth": 0,
             "ticks": ""
            },
            "colorscale": [
             [
              0,
              "#0d0887"
             ],
             [
              0.1111111111111111,
              "#46039f"
             ],
             [
              0.2222222222222222,
              "#7201a8"
             ],
             [
              0.3333333333333333,
              "#9c179e"
             ],
             [
              0.4444444444444444,
              "#bd3786"
             ],
             [
              0.5555555555555556,
              "#d8576b"
             ],
             [
              0.6666666666666666,
              "#ed7953"
             ],
             [
              0.7777777777777778,
              "#fb9f3a"
             ],
             [
              0.8888888888888888,
              "#fdca26"
             ],
             [
              1,
              "#f0f921"
             ]
            ],
            "type": "heatmapgl"
           }
          ],
          "histogram": [
           {
            "marker": {
             "colorbar": {
              "outlinewidth": 0,
              "ticks": ""
             }
            },
            "type": "histogram"
           }
          ],
          "histogram2d": [
           {
            "colorbar": {
             "outlinewidth": 0,
             "ticks": ""
            },
            "colorscale": [
             [
              0,
              "#0d0887"
             ],
             [
              0.1111111111111111,
              "#46039f"
             ],
             [
              0.2222222222222222,
              "#7201a8"
             ],
             [
              0.3333333333333333,
              "#9c179e"
             ],
             [
              0.4444444444444444,
              "#bd3786"
             ],
             [
              0.5555555555555556,
              "#d8576b"
             ],
             [
              0.6666666666666666,
              "#ed7953"
             ],
             [
              0.7777777777777778,
              "#fb9f3a"
             ],
             [
              0.8888888888888888,
              "#fdca26"
             ],
             [
              1,
              "#f0f921"
             ]
            ],
            "type": "histogram2d"
           }
          ],
          "histogram2dcontour": [
           {
            "colorbar": {
             "outlinewidth": 0,
             "ticks": ""
            },
            "colorscale": [
             [
              0,
              "#0d0887"
             ],
             [
              0.1111111111111111,
              "#46039f"
             ],
             [
              0.2222222222222222,
              "#7201a8"
             ],
             [
              0.3333333333333333,
              "#9c179e"
             ],
             [
              0.4444444444444444,
              "#bd3786"
             ],
             [
              0.5555555555555556,
              "#d8576b"
             ],
             [
              0.6666666666666666,
              "#ed7953"
             ],
             [
              0.7777777777777778,
              "#fb9f3a"
             ],
             [
              0.8888888888888888,
              "#fdca26"
             ],
             [
              1,
              "#f0f921"
             ]
            ],
            "type": "histogram2dcontour"
           }
          ],
          "mesh3d": [
           {
            "colorbar": {
             "outlinewidth": 0,
             "ticks": ""
            },
            "type": "mesh3d"
           }
          ],
          "parcoords": [
           {
            "line": {
             "colorbar": {
              "outlinewidth": 0,
              "ticks": ""
             }
            },
            "type": "parcoords"
           }
          ],
          "scatter": [
           {
            "marker": {
             "colorbar": {
              "outlinewidth": 0,
              "ticks": ""
             }
            },
            "type": "scatter"
           }
          ],
          "scatter3d": [
           {
            "line": {
             "colorbar": {
              "outlinewidth": 0,
              "ticks": ""
             }
            },
            "marker": {
             "colorbar": {
              "outlinewidth": 0,
              "ticks": ""
             }
            },
            "type": "scatter3d"
           }
          ],
          "scattercarpet": [
           {
            "marker": {
             "colorbar": {
              "outlinewidth": 0,
              "ticks": ""
             }
            },
            "type": "scattercarpet"
           }
          ],
          "scattergeo": [
           {
            "marker": {
             "colorbar": {
              "outlinewidth": 0,
              "ticks": ""
             }
            },
            "type": "scattergeo"
           }
          ],
          "scattergl": [
           {
            "marker": {
             "colorbar": {
              "outlinewidth": 0,
              "ticks": ""
             }
            },
            "type": "scattergl"
           }
          ],
          "scattermapbox": [
           {
            "marker": {
             "colorbar": {
              "outlinewidth": 0,
              "ticks": ""
             }
            },
            "type": "scattermapbox"
           }
          ],
          "scatterpolar": [
           {
            "marker": {
             "colorbar": {
              "outlinewidth": 0,
              "ticks": ""
             }
            },
            "type": "scatterpolar"
           }
          ],
          "scatterpolargl": [
           {
            "marker": {
             "colorbar": {
              "outlinewidth": 0,
              "ticks": ""
             }
            },
            "type": "scatterpolargl"
           }
          ],
          "scatterternary": [
           {
            "marker": {
             "colorbar": {
              "outlinewidth": 0,
              "ticks": ""
             }
            },
            "type": "scatterternary"
           }
          ],
          "surface": [
           {
            "colorbar": {
             "outlinewidth": 0,
             "ticks": ""
            },
            "colorscale": [
             [
              0,
              "#0d0887"
             ],
             [
              0.1111111111111111,
              "#46039f"
             ],
             [
              0.2222222222222222,
              "#7201a8"
             ],
             [
              0.3333333333333333,
              "#9c179e"
             ],
             [
              0.4444444444444444,
              "#bd3786"
             ],
             [
              0.5555555555555556,
              "#d8576b"
             ],
             [
              0.6666666666666666,
              "#ed7953"
             ],
             [
              0.7777777777777778,
              "#fb9f3a"
             ],
             [
              0.8888888888888888,
              "#fdca26"
             ],
             [
              1,
              "#f0f921"
             ]
            ],
            "type": "surface"
           }
          ],
          "table": [
           {
            "cells": {
             "fill": {
              "color": "#EBF0F8"
             },
             "line": {
              "color": "white"
             }
            },
            "header": {
             "fill": {
              "color": "#C8D4E3"
             },
             "line": {
              "color": "white"
             }
            },
            "type": "table"
           }
          ]
         },
         "layout": {
          "annotationdefaults": {
           "arrowcolor": "#2a3f5f",
           "arrowhead": 0,
           "arrowwidth": 1
          },
          "colorscale": {
           "diverging": [
            [
             0,
             "#8e0152"
            ],
            [
             0.1,
             "#c51b7d"
            ],
            [
             0.2,
             "#de77ae"
            ],
            [
             0.3,
             "#f1b6da"
            ],
            [
             0.4,
             "#fde0ef"
            ],
            [
             0.5,
             "#f7f7f7"
            ],
            [
             0.6,
             "#e6f5d0"
            ],
            [
             0.7,
             "#b8e186"
            ],
            [
             0.8,
             "#7fbc41"
            ],
            [
             0.9,
             "#4d9221"
            ],
            [
             1,
             "#276419"
            ]
           ],
           "sequential": [
            [
             0,
             "#0d0887"
            ],
            [
             0.1111111111111111,
             "#46039f"
            ],
            [
             0.2222222222222222,
             "#7201a8"
            ],
            [
             0.3333333333333333,
             "#9c179e"
            ],
            [
             0.4444444444444444,
             "#bd3786"
            ],
            [
             0.5555555555555556,
             "#d8576b"
            ],
            [
             0.6666666666666666,
             "#ed7953"
            ],
            [
             0.7777777777777778,
             "#fb9f3a"
            ],
            [
             0.8888888888888888,
             "#fdca26"
            ],
            [
             1,
             "#f0f921"
            ]
           ],
           "sequentialminus": [
            [
             0,
             "#0d0887"
            ],
            [
             0.1111111111111111,
             "#46039f"
            ],
            [
             0.2222222222222222,
             "#7201a8"
            ],
            [
             0.3333333333333333,
             "#9c179e"
            ],
            [
             0.4444444444444444,
             "#bd3786"
            ],
            [
             0.5555555555555556,
             "#d8576b"
            ],
            [
             0.6666666666666666,
             "#ed7953"
            ],
            [
             0.7777777777777778,
             "#fb9f3a"
            ],
            [
             0.8888888888888888,
             "#fdca26"
            ],
            [
             1,
             "#f0f921"
            ]
           ]
          },
          "colorway": [
           "#636efa",
           "#EF553B",
           "#00cc96",
           "#ab63fa",
           "#FFA15A",
           "#19d3f3",
           "#FF6692",
           "#B6E880",
           "#FF97FF",
           "#FECB52"
          ],
          "font": {
           "color": "#2a3f5f"
          },
          "geo": {
           "bgcolor": "white",
           "lakecolor": "white",
           "landcolor": "#E5ECF6",
           "showlakes": true,
           "showland": true,
           "subunitcolor": "white"
          },
          "hoverlabel": {
           "align": "left"
          },
          "hovermode": "closest",
          "mapbox": {
           "style": "light"
          },
          "paper_bgcolor": "white",
          "plot_bgcolor": "#E5ECF6",
          "polar": {
           "angularaxis": {
            "gridcolor": "white",
            "linecolor": "white",
            "ticks": ""
           },
           "bgcolor": "#E5ECF6",
           "radialaxis": {
            "gridcolor": "white",
            "linecolor": "white",
            "ticks": ""
           }
          },
          "scene": {
           "xaxis": {
            "backgroundcolor": "#E5ECF6",
            "gridcolor": "white",
            "gridwidth": 2,
            "linecolor": "white",
            "showbackground": true,
            "ticks": "",
            "zerolinecolor": "white"
           },
           "yaxis": {
            "backgroundcolor": "#E5ECF6",
            "gridcolor": "white",
            "gridwidth": 2,
            "linecolor": "white",
            "showbackground": true,
            "ticks": "",
            "zerolinecolor": "white"
           },
           "zaxis": {
            "backgroundcolor": "#E5ECF6",
            "gridcolor": "white",
            "gridwidth": 2,
            "linecolor": "white",
            "showbackground": true,
            "ticks": "",
            "zerolinecolor": "white"
           }
          },
          "shapedefaults": {
           "line": {
            "color": "#2a3f5f"
           }
          },
          "ternary": {
           "aaxis": {
            "gridcolor": "white",
            "linecolor": "white",
            "ticks": ""
           },
           "baxis": {
            "gridcolor": "white",
            "linecolor": "white",
            "ticks": ""
           },
           "bgcolor": "#E5ECF6",
           "caxis": {
            "gridcolor": "white",
            "linecolor": "white",
            "ticks": ""
           }
          },
          "title": {
           "x": 0.05
          },
          "xaxis": {
           "automargin": true,
           "gridcolor": "white",
           "linecolor": "white",
           "ticks": "",
           "zerolinecolor": "white",
           "zerolinewidth": 2
          },
          "yaxis": {
           "automargin": true,
           "gridcolor": "white",
           "linecolor": "white",
           "ticks": "",
           "zerolinecolor": "white",
           "zerolinewidth": 2
          }
         }
        },
        "title": {
         "font": {
          "color": "#4D5663"
         },
         "text": "Output"
        },
        "xaxis": {
         "gridcolor": "#E1E5ED",
         "showgrid": true,
         "tickfont": {
          "color": "#4D5663"
         },
         "title": {
          "font": {
           "color": "#4D5663"
          },
          "text": "Tout"
         },
         "zerolinecolor": "#E1E5ED"
        },
        "yaxis": {
         "gridcolor": "#E1E5ED",
         "showgrid": true,
         "tickfont": {
          "color": "#4D5663"
         },
         "title": {
          "font": {
           "color": "#4D5663"
          },
          "text": "yout"
         },
         "zerolinecolor": "#E1E5ED"
        }
       }
      },
      "text/html": [
       "<div>\n",
       "        \n",
       "        \n",
       "            <div id=\"fb450bb4-401f-434d-9b81-949872417073\" class=\"plotly-graph-div\" style=\"height:525px; width:100%;\"></div>\n",
       "            <script type=\"text/javascript\">\n",
       "                require([\"plotly\"], function(Plotly) {\n",
       "                    window.PLOTLYENV=window.PLOTLYENV || {};\n",
       "                    window.PLOTLYENV.BASE_URL='https://plot.ly';\n",
       "                    \n",
       "                if (document.getElementById(\"fb450bb4-401f-434d-9b81-949872417073\")) {\n",
       "                    Plotly.newPlot(\n",
       "                        'fb450bb4-401f-434d-9b81-949872417073',\n",
       "                        [{\"line\": {\"color\": \"rgba(255, 153, 51, 1.0)\", \"dash\": \"solid\", \"shape\": \"linear\", \"width\": 1.3}, \"mode\": \"lines\", \"name\": \"0\", \"text\": \"\", \"type\": \"scatter\", \"x\": [0.0, 3.0, 6.0, 9.0, 12.0, 15.0, 18.0, 21.0, 24.0, 27.0, 30.0, 33.0, 36.0, 39.0, 42.0, 45.0, 48.0, 51.0, 54.0, 57.0, 60.0, 63.0, 66.0, 69.0, 72.0, 75.0, 78.0, 81.0, 84.0, 87.0, 90.0, 93.0, 96.0, 99.0, 102.0, 105.0, 108.0, 111.0, 114.0, 117.0, 120.0, 123.0, 126.0, 129.0, 132.0, 135.0, 138.0, 141.0, 144.0, 147.0, 150.0, 153.0, 156.0, 159.0, 162.0, 165.0, 168.0, 171.0, 174.0, 177.0, 180.0, 183.0, 186.0, 189.0, 192.0, 195.0, 198.0, 201.0, 204.0, 207.0, 210.0, 213.0, 216.0, 219.0, 222.0, 225.0, 228.0, 231.0, 234.0, 237.0, 240.0, 243.0, 246.0, 249.0, 252.0, 255.0, 258.0, 261.0, 264.0, 267.0, 270.0, 273.0, 276.0, 279.0, 282.0, 285.0, 288.0, 291.0, 294.0, 297.0, 300.0, 303.0, 306.0, 309.0, 312.0, 315.0, 318.0, 321.0, 324.0, 327.0, 330.0, 333.0, 336.0, 339.0, 342.0, 345.0, 348.0, 351.0, 354.0, 357.0, 360.0, 363.0, 366.0, 369.0, 372.0, 375.0, 378.0, 381.0, 384.0, 387.0, 390.0, 393.0, 396.0, 399.0, 402.0, 405.0, 408.0, 411.0, 414.0, 417.0, 420.0, 423.0, 426.0, 429.0, 432.0, 435.0, 438.0, 441.0, 444.0, 447.0, 450.0, 453.0, 456.0, 459.0, 462.0, 465.0, 468.0, 471.0, 474.0, 477.0, 480.0, 483.0, 486.0, 489.0, 492.0, 495.0, 498.0, 501.0, 504.0, 507.0, 510.0, 513.0, 516.0, 519.0, 522.0, 525.0, 528.0, 531.0, 534.0, 537.0, 540.0, 543.0, 546.0, 549.0, 552.0, 555.0, 558.0, 561.0, 564.0, 567.0, 570.0, 573.0, 576.0, 579.0, 582.0, 585.0, 588.0, 591.0, 594.0, 597.0, 600.0, 603.0, 606.0, 609.0, 612.0, 615.0, 618.0, 621.0, 624.0, 627.0, 630.0, 633.0, 636.0, 639.0, 642.0, 645.0, 648.0, 651.0, 654.0, 657.0, 660.0, 663.0, 666.0, 669.0, 672.0, 675.0, 678.0, 681.0, 684.0, 687.0, 690.0, 693.0, 696.0, 699.0, 702.0, 705.0, 708.0, 711.0, 714.0, 717.0, 720.0, 723.0, 726.0, 729.0, 732.0, 735.0, 738.0, 741.0, 744.0, 747.0, 750.0, 753.0, 756.0, 759.0, 762.0, 765.0, 768.0, 771.0, 774.0, 777.0, 780.0, 783.0, 786.0, 789.0, 792.0, 795.0, 798.0, 801.0, 804.0, 807.0, 810.0, 813.0, 816.0, 819.0, 822.0, 825.0, 828.0, 831.0, 834.0, 837.0, 840.0, 843.0, 846.0, 849.0, 852.0, 855.0, 858.0, 861.0, 864.0, 867.0, 870.0, 873.0, 876.0, 879.0, 882.0, 885.0, 888.0, 891.0, 894.0, 897.0, 900.0, 903.0, 906.0, 909.0, 912.0, 915.0, 918.0, 921.0, 924.0, 927.0, 930.0, 933.0, 936.0, 939.0, 942.0, 945.0, 948.0, 951.0, 954.0, 957.0, 960.0, 963.0, 966.0, 969.0, 972.0, 975.0, 978.0, 981.0, 984.0, 987.0, 990.0, 993.0, 996.0, 999.0, 1002.0, 1005.0, 1008.0, 1011.0, 1014.0, 1017.0, 1020.0, 1023.0, 1026.0, 1029.0, 1032.0, 1035.0, 1038.0, 1041.0, 1044.0, 1047.0, 1050.0, 1053.0, 1056.0, 1059.0, 1062.0, 1065.0, 1068.0, 1071.0, 1074.0, 1077.0, 1080.0, 1083.0, 1086.0, 1089.0, 1092.0, 1095.0, 1098.0, 1101.0, 1104.0, 1107.0, 1110.0, 1113.0, 1116.0, 1119.0, 1122.0, 1125.0, 1128.0, 1131.0, 1134.0, 1137.0, 1140.0, 1143.0, 1146.0, 1149.0, 1152.0, 1155.0, 1158.0, 1161.0, 1164.0, 1167.0, 1170.0, 1173.0, 1176.0, 1179.0, 1182.0, 1185.0, 1188.0, 1191.0, 1194.0, 1197.0, 1200.0, 1203.0, 1206.0, 1209.0, 1212.0, 1215.0, 1218.0, 1221.0, 1224.0, 1227.0, 1230.0, 1233.0, 1236.0, 1239.0, 1242.0, 1245.0, 1248.0, 1251.0, 1254.0, 1257.0, 1260.0, 1263.0, 1266.0, 1269.0, 1272.0, 1275.0, 1278.0, 1281.0, 1284.0, 1287.0, 1290.0, 1293.0, 1296.0, 1299.0, 1302.0, 1305.0, 1308.0, 1311.0, 1314.0, 1317.0, 1320.0, 1323.0, 1326.0, 1329.0, 1332.0, 1335.0, 1338.0, 1341.0, 1344.0, 1347.0, 1350.0, 1353.0, 1356.0, 1359.0, 1362.0, 1365.0, 1368.0, 1371.0, 1374.0, 1377.0, 1380.0, 1383.0, 1386.0, 1389.0, 1392.0, 1395.0, 1398.0, 1401.0, 1404.0, 1407.0, 1410.0, 1413.0, 1416.0, 1419.0, 1422.0, 1425.0, 1428.0, 1431.0, 1434.0, 1437.0, 1440.0, 1443.0, 1446.0, 1449.0, 1452.0, 1455.0, 1458.0, 1461.0, 1464.0, 1467.0, 1470.0, 1473.0, 1476.0, 1479.0, 1482.0, 1485.0, 1488.0, 1491.0, 1494.0, 1497.0, 1500.0, 1503.0, 1506.0, 1509.0, 1512.0, 1515.0, 1518.0, 1521.0, 1524.0, 1527.0, 1530.0, 1533.0, 1536.0, 1539.0, 1542.0, 1545.0, 1548.0, 1551.0, 1554.0, 1557.0, 1560.0, 1563.0, 1566.0, 1569.0, 1572.0, 1575.0, 1578.0, 1581.0, 1584.0, 1587.0, 1590.0, 1593.0, 1596.0, 1599.0, 1602.0, 1605.0, 1608.0, 1611.0, 1614.0, 1617.0, 1620.0, 1623.0, 1626.0, 1629.0, 1632.0, 1635.0, 1638.0, 1641.0, 1644.0, 1647.0, 1650.0, 1653.0, 1656.0, 1659.0, 1662.0, 1665.0, 1668.0, 1671.0, 1674.0, 1677.0, 1680.0, 1683.0, 1686.0, 1689.0, 1692.0, 1695.0, 1698.0, 1701.0, 1704.0, 1707.0, 1710.0, 1713.0, 1716.0, 1719.0, 1722.0, 1725.0, 1728.0, 1731.0, 1734.0, 1737.0, 1740.0, 1743.0, 1746.0, 1749.0, 1752.0, 1755.0, 1758.0, 1761.0, 1764.0, 1767.0, 1770.0, 1773.0, 1776.0, 1779.0, 1782.0, 1785.0, 1788.0, 1791.0, 1794.0, 1797.0, 1800.0, 1803.0, 1806.0, 1809.0, 1812.0, 1815.0, 1818.0, 1821.0, 1824.0, 1827.0, 1830.0, 1833.0, 1836.0, 1839.0, 1842.0, 1845.0, 1848.0, 1851.0, 1854.0, 1857.0, 1860.0, 1863.0, 1866.0, 1869.0, 1872.0, 1875.0, 1878.0, 1881.0, 1884.0, 1887.0, 1890.0, 1893.0, 1896.0, 1899.0, 1902.0, 1905.0, 1908.0, 1911.0, 1914.0, 1917.0, 1920.0, 1923.0, 1926.0, 1929.0, 1932.0, 1935.0, 1938.0, 1941.0, 1944.0, 1947.0, 1950.0, 1953.0, 1956.0, 1959.0, 1962.0, 1965.0, 1968.0, 1971.0, 1974.0, 1977.0, 1980.0, 1983.0, 1986.0, 1989.0, 1992.0, 1995.0, 1998.0, 2001.0, 2004.0, 2007.0, 2010.0, 2013.0, 2016.0, 2019.0, 2022.0, 2025.0, 2028.0, 2031.0, 2034.0, 2037.0, 2040.0, 2043.0, 2046.0, 2049.0, 2052.0, 2055.0, 2058.0, 2061.0, 2064.0, 2067.0, 2070.0, 2073.0, 2076.0, 2079.0, 2082.0, 2085.0, 2088.0, 2091.0, 2094.0, 2097.0, 2100.0, 2103.0, 2106.0, 2109.0, 2112.0, 2115.0, 2118.0, 2121.0, 2124.0, 2127.0, 2130.0, 2133.0, 2136.0, 2139.0, 2142.0, 2145.0, 2148.0, 2151.0, 2154.0, 2157.0, 2160.0, 2163.0, 2166.0, 2169.0, 2172.0, 2175.0, 2178.0, 2181.0, 2184.0, 2187.0, 2190.0, 2193.0, 2196.0, 2199.0, 2202.0, 2205.0, 2208.0, 2211.0, 2214.0, 2217.0, 2220.0, 2223.0, 2226.0, 2229.0, 2232.0, 2235.0, 2238.0, 2241.0, 2244.0, 2247.0, 2250.0, 2253.0, 2256.0, 2259.0, 2262.0, 2265.0, 2268.0, 2271.0, 2274.0, 2277.0, 2280.0, 2283.0, 2286.0, 2289.0, 2292.0, 2295.0, 2298.0, 2301.0, 2304.0, 2307.0, 2310.0, 2313.0, 2316.0, 2319.0, 2322.0, 2325.0, 2328.0, 2331.0, 2334.0, 2337.0, 2340.0, 2343.0, 2346.0, 2349.0, 2352.0, 2355.0, 2358.0, 2361.0, 2364.0, 2367.0, 2370.0, 2373.0, 2376.0, 2379.0, 2382.0, 2385.0, 2388.0, 2391.0, 2394.0, 2397.0, 2400.0, 2403.0, 2406.0, 2409.0, 2412.0, 2415.0, 2418.0, 2421.0, 2424.0, 2427.0, 2430.0, 2433.0, 2436.0, 2439.0, 2442.0, 2445.0, 2448.0, 2451.0, 2454.0, 2457.0, 2460.0, 2463.0, 2466.0, 2469.0, 2472.0, 2475.0, 2478.0, 2481.0, 2484.0, 2487.0, 2490.0, 2493.0, 2496.0, 2499.0, 2502.0, 2505.0, 2508.0, 2511.0, 2514.0, 2517.0, 2520.0, 2523.0, 2526.0, 2529.0, 2532.0, 2535.0, 2538.0, 2541.0, 2544.0, 2547.0, 2550.0, 2553.0, 2556.0, 2559.0, 2562.0, 2565.0, 2568.0, 2571.0, 2574.0, 2577.0, 2580.0, 2583.0, 2586.0, 2589.0, 2592.0, 2595.0, 2598.0, 2601.0, 2604.0, 2607.0, 2610.0, 2613.0, 2616.0, 2619.0, 2622.0, 2625.0, 2628.0, 2631.0, 2634.0, 2637.0, 2640.0, 2643.0, 2646.0, 2649.0, 2652.0, 2655.0, 2658.0, 2661.0, 2664.0, 2667.0, 2670.0, 2673.0, 2676.0, 2679.0, 2682.0, 2685.0, 2688.0, 2691.0, 2694.0, 2697.0, 2700.0, 2703.0, 2706.0, 2709.0, 2712.0, 2715.0, 2718.0, 2721.0, 2724.0, 2727.0, 2730.0, 2733.0, 2736.0, 2739.0, 2742.0, 2745.0, 2748.0, 2751.0, 2754.0, 2757.0, 2760.0, 2763.0, 2766.0, 2769.0, 2772.0, 2775.0, 2778.0, 2781.0, 2784.0, 2787.0, 2790.0, 2793.0, 2796.0, 2799.0, 2802.0, 2805.0, 2808.0, 2811.0, 2814.0, 2817.0, 2820.0, 2823.0, 2826.0, 2829.0, 2832.0, 2835.0, 2838.0, 2841.0, 2844.0, 2847.0, 2850.0, 2853.0, 2856.0, 2859.0, 2862.0, 2865.0, 2868.0, 2871.0, 2874.0, 2877.0, 2880.0, 2883.0, 2886.0, 2889.0, 2892.0, 2895.0, 2898.0, 2901.0, 2904.0, 2907.0, 2910.0, 2913.0, 2916.0, 2919.0, 2922.0, 2925.0, 2928.0, 2931.0, 2934.0, 2937.0, 2940.0, 2943.0, 2946.0, 2949.0, 2952.0, 2955.0, 2958.0, 2961.0, 2964.0, 2967.0, 2970.0, 2973.0, 2976.0, 2979.0, 2982.0, 2985.0, 2988.0, 2991.0, 2994.0, 2997.0, 3000.0], \"y\": [0.0, 3.436917625498914e-10, 6.244332759197668e-10, 9.049529459126404e-10, 1.1851510883786887e-09, 1.4649281371292844e-09, 1.7441847133259358e-09, 2.022821604663605e-09, 2.3007397376151317e-09, 2.577840496620354e-09, 2.854025349385836e-09, 3.129196152196201e-09, 3.4032551499141306e-09, 3.6761050592470923e-09, 3.947648818947158e-09, 4.217790006144639e-09, 4.486432614303482e-09, 4.753481219754718e-09, 5.018841009452046e-09, 5.2824175589272215e-09, 5.544117220868117e-09, 5.803847180629873e-09, 6.061515067656842e-09, 6.31702923303834e-09, 6.570299082575559e-09, 6.821234577181201e-09, 7.069746399412935e-09, 7.315746453073757e-09, 7.559147197078175e-09, 7.799862311586025e-09, 8.037806087379806e-09, 8.272894036487344e-09, 8.505042781159489e-09, 8.734169720803209e-09, 8.960193365048497e-09, 9.183033444770672e-09, 9.402610912090381e-09, 9.618847718328993e-09, 9.831666925030902e-09, 1.0040993037030432e-08, 1.0246751669384935e-08, 1.0448869547374784e-08, 1.0647275172637194e-08, 1.0841897712943194e-08, 1.1032668223442954e-08, 1.121951886950967e-08, 1.1402383370828773e-08, 1.1581196557308715e-08, 1.1755894813170187e-08, 1.1926416743079926e-08, 1.2092700951704671e-08, 1.2254688597224117e-08, 1.2412322392130193e-08, 1.256554604811555e-08, 1.2714305275274285e-08, 1.2858547226990424e-08, 1.2998220499937929e-08, 1.3133275689192203e-08, 1.3263664500051675e-08, 1.3389340969283126e-08, 1.3510260021831755e-08, 1.3626379247178022e-08, 1.3737657011958504e-08, 1.3844053792233524e-08, 1.3945531729397942e-08, 1.4042055185292668e-08, 1.4133589187892426e-08, 1.4220101984818712e-08, 1.430156226778223e-08, 1.4377941170984343e-08, 1.444921171600555e-08, 1.451534858976089e-08, 1.4576328255522242e-08, 1.463212884189602e-08, 1.4682730919979292e-08, 1.4728116282114456e-08, 1.4768268719045352e-08, 1.4803173908894962e-08, 1.483281986125462e-08, 1.4857195695938685e-08, 1.4876292753207565e-08, 1.4890104482745414e-08, 1.4898625666504017e-08, 1.4901853639948115e-08, 1.4899787070810078e-08, 1.4892426403179115e-08, 1.4879774634657394e-08, 1.4861836317159316e-08, 1.4838617445889213e-08, 1.4810126569564375e-08, 1.4776373680192023e-08, 1.4737370990225429e-08, 1.4693132044385493e-08, 1.4643672718861467e-08, 1.4589010666199442e-08, 1.4529165093257745e-08, 1.4464157205296146e-08, 1.4394010428020465e-08, 1.4318749630426453e-08, 1.4238401346844398e-08, 1.4152994443072942e-08, 1.4062558673089143e-08, 1.3967126788472228e-08, 1.3866732428979844e-08, 1.3761411232771081e-08, 1.3651200836406474e-08, 1.353613987564728e-08, 1.3416269761812316e-08, 1.329163312746573e-08, 1.3162273826416993e-08, 1.3028237932921627e-08, 1.2889573297591994e-08, 1.2746329103308085e-08, 1.2598556198284427e-08, 1.2446306985047784e-08, 1.228963586452636e-08, 1.2128598125826784e-08, 1.1963251167479427e-08, 1.1793653609259991e-08, 1.1619866069345619e-08, 1.1441949943069574e-08, 1.1259968402121956e-08, 1.1073986616594311e-08, 1.0884069867600488e-08, 1.0690286322834197e-08, 1.0492704372033756e-08, 1.0291394625383532e-08, 1.0086428248179402e-08, 9.877878182074085e-09, 9.665818700987927e-09, 9.450324967019696e-09, 9.23147347453579e-09, 9.009342272214838e-09, 8.784009852824681e-09, 8.555556707534606e-09, 8.324063771603107e-09, 8.089613201534007e-09, 7.85228859712106e-09, 7.612174113269532e-09, 7.3693549595965635e-09, 7.1239175669646215e-09, 6.875949087881139e-09, 6.625537507520818e-09, 6.372772032303686e-09, 6.117742312738983e-09, 5.860538887514366e-09, 5.6012534610516695e-09, 5.3399777377727276e-09, 5.076804809878155e-09, 4.811828102635474e-09, 4.5451418184683234e-09, 4.276840659400705e-09, 4.00701988256813e-09, 3.73577552226223e-09, 3.4632038348192395e-09, 3.1894016594424812e-09, 2.9144663349356392e-09, 2.6384955054137293e-09, 2.3615872313254016e-09, 2.0838398784306378e-09, 1.8053521733119027e-09, 1.5262230229629026e-09, 1.2465516258108877e-09, 9.664373190609865e-10, 6.859796411462504e-10, 4.052782484609274e-10, 1.244328546451401e-10, -1.5645674946579424e-10, -4.372907626282174e-10, -7.179694061498765e-10, -9.98392965523287e-10, -1.278461794762542e-09, -1.5580764040068473e-09, -1.8371374282954989e-09, -2.11554571083461e-09, -2.393202358508262e-09, -2.670008714122929e-09, -2.945866439674205e-09, -3.2206775302245916e-09, -3.4943442861479213e-09, -3.766769535173964e-09, -4.037856493610548e-09, -4.307508738587984e-09, -4.575630652148277e-09, -4.84212681062246e-09, -5.106902567497684e-09, -5.369863942394915e-09, -5.630917343513175e-09, -5.889970178252213e-09, -6.146930298100983e-09, -6.401706387215711e-09, -6.654208128953343e-09, -6.904345595248884e-09, -7.152029912749214e-09, -7.3971732073019325e-09, -7.639688215377305e-09, -7.879488950202074e-09, -8.11649025767025e-09, -8.35060764980966e-09, -8.581758192960365e-09, -8.809859730618541e-09, -9.03483110548109e-09, -9.256592381490236e-09, -9.475064954855839e-09, -9.690170887921568e-09, -9.901834241432539e-09, -1.0109979298178473e-08, -1.0314532450372838e-08, -1.0515420645340612e-08, -1.0712573161875127e-08, -1.0905919278769716e-08, -1.109539060628606e-08, -1.1280919864908867e-08, -1.1462440996368173e-08, -1.1639889607728549e-08, -1.1813202638322196e-08, -1.1982318470771247e-08, -1.2147177153032374e-08, -1.230771984328527e-08, -1.2463889698111075e-08, -1.2615631206358557e-08, -1.2762890411188721e-08, -1.2905615021097105e-08, -1.304375452093609e-08, -1.317725950578108e-08, -1.3306082569108924e-08, -1.3430178080753308e-08, -1.3549501964860156e-08, -1.3664011588865321e-08, -1.3773666762695314e-08, -1.387842818445506e-08, -1.3978258439628632e-08, -1.4073122334146149e-08, -1.4162986339272265e-08, -1.4247818258539269e-08, -1.4327587893880889e-08, -1.4402266823587695e-08, -1.4471829068440911e-08, -1.4536249315355576e-08, -1.4595504915781987e-08, -1.4649574886504979e-08, -1.4698439798621621e-08, -1.4742082554697333e-08, -1.4780487389565167e-08, -1.481364075850422e-08, -1.4841531115195039e-08, -1.4864148245585795e-08, -1.4881484267093015e-08, -1.489353296246776e-08, -1.490028989081793e-08, -1.490175294271978e-08, -1.48979215630618e-08, -1.488879686206701e-08, -1.4874382392449093e-08, -1.4854683039189354e-08, -1.4829705907715152e-08, -1.4799459768788381e-08, -1.4763955502594683e-08, -1.4723205654654237e-08, -1.4677224657866361e-08, -1.4626029276598729e-08, -1.4569636830330523e-08, -1.450806830227691e-08, -1.4441344786675359e-08, -1.4369490486387804e-08, -1.4292530714499208e-08, -1.4210493004540581e-08, -1.4123406333332866e-08, -1.4031301676098451e-08, -1.3934211673394259e-08, -1.3832170853156356e-08, -1.3725215741722252e-08, -1.3613384197697087e-08, -1.3496715633998235e-08, -1.337525168398912e-08, -1.3249035868412307e-08, -1.311811259618878e-08, -1.2982528385663272e-08, -1.2842331642559657e-08, -1.2697572104869437e-08, -1.2548301175918652e-08, -1.2394571924367881e-08, -1.2236438751145329e-08, -1.2073958388647554e-08, -1.1907188013360326e-08, -1.173618702221546e-08, -1.1561016255434708e-08, -1.138173799652975e-08, -1.1198415750257595e-08, -1.1011114686709789e-08, -1.0819901641312413e-08, -1.0624844226647667e-08, -1.0426011831654591e-08, -1.0223475177539854e-08, -1.0017306095733147e-08, -9.8075779719764e-09, -9.594365191212262e-09, -9.37774380371792e-09, -9.15779030385977e-09, -8.934583184405653e-09, -8.708201604257226e-09, -8.478726165606076e-09, -8.246238136777606e-09, -8.01082022938715e-09, -7.772556154250765e-09, -7.53153062138523e-09, -7.287829062452289e-09, -7.041538241381318e-09, -6.792745643746656e-09, -6.541539532278762e-09, -6.288009279931117e-09, -6.032244870279868e-09, -5.774337286101883e-09, -5.51437800977439e-09, -5.252459633897644e-09, -4.988675028627654e-09, -4.723118007810001e-09, -4.455882829379476e-09, -4.187064528426987e-09, -3.916758584132651e-09, -3.645060975276948e-09, -3.3720683745297464e-09, -3.097877648849945e-09, -2.8225862758191056e-09, -2.5462920383301224e-09, -2.2690931356095234e-09, -1.991088044439593e-09, -1.7123755191583712e-09, -1.4330545639040793e-09, -1.1532244881262699e-09, -8.72984656785647e-10, -5.924346707653072e-10, -3.1167418992894547e-10, -3.080296868268606e-11, 2.5007919346453633e-10, 5.308725056774044e-10, 8.114771979372826e-10, 1.0917935722165595e-09, 1.3717220415099263e-09, 1.6511631367732704e-09, 1.9300176179459783e-09, 2.208186328234163e-09, 2.4855704994219963e-09, 2.7620715437048915e-09, 3.037591289611896e-09, 3.3120317322055115e-09, 3.5852954494153266e-09, 3.8572853244822625e-09, 4.127904740247601e-09, 4.3970574958862585e-09, 4.664648001195815e-09, 4.930581221085362e-09, 5.194762620064353e-09, 5.4570983287760555e-09, 5.717495143997553e-09, 5.975860584150894e-09, 6.2321028337919415e-09, 6.4861307991215256e-09, 6.737854330030046e-09, 6.987183942541719e-09, 7.2340309298368766e-09, 7.478307806341178e-09, 7.719927697102946e-09, 7.958804726371227e-09, 8.194854017595787e-09, 8.427991637915966e-09, 8.658134764694125e-09, 8.885201907560258e-09, 9.109112020233567e-09, 9.329785832790094e-09, 9.547144741439695e-09, 9.761111585682158e-09, 9.9716104262626e-09, 1.0178566323126859e-08, 1.0381905890533005e-08, 1.0581556852962137e-08, 1.0777448156140679e-08, 1.0969510300107288e-08, 1.115767500614595e-08, 1.1341875438830584e-08, 1.1522046317047341e-08, 1.169812313683849e-08, 1.1870043836736954e-08, 1.203774735447638e-08, 1.2201173626991135e-08, 1.2360265033706241e-08, 1.2514964953247443e-08, 1.2665218318552718e-08, 1.2810971727894582e-08, 1.2952173444880088e-08, 1.3088773287428523e-08, 1.3220722960838316e-08, 1.3347975169608617e-08, 1.3470485060729231e-08, 1.358820889141299e-08, 1.370110469522956e-08, 1.3809132948239267e-08, 1.3912254681613945e-08, 1.4010433369016084e-08, 1.4103634260465014e-08, 1.4191824271314601e-08, 1.4274971982253248e-08, 1.43530478613485e-08, 1.4426023930980136e-08, 1.4493874767040893e-08, 1.4556575944624228e-08, 1.461410525926965e-08, 1.4666442393895807e-08, 1.4713568585733583e-08, 1.4755466848370702e-08, 1.479212263788554e-08, 1.4823522964668712e-08, 1.4849656504445363e-08, 1.4870514042364391e-08, 1.488608813993153e-08, 1.489637335705396e-08, 1.4901365918973397e-08, 1.4901064160355304e-08, 1.4895468081199681e-08, 1.488457956888567e-08, 1.4868402731238461e-08, 1.4846943341417784e-08, 1.4820208615873298e-08, 1.478820876865683e-08, 1.4750954457909415e-08, 1.4708459117329653e-08, 1.4660738179017585e-08, 1.460780829631858e-08, 1.4549688120979454e-08, 1.448639863621537e-08, 1.4417962379553728e-08, 1.4344403220789559e-08, 1.426574769425315e-08, 1.4182023777564723e-08, 1.4093260780612127e-08, 1.3999490566796169e-08, 1.3900746442807588e-08, 1.3797063491693962e-08, 1.3688478461837406e-08, 1.3575030100021479e-08, 1.3456758485297371e-08, 1.3333705584095412e-08, 1.3205915361247378e-08, 1.3073433335897278e-08, 1.2936306248434448e-08, 1.2794583059694276e-08, 1.2648313729712868e-08, 1.2497550883061592e-08, 1.2342347477378723e-08, 1.218275891279319e-08, 1.2018841810679248e-08, 1.1850654679790296e-08, 1.1678257028080452e-08, 1.1501710139860677e-08, 1.1321076520687257e-08, 1.1136421007584829e-08, 1.0947808437578033e-08, 1.0755306201204462e-08, 1.0558982799224736e-08, 1.0358907731600198e-08, 1.0155152163626724e-08, 9.947788592867823e-09, 9.736890627110029e-09, 9.522532984362897e-09, 9.304792270015128e-09, 9.083745644566932e-09, 8.859471489763848e-09, 8.632049519619045e-09, 8.40156078041332e-09, 8.168086873538982e-09, 7.931710954700577e-09, 7.692516956758766e-09, 7.450589922797235e-09, 7.206015562033485e-09, 6.95888102697495e-09, 6.709274025240575e-09, 6.457283208138875e-09, 6.2029982261790906e-09, 5.946509284981971e-09, 5.68790758936899e-09, 5.427285010295435e-09, 5.164734195872711e-09, 4.900348293812584e-09, 4.634221395516391e-09, 4.366447925452377e-09, 4.0971230852449025e-09, 3.826342576118691e-09, 3.5542025433876745e-09, 3.280799770744025e-09, 3.006231347191246e-09, 2.7305947780664752e-09, 2.4539880683072113e-09, 2.1765094726511336e-09, 1.898257578902829e-09, 1.6193312246670644e-09, 1.339829552859939e-09, 1.0598518174198546e-09, 7.794975429020745e-10, 4.9886630243412e-10, 2.1805782179917799e-10, -6.282813095419104e-11, -3.436917625498914e-10, -6.244332759197668e-10, -9.049529459126404e-10, -1.1851510745009008e-09, -1.4649281371292844e-09, -1.7441847133259358e-09, -2.022821604663605e-09, -2.3007397653707073e-09, -2.577840496620354e-09, -2.854025349385836e-09, -3.1291961799517765e-09, -3.403255177669706e-09, -3.6761050314915167e-09, -3.947648763436007e-09, -4.217790006144639e-09, -4.486432614303482e-09, -4.753481219754718e-09, -5.018841009452046e-09, -5.2824175589272215e-09, -5.544117276379268e-09, -5.803847180629873e-09, -6.061515012145691e-09, -6.31702923303834e-09, -6.570299082575559e-09, -6.82123452167005e-09, -7.069746454924086e-09, -7.315746453073757e-09, -7.559147197078175e-09, -7.799862311586025e-09, -8.037806087379806e-09, -8.272894147509646e-09, -8.505042670137186e-09, -8.734169720803209e-09, -8.960193365048497e-09, -9.183033444770672e-09, -9.402611023112684e-09, -9.618847718328993e-09, -9.831666925030902e-09, -1.0040993037030432e-08, -1.0246751669384935e-08, -1.0448869547374784e-08, -1.0647275172637194e-08, -1.0841897712943194e-08, -1.1032668223442954e-08, -1.1219518758487368e-08, -1.140238325980647e-08, -1.1581196557308715e-08, -1.175589492419249e-08, -1.1926416632057624e-08, -1.2092700840682369e-08, -1.2254688597224117e-08, -1.2412322392130193e-08, -1.256554604811555e-08, -1.2714305386296587e-08, -1.2858547226990424e-08, -1.2998220610960232e-08, -1.31332755781699e-08, -1.3263664611073978e-08, -1.3389340858260823e-08, -1.3510260132854057e-08, -1.3626379247178022e-08, -1.3737657011958504e-08, -1.3844053792233524e-08, -1.3945531729397942e-08, -1.4042055074270365e-08, -1.4133589187892426e-08, -1.4220101984818712e-08, -1.430156226778223e-08, -1.4377941282006645e-08, -1.444921171600555e-08, -1.451534858976089e-08, -1.4576328255522242e-08, -1.4632128952918322e-08, -1.4682730919979292e-08, -1.4728116282114456e-08, -1.476826860802305e-08, -1.4803173908894962e-08, -1.483281986125462e-08, -1.4857195695938685e-08, -1.4876292753207565e-08, -1.4890104482745414e-08, -1.4898625666504017e-08, -1.4901853639948115e-08, -1.4899787070810078e-08, -1.4892426403179115e-08, -1.4879774634657394e-08, -1.4861836206137014e-08, -1.4838617445889213e-08, -1.4810126569564375e-08, -1.4776373791214326e-08, -1.4737370990225429e-08, -1.4693132044385493e-08, -1.4643672718861467e-08, -1.458901055517714e-08, -1.4529165093257745e-08, -1.4464157205296146e-08, -1.4394010428020465e-08, -1.4318749630426453e-08, -1.4238401235822096e-08, -1.4152994443072942e-08, -1.4062558784111445e-08, -1.3967126788472228e-08, -1.3866732428979844e-08, -1.3761411232771081e-08, -1.3651200836406474e-08, -1.3536139986669582e-08, -1.3416269761812316e-08, -1.3291633016443427e-08, -1.316227371539469e-08, -1.3028237932921627e-08, -1.2889573297591994e-08, -1.2746329214330387e-08, -1.259855630930673e-08, -1.2446306985047784e-08, -1.2289635753504058e-08, -1.2128598125826784e-08, -1.1963251056457125e-08, -1.1793653609259991e-08, -1.1619865958323317e-08, -1.1441949832047271e-08, -1.1259968291099653e-08, -1.1073986616594311e-08, -1.0884069867600488e-08, -1.0690286211811895e-08, -1.0492704372033756e-08, -1.029139451436123e-08, -1.0086428248179402e-08, -9.877878293096387e-09, -9.665818700987927e-09, -9.450324967019696e-09, -9.231473585558092e-09, -9.009342161192535e-09, -8.784009852824681e-09, -8.555556707534606e-09, -8.324063660580805e-09, -8.089613201534007e-09, -7.85228859712106e-09, -7.61217400224723e-09, -7.369355015107715e-09, -7.1239175669646215e-09, -6.875949087881139e-09, -6.625537507520818e-09, -6.372772032303686e-09, -6.117742312738983e-09, -5.860538943025517e-09, -5.601253405540518e-09, -5.3399777377727276e-09, -5.076804809878155e-09, -4.811828158146625e-09, -4.5451418184683234e-09, -4.2768406038895534e-09, -4.0070199380792815e-09, -3.73577552226223e-09, -3.463203807063664e-09, -3.1894016594424812e-09, -2.9144663071800636e-09, -2.6384955054137293e-09, -2.3615872313254016e-09, -2.0838398784306378e-09, -1.8053521733119027e-09, -1.5262230229629026e-09, -1.2465516258108877e-09, -9.664373190609865e-10, -6.859796480851443e-10, -4.052782415220335e-10, -1.244328546451401e-10, 1.5645674946579424e-10, 4.372907626282174e-10, 7.179694130887704e-10, 9.98392965523287e-10, 1.278461794762542e-09, 1.5580764040068473e-09, 1.8371374282954989e-09, 2.11554571083461e-09, 2.393202358508262e-09, 2.670008714122929e-09, 2.945866439674205e-09, 3.220677557980167e-09, 3.494344313903497e-09, 3.766769535173964e-09, 4.037856493610548e-09, 4.307508794099135e-09, 4.575630652148277e-09, 4.84212681062246e-09, 5.1069026230088355e-09, 5.369863942394915e-09, 5.630917343513175e-09, 5.889970178252213e-09, 6.146930242589832e-09, 6.401706387215711e-09, 6.654208128953343e-09, 6.904345539737733e-09, 7.152029912749214e-09, 7.397173151790781e-09, 7.639688215377305e-09, 7.879488950202074e-09, 8.11649025767025e-09, 8.35060764980966e-09, 8.581758192960365e-09, 8.809859730618541e-09, 9.03483110548109e-09, 9.256592381490236e-09, 9.475064954855839e-09, 9.690170887921568e-09, 9.901834130410236e-09, 1.010997918715617e-08, 1.0314532339350535e-08, 1.0515420756362914e-08, 1.0712573050852825e-08, 1.0905919278769716e-08, 1.109539060628606e-08, 1.1280919864908867e-08, 1.1462440996368173e-08, 1.1639889496706246e-08, 1.1813202749344498e-08, 1.1982318470771247e-08, 1.2147177153032374e-08, 1.230771984328527e-08, 1.2463889809133377e-08, 1.2615631095336255e-08, 1.2762890522211023e-08, 1.2905615021097105e-08, 1.304375452093609e-08, 1.3177259394758778e-08, 1.3306082458086621e-08, 1.3430178080753308e-08, 1.3549501964860156e-08, 1.3664011699887624e-08, 1.3773666873717616e-08, 1.387842818445506e-08, 1.3978258550650935e-08, 1.4073122445168451e-08, 1.4162986339272265e-08, 1.4247818147516966e-08, 1.4327587893880889e-08, 1.4402266934609997e-08, 1.4471828957418609e-08, 1.4536249204333274e-08, 1.4595504804759685e-08, 1.4649574775482677e-08, 1.4698439798621621e-08, 1.4742082554697333e-08, 1.4780487389565167e-08, 1.481364075850422e-08, 1.4841531115195039e-08, 1.4864148245585795e-08, 1.4881484378115317e-08, 1.489353296246776e-08, 1.490028989081793e-08, 1.490175294271978e-08, 1.48979215630618e-08, 1.4888796751044708e-08, 1.4874382392449093e-08, 1.4854683039189354e-08, 1.4829705907715152e-08, 1.4799459879810684e-08, 1.4763955613616986e-08, 1.4723205654654237e-08, 1.4677224768888664e-08, 1.4626029165576426e-08, 1.4569636941352826e-08, 1.450806830227691e-08, 1.4441344897697661e-08, 1.4369490486387804e-08, 1.429253082552151e-08, 1.4210492893518278e-08, 1.4123406333332866e-08, 1.4031301565076149e-08, 1.3934211562371956e-08, 1.3832170964178658e-08, 1.372521563069995e-08, 1.3613384086674785e-08, 1.3496715633998235e-08, 1.3375251572966818e-08, 1.3249035868412307e-08, 1.311811259618878e-08, 1.298252827464097e-08, 1.284233175358196e-08, 1.2697572104869437e-08, 1.2548301175918652e-08, 1.2394572035390183e-08, 1.2236438862167631e-08, 1.2073958388647554e-08, 1.1907188013360326e-08, 1.1736187133237763e-08, 1.1561016255434708e-08, 1.1381737885507448e-08, 1.1198415750257595e-08, 1.1011114797732091e-08, 1.0819901641312413e-08, 1.0624844226647667e-08, 1.0426011831654591e-08, 1.0223475177539854e-08, 1.0017306095733147e-08, 9.8075779719764e-09, 9.594365302234564e-09, 9.37774380371792e-09, 9.15779030385977e-09, 8.934583184405653e-09, 8.708201604257226e-09, 8.478726165606076e-09, 8.246238136777606e-09, 8.01082022938715e-09, 7.772556154250765e-09, 7.53153062138523e-09, 7.287829062452289e-09, 7.041538296892469e-09, 6.792745699257807e-09, 6.541539587789913e-09, 6.288009224419966e-09, 6.032244870279868e-09, 5.77433717507958e-09, 5.51437800977439e-09, 5.252459633897644e-09, 4.988675028627654e-09, 4.723118007810001e-09, 4.455882829379476e-09, 4.187064528426987e-09, 3.916758584132651e-09, 3.6450610030325237e-09, 3.372068402285322e-09, 3.097877648849945e-09, 2.8225863035746812e-09, 2.546292066085698e-09, 2.269093163365099e-09, 1.991088044439593e-09, 1.7123755052805834e-09, 1.4330545500262915e-09, 1.1532244881262699e-09, 8.72984656785647e-10, 5.924346707653072e-10, 3.116741864594985e-10, 3.080296868268606e-11, -2.5007919172981286e-10, -5.308725056774044e-10, -8.114771909983887e-10, -1.0917935722165595e-09, -1.3717220415099263e-09, -1.6511631367732704e-09, -1.9300175901904026e-09, -2.208186328234163e-09, -2.4855704994219963e-09, -2.7620715437048915e-09, -3.037591234100745e-09, -3.3120317322055115e-09, -3.5852954494153266e-09, -3.8572853244822625e-09, -4.127904740247601e-09, -4.39705755139741e-09, -4.664648001195815e-09, -4.930581221085362e-09, -5.194762620064353e-09, -5.4570983287760555e-09, -5.717495143997553e-09, -5.975860584150894e-09, -6.232102889303093e-09, -6.4861307991215256e-09, -6.737854330030046e-09, -6.987183887030568e-09, -7.2340309298368766e-09, -7.478307806341178e-09, -7.719927697102946e-09, -7.958804615348924e-09, -8.194853906573485e-09, -8.427991637915966e-09, -8.658134764694125e-09, -8.885201907560258e-09, -9.109112020233567e-09, -9.329785832790094e-09, -9.547144741439695e-09, -9.761111585682158e-09, -9.9716104262626e-09, -1.0178566323126859e-08, -1.0381905890533005e-08, -1.0581556852962137e-08, -1.0777448156140679e-08, -1.0969510300107288e-08, -1.115767500614595e-08, -1.1341875438830584e-08, -1.1522046317047341e-08, -1.169812313683849e-08, -1.1870043947759257e-08, -1.203774735447638e-08, -1.2201173626991135e-08, -1.2360265033706241e-08, -1.2514965064269745e-08, -1.2665218318552718e-08, -1.281097161687228e-08, -1.2952173444880088e-08, -1.3088773287428523e-08, -1.3220722960838316e-08, -1.3347975169608617e-08, -1.3470484949706929e-08, -1.358820889141299e-08, -1.370110469522956e-08, -1.3809132948239267e-08, -1.3912254570591642e-08, -1.4010433257993782e-08, -1.4103634260465014e-08, -1.4191824271314601e-08, -1.4274971982253248e-08, -1.43530478613485e-08, -1.4426023930980136e-08, -1.4493874878063195e-08, -1.4556575944624228e-08, -1.4614105370291952e-08, -1.4666442393895807e-08, -1.471356847471128e-08, -1.4755466959393004e-08, -1.479212263788554e-08, -1.4823522964668712e-08, -1.4849656615467666e-08, -1.4870514153386694e-08, -1.488608813993153e-08, -1.489637335705396e-08, -1.4901365918973397e-08, -1.4901064160355304e-08, -1.4895468081199681e-08, -1.488457956888567e-08, -1.4868402731238461e-08, -1.4846943341417784e-08, -1.48202087268956e-08, -1.478820876865683e-08, -1.4750954457909415e-08, -1.4708459117329653e-08, -1.4660738290039887e-08, -1.460780829631858e-08, -1.4549688232001756e-08, -1.448639863621537e-08, -1.4417962268531426e-08, -1.4344403220789559e-08, -1.426574769425315e-08, -1.418202366654242e-08, -1.4093260780612127e-08, -1.3999490566796169e-08, -1.3900746331785285e-08, -1.3797063491693962e-08, -1.3688478350815103e-08, -1.3575029988999177e-08, -1.3456758374275068e-08, -1.3333705584095412e-08, -1.320591547226968e-08, -1.3073433335897278e-08, -1.2936306248434448e-08, -1.2794583059694276e-08, -1.264831384073517e-08, -1.2497550883061592e-08, -1.2342347477378723e-08, -1.218275891279319e-08, -1.2018841810679248e-08, -1.1850654790812598e-08, -1.1678257028080452e-08, -1.1501710139860677e-08, -1.1321076631709559e-08, -1.1136421007584829e-08, -1.0947808437578033e-08, -1.0755306201204462e-08, -1.0558982799224736e-08, -1.0358907731600198e-08, -1.0155152163626724e-08, -9.947788592867823e-09, -9.736890627110029e-09, -9.522532984362897e-09, -9.30479238103743e-09, -9.08374553354463e-09, -8.859471489763848e-09, -8.632049519619045e-09, -8.401560669391017e-09, -8.168086873538982e-09, -7.931710954700577e-09, -7.692517067781068e-09, -7.450589811774933e-09, -7.206015617544637e-09, -6.958880971463799e-09, -6.709274025240575e-09, -6.4572832636500266e-09, -6.2029982261790906e-09, -5.946509284981971e-09, -5.68790758936899e-09, -5.427285010295435e-09, -5.164734195872711e-09, -4.900348293812584e-09, -4.634221395516391e-09, -4.366447925452377e-09, -4.0971230852449025e-09, -3.826342576118691e-09, -3.5542025433876745e-09, -3.2807997429884495e-09, -3.0062313194356705e-09, -2.7305947780664752e-09, -2.4539880683072113e-09, -2.1765094726511336e-09, -1.898257578902829e-09, -1.6193312246670644e-09, -1.339829552859939e-09, -1.0598518174198546e-09, -7.794975359631806e-10, -4.9886630243412e-10, -2.1805782179917799e-10, 6.282813095417965e-11]}],\n",
       "                        {\"legend\": {\"bgcolor\": \"#FFFFFF\", \"font\": {\"color\": \"#4D5663\"}}, \"paper_bgcolor\": \"#FFFFFF\", \"plot_bgcolor\": \"#FFFFFF\", \"template\": {\"data\": {\"bar\": [{\"error_x\": {\"color\": \"#2a3f5f\"}, \"error_y\": {\"color\": \"#2a3f5f\"}, \"marker\": {\"line\": {\"color\": \"#E5ECF6\", \"width\": 0.5}}, \"type\": \"bar\"}], \"barpolar\": [{\"marker\": {\"line\": {\"color\": \"#E5ECF6\", \"width\": 0.5}}, \"type\": \"barpolar\"}], \"carpet\": [{\"aaxis\": {\"endlinecolor\": \"#2a3f5f\", \"gridcolor\": \"white\", \"linecolor\": \"white\", \"minorgridcolor\": \"white\", \"startlinecolor\": \"#2a3f5f\"}, \"baxis\": {\"endlinecolor\": \"#2a3f5f\", \"gridcolor\": \"white\", \"linecolor\": \"white\", \"minorgridcolor\": \"white\", \"startlinecolor\": \"#2a3f5f\"}, \"type\": \"carpet\"}], \"choropleth\": [{\"colorbar\": {\"outlinewidth\": 0, \"ticks\": \"\"}, \"type\": \"choropleth\"}], \"contour\": [{\"colorbar\": {\"outlinewidth\": 0, \"ticks\": \"\"}, \"colorscale\": [[0.0, \"#0d0887\"], [0.1111111111111111, \"#46039f\"], [0.2222222222222222, \"#7201a8\"], [0.3333333333333333, \"#9c179e\"], [0.4444444444444444, \"#bd3786\"], [0.5555555555555556, \"#d8576b\"], [0.6666666666666666, \"#ed7953\"], [0.7777777777777778, \"#fb9f3a\"], [0.8888888888888888, \"#fdca26\"], [1.0, \"#f0f921\"]], \"type\": \"contour\"}], \"contourcarpet\": [{\"colorbar\": {\"outlinewidth\": 0, \"ticks\": \"\"}, \"type\": \"contourcarpet\"}], \"heatmap\": [{\"colorbar\": {\"outlinewidth\": 0, \"ticks\": \"\"}, \"colorscale\": [[0.0, \"#0d0887\"], [0.1111111111111111, \"#46039f\"], [0.2222222222222222, \"#7201a8\"], [0.3333333333333333, \"#9c179e\"], [0.4444444444444444, \"#bd3786\"], [0.5555555555555556, \"#d8576b\"], [0.6666666666666666, \"#ed7953\"], [0.7777777777777778, \"#fb9f3a\"], [0.8888888888888888, \"#fdca26\"], [1.0, \"#f0f921\"]], \"type\": \"heatmap\"}], \"heatmapgl\": [{\"colorbar\": {\"outlinewidth\": 0, \"ticks\": \"\"}, \"colorscale\": [[0.0, \"#0d0887\"], [0.1111111111111111, \"#46039f\"], [0.2222222222222222, \"#7201a8\"], [0.3333333333333333, \"#9c179e\"], [0.4444444444444444, \"#bd3786\"], [0.5555555555555556, \"#d8576b\"], [0.6666666666666666, \"#ed7953\"], [0.7777777777777778, \"#fb9f3a\"], [0.8888888888888888, \"#fdca26\"], [1.0, \"#f0f921\"]], \"type\": \"heatmapgl\"}], \"histogram\": [{\"marker\": {\"colorbar\": {\"outlinewidth\": 0, \"ticks\": \"\"}}, \"type\": \"histogram\"}], \"histogram2d\": [{\"colorbar\": {\"outlinewidth\": 0, \"ticks\": \"\"}, \"colorscale\": [[0.0, \"#0d0887\"], [0.1111111111111111, \"#46039f\"], [0.2222222222222222, \"#7201a8\"], [0.3333333333333333, \"#9c179e\"], [0.4444444444444444, \"#bd3786\"], [0.5555555555555556, \"#d8576b\"], [0.6666666666666666, \"#ed7953\"], [0.7777777777777778, \"#fb9f3a\"], [0.8888888888888888, \"#fdca26\"], [1.0, \"#f0f921\"]], \"type\": \"histogram2d\"}], \"histogram2dcontour\": [{\"colorbar\": {\"outlinewidth\": 0, \"ticks\": \"\"}, \"colorscale\": [[0.0, \"#0d0887\"], [0.1111111111111111, \"#46039f\"], [0.2222222222222222, \"#7201a8\"], [0.3333333333333333, \"#9c179e\"], [0.4444444444444444, \"#bd3786\"], [0.5555555555555556, \"#d8576b\"], [0.6666666666666666, \"#ed7953\"], [0.7777777777777778, \"#fb9f3a\"], [0.8888888888888888, \"#fdca26\"], [1.0, \"#f0f921\"]], \"type\": \"histogram2dcontour\"}], \"mesh3d\": [{\"colorbar\": {\"outlinewidth\": 0, \"ticks\": \"\"}, \"type\": \"mesh3d\"}], \"parcoords\": [{\"line\": {\"colorbar\": {\"outlinewidth\": 0, \"ticks\": \"\"}}, \"type\": \"parcoords\"}], \"scatter\": [{\"marker\": {\"colorbar\": {\"outlinewidth\": 0, \"ticks\": \"\"}}, \"type\": \"scatter\"}], \"scatter3d\": [{\"line\": {\"colorbar\": {\"outlinewidth\": 0, \"ticks\": \"\"}}, \"marker\": {\"colorbar\": {\"outlinewidth\": 0, \"ticks\": \"\"}}, \"type\": \"scatter3d\"}], \"scattercarpet\": [{\"marker\": {\"colorbar\": {\"outlinewidth\": 0, \"ticks\": \"\"}}, \"type\": \"scattercarpet\"}], \"scattergeo\": [{\"marker\": {\"colorbar\": {\"outlinewidth\": 0, \"ticks\": \"\"}}, \"type\": \"scattergeo\"}], \"scattergl\": [{\"marker\": {\"colorbar\": {\"outlinewidth\": 0, \"ticks\": \"\"}}, \"type\": \"scattergl\"}], \"scattermapbox\": [{\"marker\": {\"colorbar\": {\"outlinewidth\": 0, \"ticks\": \"\"}}, \"type\": \"scattermapbox\"}], \"scatterpolar\": [{\"marker\": {\"colorbar\": {\"outlinewidth\": 0, \"ticks\": \"\"}}, \"type\": \"scatterpolar\"}], \"scatterpolargl\": [{\"marker\": {\"colorbar\": {\"outlinewidth\": 0, \"ticks\": \"\"}}, \"type\": \"scatterpolargl\"}], \"scatterternary\": [{\"marker\": {\"colorbar\": {\"outlinewidth\": 0, \"ticks\": \"\"}}, \"type\": \"scatterternary\"}], \"surface\": [{\"colorbar\": {\"outlinewidth\": 0, \"ticks\": \"\"}, \"colorscale\": [[0.0, \"#0d0887\"], [0.1111111111111111, \"#46039f\"], [0.2222222222222222, \"#7201a8\"], [0.3333333333333333, \"#9c179e\"], [0.4444444444444444, \"#bd3786\"], [0.5555555555555556, \"#d8576b\"], [0.6666666666666666, \"#ed7953\"], [0.7777777777777778, \"#fb9f3a\"], [0.8888888888888888, \"#fdca26\"], [1.0, \"#f0f921\"]], \"type\": \"surface\"}], \"table\": [{\"cells\": {\"fill\": {\"color\": \"#EBF0F8\"}, \"line\": {\"color\": \"white\"}}, \"header\": {\"fill\": {\"color\": \"#C8D4E3\"}, \"line\": {\"color\": \"white\"}}, \"type\": \"table\"}]}, \"layout\": {\"annotationdefaults\": {\"arrowcolor\": \"#2a3f5f\", \"arrowhead\": 0, \"arrowwidth\": 1}, \"colorscale\": {\"diverging\": [[0, \"#8e0152\"], [0.1, \"#c51b7d\"], [0.2, \"#de77ae\"], [0.3, \"#f1b6da\"], [0.4, \"#fde0ef\"], [0.5, \"#f7f7f7\"], [0.6, \"#e6f5d0\"], [0.7, \"#b8e186\"], [0.8, \"#7fbc41\"], [0.9, \"#4d9221\"], [1, \"#276419\"]], \"sequential\": [[0.0, \"#0d0887\"], [0.1111111111111111, \"#46039f\"], [0.2222222222222222, \"#7201a8\"], [0.3333333333333333, \"#9c179e\"], [0.4444444444444444, \"#bd3786\"], [0.5555555555555556, \"#d8576b\"], [0.6666666666666666, \"#ed7953\"], [0.7777777777777778, \"#fb9f3a\"], [0.8888888888888888, \"#fdca26\"], [1.0, \"#f0f921\"]], \"sequentialminus\": [[0.0, \"#0d0887\"], [0.1111111111111111, \"#46039f\"], [0.2222222222222222, \"#7201a8\"], [0.3333333333333333, \"#9c179e\"], [0.4444444444444444, \"#bd3786\"], [0.5555555555555556, \"#d8576b\"], [0.6666666666666666, \"#ed7953\"], [0.7777777777777778, \"#fb9f3a\"], [0.8888888888888888, \"#fdca26\"], [1.0, \"#f0f921\"]]}, \"colorway\": [\"#636efa\", \"#EF553B\", \"#00cc96\", \"#ab63fa\", \"#FFA15A\", \"#19d3f3\", \"#FF6692\", \"#B6E880\", \"#FF97FF\", \"#FECB52\"], \"font\": {\"color\": \"#2a3f5f\"}, \"geo\": {\"bgcolor\": \"white\", \"lakecolor\": \"white\", \"landcolor\": \"#E5ECF6\", \"showlakes\": true, \"showland\": true, \"subunitcolor\": \"white\"}, \"hoverlabel\": {\"align\": \"left\"}, \"hovermode\": \"closest\", \"mapbox\": {\"style\": \"light\"}, \"paper_bgcolor\": \"white\", \"plot_bgcolor\": \"#E5ECF6\", \"polar\": {\"angularaxis\": {\"gridcolor\": \"white\", \"linecolor\": \"white\", \"ticks\": \"\"}, \"bgcolor\": \"#E5ECF6\", \"radialaxis\": {\"gridcolor\": \"white\", \"linecolor\": \"white\", \"ticks\": \"\"}}, \"scene\": {\"xaxis\": {\"backgroundcolor\": \"#E5ECF6\", \"gridcolor\": \"white\", \"gridwidth\": 2, \"linecolor\": \"white\", \"showbackground\": true, \"ticks\": \"\", \"zerolinecolor\": \"white\"}, \"yaxis\": {\"backgroundcolor\": \"#E5ECF6\", \"gridcolor\": \"white\", \"gridwidth\": 2, \"linecolor\": \"white\", \"showbackground\": true, \"ticks\": \"\", \"zerolinecolor\": \"white\"}, \"zaxis\": {\"backgroundcolor\": \"#E5ECF6\", \"gridcolor\": \"white\", \"gridwidth\": 2, \"linecolor\": \"white\", \"showbackground\": true, \"ticks\": \"\", \"zerolinecolor\": \"white\"}}, \"shapedefaults\": {\"line\": {\"color\": \"#2a3f5f\"}}, \"ternary\": {\"aaxis\": {\"gridcolor\": \"white\", \"linecolor\": \"white\", \"ticks\": \"\"}, \"baxis\": {\"gridcolor\": \"white\", \"linecolor\": \"white\", \"ticks\": \"\"}, \"bgcolor\": \"#E5ECF6\", \"caxis\": {\"gridcolor\": \"white\", \"linecolor\": \"white\", \"ticks\": \"\"}}, \"title\": {\"x\": 0.05}, \"xaxis\": {\"automargin\": true, \"gridcolor\": \"white\", \"linecolor\": \"white\", \"ticks\": \"\", \"zerolinecolor\": \"white\", \"zerolinewidth\": 2}, \"yaxis\": {\"automargin\": true, \"gridcolor\": \"white\", \"linecolor\": \"white\", \"ticks\": \"\", \"zerolinecolor\": \"white\", \"zerolinewidth\": 2}}}, \"title\": {\"font\": {\"color\": \"#4D5663\"}, \"text\": \"Output\"}, \"xaxis\": {\"gridcolor\": \"#E1E5ED\", \"showgrid\": true, \"tickfont\": {\"color\": \"#4D5663\"}, \"title\": {\"font\": {\"color\": \"#4D5663\"}, \"text\": \"Tout\"}, \"zerolinecolor\": \"#E1E5ED\"}, \"yaxis\": {\"gridcolor\": \"#E1E5ED\", \"showgrid\": true, \"tickfont\": {\"color\": \"#4D5663\"}, \"title\": {\"font\": {\"color\": \"#4D5663\"}, \"text\": \"yout\"}, \"zerolinecolor\": \"#E1E5ED\"}},\n",
       "                        {\"showLink\": true, \"linkText\": \"Export to plot.ly\", \"plotlyServerURL\": \"https://plot.ly\", \"responsive\": true}\n",
       "                    ).then(function(){\n",
       "                            \n",
       "var gd = document.getElementById('fb450bb4-401f-434d-9b81-949872417073');\n",
       "var x = new MutationObserver(function (mutations, observer) {{\n",
       "        var display = window.getComputedStyle(gd).display;\n",
       "        if (!display || display === 'none') {{\n",
       "            console.log([gd, 'removed!']);\n",
       "            Plotly.purge(gd);\n",
       "            observer.disconnect();\n",
       "        }}\n",
       "}});\n",
       "\n",
       "// Listen for the removal of the full notebook cells\n",
       "var notebookContainer = gd.closest('#notebook-container');\n",
       "if (notebookContainer) {{\n",
       "    x.observe(notebookContainer, {childList: true});\n",
       "}}\n",
       "\n",
       "// Listen for the clearing of the current output cell\n",
       "var outputEl = gd.closest('.output');\n",
       "if (outputEl) {{\n",
       "    x.observe(outputEl, {childList: true});\n",
       "}}\n",
       "\n",
       "                        })\n",
       "                };\n",
       "                });\n",
       "            </script>\n",
       "        </div>"
      ]
     },
     "metadata": {},
     "output_type": "display_data"
    }
   ],
   "source": [
    "# Система всегда устойчива, так как по критерию Гурвица для (a+1)*λ+1=0: Единственный главный минор 1 > 0\n",
    "w = 0.001\n",
    "T = np.linspace(0, 3.0/w, 1001)\n",
    "S = [sin(t * 2*pi*w) for t in T]\n",
    "Tout, yout, xout = signal.lsim(transfer_func, S, T)\n",
    "\n",
    "df_i = pd.DataFrame(S, index=T)\n",
    "df_i.iplot(mode='lines', xTitle='T', yTitle='S', title='Input')\n",
    "\n",
    "df_o = pd.DataFrame(yout, index=Tout)\n",
    "df_o.iplot(mode='lines', xTitle='Tout', yTitle='yout', title='Output')"
   ]
  },
  {
   "cell_type": "code",
   "execution_count": 12,
   "metadata": {},
   "outputs": [
    {
     "data": {
      "application/vnd.plotly.v1+json": {
       "config": {
        "linkText": "Export to plot.ly",
        "plotlyServerURL": "https://plot.ly",
        "showLink": true
       },
       "data": [
        {
         "line": {
          "color": "rgba(255, 153, 51, 1.0)",
          "dash": "solid",
          "shape": "linear",
          "width": 1.3
         },
         "mode": "lines",
         "name": "0",
         "text": "",
         "type": "scatter",
         "x": [
          0.01,
          0.01291549665014884,
          0.016681005372000592,
          0.021544346900318832,
          0.027825594022071243,
          0.03593813663804628,
          0.046415888336127774,
          0.05994842503189409,
          0.0774263682681127,
          0.1,
          0.1291549665014884,
          0.16681005372000582,
          0.21544346900318834,
          0.2782559402207124,
          0.3593813663804626,
          0.46415888336127775,
          0.5994842503189409,
          0.774263682681127,
          1,
          1.291549665014884,
          1.6681005372000592,
          2.154434690031882,
          2.782559402207123,
          3.593813663804626,
          4.6415888336127775,
          5.994842503189409,
          7.742636826811269,
          10,
          12.915496650148826,
          16.681005372000573,
          21.54434690031882,
          27.82559402207123,
          35.93813663804626,
          46.41588833612777,
          59.94842503189409,
          77.4263682681127,
          100,
          129.15496650148827,
          166.81005372000593,
          215.44346900318823,
          278.2559402207126,
          359.38136638046257,
          464.1588833612773,
          599.4842503189409,
          774.2636826811262,
          1000,
          1291.5496650148827,
          1668.100537200059,
          2154.4346900318824,
          2782.55940220712,
          3593.813663804626,
          4641.588833612773,
          5994.8425031894085,
          7742.636826811262,
          10000,
          12915.496650148827,
          16681.005372000556,
          21544.346900318822,
          27825.5940220712,
          35938.13663804626,
          46415.888336127726,
          59948.42503189409,
          77426.36826811262,
          100000,
          129154.96650148826,
          166810.05372000558,
          215443.46900318822,
          278255.94022071204,
          359381.36638046254,
          464158.8833612772,
          599484.2503189408,
          774263.6826811262,
          1000000,
          1291549.6650148828,
          1668100.5372000558,
          2154434.6900318777,
          2782559.402207126,
          3593813.6638046256,
          4641588.833612773,
          5994842.503189396,
          7742636.826811277,
          10000000,
          12915496.650148828,
          16681005.372000556,
          21544346.90031878,
          27825594.022071257,
          35938136.63804626,
          46415888.33612773,
          59948425.03189397,
          77426368.26811247,
          100000000,
          129154966.50148827,
          166810053.72000557,
          215443469.00318778,
          278255940.2207126,
          359381366.3804626,
          464158883.3612773,
          599484250.3189397,
          774263682.6811246,
          1000000000
         ],
         "y": [
          -200.0000000868589,
          -197.77777786463668,
          -195.55555564241445,
          -193.33333342019222,
          -191.11111119797002,
          -188.88888897574776,
          -186.66666675352556,
          -184.44444453130333,
          -182.22222230908113,
          -180.0000000868589,
          -177.77777786463668,
          -175.55555564241445,
          -173.33333342019222,
          -171.11111119797002,
          -168.88888897574782,
          -166.66666675352556,
          -164.44444453130333,
          -162.22222230908113,
          -160.0000000868589,
          -157.77777786463668,
          -155.55555564241445,
          -153.33333342019222,
          -151.11111119797002,
          -148.88888897574782,
          -146.66666675352556,
          -144.44444453130336,
          -142.22222230908113,
          -140.00000008685896,
          -137.77777786463676,
          -135.5555556424146,
          -133.33333342019242,
          -131.11111119797036,
          -128.88888897574836,
          -126.6666667535265,
          -124.4444445313049,
          -122.22222230908372,
          -120.00000008686325,
          -117.77777786464392,
          -115.55555564242653,
          -113.3333334202124,
          -111.11111119800363,
          -108.88888897580388,
          -106.66666675361913,
          -104.44444453145941,
          -102.22222230934149,
          -100.00000008729319,
          -97.77777786536113,
          -95.55555564362291,
          -93.33333342220804,
          -91.1111112013326,
          -88.88888898135691,
          -86.66666676288216,
          -84.44444454691109,
          -82.22222233511641,
          -80.00000013028836,
          -77.77777793708137,
          -75.55555576325948,
          -73.33333362177387,
          -71.11111153422844,
          -68.88888953666063,
          -66.66666768918455,
          -64.44444609207648,
          -62.22222491260731,
          -60.00000442980146,
          -57.77778510909908,
          -55.555567726899355,
          -53.33335357830922,
          -51.11114482368366,
          -48.888945066673706,
          -46.66676031842556,
          -44.44460060584004,
          -42.22248265397427,
          -40.00043435961884,
          -37.77850225106497,
          -35.55676392448621,
          -33.33534876888483,
          -31.11447248126011,
          -28.894494485443506,
          -26.676013279684906,
          -24.46002428679277,
          -22.248179850572267,
          -20.043213823825333,
          -17.84962496040107,
          -15.674749919148642,
          -13.530376668078695,
          -11.434987191679793,
          -9.416424456612647,
          -7.514014381680193,
          -5.777857634015893,
          -4.262021957156376,
          -3.01030000006926,
          -2.039799713184406,
          -1.333413148638537,
          -0.8473476589469787,
          -0.5275355007350406,
          -0.3238760061935552,
          -0.1970432555920465,
          -0.11919428143711282,
          -0.07184709861463091,
          -0.04321373868641461
         ]
        }
       ],
       "layout": {
        "legend": {
         "bgcolor": "#FFFFFF",
         "font": {
          "color": "#4D5663"
         }
        },
        "paper_bgcolor": "#FFFFFF",
        "plot_bgcolor": "#FFFFFF",
        "template": {
         "data": {
          "bar": [
           {
            "error_x": {
             "color": "#2a3f5f"
            },
            "error_y": {
             "color": "#2a3f5f"
            },
            "marker": {
             "line": {
              "color": "#E5ECF6",
              "width": 0.5
             }
            },
            "type": "bar"
           }
          ],
          "barpolar": [
           {
            "marker": {
             "line": {
              "color": "#E5ECF6",
              "width": 0.5
             }
            },
            "type": "barpolar"
           }
          ],
          "carpet": [
           {
            "aaxis": {
             "endlinecolor": "#2a3f5f",
             "gridcolor": "white",
             "linecolor": "white",
             "minorgridcolor": "white",
             "startlinecolor": "#2a3f5f"
            },
            "baxis": {
             "endlinecolor": "#2a3f5f",
             "gridcolor": "white",
             "linecolor": "white",
             "minorgridcolor": "white",
             "startlinecolor": "#2a3f5f"
            },
            "type": "carpet"
           }
          ],
          "choropleth": [
           {
            "colorbar": {
             "outlinewidth": 0,
             "ticks": ""
            },
            "type": "choropleth"
           }
          ],
          "contour": [
           {
            "colorbar": {
             "outlinewidth": 0,
             "ticks": ""
            },
            "colorscale": [
             [
              0,
              "#0d0887"
             ],
             [
              0.1111111111111111,
              "#46039f"
             ],
             [
              0.2222222222222222,
              "#7201a8"
             ],
             [
              0.3333333333333333,
              "#9c179e"
             ],
             [
              0.4444444444444444,
              "#bd3786"
             ],
             [
              0.5555555555555556,
              "#d8576b"
             ],
             [
              0.6666666666666666,
              "#ed7953"
             ],
             [
              0.7777777777777778,
              "#fb9f3a"
             ],
             [
              0.8888888888888888,
              "#fdca26"
             ],
             [
              1,
              "#f0f921"
             ]
            ],
            "type": "contour"
           }
          ],
          "contourcarpet": [
           {
            "colorbar": {
             "outlinewidth": 0,
             "ticks": ""
            },
            "type": "contourcarpet"
           }
          ],
          "heatmap": [
           {
            "colorbar": {
             "outlinewidth": 0,
             "ticks": ""
            },
            "colorscale": [
             [
              0,
              "#0d0887"
             ],
             [
              0.1111111111111111,
              "#46039f"
             ],
             [
              0.2222222222222222,
              "#7201a8"
             ],
             [
              0.3333333333333333,
              "#9c179e"
             ],
             [
              0.4444444444444444,
              "#bd3786"
             ],
             [
              0.5555555555555556,
              "#d8576b"
             ],
             [
              0.6666666666666666,
              "#ed7953"
             ],
             [
              0.7777777777777778,
              "#fb9f3a"
             ],
             [
              0.8888888888888888,
              "#fdca26"
             ],
             [
              1,
              "#f0f921"
             ]
            ],
            "type": "heatmap"
           }
          ],
          "heatmapgl": [
           {
            "colorbar": {
             "outlinewidth": 0,
             "ticks": ""
            },
            "colorscale": [
             [
              0,
              "#0d0887"
             ],
             [
              0.1111111111111111,
              "#46039f"
             ],
             [
              0.2222222222222222,
              "#7201a8"
             ],
             [
              0.3333333333333333,
              "#9c179e"
             ],
             [
              0.4444444444444444,
              "#bd3786"
             ],
             [
              0.5555555555555556,
              "#d8576b"
             ],
             [
              0.6666666666666666,
              "#ed7953"
             ],
             [
              0.7777777777777778,
              "#fb9f3a"
             ],
             [
              0.8888888888888888,
              "#fdca26"
             ],
             [
              1,
              "#f0f921"
             ]
            ],
            "type": "heatmapgl"
           }
          ],
          "histogram": [
           {
            "marker": {
             "colorbar": {
              "outlinewidth": 0,
              "ticks": ""
             }
            },
            "type": "histogram"
           }
          ],
          "histogram2d": [
           {
            "colorbar": {
             "outlinewidth": 0,
             "ticks": ""
            },
            "colorscale": [
             [
              0,
              "#0d0887"
             ],
             [
              0.1111111111111111,
              "#46039f"
             ],
             [
              0.2222222222222222,
              "#7201a8"
             ],
             [
              0.3333333333333333,
              "#9c179e"
             ],
             [
              0.4444444444444444,
              "#bd3786"
             ],
             [
              0.5555555555555556,
              "#d8576b"
             ],
             [
              0.6666666666666666,
              "#ed7953"
             ],
             [
              0.7777777777777778,
              "#fb9f3a"
             ],
             [
              0.8888888888888888,
              "#fdca26"
             ],
             [
              1,
              "#f0f921"
             ]
            ],
            "type": "histogram2d"
           }
          ],
          "histogram2dcontour": [
           {
            "colorbar": {
             "outlinewidth": 0,
             "ticks": ""
            },
            "colorscale": [
             [
              0,
              "#0d0887"
             ],
             [
              0.1111111111111111,
              "#46039f"
             ],
             [
              0.2222222222222222,
              "#7201a8"
             ],
             [
              0.3333333333333333,
              "#9c179e"
             ],
             [
              0.4444444444444444,
              "#bd3786"
             ],
             [
              0.5555555555555556,
              "#d8576b"
             ],
             [
              0.6666666666666666,
              "#ed7953"
             ],
             [
              0.7777777777777778,
              "#fb9f3a"
             ],
             [
              0.8888888888888888,
              "#fdca26"
             ],
             [
              1,
              "#f0f921"
             ]
            ],
            "type": "histogram2dcontour"
           }
          ],
          "mesh3d": [
           {
            "colorbar": {
             "outlinewidth": 0,
             "ticks": ""
            },
            "type": "mesh3d"
           }
          ],
          "parcoords": [
           {
            "line": {
             "colorbar": {
              "outlinewidth": 0,
              "ticks": ""
             }
            },
            "type": "parcoords"
           }
          ],
          "scatter": [
           {
            "marker": {
             "colorbar": {
              "outlinewidth": 0,
              "ticks": ""
             }
            },
            "type": "scatter"
           }
          ],
          "scatter3d": [
           {
            "line": {
             "colorbar": {
              "outlinewidth": 0,
              "ticks": ""
             }
            },
            "marker": {
             "colorbar": {
              "outlinewidth": 0,
              "ticks": ""
             }
            },
            "type": "scatter3d"
           }
          ],
          "scattercarpet": [
           {
            "marker": {
             "colorbar": {
              "outlinewidth": 0,
              "ticks": ""
             }
            },
            "type": "scattercarpet"
           }
          ],
          "scattergeo": [
           {
            "marker": {
             "colorbar": {
              "outlinewidth": 0,
              "ticks": ""
             }
            },
            "type": "scattergeo"
           }
          ],
          "scattergl": [
           {
            "marker": {
             "colorbar": {
              "outlinewidth": 0,
              "ticks": ""
             }
            },
            "type": "scattergl"
           }
          ],
          "scattermapbox": [
           {
            "marker": {
             "colorbar": {
              "outlinewidth": 0,
              "ticks": ""
             }
            },
            "type": "scattermapbox"
           }
          ],
          "scatterpolar": [
           {
            "marker": {
             "colorbar": {
              "outlinewidth": 0,
              "ticks": ""
             }
            },
            "type": "scatterpolar"
           }
          ],
          "scatterpolargl": [
           {
            "marker": {
             "colorbar": {
              "outlinewidth": 0,
              "ticks": ""
             }
            },
            "type": "scatterpolargl"
           }
          ],
          "scatterternary": [
           {
            "marker": {
             "colorbar": {
              "outlinewidth": 0,
              "ticks": ""
             }
            },
            "type": "scatterternary"
           }
          ],
          "surface": [
           {
            "colorbar": {
             "outlinewidth": 0,
             "ticks": ""
            },
            "colorscale": [
             [
              0,
              "#0d0887"
             ],
             [
              0.1111111111111111,
              "#46039f"
             ],
             [
              0.2222222222222222,
              "#7201a8"
             ],
             [
              0.3333333333333333,
              "#9c179e"
             ],
             [
              0.4444444444444444,
              "#bd3786"
             ],
             [
              0.5555555555555556,
              "#d8576b"
             ],
             [
              0.6666666666666666,
              "#ed7953"
             ],
             [
              0.7777777777777778,
              "#fb9f3a"
             ],
             [
              0.8888888888888888,
              "#fdca26"
             ],
             [
              1,
              "#f0f921"
             ]
            ],
            "type": "surface"
           }
          ],
          "table": [
           {
            "cells": {
             "fill": {
              "color": "#EBF0F8"
             },
             "line": {
              "color": "white"
             }
            },
            "header": {
             "fill": {
              "color": "#C8D4E3"
             },
             "line": {
              "color": "white"
             }
            },
            "type": "table"
           }
          ]
         },
         "layout": {
          "annotationdefaults": {
           "arrowcolor": "#2a3f5f",
           "arrowhead": 0,
           "arrowwidth": 1
          },
          "colorscale": {
           "diverging": [
            [
             0,
             "#8e0152"
            ],
            [
             0.1,
             "#c51b7d"
            ],
            [
             0.2,
             "#de77ae"
            ],
            [
             0.3,
             "#f1b6da"
            ],
            [
             0.4,
             "#fde0ef"
            ],
            [
             0.5,
             "#f7f7f7"
            ],
            [
             0.6,
             "#e6f5d0"
            ],
            [
             0.7,
             "#b8e186"
            ],
            [
             0.8,
             "#7fbc41"
            ],
            [
             0.9,
             "#4d9221"
            ],
            [
             1,
             "#276419"
            ]
           ],
           "sequential": [
            [
             0,
             "#0d0887"
            ],
            [
             0.1111111111111111,
             "#46039f"
            ],
            [
             0.2222222222222222,
             "#7201a8"
            ],
            [
             0.3333333333333333,
             "#9c179e"
            ],
            [
             0.4444444444444444,
             "#bd3786"
            ],
            [
             0.5555555555555556,
             "#d8576b"
            ],
            [
             0.6666666666666666,
             "#ed7953"
            ],
            [
             0.7777777777777778,
             "#fb9f3a"
            ],
            [
             0.8888888888888888,
             "#fdca26"
            ],
            [
             1,
             "#f0f921"
            ]
           ],
           "sequentialminus": [
            [
             0,
             "#0d0887"
            ],
            [
             0.1111111111111111,
             "#46039f"
            ],
            [
             0.2222222222222222,
             "#7201a8"
            ],
            [
             0.3333333333333333,
             "#9c179e"
            ],
            [
             0.4444444444444444,
             "#bd3786"
            ],
            [
             0.5555555555555556,
             "#d8576b"
            ],
            [
             0.6666666666666666,
             "#ed7953"
            ],
            [
             0.7777777777777778,
             "#fb9f3a"
            ],
            [
             0.8888888888888888,
             "#fdca26"
            ],
            [
             1,
             "#f0f921"
            ]
           ]
          },
          "colorway": [
           "#636efa",
           "#EF553B",
           "#00cc96",
           "#ab63fa",
           "#FFA15A",
           "#19d3f3",
           "#FF6692",
           "#B6E880",
           "#FF97FF",
           "#FECB52"
          ],
          "font": {
           "color": "#2a3f5f"
          },
          "geo": {
           "bgcolor": "white",
           "lakecolor": "white",
           "landcolor": "#E5ECF6",
           "showlakes": true,
           "showland": true,
           "subunitcolor": "white"
          },
          "hoverlabel": {
           "align": "left"
          },
          "hovermode": "closest",
          "mapbox": {
           "style": "light"
          },
          "paper_bgcolor": "white",
          "plot_bgcolor": "#E5ECF6",
          "polar": {
           "angularaxis": {
            "gridcolor": "white",
            "linecolor": "white",
            "ticks": ""
           },
           "bgcolor": "#E5ECF6",
           "radialaxis": {
            "gridcolor": "white",
            "linecolor": "white",
            "ticks": ""
           }
          },
          "scene": {
           "xaxis": {
            "backgroundcolor": "#E5ECF6",
            "gridcolor": "white",
            "gridwidth": 2,
            "linecolor": "white",
            "showbackground": true,
            "ticks": "",
            "zerolinecolor": "white"
           },
           "yaxis": {
            "backgroundcolor": "#E5ECF6",
            "gridcolor": "white",
            "gridwidth": 2,
            "linecolor": "white",
            "showbackground": true,
            "ticks": "",
            "zerolinecolor": "white"
           },
           "zaxis": {
            "backgroundcolor": "#E5ECF6",
            "gridcolor": "white",
            "gridwidth": 2,
            "linecolor": "white",
            "showbackground": true,
            "ticks": "",
            "zerolinecolor": "white"
           }
          },
          "shapedefaults": {
           "line": {
            "color": "#2a3f5f"
           }
          },
          "ternary": {
           "aaxis": {
            "gridcolor": "white",
            "linecolor": "white",
            "ticks": ""
           },
           "baxis": {
            "gridcolor": "white",
            "linecolor": "white",
            "ticks": ""
           },
           "bgcolor": "#E5ECF6",
           "caxis": {
            "gridcolor": "white",
            "linecolor": "white",
            "ticks": ""
           }
          },
          "title": {
           "x": 0.05
          },
          "xaxis": {
           "automargin": true,
           "gridcolor": "white",
           "linecolor": "white",
           "ticks": "",
           "zerolinecolor": "white",
           "zerolinewidth": 2
          },
          "yaxis": {
           "automargin": true,
           "gridcolor": "white",
           "linecolor": "white",
           "ticks": "",
           "zerolinecolor": "white",
           "zerolinewidth": 2
          }
         }
        },
        "title": {
         "font": {
          "color": "#4D5663"
         },
         "text": "АЧХ"
        },
        "xaxis": {
         "gridcolor": "#E1E5ED",
         "showgrid": true,
         "tickfont": {
          "color": "#4D5663"
         },
         "title": {
          "font": {
           "color": "#4D5663"
          },
          "text": "W"
         },
         "type": "log",
         "zerolinecolor": "#E1E5ED"
        },
        "yaxis": {
         "gridcolor": "#E1E5ED",
         "showgrid": true,
         "tickfont": {
          "color": "#4D5663"
         },
         "title": {
          "font": {
           "color": "#4D5663"
          },
          "text": "mag"
         },
         "zerolinecolor": "#E1E5ED"
        }
       }
      },
      "text/html": [
       "<div>\n",
       "        \n",
       "        \n",
       "            <div id=\"bbaaa77b-2125-4175-b067-60c738adad28\" class=\"plotly-graph-div\" style=\"height:525px; width:100%;\"></div>\n",
       "            <script type=\"text/javascript\">\n",
       "                require([\"plotly\"], function(Plotly) {\n",
       "                    window.PLOTLYENV=window.PLOTLYENV || {};\n",
       "                    window.PLOTLYENV.BASE_URL='https://plot.ly';\n",
       "                    \n",
       "                if (document.getElementById(\"bbaaa77b-2125-4175-b067-60c738adad28\")) {\n",
       "                    Plotly.newPlot(\n",
       "                        'bbaaa77b-2125-4175-b067-60c738adad28',\n",
       "                        [{\"line\": {\"color\": \"rgba(255, 153, 51, 1.0)\", \"dash\": \"solid\", \"shape\": \"linear\", \"width\": 1.3}, \"mode\": \"lines\", \"name\": \"0\", \"text\": \"\", \"type\": \"scatter\", \"x\": [0.01, 0.01291549665014884, 0.016681005372000592, 0.021544346900318832, 0.027825594022071243, 0.03593813663804628, 0.046415888336127774, 0.05994842503189409, 0.0774263682681127, 0.1, 0.1291549665014884, 0.16681005372000582, 0.21544346900318834, 0.2782559402207124, 0.3593813663804626, 0.46415888336127775, 0.5994842503189409, 0.774263682681127, 1.0, 1.291549665014884, 1.6681005372000592, 2.154434690031882, 2.782559402207123, 3.593813663804626, 4.6415888336127775, 5.994842503189409, 7.742636826811269, 10.0, 12.915496650148826, 16.681005372000573, 21.54434690031882, 27.82559402207123, 35.93813663804626, 46.41588833612777, 59.94842503189409, 77.4263682681127, 100.0, 129.15496650148827, 166.81005372000593, 215.44346900318823, 278.2559402207126, 359.38136638046257, 464.1588833612773, 599.4842503189409, 774.2636826811262, 1000.0, 1291.5496650148827, 1668.100537200059, 2154.4346900318824, 2782.55940220712, 3593.813663804626, 4641.588833612773, 5994.8425031894085, 7742.636826811262, 10000.0, 12915.496650148827, 16681.005372000556, 21544.346900318822, 27825.5940220712, 35938.13663804626, 46415.888336127726, 59948.42503189409, 77426.36826811262, 100000.0, 129154.96650148826, 166810.05372000558, 215443.46900318822, 278255.94022071204, 359381.36638046254, 464158.8833612772, 599484.2503189408, 774263.6826811262, 1000000.0, 1291549.6650148828, 1668100.5372000558, 2154434.6900318777, 2782559.402207126, 3593813.6638046256, 4641588.833612773, 5994842.503189396, 7742636.826811277, 10000000.0, 12915496.650148828, 16681005.372000556, 21544346.90031878, 27825594.022071257, 35938136.63804626, 46415888.33612773, 59948425.03189397, 77426368.26811247, 100000000.0, 129154966.50148827, 166810053.72000557, 215443469.00318778, 278255940.2207126, 359381366.3804626, 464158883.3612773, 599484250.3189397, 774263682.6811246, 1000000000.0], \"y\": [-200.0000000868589, -197.77777786463668, -195.55555564241445, -193.33333342019222, -191.11111119797002, -188.88888897574776, -186.66666675352556, -184.44444453130333, -182.22222230908113, -180.0000000868589, -177.77777786463668, -175.55555564241445, -173.33333342019222, -171.11111119797002, -168.88888897574782, -166.66666675352556, -164.44444453130333, -162.22222230908113, -160.0000000868589, -157.77777786463668, -155.55555564241445, -153.33333342019222, -151.11111119797002, -148.88888897574782, -146.66666675352556, -144.44444453130336, -142.22222230908113, -140.00000008685896, -137.77777786463676, -135.5555556424146, -133.33333342019242, -131.11111119797036, -128.88888897574836, -126.6666667535265, -124.4444445313049, -122.22222230908372, -120.00000008686325, -117.77777786464392, -115.55555564242653, -113.3333334202124, -111.11111119800363, -108.88888897580388, -106.66666675361913, -104.44444453145941, -102.22222230934149, -100.00000008729319, -97.77777786536113, -95.55555564362291, -93.33333342220804, -91.1111112013326, -88.88888898135691, -86.66666676288216, -84.44444454691109, -82.22222233511641, -80.00000013028836, -77.77777793708137, -75.55555576325948, -73.33333362177387, -71.11111153422844, -68.88888953666063, -66.66666768918455, -64.44444609207648, -62.22222491260731, -60.00000442980146, -57.77778510909908, -55.555567726899355, -53.33335357830922, -51.11114482368366, -48.888945066673706, -46.66676031842556, -44.44460060584004, -42.22248265397427, -40.00043435961884, -37.77850225106497, -35.55676392448621, -33.33534876888483, -31.11447248126011, -28.894494485443506, -26.676013279684906, -24.46002428679277, -22.248179850572267, -20.043213823825333, -17.84962496040107, -15.674749919148642, -13.530376668078695, -11.434987191679793, -9.416424456612647, -7.514014381680193, -5.777857634015893, -4.262021957156376, -3.01030000006926, -2.039799713184406, -1.333413148638537, -0.8473476589469787, -0.5275355007350406, -0.3238760061935552, -0.1970432555920465, -0.11919428143711282, -0.07184709861463091, -0.04321373868641461]}],\n",
       "                        {\"legend\": {\"bgcolor\": \"#FFFFFF\", \"font\": {\"color\": \"#4D5663\"}}, \"paper_bgcolor\": \"#FFFFFF\", \"plot_bgcolor\": \"#FFFFFF\", \"template\": {\"data\": {\"bar\": [{\"error_x\": {\"color\": \"#2a3f5f\"}, \"error_y\": {\"color\": \"#2a3f5f\"}, \"marker\": {\"line\": {\"color\": \"#E5ECF6\", \"width\": 0.5}}, \"type\": \"bar\"}], \"barpolar\": [{\"marker\": {\"line\": {\"color\": \"#E5ECF6\", \"width\": 0.5}}, \"type\": \"barpolar\"}], \"carpet\": [{\"aaxis\": {\"endlinecolor\": \"#2a3f5f\", \"gridcolor\": \"white\", \"linecolor\": \"white\", \"minorgridcolor\": \"white\", \"startlinecolor\": \"#2a3f5f\"}, \"baxis\": {\"endlinecolor\": \"#2a3f5f\", \"gridcolor\": \"white\", \"linecolor\": \"white\", \"minorgridcolor\": \"white\", \"startlinecolor\": \"#2a3f5f\"}, \"type\": \"carpet\"}], \"choropleth\": [{\"colorbar\": {\"outlinewidth\": 0, \"ticks\": \"\"}, \"type\": \"choropleth\"}], \"contour\": [{\"colorbar\": {\"outlinewidth\": 0, \"ticks\": \"\"}, \"colorscale\": [[0.0, \"#0d0887\"], [0.1111111111111111, \"#46039f\"], [0.2222222222222222, \"#7201a8\"], [0.3333333333333333, \"#9c179e\"], [0.4444444444444444, \"#bd3786\"], [0.5555555555555556, \"#d8576b\"], [0.6666666666666666, \"#ed7953\"], [0.7777777777777778, \"#fb9f3a\"], [0.8888888888888888, \"#fdca26\"], [1.0, \"#f0f921\"]], \"type\": \"contour\"}], \"contourcarpet\": [{\"colorbar\": {\"outlinewidth\": 0, \"ticks\": \"\"}, \"type\": \"contourcarpet\"}], \"heatmap\": [{\"colorbar\": {\"outlinewidth\": 0, \"ticks\": \"\"}, \"colorscale\": [[0.0, \"#0d0887\"], [0.1111111111111111, \"#46039f\"], [0.2222222222222222, \"#7201a8\"], [0.3333333333333333, \"#9c179e\"], [0.4444444444444444, \"#bd3786\"], [0.5555555555555556, \"#d8576b\"], [0.6666666666666666, \"#ed7953\"], [0.7777777777777778, \"#fb9f3a\"], [0.8888888888888888, \"#fdca26\"], [1.0, \"#f0f921\"]], \"type\": \"heatmap\"}], \"heatmapgl\": [{\"colorbar\": {\"outlinewidth\": 0, \"ticks\": \"\"}, \"colorscale\": [[0.0, \"#0d0887\"], [0.1111111111111111, \"#46039f\"], [0.2222222222222222, \"#7201a8\"], [0.3333333333333333, \"#9c179e\"], [0.4444444444444444, \"#bd3786\"], [0.5555555555555556, \"#d8576b\"], [0.6666666666666666, \"#ed7953\"], [0.7777777777777778, \"#fb9f3a\"], [0.8888888888888888, \"#fdca26\"], [1.0, \"#f0f921\"]], \"type\": \"heatmapgl\"}], \"histogram\": [{\"marker\": {\"colorbar\": {\"outlinewidth\": 0, \"ticks\": \"\"}}, \"type\": \"histogram\"}], \"histogram2d\": [{\"colorbar\": {\"outlinewidth\": 0, \"ticks\": \"\"}, \"colorscale\": [[0.0, \"#0d0887\"], [0.1111111111111111, \"#46039f\"], [0.2222222222222222, \"#7201a8\"], [0.3333333333333333, \"#9c179e\"], [0.4444444444444444, \"#bd3786\"], [0.5555555555555556, \"#d8576b\"], [0.6666666666666666, \"#ed7953\"], [0.7777777777777778, \"#fb9f3a\"], [0.8888888888888888, \"#fdca26\"], [1.0, \"#f0f921\"]], \"type\": \"histogram2d\"}], \"histogram2dcontour\": [{\"colorbar\": {\"outlinewidth\": 0, \"ticks\": \"\"}, \"colorscale\": [[0.0, \"#0d0887\"], [0.1111111111111111, \"#46039f\"], [0.2222222222222222, \"#7201a8\"], [0.3333333333333333, \"#9c179e\"], [0.4444444444444444, \"#bd3786\"], [0.5555555555555556, \"#d8576b\"], [0.6666666666666666, \"#ed7953\"], [0.7777777777777778, \"#fb9f3a\"], [0.8888888888888888, \"#fdca26\"], [1.0, \"#f0f921\"]], \"type\": \"histogram2dcontour\"}], \"mesh3d\": [{\"colorbar\": {\"outlinewidth\": 0, \"ticks\": \"\"}, \"type\": \"mesh3d\"}], \"parcoords\": [{\"line\": {\"colorbar\": {\"outlinewidth\": 0, \"ticks\": \"\"}}, \"type\": \"parcoords\"}], \"scatter\": [{\"marker\": {\"colorbar\": {\"outlinewidth\": 0, \"ticks\": \"\"}}, \"type\": \"scatter\"}], \"scatter3d\": [{\"line\": {\"colorbar\": {\"outlinewidth\": 0, \"ticks\": \"\"}}, \"marker\": {\"colorbar\": {\"outlinewidth\": 0, \"ticks\": \"\"}}, \"type\": \"scatter3d\"}], \"scattercarpet\": [{\"marker\": {\"colorbar\": {\"outlinewidth\": 0, \"ticks\": \"\"}}, \"type\": \"scattercarpet\"}], \"scattergeo\": [{\"marker\": {\"colorbar\": {\"outlinewidth\": 0, \"ticks\": \"\"}}, \"type\": \"scattergeo\"}], \"scattergl\": [{\"marker\": {\"colorbar\": {\"outlinewidth\": 0, \"ticks\": \"\"}}, \"type\": \"scattergl\"}], \"scattermapbox\": [{\"marker\": {\"colorbar\": {\"outlinewidth\": 0, \"ticks\": \"\"}}, \"type\": \"scattermapbox\"}], \"scatterpolar\": [{\"marker\": {\"colorbar\": {\"outlinewidth\": 0, \"ticks\": \"\"}}, \"type\": \"scatterpolar\"}], \"scatterpolargl\": [{\"marker\": {\"colorbar\": {\"outlinewidth\": 0, \"ticks\": \"\"}}, \"type\": \"scatterpolargl\"}], \"scatterternary\": [{\"marker\": {\"colorbar\": {\"outlinewidth\": 0, \"ticks\": \"\"}}, \"type\": \"scatterternary\"}], \"surface\": [{\"colorbar\": {\"outlinewidth\": 0, \"ticks\": \"\"}, \"colorscale\": [[0.0, \"#0d0887\"], [0.1111111111111111, \"#46039f\"], [0.2222222222222222, \"#7201a8\"], [0.3333333333333333, \"#9c179e\"], [0.4444444444444444, \"#bd3786\"], [0.5555555555555556, \"#d8576b\"], [0.6666666666666666, \"#ed7953\"], [0.7777777777777778, \"#fb9f3a\"], [0.8888888888888888, \"#fdca26\"], [1.0, \"#f0f921\"]], \"type\": \"surface\"}], \"table\": [{\"cells\": {\"fill\": {\"color\": \"#EBF0F8\"}, \"line\": {\"color\": \"white\"}}, \"header\": {\"fill\": {\"color\": \"#C8D4E3\"}, \"line\": {\"color\": \"white\"}}, \"type\": \"table\"}]}, \"layout\": {\"annotationdefaults\": {\"arrowcolor\": \"#2a3f5f\", \"arrowhead\": 0, \"arrowwidth\": 1}, \"colorscale\": {\"diverging\": [[0, \"#8e0152\"], [0.1, \"#c51b7d\"], [0.2, \"#de77ae\"], [0.3, \"#f1b6da\"], [0.4, \"#fde0ef\"], [0.5, \"#f7f7f7\"], [0.6, \"#e6f5d0\"], [0.7, \"#b8e186\"], [0.8, \"#7fbc41\"], [0.9, \"#4d9221\"], [1, \"#276419\"]], \"sequential\": [[0.0, \"#0d0887\"], [0.1111111111111111, \"#46039f\"], [0.2222222222222222, \"#7201a8\"], [0.3333333333333333, \"#9c179e\"], [0.4444444444444444, \"#bd3786\"], [0.5555555555555556, \"#d8576b\"], [0.6666666666666666, \"#ed7953\"], [0.7777777777777778, \"#fb9f3a\"], [0.8888888888888888, \"#fdca26\"], [1.0, \"#f0f921\"]], \"sequentialminus\": [[0.0, \"#0d0887\"], [0.1111111111111111, \"#46039f\"], [0.2222222222222222, \"#7201a8\"], [0.3333333333333333, \"#9c179e\"], [0.4444444444444444, \"#bd3786\"], [0.5555555555555556, \"#d8576b\"], [0.6666666666666666, \"#ed7953\"], [0.7777777777777778, \"#fb9f3a\"], [0.8888888888888888, \"#fdca26\"], [1.0, \"#f0f921\"]]}, \"colorway\": [\"#636efa\", \"#EF553B\", \"#00cc96\", \"#ab63fa\", \"#FFA15A\", \"#19d3f3\", \"#FF6692\", \"#B6E880\", \"#FF97FF\", \"#FECB52\"], \"font\": {\"color\": \"#2a3f5f\"}, \"geo\": {\"bgcolor\": \"white\", \"lakecolor\": \"white\", \"landcolor\": \"#E5ECF6\", \"showlakes\": true, \"showland\": true, \"subunitcolor\": \"white\"}, \"hoverlabel\": {\"align\": \"left\"}, \"hovermode\": \"closest\", \"mapbox\": {\"style\": \"light\"}, \"paper_bgcolor\": \"white\", \"plot_bgcolor\": \"#E5ECF6\", \"polar\": {\"angularaxis\": {\"gridcolor\": \"white\", \"linecolor\": \"white\", \"ticks\": \"\"}, \"bgcolor\": \"#E5ECF6\", \"radialaxis\": {\"gridcolor\": \"white\", \"linecolor\": \"white\", \"ticks\": \"\"}}, \"scene\": {\"xaxis\": {\"backgroundcolor\": \"#E5ECF6\", \"gridcolor\": \"white\", \"gridwidth\": 2, \"linecolor\": \"white\", \"showbackground\": true, \"ticks\": \"\", \"zerolinecolor\": \"white\"}, \"yaxis\": {\"backgroundcolor\": \"#E5ECF6\", \"gridcolor\": \"white\", \"gridwidth\": 2, \"linecolor\": \"white\", \"showbackground\": true, \"ticks\": \"\", \"zerolinecolor\": \"white\"}, \"zaxis\": {\"backgroundcolor\": \"#E5ECF6\", \"gridcolor\": \"white\", \"gridwidth\": 2, \"linecolor\": \"white\", \"showbackground\": true, \"ticks\": \"\", \"zerolinecolor\": \"white\"}}, \"shapedefaults\": {\"line\": {\"color\": \"#2a3f5f\"}}, \"ternary\": {\"aaxis\": {\"gridcolor\": \"white\", \"linecolor\": \"white\", \"ticks\": \"\"}, \"baxis\": {\"gridcolor\": \"white\", \"linecolor\": \"white\", \"ticks\": \"\"}, \"bgcolor\": \"#E5ECF6\", \"caxis\": {\"gridcolor\": \"white\", \"linecolor\": \"white\", \"ticks\": \"\"}}, \"title\": {\"x\": 0.05}, \"xaxis\": {\"automargin\": true, \"gridcolor\": \"white\", \"linecolor\": \"white\", \"ticks\": \"\", \"zerolinecolor\": \"white\", \"zerolinewidth\": 2}, \"yaxis\": {\"automargin\": true, \"gridcolor\": \"white\", \"linecolor\": \"white\", \"ticks\": \"\", \"zerolinecolor\": \"white\", \"zerolinewidth\": 2}}}, \"title\": {\"font\": {\"color\": \"#4D5663\"}, \"text\": \"\\u0410\\u0427\\u0425\"}, \"xaxis\": {\"gridcolor\": \"#E1E5ED\", \"showgrid\": true, \"tickfont\": {\"color\": \"#4D5663\"}, \"title\": {\"font\": {\"color\": \"#4D5663\"}, \"text\": \"W\"}, \"type\": \"log\", \"zerolinecolor\": \"#E1E5ED\"}, \"yaxis\": {\"gridcolor\": \"#E1E5ED\", \"showgrid\": true, \"tickfont\": {\"color\": \"#4D5663\"}, \"title\": {\"font\": {\"color\": \"#4D5663\"}, \"text\": \"mag\"}, \"zerolinecolor\": \"#E1E5ED\"}},\n",
       "                        {\"showLink\": true, \"linkText\": \"Export to plot.ly\", \"plotlyServerURL\": \"https://plot.ly\", \"responsive\": true}\n",
       "                    ).then(function(){\n",
       "                            \n",
       "var gd = document.getElementById('bbaaa77b-2125-4175-b067-60c738adad28');\n",
       "var x = new MutationObserver(function (mutations, observer) {{\n",
       "        var display = window.getComputedStyle(gd).display;\n",
       "        if (!display || display === 'none') {{\n",
       "            console.log([gd, 'removed!']);\n",
       "            Plotly.purge(gd);\n",
       "            observer.disconnect();\n",
       "        }}\n",
       "}});\n",
       "\n",
       "// Listen for the removal of the full notebook cells\n",
       "var notebookContainer = gd.closest('#notebook-container');\n",
       "if (notebookContainer) {{\n",
       "    x.observe(notebookContainer, {childList: true});\n",
       "}}\n",
       "\n",
       "// Listen for the clearing of the current output cell\n",
       "var outputEl = gd.closest('.output');\n",
       "if (outputEl) {{\n",
       "    x.observe(outputEl, {childList: true});\n",
       "}}\n",
       "\n",
       "                        })\n",
       "                };\n",
       "                });\n",
       "            </script>\n",
       "        </div>"
      ]
     },
     "metadata": {},
     "output_type": "display_data"
    },
    {
     "data": {
      "application/vnd.plotly.v1+json": {
       "config": {
        "linkText": "Export to plot.ly",
        "plotlyServerURL": "https://plot.ly",
        "showLink": true
       },
       "data": [
        {
         "line": {
          "color": "rgba(255, 153, 51, 1.0)",
          "dash": "solid",
          "shape": "linear",
          "width": 1.3
         },
         "mode": "lines",
         "name": "0",
         "text": "",
         "type": "scatter",
         "x": [
          0.01,
          0.01291549665014884,
          0.016681005372000592,
          0.021544346900318832,
          0.027825594022071243,
          0.03593813663804628,
          0.046415888336127774,
          0.05994842503189409,
          0.0774263682681127,
          0.1,
          0.1291549665014884,
          0.16681005372000582,
          0.21544346900318834,
          0.2782559402207124,
          0.3593813663804626,
          0.46415888336127775,
          0.5994842503189409,
          0.774263682681127,
          1,
          1.291549665014884,
          1.6681005372000592,
          2.154434690031882,
          2.782559402207123,
          3.593813663804626,
          4.6415888336127775,
          5.994842503189409,
          7.742636826811269,
          10,
          12.915496650148826,
          16.681005372000573,
          21.54434690031882,
          27.82559402207123,
          35.93813663804626,
          46.41588833612777,
          59.94842503189409,
          77.4263682681127,
          100,
          129.15496650148827,
          166.81005372000593,
          215.44346900318823,
          278.2559402207126,
          359.38136638046257,
          464.1588833612773,
          599.4842503189409,
          774.2636826811262,
          1000,
          1291.5496650148827,
          1668.100537200059,
          2154.4346900318824,
          2782.55940220712,
          3593.813663804626,
          4641.588833612773,
          5994.8425031894085,
          7742.636826811262,
          10000,
          12915.496650148827,
          16681.005372000556,
          21544.346900318822,
          27825.5940220712,
          35938.13663804626,
          46415.888336127726,
          59948.42503189409,
          77426.36826811262,
          100000,
          129154.96650148826,
          166810.05372000558,
          215443.46900318822,
          278255.94022071204,
          359381.36638046254,
          464158.8833612772,
          599484.2503189408,
          774263.6826811262,
          1000000,
          1291549.6650148828,
          1668100.5372000558,
          2154434.6900318777,
          2782559.402207126,
          3593813.6638046256,
          4641588.833612773,
          5994842.503189396,
          7742636.826811277,
          10000000,
          12915496.650148828,
          16681005.372000556,
          21544346.90031878,
          27825594.022071257,
          35938136.63804626,
          46415888.33612773,
          59948425.03189397,
          77426368.26811247,
          100000000,
          129154966.50148827,
          166810053.72000557,
          215443469.00318778,
          278255940.2207126,
          359381366.3804626,
          464158883.3612773,
          599484250.3189397,
          774263682.6811246,
          1000000000
         ],
         "y": [
          89.99999999427042,
          89.99999999259997,
          89.99999999044249,
          89.999999987656,
          89.99999998405713,
          89.99999997940895,
          89.99999997340565,
          89.99999996565208,
          89.99999995563796,
          89.99999994270424,
          89.99999992599967,
          89.99999990442488,
          89.99999987655998,
          89.9999998405711,
          89.99999979408966,
          89.99999973405654,
          89.99999965652083,
          89.99999955637959,
          89.9999994270422,
          89.99999925999657,
          89.9999990442488,
          89.99999876559987,
          89.99999840571091,
          89.99999794089648,
          89.99999734056553,
          89.99999656520828,
          89.99999556379592,
          89.9999942704221,
          89.9999925999656,
          89.99999044248803,
          89.99998765599864,
          89.99998405710917,
          89.99997940896468,
          89.99997340565523,
          89.99996565208292,
          89.9999556379592,
          89.99994270422107,
          89.9999259996559,
          89.99990442488038,
          89.99987655998625,
          89.99984057109161,
          89.99979408964677,
          89.99973405655227,
          89.99965652082916,
          89.99955637959197,
          89.99942704221063,
          89.99925999655908,
          89.9990442488038,
          89.99876559986278,
          89.99840571091644,
          89.99794089646855,
          89.9973405655245,
          89.99656520829568,
          89.99556379592845,
          89.9942704221251,
          89.99259996563146,
          89.99044248812572,
          89.98765599881689,
          89.98405710957182,
          89.97940896556315,
          89.97340565713571,
          89.9656520870303,
          89.95563796806051,
          89.94270424015846,
          89.92599969704975,
          89.90442496901835,
          89.8765601772444,
          89.84057150306818,
          89.79409053323792,
          89.73405846209295,
          89.65652494373472,
          89.55638845641994,
          89.42706130804552,
          89.26003770158387,
          89.04433743672384,
          88.7657907953449,
          88.40612219169343,
          87.94178225948272,
          87.34247291683619,
          86.56931410891065,
          85.57262895110959,
          84.28940691922885,
          82.64070528408544,
          80.52968463769002,
          77.84183589244576,
          74.45045811244927,
          70.23250846091678,
          65.10120990735484,
          59.057976811697905,
          52.25068249555238,
          45.0000002864789,
          37.749318059152046,
          30.942023693648526,
          24.898790530252526,
          19.767491903799076,
          15.549542183494692,
          12.15816434348346,
          9.47031554828537,
          7.359294861487005,
          5.710593194228138
         ]
        }
       ],
       "layout": {
        "legend": {
         "bgcolor": "#FFFFFF",
         "font": {
          "color": "#4D5663"
         }
        },
        "paper_bgcolor": "#FFFFFF",
        "plot_bgcolor": "#FFFFFF",
        "template": {
         "data": {
          "bar": [
           {
            "error_x": {
             "color": "#2a3f5f"
            },
            "error_y": {
             "color": "#2a3f5f"
            },
            "marker": {
             "line": {
              "color": "#E5ECF6",
              "width": 0.5
             }
            },
            "type": "bar"
           }
          ],
          "barpolar": [
           {
            "marker": {
             "line": {
              "color": "#E5ECF6",
              "width": 0.5
             }
            },
            "type": "barpolar"
           }
          ],
          "carpet": [
           {
            "aaxis": {
             "endlinecolor": "#2a3f5f",
             "gridcolor": "white",
             "linecolor": "white",
             "minorgridcolor": "white",
             "startlinecolor": "#2a3f5f"
            },
            "baxis": {
             "endlinecolor": "#2a3f5f",
             "gridcolor": "white",
             "linecolor": "white",
             "minorgridcolor": "white",
             "startlinecolor": "#2a3f5f"
            },
            "type": "carpet"
           }
          ],
          "choropleth": [
           {
            "colorbar": {
             "outlinewidth": 0,
             "ticks": ""
            },
            "type": "choropleth"
           }
          ],
          "contour": [
           {
            "colorbar": {
             "outlinewidth": 0,
             "ticks": ""
            },
            "colorscale": [
             [
              0,
              "#0d0887"
             ],
             [
              0.1111111111111111,
              "#46039f"
             ],
             [
              0.2222222222222222,
              "#7201a8"
             ],
             [
              0.3333333333333333,
              "#9c179e"
             ],
             [
              0.4444444444444444,
              "#bd3786"
             ],
             [
              0.5555555555555556,
              "#d8576b"
             ],
             [
              0.6666666666666666,
              "#ed7953"
             ],
             [
              0.7777777777777778,
              "#fb9f3a"
             ],
             [
              0.8888888888888888,
              "#fdca26"
             ],
             [
              1,
              "#f0f921"
             ]
            ],
            "type": "contour"
           }
          ],
          "contourcarpet": [
           {
            "colorbar": {
             "outlinewidth": 0,
             "ticks": ""
            },
            "type": "contourcarpet"
           }
          ],
          "heatmap": [
           {
            "colorbar": {
             "outlinewidth": 0,
             "ticks": ""
            },
            "colorscale": [
             [
              0,
              "#0d0887"
             ],
             [
              0.1111111111111111,
              "#46039f"
             ],
             [
              0.2222222222222222,
              "#7201a8"
             ],
             [
              0.3333333333333333,
              "#9c179e"
             ],
             [
              0.4444444444444444,
              "#bd3786"
             ],
             [
              0.5555555555555556,
              "#d8576b"
             ],
             [
              0.6666666666666666,
              "#ed7953"
             ],
             [
              0.7777777777777778,
              "#fb9f3a"
             ],
             [
              0.8888888888888888,
              "#fdca26"
             ],
             [
              1,
              "#f0f921"
             ]
            ],
            "type": "heatmap"
           }
          ],
          "heatmapgl": [
           {
            "colorbar": {
             "outlinewidth": 0,
             "ticks": ""
            },
            "colorscale": [
             [
              0,
              "#0d0887"
             ],
             [
              0.1111111111111111,
              "#46039f"
             ],
             [
              0.2222222222222222,
              "#7201a8"
             ],
             [
              0.3333333333333333,
              "#9c179e"
             ],
             [
              0.4444444444444444,
              "#bd3786"
             ],
             [
              0.5555555555555556,
              "#d8576b"
             ],
             [
              0.6666666666666666,
              "#ed7953"
             ],
             [
              0.7777777777777778,
              "#fb9f3a"
             ],
             [
              0.8888888888888888,
              "#fdca26"
             ],
             [
              1,
              "#f0f921"
             ]
            ],
            "type": "heatmapgl"
           }
          ],
          "histogram": [
           {
            "marker": {
             "colorbar": {
              "outlinewidth": 0,
              "ticks": ""
             }
            },
            "type": "histogram"
           }
          ],
          "histogram2d": [
           {
            "colorbar": {
             "outlinewidth": 0,
             "ticks": ""
            },
            "colorscale": [
             [
              0,
              "#0d0887"
             ],
             [
              0.1111111111111111,
              "#46039f"
             ],
             [
              0.2222222222222222,
              "#7201a8"
             ],
             [
              0.3333333333333333,
              "#9c179e"
             ],
             [
              0.4444444444444444,
              "#bd3786"
             ],
             [
              0.5555555555555556,
              "#d8576b"
             ],
             [
              0.6666666666666666,
              "#ed7953"
             ],
             [
              0.7777777777777778,
              "#fb9f3a"
             ],
             [
              0.8888888888888888,
              "#fdca26"
             ],
             [
              1,
              "#f0f921"
             ]
            ],
            "type": "histogram2d"
           }
          ],
          "histogram2dcontour": [
           {
            "colorbar": {
             "outlinewidth": 0,
             "ticks": ""
            },
            "colorscale": [
             [
              0,
              "#0d0887"
             ],
             [
              0.1111111111111111,
              "#46039f"
             ],
             [
              0.2222222222222222,
              "#7201a8"
             ],
             [
              0.3333333333333333,
              "#9c179e"
             ],
             [
              0.4444444444444444,
              "#bd3786"
             ],
             [
              0.5555555555555556,
              "#d8576b"
             ],
             [
              0.6666666666666666,
              "#ed7953"
             ],
             [
              0.7777777777777778,
              "#fb9f3a"
             ],
             [
              0.8888888888888888,
              "#fdca26"
             ],
             [
              1,
              "#f0f921"
             ]
            ],
            "type": "histogram2dcontour"
           }
          ],
          "mesh3d": [
           {
            "colorbar": {
             "outlinewidth": 0,
             "ticks": ""
            },
            "type": "mesh3d"
           }
          ],
          "parcoords": [
           {
            "line": {
             "colorbar": {
              "outlinewidth": 0,
              "ticks": ""
             }
            },
            "type": "parcoords"
           }
          ],
          "scatter": [
           {
            "marker": {
             "colorbar": {
              "outlinewidth": 0,
              "ticks": ""
             }
            },
            "type": "scatter"
           }
          ],
          "scatter3d": [
           {
            "line": {
             "colorbar": {
              "outlinewidth": 0,
              "ticks": ""
             }
            },
            "marker": {
             "colorbar": {
              "outlinewidth": 0,
              "ticks": ""
             }
            },
            "type": "scatter3d"
           }
          ],
          "scattercarpet": [
           {
            "marker": {
             "colorbar": {
              "outlinewidth": 0,
              "ticks": ""
             }
            },
            "type": "scattercarpet"
           }
          ],
          "scattergeo": [
           {
            "marker": {
             "colorbar": {
              "outlinewidth": 0,
              "ticks": ""
             }
            },
            "type": "scattergeo"
           }
          ],
          "scattergl": [
           {
            "marker": {
             "colorbar": {
              "outlinewidth": 0,
              "ticks": ""
             }
            },
            "type": "scattergl"
           }
          ],
          "scattermapbox": [
           {
            "marker": {
             "colorbar": {
              "outlinewidth": 0,
              "ticks": ""
             }
            },
            "type": "scattermapbox"
           }
          ],
          "scatterpolar": [
           {
            "marker": {
             "colorbar": {
              "outlinewidth": 0,
              "ticks": ""
             }
            },
            "type": "scatterpolar"
           }
          ],
          "scatterpolargl": [
           {
            "marker": {
             "colorbar": {
              "outlinewidth": 0,
              "ticks": ""
             }
            },
            "type": "scatterpolargl"
           }
          ],
          "scatterternary": [
           {
            "marker": {
             "colorbar": {
              "outlinewidth": 0,
              "ticks": ""
             }
            },
            "type": "scatterternary"
           }
          ],
          "surface": [
           {
            "colorbar": {
             "outlinewidth": 0,
             "ticks": ""
            },
            "colorscale": [
             [
              0,
              "#0d0887"
             ],
             [
              0.1111111111111111,
              "#46039f"
             ],
             [
              0.2222222222222222,
              "#7201a8"
             ],
             [
              0.3333333333333333,
              "#9c179e"
             ],
             [
              0.4444444444444444,
              "#bd3786"
             ],
             [
              0.5555555555555556,
              "#d8576b"
             ],
             [
              0.6666666666666666,
              "#ed7953"
             ],
             [
              0.7777777777777778,
              "#fb9f3a"
             ],
             [
              0.8888888888888888,
              "#fdca26"
             ],
             [
              1,
              "#f0f921"
             ]
            ],
            "type": "surface"
           }
          ],
          "table": [
           {
            "cells": {
             "fill": {
              "color": "#EBF0F8"
             },
             "line": {
              "color": "white"
             }
            },
            "header": {
             "fill": {
              "color": "#C8D4E3"
             },
             "line": {
              "color": "white"
             }
            },
            "type": "table"
           }
          ]
         },
         "layout": {
          "annotationdefaults": {
           "arrowcolor": "#2a3f5f",
           "arrowhead": 0,
           "arrowwidth": 1
          },
          "colorscale": {
           "diverging": [
            [
             0,
             "#8e0152"
            ],
            [
             0.1,
             "#c51b7d"
            ],
            [
             0.2,
             "#de77ae"
            ],
            [
             0.3,
             "#f1b6da"
            ],
            [
             0.4,
             "#fde0ef"
            ],
            [
             0.5,
             "#f7f7f7"
            ],
            [
             0.6,
             "#e6f5d0"
            ],
            [
             0.7,
             "#b8e186"
            ],
            [
             0.8,
             "#7fbc41"
            ],
            [
             0.9,
             "#4d9221"
            ],
            [
             1,
             "#276419"
            ]
           ],
           "sequential": [
            [
             0,
             "#0d0887"
            ],
            [
             0.1111111111111111,
             "#46039f"
            ],
            [
             0.2222222222222222,
             "#7201a8"
            ],
            [
             0.3333333333333333,
             "#9c179e"
            ],
            [
             0.4444444444444444,
             "#bd3786"
            ],
            [
             0.5555555555555556,
             "#d8576b"
            ],
            [
             0.6666666666666666,
             "#ed7953"
            ],
            [
             0.7777777777777778,
             "#fb9f3a"
            ],
            [
             0.8888888888888888,
             "#fdca26"
            ],
            [
             1,
             "#f0f921"
            ]
           ],
           "sequentialminus": [
            [
             0,
             "#0d0887"
            ],
            [
             0.1111111111111111,
             "#46039f"
            ],
            [
             0.2222222222222222,
             "#7201a8"
            ],
            [
             0.3333333333333333,
             "#9c179e"
            ],
            [
             0.4444444444444444,
             "#bd3786"
            ],
            [
             0.5555555555555556,
             "#d8576b"
            ],
            [
             0.6666666666666666,
             "#ed7953"
            ],
            [
             0.7777777777777778,
             "#fb9f3a"
            ],
            [
             0.8888888888888888,
             "#fdca26"
            ],
            [
             1,
             "#f0f921"
            ]
           ]
          },
          "colorway": [
           "#636efa",
           "#EF553B",
           "#00cc96",
           "#ab63fa",
           "#FFA15A",
           "#19d3f3",
           "#FF6692",
           "#B6E880",
           "#FF97FF",
           "#FECB52"
          ],
          "font": {
           "color": "#2a3f5f"
          },
          "geo": {
           "bgcolor": "white",
           "lakecolor": "white",
           "landcolor": "#E5ECF6",
           "showlakes": true,
           "showland": true,
           "subunitcolor": "white"
          },
          "hoverlabel": {
           "align": "left"
          },
          "hovermode": "closest",
          "mapbox": {
           "style": "light"
          },
          "paper_bgcolor": "white",
          "plot_bgcolor": "#E5ECF6",
          "polar": {
           "angularaxis": {
            "gridcolor": "white",
            "linecolor": "white",
            "ticks": ""
           },
           "bgcolor": "#E5ECF6",
           "radialaxis": {
            "gridcolor": "white",
            "linecolor": "white",
            "ticks": ""
           }
          },
          "scene": {
           "xaxis": {
            "backgroundcolor": "#E5ECF6",
            "gridcolor": "white",
            "gridwidth": 2,
            "linecolor": "white",
            "showbackground": true,
            "ticks": "",
            "zerolinecolor": "white"
           },
           "yaxis": {
            "backgroundcolor": "#E5ECF6",
            "gridcolor": "white",
            "gridwidth": 2,
            "linecolor": "white",
            "showbackground": true,
            "ticks": "",
            "zerolinecolor": "white"
           },
           "zaxis": {
            "backgroundcolor": "#E5ECF6",
            "gridcolor": "white",
            "gridwidth": 2,
            "linecolor": "white",
            "showbackground": true,
            "ticks": "",
            "zerolinecolor": "white"
           }
          },
          "shapedefaults": {
           "line": {
            "color": "#2a3f5f"
           }
          },
          "ternary": {
           "aaxis": {
            "gridcolor": "white",
            "linecolor": "white",
            "ticks": ""
           },
           "baxis": {
            "gridcolor": "white",
            "linecolor": "white",
            "ticks": ""
           },
           "bgcolor": "#E5ECF6",
           "caxis": {
            "gridcolor": "white",
            "linecolor": "white",
            "ticks": ""
           }
          },
          "title": {
           "x": 0.05
          },
          "xaxis": {
           "automargin": true,
           "gridcolor": "white",
           "linecolor": "white",
           "ticks": "",
           "zerolinecolor": "white",
           "zerolinewidth": 2
          },
          "yaxis": {
           "automargin": true,
           "gridcolor": "white",
           "linecolor": "white",
           "ticks": "",
           "zerolinecolor": "white",
           "zerolinewidth": 2
          }
         }
        },
        "title": {
         "font": {
          "color": "#4D5663"
         },
         "text": "ФЧХ"
        },
        "xaxis": {
         "gridcolor": "#E1E5ED",
         "showgrid": true,
         "tickfont": {
          "color": "#4D5663"
         },
         "title": {
          "font": {
           "color": "#4D5663"
          },
          "text": "W"
         },
         "type": "log",
         "zerolinecolor": "#E1E5ED"
        },
        "yaxis": {
         "gridcolor": "#E1E5ED",
         "showgrid": true,
         "tickfont": {
          "color": "#4D5663"
         },
         "title": {
          "font": {
           "color": "#4D5663"
          },
          "text": "phase"
         },
         "zerolinecolor": "#E1E5ED"
        }
       }
      },
      "text/html": [
       "<div>\n",
       "        \n",
       "        \n",
       "            <div id=\"0b486733-80b1-417d-b2e4-09297eddc9ee\" class=\"plotly-graph-div\" style=\"height:525px; width:100%;\"></div>\n",
       "            <script type=\"text/javascript\">\n",
       "                require([\"plotly\"], function(Plotly) {\n",
       "                    window.PLOTLYENV=window.PLOTLYENV || {};\n",
       "                    window.PLOTLYENV.BASE_URL='https://plot.ly';\n",
       "                    \n",
       "                if (document.getElementById(\"0b486733-80b1-417d-b2e4-09297eddc9ee\")) {\n",
       "                    Plotly.newPlot(\n",
       "                        '0b486733-80b1-417d-b2e4-09297eddc9ee',\n",
       "                        [{\"line\": {\"color\": \"rgba(255, 153, 51, 1.0)\", \"dash\": \"solid\", \"shape\": \"linear\", \"width\": 1.3}, \"mode\": \"lines\", \"name\": \"0\", \"text\": \"\", \"type\": \"scatter\", \"x\": [0.01, 0.01291549665014884, 0.016681005372000592, 0.021544346900318832, 0.027825594022071243, 0.03593813663804628, 0.046415888336127774, 0.05994842503189409, 0.0774263682681127, 0.1, 0.1291549665014884, 0.16681005372000582, 0.21544346900318834, 0.2782559402207124, 0.3593813663804626, 0.46415888336127775, 0.5994842503189409, 0.774263682681127, 1.0, 1.291549665014884, 1.6681005372000592, 2.154434690031882, 2.782559402207123, 3.593813663804626, 4.6415888336127775, 5.994842503189409, 7.742636826811269, 10.0, 12.915496650148826, 16.681005372000573, 21.54434690031882, 27.82559402207123, 35.93813663804626, 46.41588833612777, 59.94842503189409, 77.4263682681127, 100.0, 129.15496650148827, 166.81005372000593, 215.44346900318823, 278.2559402207126, 359.38136638046257, 464.1588833612773, 599.4842503189409, 774.2636826811262, 1000.0, 1291.5496650148827, 1668.100537200059, 2154.4346900318824, 2782.55940220712, 3593.813663804626, 4641.588833612773, 5994.8425031894085, 7742.636826811262, 10000.0, 12915.496650148827, 16681.005372000556, 21544.346900318822, 27825.5940220712, 35938.13663804626, 46415.888336127726, 59948.42503189409, 77426.36826811262, 100000.0, 129154.96650148826, 166810.05372000558, 215443.46900318822, 278255.94022071204, 359381.36638046254, 464158.8833612772, 599484.2503189408, 774263.6826811262, 1000000.0, 1291549.6650148828, 1668100.5372000558, 2154434.6900318777, 2782559.402207126, 3593813.6638046256, 4641588.833612773, 5994842.503189396, 7742636.826811277, 10000000.0, 12915496.650148828, 16681005.372000556, 21544346.90031878, 27825594.022071257, 35938136.63804626, 46415888.33612773, 59948425.03189397, 77426368.26811247, 100000000.0, 129154966.50148827, 166810053.72000557, 215443469.00318778, 278255940.2207126, 359381366.3804626, 464158883.3612773, 599484250.3189397, 774263682.6811246, 1000000000.0], \"y\": [89.99999999427042, 89.99999999259997, 89.99999999044249, 89.999999987656, 89.99999998405713, 89.99999997940895, 89.99999997340565, 89.99999996565208, 89.99999995563796, 89.99999994270424, 89.99999992599967, 89.99999990442488, 89.99999987655998, 89.9999998405711, 89.99999979408966, 89.99999973405654, 89.99999965652083, 89.99999955637959, 89.9999994270422, 89.99999925999657, 89.9999990442488, 89.99999876559987, 89.99999840571091, 89.99999794089648, 89.99999734056553, 89.99999656520828, 89.99999556379592, 89.9999942704221, 89.9999925999656, 89.99999044248803, 89.99998765599864, 89.99998405710917, 89.99997940896468, 89.99997340565523, 89.99996565208292, 89.9999556379592, 89.99994270422107, 89.9999259996559, 89.99990442488038, 89.99987655998625, 89.99984057109161, 89.99979408964677, 89.99973405655227, 89.99965652082916, 89.99955637959197, 89.99942704221063, 89.99925999655908, 89.9990442488038, 89.99876559986278, 89.99840571091644, 89.99794089646855, 89.9973405655245, 89.99656520829568, 89.99556379592845, 89.9942704221251, 89.99259996563146, 89.99044248812572, 89.98765599881689, 89.98405710957182, 89.97940896556315, 89.97340565713571, 89.9656520870303, 89.95563796806051, 89.94270424015846, 89.92599969704975, 89.90442496901835, 89.8765601772444, 89.84057150306818, 89.79409053323792, 89.73405846209295, 89.65652494373472, 89.55638845641994, 89.42706130804552, 89.26003770158387, 89.04433743672384, 88.7657907953449, 88.40612219169343, 87.94178225948272, 87.34247291683619, 86.56931410891065, 85.57262895110959, 84.28940691922885, 82.64070528408544, 80.52968463769002, 77.84183589244576, 74.45045811244927, 70.23250846091678, 65.10120990735484, 59.057976811697905, 52.25068249555238, 45.0000002864789, 37.749318059152046, 30.942023693648526, 24.898790530252526, 19.767491903799076, 15.549542183494692, 12.15816434348346, 9.47031554828537, 7.359294861487005, 5.710593194228138]}],\n",
       "                        {\"legend\": {\"bgcolor\": \"#FFFFFF\", \"font\": {\"color\": \"#4D5663\"}}, \"paper_bgcolor\": \"#FFFFFF\", \"plot_bgcolor\": \"#FFFFFF\", \"template\": {\"data\": {\"bar\": [{\"error_x\": {\"color\": \"#2a3f5f\"}, \"error_y\": {\"color\": \"#2a3f5f\"}, \"marker\": {\"line\": {\"color\": \"#E5ECF6\", \"width\": 0.5}}, \"type\": \"bar\"}], \"barpolar\": [{\"marker\": {\"line\": {\"color\": \"#E5ECF6\", \"width\": 0.5}}, \"type\": \"barpolar\"}], \"carpet\": [{\"aaxis\": {\"endlinecolor\": \"#2a3f5f\", \"gridcolor\": \"white\", \"linecolor\": \"white\", \"minorgridcolor\": \"white\", \"startlinecolor\": \"#2a3f5f\"}, \"baxis\": {\"endlinecolor\": \"#2a3f5f\", \"gridcolor\": \"white\", \"linecolor\": \"white\", \"minorgridcolor\": \"white\", \"startlinecolor\": \"#2a3f5f\"}, \"type\": \"carpet\"}], \"choropleth\": [{\"colorbar\": {\"outlinewidth\": 0, \"ticks\": \"\"}, \"type\": \"choropleth\"}], \"contour\": [{\"colorbar\": {\"outlinewidth\": 0, \"ticks\": \"\"}, \"colorscale\": [[0.0, \"#0d0887\"], [0.1111111111111111, \"#46039f\"], [0.2222222222222222, \"#7201a8\"], [0.3333333333333333, \"#9c179e\"], [0.4444444444444444, \"#bd3786\"], [0.5555555555555556, \"#d8576b\"], [0.6666666666666666, \"#ed7953\"], [0.7777777777777778, \"#fb9f3a\"], [0.8888888888888888, \"#fdca26\"], [1.0, \"#f0f921\"]], \"type\": \"contour\"}], \"contourcarpet\": [{\"colorbar\": {\"outlinewidth\": 0, \"ticks\": \"\"}, \"type\": \"contourcarpet\"}], \"heatmap\": [{\"colorbar\": {\"outlinewidth\": 0, \"ticks\": \"\"}, \"colorscale\": [[0.0, \"#0d0887\"], [0.1111111111111111, \"#46039f\"], [0.2222222222222222, \"#7201a8\"], [0.3333333333333333, \"#9c179e\"], [0.4444444444444444, \"#bd3786\"], [0.5555555555555556, \"#d8576b\"], [0.6666666666666666, \"#ed7953\"], [0.7777777777777778, \"#fb9f3a\"], [0.8888888888888888, \"#fdca26\"], [1.0, \"#f0f921\"]], \"type\": \"heatmap\"}], \"heatmapgl\": [{\"colorbar\": {\"outlinewidth\": 0, \"ticks\": \"\"}, \"colorscale\": [[0.0, \"#0d0887\"], [0.1111111111111111, \"#46039f\"], [0.2222222222222222, \"#7201a8\"], [0.3333333333333333, \"#9c179e\"], [0.4444444444444444, \"#bd3786\"], [0.5555555555555556, \"#d8576b\"], [0.6666666666666666, \"#ed7953\"], [0.7777777777777778, \"#fb9f3a\"], [0.8888888888888888, \"#fdca26\"], [1.0, \"#f0f921\"]], \"type\": \"heatmapgl\"}], \"histogram\": [{\"marker\": {\"colorbar\": {\"outlinewidth\": 0, \"ticks\": \"\"}}, \"type\": \"histogram\"}], \"histogram2d\": [{\"colorbar\": {\"outlinewidth\": 0, \"ticks\": \"\"}, \"colorscale\": [[0.0, \"#0d0887\"], [0.1111111111111111, \"#46039f\"], [0.2222222222222222, \"#7201a8\"], [0.3333333333333333, \"#9c179e\"], [0.4444444444444444, \"#bd3786\"], [0.5555555555555556, \"#d8576b\"], [0.6666666666666666, \"#ed7953\"], [0.7777777777777778, \"#fb9f3a\"], [0.8888888888888888, \"#fdca26\"], [1.0, \"#f0f921\"]], \"type\": \"histogram2d\"}], \"histogram2dcontour\": [{\"colorbar\": {\"outlinewidth\": 0, \"ticks\": \"\"}, \"colorscale\": [[0.0, \"#0d0887\"], [0.1111111111111111, \"#46039f\"], [0.2222222222222222, \"#7201a8\"], [0.3333333333333333, \"#9c179e\"], [0.4444444444444444, \"#bd3786\"], [0.5555555555555556, \"#d8576b\"], [0.6666666666666666, \"#ed7953\"], [0.7777777777777778, \"#fb9f3a\"], [0.8888888888888888, \"#fdca26\"], [1.0, \"#f0f921\"]], \"type\": \"histogram2dcontour\"}], \"mesh3d\": [{\"colorbar\": {\"outlinewidth\": 0, \"ticks\": \"\"}, \"type\": \"mesh3d\"}], \"parcoords\": [{\"line\": {\"colorbar\": {\"outlinewidth\": 0, \"ticks\": \"\"}}, \"type\": \"parcoords\"}], \"scatter\": [{\"marker\": {\"colorbar\": {\"outlinewidth\": 0, \"ticks\": \"\"}}, \"type\": \"scatter\"}], \"scatter3d\": [{\"line\": {\"colorbar\": {\"outlinewidth\": 0, \"ticks\": \"\"}}, \"marker\": {\"colorbar\": {\"outlinewidth\": 0, \"ticks\": \"\"}}, \"type\": \"scatter3d\"}], \"scattercarpet\": [{\"marker\": {\"colorbar\": {\"outlinewidth\": 0, \"ticks\": \"\"}}, \"type\": \"scattercarpet\"}], \"scattergeo\": [{\"marker\": {\"colorbar\": {\"outlinewidth\": 0, \"ticks\": \"\"}}, \"type\": \"scattergeo\"}], \"scattergl\": [{\"marker\": {\"colorbar\": {\"outlinewidth\": 0, \"ticks\": \"\"}}, \"type\": \"scattergl\"}], \"scattermapbox\": [{\"marker\": {\"colorbar\": {\"outlinewidth\": 0, \"ticks\": \"\"}}, \"type\": \"scattermapbox\"}], \"scatterpolar\": [{\"marker\": {\"colorbar\": {\"outlinewidth\": 0, \"ticks\": \"\"}}, \"type\": \"scatterpolar\"}], \"scatterpolargl\": [{\"marker\": {\"colorbar\": {\"outlinewidth\": 0, \"ticks\": \"\"}}, \"type\": \"scatterpolargl\"}], \"scatterternary\": [{\"marker\": {\"colorbar\": {\"outlinewidth\": 0, \"ticks\": \"\"}}, \"type\": \"scatterternary\"}], \"surface\": [{\"colorbar\": {\"outlinewidth\": 0, \"ticks\": \"\"}, \"colorscale\": [[0.0, \"#0d0887\"], [0.1111111111111111, \"#46039f\"], [0.2222222222222222, \"#7201a8\"], [0.3333333333333333, \"#9c179e\"], [0.4444444444444444, \"#bd3786\"], [0.5555555555555556, \"#d8576b\"], [0.6666666666666666, \"#ed7953\"], [0.7777777777777778, \"#fb9f3a\"], [0.8888888888888888, \"#fdca26\"], [1.0, \"#f0f921\"]], \"type\": \"surface\"}], \"table\": [{\"cells\": {\"fill\": {\"color\": \"#EBF0F8\"}, \"line\": {\"color\": \"white\"}}, \"header\": {\"fill\": {\"color\": \"#C8D4E3\"}, \"line\": {\"color\": \"white\"}}, \"type\": \"table\"}]}, \"layout\": {\"annotationdefaults\": {\"arrowcolor\": \"#2a3f5f\", \"arrowhead\": 0, \"arrowwidth\": 1}, \"colorscale\": {\"diverging\": [[0, \"#8e0152\"], [0.1, \"#c51b7d\"], [0.2, \"#de77ae\"], [0.3, \"#f1b6da\"], [0.4, \"#fde0ef\"], [0.5, \"#f7f7f7\"], [0.6, \"#e6f5d0\"], [0.7, \"#b8e186\"], [0.8, \"#7fbc41\"], [0.9, \"#4d9221\"], [1, \"#276419\"]], \"sequential\": [[0.0, \"#0d0887\"], [0.1111111111111111, \"#46039f\"], [0.2222222222222222, \"#7201a8\"], [0.3333333333333333, \"#9c179e\"], [0.4444444444444444, \"#bd3786\"], [0.5555555555555556, \"#d8576b\"], [0.6666666666666666, \"#ed7953\"], [0.7777777777777778, \"#fb9f3a\"], [0.8888888888888888, \"#fdca26\"], [1.0, \"#f0f921\"]], \"sequentialminus\": [[0.0, \"#0d0887\"], [0.1111111111111111, \"#46039f\"], [0.2222222222222222, \"#7201a8\"], [0.3333333333333333, \"#9c179e\"], [0.4444444444444444, \"#bd3786\"], [0.5555555555555556, \"#d8576b\"], [0.6666666666666666, \"#ed7953\"], [0.7777777777777778, \"#fb9f3a\"], [0.8888888888888888, \"#fdca26\"], [1.0, \"#f0f921\"]]}, \"colorway\": [\"#636efa\", \"#EF553B\", \"#00cc96\", \"#ab63fa\", \"#FFA15A\", \"#19d3f3\", \"#FF6692\", \"#B6E880\", \"#FF97FF\", \"#FECB52\"], \"font\": {\"color\": \"#2a3f5f\"}, \"geo\": {\"bgcolor\": \"white\", \"lakecolor\": \"white\", \"landcolor\": \"#E5ECF6\", \"showlakes\": true, \"showland\": true, \"subunitcolor\": \"white\"}, \"hoverlabel\": {\"align\": \"left\"}, \"hovermode\": \"closest\", \"mapbox\": {\"style\": \"light\"}, \"paper_bgcolor\": \"white\", \"plot_bgcolor\": \"#E5ECF6\", \"polar\": {\"angularaxis\": {\"gridcolor\": \"white\", \"linecolor\": \"white\", \"ticks\": \"\"}, \"bgcolor\": \"#E5ECF6\", \"radialaxis\": {\"gridcolor\": \"white\", \"linecolor\": \"white\", \"ticks\": \"\"}}, \"scene\": {\"xaxis\": {\"backgroundcolor\": \"#E5ECF6\", \"gridcolor\": \"white\", \"gridwidth\": 2, \"linecolor\": \"white\", \"showbackground\": true, \"ticks\": \"\", \"zerolinecolor\": \"white\"}, \"yaxis\": {\"backgroundcolor\": \"#E5ECF6\", \"gridcolor\": \"white\", \"gridwidth\": 2, \"linecolor\": \"white\", \"showbackground\": true, \"ticks\": \"\", \"zerolinecolor\": \"white\"}, \"zaxis\": {\"backgroundcolor\": \"#E5ECF6\", \"gridcolor\": \"white\", \"gridwidth\": 2, \"linecolor\": \"white\", \"showbackground\": true, \"ticks\": \"\", \"zerolinecolor\": \"white\"}}, \"shapedefaults\": {\"line\": {\"color\": \"#2a3f5f\"}}, \"ternary\": {\"aaxis\": {\"gridcolor\": \"white\", \"linecolor\": \"white\", \"ticks\": \"\"}, \"baxis\": {\"gridcolor\": \"white\", \"linecolor\": \"white\", \"ticks\": \"\"}, \"bgcolor\": \"#E5ECF6\", \"caxis\": {\"gridcolor\": \"white\", \"linecolor\": \"white\", \"ticks\": \"\"}}, \"title\": {\"x\": 0.05}, \"xaxis\": {\"automargin\": true, \"gridcolor\": \"white\", \"linecolor\": \"white\", \"ticks\": \"\", \"zerolinecolor\": \"white\", \"zerolinewidth\": 2}, \"yaxis\": {\"automargin\": true, \"gridcolor\": \"white\", \"linecolor\": \"white\", \"ticks\": \"\", \"zerolinecolor\": \"white\", \"zerolinewidth\": 2}}}, \"title\": {\"font\": {\"color\": \"#4D5663\"}, \"text\": \"\\u0424\\u0427\\u0425\"}, \"xaxis\": {\"gridcolor\": \"#E1E5ED\", \"showgrid\": true, \"tickfont\": {\"color\": \"#4D5663\"}, \"title\": {\"font\": {\"color\": \"#4D5663\"}, \"text\": \"W\"}, \"type\": \"log\", \"zerolinecolor\": \"#E1E5ED\"}, \"yaxis\": {\"gridcolor\": \"#E1E5ED\", \"showgrid\": true, \"tickfont\": {\"color\": \"#4D5663\"}, \"title\": {\"font\": {\"color\": \"#4D5663\"}, \"text\": \"phase\"}, \"zerolinecolor\": \"#E1E5ED\"}},\n",
       "                        {\"showLink\": true, \"linkText\": \"Export to plot.ly\", \"plotlyServerURL\": \"https://plot.ly\", \"responsive\": true}\n",
       "                    ).then(function(){\n",
       "                            \n",
       "var gd = document.getElementById('0b486733-80b1-417d-b2e4-09297eddc9ee');\n",
       "var x = new MutationObserver(function (mutations, observer) {{\n",
       "        var display = window.getComputedStyle(gd).display;\n",
       "        if (!display || display === 'none') {{\n",
       "            console.log([gd, 'removed!']);\n",
       "            Plotly.purge(gd);\n",
       "            observer.disconnect();\n",
       "        }}\n",
       "}});\n",
       "\n",
       "// Listen for the removal of the full notebook cells\n",
       "var notebookContainer = gd.closest('#notebook-container');\n",
       "if (notebookContainer) {{\n",
       "    x.observe(notebookContainer, {childList: true});\n",
       "}}\n",
       "\n",
       "// Listen for the clearing of the current output cell\n",
       "var outputEl = gd.closest('.output');\n",
       "if (outputEl) {{\n",
       "    x.observe(outputEl, {childList: true});\n",
       "}}\n",
       "\n",
       "                        })\n",
       "                };\n",
       "                });\n",
       "            </script>\n",
       "        </div>"
      ]
     },
     "metadata": {},
     "output_type": "display_data"
    }
   ],
   "source": [
    "W, bode_mag, phase = signal.bode(transfer_func)\n",
    "\n",
    "\n",
    "df_mwp = pd.DataFrame(bode_mag, index=W)\n",
    "df_mwp.iplot(mode='lines', xTitle='W', yTitle='mag', title='АЧХ', xaxis_type=\"log\")\n",
    "\n",
    "df_pwp = pd.DataFrame(phase, index=W)\n",
    "df_pwp.iplot(mode='lines', xTitle='W', yTitle='phase', title='ФЧХ', xaxis_type=\"log\")"
   ]
  },
  {
   "cell_type": "code",
   "execution_count": null,
   "metadata": {},
   "outputs": [],
   "source": []
  }
 ],
 "metadata": {
  "kernelspec": {
   "display_name": "Python 3",
   "language": "python",
   "name": "python3"
  },
  "language_info": {
   "codemirror_mode": {
    "name": "ipython",
    "version": 3
   },
   "file_extension": ".py",
   "mimetype": "text/x-python",
   "name": "python",
   "nbconvert_exporter": "python",
   "pygments_lexer": "ipython3",
   "version": "3.7.4"
  }
 },
 "nbformat": 4,
 "nbformat_minor": 2
}
