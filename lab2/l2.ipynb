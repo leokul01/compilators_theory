{
 "cells": [
  {
   "cell_type": "markdown",
   "metadata": {},
   "source": [
    "## Лабораторная работа №2"
   ]
  },
  {
   "cell_type": "code",
   "execution_count": 2,
   "metadata": {},
   "outputs": [
    {
     "data": {
      "text/html": [
       "        <script type=\"text/javascript\">\n",
       "        window.PlotlyConfig = {MathJaxConfig: 'local'};\n",
       "        if (window.MathJax) {MathJax.Hub.Config({SVG: {font: \"STIX-Web\"}});}\n",
       "        if (typeof require !== 'undefined') {\n",
       "        require.undef(\"plotly\");\n",
       "        requirejs.config({\n",
       "            paths: {\n",
       "                'plotly': ['https://cdn.plot.ly/plotly-latest.min']\n",
       "            }\n",
       "        });\n",
       "        require(['plotly'], function(Plotly) {\n",
       "            window._Plotly = Plotly;\n",
       "        });\n",
       "        }\n",
       "        </script>\n",
       "        "
      ]
     },
     "metadata": {},
     "output_type": "display_data"
    }
   ],
   "source": [
    "from math import sin, pi\n",
    "\n",
    "from scipy import signal\n",
    "import pandas as pd\n",
    "import cufflinks as cf\n",
    "import numpy as np"
   ]
  },
  {
   "cell_type": "code",
   "execution_count": 3,
   "metadata": {},
   "outputs": [
    {
     "data": {
      "text/html": [
       "        <script type=\"text/javascript\">\n",
       "        window.PlotlyConfig = {MathJaxConfig: 'local'};\n",
       "        if (window.MathJax) {MathJax.Hub.Config({SVG: {font: \"STIX-Web\"}});}\n",
       "        if (typeof require !== 'undefined') {\n",
       "        require.undef(\"plotly\");\n",
       "        requirejs.config({\n",
       "            paths: {\n",
       "                'plotly': ['https://cdn.plot.ly/plotly-latest.min']\n",
       "            }\n",
       "        });\n",
       "        require(['plotly'], function(Plotly) {\n",
       "            window._Plotly = Plotly;\n",
       "        });\n",
       "        }\n",
       "        </script>\n",
       "        "
      ]
     },
     "metadata": {},
     "output_type": "display_data"
    },
    {
     "data": {
      "text/html": [
       "        <script type=\"text/javascript\">\n",
       "        window.PlotlyConfig = {MathJaxConfig: 'local'};\n",
       "        if (window.MathJax) {MathJax.Hub.Config({SVG: {font: \"STIX-Web\"}});}\n",
       "        if (typeof require !== 'undefined') {\n",
       "        require.undef(\"plotly\");\n",
       "        requirejs.config({\n",
       "            paths: {\n",
       "                'plotly': ['https://cdn.plot.ly/plotly-latest.min']\n",
       "            }\n",
       "        });\n",
       "        require(['plotly'], function(Plotly) {\n",
       "            window._Plotly = Plotly;\n",
       "        });\n",
       "        }\n",
       "        </script>\n",
       "        "
      ]
     },
     "metadata": {},
     "output_type": "display_data"
    }
   ],
   "source": [
    "cf.set_config_file(theme='white', offline=True)"
   ]
  },
  {
   "cell_type": "markdown",
   "metadata": {},
   "source": [
    "### 1. По согласованию с преподавателем выберите одну из систем"
   ]
  },
  {
   "cell_type": "code",
   "execution_count": 4,
   "metadata": {},
   "outputs": [],
   "source": [
    "# Преобразующая система - px =(1+ap)y, меняется a\n",
    "a = 1e8"
   ]
  },
  {
   "cell_type": "markdown",
   "metadata": {},
   "source": [
    "### 2. Вычислите передаточную функцию системы"
   ]
  },
  {
   "cell_type": "code",
   "execution_count": 5,
   "metadata": {},
   "outputs": [],
   "source": [
    "# W(s) = y(s)/x(s) = s/(1+a*s)\n",
    "\n",
    "transfer_func = signal.lti([1, 0], [a, 1])"
   ]
  },
  {
   "cell_type": "markdown",
   "metadata": {},
   "source": [
    "### 3. С помощью scipy.signal вычислите, как меняются полюсы системы при изменении указанного параметра (остальные параметры можно принять равными небольшим целым числам)."
   ]
  },
  {
   "cell_type": "code",
   "execution_count": 6,
   "metadata": {},
   "outputs": [
    {
     "data": {
      "application/vnd.plotly.v1+json": {
       "config": {
        "linkText": "Export to plot.ly",
        "plotlyServerURL": "https://plot.ly",
        "showLink": true
       },
       "data": [
        {
         "line": {
          "color": "rgba(255, 153, 51, 1.0)",
          "dash": "solid",
          "shape": "linear",
          "width": 1.3
         },
         "marker": {
          "size": 12,
          "symbol": "circle"
         },
         "mode": "lines+markers",
         "name": "0",
         "text": "",
         "type": "scatter",
         "x": [
          -1e-07,
          -1.1481536214968829e-07,
          -1.3182567385564074e-07,
          -1.513561248436208e-07,
          -1.737800828749375e-07,
          -1.9952623149688798e-07,
          -2.2908676527677721e-07,
          -2.6302679918953816e-07,
          -3.019951720402016e-07,
          -3.4673685045253164e-07,
          -3.9810717055349735e-07,
          -4.5708818961487495e-07,
          -5.248074602497725e-07,
          -6.025595860743577e-07,
          -6.918309709189363e-07,
          -7.943282347242813e-07,
          -9.120108393559097e-07,
          -1.0471285480508996e-06,
          -1.2022644346174132e-06,
          -1.3803842646028838e-06,
          -1.584893192461114e-06,
          -1.8197008586099826e-06,
          -2.089296130854039e-06,
          -2.3988329190194897e-06,
          -2.7542287033381663e-06,
          -3.1622776601683796e-06,
          -3.6307805477010137e-06,
          -4.168693834703355e-06,
          -4.78630092322638e-06,
          -5.495408738576248e-06,
          -6.3095734448019305e-06,
          -7.244359600749898e-06,
          -8.317637711026708e-06,
          -9.549925860214359e-06,
          -1.0964781961431852e-05,
          -1.2589254117941675e-05,
          -1.445439770745928e-05,
          -1.6595869074375598e-05,
          -1.9054607179632464e-05,
          -2.187761623949552e-05,
          -2.5118864315095798e-05,
          -2.884031503126606e-05,
          -3.311311214825911e-05,
          -3.8018939632056124e-05,
          -4.365158322401657e-05,
          -5.011872336272719e-05,
          -5.754399373371566e-05,
          -6.606934480075958e-05,
          -7.585775750291836e-05,
          -8.709635899560806e-05,
          -0.0001,
          -0.0001148153621496884,
          -0.00013182567385564074,
          -0.00015135612484362072,
          -0.0001737800828749376,
          -0.00019952623149688788,
          -0.000229086765276777,
          -0.00026302679918953814,
          -0.0003019951720402019,
          -0.00034673685045253164,
          -0.0003981071705534969,
          -0.00045708818961487515,
          -0.0005248074602497723,
          -0.0006025595860743569,
          -0.0006918309709189361,
          -0.000794328234724282,
          -0.0009120108393559097,
          -0.0010471285480508985,
          -0.001202264434617413,
          -0.0013803842646028838,
          -0.001584893192461114,
          -0.0018197008586099826,
          -0.0020892961308540407,
          -0.00239883291901949,
          -0.0027542287033381634,
          -0.003162277660168379,
          -0.00363078054770101,
          -0.004168693834703355,
          -0.00478630092322638,
          -0.005495408738576249,
          -0.006309573444801929,
          -0.007244359600749891,
          -0.008317637711026709,
          -0.00954992586021435,
          -0.01096478196143185,
          -0.012589254117941661,
          -0.01445439770745928,
          -0.0165958690743756,
          -0.019054607179632446,
          -0.02187761623949552,
          -0.025118864315095774,
          -0.028840315031266057,
          -0.03311311214825908,
          -0.038018939632056124,
          -0.04365158322401657,
          -0.050118723362727255,
          -0.057543993733715666,
          -0.06606934480075952,
          -0.07585775750291836,
          -0.08709635899560796,
          -0.1
         ],
         "y": [
          0,
          0,
          0,
          0,
          0,
          0,
          0,
          0,
          0,
          0,
          0,
          0,
          0,
          0,
          0,
          0,
          0,
          0,
          0,
          0,
          0,
          0,
          0,
          0,
          0,
          0,
          0,
          0,
          0,
          0,
          0,
          0,
          0,
          0,
          0,
          0,
          0,
          0,
          0,
          0,
          0,
          0,
          0,
          0,
          0,
          0,
          0,
          0,
          0,
          0,
          0,
          0,
          0,
          0,
          0,
          0,
          0,
          0,
          0,
          0,
          0,
          0,
          0,
          0,
          0,
          0,
          0,
          0,
          0,
          0,
          0,
          0,
          0,
          0,
          0,
          0,
          0,
          0,
          0,
          0,
          0,
          0,
          0,
          0,
          0,
          0,
          0,
          0,
          0,
          0,
          0,
          0,
          0,
          0,
          0,
          0,
          0,
          0,
          0,
          0,
          0
         ]
        }
       ],
       "layout": {
        "legend": {
         "bgcolor": "#FFFFFF",
         "font": {
          "color": "#4D5663"
         }
        },
        "paper_bgcolor": "#FFFFFF",
        "plot_bgcolor": "#FFFFFF",
        "template": {
         "data": {
          "bar": [
           {
            "error_x": {
             "color": "#2a3f5f"
            },
            "error_y": {
             "color": "#2a3f5f"
            },
            "marker": {
             "line": {
              "color": "#E5ECF6",
              "width": 0.5
             }
            },
            "type": "bar"
           }
          ],
          "barpolar": [
           {
            "marker": {
             "line": {
              "color": "#E5ECF6",
              "width": 0.5
             }
            },
            "type": "barpolar"
           }
          ],
          "carpet": [
           {
            "aaxis": {
             "endlinecolor": "#2a3f5f",
             "gridcolor": "white",
             "linecolor": "white",
             "minorgridcolor": "white",
             "startlinecolor": "#2a3f5f"
            },
            "baxis": {
             "endlinecolor": "#2a3f5f",
             "gridcolor": "white",
             "linecolor": "white",
             "minorgridcolor": "white",
             "startlinecolor": "#2a3f5f"
            },
            "type": "carpet"
           }
          ],
          "choropleth": [
           {
            "colorbar": {
             "outlinewidth": 0,
             "ticks": ""
            },
            "type": "choropleth"
           }
          ],
          "contour": [
           {
            "colorbar": {
             "outlinewidth": 0,
             "ticks": ""
            },
            "colorscale": [
             [
              0,
              "#0d0887"
             ],
             [
              0.1111111111111111,
              "#46039f"
             ],
             [
              0.2222222222222222,
              "#7201a8"
             ],
             [
              0.3333333333333333,
              "#9c179e"
             ],
             [
              0.4444444444444444,
              "#bd3786"
             ],
             [
              0.5555555555555556,
              "#d8576b"
             ],
             [
              0.6666666666666666,
              "#ed7953"
             ],
             [
              0.7777777777777778,
              "#fb9f3a"
             ],
             [
              0.8888888888888888,
              "#fdca26"
             ],
             [
              1,
              "#f0f921"
             ]
            ],
            "type": "contour"
           }
          ],
          "contourcarpet": [
           {
            "colorbar": {
             "outlinewidth": 0,
             "ticks": ""
            },
            "type": "contourcarpet"
           }
          ],
          "heatmap": [
           {
            "colorbar": {
             "outlinewidth": 0,
             "ticks": ""
            },
            "colorscale": [
             [
              0,
              "#0d0887"
             ],
             [
              0.1111111111111111,
              "#46039f"
             ],
             [
              0.2222222222222222,
              "#7201a8"
             ],
             [
              0.3333333333333333,
              "#9c179e"
             ],
             [
              0.4444444444444444,
              "#bd3786"
             ],
             [
              0.5555555555555556,
              "#d8576b"
             ],
             [
              0.6666666666666666,
              "#ed7953"
             ],
             [
              0.7777777777777778,
              "#fb9f3a"
             ],
             [
              0.8888888888888888,
              "#fdca26"
             ],
             [
              1,
              "#f0f921"
             ]
            ],
            "type": "heatmap"
           }
          ],
          "heatmapgl": [
           {
            "colorbar": {
             "outlinewidth": 0,
             "ticks": ""
            },
            "colorscale": [
             [
              0,
              "#0d0887"
             ],
             [
              0.1111111111111111,
              "#46039f"
             ],
             [
              0.2222222222222222,
              "#7201a8"
             ],
             [
              0.3333333333333333,
              "#9c179e"
             ],
             [
              0.4444444444444444,
              "#bd3786"
             ],
             [
              0.5555555555555556,
              "#d8576b"
             ],
             [
              0.6666666666666666,
              "#ed7953"
             ],
             [
              0.7777777777777778,
              "#fb9f3a"
             ],
             [
              0.8888888888888888,
              "#fdca26"
             ],
             [
              1,
              "#f0f921"
             ]
            ],
            "type": "heatmapgl"
           }
          ],
          "histogram": [
           {
            "marker": {
             "colorbar": {
              "outlinewidth": 0,
              "ticks": ""
             }
            },
            "type": "histogram"
           }
          ],
          "histogram2d": [
           {
            "colorbar": {
             "outlinewidth": 0,
             "ticks": ""
            },
            "colorscale": [
             [
              0,
              "#0d0887"
             ],
             [
              0.1111111111111111,
              "#46039f"
             ],
             [
              0.2222222222222222,
              "#7201a8"
             ],
             [
              0.3333333333333333,
              "#9c179e"
             ],
             [
              0.4444444444444444,
              "#bd3786"
             ],
             [
              0.5555555555555556,
              "#d8576b"
             ],
             [
              0.6666666666666666,
              "#ed7953"
             ],
             [
              0.7777777777777778,
              "#fb9f3a"
             ],
             [
              0.8888888888888888,
              "#fdca26"
             ],
             [
              1,
              "#f0f921"
             ]
            ],
            "type": "histogram2d"
           }
          ],
          "histogram2dcontour": [
           {
            "colorbar": {
             "outlinewidth": 0,
             "ticks": ""
            },
            "colorscale": [
             [
              0,
              "#0d0887"
             ],
             [
              0.1111111111111111,
              "#46039f"
             ],
             [
              0.2222222222222222,
              "#7201a8"
             ],
             [
              0.3333333333333333,
              "#9c179e"
             ],
             [
              0.4444444444444444,
              "#bd3786"
             ],
             [
              0.5555555555555556,
              "#d8576b"
             ],
             [
              0.6666666666666666,
              "#ed7953"
             ],
             [
              0.7777777777777778,
              "#fb9f3a"
             ],
             [
              0.8888888888888888,
              "#fdca26"
             ],
             [
              1,
              "#f0f921"
             ]
            ],
            "type": "histogram2dcontour"
           }
          ],
          "mesh3d": [
           {
            "colorbar": {
             "outlinewidth": 0,
             "ticks": ""
            },
            "type": "mesh3d"
           }
          ],
          "parcoords": [
           {
            "line": {
             "colorbar": {
              "outlinewidth": 0,
              "ticks": ""
             }
            },
            "type": "parcoords"
           }
          ],
          "scatter": [
           {
            "marker": {
             "colorbar": {
              "outlinewidth": 0,
              "ticks": ""
             }
            },
            "type": "scatter"
           }
          ],
          "scatter3d": [
           {
            "line": {
             "colorbar": {
              "outlinewidth": 0,
              "ticks": ""
             }
            },
            "marker": {
             "colorbar": {
              "outlinewidth": 0,
              "ticks": ""
             }
            },
            "type": "scatter3d"
           }
          ],
          "scattercarpet": [
           {
            "marker": {
             "colorbar": {
              "outlinewidth": 0,
              "ticks": ""
             }
            },
            "type": "scattercarpet"
           }
          ],
          "scattergeo": [
           {
            "marker": {
             "colorbar": {
              "outlinewidth": 0,
              "ticks": ""
             }
            },
            "type": "scattergeo"
           }
          ],
          "scattergl": [
           {
            "marker": {
             "colorbar": {
              "outlinewidth": 0,
              "ticks": ""
             }
            },
            "type": "scattergl"
           }
          ],
          "scattermapbox": [
           {
            "marker": {
             "colorbar": {
              "outlinewidth": 0,
              "ticks": ""
             }
            },
            "type": "scattermapbox"
           }
          ],
          "scatterpolar": [
           {
            "marker": {
             "colorbar": {
              "outlinewidth": 0,
              "ticks": ""
             }
            },
            "type": "scatterpolar"
           }
          ],
          "scatterpolargl": [
           {
            "marker": {
             "colorbar": {
              "outlinewidth": 0,
              "ticks": ""
             }
            },
            "type": "scatterpolargl"
           }
          ],
          "scatterternary": [
           {
            "marker": {
             "colorbar": {
              "outlinewidth": 0,
              "ticks": ""
             }
            },
            "type": "scatterternary"
           }
          ],
          "surface": [
           {
            "colorbar": {
             "outlinewidth": 0,
             "ticks": ""
            },
            "colorscale": [
             [
              0,
              "#0d0887"
             ],
             [
              0.1111111111111111,
              "#46039f"
             ],
             [
              0.2222222222222222,
              "#7201a8"
             ],
             [
              0.3333333333333333,
              "#9c179e"
             ],
             [
              0.4444444444444444,
              "#bd3786"
             ],
             [
              0.5555555555555556,
              "#d8576b"
             ],
             [
              0.6666666666666666,
              "#ed7953"
             ],
             [
              0.7777777777777778,
              "#fb9f3a"
             ],
             [
              0.8888888888888888,
              "#fdca26"
             ],
             [
              1,
              "#f0f921"
             ]
            ],
            "type": "surface"
           }
          ],
          "table": [
           {
            "cells": {
             "fill": {
              "color": "#EBF0F8"
             },
             "line": {
              "color": "white"
             }
            },
            "header": {
             "fill": {
              "color": "#C8D4E3"
             },
             "line": {
              "color": "white"
             }
            },
            "type": "table"
           }
          ]
         },
         "layout": {
          "annotationdefaults": {
           "arrowcolor": "#2a3f5f",
           "arrowhead": 0,
           "arrowwidth": 1
          },
          "colorscale": {
           "diverging": [
            [
             0,
             "#8e0152"
            ],
            [
             0.1,
             "#c51b7d"
            ],
            [
             0.2,
             "#de77ae"
            ],
            [
             0.3,
             "#f1b6da"
            ],
            [
             0.4,
             "#fde0ef"
            ],
            [
             0.5,
             "#f7f7f7"
            ],
            [
             0.6,
             "#e6f5d0"
            ],
            [
             0.7,
             "#b8e186"
            ],
            [
             0.8,
             "#7fbc41"
            ],
            [
             0.9,
             "#4d9221"
            ],
            [
             1,
             "#276419"
            ]
           ],
           "sequential": [
            [
             0,
             "#0d0887"
            ],
            [
             0.1111111111111111,
             "#46039f"
            ],
            [
             0.2222222222222222,
             "#7201a8"
            ],
            [
             0.3333333333333333,
             "#9c179e"
            ],
            [
             0.4444444444444444,
             "#bd3786"
            ],
            [
             0.5555555555555556,
             "#d8576b"
            ],
            [
             0.6666666666666666,
             "#ed7953"
            ],
            [
             0.7777777777777778,
             "#fb9f3a"
            ],
            [
             0.8888888888888888,
             "#fdca26"
            ],
            [
             1,
             "#f0f921"
            ]
           ],
           "sequentialminus": [
            [
             0,
             "#0d0887"
            ],
            [
             0.1111111111111111,
             "#46039f"
            ],
            [
             0.2222222222222222,
             "#7201a8"
            ],
            [
             0.3333333333333333,
             "#9c179e"
            ],
            [
             0.4444444444444444,
             "#bd3786"
            ],
            [
             0.5555555555555556,
             "#d8576b"
            ],
            [
             0.6666666666666666,
             "#ed7953"
            ],
            [
             0.7777777777777778,
             "#fb9f3a"
            ],
            [
             0.8888888888888888,
             "#fdca26"
            ],
            [
             1,
             "#f0f921"
            ]
           ]
          },
          "colorway": [
           "#636efa",
           "#EF553B",
           "#00cc96",
           "#ab63fa",
           "#FFA15A",
           "#19d3f3",
           "#FF6692",
           "#B6E880",
           "#FF97FF",
           "#FECB52"
          ],
          "font": {
           "color": "#2a3f5f"
          },
          "geo": {
           "bgcolor": "white",
           "lakecolor": "white",
           "landcolor": "#E5ECF6",
           "showlakes": true,
           "showland": true,
           "subunitcolor": "white"
          },
          "hoverlabel": {
           "align": "left"
          },
          "hovermode": "closest",
          "mapbox": {
           "style": "light"
          },
          "paper_bgcolor": "white",
          "plot_bgcolor": "#E5ECF6",
          "polar": {
           "angularaxis": {
            "gridcolor": "white",
            "linecolor": "white",
            "ticks": ""
           },
           "bgcolor": "#E5ECF6",
           "radialaxis": {
            "gridcolor": "white",
            "linecolor": "white",
            "ticks": ""
           }
          },
          "scene": {
           "xaxis": {
            "backgroundcolor": "#E5ECF6",
            "gridcolor": "white",
            "gridwidth": 2,
            "linecolor": "white",
            "showbackground": true,
            "ticks": "",
            "zerolinecolor": "white"
           },
           "yaxis": {
            "backgroundcolor": "#E5ECF6",
            "gridcolor": "white",
            "gridwidth": 2,
            "linecolor": "white",
            "showbackground": true,
            "ticks": "",
            "zerolinecolor": "white"
           },
           "zaxis": {
            "backgroundcolor": "#E5ECF6",
            "gridcolor": "white",
            "gridwidth": 2,
            "linecolor": "white",
            "showbackground": true,
            "ticks": "",
            "zerolinecolor": "white"
           }
          },
          "shapedefaults": {
           "line": {
            "color": "#2a3f5f"
           }
          },
          "ternary": {
           "aaxis": {
            "gridcolor": "white",
            "linecolor": "white",
            "ticks": ""
           },
           "baxis": {
            "gridcolor": "white",
            "linecolor": "white",
            "ticks": ""
           },
           "bgcolor": "#E5ECF6",
           "caxis": {
            "gridcolor": "white",
            "linecolor": "white",
            "ticks": ""
           }
          },
          "title": {
           "x": 0.05
          },
          "xaxis": {
           "automargin": true,
           "gridcolor": "white",
           "linecolor": "white",
           "ticks": "",
           "zerolinecolor": "white",
           "zerolinewidth": 2
          },
          "yaxis": {
           "automargin": true,
           "gridcolor": "white",
           "linecolor": "white",
           "ticks": "",
           "zerolinecolor": "white",
           "zerolinewidth": 2
          }
         }
        },
        "title": {
         "font": {
          "color": "#4D5663"
         },
         "text": "a varies from 10000000.0 to 10.0"
        },
        "xaxis": {
         "gridcolor": "#E1E5ED",
         "showgrid": true,
         "tickfont": {
          "color": "#4D5663"
         },
         "title": {
          "font": {
           "color": "#4D5663"
          },
          "text": "Re(P)"
         },
         "zerolinecolor": "#E1E5ED"
        },
        "yaxis": {
         "gridcolor": "#E1E5ED",
         "showgrid": true,
         "tickfont": {
          "color": "#4D5663"
         },
         "title": {
          "font": {
           "color": "#4D5663"
          },
          "text": "Im(P)"
         },
         "zerolinecolor": "#E1E5ED"
        }
       }
      },
      "text/html": [
       "<div>\n",
       "        \n",
       "        \n",
       "            <div id=\"7ce5f467-aa35-4ba9-a139-99cf87295092\" class=\"plotly-graph-div\" style=\"height:525px; width:100%;\"></div>\n",
       "            <script type=\"text/javascript\">\n",
       "                require([\"plotly\"], function(Plotly) {\n",
       "                    window.PLOTLYENV=window.PLOTLYENV || {};\n",
       "                    window.PLOTLYENV.BASE_URL='https://plot.ly';\n",
       "                    \n",
       "                if (document.getElementById(\"7ce5f467-aa35-4ba9-a139-99cf87295092\")) {\n",
       "                    Plotly.newPlot(\n",
       "                        '7ce5f467-aa35-4ba9-a139-99cf87295092',\n",
       "                        [{\"line\": {\"color\": \"rgba(255, 153, 51, 1.0)\", \"dash\": \"solid\", \"shape\": \"linear\", \"width\": 1.3}, \"marker\": {\"size\": 12, \"symbol\": \"circle\"}, \"mode\": \"lines+markers\", \"name\": \"0\", \"text\": \"\", \"type\": \"scatter\", \"x\": [-1e-07, -1.1481536214968829e-07, -1.3182567385564074e-07, -1.513561248436208e-07, -1.737800828749375e-07, -1.9952623149688798e-07, -2.2908676527677721e-07, -2.6302679918953816e-07, -3.019951720402016e-07, -3.4673685045253164e-07, -3.9810717055349735e-07, -4.5708818961487495e-07, -5.248074602497725e-07, -6.025595860743577e-07, -6.918309709189363e-07, -7.943282347242813e-07, -9.120108393559097e-07, -1.0471285480508996e-06, -1.2022644346174132e-06, -1.3803842646028838e-06, -1.584893192461114e-06, -1.8197008586099826e-06, -2.089296130854039e-06, -2.3988329190194897e-06, -2.7542287033381663e-06, -3.1622776601683796e-06, -3.6307805477010137e-06, -4.168693834703355e-06, -4.78630092322638e-06, -5.495408738576248e-06, -6.3095734448019305e-06, -7.244359600749898e-06, -8.317637711026708e-06, -9.549925860214359e-06, -1.0964781961431852e-05, -1.2589254117941675e-05, -1.445439770745928e-05, -1.6595869074375598e-05, -1.9054607179632464e-05, -2.187761623949552e-05, -2.5118864315095798e-05, -2.884031503126606e-05, -3.311311214825911e-05, -3.8018939632056124e-05, -4.365158322401657e-05, -5.011872336272719e-05, -5.754399373371566e-05, -6.606934480075958e-05, -7.585775750291836e-05, -8.709635899560806e-05, -0.0001, -0.0001148153621496884, -0.00013182567385564074, -0.00015135612484362072, -0.0001737800828749376, -0.00019952623149688788, -0.000229086765276777, -0.00026302679918953814, -0.0003019951720402019, -0.00034673685045253164, -0.0003981071705534969, -0.00045708818961487515, -0.0005248074602497723, -0.0006025595860743569, -0.0006918309709189361, -0.000794328234724282, -0.0009120108393559097, -0.0010471285480508985, -0.001202264434617413, -0.0013803842646028838, -0.001584893192461114, -0.0018197008586099826, -0.0020892961308540407, -0.00239883291901949, -0.0027542287033381634, -0.003162277660168379, -0.00363078054770101, -0.004168693834703355, -0.00478630092322638, -0.005495408738576249, -0.006309573444801929, -0.007244359600749891, -0.008317637711026709, -0.00954992586021435, -0.01096478196143185, -0.012589254117941661, -0.01445439770745928, -0.0165958690743756, -0.019054607179632446, -0.02187761623949552, -0.025118864315095774, -0.028840315031266057, -0.03311311214825908, -0.038018939632056124, -0.04365158322401657, -0.050118723362727255, -0.057543993733715666, -0.06606934480075952, -0.07585775750291836, -0.08709635899560796, -0.1], \"y\": [0.0, 0.0, 0.0, 0.0, 0.0, 0.0, 0.0, 0.0, 0.0, 0.0, 0.0, 0.0, 0.0, 0.0, 0.0, 0.0, 0.0, 0.0, 0.0, 0.0, 0.0, 0.0, 0.0, 0.0, 0.0, 0.0, 0.0, 0.0, 0.0, 0.0, 0.0, 0.0, 0.0, 0.0, 0.0, 0.0, 0.0, 0.0, 0.0, 0.0, 0.0, 0.0, 0.0, 0.0, 0.0, 0.0, 0.0, 0.0, 0.0, 0.0, 0.0, 0.0, 0.0, 0.0, 0.0, 0.0, 0.0, 0.0, 0.0, 0.0, 0.0, 0.0, 0.0, 0.0, 0.0, 0.0, 0.0, 0.0, 0.0, 0.0, 0.0, 0.0, 0.0, 0.0, 0.0, 0.0, 0.0, 0.0, 0.0, 0.0, 0.0, 0.0, 0.0, 0.0, 0.0, 0.0, 0.0, 0.0, 0.0, 0.0, 0.0, 0.0, 0.0, 0.0, 0.0, 0.0, 0.0, 0.0, 0.0, 0.0, 0.0]}],\n",
       "                        {\"legend\": {\"bgcolor\": \"#FFFFFF\", \"font\": {\"color\": \"#4D5663\"}}, \"paper_bgcolor\": \"#FFFFFF\", \"plot_bgcolor\": \"#FFFFFF\", \"template\": {\"data\": {\"bar\": [{\"error_x\": {\"color\": \"#2a3f5f\"}, \"error_y\": {\"color\": \"#2a3f5f\"}, \"marker\": {\"line\": {\"color\": \"#E5ECF6\", \"width\": 0.5}}, \"type\": \"bar\"}], \"barpolar\": [{\"marker\": {\"line\": {\"color\": \"#E5ECF6\", \"width\": 0.5}}, \"type\": \"barpolar\"}], \"carpet\": [{\"aaxis\": {\"endlinecolor\": \"#2a3f5f\", \"gridcolor\": \"white\", \"linecolor\": \"white\", \"minorgridcolor\": \"white\", \"startlinecolor\": \"#2a3f5f\"}, \"baxis\": {\"endlinecolor\": \"#2a3f5f\", \"gridcolor\": \"white\", \"linecolor\": \"white\", \"minorgridcolor\": \"white\", \"startlinecolor\": \"#2a3f5f\"}, \"type\": \"carpet\"}], \"choropleth\": [{\"colorbar\": {\"outlinewidth\": 0, \"ticks\": \"\"}, \"type\": \"choropleth\"}], \"contour\": [{\"colorbar\": {\"outlinewidth\": 0, \"ticks\": \"\"}, \"colorscale\": [[0.0, \"#0d0887\"], [0.1111111111111111, \"#46039f\"], [0.2222222222222222, \"#7201a8\"], [0.3333333333333333, \"#9c179e\"], [0.4444444444444444, \"#bd3786\"], [0.5555555555555556, \"#d8576b\"], [0.6666666666666666, \"#ed7953\"], [0.7777777777777778, \"#fb9f3a\"], [0.8888888888888888, \"#fdca26\"], [1.0, \"#f0f921\"]], \"type\": \"contour\"}], \"contourcarpet\": [{\"colorbar\": {\"outlinewidth\": 0, \"ticks\": \"\"}, \"type\": \"contourcarpet\"}], \"heatmap\": [{\"colorbar\": {\"outlinewidth\": 0, \"ticks\": \"\"}, \"colorscale\": [[0.0, \"#0d0887\"], [0.1111111111111111, \"#46039f\"], [0.2222222222222222, \"#7201a8\"], [0.3333333333333333, \"#9c179e\"], [0.4444444444444444, \"#bd3786\"], [0.5555555555555556, \"#d8576b\"], [0.6666666666666666, \"#ed7953\"], [0.7777777777777778, \"#fb9f3a\"], [0.8888888888888888, \"#fdca26\"], [1.0, \"#f0f921\"]], \"type\": \"heatmap\"}], \"heatmapgl\": [{\"colorbar\": {\"outlinewidth\": 0, \"ticks\": \"\"}, \"colorscale\": [[0.0, \"#0d0887\"], [0.1111111111111111, \"#46039f\"], [0.2222222222222222, \"#7201a8\"], [0.3333333333333333, \"#9c179e\"], [0.4444444444444444, \"#bd3786\"], [0.5555555555555556, \"#d8576b\"], [0.6666666666666666, \"#ed7953\"], [0.7777777777777778, \"#fb9f3a\"], [0.8888888888888888, \"#fdca26\"], [1.0, \"#f0f921\"]], \"type\": \"heatmapgl\"}], \"histogram\": [{\"marker\": {\"colorbar\": {\"outlinewidth\": 0, \"ticks\": \"\"}}, \"type\": \"histogram\"}], \"histogram2d\": [{\"colorbar\": {\"outlinewidth\": 0, \"ticks\": \"\"}, \"colorscale\": [[0.0, \"#0d0887\"], [0.1111111111111111, \"#46039f\"], [0.2222222222222222, \"#7201a8\"], [0.3333333333333333, \"#9c179e\"], [0.4444444444444444, \"#bd3786\"], [0.5555555555555556, \"#d8576b\"], [0.6666666666666666, \"#ed7953\"], [0.7777777777777778, \"#fb9f3a\"], [0.8888888888888888, \"#fdca26\"], [1.0, \"#f0f921\"]], \"type\": \"histogram2d\"}], \"histogram2dcontour\": [{\"colorbar\": {\"outlinewidth\": 0, \"ticks\": \"\"}, \"colorscale\": [[0.0, \"#0d0887\"], [0.1111111111111111, \"#46039f\"], [0.2222222222222222, \"#7201a8\"], [0.3333333333333333, \"#9c179e\"], [0.4444444444444444, \"#bd3786\"], [0.5555555555555556, \"#d8576b\"], [0.6666666666666666, \"#ed7953\"], [0.7777777777777778, \"#fb9f3a\"], [0.8888888888888888, \"#fdca26\"], [1.0, \"#f0f921\"]], \"type\": \"histogram2dcontour\"}], \"mesh3d\": [{\"colorbar\": {\"outlinewidth\": 0, \"ticks\": \"\"}, \"type\": \"mesh3d\"}], \"parcoords\": [{\"line\": {\"colorbar\": {\"outlinewidth\": 0, \"ticks\": \"\"}}, \"type\": \"parcoords\"}], \"scatter\": [{\"marker\": {\"colorbar\": {\"outlinewidth\": 0, \"ticks\": \"\"}}, \"type\": \"scatter\"}], \"scatter3d\": [{\"line\": {\"colorbar\": {\"outlinewidth\": 0, \"ticks\": \"\"}}, \"marker\": {\"colorbar\": {\"outlinewidth\": 0, \"ticks\": \"\"}}, \"type\": \"scatter3d\"}], \"scattercarpet\": [{\"marker\": {\"colorbar\": {\"outlinewidth\": 0, \"ticks\": \"\"}}, \"type\": \"scattercarpet\"}], \"scattergeo\": [{\"marker\": {\"colorbar\": {\"outlinewidth\": 0, \"ticks\": \"\"}}, \"type\": \"scattergeo\"}], \"scattergl\": [{\"marker\": {\"colorbar\": {\"outlinewidth\": 0, \"ticks\": \"\"}}, \"type\": \"scattergl\"}], \"scattermapbox\": [{\"marker\": {\"colorbar\": {\"outlinewidth\": 0, \"ticks\": \"\"}}, \"type\": \"scattermapbox\"}], \"scatterpolar\": [{\"marker\": {\"colorbar\": {\"outlinewidth\": 0, \"ticks\": \"\"}}, \"type\": \"scatterpolar\"}], \"scatterpolargl\": [{\"marker\": {\"colorbar\": {\"outlinewidth\": 0, \"ticks\": \"\"}}, \"type\": \"scatterpolargl\"}], \"scatterternary\": [{\"marker\": {\"colorbar\": {\"outlinewidth\": 0, \"ticks\": \"\"}}, \"type\": \"scatterternary\"}], \"surface\": [{\"colorbar\": {\"outlinewidth\": 0, \"ticks\": \"\"}, \"colorscale\": [[0.0, \"#0d0887\"], [0.1111111111111111, \"#46039f\"], [0.2222222222222222, \"#7201a8\"], [0.3333333333333333, \"#9c179e\"], [0.4444444444444444, \"#bd3786\"], [0.5555555555555556, \"#d8576b\"], [0.6666666666666666, \"#ed7953\"], [0.7777777777777778, \"#fb9f3a\"], [0.8888888888888888, \"#fdca26\"], [1.0, \"#f0f921\"]], \"type\": \"surface\"}], \"table\": [{\"cells\": {\"fill\": {\"color\": \"#EBF0F8\"}, \"line\": {\"color\": \"white\"}}, \"header\": {\"fill\": {\"color\": \"#C8D4E3\"}, \"line\": {\"color\": \"white\"}}, \"type\": \"table\"}]}, \"layout\": {\"annotationdefaults\": {\"arrowcolor\": \"#2a3f5f\", \"arrowhead\": 0, \"arrowwidth\": 1}, \"colorscale\": {\"diverging\": [[0, \"#8e0152\"], [0.1, \"#c51b7d\"], [0.2, \"#de77ae\"], [0.3, \"#f1b6da\"], [0.4, \"#fde0ef\"], [0.5, \"#f7f7f7\"], [0.6, \"#e6f5d0\"], [0.7, \"#b8e186\"], [0.8, \"#7fbc41\"], [0.9, \"#4d9221\"], [1, \"#276419\"]], \"sequential\": [[0.0, \"#0d0887\"], [0.1111111111111111, \"#46039f\"], [0.2222222222222222, \"#7201a8\"], [0.3333333333333333, \"#9c179e\"], [0.4444444444444444, \"#bd3786\"], [0.5555555555555556, \"#d8576b\"], [0.6666666666666666, \"#ed7953\"], [0.7777777777777778, \"#fb9f3a\"], [0.8888888888888888, \"#fdca26\"], [1.0, \"#f0f921\"]], \"sequentialminus\": [[0.0, \"#0d0887\"], [0.1111111111111111, \"#46039f\"], [0.2222222222222222, \"#7201a8\"], [0.3333333333333333, \"#9c179e\"], [0.4444444444444444, \"#bd3786\"], [0.5555555555555556, \"#d8576b\"], [0.6666666666666666, \"#ed7953\"], [0.7777777777777778, \"#fb9f3a\"], [0.8888888888888888, \"#fdca26\"], [1.0, \"#f0f921\"]]}, \"colorway\": [\"#636efa\", \"#EF553B\", \"#00cc96\", \"#ab63fa\", \"#FFA15A\", \"#19d3f3\", \"#FF6692\", \"#B6E880\", \"#FF97FF\", \"#FECB52\"], \"font\": {\"color\": \"#2a3f5f\"}, \"geo\": {\"bgcolor\": \"white\", \"lakecolor\": \"white\", \"landcolor\": \"#E5ECF6\", \"showlakes\": true, \"showland\": true, \"subunitcolor\": \"white\"}, \"hoverlabel\": {\"align\": \"left\"}, \"hovermode\": \"closest\", \"mapbox\": {\"style\": \"light\"}, \"paper_bgcolor\": \"white\", \"plot_bgcolor\": \"#E5ECF6\", \"polar\": {\"angularaxis\": {\"gridcolor\": \"white\", \"linecolor\": \"white\", \"ticks\": \"\"}, \"bgcolor\": \"#E5ECF6\", \"radialaxis\": {\"gridcolor\": \"white\", \"linecolor\": \"white\", \"ticks\": \"\"}}, \"scene\": {\"xaxis\": {\"backgroundcolor\": \"#E5ECF6\", \"gridcolor\": \"white\", \"gridwidth\": 2, \"linecolor\": \"white\", \"showbackground\": true, \"ticks\": \"\", \"zerolinecolor\": \"white\"}, \"yaxis\": {\"backgroundcolor\": \"#E5ECF6\", \"gridcolor\": \"white\", \"gridwidth\": 2, \"linecolor\": \"white\", \"showbackground\": true, \"ticks\": \"\", \"zerolinecolor\": \"white\"}, \"zaxis\": {\"backgroundcolor\": \"#E5ECF6\", \"gridcolor\": \"white\", \"gridwidth\": 2, \"linecolor\": \"white\", \"showbackground\": true, \"ticks\": \"\", \"zerolinecolor\": \"white\"}}, \"shapedefaults\": {\"line\": {\"color\": \"#2a3f5f\"}}, \"ternary\": {\"aaxis\": {\"gridcolor\": \"white\", \"linecolor\": \"white\", \"ticks\": \"\"}, \"baxis\": {\"gridcolor\": \"white\", \"linecolor\": \"white\", \"ticks\": \"\"}, \"bgcolor\": \"#E5ECF6\", \"caxis\": {\"gridcolor\": \"white\", \"linecolor\": \"white\", \"ticks\": \"\"}}, \"title\": {\"x\": 0.05}, \"xaxis\": {\"automargin\": true, \"gridcolor\": \"white\", \"linecolor\": \"white\", \"ticks\": \"\", \"zerolinecolor\": \"white\", \"zerolinewidth\": 2}, \"yaxis\": {\"automargin\": true, \"gridcolor\": \"white\", \"linecolor\": \"white\", \"ticks\": \"\", \"zerolinecolor\": \"white\", \"zerolinewidth\": 2}}}, \"title\": {\"font\": {\"color\": \"#4D5663\"}, \"text\": \"a varies from 10000000.0 to 10.0\"}, \"xaxis\": {\"gridcolor\": \"#E1E5ED\", \"showgrid\": true, \"tickfont\": {\"color\": \"#4D5663\"}, \"title\": {\"font\": {\"color\": \"#4D5663\"}, \"text\": \"Re(P)\"}, \"zerolinecolor\": \"#E1E5ED\"}, \"yaxis\": {\"gridcolor\": \"#E1E5ED\", \"showgrid\": true, \"tickfont\": {\"color\": \"#4D5663\"}, \"title\": {\"font\": {\"color\": \"#4D5663\"}, \"text\": \"Im(P)\"}, \"zerolinecolor\": \"#E1E5ED\"}},\n",
       "                        {\"showLink\": true, \"linkText\": \"Export to plot.ly\", \"plotlyServerURL\": \"https://plot.ly\", \"responsive\": true}\n",
       "                    ).then(function(){\n",
       "                            \n",
       "var gd = document.getElementById('7ce5f467-aa35-4ba9-a139-99cf87295092');\n",
       "var x = new MutationObserver(function (mutations, observer) {{\n",
       "        var display = window.getComputedStyle(gd).display;\n",
       "        if (!display || display === 'none') {{\n",
       "            console.log([gd, 'removed!']);\n",
       "            Plotly.purge(gd);\n",
       "            observer.disconnect();\n",
       "        }}\n",
       "}});\n",
       "\n",
       "// Listen for the removal of the full notebook cells\n",
       "var notebookContainer = gd.closest('#notebook-container');\n",
       "if (notebookContainer) {{\n",
       "    x.observe(notebookContainer, {childList: true});\n",
       "}}\n",
       "\n",
       "// Listen for the clearing of the current output cell\n",
       "var outputEl = gd.closest('.output');\n",
       "if (outputEl) {{\n",
       "    x.observe(outputEl, {childList: true});\n",
       "}}\n",
       "\n",
       "                        })\n",
       "                };\n",
       "                });\n",
       "            </script>\n",
       "        </div>"
      ]
     },
     "metadata": {},
     "output_type": "display_data"
    }
   ],
   "source": [
    "# P = -1/a\n",
    "p_num = 101\n",
    "vs = np.logspace(1, 7, p_num)\n",
    "# массив для результатов (так как полюс один, то достаточно массива, а не матрицы\n",
    "Ps = np.empty(p_num)\n",
    "\n",
    "for i, vs_i in enumerate(vs):\n",
    "    _, p, _ = signal.tf2zpk([1, 0], [a / vs_i, 1])\n",
    "    # полюс всегда гарантированно один, поэтому сохраняем его\n",
    "    Ps[i] = p[0]\n",
    "    \n",
    "df = pd.DataFrame(np.imag(Ps), index=np.real(Ps))\n",
    "df.iplot(mode='lines + markers', xTitle='Re(P)', yTitle='Im(P)', \n",
    "         title=f'a varies from {a / vs[0]} to {a / vs[-1]}')"
   ]
  },
  {
   "cell_type": "markdown",
   "metadata": {},
   "source": [
    "### 4. Проверьте, какова будет реакция системы, если подать конечный сигнал на неё при параметре, делающем её устойчивой. Затем - при параметре, делающем её неустойчивой (если оказалось, что при всех значениях изменяемого параметра система устойчива либо неустойчива, надо выполнить только одну из этих двух проверок)."
   ]
  },
  {
   "cell_type": "code",
   "execution_count": 7,
   "metadata": {},
   "outputs": [
    {
     "data": {
      "application/vnd.plotly.v1+json": {
       "config": {
        "linkText": "Export to plot.ly",
        "plotlyServerURL": "https://plot.ly",
        "showLink": true
       },
       "data": [
        {
         "line": {
          "color": "rgba(255, 153, 51, 1.0)",
          "dash": "solid",
          "shape": "linear",
          "width": 1.3
         },
         "mode": "lines",
         "name": "0",
         "text": "",
         "type": "scatter",
         "x": [
          0,
          3,
          6,
          9,
          12,
          15,
          18,
          21,
          24,
          27,
          30,
          33,
          36,
          39,
          42,
          45,
          48,
          51,
          54,
          57,
          60,
          63,
          66,
          69,
          72,
          75,
          78,
          81,
          84,
          87,
          90,
          93,
          96,
          99,
          102,
          105,
          108,
          111,
          114,
          117,
          120,
          123,
          126,
          129,
          132,
          135,
          138,
          141,
          144,
          147,
          150,
          153,
          156,
          159,
          162,
          165,
          168,
          171,
          174,
          177,
          180,
          183,
          186,
          189,
          192,
          195,
          198,
          201,
          204,
          207,
          210,
          213,
          216,
          219,
          222,
          225,
          228,
          231,
          234,
          237,
          240,
          243,
          246,
          249,
          252,
          255,
          258,
          261,
          264,
          267,
          270,
          273,
          276,
          279,
          282,
          285,
          288,
          291,
          294,
          297,
          300,
          303,
          306,
          309,
          312,
          315,
          318,
          321,
          324,
          327,
          330,
          333,
          336,
          339,
          342,
          345,
          348,
          351,
          354,
          357,
          360,
          363,
          366,
          369,
          372,
          375,
          378,
          381,
          384,
          387,
          390,
          393,
          396,
          399,
          402,
          405,
          408,
          411,
          414,
          417,
          420,
          423,
          426,
          429,
          432,
          435,
          438,
          441,
          444,
          447,
          450,
          453,
          456,
          459,
          462,
          465,
          468,
          471,
          474,
          477,
          480,
          483,
          486,
          489,
          492,
          495,
          498,
          501,
          504,
          507,
          510,
          513,
          516,
          519,
          522,
          525,
          528,
          531,
          534,
          537,
          540,
          543,
          546,
          549,
          552,
          555,
          558,
          561,
          564,
          567,
          570,
          573,
          576,
          579,
          582,
          585,
          588,
          591,
          594,
          597,
          600,
          603,
          606,
          609,
          612,
          615,
          618,
          621,
          624,
          627,
          630,
          633,
          636,
          639,
          642,
          645,
          648,
          651,
          654,
          657,
          660,
          663,
          666,
          669,
          672,
          675,
          678,
          681,
          684,
          687,
          690,
          693,
          696,
          699,
          702,
          705,
          708,
          711,
          714,
          717,
          720,
          723,
          726,
          729,
          732,
          735,
          738,
          741,
          744,
          747,
          750,
          753,
          756,
          759,
          762,
          765,
          768,
          771,
          774,
          777,
          780,
          783,
          786,
          789,
          792,
          795,
          798,
          801,
          804,
          807,
          810,
          813,
          816,
          819,
          822,
          825,
          828,
          831,
          834,
          837,
          840,
          843,
          846,
          849,
          852,
          855,
          858,
          861,
          864,
          867,
          870,
          873,
          876,
          879,
          882,
          885,
          888,
          891,
          894,
          897,
          900,
          903,
          906,
          909,
          912,
          915,
          918,
          921,
          924,
          927,
          930,
          933,
          936,
          939,
          942,
          945,
          948,
          951,
          954,
          957,
          960,
          963,
          966,
          969,
          972,
          975,
          978,
          981,
          984,
          987,
          990,
          993,
          996,
          999,
          1002,
          1005,
          1008,
          1011,
          1014,
          1017,
          1020,
          1023,
          1026,
          1029,
          1032,
          1035,
          1038,
          1041,
          1044,
          1047,
          1050,
          1053,
          1056,
          1059,
          1062,
          1065,
          1068,
          1071,
          1074,
          1077,
          1080,
          1083,
          1086,
          1089,
          1092,
          1095,
          1098,
          1101,
          1104,
          1107,
          1110,
          1113,
          1116,
          1119,
          1122,
          1125,
          1128,
          1131,
          1134,
          1137,
          1140,
          1143,
          1146,
          1149,
          1152,
          1155,
          1158,
          1161,
          1164,
          1167,
          1170,
          1173,
          1176,
          1179,
          1182,
          1185,
          1188,
          1191,
          1194,
          1197,
          1200,
          1203,
          1206,
          1209,
          1212,
          1215,
          1218,
          1221,
          1224,
          1227,
          1230,
          1233,
          1236,
          1239,
          1242,
          1245,
          1248,
          1251,
          1254,
          1257,
          1260,
          1263,
          1266,
          1269,
          1272,
          1275,
          1278,
          1281,
          1284,
          1287,
          1290,
          1293,
          1296,
          1299,
          1302,
          1305,
          1308,
          1311,
          1314,
          1317,
          1320,
          1323,
          1326,
          1329,
          1332,
          1335,
          1338,
          1341,
          1344,
          1347,
          1350,
          1353,
          1356,
          1359,
          1362,
          1365,
          1368,
          1371,
          1374,
          1377,
          1380,
          1383,
          1386,
          1389,
          1392,
          1395,
          1398,
          1401,
          1404,
          1407,
          1410,
          1413,
          1416,
          1419,
          1422,
          1425,
          1428,
          1431,
          1434,
          1437,
          1440,
          1443,
          1446,
          1449,
          1452,
          1455,
          1458,
          1461,
          1464,
          1467,
          1470,
          1473,
          1476,
          1479,
          1482,
          1485,
          1488,
          1491,
          1494,
          1497,
          1500,
          1503,
          1506,
          1509,
          1512,
          1515,
          1518,
          1521,
          1524,
          1527,
          1530,
          1533,
          1536,
          1539,
          1542,
          1545,
          1548,
          1551,
          1554,
          1557,
          1560,
          1563,
          1566,
          1569,
          1572,
          1575,
          1578,
          1581,
          1584,
          1587,
          1590,
          1593,
          1596,
          1599,
          1602,
          1605,
          1608,
          1611,
          1614,
          1617,
          1620,
          1623,
          1626,
          1629,
          1632,
          1635,
          1638,
          1641,
          1644,
          1647,
          1650,
          1653,
          1656,
          1659,
          1662,
          1665,
          1668,
          1671,
          1674,
          1677,
          1680,
          1683,
          1686,
          1689,
          1692,
          1695,
          1698,
          1701,
          1704,
          1707,
          1710,
          1713,
          1716,
          1719,
          1722,
          1725,
          1728,
          1731,
          1734,
          1737,
          1740,
          1743,
          1746,
          1749,
          1752,
          1755,
          1758,
          1761,
          1764,
          1767,
          1770,
          1773,
          1776,
          1779,
          1782,
          1785,
          1788,
          1791,
          1794,
          1797,
          1800,
          1803,
          1806,
          1809,
          1812,
          1815,
          1818,
          1821,
          1824,
          1827,
          1830,
          1833,
          1836,
          1839,
          1842,
          1845,
          1848,
          1851,
          1854,
          1857,
          1860,
          1863,
          1866,
          1869,
          1872,
          1875,
          1878,
          1881,
          1884,
          1887,
          1890,
          1893,
          1896,
          1899,
          1902,
          1905,
          1908,
          1911,
          1914,
          1917,
          1920,
          1923,
          1926,
          1929,
          1932,
          1935,
          1938,
          1941,
          1944,
          1947,
          1950,
          1953,
          1956,
          1959,
          1962,
          1965,
          1968,
          1971,
          1974,
          1977,
          1980,
          1983,
          1986,
          1989,
          1992,
          1995,
          1998,
          2001,
          2004,
          2007,
          2010,
          2013,
          2016,
          2019,
          2022,
          2025,
          2028,
          2031,
          2034,
          2037,
          2040,
          2043,
          2046,
          2049,
          2052,
          2055,
          2058,
          2061,
          2064,
          2067,
          2070,
          2073,
          2076,
          2079,
          2082,
          2085,
          2088,
          2091,
          2094,
          2097,
          2100,
          2103,
          2106,
          2109,
          2112,
          2115,
          2118,
          2121,
          2124,
          2127,
          2130,
          2133,
          2136,
          2139,
          2142,
          2145,
          2148,
          2151,
          2154,
          2157,
          2160,
          2163,
          2166,
          2169,
          2172,
          2175,
          2178,
          2181,
          2184,
          2187,
          2190,
          2193,
          2196,
          2199,
          2202,
          2205,
          2208,
          2211,
          2214,
          2217,
          2220,
          2223,
          2226,
          2229,
          2232,
          2235,
          2238,
          2241,
          2244,
          2247,
          2250,
          2253,
          2256,
          2259,
          2262,
          2265,
          2268,
          2271,
          2274,
          2277,
          2280,
          2283,
          2286,
          2289,
          2292,
          2295,
          2298,
          2301,
          2304,
          2307,
          2310,
          2313,
          2316,
          2319,
          2322,
          2325,
          2328,
          2331,
          2334,
          2337,
          2340,
          2343,
          2346,
          2349,
          2352,
          2355,
          2358,
          2361,
          2364,
          2367,
          2370,
          2373,
          2376,
          2379,
          2382,
          2385,
          2388,
          2391,
          2394,
          2397,
          2400,
          2403,
          2406,
          2409,
          2412,
          2415,
          2418,
          2421,
          2424,
          2427,
          2430,
          2433,
          2436,
          2439,
          2442,
          2445,
          2448,
          2451,
          2454,
          2457,
          2460,
          2463,
          2466,
          2469,
          2472,
          2475,
          2478,
          2481,
          2484,
          2487,
          2490,
          2493,
          2496,
          2499,
          2502,
          2505,
          2508,
          2511,
          2514,
          2517,
          2520,
          2523,
          2526,
          2529,
          2532,
          2535,
          2538,
          2541,
          2544,
          2547,
          2550,
          2553,
          2556,
          2559,
          2562,
          2565,
          2568,
          2571,
          2574,
          2577,
          2580,
          2583,
          2586,
          2589,
          2592,
          2595,
          2598,
          2601,
          2604,
          2607,
          2610,
          2613,
          2616,
          2619,
          2622,
          2625,
          2628,
          2631,
          2634,
          2637,
          2640,
          2643,
          2646,
          2649,
          2652,
          2655,
          2658,
          2661,
          2664,
          2667,
          2670,
          2673,
          2676,
          2679,
          2682,
          2685,
          2688,
          2691,
          2694,
          2697,
          2700,
          2703,
          2706,
          2709,
          2712,
          2715,
          2718,
          2721,
          2724,
          2727,
          2730,
          2733,
          2736,
          2739,
          2742,
          2745,
          2748,
          2751,
          2754,
          2757,
          2760,
          2763,
          2766,
          2769,
          2772,
          2775,
          2778,
          2781,
          2784,
          2787,
          2790,
          2793,
          2796,
          2799,
          2802,
          2805,
          2808,
          2811,
          2814,
          2817,
          2820,
          2823,
          2826,
          2829,
          2832,
          2835,
          2838,
          2841,
          2844,
          2847,
          2850,
          2853,
          2856,
          2859,
          2862,
          2865,
          2868,
          2871,
          2874,
          2877,
          2880,
          2883,
          2886,
          2889,
          2892,
          2895,
          2898,
          2901,
          2904,
          2907,
          2910,
          2913,
          2916,
          2919,
          2922,
          2925,
          2928,
          2931,
          2934,
          2937,
          2940,
          2943,
          2946,
          2949,
          2952,
          2955,
          2958,
          2961,
          2964,
          2967,
          2970,
          2973,
          2976,
          2979,
          2982,
          2985,
          2988,
          2991,
          2994,
          2997,
          3000
         ],
         "y": [
          0,
          0.018848439715408175,
          0.03769018266993454,
          0.05651853448202453,
          0.07532680552793272,
          0.09410831331851431,
          0.11285638487348168,
          0.1315643590922825,
          0.15022558912075706,
          0.16883344471273387,
          0.1873813145857246,
          0.20586260876988133,
          0.22427076094938117,
          0.2425992307954074,
          0.26084150628989694,
          0.2789911060392293,
          0.2970415815770349,
          0.3149865196553048,
          0.3328195445229866,
          0.35053432019125896,
          0.3681245526846779,
          0.38558399227739654,
          0.40290643571366264,
          0.42008572841180625,
          0.4371157666509329,
          0.45399049973954675,
          0.4707039321653326,
          0.4872501257253323,
          0.5036232016357608,
          0.5198173426207094,
          0.5358267949789967,
          0.5516458706284302,
          0.5672689491267565,
          0.5826904796685761,
          0.5979049830575188,
          0.6129070536529765,
          0.6276913612907005,
          0.6422526531765844,
          0.6565857557529564,
          0.67068557653672,
          0.6845471059286886,
          0.6981654189934727,
          0.7115356772092853,
          0.7246531301870466,
          0.7375131173581739,
          0.7501110696304595,
          0.7624425110114479,
          0.7745030601987337,
          0.7862884321366188,
          0.797794439538571,
          0.8090169943749473,
          0.8199521093254523,
          0.8305958991958126,
          0.840944582298169,
          0.8509944817946917,
          0.8607420270039435,
          0.8701837546695257,
          0.8793163101905562,
          0.8881364488135445,
          0.8966410367852359,
          0.9048270524660196,
          0.9126915874035028,
          0.9202318473658703,
          0.9274451533346614,
          0.934328942456612,
          0.9408807689542255,
          0.9470983049947443,
          0.9529793415172189,
          0.9585217890173758,
          0.9637236782900097,
          0.9685831611286311,
          0.9730985109821265,
          0.9772681235681935,
          0.9810905174433341,
          0.9845643345292053,
          0.9876883405951378,
          0.9904614256966512,
          0.9928826045698137,
          0.9949510169813002,
          0.9966659280340299,
          0.9980267284282716,
          0.9990329346781247,
          0.9996841892832999,
          0.9999802608561371,
          0.9999210442038161,
          0.9995065603657316,
          0.9987369566060175,
          0.9976125063612252,
          0.9961336091431725,
          0.9943007903969989,
          0.9921147013144779,
          0.9895761186026509,
          0.986685944207868,
          0.9834452049953297,
          0.9798550523842469,
          0.9759167619387474,
          0.971631732914674,
          0.9670014877624351,
          0.9620276715860858,
          0.9567120515588305,
          0.9510565162951536,
          0.9450630751798049,
          0.9387338576538741,
          0.932071112458211,
          0.925077206834458,
          0.9177546256839811,
          0.9101059706849957,
          0.9021339593682027,
          0.8938414241512638,
          0.8852313113324553,
          0.8763066800438637,
          0.8670707011644901,
          0.8575266561936523,
          0.8476779360850834,
          0.8375280400421418,
          0.8270805742745618,
          0.816339250717184,
          0.805307885711122,
          0.7939903986478353,
          0.7823908105765882,
          0.7705132427757893,
          0.7583619152887218,
          0.7459411454241822,
          0.73325534622256,
          0.7203090248879072,
          0.7071067811865476,
          0.6936533058128049,
          0.6799533787224193,
          0.6660118674342517,
          0.6518337253008787,
          0.6374239897486899,
          0.6227877804881126,
          0.6079302976946053,
          0.5928568201610593,
          0.5775727034222676,
          0.5620833778521308,
          0.5463943467342691,
          0.530511184306734,
          0.5144395337815066,
          0.4981851053394909,
          0.4817536741017152,
          0.46515107807745854,
          0.4483832160900323,
          0.43145604568095886,
          0.4143755809932843,
          0.3971478906347806,
          0.37977909552180095,
          0.3622753667045458,
          0.34464292317451706,
          0.32688802965494274,
          0.3090169943749475,
          0.29103616682827177,
          0.27295193551732544,
          0.2547707256833822,
          0.2364989970237246,
          0.21814324139654273,
          0.19970998051440705,
          0.18120576362713722,
          0.16263716519488375,
          0.14401078255225216,
          0.12533323356430454,
          0.10661115427526005,
          0.08785119655074315,
          0.06906002571440606,
          0.05024431817976966,
          0.03141075907812824,
          0.012566039883352836,
          -0.006283143965558882,
          -0.02513009544333757,
          -0.04396811831786471,
          -0.06279051952931333,
          -0.08159061156815767,
          -0.10036171485121473,
          -0.11909716009486973,
          -0.1377902906846378,
          -0.15643446504023076,
          -0.1750230589752761,
          -0.19354946805086,
          -0.21200710992205457,
          -0.23038942667659065,
          -0.24868988716485457,
          -0.2669019893203755,
          -0.2850192624699762,
          -0.30303526963277383,
          -0.3209436098072095,
          -0.33873792024529153,
          -0.3564118787132506,
          -0.37395920573780045,
          -0.39137366683720215,
          -0.4086490747363489,
          -0.4257792915650727,
          -0.44275823103890133,
          -0.4595798606214878,
          -0.4762382036679392,
          -0.4927273415482914,
          -0.5090414157503713,
          -0.5251746299612958,
          -0.5411212521268757,
          -0.556875616488188,
          -0.5724321255945907,
          -0.587785252292473,
          -0.6029295416890247,
          -0.6178596130903341,
          -0.6325701619131244,
          -0.6470559615694443,
          -0.6613118653236517,
          -0.6753328081210244,
          -0.6891138083873485,
          -0.7026499697988491,
          -0.7159364830218311,
          -0.7289686274214116,
          -0.7417417727387391,
          -0.7542513807361038,
          -0.7664930068093496,
          -0.7784623015670236,
          -0.7901550123756904,
          -0.8015669848708764,
          -0.8126941644330942,
          -0.8235325976284275,
          -0.8340784336131715,
          -0.8443279255020147,
          -0.8542774316992952,
          -0.8639234171928352,
          -0.8732624548099204,
          -0.8822912264349534,
          -0.8910065241883682,
          -0.8994052515663709,
          -0.907484424541117,
          -0.9152411726209175,
          -0.922672739870115,
          -0.9297764858882515,
          -0.9365498867481923,
          -0.9429905358928643,
          -0.9490961449902947,
          -0.954864544746643,
          -0.9602936856769432,
          -0.965381638833274,
          -0.9701265964901058,
          -0.9745268727865771,
          -0.9785809043254722,
          -0.9822872507286887,
          -0.9856445951489982,
          -0.9886517447379141,
          -0.9913076310695066,
          -0.9936113105200084,
          -0.99556196460308,
          -0.9971589002606139,
          -0.9984015501089751,
          -0.9992894726405892,
          -0.999822352380809,
          -1,
          -0.999822352380809,
          -0.9992894726405892,
          -0.998401550108975,
          -0.9971589002606139,
          -0.99556196460308,
          -0.9936113105200084,
          -0.9913076310695065,
          -0.988651744737914,
          -0.985644595148998,
          -0.9822872507286887,
          -0.9785809043254721,
          -0.9745268727865771,
          -0.9701265964901057,
          -0.9653816388332738,
          -0.9602936856769431,
          -0.9548645447466431,
          -0.9490961449902945,
          -0.9429905358928644,
          -0.9365498867481922,
          -0.9297764858882516,
          -0.9226727398701148,
          -0.9152411726209176,
          -0.9074844245411168,
          -0.899405251566371,
          -0.8910065241883676,
          -0.8822912264349535,
          -0.8732624548099202,
          -0.8639234171928354,
          -0.8542774316992949,
          -0.8443279255020151,
          -0.8340784336131708,
          -0.8235325976284277,
          -0.8126941644330938,
          -0.8015669848708766,
          -0.7901550123756901,
          -0.7784623015670233,
          -0.7664930068093498,
          -0.7542513807361041,
          -0.7417417727387391,
          -0.7289686274214116,
          -0.7159364830218309,
          -0.702649969798849,
          -0.6891138083873485,
          -0.6753328081210246,
          -0.6613118653236516,
          -0.6470559615694442,
          -0.632570161913124,
          -0.6178596130903348,
          -0.6029295416890247,
          -0.5877852522924732,
          -0.5724321255945906,
          -0.556875616488188,
          -0.5411212521268752,
          -0.525174629961296,
          -0.5090414157503712,
          -0.4927273415482917,
          -0.4762382036679387,
          -0.4595798606214877,
          -0.4427582310389016,
          -0.425779291565073,
          -0.40864907473634887,
          -0.3913736668372025,
          -0.37395920573779995,
          -0.3564118787132505,
          -0.3387379202452914,
          -0.32094360980720976,
          -0.3030352696327737,
          -0.2850192624699761,
          -0.26690198932037495,
          -0.24868988716485535,
          -0.23038942667659057,
          -0.2120071099220549,
          -0.19354946805085993,
          -0.175023058975276,
          -0.15643446504023023,
          -0.13779029068463858,
          -0.11909716009486966,
          -0.1003617148512151,
          -0.08159061156815717,
          -0.06279051952931326,
          -0.04396811831786419,
          -0.025130095443337937,
          -0.0062831439655588045,
          0.012566039883352469,
          0.03141075907812876,
          0.05024431817976974,
          0.06906002571440568,
          0.08785119655074278,
          0.10661115427526012,
          0.12533323356430418,
          0.1440107825522527,
          0.16263716519488383,
          0.1812057636271373,
          0.1997099805144067,
          0.21814324139654281,
          0.23649899702372468,
          0.25477072568338277,
          0.2729519355173247,
          0.2910361668282719,
          0.3090169943749472,
          0.32688802965494285,
          0.3446429231745171,
          0.36227536670454635,
          0.37977909552180067,
          0.39714789063478073,
          0.414375580993284,
          0.43145604568095935,
          0.4483832160900324,
          0.46515107807745826,
          0.48175367410171493,
          0.498185105339491,
          0.5144395337815064,
          0.5305111843067345,
          0.5463943467342692,
          0.5620833778521306,
          0.5775727034222673,
          0.5928568201610595,
          0.6079302976946054,
          0.622787780488113,
          0.63742398974869,
          0.6518337253008788,
          0.6660118674342514,
          0.6799533787224195,
          0.693653305812805,
          0.7071067811865479,
          0.7203090248879065,
          0.73325534622256,
          0.745941145424182,
          0.758361915288722,
          0.7705132427757893,
          0.7823908105765885,
          0.7939903986478349,
          0.805307885711122,
          0.8163392507171838,
          0.827080574274562,
          0.8375280400421418,
          0.8476779360850831,
          0.8575266561936521,
          0.8670707011644901,
          0.8763066800438635,
          0.8852313113324555,
          0.8938414241512639,
          0.9021339593682027,
          0.9101059706849955,
          0.9177546256839813,
          0.925077206834458,
          0.9320711124582112,
          0.9387338576538738,
          0.9450630751798048,
          0.9510565162951534,
          0.9567120515588305,
          0.9620276715860859,
          0.9670014877624352,
          0.9716317329146738,
          0.9759167619387474,
          0.9798550523842469,
          0.9834452049953297,
          0.986685944207868,
          0.989576118602651,
          0.9921147013144778,
          0.9943007903969989,
          0.9961336091431725,
          0.9976125063612252,
          0.9987369566060175,
          0.9995065603657316,
          0.9999210442038161,
          0.9999802608561371,
          0.9996841892832999,
          0.9990329346781247,
          0.9980267284282716,
          0.9966659280340299,
          0.9949510169813002,
          0.9928826045698136,
          0.9904614256966512,
          0.9876883405951377,
          0.9845643345292054,
          0.9810905174433341,
          0.9772681235681934,
          0.9730985109821267,
          0.9685831611286311,
          0.9637236782900096,
          0.9585217890173761,
          0.9529793415172187,
          0.9470983049947441,
          0.9408807689542257,
          0.934328942456612,
          0.927445153334661,
          0.9202318473658698,
          0.9126915874035028,
          0.90482705246602,
          0.8966410367852361,
          0.8881364488135445,
          0.8793163101905568,
          0.8701837546695259,
          0.8607420270039435,
          0.8509944817946915,
          0.8409445822981693,
          0.8305958991958126,
          0.8199521093254518,
          0.8090169943749466,
          0.7977944395385719,
          0.7862884321366195,
          0.774503060198734,
          0.7624425110114477,
          0.7501110696304601,
          0.7375131173581742,
          0.7246531301870465,
          0.7115356772092847,
          0.6981654189934728,
          0.6845471059286884,
          0.6706855765367193,
          0.6565857557529565,
          0.6422526531765854,
          0.627691361290701,
          0.6129070536529766,
          0.5979049830575185,
          0.5826904796685767,
          0.5672689491267566,
          0.5516458706284298,
          0.5358267949789957,
          0.5198173426207096,
          0.5036232016357604,
          0.48725012572533133,
          0.47070393216533263,
          0.4539904997395479,
          0.4371157666509335,
          0.4200857284118063,
          0.40290643571366214,
          0.38558399227739715,
          0.368124552684678,
          0.35053432019125846,
          0.3328195445229855,
          0.3149865196553048,
          0.2970415815770343,
          0.2789911060392298,
          0.2608415062898969,
          0.2425992307954085,
          0.22427076094938167,
          0.20586260876988122,
          0.18738131458572393,
          0.16883344471273432,
          0.15022558912075692,
          0.13156435909228176,
          0.11285638487348035,
          0.09410831331851414,
          0.07532680552793372,
          0.05651853448202493,
          0.03769018266993434,
          0.018848439715409147,
          3.6739403974420594e-16,
          -0.01884843971540841,
          -0.037690182669935374,
          -0.056518534482024194,
          -0.075326805527933,
          -0.0941083133185152,
          -0.11285638487348316,
          -0.13156435909228104,
          -0.1502255891207562,
          -0.16883344471273362,
          -0.18738131458572496,
          -0.20586260876988052,
          -0.22427076094938098,
          -0.2425992307954078,
          -0.26084150628989783,
          -0.27899110603922905,
          -0.29704158157703525,
          -0.3149865196553057,
          -0.33281954452298645,
          -0.35053432019125774,
          -0.36812455268467725,
          -0.3855839922773964,
          -0.4029064357136631,
          -0.4200857284118056,
          -0.4371157666509328,
          -0.4539904997395472,
          -0.4707039321653335,
          -0.4872501257253323,
          -0.5036232016357614,
          -0.519817342620709,
          -0.5358267949789967,
          -0.5516458706284293,
          -0.5672689491267561,
          -0.5826904796685761,
          -0.5979049830575194,
          -0.612907053652976,
          -0.6276913612907006,
          -0.6422526531765849,
          -0.6565857557529574,
          -0.6706855765367201,
          -0.684547105928688,
          -0.6981654189934724,
          -0.7115356772092853,
          -0.7246531301870459,
          -0.7375131173581736,
          -0.7501110696304596,
          -0.7624425110114483,
          -0.7745030601987335,
          -0.786288432136619,
          -0.7977944395385714,
          -0.8090169943749482,
          -0.8199521093254514,
          -0.8305958991958121,
          -0.8409445822981689,
          -0.850994481794692,
          -0.8607420270039432,
          -0.8701837546695255,
          -0.8793163101905563,
          -0.8881364488135449,
          -0.8966410367852358,
          -0.9048270524660197,
          -0.9126915874035032,
          -0.9202318473658709,
          -0.9274451533346608,
          -0.9343289424566117,
          -0.9408807689542253,
          -0.9470983049947443,
          -0.9529793415172185,
          -0.9585217890173758,
          -0.9637236782900098,
          -0.9685831611286314,
          -0.9730985109821265,
          -0.9772681235681936,
          -0.9810905174433343,
          -0.9845643345292053,
          -0.9876883405951375,
          -0.9904614256966511,
          -0.9928826045698137,
          -0.9949510169813002,
          -0.9966659280340299,
          -0.9980267284282716,
          -0.9990329346781247,
          -0.9996841892833,
          -0.9999802608561371,
          -0.9999210442038161,
          -0.9995065603657316,
          -0.9987369566060175,
          -0.9976125063612253,
          -0.9961336091431725,
          -0.9943007903969989,
          -0.9921147013144778,
          -0.989576118602651,
          -0.986685944207868,
          -0.9834452049953295,
          -0.9798550523842466,
          -0.9759167619387473,
          -0.9716317329146742,
          -0.9670014877624352,
          -0.9620276715860858,
          -0.9567120515588308,
          -0.9510565162951538,
          -0.9450630751798048,
          -0.9387338576538738,
          -0.9320711124582112,
          -0.9250772068344579,
          -0.9177546256839808,
          -0.9101059706849951,
          -0.9021339593682035,
          -0.8938414241512642,
          -0.8852313113324554,
          -0.8763066800438635,
          -0.8670707011644905,
          -0.8575266561936524,
          -0.8476779360850831,
          -0.8375280400421412,
          -0.8270805742745619,
          -0.8163392507171838,
          -0.8053078857111214,
          -0.7939903986478355,
          -0.782390810576589,
          -0.7705132427757897,
          -0.758361915288722,
          -0.7459411454241819,
          -0.7332553462225606,
          -0.720309024887907,
          -0.7071067811865472,
          -0.6936533058128042,
          -0.6799533787224192,
          -0.6660118674342512,
          -0.6518337253008792,
          -0.6374239897486897,
          -0.6227877804881135,
          -0.6079302976946059,
          -0.5928568201610592,
          -0.5775727034222671,
          -0.5620833778521311,
          -0.5463943467342691,
          -0.5305111843067335,
          -0.5144395337815054,
          -0.4981851053394908,
          -0.48175367410171627,
          -0.46515107807745887,
          -0.44838321609003223,
          -0.43145604568096,
          -0.41437558099328464,
          -0.39714789063478056,
          -0.3797790955218005,
          -0.3622753667045462,
          -0.344642923174517,
          -0.32688802965494185,
          -0.3090169943749462,
          -0.2910361668282717,
          -0.27295193551732627,
          -0.2547707256833826,
          -0.23649899702372454,
          -0.21814324139654356,
          -0.19970998051440744,
          -0.18120576362713717,
          -0.16263716519488283,
          -0.14401078255225255,
          -0.12533323356430404,
          -0.10661115427525909,
          -0.08785119655074175,
          -0.06906002571440731,
          -0.05024431817977047,
          -0.031410759078128604,
          -0.012566039883352314,
          0.00628314396555807,
          0.025130095443337202,
          0.04396811831786523,
          0.0627905195293143,
          0.0815906115681573,
          0.10036171485121526,
          0.1190971600948707,
          0.13779029068463786,
          0.15643446504022948,
          0.17502305897527526,
          0.19354946805086007,
          0.21200710992205504,
          0.23038942667658985,
          0.24868988716485463,
          0.266901989320376,
          0.28501926246997716,
          0.30303526963277383,
          0.32094360980720993,
          0.3387379202452907,
          0.35641187871325064,
          0.3739592057377993,
          0.3913736668372018,
          0.408649074736349,
          0.42577929156507316,
          0.442758231038901,
          0.45957986062148787,
          0.4762382036679396,
          0.4927273415482927,
          0.5090414157503713,
          0.5251746299612947,
          0.5411212521268755,
          0.5568756164881881,
          0.57243212559459,
          0.5877852522924728,
          0.6029295416890248,
          0.6178596130903349,
          0.6325701619131241,
          0.6470559615694444,
          0.6613118653236525,
          0.6753328081210255,
          0.6891138083873474,
          0.7026499697988485,
          0.7159364830218309,
          0.7289686274214117,
          0.7417417727387385,
          0.7542513807361035,
          0.76649300680935,
          0.778462301567024,
          0.7901550123756902,
          0.8015669848708767,
          0.8126941644330945,
          0.8235325976284272,
          0.8340784336131704,
          0.8443279255020146,
          0.854277431699295,
          0.8639234171928355,
          0.8732624548099197,
          0.8822912264349532,
          0.891006524188368,
          0.8994052515663714,
          0.9074844245411169,
          0.9152411726209178,
          0.9226727398701152,
          0.9297764858882513,
          0.9365498867481918,
          0.9429905358928642,
          0.9490961449902945,
          0.9548645447466431,
          0.9602936856769428,
          0.9653816388332739,
          0.9701265964901059,
          0.9745268727865773,
          0.9785809043254721,
          0.9822872507286888,
          0.9856445951489979,
          0.988651744737914,
          0.9913076310695064,
          0.9936113105200083,
          0.99556196460308,
          0.9971589002606139,
          0.998401550108975,
          0.9992894726405892,
          0.9998223523808091,
          1,
          0.999822352380809,
          0.9992894726405893,
          0.998401550108975,
          0.9971589002606139,
          0.9955619646030801,
          0.9936113105200085,
          0.9913076310695066,
          0.988651744737914,
          0.9856445951489982,
          0.9822872507286886,
          0.978580904325472,
          0.9745268727865768,
          0.9701265964901062,
          0.9653816388332741,
          0.9602936856769432,
          0.9548645447466428,
          0.9490961449902949,
          0.9429905358928646,
          0.9365498867481923,
          0.9297764858882511,
          0.922672739870115,
          0.9152411726209174,
          0.9074844245411166,
          0.8994052515663712,
          0.8910065241883686,
          0.8822912264349537,
          0.8732624548099203,
          0.8639234171928352,
          0.8542774316992956,
          0.8443279255020152,
          0.834078433613171,
          0.8235325976284269,
          0.8126941644330941,
          0.8015669848708763,
          0.7901550123756909,
          0.7784623015670236,
          0.7664930068093507,
          0.7542513807361043,
          0.7417417727387393,
          0.7289686274214111,
          0.7159364830218317,
          0.7026499697988493,
          0.6891138083873481,
          0.6753328081210237,
          0.6613118653236519,
          0.6470559615694453,
          0.632570161913125,
          0.6178596130903344,
          0.6029295416890257,
          0.5877852522924737,
          0.5724321255945909,
          0.5568756164881875,
          0.5411212521268763,
          0.5251746299612957,
          0.5090414157503708,
          0.4927273415482905,
          0.4762382036679406,
          0.4595798606214888,
          0.442758231038902,
          0.42577929156507255,
          0.40864907473635004,
          0.3913736668372028,
          0.3739592057378003,
          0.35641187871325,
          0.33873792024529176,
          0.3209436098072093,
          0.3030352696327732,
          0.2850192624699748,
          0.26690198932037706,
          0.2486898871648557,
          0.23038942667659093,
          0.2120071099220544,
          0.19354946805086118,
          0.17502305897527637,
          0.1564344650402306,
          0.1377902906846372,
          0.11909716009487002,
          0.10036171485121458,
          0.08159061156815664,
          0.06279051952931362,
          0.04396811831786633,
          0.0251300954433383,
          0.006283143965559172,
          -0.012566039883352989,
          -0.03141075907812751,
          -0.05024431817976937,
          -0.06906002571440621,
          -0.08785119655074419,
          -0.10661115427525976,
          -0.1253332335643047,
          -0.14401078255225144,
          -0.1626371651948835,
          -0.18120576362713608,
          -0.19970998051440633,
          -0.21814324139654248,
          -0.23649899702372518,
          -0.25477072568338155,
          -0.27295193551732516,
          -0.29103616682827066,
          -0.3090169943749485,
          -0.32688802965494246,
          -0.34464292317451595,
          -0.36227536670454347,
          -0.3797790955218011,
          -0.39714789063477957,
          -0.41437558099328525,
          -0.431456045680959,
          -0.44838321609003123,
          -0.4651510780774595,
          -0.4817536741017153,
          -0.49818510533948984,
          -0.5144395337815075,
          -0.530511184306734,
          -0.5463943467342681,
          -0.5620833778521287,
          -0.5775727034222676,
          -0.5928568201610583,
          -0.6079302976946064,
          -0.6227877804881126,
          -0.6374239897486889,
          -0.6518337253008771,
          -0.6660118674342518,
          -0.6799533787224185,
          -0.6936533058128059,
          -0.7071067811865477,
          -0.7203090248879087,
          -0.7332553462225586,
          -0.7459411454241823,
          -0.7583619152887213,
          -0.7705132427757879,
          -0.7823908105765883,
          -0.7939903986478348,
          -0.8053078857111229,
          -0.8163392507171842,
          -0.8270805742745614,
          -0.8375280400421407,
          -0.8476779360850835,
          -0.8575266561936519,
          -0.8670707011644908,
          -0.8763066800438638,
          -0.8852313113324548,
          -0.8938414241512646,
          -0.9021339593682015,
          -0.9101059706849954,
          -0.9177546256839804,
          -0.9250772068344583,
          -0.9320711124582107,
          -0.9387338576538746,
          -0.945063075179805,
          -0.9510565162951544,
          -0.95671205155883,
          -0.962027671586085,
          -0.9670014877624349,
          -0.9716317329146735,
          -0.9759167619387475,
          -0.9798550523842467,
          -0.9834452049953301,
          -0.9866859442078681,
          -0.9895761186026509,
          -0.9921147013144777,
          -0.9943007903969989,
          -0.9961336091431724,
          -0.9976125063612251,
          -0.9987369566060176,
          -0.9995065603657315,
          -0.9999210442038161,
          -0.9999802608561371,
          -0.9996841892832999,
          -0.9990329346781248,
          -0.9980267284282716,
          -0.9966659280340299,
          -0.9949510169813,
          -0.9928826045698136,
          -0.9904614256966513,
          -0.987688340595138,
          -0.9845643345292059,
          -0.9810905174433342,
          -0.9772681235681938,
          -0.9730985109821264,
          -0.9685831611286312,
          -0.9637236782900092,
          -0.9585217890173756,
          -0.9529793415172189,
          -0.9470983049947448,
          -0.9408807689542263,
          -0.9343289424566121,
          -0.9274451533346618,
          -0.9202318473658699,
          -0.9126915874035029,
          -0.9048270524660186,
          -0.896641036785237,
          -0.8881364488135446,
          -0.8793163101905569,
          -0.8701837546695252,
          -0.8607420270039438,
          -0.8509944817946906,
          -0.8409445822981685,
          -0.8305958991958127,
          -0.819952109325453,
          -0.8090169943749489,
          -0.797794439538571,
          -0.7862884321366197,
          -0.774503060198733,
          -0.7624425110114479,
          -0.750111069630458,
          -0.737513117358173,
          -0.7246531301870467,
          -0.7115356772092862,
          -0.6981654189934744,
          -0.6845471059286887,
          -0.670685576536721,
          -0.6565857557529555,
          -0.6422526531765844,
          -0.6276913612906987,
          -0.6129070536529784,
          -0.5979049830575188,
          -0.582690479668577,
          -0.5672689491267555,
          -0.5516458706284302,
          -0.5358267949789975,
          -0.5198173426207084,
          -0.5036232016357608,
          -0.48725012572533327,
          -0.4707039321653345,
          -0.45399049973954664,
          -0.43711576665093377,
          -0.42008572841180497,
          -0.40290643571366247,
          -0.38558399227739415,
          -0.36812455268467664,
          -0.3505343201912621,
          -0.3328195445229875,
          -0.3149865196553068,
          -0.29704158157703464,
          -0.2789911060392301,
          -0.2608415062898955,
          -0.24259923079540713,
          -0.22427076094937856,
          -0.2058626087698833,
          -0.1873813145857243,
          -0.16883344471273468,
          -0.15022558912075903,
          -0.13156435909228212,
          -0.11285638487348248,
          -0.09410831331851274,
          -0.07532680552793232,
          -0.0565185344820253,
          -0.03769018266993648,
          -0.018848439715407738,
          -7.347880794884119e-16
         ]
        }
       ],
       "layout": {
        "legend": {
         "bgcolor": "#FFFFFF",
         "font": {
          "color": "#4D5663"
         }
        },
        "paper_bgcolor": "#FFFFFF",
        "plot_bgcolor": "#FFFFFF",
        "template": {
         "data": {
          "bar": [
           {
            "error_x": {
             "color": "#2a3f5f"
            },
            "error_y": {
             "color": "#2a3f5f"
            },
            "marker": {
             "line": {
              "color": "#E5ECF6",
              "width": 0.5
             }
            },
            "type": "bar"
           }
          ],
          "barpolar": [
           {
            "marker": {
             "line": {
              "color": "#E5ECF6",
              "width": 0.5
             }
            },
            "type": "barpolar"
           }
          ],
          "carpet": [
           {
            "aaxis": {
             "endlinecolor": "#2a3f5f",
             "gridcolor": "white",
             "linecolor": "white",
             "minorgridcolor": "white",
             "startlinecolor": "#2a3f5f"
            },
            "baxis": {
             "endlinecolor": "#2a3f5f",
             "gridcolor": "white",
             "linecolor": "white",
             "minorgridcolor": "white",
             "startlinecolor": "#2a3f5f"
            },
            "type": "carpet"
           }
          ],
          "choropleth": [
           {
            "colorbar": {
             "outlinewidth": 0,
             "ticks": ""
            },
            "type": "choropleth"
           }
          ],
          "contour": [
           {
            "colorbar": {
             "outlinewidth": 0,
             "ticks": ""
            },
            "colorscale": [
             [
              0,
              "#0d0887"
             ],
             [
              0.1111111111111111,
              "#46039f"
             ],
             [
              0.2222222222222222,
              "#7201a8"
             ],
             [
              0.3333333333333333,
              "#9c179e"
             ],
             [
              0.4444444444444444,
              "#bd3786"
             ],
             [
              0.5555555555555556,
              "#d8576b"
             ],
             [
              0.6666666666666666,
              "#ed7953"
             ],
             [
              0.7777777777777778,
              "#fb9f3a"
             ],
             [
              0.8888888888888888,
              "#fdca26"
             ],
             [
              1,
              "#f0f921"
             ]
            ],
            "type": "contour"
           }
          ],
          "contourcarpet": [
           {
            "colorbar": {
             "outlinewidth": 0,
             "ticks": ""
            },
            "type": "contourcarpet"
           }
          ],
          "heatmap": [
           {
            "colorbar": {
             "outlinewidth": 0,
             "ticks": ""
            },
            "colorscale": [
             [
              0,
              "#0d0887"
             ],
             [
              0.1111111111111111,
              "#46039f"
             ],
             [
              0.2222222222222222,
              "#7201a8"
             ],
             [
              0.3333333333333333,
              "#9c179e"
             ],
             [
              0.4444444444444444,
              "#bd3786"
             ],
             [
              0.5555555555555556,
              "#d8576b"
             ],
             [
              0.6666666666666666,
              "#ed7953"
             ],
             [
              0.7777777777777778,
              "#fb9f3a"
             ],
             [
              0.8888888888888888,
              "#fdca26"
             ],
             [
              1,
              "#f0f921"
             ]
            ],
            "type": "heatmap"
           }
          ],
          "heatmapgl": [
           {
            "colorbar": {
             "outlinewidth": 0,
             "ticks": ""
            },
            "colorscale": [
             [
              0,
              "#0d0887"
             ],
             [
              0.1111111111111111,
              "#46039f"
             ],
             [
              0.2222222222222222,
              "#7201a8"
             ],
             [
              0.3333333333333333,
              "#9c179e"
             ],
             [
              0.4444444444444444,
              "#bd3786"
             ],
             [
              0.5555555555555556,
              "#d8576b"
             ],
             [
              0.6666666666666666,
              "#ed7953"
             ],
             [
              0.7777777777777778,
              "#fb9f3a"
             ],
             [
              0.8888888888888888,
              "#fdca26"
             ],
             [
              1,
              "#f0f921"
             ]
            ],
            "type": "heatmapgl"
           }
          ],
          "histogram": [
           {
            "marker": {
             "colorbar": {
              "outlinewidth": 0,
              "ticks": ""
             }
            },
            "type": "histogram"
           }
          ],
          "histogram2d": [
           {
            "colorbar": {
             "outlinewidth": 0,
             "ticks": ""
            },
            "colorscale": [
             [
              0,
              "#0d0887"
             ],
             [
              0.1111111111111111,
              "#46039f"
             ],
             [
              0.2222222222222222,
              "#7201a8"
             ],
             [
              0.3333333333333333,
              "#9c179e"
             ],
             [
              0.4444444444444444,
              "#bd3786"
             ],
             [
              0.5555555555555556,
              "#d8576b"
             ],
             [
              0.6666666666666666,
              "#ed7953"
             ],
             [
              0.7777777777777778,
              "#fb9f3a"
             ],
             [
              0.8888888888888888,
              "#fdca26"
             ],
             [
              1,
              "#f0f921"
             ]
            ],
            "type": "histogram2d"
           }
          ],
          "histogram2dcontour": [
           {
            "colorbar": {
             "outlinewidth": 0,
             "ticks": ""
            },
            "colorscale": [
             [
              0,
              "#0d0887"
             ],
             [
              0.1111111111111111,
              "#46039f"
             ],
             [
              0.2222222222222222,
              "#7201a8"
             ],
             [
              0.3333333333333333,
              "#9c179e"
             ],
             [
              0.4444444444444444,
              "#bd3786"
             ],
             [
              0.5555555555555556,
              "#d8576b"
             ],
             [
              0.6666666666666666,
              "#ed7953"
             ],
             [
              0.7777777777777778,
              "#fb9f3a"
             ],
             [
              0.8888888888888888,
              "#fdca26"
             ],
             [
              1,
              "#f0f921"
             ]
            ],
            "type": "histogram2dcontour"
           }
          ],
          "mesh3d": [
           {
            "colorbar": {
             "outlinewidth": 0,
             "ticks": ""
            },
            "type": "mesh3d"
           }
          ],
          "parcoords": [
           {
            "line": {
             "colorbar": {
              "outlinewidth": 0,
              "ticks": ""
             }
            },
            "type": "parcoords"
           }
          ],
          "scatter": [
           {
            "marker": {
             "colorbar": {
              "outlinewidth": 0,
              "ticks": ""
             }
            },
            "type": "scatter"
           }
          ],
          "scatter3d": [
           {
            "line": {
             "colorbar": {
              "outlinewidth": 0,
              "ticks": ""
             }
            },
            "marker": {
             "colorbar": {
              "outlinewidth": 0,
              "ticks": ""
             }
            },
            "type": "scatter3d"
           }
          ],
          "scattercarpet": [
           {
            "marker": {
             "colorbar": {
              "outlinewidth": 0,
              "ticks": ""
             }
            },
            "type": "scattercarpet"
           }
          ],
          "scattergeo": [
           {
            "marker": {
             "colorbar": {
              "outlinewidth": 0,
              "ticks": ""
             }
            },
            "type": "scattergeo"
           }
          ],
          "scattergl": [
           {
            "marker": {
             "colorbar": {
              "outlinewidth": 0,
              "ticks": ""
             }
            },
            "type": "scattergl"
           }
          ],
          "scattermapbox": [
           {
            "marker": {
             "colorbar": {
              "outlinewidth": 0,
              "ticks": ""
             }
            },
            "type": "scattermapbox"
           }
          ],
          "scatterpolar": [
           {
            "marker": {
             "colorbar": {
              "outlinewidth": 0,
              "ticks": ""
             }
            },
            "type": "scatterpolar"
           }
          ],
          "scatterpolargl": [
           {
            "marker": {
             "colorbar": {
              "outlinewidth": 0,
              "ticks": ""
             }
            },
            "type": "scatterpolargl"
           }
          ],
          "scatterternary": [
           {
            "marker": {
             "colorbar": {
              "outlinewidth": 0,
              "ticks": ""
             }
            },
            "type": "scatterternary"
           }
          ],
          "surface": [
           {
            "colorbar": {
             "outlinewidth": 0,
             "ticks": ""
            },
            "colorscale": [
             [
              0,
              "#0d0887"
             ],
             [
              0.1111111111111111,
              "#46039f"
             ],
             [
              0.2222222222222222,
              "#7201a8"
             ],
             [
              0.3333333333333333,
              "#9c179e"
             ],
             [
              0.4444444444444444,
              "#bd3786"
             ],
             [
              0.5555555555555556,
              "#d8576b"
             ],
             [
              0.6666666666666666,
              "#ed7953"
             ],
             [
              0.7777777777777778,
              "#fb9f3a"
             ],
             [
              0.8888888888888888,
              "#fdca26"
             ],
             [
              1,
              "#f0f921"
             ]
            ],
            "type": "surface"
           }
          ],
          "table": [
           {
            "cells": {
             "fill": {
              "color": "#EBF0F8"
             },
             "line": {
              "color": "white"
             }
            },
            "header": {
             "fill": {
              "color": "#C8D4E3"
             },
             "line": {
              "color": "white"
             }
            },
            "type": "table"
           }
          ]
         },
         "layout": {
          "annotationdefaults": {
           "arrowcolor": "#2a3f5f",
           "arrowhead": 0,
           "arrowwidth": 1
          },
          "colorscale": {
           "diverging": [
            [
             0,
             "#8e0152"
            ],
            [
             0.1,
             "#c51b7d"
            ],
            [
             0.2,
             "#de77ae"
            ],
            [
             0.3,
             "#f1b6da"
            ],
            [
             0.4,
             "#fde0ef"
            ],
            [
             0.5,
             "#f7f7f7"
            ],
            [
             0.6,
             "#e6f5d0"
            ],
            [
             0.7,
             "#b8e186"
            ],
            [
             0.8,
             "#7fbc41"
            ],
            [
             0.9,
             "#4d9221"
            ],
            [
             1,
             "#276419"
            ]
           ],
           "sequential": [
            [
             0,
             "#0d0887"
            ],
            [
             0.1111111111111111,
             "#46039f"
            ],
            [
             0.2222222222222222,
             "#7201a8"
            ],
            [
             0.3333333333333333,
             "#9c179e"
            ],
            [
             0.4444444444444444,
             "#bd3786"
            ],
            [
             0.5555555555555556,
             "#d8576b"
            ],
            [
             0.6666666666666666,
             "#ed7953"
            ],
            [
             0.7777777777777778,
             "#fb9f3a"
            ],
            [
             0.8888888888888888,
             "#fdca26"
            ],
            [
             1,
             "#f0f921"
            ]
           ],
           "sequentialminus": [
            [
             0,
             "#0d0887"
            ],
            [
             0.1111111111111111,
             "#46039f"
            ],
            [
             0.2222222222222222,
             "#7201a8"
            ],
            [
             0.3333333333333333,
             "#9c179e"
            ],
            [
             0.4444444444444444,
             "#bd3786"
            ],
            [
             0.5555555555555556,
             "#d8576b"
            ],
            [
             0.6666666666666666,
             "#ed7953"
            ],
            [
             0.7777777777777778,
             "#fb9f3a"
            ],
            [
             0.8888888888888888,
             "#fdca26"
            ],
            [
             1,
             "#f0f921"
            ]
           ]
          },
          "colorway": [
           "#636efa",
           "#EF553B",
           "#00cc96",
           "#ab63fa",
           "#FFA15A",
           "#19d3f3",
           "#FF6692",
           "#B6E880",
           "#FF97FF",
           "#FECB52"
          ],
          "font": {
           "color": "#2a3f5f"
          },
          "geo": {
           "bgcolor": "white",
           "lakecolor": "white",
           "landcolor": "#E5ECF6",
           "showlakes": true,
           "showland": true,
           "subunitcolor": "white"
          },
          "hoverlabel": {
           "align": "left"
          },
          "hovermode": "closest",
          "mapbox": {
           "style": "light"
          },
          "paper_bgcolor": "white",
          "plot_bgcolor": "#E5ECF6",
          "polar": {
           "angularaxis": {
            "gridcolor": "white",
            "linecolor": "white",
            "ticks": ""
           },
           "bgcolor": "#E5ECF6",
           "radialaxis": {
            "gridcolor": "white",
            "linecolor": "white",
            "ticks": ""
           }
          },
          "scene": {
           "xaxis": {
            "backgroundcolor": "#E5ECF6",
            "gridcolor": "white",
            "gridwidth": 2,
            "linecolor": "white",
            "showbackground": true,
            "ticks": "",
            "zerolinecolor": "white"
           },
           "yaxis": {
            "backgroundcolor": "#E5ECF6",
            "gridcolor": "white",
            "gridwidth": 2,
            "linecolor": "white",
            "showbackground": true,
            "ticks": "",
            "zerolinecolor": "white"
           },
           "zaxis": {
            "backgroundcolor": "#E5ECF6",
            "gridcolor": "white",
            "gridwidth": 2,
            "linecolor": "white",
            "showbackground": true,
            "ticks": "",
            "zerolinecolor": "white"
           }
          },
          "shapedefaults": {
           "line": {
            "color": "#2a3f5f"
           }
          },
          "ternary": {
           "aaxis": {
            "gridcolor": "white",
            "linecolor": "white",
            "ticks": ""
           },
           "baxis": {
            "gridcolor": "white",
            "linecolor": "white",
            "ticks": ""
           },
           "bgcolor": "#E5ECF6",
           "caxis": {
            "gridcolor": "white",
            "linecolor": "white",
            "ticks": ""
           }
          },
          "title": {
           "x": 0.05
          },
          "xaxis": {
           "automargin": true,
           "gridcolor": "white",
           "linecolor": "white",
           "ticks": "",
           "zerolinecolor": "white",
           "zerolinewidth": 2
          },
          "yaxis": {
           "automargin": true,
           "gridcolor": "white",
           "linecolor": "white",
           "ticks": "",
           "zerolinecolor": "white",
           "zerolinewidth": 2
          }
         }
        },
        "title": {
         "font": {
          "color": "#4D5663"
         },
         "text": "Input"
        },
        "xaxis": {
         "gridcolor": "#E1E5ED",
         "showgrid": true,
         "tickfont": {
          "color": "#4D5663"
         },
         "title": {
          "font": {
           "color": "#4D5663"
          },
          "text": "T"
         },
         "zerolinecolor": "#E1E5ED"
        },
        "yaxis": {
         "gridcolor": "#E1E5ED",
         "showgrid": true,
         "tickfont": {
          "color": "#4D5663"
         },
         "title": {
          "font": {
           "color": "#4D5663"
          },
          "text": "S"
         },
         "zerolinecolor": "#E1E5ED"
        }
       }
      },
      "text/html": [
       "<div>\n",
       "        \n",
       "        \n",
       "            <div id=\"675d8d4e-3940-4505-946c-191f9b4d3720\" class=\"plotly-graph-div\" style=\"height:525px; width:100%;\"></div>\n",
       "            <script type=\"text/javascript\">\n",
       "                require([\"plotly\"], function(Plotly) {\n",
       "                    window.PLOTLYENV=window.PLOTLYENV || {};\n",
       "                    window.PLOTLYENV.BASE_URL='https://plot.ly';\n",
       "                    \n",
       "                if (document.getElementById(\"675d8d4e-3940-4505-946c-191f9b4d3720\")) {\n",
       "                    Plotly.newPlot(\n",
       "                        '675d8d4e-3940-4505-946c-191f9b4d3720',\n",
       "                        [{\"line\": {\"color\": \"rgba(255, 153, 51, 1.0)\", \"dash\": \"solid\", \"shape\": \"linear\", \"width\": 1.3}, \"mode\": \"lines\", \"name\": \"0\", \"text\": \"\", \"type\": \"scatter\", \"x\": [0.0, 3.0, 6.0, 9.0, 12.0, 15.0, 18.0, 21.0, 24.0, 27.0, 30.0, 33.0, 36.0, 39.0, 42.0, 45.0, 48.0, 51.0, 54.0, 57.0, 60.0, 63.0, 66.0, 69.0, 72.0, 75.0, 78.0, 81.0, 84.0, 87.0, 90.0, 93.0, 96.0, 99.0, 102.0, 105.0, 108.0, 111.0, 114.0, 117.0, 120.0, 123.0, 126.0, 129.0, 132.0, 135.0, 138.0, 141.0, 144.0, 147.0, 150.0, 153.0, 156.0, 159.0, 162.0, 165.0, 168.0, 171.0, 174.0, 177.0, 180.0, 183.0, 186.0, 189.0, 192.0, 195.0, 198.0, 201.0, 204.0, 207.0, 210.0, 213.0, 216.0, 219.0, 222.0, 225.0, 228.0, 231.0, 234.0, 237.0, 240.0, 243.0, 246.0, 249.0, 252.0, 255.0, 258.0, 261.0, 264.0, 267.0, 270.0, 273.0, 276.0, 279.0, 282.0, 285.0, 288.0, 291.0, 294.0, 297.0, 300.0, 303.0, 306.0, 309.0, 312.0, 315.0, 318.0, 321.0, 324.0, 327.0, 330.0, 333.0, 336.0, 339.0, 342.0, 345.0, 348.0, 351.0, 354.0, 357.0, 360.0, 363.0, 366.0, 369.0, 372.0, 375.0, 378.0, 381.0, 384.0, 387.0, 390.0, 393.0, 396.0, 399.0, 402.0, 405.0, 408.0, 411.0, 414.0, 417.0, 420.0, 423.0, 426.0, 429.0, 432.0, 435.0, 438.0, 441.0, 444.0, 447.0, 450.0, 453.0, 456.0, 459.0, 462.0, 465.0, 468.0, 471.0, 474.0, 477.0, 480.0, 483.0, 486.0, 489.0, 492.0, 495.0, 498.0, 501.0, 504.0, 507.0, 510.0, 513.0, 516.0, 519.0, 522.0, 525.0, 528.0, 531.0, 534.0, 537.0, 540.0, 543.0, 546.0, 549.0, 552.0, 555.0, 558.0, 561.0, 564.0, 567.0, 570.0, 573.0, 576.0, 579.0, 582.0, 585.0, 588.0, 591.0, 594.0, 597.0, 600.0, 603.0, 606.0, 609.0, 612.0, 615.0, 618.0, 621.0, 624.0, 627.0, 630.0, 633.0, 636.0, 639.0, 642.0, 645.0, 648.0, 651.0, 654.0, 657.0, 660.0, 663.0, 666.0, 669.0, 672.0, 675.0, 678.0, 681.0, 684.0, 687.0, 690.0, 693.0, 696.0, 699.0, 702.0, 705.0, 708.0, 711.0, 714.0, 717.0, 720.0, 723.0, 726.0, 729.0, 732.0, 735.0, 738.0, 741.0, 744.0, 747.0, 750.0, 753.0, 756.0, 759.0, 762.0, 765.0, 768.0, 771.0, 774.0, 777.0, 780.0, 783.0, 786.0, 789.0, 792.0, 795.0, 798.0, 801.0, 804.0, 807.0, 810.0, 813.0, 816.0, 819.0, 822.0, 825.0, 828.0, 831.0, 834.0, 837.0, 840.0, 843.0, 846.0, 849.0, 852.0, 855.0, 858.0, 861.0, 864.0, 867.0, 870.0, 873.0, 876.0, 879.0, 882.0, 885.0, 888.0, 891.0, 894.0, 897.0, 900.0, 903.0, 906.0, 909.0, 912.0, 915.0, 918.0, 921.0, 924.0, 927.0, 930.0, 933.0, 936.0, 939.0, 942.0, 945.0, 948.0, 951.0, 954.0, 957.0, 960.0, 963.0, 966.0, 969.0, 972.0, 975.0, 978.0, 981.0, 984.0, 987.0, 990.0, 993.0, 996.0, 999.0, 1002.0, 1005.0, 1008.0, 1011.0, 1014.0, 1017.0, 1020.0, 1023.0, 1026.0, 1029.0, 1032.0, 1035.0, 1038.0, 1041.0, 1044.0, 1047.0, 1050.0, 1053.0, 1056.0, 1059.0, 1062.0, 1065.0, 1068.0, 1071.0, 1074.0, 1077.0, 1080.0, 1083.0, 1086.0, 1089.0, 1092.0, 1095.0, 1098.0, 1101.0, 1104.0, 1107.0, 1110.0, 1113.0, 1116.0, 1119.0, 1122.0, 1125.0, 1128.0, 1131.0, 1134.0, 1137.0, 1140.0, 1143.0, 1146.0, 1149.0, 1152.0, 1155.0, 1158.0, 1161.0, 1164.0, 1167.0, 1170.0, 1173.0, 1176.0, 1179.0, 1182.0, 1185.0, 1188.0, 1191.0, 1194.0, 1197.0, 1200.0, 1203.0, 1206.0, 1209.0, 1212.0, 1215.0, 1218.0, 1221.0, 1224.0, 1227.0, 1230.0, 1233.0, 1236.0, 1239.0, 1242.0, 1245.0, 1248.0, 1251.0, 1254.0, 1257.0, 1260.0, 1263.0, 1266.0, 1269.0, 1272.0, 1275.0, 1278.0, 1281.0, 1284.0, 1287.0, 1290.0, 1293.0, 1296.0, 1299.0, 1302.0, 1305.0, 1308.0, 1311.0, 1314.0, 1317.0, 1320.0, 1323.0, 1326.0, 1329.0, 1332.0, 1335.0, 1338.0, 1341.0, 1344.0, 1347.0, 1350.0, 1353.0, 1356.0, 1359.0, 1362.0, 1365.0, 1368.0, 1371.0, 1374.0, 1377.0, 1380.0, 1383.0, 1386.0, 1389.0, 1392.0, 1395.0, 1398.0, 1401.0, 1404.0, 1407.0, 1410.0, 1413.0, 1416.0, 1419.0, 1422.0, 1425.0, 1428.0, 1431.0, 1434.0, 1437.0, 1440.0, 1443.0, 1446.0, 1449.0, 1452.0, 1455.0, 1458.0, 1461.0, 1464.0, 1467.0, 1470.0, 1473.0, 1476.0, 1479.0, 1482.0, 1485.0, 1488.0, 1491.0, 1494.0, 1497.0, 1500.0, 1503.0, 1506.0, 1509.0, 1512.0, 1515.0, 1518.0, 1521.0, 1524.0, 1527.0, 1530.0, 1533.0, 1536.0, 1539.0, 1542.0, 1545.0, 1548.0, 1551.0, 1554.0, 1557.0, 1560.0, 1563.0, 1566.0, 1569.0, 1572.0, 1575.0, 1578.0, 1581.0, 1584.0, 1587.0, 1590.0, 1593.0, 1596.0, 1599.0, 1602.0, 1605.0, 1608.0, 1611.0, 1614.0, 1617.0, 1620.0, 1623.0, 1626.0, 1629.0, 1632.0, 1635.0, 1638.0, 1641.0, 1644.0, 1647.0, 1650.0, 1653.0, 1656.0, 1659.0, 1662.0, 1665.0, 1668.0, 1671.0, 1674.0, 1677.0, 1680.0, 1683.0, 1686.0, 1689.0, 1692.0, 1695.0, 1698.0, 1701.0, 1704.0, 1707.0, 1710.0, 1713.0, 1716.0, 1719.0, 1722.0, 1725.0, 1728.0, 1731.0, 1734.0, 1737.0, 1740.0, 1743.0, 1746.0, 1749.0, 1752.0, 1755.0, 1758.0, 1761.0, 1764.0, 1767.0, 1770.0, 1773.0, 1776.0, 1779.0, 1782.0, 1785.0, 1788.0, 1791.0, 1794.0, 1797.0, 1800.0, 1803.0, 1806.0, 1809.0, 1812.0, 1815.0, 1818.0, 1821.0, 1824.0, 1827.0, 1830.0, 1833.0, 1836.0, 1839.0, 1842.0, 1845.0, 1848.0, 1851.0, 1854.0, 1857.0, 1860.0, 1863.0, 1866.0, 1869.0, 1872.0, 1875.0, 1878.0, 1881.0, 1884.0, 1887.0, 1890.0, 1893.0, 1896.0, 1899.0, 1902.0, 1905.0, 1908.0, 1911.0, 1914.0, 1917.0, 1920.0, 1923.0, 1926.0, 1929.0, 1932.0, 1935.0, 1938.0, 1941.0, 1944.0, 1947.0, 1950.0, 1953.0, 1956.0, 1959.0, 1962.0, 1965.0, 1968.0, 1971.0, 1974.0, 1977.0, 1980.0, 1983.0, 1986.0, 1989.0, 1992.0, 1995.0, 1998.0, 2001.0, 2004.0, 2007.0, 2010.0, 2013.0, 2016.0, 2019.0, 2022.0, 2025.0, 2028.0, 2031.0, 2034.0, 2037.0, 2040.0, 2043.0, 2046.0, 2049.0, 2052.0, 2055.0, 2058.0, 2061.0, 2064.0, 2067.0, 2070.0, 2073.0, 2076.0, 2079.0, 2082.0, 2085.0, 2088.0, 2091.0, 2094.0, 2097.0, 2100.0, 2103.0, 2106.0, 2109.0, 2112.0, 2115.0, 2118.0, 2121.0, 2124.0, 2127.0, 2130.0, 2133.0, 2136.0, 2139.0, 2142.0, 2145.0, 2148.0, 2151.0, 2154.0, 2157.0, 2160.0, 2163.0, 2166.0, 2169.0, 2172.0, 2175.0, 2178.0, 2181.0, 2184.0, 2187.0, 2190.0, 2193.0, 2196.0, 2199.0, 2202.0, 2205.0, 2208.0, 2211.0, 2214.0, 2217.0, 2220.0, 2223.0, 2226.0, 2229.0, 2232.0, 2235.0, 2238.0, 2241.0, 2244.0, 2247.0, 2250.0, 2253.0, 2256.0, 2259.0, 2262.0, 2265.0, 2268.0, 2271.0, 2274.0, 2277.0, 2280.0, 2283.0, 2286.0, 2289.0, 2292.0, 2295.0, 2298.0, 2301.0, 2304.0, 2307.0, 2310.0, 2313.0, 2316.0, 2319.0, 2322.0, 2325.0, 2328.0, 2331.0, 2334.0, 2337.0, 2340.0, 2343.0, 2346.0, 2349.0, 2352.0, 2355.0, 2358.0, 2361.0, 2364.0, 2367.0, 2370.0, 2373.0, 2376.0, 2379.0, 2382.0, 2385.0, 2388.0, 2391.0, 2394.0, 2397.0, 2400.0, 2403.0, 2406.0, 2409.0, 2412.0, 2415.0, 2418.0, 2421.0, 2424.0, 2427.0, 2430.0, 2433.0, 2436.0, 2439.0, 2442.0, 2445.0, 2448.0, 2451.0, 2454.0, 2457.0, 2460.0, 2463.0, 2466.0, 2469.0, 2472.0, 2475.0, 2478.0, 2481.0, 2484.0, 2487.0, 2490.0, 2493.0, 2496.0, 2499.0, 2502.0, 2505.0, 2508.0, 2511.0, 2514.0, 2517.0, 2520.0, 2523.0, 2526.0, 2529.0, 2532.0, 2535.0, 2538.0, 2541.0, 2544.0, 2547.0, 2550.0, 2553.0, 2556.0, 2559.0, 2562.0, 2565.0, 2568.0, 2571.0, 2574.0, 2577.0, 2580.0, 2583.0, 2586.0, 2589.0, 2592.0, 2595.0, 2598.0, 2601.0, 2604.0, 2607.0, 2610.0, 2613.0, 2616.0, 2619.0, 2622.0, 2625.0, 2628.0, 2631.0, 2634.0, 2637.0, 2640.0, 2643.0, 2646.0, 2649.0, 2652.0, 2655.0, 2658.0, 2661.0, 2664.0, 2667.0, 2670.0, 2673.0, 2676.0, 2679.0, 2682.0, 2685.0, 2688.0, 2691.0, 2694.0, 2697.0, 2700.0, 2703.0, 2706.0, 2709.0, 2712.0, 2715.0, 2718.0, 2721.0, 2724.0, 2727.0, 2730.0, 2733.0, 2736.0, 2739.0, 2742.0, 2745.0, 2748.0, 2751.0, 2754.0, 2757.0, 2760.0, 2763.0, 2766.0, 2769.0, 2772.0, 2775.0, 2778.0, 2781.0, 2784.0, 2787.0, 2790.0, 2793.0, 2796.0, 2799.0, 2802.0, 2805.0, 2808.0, 2811.0, 2814.0, 2817.0, 2820.0, 2823.0, 2826.0, 2829.0, 2832.0, 2835.0, 2838.0, 2841.0, 2844.0, 2847.0, 2850.0, 2853.0, 2856.0, 2859.0, 2862.0, 2865.0, 2868.0, 2871.0, 2874.0, 2877.0, 2880.0, 2883.0, 2886.0, 2889.0, 2892.0, 2895.0, 2898.0, 2901.0, 2904.0, 2907.0, 2910.0, 2913.0, 2916.0, 2919.0, 2922.0, 2925.0, 2928.0, 2931.0, 2934.0, 2937.0, 2940.0, 2943.0, 2946.0, 2949.0, 2952.0, 2955.0, 2958.0, 2961.0, 2964.0, 2967.0, 2970.0, 2973.0, 2976.0, 2979.0, 2982.0, 2985.0, 2988.0, 2991.0, 2994.0, 2997.0, 3000.0], \"y\": [0.0, 0.018848439715408175, 0.03769018266993454, 0.05651853448202453, 0.07532680552793272, 0.09410831331851431, 0.11285638487348168, 0.1315643590922825, 0.15022558912075706, 0.16883344471273387, 0.1873813145857246, 0.20586260876988133, 0.22427076094938117, 0.2425992307954074, 0.26084150628989694, 0.2789911060392293, 0.2970415815770349, 0.3149865196553048, 0.3328195445229866, 0.35053432019125896, 0.3681245526846779, 0.38558399227739654, 0.40290643571366264, 0.42008572841180625, 0.4371157666509329, 0.45399049973954675, 0.4707039321653326, 0.4872501257253323, 0.5036232016357608, 0.5198173426207094, 0.5358267949789967, 0.5516458706284302, 0.5672689491267565, 0.5826904796685761, 0.5979049830575188, 0.6129070536529765, 0.6276913612907005, 0.6422526531765844, 0.6565857557529564, 0.67068557653672, 0.6845471059286886, 0.6981654189934727, 0.7115356772092853, 0.7246531301870466, 0.7375131173581739, 0.7501110696304595, 0.7624425110114479, 0.7745030601987337, 0.7862884321366188, 0.797794439538571, 0.8090169943749473, 0.8199521093254523, 0.8305958991958126, 0.840944582298169, 0.8509944817946917, 0.8607420270039435, 0.8701837546695257, 0.8793163101905562, 0.8881364488135445, 0.8966410367852359, 0.9048270524660196, 0.9126915874035028, 0.9202318473658703, 0.9274451533346614, 0.934328942456612, 0.9408807689542255, 0.9470983049947443, 0.9529793415172189, 0.9585217890173758, 0.9637236782900097, 0.9685831611286311, 0.9730985109821265, 0.9772681235681935, 0.9810905174433341, 0.9845643345292053, 0.9876883405951378, 0.9904614256966512, 0.9928826045698137, 0.9949510169813002, 0.9966659280340299, 0.9980267284282716, 0.9990329346781247, 0.9996841892832999, 0.9999802608561371, 0.9999210442038161, 0.9995065603657316, 0.9987369566060175, 0.9976125063612252, 0.9961336091431725, 0.9943007903969989, 0.9921147013144779, 0.9895761186026509, 0.986685944207868, 0.9834452049953297, 0.9798550523842469, 0.9759167619387474, 0.971631732914674, 0.9670014877624351, 0.9620276715860858, 0.9567120515588305, 0.9510565162951536, 0.9450630751798049, 0.9387338576538741, 0.932071112458211, 0.925077206834458, 0.9177546256839811, 0.9101059706849957, 0.9021339593682027, 0.8938414241512638, 0.8852313113324553, 0.8763066800438637, 0.8670707011644901, 0.8575266561936523, 0.8476779360850834, 0.8375280400421418, 0.8270805742745618, 0.816339250717184, 0.805307885711122, 0.7939903986478353, 0.7823908105765882, 0.7705132427757893, 0.7583619152887218, 0.7459411454241822, 0.73325534622256, 0.7203090248879072, 0.7071067811865476, 0.6936533058128049, 0.6799533787224193, 0.6660118674342517, 0.6518337253008787, 0.6374239897486899, 0.6227877804881126, 0.6079302976946053, 0.5928568201610593, 0.5775727034222676, 0.5620833778521308, 0.5463943467342691, 0.530511184306734, 0.5144395337815066, 0.4981851053394909, 0.4817536741017152, 0.46515107807745854, 0.4483832160900323, 0.43145604568095886, 0.4143755809932843, 0.3971478906347806, 0.37977909552180095, 0.3622753667045458, 0.34464292317451706, 0.32688802965494274, 0.3090169943749475, 0.29103616682827177, 0.27295193551732544, 0.2547707256833822, 0.2364989970237246, 0.21814324139654273, 0.19970998051440705, 0.18120576362713722, 0.16263716519488375, 0.14401078255225216, 0.12533323356430454, 0.10661115427526005, 0.08785119655074315, 0.06906002571440606, 0.05024431817976966, 0.03141075907812824, 0.012566039883352836, -0.006283143965558882, -0.02513009544333757, -0.04396811831786471, -0.06279051952931333, -0.08159061156815767, -0.10036171485121473, -0.11909716009486973, -0.1377902906846378, -0.15643446504023076, -0.1750230589752761, -0.19354946805086, -0.21200710992205457, -0.23038942667659065, -0.24868988716485457, -0.2669019893203755, -0.2850192624699762, -0.30303526963277383, -0.3209436098072095, -0.33873792024529153, -0.3564118787132506, -0.37395920573780045, -0.39137366683720215, -0.4086490747363489, -0.4257792915650727, -0.44275823103890133, -0.4595798606214878, -0.4762382036679392, -0.4927273415482914, -0.5090414157503713, -0.5251746299612958, -0.5411212521268757, -0.556875616488188, -0.5724321255945907, -0.587785252292473, -0.6029295416890247, -0.6178596130903341, -0.6325701619131244, -0.6470559615694443, -0.6613118653236517, -0.6753328081210244, -0.6891138083873485, -0.7026499697988491, -0.7159364830218311, -0.7289686274214116, -0.7417417727387391, -0.7542513807361038, -0.7664930068093496, -0.7784623015670236, -0.7901550123756904, -0.8015669848708764, -0.8126941644330942, -0.8235325976284275, -0.8340784336131715, -0.8443279255020147, -0.8542774316992952, -0.8639234171928352, -0.8732624548099204, -0.8822912264349534, -0.8910065241883682, -0.8994052515663709, -0.907484424541117, -0.9152411726209175, -0.922672739870115, -0.9297764858882515, -0.9365498867481923, -0.9429905358928643, -0.9490961449902947, -0.954864544746643, -0.9602936856769432, -0.965381638833274, -0.9701265964901058, -0.9745268727865771, -0.9785809043254722, -0.9822872507286887, -0.9856445951489982, -0.9886517447379141, -0.9913076310695066, -0.9936113105200084, -0.99556196460308, -0.9971589002606139, -0.9984015501089751, -0.9992894726405892, -0.999822352380809, -1.0, -0.999822352380809, -0.9992894726405892, -0.998401550108975, -0.9971589002606139, -0.99556196460308, -0.9936113105200084, -0.9913076310695065, -0.988651744737914, -0.985644595148998, -0.9822872507286887, -0.9785809043254721, -0.9745268727865771, -0.9701265964901057, -0.9653816388332738, -0.9602936856769431, -0.9548645447466431, -0.9490961449902945, -0.9429905358928644, -0.9365498867481922, -0.9297764858882516, -0.9226727398701148, -0.9152411726209176, -0.9074844245411168, -0.899405251566371, -0.8910065241883676, -0.8822912264349535, -0.8732624548099202, -0.8639234171928354, -0.8542774316992949, -0.8443279255020151, -0.8340784336131708, -0.8235325976284277, -0.8126941644330938, -0.8015669848708766, -0.7901550123756901, -0.7784623015670233, -0.7664930068093498, -0.7542513807361041, -0.7417417727387391, -0.7289686274214116, -0.7159364830218309, -0.702649969798849, -0.6891138083873485, -0.6753328081210246, -0.6613118653236516, -0.6470559615694442, -0.632570161913124, -0.6178596130903348, -0.6029295416890247, -0.5877852522924732, -0.5724321255945906, -0.556875616488188, -0.5411212521268752, -0.525174629961296, -0.5090414157503712, -0.4927273415482917, -0.4762382036679387, -0.4595798606214877, -0.4427582310389016, -0.425779291565073, -0.40864907473634887, -0.3913736668372025, -0.37395920573779995, -0.3564118787132505, -0.3387379202452914, -0.32094360980720976, -0.3030352696327737, -0.2850192624699761, -0.26690198932037495, -0.24868988716485535, -0.23038942667659057, -0.2120071099220549, -0.19354946805085993, -0.175023058975276, -0.15643446504023023, -0.13779029068463858, -0.11909716009486966, -0.1003617148512151, -0.08159061156815717, -0.06279051952931326, -0.04396811831786419, -0.025130095443337937, -0.0062831439655588045, 0.012566039883352469, 0.03141075907812876, 0.05024431817976974, 0.06906002571440568, 0.08785119655074278, 0.10661115427526012, 0.12533323356430418, 0.1440107825522527, 0.16263716519488383, 0.1812057636271373, 0.1997099805144067, 0.21814324139654281, 0.23649899702372468, 0.25477072568338277, 0.2729519355173247, 0.2910361668282719, 0.3090169943749472, 0.32688802965494285, 0.3446429231745171, 0.36227536670454635, 0.37977909552180067, 0.39714789063478073, 0.414375580993284, 0.43145604568095935, 0.4483832160900324, 0.46515107807745826, 0.48175367410171493, 0.498185105339491, 0.5144395337815064, 0.5305111843067345, 0.5463943467342692, 0.5620833778521306, 0.5775727034222673, 0.5928568201610595, 0.6079302976946054, 0.622787780488113, 0.63742398974869, 0.6518337253008788, 0.6660118674342514, 0.6799533787224195, 0.693653305812805, 0.7071067811865479, 0.7203090248879065, 0.73325534622256, 0.745941145424182, 0.758361915288722, 0.7705132427757893, 0.7823908105765885, 0.7939903986478349, 0.805307885711122, 0.8163392507171838, 0.827080574274562, 0.8375280400421418, 0.8476779360850831, 0.8575266561936521, 0.8670707011644901, 0.8763066800438635, 0.8852313113324555, 0.8938414241512639, 0.9021339593682027, 0.9101059706849955, 0.9177546256839813, 0.925077206834458, 0.9320711124582112, 0.9387338576538738, 0.9450630751798048, 0.9510565162951534, 0.9567120515588305, 0.9620276715860859, 0.9670014877624352, 0.9716317329146738, 0.9759167619387474, 0.9798550523842469, 0.9834452049953297, 0.986685944207868, 0.989576118602651, 0.9921147013144778, 0.9943007903969989, 0.9961336091431725, 0.9976125063612252, 0.9987369566060175, 0.9995065603657316, 0.9999210442038161, 0.9999802608561371, 0.9996841892832999, 0.9990329346781247, 0.9980267284282716, 0.9966659280340299, 0.9949510169813002, 0.9928826045698136, 0.9904614256966512, 0.9876883405951377, 0.9845643345292054, 0.9810905174433341, 0.9772681235681934, 0.9730985109821267, 0.9685831611286311, 0.9637236782900096, 0.9585217890173761, 0.9529793415172187, 0.9470983049947441, 0.9408807689542257, 0.934328942456612, 0.927445153334661, 0.9202318473658698, 0.9126915874035028, 0.90482705246602, 0.8966410367852361, 0.8881364488135445, 0.8793163101905568, 0.8701837546695259, 0.8607420270039435, 0.8509944817946915, 0.8409445822981693, 0.8305958991958126, 0.8199521093254518, 0.8090169943749466, 0.7977944395385719, 0.7862884321366195, 0.774503060198734, 0.7624425110114477, 0.7501110696304601, 0.7375131173581742, 0.7246531301870465, 0.7115356772092847, 0.6981654189934728, 0.6845471059286884, 0.6706855765367193, 0.6565857557529565, 0.6422526531765854, 0.627691361290701, 0.6129070536529766, 0.5979049830575185, 0.5826904796685767, 0.5672689491267566, 0.5516458706284298, 0.5358267949789957, 0.5198173426207096, 0.5036232016357604, 0.48725012572533133, 0.47070393216533263, 0.4539904997395479, 0.4371157666509335, 0.4200857284118063, 0.40290643571366214, 0.38558399227739715, 0.368124552684678, 0.35053432019125846, 0.3328195445229855, 0.3149865196553048, 0.2970415815770343, 0.2789911060392298, 0.2608415062898969, 0.2425992307954085, 0.22427076094938167, 0.20586260876988122, 0.18738131458572393, 0.16883344471273432, 0.15022558912075692, 0.13156435909228176, 0.11285638487348035, 0.09410831331851414, 0.07532680552793372, 0.05651853448202493, 0.03769018266993434, 0.018848439715409147, 3.6739403974420594e-16, -0.01884843971540841, -0.037690182669935374, -0.056518534482024194, -0.075326805527933, -0.0941083133185152, -0.11285638487348316, -0.13156435909228104, -0.1502255891207562, -0.16883344471273362, -0.18738131458572496, -0.20586260876988052, -0.22427076094938098, -0.2425992307954078, -0.26084150628989783, -0.27899110603922905, -0.29704158157703525, -0.3149865196553057, -0.33281954452298645, -0.35053432019125774, -0.36812455268467725, -0.3855839922773964, -0.4029064357136631, -0.4200857284118056, -0.4371157666509328, -0.4539904997395472, -0.4707039321653335, -0.4872501257253323, -0.5036232016357614, -0.519817342620709, -0.5358267949789967, -0.5516458706284293, -0.5672689491267561, -0.5826904796685761, -0.5979049830575194, -0.612907053652976, -0.6276913612907006, -0.6422526531765849, -0.6565857557529574, -0.6706855765367201, -0.684547105928688, -0.6981654189934724, -0.7115356772092853, -0.7246531301870459, -0.7375131173581736, -0.7501110696304596, -0.7624425110114483, -0.7745030601987335, -0.786288432136619, -0.7977944395385714, -0.8090169943749482, -0.8199521093254514, -0.8305958991958121, -0.8409445822981689, -0.850994481794692, -0.8607420270039432, -0.8701837546695255, -0.8793163101905563, -0.8881364488135449, -0.8966410367852358, -0.9048270524660197, -0.9126915874035032, -0.9202318473658709, -0.9274451533346608, -0.9343289424566117, -0.9408807689542253, -0.9470983049947443, -0.9529793415172185, -0.9585217890173758, -0.9637236782900098, -0.9685831611286314, -0.9730985109821265, -0.9772681235681936, -0.9810905174433343, -0.9845643345292053, -0.9876883405951375, -0.9904614256966511, -0.9928826045698137, -0.9949510169813002, -0.9966659280340299, -0.9980267284282716, -0.9990329346781247, -0.9996841892833, -0.9999802608561371, -0.9999210442038161, -0.9995065603657316, -0.9987369566060175, -0.9976125063612253, -0.9961336091431725, -0.9943007903969989, -0.9921147013144778, -0.989576118602651, -0.986685944207868, -0.9834452049953295, -0.9798550523842466, -0.9759167619387473, -0.9716317329146742, -0.9670014877624352, -0.9620276715860858, -0.9567120515588308, -0.9510565162951538, -0.9450630751798048, -0.9387338576538738, -0.9320711124582112, -0.9250772068344579, -0.9177546256839808, -0.9101059706849951, -0.9021339593682035, -0.8938414241512642, -0.8852313113324554, -0.8763066800438635, -0.8670707011644905, -0.8575266561936524, -0.8476779360850831, -0.8375280400421412, -0.8270805742745619, -0.8163392507171838, -0.8053078857111214, -0.7939903986478355, -0.782390810576589, -0.7705132427757897, -0.758361915288722, -0.7459411454241819, -0.7332553462225606, -0.720309024887907, -0.7071067811865472, -0.6936533058128042, -0.6799533787224192, -0.6660118674342512, -0.6518337253008792, -0.6374239897486897, -0.6227877804881135, -0.6079302976946059, -0.5928568201610592, -0.5775727034222671, -0.5620833778521311, -0.5463943467342691, -0.5305111843067335, -0.5144395337815054, -0.4981851053394908, -0.48175367410171627, -0.46515107807745887, -0.44838321609003223, -0.43145604568096, -0.41437558099328464, -0.39714789063478056, -0.3797790955218005, -0.3622753667045462, -0.344642923174517, -0.32688802965494185, -0.3090169943749462, -0.2910361668282717, -0.27295193551732627, -0.2547707256833826, -0.23649899702372454, -0.21814324139654356, -0.19970998051440744, -0.18120576362713717, -0.16263716519488283, -0.14401078255225255, -0.12533323356430404, -0.10661115427525909, -0.08785119655074175, -0.06906002571440731, -0.05024431817977047, -0.031410759078128604, -0.012566039883352314, 0.00628314396555807, 0.025130095443337202, 0.04396811831786523, 0.0627905195293143, 0.0815906115681573, 0.10036171485121526, 0.1190971600948707, 0.13779029068463786, 0.15643446504022948, 0.17502305897527526, 0.19354946805086007, 0.21200710992205504, 0.23038942667658985, 0.24868988716485463, 0.266901989320376, 0.28501926246997716, 0.30303526963277383, 0.32094360980720993, 0.3387379202452907, 0.35641187871325064, 0.3739592057377993, 0.3913736668372018, 0.408649074736349, 0.42577929156507316, 0.442758231038901, 0.45957986062148787, 0.4762382036679396, 0.4927273415482927, 0.5090414157503713, 0.5251746299612947, 0.5411212521268755, 0.5568756164881881, 0.57243212559459, 0.5877852522924728, 0.6029295416890248, 0.6178596130903349, 0.6325701619131241, 0.6470559615694444, 0.6613118653236525, 0.6753328081210255, 0.6891138083873474, 0.7026499697988485, 0.7159364830218309, 0.7289686274214117, 0.7417417727387385, 0.7542513807361035, 0.76649300680935, 0.778462301567024, 0.7901550123756902, 0.8015669848708767, 0.8126941644330945, 0.8235325976284272, 0.8340784336131704, 0.8443279255020146, 0.854277431699295, 0.8639234171928355, 0.8732624548099197, 0.8822912264349532, 0.891006524188368, 0.8994052515663714, 0.9074844245411169, 0.9152411726209178, 0.9226727398701152, 0.9297764858882513, 0.9365498867481918, 0.9429905358928642, 0.9490961449902945, 0.9548645447466431, 0.9602936856769428, 0.9653816388332739, 0.9701265964901059, 0.9745268727865773, 0.9785809043254721, 0.9822872507286888, 0.9856445951489979, 0.988651744737914, 0.9913076310695064, 0.9936113105200083, 0.99556196460308, 0.9971589002606139, 0.998401550108975, 0.9992894726405892, 0.9998223523808091, 1.0, 0.999822352380809, 0.9992894726405893, 0.998401550108975, 0.9971589002606139, 0.9955619646030801, 0.9936113105200085, 0.9913076310695066, 0.988651744737914, 0.9856445951489982, 0.9822872507286886, 0.978580904325472, 0.9745268727865768, 0.9701265964901062, 0.9653816388332741, 0.9602936856769432, 0.9548645447466428, 0.9490961449902949, 0.9429905358928646, 0.9365498867481923, 0.9297764858882511, 0.922672739870115, 0.9152411726209174, 0.9074844245411166, 0.8994052515663712, 0.8910065241883686, 0.8822912264349537, 0.8732624548099203, 0.8639234171928352, 0.8542774316992956, 0.8443279255020152, 0.834078433613171, 0.8235325976284269, 0.8126941644330941, 0.8015669848708763, 0.7901550123756909, 0.7784623015670236, 0.7664930068093507, 0.7542513807361043, 0.7417417727387393, 0.7289686274214111, 0.7159364830218317, 0.7026499697988493, 0.6891138083873481, 0.6753328081210237, 0.6613118653236519, 0.6470559615694453, 0.632570161913125, 0.6178596130903344, 0.6029295416890257, 0.5877852522924737, 0.5724321255945909, 0.5568756164881875, 0.5411212521268763, 0.5251746299612957, 0.5090414157503708, 0.4927273415482905, 0.4762382036679406, 0.4595798606214888, 0.442758231038902, 0.42577929156507255, 0.40864907473635004, 0.3913736668372028, 0.3739592057378003, 0.35641187871325, 0.33873792024529176, 0.3209436098072093, 0.3030352696327732, 0.2850192624699748, 0.26690198932037706, 0.2486898871648557, 0.23038942667659093, 0.2120071099220544, 0.19354946805086118, 0.17502305897527637, 0.1564344650402306, 0.1377902906846372, 0.11909716009487002, 0.10036171485121458, 0.08159061156815664, 0.06279051952931362, 0.04396811831786633, 0.0251300954433383, 0.006283143965559172, -0.012566039883352989, -0.03141075907812751, -0.05024431817976937, -0.06906002571440621, -0.08785119655074419, -0.10661115427525976, -0.1253332335643047, -0.14401078255225144, -0.1626371651948835, -0.18120576362713608, -0.19970998051440633, -0.21814324139654248, -0.23649899702372518, -0.25477072568338155, -0.27295193551732516, -0.29103616682827066, -0.3090169943749485, -0.32688802965494246, -0.34464292317451595, -0.36227536670454347, -0.3797790955218011, -0.39714789063477957, -0.41437558099328525, -0.431456045680959, -0.44838321609003123, -0.4651510780774595, -0.4817536741017153, -0.49818510533948984, -0.5144395337815075, -0.530511184306734, -0.5463943467342681, -0.5620833778521287, -0.5775727034222676, -0.5928568201610583, -0.6079302976946064, -0.6227877804881126, -0.6374239897486889, -0.6518337253008771, -0.6660118674342518, -0.6799533787224185, -0.6936533058128059, -0.7071067811865477, -0.7203090248879087, -0.7332553462225586, -0.7459411454241823, -0.7583619152887213, -0.7705132427757879, -0.7823908105765883, -0.7939903986478348, -0.8053078857111229, -0.8163392507171842, -0.8270805742745614, -0.8375280400421407, -0.8476779360850835, -0.8575266561936519, -0.8670707011644908, -0.8763066800438638, -0.8852313113324548, -0.8938414241512646, -0.9021339593682015, -0.9101059706849954, -0.9177546256839804, -0.9250772068344583, -0.9320711124582107, -0.9387338576538746, -0.945063075179805, -0.9510565162951544, -0.95671205155883, -0.962027671586085, -0.9670014877624349, -0.9716317329146735, -0.9759167619387475, -0.9798550523842467, -0.9834452049953301, -0.9866859442078681, -0.9895761186026509, -0.9921147013144777, -0.9943007903969989, -0.9961336091431724, -0.9976125063612251, -0.9987369566060176, -0.9995065603657315, -0.9999210442038161, -0.9999802608561371, -0.9996841892832999, -0.9990329346781248, -0.9980267284282716, -0.9966659280340299, -0.9949510169813, -0.9928826045698136, -0.9904614256966513, -0.987688340595138, -0.9845643345292059, -0.9810905174433342, -0.9772681235681938, -0.9730985109821264, -0.9685831611286312, -0.9637236782900092, -0.9585217890173756, -0.9529793415172189, -0.9470983049947448, -0.9408807689542263, -0.9343289424566121, -0.9274451533346618, -0.9202318473658699, -0.9126915874035029, -0.9048270524660186, -0.896641036785237, -0.8881364488135446, -0.8793163101905569, -0.8701837546695252, -0.8607420270039438, -0.8509944817946906, -0.8409445822981685, -0.8305958991958127, -0.819952109325453, -0.8090169943749489, -0.797794439538571, -0.7862884321366197, -0.774503060198733, -0.7624425110114479, -0.750111069630458, -0.737513117358173, -0.7246531301870467, -0.7115356772092862, -0.6981654189934744, -0.6845471059286887, -0.670685576536721, -0.6565857557529555, -0.6422526531765844, -0.6276913612906987, -0.6129070536529784, -0.5979049830575188, -0.582690479668577, -0.5672689491267555, -0.5516458706284302, -0.5358267949789975, -0.5198173426207084, -0.5036232016357608, -0.48725012572533327, -0.4707039321653345, -0.45399049973954664, -0.43711576665093377, -0.42008572841180497, -0.40290643571366247, -0.38558399227739415, -0.36812455268467664, -0.3505343201912621, -0.3328195445229875, -0.3149865196553068, -0.29704158157703464, -0.2789911060392301, -0.2608415062898955, -0.24259923079540713, -0.22427076094937856, -0.2058626087698833, -0.1873813145857243, -0.16883344471273468, -0.15022558912075903, -0.13156435909228212, -0.11285638487348248, -0.09410831331851274, -0.07532680552793232, -0.0565185344820253, -0.03769018266993648, -0.018848439715407738, -7.347880794884119e-16]}],\n",
       "                        {\"legend\": {\"bgcolor\": \"#FFFFFF\", \"font\": {\"color\": \"#4D5663\"}}, \"paper_bgcolor\": \"#FFFFFF\", \"plot_bgcolor\": \"#FFFFFF\", \"template\": {\"data\": {\"bar\": [{\"error_x\": {\"color\": \"#2a3f5f\"}, \"error_y\": {\"color\": \"#2a3f5f\"}, \"marker\": {\"line\": {\"color\": \"#E5ECF6\", \"width\": 0.5}}, \"type\": \"bar\"}], \"barpolar\": [{\"marker\": {\"line\": {\"color\": \"#E5ECF6\", \"width\": 0.5}}, \"type\": \"barpolar\"}], \"carpet\": [{\"aaxis\": {\"endlinecolor\": \"#2a3f5f\", \"gridcolor\": \"white\", \"linecolor\": \"white\", \"minorgridcolor\": \"white\", \"startlinecolor\": \"#2a3f5f\"}, \"baxis\": {\"endlinecolor\": \"#2a3f5f\", \"gridcolor\": \"white\", \"linecolor\": \"white\", \"minorgridcolor\": \"white\", \"startlinecolor\": \"#2a3f5f\"}, \"type\": \"carpet\"}], \"choropleth\": [{\"colorbar\": {\"outlinewidth\": 0, \"ticks\": \"\"}, \"type\": \"choropleth\"}], \"contour\": [{\"colorbar\": {\"outlinewidth\": 0, \"ticks\": \"\"}, \"colorscale\": [[0.0, \"#0d0887\"], [0.1111111111111111, \"#46039f\"], [0.2222222222222222, \"#7201a8\"], [0.3333333333333333, \"#9c179e\"], [0.4444444444444444, \"#bd3786\"], [0.5555555555555556, \"#d8576b\"], [0.6666666666666666, \"#ed7953\"], [0.7777777777777778, \"#fb9f3a\"], [0.8888888888888888, \"#fdca26\"], [1.0, \"#f0f921\"]], \"type\": \"contour\"}], \"contourcarpet\": [{\"colorbar\": {\"outlinewidth\": 0, \"ticks\": \"\"}, \"type\": \"contourcarpet\"}], \"heatmap\": [{\"colorbar\": {\"outlinewidth\": 0, \"ticks\": \"\"}, \"colorscale\": [[0.0, \"#0d0887\"], [0.1111111111111111, \"#46039f\"], [0.2222222222222222, \"#7201a8\"], [0.3333333333333333, \"#9c179e\"], [0.4444444444444444, \"#bd3786\"], [0.5555555555555556, \"#d8576b\"], [0.6666666666666666, \"#ed7953\"], [0.7777777777777778, \"#fb9f3a\"], [0.8888888888888888, \"#fdca26\"], [1.0, \"#f0f921\"]], \"type\": \"heatmap\"}], \"heatmapgl\": [{\"colorbar\": {\"outlinewidth\": 0, \"ticks\": \"\"}, \"colorscale\": [[0.0, \"#0d0887\"], [0.1111111111111111, \"#46039f\"], [0.2222222222222222, \"#7201a8\"], [0.3333333333333333, \"#9c179e\"], [0.4444444444444444, \"#bd3786\"], [0.5555555555555556, \"#d8576b\"], [0.6666666666666666, \"#ed7953\"], [0.7777777777777778, \"#fb9f3a\"], [0.8888888888888888, \"#fdca26\"], [1.0, \"#f0f921\"]], \"type\": \"heatmapgl\"}], \"histogram\": [{\"marker\": {\"colorbar\": {\"outlinewidth\": 0, \"ticks\": \"\"}}, \"type\": \"histogram\"}], \"histogram2d\": [{\"colorbar\": {\"outlinewidth\": 0, \"ticks\": \"\"}, \"colorscale\": [[0.0, \"#0d0887\"], [0.1111111111111111, \"#46039f\"], [0.2222222222222222, \"#7201a8\"], [0.3333333333333333, \"#9c179e\"], [0.4444444444444444, \"#bd3786\"], [0.5555555555555556, \"#d8576b\"], [0.6666666666666666, \"#ed7953\"], [0.7777777777777778, \"#fb9f3a\"], [0.8888888888888888, \"#fdca26\"], [1.0, \"#f0f921\"]], \"type\": \"histogram2d\"}], \"histogram2dcontour\": [{\"colorbar\": {\"outlinewidth\": 0, \"ticks\": \"\"}, \"colorscale\": [[0.0, \"#0d0887\"], [0.1111111111111111, \"#46039f\"], [0.2222222222222222, \"#7201a8\"], [0.3333333333333333, \"#9c179e\"], [0.4444444444444444, \"#bd3786\"], [0.5555555555555556, \"#d8576b\"], [0.6666666666666666, \"#ed7953\"], [0.7777777777777778, \"#fb9f3a\"], [0.8888888888888888, \"#fdca26\"], [1.0, \"#f0f921\"]], \"type\": \"histogram2dcontour\"}], \"mesh3d\": [{\"colorbar\": {\"outlinewidth\": 0, \"ticks\": \"\"}, \"type\": \"mesh3d\"}], \"parcoords\": [{\"line\": {\"colorbar\": {\"outlinewidth\": 0, \"ticks\": \"\"}}, \"type\": \"parcoords\"}], \"scatter\": [{\"marker\": {\"colorbar\": {\"outlinewidth\": 0, \"ticks\": \"\"}}, \"type\": \"scatter\"}], \"scatter3d\": [{\"line\": {\"colorbar\": {\"outlinewidth\": 0, \"ticks\": \"\"}}, \"marker\": {\"colorbar\": {\"outlinewidth\": 0, \"ticks\": \"\"}}, \"type\": \"scatter3d\"}], \"scattercarpet\": [{\"marker\": {\"colorbar\": {\"outlinewidth\": 0, \"ticks\": \"\"}}, \"type\": \"scattercarpet\"}], \"scattergeo\": [{\"marker\": {\"colorbar\": {\"outlinewidth\": 0, \"ticks\": \"\"}}, \"type\": \"scattergeo\"}], \"scattergl\": [{\"marker\": {\"colorbar\": {\"outlinewidth\": 0, \"ticks\": \"\"}}, \"type\": \"scattergl\"}], \"scattermapbox\": [{\"marker\": {\"colorbar\": {\"outlinewidth\": 0, \"ticks\": \"\"}}, \"type\": \"scattermapbox\"}], \"scatterpolar\": [{\"marker\": {\"colorbar\": {\"outlinewidth\": 0, \"ticks\": \"\"}}, \"type\": \"scatterpolar\"}], \"scatterpolargl\": [{\"marker\": {\"colorbar\": {\"outlinewidth\": 0, \"ticks\": \"\"}}, \"type\": \"scatterpolargl\"}], \"scatterternary\": [{\"marker\": {\"colorbar\": {\"outlinewidth\": 0, \"ticks\": \"\"}}, \"type\": \"scatterternary\"}], \"surface\": [{\"colorbar\": {\"outlinewidth\": 0, \"ticks\": \"\"}, \"colorscale\": [[0.0, \"#0d0887\"], [0.1111111111111111, \"#46039f\"], [0.2222222222222222, \"#7201a8\"], [0.3333333333333333, \"#9c179e\"], [0.4444444444444444, \"#bd3786\"], [0.5555555555555556, \"#d8576b\"], [0.6666666666666666, \"#ed7953\"], [0.7777777777777778, \"#fb9f3a\"], [0.8888888888888888, \"#fdca26\"], [1.0, \"#f0f921\"]], \"type\": \"surface\"}], \"table\": [{\"cells\": {\"fill\": {\"color\": \"#EBF0F8\"}, \"line\": {\"color\": \"white\"}}, \"header\": {\"fill\": {\"color\": \"#C8D4E3\"}, \"line\": {\"color\": \"white\"}}, \"type\": \"table\"}]}, \"layout\": {\"annotationdefaults\": {\"arrowcolor\": \"#2a3f5f\", \"arrowhead\": 0, \"arrowwidth\": 1}, \"colorscale\": {\"diverging\": [[0, \"#8e0152\"], [0.1, \"#c51b7d\"], [0.2, \"#de77ae\"], [0.3, \"#f1b6da\"], [0.4, \"#fde0ef\"], [0.5, \"#f7f7f7\"], [0.6, \"#e6f5d0\"], [0.7, \"#b8e186\"], [0.8, \"#7fbc41\"], [0.9, \"#4d9221\"], [1, \"#276419\"]], \"sequential\": [[0.0, \"#0d0887\"], [0.1111111111111111, \"#46039f\"], [0.2222222222222222, \"#7201a8\"], [0.3333333333333333, \"#9c179e\"], [0.4444444444444444, \"#bd3786\"], [0.5555555555555556, \"#d8576b\"], [0.6666666666666666, \"#ed7953\"], [0.7777777777777778, \"#fb9f3a\"], [0.8888888888888888, \"#fdca26\"], [1.0, \"#f0f921\"]], \"sequentialminus\": [[0.0, \"#0d0887\"], [0.1111111111111111, \"#46039f\"], [0.2222222222222222, \"#7201a8\"], [0.3333333333333333, \"#9c179e\"], [0.4444444444444444, \"#bd3786\"], [0.5555555555555556, \"#d8576b\"], [0.6666666666666666, \"#ed7953\"], [0.7777777777777778, \"#fb9f3a\"], [0.8888888888888888, \"#fdca26\"], [1.0, \"#f0f921\"]]}, \"colorway\": [\"#636efa\", \"#EF553B\", \"#00cc96\", \"#ab63fa\", \"#FFA15A\", \"#19d3f3\", \"#FF6692\", \"#B6E880\", \"#FF97FF\", \"#FECB52\"], \"font\": {\"color\": \"#2a3f5f\"}, \"geo\": {\"bgcolor\": \"white\", \"lakecolor\": \"white\", \"landcolor\": \"#E5ECF6\", \"showlakes\": true, \"showland\": true, \"subunitcolor\": \"white\"}, \"hoverlabel\": {\"align\": \"left\"}, \"hovermode\": \"closest\", \"mapbox\": {\"style\": \"light\"}, \"paper_bgcolor\": \"white\", \"plot_bgcolor\": \"#E5ECF6\", \"polar\": {\"angularaxis\": {\"gridcolor\": \"white\", \"linecolor\": \"white\", \"ticks\": \"\"}, \"bgcolor\": \"#E5ECF6\", \"radialaxis\": {\"gridcolor\": \"white\", \"linecolor\": \"white\", \"ticks\": \"\"}}, \"scene\": {\"xaxis\": {\"backgroundcolor\": \"#E5ECF6\", \"gridcolor\": \"white\", \"gridwidth\": 2, \"linecolor\": \"white\", \"showbackground\": true, \"ticks\": \"\", \"zerolinecolor\": \"white\"}, \"yaxis\": {\"backgroundcolor\": \"#E5ECF6\", \"gridcolor\": \"white\", \"gridwidth\": 2, \"linecolor\": \"white\", \"showbackground\": true, \"ticks\": \"\", \"zerolinecolor\": \"white\"}, \"zaxis\": {\"backgroundcolor\": \"#E5ECF6\", \"gridcolor\": \"white\", \"gridwidth\": 2, \"linecolor\": \"white\", \"showbackground\": true, \"ticks\": \"\", \"zerolinecolor\": \"white\"}}, \"shapedefaults\": {\"line\": {\"color\": \"#2a3f5f\"}}, \"ternary\": {\"aaxis\": {\"gridcolor\": \"white\", \"linecolor\": \"white\", \"ticks\": \"\"}, \"baxis\": {\"gridcolor\": \"white\", \"linecolor\": \"white\", \"ticks\": \"\"}, \"bgcolor\": \"#E5ECF6\", \"caxis\": {\"gridcolor\": \"white\", \"linecolor\": \"white\", \"ticks\": \"\"}}, \"title\": {\"x\": 0.05}, \"xaxis\": {\"automargin\": true, \"gridcolor\": \"white\", \"linecolor\": \"white\", \"ticks\": \"\", \"zerolinecolor\": \"white\", \"zerolinewidth\": 2}, \"yaxis\": {\"automargin\": true, \"gridcolor\": \"white\", \"linecolor\": \"white\", \"ticks\": \"\", \"zerolinecolor\": \"white\", \"zerolinewidth\": 2}}}, \"title\": {\"font\": {\"color\": \"#4D5663\"}, \"text\": \"Input\"}, \"xaxis\": {\"gridcolor\": \"#E1E5ED\", \"showgrid\": true, \"tickfont\": {\"color\": \"#4D5663\"}, \"title\": {\"font\": {\"color\": \"#4D5663\"}, \"text\": \"T\"}, \"zerolinecolor\": \"#E1E5ED\"}, \"yaxis\": {\"gridcolor\": \"#E1E5ED\", \"showgrid\": true, \"tickfont\": {\"color\": \"#4D5663\"}, \"title\": {\"font\": {\"color\": \"#4D5663\"}, \"text\": \"S\"}, \"zerolinecolor\": \"#E1E5ED\"}},\n",
       "                        {\"showLink\": true, \"linkText\": \"Export to plot.ly\", \"plotlyServerURL\": \"https://plot.ly\", \"responsive\": true}\n",
       "                    ).then(function(){\n",
       "                            \n",
       "var gd = document.getElementById('675d8d4e-3940-4505-946c-191f9b4d3720');\n",
       "var x = new MutationObserver(function (mutations, observer) {{\n",
       "        var display = window.getComputedStyle(gd).display;\n",
       "        if (!display || display === 'none') {{\n",
       "            console.log([gd, 'removed!']);\n",
       "            Plotly.purge(gd);\n",
       "            observer.disconnect();\n",
       "        }}\n",
       "}});\n",
       "\n",
       "// Listen for the removal of the full notebook cells\n",
       "var notebookContainer = gd.closest('#notebook-container');\n",
       "if (notebookContainer) {{\n",
       "    x.observe(notebookContainer, {childList: true});\n",
       "}}\n",
       "\n",
       "// Listen for the clearing of the current output cell\n",
       "var outputEl = gd.closest('.output');\n",
       "if (outputEl) {{\n",
       "    x.observe(outputEl, {childList: true});\n",
       "}}\n",
       "\n",
       "                        })\n",
       "                };\n",
       "                });\n",
       "            </script>\n",
       "        </div>"
      ]
     },
     "metadata": {},
     "output_type": "display_data"
    },
    {
     "data": {
      "application/vnd.plotly.v1+json": {
       "config": {
        "linkText": "Export to plot.ly",
        "plotlyServerURL": "https://plot.ly",
        "showLink": true
       },
       "data": [
        {
         "line": {
          "color": "rgba(255, 153, 51, 1.0)",
          "dash": "solid",
          "shape": "linear",
          "width": 1.3
         },
         "mode": "lines",
         "name": "0",
         "text": "",
         "type": "scatter",
         "x": [
          0,
          3,
          6,
          9,
          12,
          15,
          18,
          21,
          24,
          27,
          30,
          33,
          36,
          39,
          42,
          45,
          48,
          51,
          54,
          57,
          60,
          63,
          66,
          69,
          72,
          75,
          78,
          81,
          84,
          87,
          90,
          93,
          96,
          99,
          102,
          105,
          108,
          111,
          114,
          117,
          120,
          123,
          126,
          129,
          132,
          135,
          138,
          141,
          144,
          147,
          150,
          153,
          156,
          159,
          162,
          165,
          168,
          171,
          174,
          177,
          180,
          183,
          186,
          189,
          192,
          195,
          198,
          201,
          204,
          207,
          210,
          213,
          216,
          219,
          222,
          225,
          228,
          231,
          234,
          237,
          240,
          243,
          246,
          249,
          252,
          255,
          258,
          261,
          264,
          267,
          270,
          273,
          276,
          279,
          282,
          285,
          288,
          291,
          294,
          297,
          300,
          303,
          306,
          309,
          312,
          315,
          318,
          321,
          324,
          327,
          330,
          333,
          336,
          339,
          342,
          345,
          348,
          351,
          354,
          357,
          360,
          363,
          366,
          369,
          372,
          375,
          378,
          381,
          384,
          387,
          390,
          393,
          396,
          399,
          402,
          405,
          408,
          411,
          414,
          417,
          420,
          423,
          426,
          429,
          432,
          435,
          438,
          441,
          444,
          447,
          450,
          453,
          456,
          459,
          462,
          465,
          468,
          471,
          474,
          477,
          480,
          483,
          486,
          489,
          492,
          495,
          498,
          501,
          504,
          507,
          510,
          513,
          516,
          519,
          522,
          525,
          528,
          531,
          534,
          537,
          540,
          543,
          546,
          549,
          552,
          555,
          558,
          561,
          564,
          567,
          570,
          573,
          576,
          579,
          582,
          585,
          588,
          591,
          594,
          597,
          600,
          603,
          606,
          609,
          612,
          615,
          618,
          621,
          624,
          627,
          630,
          633,
          636,
          639,
          642,
          645,
          648,
          651,
          654,
          657,
          660,
          663,
          666,
          669,
          672,
          675,
          678,
          681,
          684,
          687,
          690,
          693,
          696,
          699,
          702,
          705,
          708,
          711,
          714,
          717,
          720,
          723,
          726,
          729,
          732,
          735,
          738,
          741,
          744,
          747,
          750,
          753,
          756,
          759,
          762,
          765,
          768,
          771,
          774,
          777,
          780,
          783,
          786,
          789,
          792,
          795,
          798,
          801,
          804,
          807,
          810,
          813,
          816,
          819,
          822,
          825,
          828,
          831,
          834,
          837,
          840,
          843,
          846,
          849,
          852,
          855,
          858,
          861,
          864,
          867,
          870,
          873,
          876,
          879,
          882,
          885,
          888,
          891,
          894,
          897,
          900,
          903,
          906,
          909,
          912,
          915,
          918,
          921,
          924,
          927,
          930,
          933,
          936,
          939,
          942,
          945,
          948,
          951,
          954,
          957,
          960,
          963,
          966,
          969,
          972,
          975,
          978,
          981,
          984,
          987,
          990,
          993,
          996,
          999,
          1002,
          1005,
          1008,
          1011,
          1014,
          1017,
          1020,
          1023,
          1026,
          1029,
          1032,
          1035,
          1038,
          1041,
          1044,
          1047,
          1050,
          1053,
          1056,
          1059,
          1062,
          1065,
          1068,
          1071,
          1074,
          1077,
          1080,
          1083,
          1086,
          1089,
          1092,
          1095,
          1098,
          1101,
          1104,
          1107,
          1110,
          1113,
          1116,
          1119,
          1122,
          1125,
          1128,
          1131,
          1134,
          1137,
          1140,
          1143,
          1146,
          1149,
          1152,
          1155,
          1158,
          1161,
          1164,
          1167,
          1170,
          1173,
          1176,
          1179,
          1182,
          1185,
          1188,
          1191,
          1194,
          1197,
          1200,
          1203,
          1206,
          1209,
          1212,
          1215,
          1218,
          1221,
          1224,
          1227,
          1230,
          1233,
          1236,
          1239,
          1242,
          1245,
          1248,
          1251,
          1254,
          1257,
          1260,
          1263,
          1266,
          1269,
          1272,
          1275,
          1278,
          1281,
          1284,
          1287,
          1290,
          1293,
          1296,
          1299,
          1302,
          1305,
          1308,
          1311,
          1314,
          1317,
          1320,
          1323,
          1326,
          1329,
          1332,
          1335,
          1338,
          1341,
          1344,
          1347,
          1350,
          1353,
          1356,
          1359,
          1362,
          1365,
          1368,
          1371,
          1374,
          1377,
          1380,
          1383,
          1386,
          1389,
          1392,
          1395,
          1398,
          1401,
          1404,
          1407,
          1410,
          1413,
          1416,
          1419,
          1422,
          1425,
          1428,
          1431,
          1434,
          1437,
          1440,
          1443,
          1446,
          1449,
          1452,
          1455,
          1458,
          1461,
          1464,
          1467,
          1470,
          1473,
          1476,
          1479,
          1482,
          1485,
          1488,
          1491,
          1494,
          1497,
          1500,
          1503,
          1506,
          1509,
          1512,
          1515,
          1518,
          1521,
          1524,
          1527,
          1530,
          1533,
          1536,
          1539,
          1542,
          1545,
          1548,
          1551,
          1554,
          1557,
          1560,
          1563,
          1566,
          1569,
          1572,
          1575,
          1578,
          1581,
          1584,
          1587,
          1590,
          1593,
          1596,
          1599,
          1602,
          1605,
          1608,
          1611,
          1614,
          1617,
          1620,
          1623,
          1626,
          1629,
          1632,
          1635,
          1638,
          1641,
          1644,
          1647,
          1650,
          1653,
          1656,
          1659,
          1662,
          1665,
          1668,
          1671,
          1674,
          1677,
          1680,
          1683,
          1686,
          1689,
          1692,
          1695,
          1698,
          1701,
          1704,
          1707,
          1710,
          1713,
          1716,
          1719,
          1722,
          1725,
          1728,
          1731,
          1734,
          1737,
          1740,
          1743,
          1746,
          1749,
          1752,
          1755,
          1758,
          1761,
          1764,
          1767,
          1770,
          1773,
          1776,
          1779,
          1782,
          1785,
          1788,
          1791,
          1794,
          1797,
          1800,
          1803,
          1806,
          1809,
          1812,
          1815,
          1818,
          1821,
          1824,
          1827,
          1830,
          1833,
          1836,
          1839,
          1842,
          1845,
          1848,
          1851,
          1854,
          1857,
          1860,
          1863,
          1866,
          1869,
          1872,
          1875,
          1878,
          1881,
          1884,
          1887,
          1890,
          1893,
          1896,
          1899,
          1902,
          1905,
          1908,
          1911,
          1914,
          1917,
          1920,
          1923,
          1926,
          1929,
          1932,
          1935,
          1938,
          1941,
          1944,
          1947,
          1950,
          1953,
          1956,
          1959,
          1962,
          1965,
          1968,
          1971,
          1974,
          1977,
          1980,
          1983,
          1986,
          1989,
          1992,
          1995,
          1998,
          2001,
          2004,
          2007,
          2010,
          2013,
          2016,
          2019,
          2022,
          2025,
          2028,
          2031,
          2034,
          2037,
          2040,
          2043,
          2046,
          2049,
          2052,
          2055,
          2058,
          2061,
          2064,
          2067,
          2070,
          2073,
          2076,
          2079,
          2082,
          2085,
          2088,
          2091,
          2094,
          2097,
          2100,
          2103,
          2106,
          2109,
          2112,
          2115,
          2118,
          2121,
          2124,
          2127,
          2130,
          2133,
          2136,
          2139,
          2142,
          2145,
          2148,
          2151,
          2154,
          2157,
          2160,
          2163,
          2166,
          2169,
          2172,
          2175,
          2178,
          2181,
          2184,
          2187,
          2190,
          2193,
          2196,
          2199,
          2202,
          2205,
          2208,
          2211,
          2214,
          2217,
          2220,
          2223,
          2226,
          2229,
          2232,
          2235,
          2238,
          2241,
          2244,
          2247,
          2250,
          2253,
          2256,
          2259,
          2262,
          2265,
          2268,
          2271,
          2274,
          2277,
          2280,
          2283,
          2286,
          2289,
          2292,
          2295,
          2298,
          2301,
          2304,
          2307,
          2310,
          2313,
          2316,
          2319,
          2322,
          2325,
          2328,
          2331,
          2334,
          2337,
          2340,
          2343,
          2346,
          2349,
          2352,
          2355,
          2358,
          2361,
          2364,
          2367,
          2370,
          2373,
          2376,
          2379,
          2382,
          2385,
          2388,
          2391,
          2394,
          2397,
          2400,
          2403,
          2406,
          2409,
          2412,
          2415,
          2418,
          2421,
          2424,
          2427,
          2430,
          2433,
          2436,
          2439,
          2442,
          2445,
          2448,
          2451,
          2454,
          2457,
          2460,
          2463,
          2466,
          2469,
          2472,
          2475,
          2478,
          2481,
          2484,
          2487,
          2490,
          2493,
          2496,
          2499,
          2502,
          2505,
          2508,
          2511,
          2514,
          2517,
          2520,
          2523,
          2526,
          2529,
          2532,
          2535,
          2538,
          2541,
          2544,
          2547,
          2550,
          2553,
          2556,
          2559,
          2562,
          2565,
          2568,
          2571,
          2574,
          2577,
          2580,
          2583,
          2586,
          2589,
          2592,
          2595,
          2598,
          2601,
          2604,
          2607,
          2610,
          2613,
          2616,
          2619,
          2622,
          2625,
          2628,
          2631,
          2634,
          2637,
          2640,
          2643,
          2646,
          2649,
          2652,
          2655,
          2658,
          2661,
          2664,
          2667,
          2670,
          2673,
          2676,
          2679,
          2682,
          2685,
          2688,
          2691,
          2694,
          2697,
          2700,
          2703,
          2706,
          2709,
          2712,
          2715,
          2718,
          2721,
          2724,
          2727,
          2730,
          2733,
          2736,
          2739,
          2742,
          2745,
          2748,
          2751,
          2754,
          2757,
          2760,
          2763,
          2766,
          2769,
          2772,
          2775,
          2778,
          2781,
          2784,
          2787,
          2790,
          2793,
          2796,
          2799,
          2802,
          2805,
          2808,
          2811,
          2814,
          2817,
          2820,
          2823,
          2826,
          2829,
          2832,
          2835,
          2838,
          2841,
          2844,
          2847,
          2850,
          2853,
          2856,
          2859,
          2862,
          2865,
          2868,
          2871,
          2874,
          2877,
          2880,
          2883,
          2886,
          2889,
          2892,
          2895,
          2898,
          2901,
          2904,
          2907,
          2910,
          2913,
          2916,
          2919,
          2922,
          2925,
          2928,
          2931,
          2934,
          2937,
          2940,
          2943,
          2946,
          2949,
          2952,
          2955,
          2958,
          2961,
          2964,
          2967,
          2970,
          2973,
          2976,
          2979,
          2982,
          2985,
          2988,
          2991,
          2994,
          2997,
          3000
         ],
         "y": [
          0,
          1.8848439432681582e-10,
          3.769018153912863e-10,
          5.651853193808792e-10,
          7.532680100631612e-10,
          9.41083062553711e-10,
          1.1285637470586825e-09,
          1.3156434525835827e-09,
          1.5022557105998408e-09,
          1.68833421866076e-09,
          1.8738128639584613e-09,
          2.058625746813449e-09,
          2.242707204088453e-09,
          2.42599183251823e-09,
          2.6084145119470303e-09,
          2.78991042846548e-09,
          2.9704150974386533e-09,
          3.1498643864171594e-09,
          3.328194537923094e-09,
          3.505342192102766e-09,
          3.6812444092381567e-09,
          3.855838692109097e-09,
          4.029063008198232e-09,
          4.200855811730886e-09,
          4.3711560655419735e-09,
          4.539903262762223e-09,
          4.70703744831597e-09,
          4.872499240222916e-09,
          5.036229850696266e-09,
          5.198171107029738e-09,
          5.358265472266061e-09,
          5.5164560656395735e-09,
          5.672686682785696e-09,
          5.826901815710064e-09,
          5.979046672510264e-09,
          6.129067196843133e-09,
          6.276910087130713e-09,
          6.422522815498059e-09,
          6.565853646436132e-09,
          6.706851655183189e-09,
          6.845466745818098e-09,
          6.9816496690591935e-09,
          7.115352039762293e-09,
          7.24652635411173e-09,
          7.375126006498218e-09,
          7.501105306077605e-09,
          7.624419493004617e-09,
          7.74502475433581e-09,
          7.862878239596117e-09,
          7.977938076003393e-09,
          8.090163383345636e-09,
          8.19951428850552e-09,
          8.305951939627129e-09,
          8.409438519919838e-09,
          8.509937261094428e-09,
          8.607412456426701e-09,
          8.701829473443892e-09,
          8.793154766229434e-09,
          8.881355887341656e-09,
          8.96640149934221e-09,
          9.048261385930103e-09,
          9.126906462677418e-09,
          9.202308787362863e-09,
          9.27444156989952e-09,
          9.343279181853215e-09,
          9.408797165548204e-09,
          9.470972242756852e-09,
          9.529782322970278e-09,
          9.585206511247017e-09,
          9.63722511563688e-09,
          9.685819654177422e-09,
          9.73097286146049e-09,
          9.772668694766535e-09,
          9.810892339764526e-09,
          9.8456302157754e-09,
          9.876869980597221e-09,
          9.904600534890298e-09,
          9.928812026120735e-09,
          9.94949585206098e-09,
          9.96664466384617e-09,
          9.980252368585131e-09,
          9.990314131525165e-09,
          9.99682637776981e-09,
          9.999786793548984e-09,
          9.999194327041057e-09,
          9.99504918874656e-09,
          9.987352851413388e-09,
          9.976108049513552e-09,
          9.961318778271623e-09,
          9.94299029224525e-09,
          9.921129103458248e-09,
          9.895742979086898e-09,
          9.86684093870031e-09,
          9.834433251055814e-09,
          9.798531430450515e-09,
          9.759148232630327e-09,
          9.716297650257904e-09,
          9.669994907941126e-09,
          9.620256456823864e-09,
          9.567099968740965e-09,
          9.510544329939531e-09,
          9.450609634368733e-09,
          9.387317176540524e-09,
          9.320689443963792e-09,
          9.25075010915467e-09,
          9.17752402122579e-09,
          9.101037197057515e-09,
          9.021316812054277e-09,
          8.938391190489267e-09,
          8.852289795440966e-09,
          8.763043218325058e-09,
          8.670683168025425e-09,
          8.575242459628162e-09,
          8.47675500276251e-09,
          8.375255789552933e-09,
          8.270780882186583e-09,
          8.163367400100582e-09,
          8.053053506793648e-09,
          7.939878396266801e-09,
          7.823882279097922e-09,
          7.705106368155103e-09,
          7.583592863953938e-09,
          7.459384939663876e-09,
          7.332526725768978e-09,
          7.2030632943886e-09,
          7.071040643263445e-09,
          6.936505679412824e-09,
          6.79950620246879e-09,
          6.660090887693157e-09,
          6.5183092686834244e-09,
          6.374211719773721e-09,
          6.227849438137032e-09,
          6.079274425595101e-09,
          5.928539470142433e-09,
          5.775698127190951e-09,
          5.620804700542042e-09,
          5.46391422309264e-09,
          5.30508243728234e-09,
          5.144365775288342e-09,
          4.981821338975378e-09,
          4.817506879607698e-09,
          4.651480777330316e-09,
          4.483802020426812e-09,
          4.314530184361095e-09,
          4.143725410610515e-09,
          3.9714483852978716e-09,
          3.7977603176299444e-09,
          3.6227229181501444e-09,
          3.446398376813037e-09,
          3.2688493408885784e-09,
          3.090138892703803e-09,
          2.9103305272300036e-09,
          2.7294881295232607e-09,
          2.547675952026367e-09,
          2.364958591740273e-09,
          2.1814009672730613e-09,
          1.997068295774665e-09,
          1.8120260697655514e-09,
          1.626340033867525e-09,
          1.4400761614449666e-09,
          1.2533006311648383e-09,
          1.0660798034836867e-09,
          8.784801970701179e-10,
          6.90568465171017e-10,
          5.024113719299555e-10,
          3.1407576866623427e-10,
          1.2562857012291508e-10,
          -6.28632693076816e-11,
          -2.5133277937252775e-10,
          -4.3971299775211244e-10,
          -6.279369938518488e-10,
          -8.159378925821689e-10,
          -1.0036488981189377e-09,
          -1.1910033176357044e-09,
          -1.3779345849993164e-09,
          -1.564376284420583e-09,
          -1.7502621740514594e-09,
          -1.935526209520473e-09,
          -2.120102567397987e-09,
          -2.303925668582924e-09,
          -2.486930201602725e-09,
          -2.6690511458182144e-09,
          -2.8502237945250976e-09,
          -3.0303837779439598e-09,
          -3.2094670860905535e-09,
          -3.387410091518216e-09,
          -3.564149571924412e-09,
          -3.7396227326133265e-09,
          -3.9137672288064934e-09,
          -4.086521187793635e-09,
          -4.2578232309157065e-09,
          -4.427612495372456e-09,
          -4.595828655846705e-09,
          -4.762411945937609e-09,
          -4.927303179395404e-09,
          -5.0904437711499995e-09,
          -5.251775758125952e-09,
          -5.4112418198364865e-09,
          -5.5687852987492015e-09,
          -5.724350220416197e-09,
          -5.877881313361548e-09,
          -6.0293240287189834e-09,
          -6.178624559612848e-09,
          -6.325729860275435e-09,
          -6.470587664893872e-09,
          -6.613146506179933e-09,
          -6.7533557336561265e-09,
          -6.8911655316515484e-09,
          -7.026526937001167e-09,
          -7.159391856442206e-09,
          -7.289713083701436e-09,
          -7.41744431626735e-09,
          -7.54254017184123e-09,
          -7.664956204461244e-09,
          -7.784648920293906e-09,
          -7.901575793087203e-09,
          -8.015695279279997e-09,
          -8.126966832762243e-09,
          -8.235350919280809e-09,
          -8.34080903048585e-09,
          -8.443303697612592e-09,
          -8.542798504793863e-09,
          -8.639258101998414e-09,
          -8.73264821759067e-09,
          -8.822935670507243e-09,
          -8.910088382046032e-09,
          -8.994075387263601e-09,
          -9.07486684597693e-09,
          -9.152434053365419e-09,
          -9.226749450169642e-09,
          -9.297786632482967e-09,
          -9.36552036113277e-09,
          -9.429926570647786e-09,
          -9.490982377808455e-09,
          -9.548666089777212e-09,
          -9.602957211805864e-09,
          -9.653836454517268e-09,
          -9.701285740758751e-09,
          -9.745288212024855e-09,
          -9.785828234447059e-09,
          -9.82289140434843e-09,
          -9.856464553361186e-09,
          -9.88653575310534e-09,
          -9.913094319426814e-09,
          -9.936130816193454e-09,
          -9.955637058647653e-09,
          -9.971606116314344e-09,
          -9.98403231546338e-09,
          -9.992911241125367e-09,
          -9.9982397386603e-09,
          -1.0000015914878376e-08,
          -9.99823913871264e-09,
          -9.992910041443205e-09,
          -9.984030516472955e-09,
          -9.97160371865483e-09,
          -9.955634063170924e-09,
          -9.93612722396379e-09,
          -9.913090131720508e-09,
          -9.886530971410268e-09,
          -9.856459179376255e-09,
          -9.822885439982994e-09,
          -9.78582168182022e-09,
          -9.745281073464728e-09,
          -9.701278018801628e-09,
          -9.653828151906716e-09,
          -9.602948331491764e-09,
          -9.548656634914688e-09,
          -9.490972351756769e-09,
          -9.429915976969141e-09,
          -9.365509203591043e-09,
          -9.297774915042373e-09,
          -9.226737176993324e-09,
          -9.152421228813976e-09,
          -9.074853474606849e-09,
          -8.994061473825665e-09,
          -8.9100739314836e-09,
          -8.822920687954542e-09,
          -8.732632708370906e-09,
          -8.639242071621938e-09,
          -8.542781958956172e-09,
          -8.443286642192344e-09,
          -8.34079147154273e-09,
          -8.235332863053433e-09,
          -8.126948285665877e-09,
          -8.015676247904337e-09,
          -7.901556284193984e-09,
          -7.78462894081454e-09,
          -7.664935761494333e-09,
          -7.54251927265005e-09,
          -7.4174229682772665e-09,
          -7.289691294497276e-09,
          -7.159369633765557e-09,
          -7.026504288747628e-09,
          -6.8911424658679225e-09,
          -6.753332258537563e-09,
          -6.613122630067009e-09,
          -6.470563396269646e-09,
          -6.325705207762414e-09,
          -6.17859953196995e-09,
          -6.029298634838377e-09,
          -5.877855562265549e-09,
          -5.724324121254028e-09,
          -5.568758860793757e-09,
          -5.411215052481021e-09,
          -5.251748670880773e-09,
          -5.090416373639049e-09,
          -4.927275481352877e-09,
          -4.762383957204454e-09,
          -4.5958003863671796e-09,
          -4.427583955190554e-09,
          -4.257794430171591e-09,
          -4.086492136720052e-09,
          -3.913737937725136e-09,
          -3.739593211931145e-09,
          -3.564119832129954e-09,
          -3.387380143177864e-09,
          -3.2094369398447908e-09,
          -3.0303534445035745e-09,
          -2.850193284667398e-09,
          -2.66902047038318e-09,
          -2.486899371489186e-09,
          -2.3038946947446273e-09,
          -2.120071460839778e-09,
          -1.9354949812943323e-09,
          -1.7502308352526056e-09,
          -1.5643448461835126e-09,
          -1.3779030584938776e-09,
          -1.190971714063067e-09,
          -1.0036172287076872e-09,
          -8.159061685842567e-10,
          -6.279052265386468e-10,
          -4.396811984103597e-10,
          -2.5130095930036483e-10,
          -6.283143981058754e-11,
          1.256603977360908e-10,
          3.1410758308733396e-10,
          5.024431618554825e-10,
          6.906002193061913e-10,
          8.785119041328804e-10,
          1.0661114522087035e-09,
          1.253332210307489e-09,
          1.4401076597853762e-09,
          1.626371440214501e-09,
          1.8120573729606036e-09,
          1.9970994846959447e-09,
          2.1814320308393333e-09,
          2.3649895189148284e-09,
          2.547706731820966e-09,
          2.7295187510020027e-09,
          2.9103609795132787e-09,
          3.090169164972079e-09,
          3.268879422386307e-09,
          3.446428256852435e-09,
          3.622752586115014e-09,
          3.797789762979422e-09,
          3.971477597570212e-09,
          4.143754379426765e-09,
          4.31455889942882e-09,
          4.483830471543709e-09,
          4.651508954387877e-09,
          4.817534772594788e-09,
          4.981848937981793e-09,
          5.144393070508317e-09,
          5.3051094190180605e-09,
          5.463940881757653e-09,
          5.620831026664688e-09,
          5.7757241114177275e-09,
          5.928565103241311e-09,
          6.0792996984587985e-09,
          6.2278743417862645e-09,
          6.374236245360375e-09,
          6.518333407493719e-09,
          6.660114631150724e-09,
          6.799529542137742e-09,
          6.9365286070007254e-09,
          7.071063150624278e-09,
          7.203085373525636e-09,
          7.332548368837665e-09,
          7.459406138974568e-09,
          7.58361361197467e-09,
          7.70512665751424e-09,
          7.8239021025868e-09,
          7.939897746842266e-09,
          8.053072377580586e-09,
          8.163385784394332e-09,
          8.270798773455346e-09,
          8.375273181440064e-09,
          8.476771889088802e-09,
          8.57525883439403e-09,
          8.670699025413042e-09,
          8.76305855270041e-09,
          8.852304601355885e-09,
          8.938405462683319e-09,
          9.021330545456665e-09,
          9.101050386788881e-09,
          9.177536662599931e-09,
          9.250762197680217e-09,
          9.320700975345801e-09,
          9.387328146681991e-09,
          9.450620039372076e-09,
          9.510554166107949e-09,
          9.56710923257977e-09,
          9.620265145041708e-09,
          9.670003017451179e-09,
          9.716305178178941e-09,
          9.759155176287772e-09,
          9.798537787377372e-09,
          9.834439018993549e-09,
          9.866846115599656e-09,
          9.89574756310858e-09,
          9.921133092973636e-09,
          9.942993685836947e-09,
          9.961321574733956e-09,
          9.976110247853004e-09,
          9.987354450848955e-09,
          9.995050188710029e-09,
          9.9991947271772e-09,
          9.999786593715689e-09,
          9.996825578038134e-09,
          9.990312732179309e-09,
          9.98025037012233e-09,
          9.966642066976527e-09,
          9.949492657707208e-09,
          9.928808235417828e-09,
          9.90459614918514e-09,
          9.876865001448087e-09,
          9.84562464495142e-09,
          9.810886179245045e-09,
          9.772661946740415e-09,
          9.730965528325336e-09,
          9.685811738538721e-09,
          9.63721662030708e-09,
          9.585197439244535e-09,
          9.52977267751841e-09,
          9.470962027282644e-09,
          9.408786383681232e-09,
          9.343267837424282e-09,
          9.27442966693931e-09,
          9.202296330100509e-09,
          9.126893455538991e-09,
          9.048247833537044e-09,
          8.966387406509677e-09,
          8.88134125907683e-09,
          8.793139607729741e-09,
          8.70181379009513e-09,
          8.607396253801157e-09,
          8.509920544948883e-09,
          8.409421296193533e-09,
          8.305934214439634e-09,
          8.199496068154571e-09,
          8.09014467430491e-09,
          7.977918884920209e-09,
          7.862858573289021e-09,
          7.74500461979222e-09,
          7.624398897378305e-09,
          7.50108425668618e-09,
          7.37510451082049e-09,
          7.246504419785079e-09,
          7.115329674579949e-09,
          6.9816268809674834e-09,
          6.845443542913582e-09,
          6.7068280457098185e-09,
          6.565829638782324e-09,
          6.422498418193692e-09,
          6.276885308844093e-09,
          6.129042046377937e-09,
          5.979021158802409e-09,
          5.826875947824534e-09,
          5.672660469913288e-09,
          5.51642951709367e-09,
          5.358238597479306e-09,
          5.198143915550708e-09,
          5.036202352186022e-09,
          4.872471444451624e-09,
          4.707009365159426e-09,
          4.539874902198315e-09,
          4.371127437647135e-09,
          4.2008269266765476e-09,
          4.029033876247194e-09,
          3.855809323611896e-09,
          3.681214814629342e-09,
          3.505312381897239e-09,
          3.328164522712356e-09,
          3.1498341768655683e-09,
          2.9703847042795803e-09,
          2.7898798624975665e-09,
          2.6083837840302828e-09,
          2.425960953570228e-09,
          2.2426761850804026e-09,
          2.0585945987663365e-09,
          1.8737815979391207e-09,
          1.6883028457779578e-09,
          1.5022242420002775e-09,
          1.3156118994479839e-09,
          1.1285321205978094e-09,
          9.410513740043949e-10,
          7.53236270684276e-10,
          5.65153540449341e-10,
          3.7687000819808175e-10,
          1.884525701729912e-10,
          -3.1829807407691354e-14,
          -1.8851622413327465e-10,
          -3.769336451967962e-10,
          -5.652171491854225e-10,
          -7.532998398667558e-10,
          -9.411148923563569e-10,
          -1.1285955768603793e-09,
          -1.3156752823842952e-09,
          -1.5022875403996045e-09,
          -1.6883660484595749e-09,
          -1.873844693756327e-09,
          -2.0586575766103487e-09,
          -2.242739033884404e-09,
          -2.4260236623132317e-09,
          -2.608446341741082e-09,
          -2.7899422582585653e-09,
          -2.9704469272307895e-09,
          -3.149896216208347e-09,
          -3.3282263677133154e-09,
          -3.5053740218920226e-09,
          -3.6812762390264636e-09,
          -3.8558705218964535e-09,
          -4.02909483798464e-09,
          -4.200887641516328e-09,
          -4.371187895326468e-09,
          -4.539935092545766e-09,
          -4.707069278098564e-09,
          -4.872531070004546e-09,
          -5.036261680476946e-09,
          -5.1982029368094535e-09,
          -5.358297302044826e-09,
          -5.516487895417374e-09,
          -5.672718512562546e-09,
          -5.826933645485964e-09,
          -5.979078502285214e-09,
          -6.129099026617119e-09,
          -6.276941916903749e-09,
          -6.422554645270143e-09,
          -6.565885476207268e-09,
          -6.70688348495336e-09,
          -6.845498575587307e-09,
          -6.98168149882745e-09,
          -7.1153838695296e-09,
          -7.246558183878075e-09,
          -7.375157836263611e-09,
          -7.501137135842046e-09,
          -7.624451322768108e-09,
          -7.74505658409834e-09,
          -7.862910069357697e-09,
          -7.97796990576402e-09,
          -8.090195213105311e-09,
          -8.199546118264222e-09,
          -8.30598376938488e-09,
          -8.409470349676638e-09,
          -8.509969090850277e-09,
          -8.607444286181589e-09,
          -8.701861303197827e-09,
          -8.793186595982417e-09,
          -8.881387717093689e-09,
          -8.96643332909328e-09,
          -9.048293215680223e-09,
          -9.126938292426584e-09,
          -9.202340617111078e-09,
          -9.274473399646767e-09,
          -9.34331101159951e-09,
          -9.408828995293546e-09,
          -9.47100407250124e-09,
          -9.529814152713708e-09,
          -9.585238340989495e-09,
          -9.637256945378405e-09,
          -9.685851483917995e-09,
          -9.731004691200103e-09,
          -9.772700524505196e-09,
          -9.810924169502231e-09,
          -9.84566204551215e-09,
          -9.876901810333014e-09,
          -9.904632364625135e-09,
          -9.928843855854619e-09,
          -9.949527681793912e-09,
          -9.966676493578146e-09,
          -9.980284198316152e-09,
          -9.99034596125523e-09,
          -9.996858207498921e-09,
          -9.999818623277139e-09,
          -9.999226156768257e-09,
          -9.995081018472806e-09,
          -9.987384681138678e-09,
          -9.976139879237888e-09,
          -9.961350607995003e-09,
          -9.943022121967676e-09,
          -9.921160933179718e-09,
          -9.895774808807415e-09,
          -9.866872768419871e-09,
          -9.834465080774418e-09,
          -9.798563260168165e-09,
          -9.75918006234702e-09,
          -9.716329479973648e-09,
          -9.670026737655914e-09,
          -9.620288286537695e-09,
          -9.567131798453843e-09,
          -9.510576159651455e-09,
          -9.4506414640797e-09,
          -9.387349006250534e-09,
          -9.320721273672853e-09,
          -9.250781938862773e-09,
          -9.177555850932935e-09,
          -9.101069026763704e-09,
          -9.021348641759522e-09,
          -8.938423020193556e-09,
          -8.852321625144296e-09,
          -8.763075048027426e-09,
          -8.670714997726847e-09,
          -8.575274289328628e-09,
          -8.476786832462017e-09,
          -8.375287619251482e-09,
          -8.270812711884183e-09,
          -8.163399229797224e-09,
          -8.05308533648933e-09,
          -7.93991022596154e-09,
          -7.82391410879171e-09,
          -7.70513819784793e-09,
          -7.58362469364581e-09,
          -7.459416769354788e-09,
          -7.332558555458945e-09,
          -7.203095124077604e-09,
          -7.071072472951492e-09,
          -6.936537509099911e-09,
          -6.799538032154929e-09,
          -6.6601227173783376e-09,
          -6.51834109836766e-09,
          -6.374243549456996e-09,
          -6.22788126781936e-09,
          -6.079306255276473e-09,
          -5.928571299822842e-09,
          -5.775729956870402e-09,
          -5.620836530220545e-09,
          -5.463946052770186e-09,
          -5.305114266958925e-09,
          -5.144397604963967e-09,
          -4.981853168650058e-09,
          -4.817538709281435e-09,
          -4.651512607003091e-09,
          -4.483833850098628e-09,
          -4.314562014031968e-09,
          -4.143757240280425e-09,
          -3.971480214966823e-09,
          -3.797792147297936e-09,
          -3.6227547478171903e-09,
          -3.446430206479124e-09,
          -3.268881170553702e-09,
          -3.090170722367967e-09,
          -2.9103623568932263e-09,
          -2.729519959185537e-09,
          -2.5477077816876843e-09,
          -2.3649904214006305e-09,
          -2.1814327969324723e-09,
          -1.9971001254331172e-09,
          -1.8120578994230442e-09,
          -1.6263718635240544e-09,
          -1.4401079911005537e-09,
          -1.2533324608194618e-09,
          -1.066111633137351e-09,
          -8.785120267228226e-10,
          -6.906002948227936e-10,
          -5.024432015807727e-10,
          -3.14107598316092e-10,
          -1.2566039977180918e-10,
          6.283143965972905e-11,
          2.5130094972553454e-10,
          4.39681168106083e-10,
          6.279051642067788e-10,
          8.159060629380403e-10,
          1.0036170684757728e-09,
          1.190971487993499e-09,
          1.3779027553580569e-09,
          1.564344454780265e-09,
          1.7502303444121007e-09,
          1.935494379882078e-09,
          2.1200707377605513e-09,
          2.30389383894643e-09,
          2.486898371967195e-09,
          2.6690193161836437e-09,
          2.8501919648914855e-09,
          3.0303519483112936e-09,
          3.2094352564588464e-09,
          3.3873782618874517e-09,
          3.5641177422946108e-09,
          3.739590902984467e-09,
          3.9137353991785984e-09,
          4.086489358166699e-09,
          4.257791401289729e-09,
          4.4275806657474264e-09,
          4.595796826222633e-09,
          4.762380116314496e-09,
          4.927271349773255e-09,
          5.090411941528792e-09,
          5.251743928505688e-09,
          5.411209990217186e-09,
          5.5687534691308604e-09,
          5.724318390798802e-09,
          5.877849483745112e-09,
          6.029292199103506e-09,
          6.178592729998334e-09,
          6.3256980306618635e-09,
          6.470555835281259e-09,
          6.613114676568282e-09,
          6.7533239040454335e-09,
          6.8911337020417885e-09,
          7.026495107392368e-09,
          7.159360026834365e-09,
          7.2896812540945535e-09,
          7.417412486661415e-09,
          7.542508342236255e-09,
          7.664924374857227e-09,
          7.784617090690845e-09,
          7.901543963485092e-09,
          8.015663449678845e-09,
          8.126935003162046e-09,
          8.235319089681562e-09,
          8.340777200887548e-09,
          8.443271868015256e-09,
          8.542766675197482e-09,
          8.639226272402991e-09,
          8.732616387996193e-09,
          8.822903840913726e-09,
          8.910056552453468e-09,
          8.994043557672e-09,
          9.074835016386276e-09,
          9.152402223775727e-09,
          9.226717620580904e-09,
          9.297754802895178e-09,
          9.365488531545934e-09,
          9.429894741061908e-09,
          9.490950548223532e-09,
          9.548634260193244e-09,
          9.602925382222847e-09,
          9.653804624935208e-09,
          9.70125391117765e-09,
          9.74525638244471e-09,
          9.785796404867866e-09,
          9.822859574770195e-09,
          9.8564327237839e-09,
          9.88650392352901e-09,
          9.913062489851438e-09,
          9.936098986619036e-09,
          9.95560522907419e-09,
          9.971574286741836e-09,
          9.984000485891826e-09,
          9.992879411554769e-09,
          9.998207909090658e-09,
          9.999984085309688e-09,
          9.998207309144905e-09,
          9.992878211876426e-09,
          9.98399868690713e-09,
          9.97157188908996e-09,
          9.95560223360701e-09,
          9.93609539440083e-09,
          9.913058302158506e-09,
          9.886499141849218e-09,
          9.856427349816163e-09,
          9.822853610423851e-09,
          9.785789852262034e-09,
          9.745249243907495e-09,
          9.70124618924536e-09,
          9.653796322351399e-09,
          9.602916501937397e-09,
          9.548624805361275e-09,
          9.490940522204315e-09,
          9.429884147417642e-09,
          9.365477374040498e-09,
          9.29774308549278e-09,
          9.22670534744469e-09,
          9.152389399266294e-09,
          9.074821645060119e-09,
          8.994029644279895e-09,
          8.910042101938794e-09,
          8.82288885841068e-09,
          8.732600878828001e-09,
          8.639210242079981e-09,
          8.542750129415182e-09,
          8.443254812652302e-09,
          8.340759642003644e-09,
          8.235301033515293e-09,
          8.126916456128702e-09,
          8.015644418368111e-09,
          7.901524454658724e-09,
          7.784597111280228e-09,
          7.664903931960984e-09,
          7.542487443117649e-09,
          7.41739113874582e-09,
          7.2896594649667794e-09,
          7.159337804236026e-09,
          7.026472459219049e-09,
          6.89111063634029e-09,
          6.75330042901088e-09,
          6.613090800541294e-09,
          6.470531566744892e-09,
          6.325673378238614e-09,
          6.178567702447093e-09,
          6.029266805316488e-09,
          5.87782373274461e-09,
          5.7242922917340414e-09,
          5.568727031274718e-09,
          5.4111832229629525e-09,
          5.251716841363645e-09,
          5.090384544122875e-09,
          4.927243651837649e-09,
          4.762352127690214e-09,
          4.5957685568538855e-09,
          4.427552125678207e-09,
          4.2577626006601914e-09,
          4.086460307209622e-09,
          3.913706108215654e-09,
          3.739561382422617e-09,
          3.564088002622373e-09,
          3.387348313671246e-09,
          3.20940511033912e-09,
          3.0303216149988583e-09,
          2.8501614551636283e-09,
          2.6689886408803994e-09,
          2.486867541987343e-09,
          2.3038628652437393e-09,
          2.1200396313398364e-09,
          1.9354631517953625e-09,
          1.750199005754582e-09,
          1.5643130166864439e-09,
          1.3778712289977464e-09,
          1.190939884567908e-09,
          1.003585399213474e-09,
          8.158743390909988e-10,
          6.278733970463526e-10,
          4.3964936891903817e-10,
          2.512691298099804e-10,
          6.279961032115804e-11,
          -1.256922272245743e-10,
          -3.141394125748449e-10,
          -5.024749913420474e-10,
          -6.906320487918102e-10,
          -8.785437336175533e-10,
          -1.0661432816924036e-09,
          -1.2533640397902434e-09,
          -1.4401394892671578e-09,
          -1.626403269695337e-09,
          -1.8120892024404757e-09,
          -1.9971313141748703e-09,
          -2.1814638603173043e-09,
          -2.365021348391853e-09,
          -2.5477385612970183e-09,
          -2.7295505804771174e-09,
          -2.910392808987421e-09,
          -3.090200994445293e-09,
          -3.2689112518585487e-09,
          -3.4464600863237135e-09,
          -3.622784415585321e-09,
          -3.797821592448808e-09,
          -3.971509427038627e-09,
          -4.143786208894248e-09,
          -4.314590728895332e-09,
          -4.483862301009259e-09,
          -4.651540783852496e-09,
          -4.817566602058444e-09,
          -4.981880767444477e-09,
          -5.1444248999700695e-09,
          -5.305141248478843e-09,
          -5.463972711217474e-09,
          -5.620862856123546e-09,
          -5.775755940875653e-09,
          -5.928596932698268e-09,
          -6.07933152791482e-09,
          -6.227906171241318e-09,
          -6.374268074814466e-09,
          -6.518365236946849e-09,
          -6.66014646060292e-09,
          -6.7995613715889694e-09,
          -6.936560436451017e-09,
          -7.0710949800736034e-09,
          -7.203117202974031e-09,
          -7.33258019828507e-09,
          -7.459437968421035e-09,
          -7.583645441420172e-09,
          -7.705158486958779e-09,
          -7.823933932030399e-09,
          -7.939929576284908e-09,
          -8.053104207022283e-09,
          -8.16341761383507e-09,
          -8.270830602895118e-09,
          -8.375305010878876e-09,
          -8.476803718526674e-09,
          -8.575290663830943e-09,
          -8.670730854849009e-09,
          -8.76309038213542e-09,
          -8.852336430789929e-09,
          -8.93843729211642e-09,
          -9.021362374888793e-09,
          -9.101082216220063e-09,
          -9.177568492030154e-09,
          -9.250794027109495e-09,
          -9.320732804774116e-09,
          -9.387359976109363e-09,
          -9.45065186879849e-09,
          -9.510585995533417e-09,
          -9.567141062004267e-09,
          -9.620296974465245e-09,
          -9.670034846873767e-09,
          -9.716337007600576e-09,
          -9.759187005708456e-09,
          -9.798569616797099e-09,
          -9.834470848412324e-09,
          -9.866877945017474e-09,
          -9.895779392525441e-09,
          -9.921164922389544e-09,
          -9.9430255152519e-09,
          -9.961353404147951e-09,
          -9.976142077266046e-09,
          -9.987386280261045e-09,
          -9.995082018121159e-09,
          -9.999226556587376e-09,
          -9.999818423124911e-09,
          -9.996857407446402e-09,
          -9.990344561586624e-09,
          -9.980282199528689e-09,
          -9.96667389638193e-09,
          -9.949524487111655e-09,
          -9.928840064821323e-09,
          -9.904627978587681e-09,
          -9.876896830849674e-09,
          -9.845656474352053e-09,
          -9.810918008644719e-09,
          -9.772693776139139e-09,
          -9.730997357723097e-09,
          -9.685843567935533e-09,
          -9.637248449702932e-09,
          -9.585229268639429e-09,
          -9.529804506912355e-09,
          -9.47099385667564e-09,
          -9.408818213073274e-09,
          -9.343299666815364e-09,
          -9.274461496329443e-09,
          -9.202328159489679e-09,
          -9.126925284927206e-09,
          -9.04827966292429e-09,
          -8.966419235895991e-09,
          -8.881373088462182e-09,
          -8.793171437114138e-09,
          -8.701845619478564e-09,
          -8.607428083183645e-09,
          -8.509952374330406e-09,
          -8.409453125574103e-09,
          -8.305966043819257e-09,
          -8.199527897533252e-09,
          -8.090176503682644e-09,
          -7.977950714296956e-09,
          -7.862890402664827e-09,
          -7.745036449167057e-09,
          -7.624430726752198e-09,
          -7.501116086059098e-09,
          -7.3751363401924614e-09,
          -7.246536249156109e-09,
          -7.115361503950038e-09,
          -6.9816587103366165e-09,
          -6.845475372281749e-09,
          -6.706859875077043e-09,
          -6.565861468148568e-09,
          -6.422530247558981e-09,
          -6.276917138208414e-09,
          -6.129073875741345e-09,
          -5.979052988164846e-09,
          -5.8269077771860165e-09,
          -5.6726922992738e-09,
          -5.5164613464532425e-09,
          -5.3582704268379396e-09,
          -5.198175744908356e-09,
          -5.036234181542731e-09,
          -4.8725032738073934e-09,
          -4.707041194514239e-09,
          -4.539906731552141e-09,
          -4.371159267000023e-09,
          -4.200858756028464e-09,
          -4.0290657055981726e-09,
          -3.855841152961886e-09,
          -3.681246643978394e-09,
          -3.5053442112453863e-09,
          -3.3281963520595315e-09,
          -3.149866006211789e-09,
          -2.9704165336248297e-09,
          -2.789911691841861e-09,
          -2.608415613373605e-09,
          -2.4259927829125954e-09,
          -2.242708014421798e-09,
          -2.0586264281068284e-09,
          -1.8738134272786407e-09,
          -1.688334675116523e-09,
          -1.5022560713379055e-09,
          -1.3156437287846393e-09,
          -1.1285639499335279e-09,
          -9.410832033391232e-10,
          -7.532681000180493e-10,
          -5.65185369782177e-10,
          -3.769018375299808e-10,
          -1.8848439950389983e-10,
          4.774361831982955e-19
         ]
        }
       ],
       "layout": {
        "legend": {
         "bgcolor": "#FFFFFF",
         "font": {
          "color": "#4D5663"
         }
        },
        "paper_bgcolor": "#FFFFFF",
        "plot_bgcolor": "#FFFFFF",
        "template": {
         "data": {
          "bar": [
           {
            "error_x": {
             "color": "#2a3f5f"
            },
            "error_y": {
             "color": "#2a3f5f"
            },
            "marker": {
             "line": {
              "color": "#E5ECF6",
              "width": 0.5
             }
            },
            "type": "bar"
           }
          ],
          "barpolar": [
           {
            "marker": {
             "line": {
              "color": "#E5ECF6",
              "width": 0.5
             }
            },
            "type": "barpolar"
           }
          ],
          "carpet": [
           {
            "aaxis": {
             "endlinecolor": "#2a3f5f",
             "gridcolor": "white",
             "linecolor": "white",
             "minorgridcolor": "white",
             "startlinecolor": "#2a3f5f"
            },
            "baxis": {
             "endlinecolor": "#2a3f5f",
             "gridcolor": "white",
             "linecolor": "white",
             "minorgridcolor": "white",
             "startlinecolor": "#2a3f5f"
            },
            "type": "carpet"
           }
          ],
          "choropleth": [
           {
            "colorbar": {
             "outlinewidth": 0,
             "ticks": ""
            },
            "type": "choropleth"
           }
          ],
          "contour": [
           {
            "colorbar": {
             "outlinewidth": 0,
             "ticks": ""
            },
            "colorscale": [
             [
              0,
              "#0d0887"
             ],
             [
              0.1111111111111111,
              "#46039f"
             ],
             [
              0.2222222222222222,
              "#7201a8"
             ],
             [
              0.3333333333333333,
              "#9c179e"
             ],
             [
              0.4444444444444444,
              "#bd3786"
             ],
             [
              0.5555555555555556,
              "#d8576b"
             ],
             [
              0.6666666666666666,
              "#ed7953"
             ],
             [
              0.7777777777777778,
              "#fb9f3a"
             ],
             [
              0.8888888888888888,
              "#fdca26"
             ],
             [
              1,
              "#f0f921"
             ]
            ],
            "type": "contour"
           }
          ],
          "contourcarpet": [
           {
            "colorbar": {
             "outlinewidth": 0,
             "ticks": ""
            },
            "type": "contourcarpet"
           }
          ],
          "heatmap": [
           {
            "colorbar": {
             "outlinewidth": 0,
             "ticks": ""
            },
            "colorscale": [
             [
              0,
              "#0d0887"
             ],
             [
              0.1111111111111111,
              "#46039f"
             ],
             [
              0.2222222222222222,
              "#7201a8"
             ],
             [
              0.3333333333333333,
              "#9c179e"
             ],
             [
              0.4444444444444444,
              "#bd3786"
             ],
             [
              0.5555555555555556,
              "#d8576b"
             ],
             [
              0.6666666666666666,
              "#ed7953"
             ],
             [
              0.7777777777777778,
              "#fb9f3a"
             ],
             [
              0.8888888888888888,
              "#fdca26"
             ],
             [
              1,
              "#f0f921"
             ]
            ],
            "type": "heatmap"
           }
          ],
          "heatmapgl": [
           {
            "colorbar": {
             "outlinewidth": 0,
             "ticks": ""
            },
            "colorscale": [
             [
              0,
              "#0d0887"
             ],
             [
              0.1111111111111111,
              "#46039f"
             ],
             [
              0.2222222222222222,
              "#7201a8"
             ],
             [
              0.3333333333333333,
              "#9c179e"
             ],
             [
              0.4444444444444444,
              "#bd3786"
             ],
             [
              0.5555555555555556,
              "#d8576b"
             ],
             [
              0.6666666666666666,
              "#ed7953"
             ],
             [
              0.7777777777777778,
              "#fb9f3a"
             ],
             [
              0.8888888888888888,
              "#fdca26"
             ],
             [
              1,
              "#f0f921"
             ]
            ],
            "type": "heatmapgl"
           }
          ],
          "histogram": [
           {
            "marker": {
             "colorbar": {
              "outlinewidth": 0,
              "ticks": ""
             }
            },
            "type": "histogram"
           }
          ],
          "histogram2d": [
           {
            "colorbar": {
             "outlinewidth": 0,
             "ticks": ""
            },
            "colorscale": [
             [
              0,
              "#0d0887"
             ],
             [
              0.1111111111111111,
              "#46039f"
             ],
             [
              0.2222222222222222,
              "#7201a8"
             ],
             [
              0.3333333333333333,
              "#9c179e"
             ],
             [
              0.4444444444444444,
              "#bd3786"
             ],
             [
              0.5555555555555556,
              "#d8576b"
             ],
             [
              0.6666666666666666,
              "#ed7953"
             ],
             [
              0.7777777777777778,
              "#fb9f3a"
             ],
             [
              0.8888888888888888,
              "#fdca26"
             ],
             [
              1,
              "#f0f921"
             ]
            ],
            "type": "histogram2d"
           }
          ],
          "histogram2dcontour": [
           {
            "colorbar": {
             "outlinewidth": 0,
             "ticks": ""
            },
            "colorscale": [
             [
              0,
              "#0d0887"
             ],
             [
              0.1111111111111111,
              "#46039f"
             ],
             [
              0.2222222222222222,
              "#7201a8"
             ],
             [
              0.3333333333333333,
              "#9c179e"
             ],
             [
              0.4444444444444444,
              "#bd3786"
             ],
             [
              0.5555555555555556,
              "#d8576b"
             ],
             [
              0.6666666666666666,
              "#ed7953"
             ],
             [
              0.7777777777777778,
              "#fb9f3a"
             ],
             [
              0.8888888888888888,
              "#fdca26"
             ],
             [
              1,
              "#f0f921"
             ]
            ],
            "type": "histogram2dcontour"
           }
          ],
          "mesh3d": [
           {
            "colorbar": {
             "outlinewidth": 0,
             "ticks": ""
            },
            "type": "mesh3d"
           }
          ],
          "parcoords": [
           {
            "line": {
             "colorbar": {
              "outlinewidth": 0,
              "ticks": ""
             }
            },
            "type": "parcoords"
           }
          ],
          "scatter": [
           {
            "marker": {
             "colorbar": {
              "outlinewidth": 0,
              "ticks": ""
             }
            },
            "type": "scatter"
           }
          ],
          "scatter3d": [
           {
            "line": {
             "colorbar": {
              "outlinewidth": 0,
              "ticks": ""
             }
            },
            "marker": {
             "colorbar": {
              "outlinewidth": 0,
              "ticks": ""
             }
            },
            "type": "scatter3d"
           }
          ],
          "scattercarpet": [
           {
            "marker": {
             "colorbar": {
              "outlinewidth": 0,
              "ticks": ""
             }
            },
            "type": "scattercarpet"
           }
          ],
          "scattergeo": [
           {
            "marker": {
             "colorbar": {
              "outlinewidth": 0,
              "ticks": ""
             }
            },
            "type": "scattergeo"
           }
          ],
          "scattergl": [
           {
            "marker": {
             "colorbar": {
              "outlinewidth": 0,
              "ticks": ""
             }
            },
            "type": "scattergl"
           }
          ],
          "scattermapbox": [
           {
            "marker": {
             "colorbar": {
              "outlinewidth": 0,
              "ticks": ""
             }
            },
            "type": "scattermapbox"
           }
          ],
          "scatterpolar": [
           {
            "marker": {
             "colorbar": {
              "outlinewidth": 0,
              "ticks": ""
             }
            },
            "type": "scatterpolar"
           }
          ],
          "scatterpolargl": [
           {
            "marker": {
             "colorbar": {
              "outlinewidth": 0,
              "ticks": ""
             }
            },
            "type": "scatterpolargl"
           }
          ],
          "scatterternary": [
           {
            "marker": {
             "colorbar": {
              "outlinewidth": 0,
              "ticks": ""
             }
            },
            "type": "scatterternary"
           }
          ],
          "surface": [
           {
            "colorbar": {
             "outlinewidth": 0,
             "ticks": ""
            },
            "colorscale": [
             [
              0,
              "#0d0887"
             ],
             [
              0.1111111111111111,
              "#46039f"
             ],
             [
              0.2222222222222222,
              "#7201a8"
             ],
             [
              0.3333333333333333,
              "#9c179e"
             ],
             [
              0.4444444444444444,
              "#bd3786"
             ],
             [
              0.5555555555555556,
              "#d8576b"
             ],
             [
              0.6666666666666666,
              "#ed7953"
             ],
             [
              0.7777777777777778,
              "#fb9f3a"
             ],
             [
              0.8888888888888888,
              "#fdca26"
             ],
             [
              1,
              "#f0f921"
             ]
            ],
            "type": "surface"
           }
          ],
          "table": [
           {
            "cells": {
             "fill": {
              "color": "#EBF0F8"
             },
             "line": {
              "color": "white"
             }
            },
            "header": {
             "fill": {
              "color": "#C8D4E3"
             },
             "line": {
              "color": "white"
             }
            },
            "type": "table"
           }
          ]
         },
         "layout": {
          "annotationdefaults": {
           "arrowcolor": "#2a3f5f",
           "arrowhead": 0,
           "arrowwidth": 1
          },
          "colorscale": {
           "diverging": [
            [
             0,
             "#8e0152"
            ],
            [
             0.1,
             "#c51b7d"
            ],
            [
             0.2,
             "#de77ae"
            ],
            [
             0.3,
             "#f1b6da"
            ],
            [
             0.4,
             "#fde0ef"
            ],
            [
             0.5,
             "#f7f7f7"
            ],
            [
             0.6,
             "#e6f5d0"
            ],
            [
             0.7,
             "#b8e186"
            ],
            [
             0.8,
             "#7fbc41"
            ],
            [
             0.9,
             "#4d9221"
            ],
            [
             1,
             "#276419"
            ]
           ],
           "sequential": [
            [
             0,
             "#0d0887"
            ],
            [
             0.1111111111111111,
             "#46039f"
            ],
            [
             0.2222222222222222,
             "#7201a8"
            ],
            [
             0.3333333333333333,
             "#9c179e"
            ],
            [
             0.4444444444444444,
             "#bd3786"
            ],
            [
             0.5555555555555556,
             "#d8576b"
            ],
            [
             0.6666666666666666,
             "#ed7953"
            ],
            [
             0.7777777777777778,
             "#fb9f3a"
            ],
            [
             0.8888888888888888,
             "#fdca26"
            ],
            [
             1,
             "#f0f921"
            ]
           ],
           "sequentialminus": [
            [
             0,
             "#0d0887"
            ],
            [
             0.1111111111111111,
             "#46039f"
            ],
            [
             0.2222222222222222,
             "#7201a8"
            ],
            [
             0.3333333333333333,
             "#9c179e"
            ],
            [
             0.4444444444444444,
             "#bd3786"
            ],
            [
             0.5555555555555556,
             "#d8576b"
            ],
            [
             0.6666666666666666,
             "#ed7953"
            ],
            [
             0.7777777777777778,
             "#fb9f3a"
            ],
            [
             0.8888888888888888,
             "#fdca26"
            ],
            [
             1,
             "#f0f921"
            ]
           ]
          },
          "colorway": [
           "#636efa",
           "#EF553B",
           "#00cc96",
           "#ab63fa",
           "#FFA15A",
           "#19d3f3",
           "#FF6692",
           "#B6E880",
           "#FF97FF",
           "#FECB52"
          ],
          "font": {
           "color": "#2a3f5f"
          },
          "geo": {
           "bgcolor": "white",
           "lakecolor": "white",
           "landcolor": "#E5ECF6",
           "showlakes": true,
           "showland": true,
           "subunitcolor": "white"
          },
          "hoverlabel": {
           "align": "left"
          },
          "hovermode": "closest",
          "mapbox": {
           "style": "light"
          },
          "paper_bgcolor": "white",
          "plot_bgcolor": "#E5ECF6",
          "polar": {
           "angularaxis": {
            "gridcolor": "white",
            "linecolor": "white",
            "ticks": ""
           },
           "bgcolor": "#E5ECF6",
           "radialaxis": {
            "gridcolor": "white",
            "linecolor": "white",
            "ticks": ""
           }
          },
          "scene": {
           "xaxis": {
            "backgroundcolor": "#E5ECF6",
            "gridcolor": "white",
            "gridwidth": 2,
            "linecolor": "white",
            "showbackground": true,
            "ticks": "",
            "zerolinecolor": "white"
           },
           "yaxis": {
            "backgroundcolor": "#E5ECF6",
            "gridcolor": "white",
            "gridwidth": 2,
            "linecolor": "white",
            "showbackground": true,
            "ticks": "",
            "zerolinecolor": "white"
           },
           "zaxis": {
            "backgroundcolor": "#E5ECF6",
            "gridcolor": "white",
            "gridwidth": 2,
            "linecolor": "white",
            "showbackground": true,
            "ticks": "",
            "zerolinecolor": "white"
           }
          },
          "shapedefaults": {
           "line": {
            "color": "#2a3f5f"
           }
          },
          "ternary": {
           "aaxis": {
            "gridcolor": "white",
            "linecolor": "white",
            "ticks": ""
           },
           "baxis": {
            "gridcolor": "white",
            "linecolor": "white",
            "ticks": ""
           },
           "bgcolor": "#E5ECF6",
           "caxis": {
            "gridcolor": "white",
            "linecolor": "white",
            "ticks": ""
           }
          },
          "title": {
           "x": 0.05
          },
          "xaxis": {
           "automargin": true,
           "gridcolor": "white",
           "linecolor": "white",
           "ticks": "",
           "zerolinecolor": "white",
           "zerolinewidth": 2
          },
          "yaxis": {
           "automargin": true,
           "gridcolor": "white",
           "linecolor": "white",
           "ticks": "",
           "zerolinecolor": "white",
           "zerolinewidth": 2
          }
         }
        },
        "title": {
         "font": {
          "color": "#4D5663"
         },
         "text": "Output"
        },
        "xaxis": {
         "gridcolor": "#E1E5ED",
         "showgrid": true,
         "tickfont": {
          "color": "#4D5663"
         },
         "title": {
          "font": {
           "color": "#4D5663"
          },
          "text": "Tout"
         },
         "zerolinecolor": "#E1E5ED"
        },
        "yaxis": {
         "gridcolor": "#E1E5ED",
         "showgrid": true,
         "tickfont": {
          "color": "#4D5663"
         },
         "title": {
          "font": {
           "color": "#4D5663"
          },
          "text": "yout"
         },
         "zerolinecolor": "#E1E5ED"
        }
       }
      },
      "text/html": [
       "<div>\n",
       "        \n",
       "        \n",
       "            <div id=\"dfd3a943-f2ed-4142-a096-f8208fcbdfc4\" class=\"plotly-graph-div\" style=\"height:525px; width:100%;\"></div>\n",
       "            <script type=\"text/javascript\">\n",
       "                require([\"plotly\"], function(Plotly) {\n",
       "                    window.PLOTLYENV=window.PLOTLYENV || {};\n",
       "                    window.PLOTLYENV.BASE_URL='https://plot.ly';\n",
       "                    \n",
       "                if (document.getElementById(\"dfd3a943-f2ed-4142-a096-f8208fcbdfc4\")) {\n",
       "                    Plotly.newPlot(\n",
       "                        'dfd3a943-f2ed-4142-a096-f8208fcbdfc4',\n",
       "                        [{\"line\": {\"color\": \"rgba(255, 153, 51, 1.0)\", \"dash\": \"solid\", \"shape\": \"linear\", \"width\": 1.3}, \"mode\": \"lines\", \"name\": \"0\", \"text\": \"\", \"type\": \"scatter\", \"x\": [0.0, 3.0, 6.0, 9.0, 12.0, 15.0, 18.0, 21.0, 24.0, 27.0, 30.0, 33.0, 36.0, 39.0, 42.0, 45.0, 48.0, 51.0, 54.0, 57.0, 60.0, 63.0, 66.0, 69.0, 72.0, 75.0, 78.0, 81.0, 84.0, 87.0, 90.0, 93.0, 96.0, 99.0, 102.0, 105.0, 108.0, 111.0, 114.0, 117.0, 120.0, 123.0, 126.0, 129.0, 132.0, 135.0, 138.0, 141.0, 144.0, 147.0, 150.0, 153.0, 156.0, 159.0, 162.0, 165.0, 168.0, 171.0, 174.0, 177.0, 180.0, 183.0, 186.0, 189.0, 192.0, 195.0, 198.0, 201.0, 204.0, 207.0, 210.0, 213.0, 216.0, 219.0, 222.0, 225.0, 228.0, 231.0, 234.0, 237.0, 240.0, 243.0, 246.0, 249.0, 252.0, 255.0, 258.0, 261.0, 264.0, 267.0, 270.0, 273.0, 276.0, 279.0, 282.0, 285.0, 288.0, 291.0, 294.0, 297.0, 300.0, 303.0, 306.0, 309.0, 312.0, 315.0, 318.0, 321.0, 324.0, 327.0, 330.0, 333.0, 336.0, 339.0, 342.0, 345.0, 348.0, 351.0, 354.0, 357.0, 360.0, 363.0, 366.0, 369.0, 372.0, 375.0, 378.0, 381.0, 384.0, 387.0, 390.0, 393.0, 396.0, 399.0, 402.0, 405.0, 408.0, 411.0, 414.0, 417.0, 420.0, 423.0, 426.0, 429.0, 432.0, 435.0, 438.0, 441.0, 444.0, 447.0, 450.0, 453.0, 456.0, 459.0, 462.0, 465.0, 468.0, 471.0, 474.0, 477.0, 480.0, 483.0, 486.0, 489.0, 492.0, 495.0, 498.0, 501.0, 504.0, 507.0, 510.0, 513.0, 516.0, 519.0, 522.0, 525.0, 528.0, 531.0, 534.0, 537.0, 540.0, 543.0, 546.0, 549.0, 552.0, 555.0, 558.0, 561.0, 564.0, 567.0, 570.0, 573.0, 576.0, 579.0, 582.0, 585.0, 588.0, 591.0, 594.0, 597.0, 600.0, 603.0, 606.0, 609.0, 612.0, 615.0, 618.0, 621.0, 624.0, 627.0, 630.0, 633.0, 636.0, 639.0, 642.0, 645.0, 648.0, 651.0, 654.0, 657.0, 660.0, 663.0, 666.0, 669.0, 672.0, 675.0, 678.0, 681.0, 684.0, 687.0, 690.0, 693.0, 696.0, 699.0, 702.0, 705.0, 708.0, 711.0, 714.0, 717.0, 720.0, 723.0, 726.0, 729.0, 732.0, 735.0, 738.0, 741.0, 744.0, 747.0, 750.0, 753.0, 756.0, 759.0, 762.0, 765.0, 768.0, 771.0, 774.0, 777.0, 780.0, 783.0, 786.0, 789.0, 792.0, 795.0, 798.0, 801.0, 804.0, 807.0, 810.0, 813.0, 816.0, 819.0, 822.0, 825.0, 828.0, 831.0, 834.0, 837.0, 840.0, 843.0, 846.0, 849.0, 852.0, 855.0, 858.0, 861.0, 864.0, 867.0, 870.0, 873.0, 876.0, 879.0, 882.0, 885.0, 888.0, 891.0, 894.0, 897.0, 900.0, 903.0, 906.0, 909.0, 912.0, 915.0, 918.0, 921.0, 924.0, 927.0, 930.0, 933.0, 936.0, 939.0, 942.0, 945.0, 948.0, 951.0, 954.0, 957.0, 960.0, 963.0, 966.0, 969.0, 972.0, 975.0, 978.0, 981.0, 984.0, 987.0, 990.0, 993.0, 996.0, 999.0, 1002.0, 1005.0, 1008.0, 1011.0, 1014.0, 1017.0, 1020.0, 1023.0, 1026.0, 1029.0, 1032.0, 1035.0, 1038.0, 1041.0, 1044.0, 1047.0, 1050.0, 1053.0, 1056.0, 1059.0, 1062.0, 1065.0, 1068.0, 1071.0, 1074.0, 1077.0, 1080.0, 1083.0, 1086.0, 1089.0, 1092.0, 1095.0, 1098.0, 1101.0, 1104.0, 1107.0, 1110.0, 1113.0, 1116.0, 1119.0, 1122.0, 1125.0, 1128.0, 1131.0, 1134.0, 1137.0, 1140.0, 1143.0, 1146.0, 1149.0, 1152.0, 1155.0, 1158.0, 1161.0, 1164.0, 1167.0, 1170.0, 1173.0, 1176.0, 1179.0, 1182.0, 1185.0, 1188.0, 1191.0, 1194.0, 1197.0, 1200.0, 1203.0, 1206.0, 1209.0, 1212.0, 1215.0, 1218.0, 1221.0, 1224.0, 1227.0, 1230.0, 1233.0, 1236.0, 1239.0, 1242.0, 1245.0, 1248.0, 1251.0, 1254.0, 1257.0, 1260.0, 1263.0, 1266.0, 1269.0, 1272.0, 1275.0, 1278.0, 1281.0, 1284.0, 1287.0, 1290.0, 1293.0, 1296.0, 1299.0, 1302.0, 1305.0, 1308.0, 1311.0, 1314.0, 1317.0, 1320.0, 1323.0, 1326.0, 1329.0, 1332.0, 1335.0, 1338.0, 1341.0, 1344.0, 1347.0, 1350.0, 1353.0, 1356.0, 1359.0, 1362.0, 1365.0, 1368.0, 1371.0, 1374.0, 1377.0, 1380.0, 1383.0, 1386.0, 1389.0, 1392.0, 1395.0, 1398.0, 1401.0, 1404.0, 1407.0, 1410.0, 1413.0, 1416.0, 1419.0, 1422.0, 1425.0, 1428.0, 1431.0, 1434.0, 1437.0, 1440.0, 1443.0, 1446.0, 1449.0, 1452.0, 1455.0, 1458.0, 1461.0, 1464.0, 1467.0, 1470.0, 1473.0, 1476.0, 1479.0, 1482.0, 1485.0, 1488.0, 1491.0, 1494.0, 1497.0, 1500.0, 1503.0, 1506.0, 1509.0, 1512.0, 1515.0, 1518.0, 1521.0, 1524.0, 1527.0, 1530.0, 1533.0, 1536.0, 1539.0, 1542.0, 1545.0, 1548.0, 1551.0, 1554.0, 1557.0, 1560.0, 1563.0, 1566.0, 1569.0, 1572.0, 1575.0, 1578.0, 1581.0, 1584.0, 1587.0, 1590.0, 1593.0, 1596.0, 1599.0, 1602.0, 1605.0, 1608.0, 1611.0, 1614.0, 1617.0, 1620.0, 1623.0, 1626.0, 1629.0, 1632.0, 1635.0, 1638.0, 1641.0, 1644.0, 1647.0, 1650.0, 1653.0, 1656.0, 1659.0, 1662.0, 1665.0, 1668.0, 1671.0, 1674.0, 1677.0, 1680.0, 1683.0, 1686.0, 1689.0, 1692.0, 1695.0, 1698.0, 1701.0, 1704.0, 1707.0, 1710.0, 1713.0, 1716.0, 1719.0, 1722.0, 1725.0, 1728.0, 1731.0, 1734.0, 1737.0, 1740.0, 1743.0, 1746.0, 1749.0, 1752.0, 1755.0, 1758.0, 1761.0, 1764.0, 1767.0, 1770.0, 1773.0, 1776.0, 1779.0, 1782.0, 1785.0, 1788.0, 1791.0, 1794.0, 1797.0, 1800.0, 1803.0, 1806.0, 1809.0, 1812.0, 1815.0, 1818.0, 1821.0, 1824.0, 1827.0, 1830.0, 1833.0, 1836.0, 1839.0, 1842.0, 1845.0, 1848.0, 1851.0, 1854.0, 1857.0, 1860.0, 1863.0, 1866.0, 1869.0, 1872.0, 1875.0, 1878.0, 1881.0, 1884.0, 1887.0, 1890.0, 1893.0, 1896.0, 1899.0, 1902.0, 1905.0, 1908.0, 1911.0, 1914.0, 1917.0, 1920.0, 1923.0, 1926.0, 1929.0, 1932.0, 1935.0, 1938.0, 1941.0, 1944.0, 1947.0, 1950.0, 1953.0, 1956.0, 1959.0, 1962.0, 1965.0, 1968.0, 1971.0, 1974.0, 1977.0, 1980.0, 1983.0, 1986.0, 1989.0, 1992.0, 1995.0, 1998.0, 2001.0, 2004.0, 2007.0, 2010.0, 2013.0, 2016.0, 2019.0, 2022.0, 2025.0, 2028.0, 2031.0, 2034.0, 2037.0, 2040.0, 2043.0, 2046.0, 2049.0, 2052.0, 2055.0, 2058.0, 2061.0, 2064.0, 2067.0, 2070.0, 2073.0, 2076.0, 2079.0, 2082.0, 2085.0, 2088.0, 2091.0, 2094.0, 2097.0, 2100.0, 2103.0, 2106.0, 2109.0, 2112.0, 2115.0, 2118.0, 2121.0, 2124.0, 2127.0, 2130.0, 2133.0, 2136.0, 2139.0, 2142.0, 2145.0, 2148.0, 2151.0, 2154.0, 2157.0, 2160.0, 2163.0, 2166.0, 2169.0, 2172.0, 2175.0, 2178.0, 2181.0, 2184.0, 2187.0, 2190.0, 2193.0, 2196.0, 2199.0, 2202.0, 2205.0, 2208.0, 2211.0, 2214.0, 2217.0, 2220.0, 2223.0, 2226.0, 2229.0, 2232.0, 2235.0, 2238.0, 2241.0, 2244.0, 2247.0, 2250.0, 2253.0, 2256.0, 2259.0, 2262.0, 2265.0, 2268.0, 2271.0, 2274.0, 2277.0, 2280.0, 2283.0, 2286.0, 2289.0, 2292.0, 2295.0, 2298.0, 2301.0, 2304.0, 2307.0, 2310.0, 2313.0, 2316.0, 2319.0, 2322.0, 2325.0, 2328.0, 2331.0, 2334.0, 2337.0, 2340.0, 2343.0, 2346.0, 2349.0, 2352.0, 2355.0, 2358.0, 2361.0, 2364.0, 2367.0, 2370.0, 2373.0, 2376.0, 2379.0, 2382.0, 2385.0, 2388.0, 2391.0, 2394.0, 2397.0, 2400.0, 2403.0, 2406.0, 2409.0, 2412.0, 2415.0, 2418.0, 2421.0, 2424.0, 2427.0, 2430.0, 2433.0, 2436.0, 2439.0, 2442.0, 2445.0, 2448.0, 2451.0, 2454.0, 2457.0, 2460.0, 2463.0, 2466.0, 2469.0, 2472.0, 2475.0, 2478.0, 2481.0, 2484.0, 2487.0, 2490.0, 2493.0, 2496.0, 2499.0, 2502.0, 2505.0, 2508.0, 2511.0, 2514.0, 2517.0, 2520.0, 2523.0, 2526.0, 2529.0, 2532.0, 2535.0, 2538.0, 2541.0, 2544.0, 2547.0, 2550.0, 2553.0, 2556.0, 2559.0, 2562.0, 2565.0, 2568.0, 2571.0, 2574.0, 2577.0, 2580.0, 2583.0, 2586.0, 2589.0, 2592.0, 2595.0, 2598.0, 2601.0, 2604.0, 2607.0, 2610.0, 2613.0, 2616.0, 2619.0, 2622.0, 2625.0, 2628.0, 2631.0, 2634.0, 2637.0, 2640.0, 2643.0, 2646.0, 2649.0, 2652.0, 2655.0, 2658.0, 2661.0, 2664.0, 2667.0, 2670.0, 2673.0, 2676.0, 2679.0, 2682.0, 2685.0, 2688.0, 2691.0, 2694.0, 2697.0, 2700.0, 2703.0, 2706.0, 2709.0, 2712.0, 2715.0, 2718.0, 2721.0, 2724.0, 2727.0, 2730.0, 2733.0, 2736.0, 2739.0, 2742.0, 2745.0, 2748.0, 2751.0, 2754.0, 2757.0, 2760.0, 2763.0, 2766.0, 2769.0, 2772.0, 2775.0, 2778.0, 2781.0, 2784.0, 2787.0, 2790.0, 2793.0, 2796.0, 2799.0, 2802.0, 2805.0, 2808.0, 2811.0, 2814.0, 2817.0, 2820.0, 2823.0, 2826.0, 2829.0, 2832.0, 2835.0, 2838.0, 2841.0, 2844.0, 2847.0, 2850.0, 2853.0, 2856.0, 2859.0, 2862.0, 2865.0, 2868.0, 2871.0, 2874.0, 2877.0, 2880.0, 2883.0, 2886.0, 2889.0, 2892.0, 2895.0, 2898.0, 2901.0, 2904.0, 2907.0, 2910.0, 2913.0, 2916.0, 2919.0, 2922.0, 2925.0, 2928.0, 2931.0, 2934.0, 2937.0, 2940.0, 2943.0, 2946.0, 2949.0, 2952.0, 2955.0, 2958.0, 2961.0, 2964.0, 2967.0, 2970.0, 2973.0, 2976.0, 2979.0, 2982.0, 2985.0, 2988.0, 2991.0, 2994.0, 2997.0, 3000.0], \"y\": [0.0, 1.8848439432681582e-10, 3.769018153912863e-10, 5.651853193808792e-10, 7.532680100631612e-10, 9.41083062553711e-10, 1.1285637470586825e-09, 1.3156434525835827e-09, 1.5022557105998408e-09, 1.68833421866076e-09, 1.8738128639584613e-09, 2.058625746813449e-09, 2.242707204088453e-09, 2.42599183251823e-09, 2.6084145119470303e-09, 2.78991042846548e-09, 2.9704150974386533e-09, 3.1498643864171594e-09, 3.328194537923094e-09, 3.505342192102766e-09, 3.6812444092381567e-09, 3.855838692109097e-09, 4.029063008198232e-09, 4.200855811730886e-09, 4.3711560655419735e-09, 4.539903262762223e-09, 4.70703744831597e-09, 4.872499240222916e-09, 5.036229850696266e-09, 5.198171107029738e-09, 5.358265472266061e-09, 5.5164560656395735e-09, 5.672686682785696e-09, 5.826901815710064e-09, 5.979046672510264e-09, 6.129067196843133e-09, 6.276910087130713e-09, 6.422522815498059e-09, 6.565853646436132e-09, 6.706851655183189e-09, 6.845466745818098e-09, 6.9816496690591935e-09, 7.115352039762293e-09, 7.24652635411173e-09, 7.375126006498218e-09, 7.501105306077605e-09, 7.624419493004617e-09, 7.74502475433581e-09, 7.862878239596117e-09, 7.977938076003393e-09, 8.090163383345636e-09, 8.19951428850552e-09, 8.305951939627129e-09, 8.409438519919838e-09, 8.509937261094428e-09, 8.607412456426701e-09, 8.701829473443892e-09, 8.793154766229434e-09, 8.881355887341656e-09, 8.96640149934221e-09, 9.048261385930103e-09, 9.126906462677418e-09, 9.202308787362863e-09, 9.27444156989952e-09, 9.343279181853215e-09, 9.408797165548204e-09, 9.470972242756852e-09, 9.529782322970278e-09, 9.585206511247017e-09, 9.63722511563688e-09, 9.685819654177422e-09, 9.73097286146049e-09, 9.772668694766535e-09, 9.810892339764526e-09, 9.8456302157754e-09, 9.876869980597221e-09, 9.904600534890298e-09, 9.928812026120735e-09, 9.94949585206098e-09, 9.96664466384617e-09, 9.980252368585131e-09, 9.990314131525165e-09, 9.99682637776981e-09, 9.999786793548984e-09, 9.999194327041057e-09, 9.99504918874656e-09, 9.987352851413388e-09, 9.976108049513552e-09, 9.961318778271623e-09, 9.94299029224525e-09, 9.921129103458248e-09, 9.895742979086898e-09, 9.86684093870031e-09, 9.834433251055814e-09, 9.798531430450515e-09, 9.759148232630327e-09, 9.716297650257904e-09, 9.669994907941126e-09, 9.620256456823864e-09, 9.567099968740965e-09, 9.510544329939531e-09, 9.450609634368733e-09, 9.387317176540524e-09, 9.320689443963792e-09, 9.25075010915467e-09, 9.17752402122579e-09, 9.101037197057515e-09, 9.021316812054277e-09, 8.938391190489267e-09, 8.852289795440966e-09, 8.763043218325058e-09, 8.670683168025425e-09, 8.575242459628162e-09, 8.47675500276251e-09, 8.375255789552933e-09, 8.270780882186583e-09, 8.163367400100582e-09, 8.053053506793648e-09, 7.939878396266801e-09, 7.823882279097922e-09, 7.705106368155103e-09, 7.583592863953938e-09, 7.459384939663876e-09, 7.332526725768978e-09, 7.2030632943886e-09, 7.071040643263445e-09, 6.936505679412824e-09, 6.79950620246879e-09, 6.660090887693157e-09, 6.5183092686834244e-09, 6.374211719773721e-09, 6.227849438137032e-09, 6.079274425595101e-09, 5.928539470142433e-09, 5.775698127190951e-09, 5.620804700542042e-09, 5.46391422309264e-09, 5.30508243728234e-09, 5.144365775288342e-09, 4.981821338975378e-09, 4.817506879607698e-09, 4.651480777330316e-09, 4.483802020426812e-09, 4.314530184361095e-09, 4.143725410610515e-09, 3.9714483852978716e-09, 3.7977603176299444e-09, 3.6227229181501444e-09, 3.446398376813037e-09, 3.2688493408885784e-09, 3.090138892703803e-09, 2.9103305272300036e-09, 2.7294881295232607e-09, 2.547675952026367e-09, 2.364958591740273e-09, 2.1814009672730613e-09, 1.997068295774665e-09, 1.8120260697655514e-09, 1.626340033867525e-09, 1.4400761614449666e-09, 1.2533006311648383e-09, 1.0660798034836867e-09, 8.784801970701179e-10, 6.90568465171017e-10, 5.024113719299555e-10, 3.1407576866623427e-10, 1.2562857012291508e-10, -6.28632693076816e-11, -2.5133277937252775e-10, -4.3971299775211244e-10, -6.279369938518488e-10, -8.159378925821689e-10, -1.0036488981189377e-09, -1.1910033176357044e-09, -1.3779345849993164e-09, -1.564376284420583e-09, -1.7502621740514594e-09, -1.935526209520473e-09, -2.120102567397987e-09, -2.303925668582924e-09, -2.486930201602725e-09, -2.6690511458182144e-09, -2.8502237945250976e-09, -3.0303837779439598e-09, -3.2094670860905535e-09, -3.387410091518216e-09, -3.564149571924412e-09, -3.7396227326133265e-09, -3.9137672288064934e-09, -4.086521187793635e-09, -4.2578232309157065e-09, -4.427612495372456e-09, -4.595828655846705e-09, -4.762411945937609e-09, -4.927303179395404e-09, -5.0904437711499995e-09, -5.251775758125952e-09, -5.4112418198364865e-09, -5.5687852987492015e-09, -5.724350220416197e-09, -5.877881313361548e-09, -6.0293240287189834e-09, -6.178624559612848e-09, -6.325729860275435e-09, -6.470587664893872e-09, -6.613146506179933e-09, -6.7533557336561265e-09, -6.8911655316515484e-09, -7.026526937001167e-09, -7.159391856442206e-09, -7.289713083701436e-09, -7.41744431626735e-09, -7.54254017184123e-09, -7.664956204461244e-09, -7.784648920293906e-09, -7.901575793087203e-09, -8.015695279279997e-09, -8.126966832762243e-09, -8.235350919280809e-09, -8.34080903048585e-09, -8.443303697612592e-09, -8.542798504793863e-09, -8.639258101998414e-09, -8.73264821759067e-09, -8.822935670507243e-09, -8.910088382046032e-09, -8.994075387263601e-09, -9.07486684597693e-09, -9.152434053365419e-09, -9.226749450169642e-09, -9.297786632482967e-09, -9.36552036113277e-09, -9.429926570647786e-09, -9.490982377808455e-09, -9.548666089777212e-09, -9.602957211805864e-09, -9.653836454517268e-09, -9.701285740758751e-09, -9.745288212024855e-09, -9.785828234447059e-09, -9.82289140434843e-09, -9.856464553361186e-09, -9.88653575310534e-09, -9.913094319426814e-09, -9.936130816193454e-09, -9.955637058647653e-09, -9.971606116314344e-09, -9.98403231546338e-09, -9.992911241125367e-09, -9.9982397386603e-09, -1.0000015914878376e-08, -9.99823913871264e-09, -9.992910041443205e-09, -9.984030516472955e-09, -9.97160371865483e-09, -9.955634063170924e-09, -9.93612722396379e-09, -9.913090131720508e-09, -9.886530971410268e-09, -9.856459179376255e-09, -9.822885439982994e-09, -9.78582168182022e-09, -9.745281073464728e-09, -9.701278018801628e-09, -9.653828151906716e-09, -9.602948331491764e-09, -9.548656634914688e-09, -9.490972351756769e-09, -9.429915976969141e-09, -9.365509203591043e-09, -9.297774915042373e-09, -9.226737176993324e-09, -9.152421228813976e-09, -9.074853474606849e-09, -8.994061473825665e-09, -8.9100739314836e-09, -8.822920687954542e-09, -8.732632708370906e-09, -8.639242071621938e-09, -8.542781958956172e-09, -8.443286642192344e-09, -8.34079147154273e-09, -8.235332863053433e-09, -8.126948285665877e-09, -8.015676247904337e-09, -7.901556284193984e-09, -7.78462894081454e-09, -7.664935761494333e-09, -7.54251927265005e-09, -7.4174229682772665e-09, -7.289691294497276e-09, -7.159369633765557e-09, -7.026504288747628e-09, -6.8911424658679225e-09, -6.753332258537563e-09, -6.613122630067009e-09, -6.470563396269646e-09, -6.325705207762414e-09, -6.17859953196995e-09, -6.029298634838377e-09, -5.877855562265549e-09, -5.724324121254028e-09, -5.568758860793757e-09, -5.411215052481021e-09, -5.251748670880773e-09, -5.090416373639049e-09, -4.927275481352877e-09, -4.762383957204454e-09, -4.5958003863671796e-09, -4.427583955190554e-09, -4.257794430171591e-09, -4.086492136720052e-09, -3.913737937725136e-09, -3.739593211931145e-09, -3.564119832129954e-09, -3.387380143177864e-09, -3.2094369398447908e-09, -3.0303534445035745e-09, -2.850193284667398e-09, -2.66902047038318e-09, -2.486899371489186e-09, -2.3038946947446273e-09, -2.120071460839778e-09, -1.9354949812943323e-09, -1.7502308352526056e-09, -1.5643448461835126e-09, -1.3779030584938776e-09, -1.190971714063067e-09, -1.0036172287076872e-09, -8.159061685842567e-10, -6.279052265386468e-10, -4.396811984103597e-10, -2.5130095930036483e-10, -6.283143981058754e-11, 1.256603977360908e-10, 3.1410758308733396e-10, 5.024431618554825e-10, 6.906002193061913e-10, 8.785119041328804e-10, 1.0661114522087035e-09, 1.253332210307489e-09, 1.4401076597853762e-09, 1.626371440214501e-09, 1.8120573729606036e-09, 1.9970994846959447e-09, 2.1814320308393333e-09, 2.3649895189148284e-09, 2.547706731820966e-09, 2.7295187510020027e-09, 2.9103609795132787e-09, 3.090169164972079e-09, 3.268879422386307e-09, 3.446428256852435e-09, 3.622752586115014e-09, 3.797789762979422e-09, 3.971477597570212e-09, 4.143754379426765e-09, 4.31455889942882e-09, 4.483830471543709e-09, 4.651508954387877e-09, 4.817534772594788e-09, 4.981848937981793e-09, 5.144393070508317e-09, 5.3051094190180605e-09, 5.463940881757653e-09, 5.620831026664688e-09, 5.7757241114177275e-09, 5.928565103241311e-09, 6.0792996984587985e-09, 6.2278743417862645e-09, 6.374236245360375e-09, 6.518333407493719e-09, 6.660114631150724e-09, 6.799529542137742e-09, 6.9365286070007254e-09, 7.071063150624278e-09, 7.203085373525636e-09, 7.332548368837665e-09, 7.459406138974568e-09, 7.58361361197467e-09, 7.70512665751424e-09, 7.8239021025868e-09, 7.939897746842266e-09, 8.053072377580586e-09, 8.163385784394332e-09, 8.270798773455346e-09, 8.375273181440064e-09, 8.476771889088802e-09, 8.57525883439403e-09, 8.670699025413042e-09, 8.76305855270041e-09, 8.852304601355885e-09, 8.938405462683319e-09, 9.021330545456665e-09, 9.101050386788881e-09, 9.177536662599931e-09, 9.250762197680217e-09, 9.320700975345801e-09, 9.387328146681991e-09, 9.450620039372076e-09, 9.510554166107949e-09, 9.56710923257977e-09, 9.620265145041708e-09, 9.670003017451179e-09, 9.716305178178941e-09, 9.759155176287772e-09, 9.798537787377372e-09, 9.834439018993549e-09, 9.866846115599656e-09, 9.89574756310858e-09, 9.921133092973636e-09, 9.942993685836947e-09, 9.961321574733956e-09, 9.976110247853004e-09, 9.987354450848955e-09, 9.995050188710029e-09, 9.9991947271772e-09, 9.999786593715689e-09, 9.996825578038134e-09, 9.990312732179309e-09, 9.98025037012233e-09, 9.966642066976527e-09, 9.949492657707208e-09, 9.928808235417828e-09, 9.90459614918514e-09, 9.876865001448087e-09, 9.84562464495142e-09, 9.810886179245045e-09, 9.772661946740415e-09, 9.730965528325336e-09, 9.685811738538721e-09, 9.63721662030708e-09, 9.585197439244535e-09, 9.52977267751841e-09, 9.470962027282644e-09, 9.408786383681232e-09, 9.343267837424282e-09, 9.27442966693931e-09, 9.202296330100509e-09, 9.126893455538991e-09, 9.048247833537044e-09, 8.966387406509677e-09, 8.88134125907683e-09, 8.793139607729741e-09, 8.70181379009513e-09, 8.607396253801157e-09, 8.509920544948883e-09, 8.409421296193533e-09, 8.305934214439634e-09, 8.199496068154571e-09, 8.09014467430491e-09, 7.977918884920209e-09, 7.862858573289021e-09, 7.74500461979222e-09, 7.624398897378305e-09, 7.50108425668618e-09, 7.37510451082049e-09, 7.246504419785079e-09, 7.115329674579949e-09, 6.9816268809674834e-09, 6.845443542913582e-09, 6.7068280457098185e-09, 6.565829638782324e-09, 6.422498418193692e-09, 6.276885308844093e-09, 6.129042046377937e-09, 5.979021158802409e-09, 5.826875947824534e-09, 5.672660469913288e-09, 5.51642951709367e-09, 5.358238597479306e-09, 5.198143915550708e-09, 5.036202352186022e-09, 4.872471444451624e-09, 4.707009365159426e-09, 4.539874902198315e-09, 4.371127437647135e-09, 4.2008269266765476e-09, 4.029033876247194e-09, 3.855809323611896e-09, 3.681214814629342e-09, 3.505312381897239e-09, 3.328164522712356e-09, 3.1498341768655683e-09, 2.9703847042795803e-09, 2.7898798624975665e-09, 2.6083837840302828e-09, 2.425960953570228e-09, 2.2426761850804026e-09, 2.0585945987663365e-09, 1.8737815979391207e-09, 1.6883028457779578e-09, 1.5022242420002775e-09, 1.3156118994479839e-09, 1.1285321205978094e-09, 9.410513740043949e-10, 7.53236270684276e-10, 5.65153540449341e-10, 3.7687000819808175e-10, 1.884525701729912e-10, -3.1829807407691354e-14, -1.8851622413327465e-10, -3.769336451967962e-10, -5.652171491854225e-10, -7.532998398667558e-10, -9.411148923563569e-10, -1.1285955768603793e-09, -1.3156752823842952e-09, -1.5022875403996045e-09, -1.6883660484595749e-09, -1.873844693756327e-09, -2.0586575766103487e-09, -2.242739033884404e-09, -2.4260236623132317e-09, -2.608446341741082e-09, -2.7899422582585653e-09, -2.9704469272307895e-09, -3.149896216208347e-09, -3.3282263677133154e-09, -3.5053740218920226e-09, -3.6812762390264636e-09, -3.8558705218964535e-09, -4.02909483798464e-09, -4.200887641516328e-09, -4.371187895326468e-09, -4.539935092545766e-09, -4.707069278098564e-09, -4.872531070004546e-09, -5.036261680476946e-09, -5.1982029368094535e-09, -5.358297302044826e-09, -5.516487895417374e-09, -5.672718512562546e-09, -5.826933645485964e-09, -5.979078502285214e-09, -6.129099026617119e-09, -6.276941916903749e-09, -6.422554645270143e-09, -6.565885476207268e-09, -6.70688348495336e-09, -6.845498575587307e-09, -6.98168149882745e-09, -7.1153838695296e-09, -7.246558183878075e-09, -7.375157836263611e-09, -7.501137135842046e-09, -7.624451322768108e-09, -7.74505658409834e-09, -7.862910069357697e-09, -7.97796990576402e-09, -8.090195213105311e-09, -8.199546118264222e-09, -8.30598376938488e-09, -8.409470349676638e-09, -8.509969090850277e-09, -8.607444286181589e-09, -8.701861303197827e-09, -8.793186595982417e-09, -8.881387717093689e-09, -8.96643332909328e-09, -9.048293215680223e-09, -9.126938292426584e-09, -9.202340617111078e-09, -9.274473399646767e-09, -9.34331101159951e-09, -9.408828995293546e-09, -9.47100407250124e-09, -9.529814152713708e-09, -9.585238340989495e-09, -9.637256945378405e-09, -9.685851483917995e-09, -9.731004691200103e-09, -9.772700524505196e-09, -9.810924169502231e-09, -9.84566204551215e-09, -9.876901810333014e-09, -9.904632364625135e-09, -9.928843855854619e-09, -9.949527681793912e-09, -9.966676493578146e-09, -9.980284198316152e-09, -9.99034596125523e-09, -9.996858207498921e-09, -9.999818623277139e-09, -9.999226156768257e-09, -9.995081018472806e-09, -9.987384681138678e-09, -9.976139879237888e-09, -9.961350607995003e-09, -9.943022121967676e-09, -9.921160933179718e-09, -9.895774808807415e-09, -9.866872768419871e-09, -9.834465080774418e-09, -9.798563260168165e-09, -9.75918006234702e-09, -9.716329479973648e-09, -9.670026737655914e-09, -9.620288286537695e-09, -9.567131798453843e-09, -9.510576159651455e-09, -9.4506414640797e-09, -9.387349006250534e-09, -9.320721273672853e-09, -9.250781938862773e-09, -9.177555850932935e-09, -9.101069026763704e-09, -9.021348641759522e-09, -8.938423020193556e-09, -8.852321625144296e-09, -8.763075048027426e-09, -8.670714997726847e-09, -8.575274289328628e-09, -8.476786832462017e-09, -8.375287619251482e-09, -8.270812711884183e-09, -8.163399229797224e-09, -8.05308533648933e-09, -7.93991022596154e-09, -7.82391410879171e-09, -7.70513819784793e-09, -7.58362469364581e-09, -7.459416769354788e-09, -7.332558555458945e-09, -7.203095124077604e-09, -7.071072472951492e-09, -6.936537509099911e-09, -6.799538032154929e-09, -6.6601227173783376e-09, -6.51834109836766e-09, -6.374243549456996e-09, -6.22788126781936e-09, -6.079306255276473e-09, -5.928571299822842e-09, -5.775729956870402e-09, -5.620836530220545e-09, -5.463946052770186e-09, -5.305114266958925e-09, -5.144397604963967e-09, -4.981853168650058e-09, -4.817538709281435e-09, -4.651512607003091e-09, -4.483833850098628e-09, -4.314562014031968e-09, -4.143757240280425e-09, -3.971480214966823e-09, -3.797792147297936e-09, -3.6227547478171903e-09, -3.446430206479124e-09, -3.268881170553702e-09, -3.090170722367967e-09, -2.9103623568932263e-09, -2.729519959185537e-09, -2.5477077816876843e-09, -2.3649904214006305e-09, -2.1814327969324723e-09, -1.9971001254331172e-09, -1.8120578994230442e-09, -1.6263718635240544e-09, -1.4401079911005537e-09, -1.2533324608194618e-09, -1.066111633137351e-09, -8.785120267228226e-10, -6.906002948227936e-10, -5.024432015807727e-10, -3.14107598316092e-10, -1.2566039977180918e-10, 6.283143965972905e-11, 2.5130094972553454e-10, 4.39681168106083e-10, 6.279051642067788e-10, 8.159060629380403e-10, 1.0036170684757728e-09, 1.190971487993499e-09, 1.3779027553580569e-09, 1.564344454780265e-09, 1.7502303444121007e-09, 1.935494379882078e-09, 2.1200707377605513e-09, 2.30389383894643e-09, 2.486898371967195e-09, 2.6690193161836437e-09, 2.8501919648914855e-09, 3.0303519483112936e-09, 3.2094352564588464e-09, 3.3873782618874517e-09, 3.5641177422946108e-09, 3.739590902984467e-09, 3.9137353991785984e-09, 4.086489358166699e-09, 4.257791401289729e-09, 4.4275806657474264e-09, 4.595796826222633e-09, 4.762380116314496e-09, 4.927271349773255e-09, 5.090411941528792e-09, 5.251743928505688e-09, 5.411209990217186e-09, 5.5687534691308604e-09, 5.724318390798802e-09, 5.877849483745112e-09, 6.029292199103506e-09, 6.178592729998334e-09, 6.3256980306618635e-09, 6.470555835281259e-09, 6.613114676568282e-09, 6.7533239040454335e-09, 6.8911337020417885e-09, 7.026495107392368e-09, 7.159360026834365e-09, 7.2896812540945535e-09, 7.417412486661415e-09, 7.542508342236255e-09, 7.664924374857227e-09, 7.784617090690845e-09, 7.901543963485092e-09, 8.015663449678845e-09, 8.126935003162046e-09, 8.235319089681562e-09, 8.340777200887548e-09, 8.443271868015256e-09, 8.542766675197482e-09, 8.639226272402991e-09, 8.732616387996193e-09, 8.822903840913726e-09, 8.910056552453468e-09, 8.994043557672e-09, 9.074835016386276e-09, 9.152402223775727e-09, 9.226717620580904e-09, 9.297754802895178e-09, 9.365488531545934e-09, 9.429894741061908e-09, 9.490950548223532e-09, 9.548634260193244e-09, 9.602925382222847e-09, 9.653804624935208e-09, 9.70125391117765e-09, 9.74525638244471e-09, 9.785796404867866e-09, 9.822859574770195e-09, 9.8564327237839e-09, 9.88650392352901e-09, 9.913062489851438e-09, 9.936098986619036e-09, 9.95560522907419e-09, 9.971574286741836e-09, 9.984000485891826e-09, 9.992879411554769e-09, 9.998207909090658e-09, 9.999984085309688e-09, 9.998207309144905e-09, 9.992878211876426e-09, 9.98399868690713e-09, 9.97157188908996e-09, 9.95560223360701e-09, 9.93609539440083e-09, 9.913058302158506e-09, 9.886499141849218e-09, 9.856427349816163e-09, 9.822853610423851e-09, 9.785789852262034e-09, 9.745249243907495e-09, 9.70124618924536e-09, 9.653796322351399e-09, 9.602916501937397e-09, 9.548624805361275e-09, 9.490940522204315e-09, 9.429884147417642e-09, 9.365477374040498e-09, 9.29774308549278e-09, 9.22670534744469e-09, 9.152389399266294e-09, 9.074821645060119e-09, 8.994029644279895e-09, 8.910042101938794e-09, 8.82288885841068e-09, 8.732600878828001e-09, 8.639210242079981e-09, 8.542750129415182e-09, 8.443254812652302e-09, 8.340759642003644e-09, 8.235301033515293e-09, 8.126916456128702e-09, 8.015644418368111e-09, 7.901524454658724e-09, 7.784597111280228e-09, 7.664903931960984e-09, 7.542487443117649e-09, 7.41739113874582e-09, 7.2896594649667794e-09, 7.159337804236026e-09, 7.026472459219049e-09, 6.89111063634029e-09, 6.75330042901088e-09, 6.613090800541294e-09, 6.470531566744892e-09, 6.325673378238614e-09, 6.178567702447093e-09, 6.029266805316488e-09, 5.87782373274461e-09, 5.7242922917340414e-09, 5.568727031274718e-09, 5.4111832229629525e-09, 5.251716841363645e-09, 5.090384544122875e-09, 4.927243651837649e-09, 4.762352127690214e-09, 4.5957685568538855e-09, 4.427552125678207e-09, 4.2577626006601914e-09, 4.086460307209622e-09, 3.913706108215654e-09, 3.739561382422617e-09, 3.564088002622373e-09, 3.387348313671246e-09, 3.20940511033912e-09, 3.0303216149988583e-09, 2.8501614551636283e-09, 2.6689886408803994e-09, 2.486867541987343e-09, 2.3038628652437393e-09, 2.1200396313398364e-09, 1.9354631517953625e-09, 1.750199005754582e-09, 1.5643130166864439e-09, 1.3778712289977464e-09, 1.190939884567908e-09, 1.003585399213474e-09, 8.158743390909988e-10, 6.278733970463526e-10, 4.3964936891903817e-10, 2.512691298099804e-10, 6.279961032115804e-11, -1.256922272245743e-10, -3.141394125748449e-10, -5.024749913420474e-10, -6.906320487918102e-10, -8.785437336175533e-10, -1.0661432816924036e-09, -1.2533640397902434e-09, -1.4401394892671578e-09, -1.626403269695337e-09, -1.8120892024404757e-09, -1.9971313141748703e-09, -2.1814638603173043e-09, -2.365021348391853e-09, -2.5477385612970183e-09, -2.7295505804771174e-09, -2.910392808987421e-09, -3.090200994445293e-09, -3.2689112518585487e-09, -3.4464600863237135e-09, -3.622784415585321e-09, -3.797821592448808e-09, -3.971509427038627e-09, -4.143786208894248e-09, -4.314590728895332e-09, -4.483862301009259e-09, -4.651540783852496e-09, -4.817566602058444e-09, -4.981880767444477e-09, -5.1444248999700695e-09, -5.305141248478843e-09, -5.463972711217474e-09, -5.620862856123546e-09, -5.775755940875653e-09, -5.928596932698268e-09, -6.07933152791482e-09, -6.227906171241318e-09, -6.374268074814466e-09, -6.518365236946849e-09, -6.66014646060292e-09, -6.7995613715889694e-09, -6.936560436451017e-09, -7.0710949800736034e-09, -7.203117202974031e-09, -7.33258019828507e-09, -7.459437968421035e-09, -7.583645441420172e-09, -7.705158486958779e-09, -7.823933932030399e-09, -7.939929576284908e-09, -8.053104207022283e-09, -8.16341761383507e-09, -8.270830602895118e-09, -8.375305010878876e-09, -8.476803718526674e-09, -8.575290663830943e-09, -8.670730854849009e-09, -8.76309038213542e-09, -8.852336430789929e-09, -8.93843729211642e-09, -9.021362374888793e-09, -9.101082216220063e-09, -9.177568492030154e-09, -9.250794027109495e-09, -9.320732804774116e-09, -9.387359976109363e-09, -9.45065186879849e-09, -9.510585995533417e-09, -9.567141062004267e-09, -9.620296974465245e-09, -9.670034846873767e-09, -9.716337007600576e-09, -9.759187005708456e-09, -9.798569616797099e-09, -9.834470848412324e-09, -9.866877945017474e-09, -9.895779392525441e-09, -9.921164922389544e-09, -9.9430255152519e-09, -9.961353404147951e-09, -9.976142077266046e-09, -9.987386280261045e-09, -9.995082018121159e-09, -9.999226556587376e-09, -9.999818423124911e-09, -9.996857407446402e-09, -9.990344561586624e-09, -9.980282199528689e-09, -9.96667389638193e-09, -9.949524487111655e-09, -9.928840064821323e-09, -9.904627978587681e-09, -9.876896830849674e-09, -9.845656474352053e-09, -9.810918008644719e-09, -9.772693776139139e-09, -9.730997357723097e-09, -9.685843567935533e-09, -9.637248449702932e-09, -9.585229268639429e-09, -9.529804506912355e-09, -9.47099385667564e-09, -9.408818213073274e-09, -9.343299666815364e-09, -9.274461496329443e-09, -9.202328159489679e-09, -9.126925284927206e-09, -9.04827966292429e-09, -8.966419235895991e-09, -8.881373088462182e-09, -8.793171437114138e-09, -8.701845619478564e-09, -8.607428083183645e-09, -8.509952374330406e-09, -8.409453125574103e-09, -8.305966043819257e-09, -8.199527897533252e-09, -8.090176503682644e-09, -7.977950714296956e-09, -7.862890402664827e-09, -7.745036449167057e-09, -7.624430726752198e-09, -7.501116086059098e-09, -7.3751363401924614e-09, -7.246536249156109e-09, -7.115361503950038e-09, -6.9816587103366165e-09, -6.845475372281749e-09, -6.706859875077043e-09, -6.565861468148568e-09, -6.422530247558981e-09, -6.276917138208414e-09, -6.129073875741345e-09, -5.979052988164846e-09, -5.8269077771860165e-09, -5.6726922992738e-09, -5.5164613464532425e-09, -5.3582704268379396e-09, -5.198175744908356e-09, -5.036234181542731e-09, -4.8725032738073934e-09, -4.707041194514239e-09, -4.539906731552141e-09, -4.371159267000023e-09, -4.200858756028464e-09, -4.0290657055981726e-09, -3.855841152961886e-09, -3.681246643978394e-09, -3.5053442112453863e-09, -3.3281963520595315e-09, -3.149866006211789e-09, -2.9704165336248297e-09, -2.789911691841861e-09, -2.608415613373605e-09, -2.4259927829125954e-09, -2.242708014421798e-09, -2.0586264281068284e-09, -1.8738134272786407e-09, -1.688334675116523e-09, -1.5022560713379055e-09, -1.3156437287846393e-09, -1.1285639499335279e-09, -9.410832033391232e-10, -7.532681000180493e-10, -5.65185369782177e-10, -3.769018375299808e-10, -1.8848439950389983e-10, 4.774361831982955e-19]}],\n",
       "                        {\"legend\": {\"bgcolor\": \"#FFFFFF\", \"font\": {\"color\": \"#4D5663\"}}, \"paper_bgcolor\": \"#FFFFFF\", \"plot_bgcolor\": \"#FFFFFF\", \"template\": {\"data\": {\"bar\": [{\"error_x\": {\"color\": \"#2a3f5f\"}, \"error_y\": {\"color\": \"#2a3f5f\"}, \"marker\": {\"line\": {\"color\": \"#E5ECF6\", \"width\": 0.5}}, \"type\": \"bar\"}], \"barpolar\": [{\"marker\": {\"line\": {\"color\": \"#E5ECF6\", \"width\": 0.5}}, \"type\": \"barpolar\"}], \"carpet\": [{\"aaxis\": {\"endlinecolor\": \"#2a3f5f\", \"gridcolor\": \"white\", \"linecolor\": \"white\", \"minorgridcolor\": \"white\", \"startlinecolor\": \"#2a3f5f\"}, \"baxis\": {\"endlinecolor\": \"#2a3f5f\", \"gridcolor\": \"white\", \"linecolor\": \"white\", \"minorgridcolor\": \"white\", \"startlinecolor\": \"#2a3f5f\"}, \"type\": \"carpet\"}], \"choropleth\": [{\"colorbar\": {\"outlinewidth\": 0, \"ticks\": \"\"}, \"type\": \"choropleth\"}], \"contour\": [{\"colorbar\": {\"outlinewidth\": 0, \"ticks\": \"\"}, \"colorscale\": [[0.0, \"#0d0887\"], [0.1111111111111111, \"#46039f\"], [0.2222222222222222, \"#7201a8\"], [0.3333333333333333, \"#9c179e\"], [0.4444444444444444, \"#bd3786\"], [0.5555555555555556, \"#d8576b\"], [0.6666666666666666, \"#ed7953\"], [0.7777777777777778, \"#fb9f3a\"], [0.8888888888888888, \"#fdca26\"], [1.0, \"#f0f921\"]], \"type\": \"contour\"}], \"contourcarpet\": [{\"colorbar\": {\"outlinewidth\": 0, \"ticks\": \"\"}, \"type\": \"contourcarpet\"}], \"heatmap\": [{\"colorbar\": {\"outlinewidth\": 0, \"ticks\": \"\"}, \"colorscale\": [[0.0, \"#0d0887\"], [0.1111111111111111, \"#46039f\"], [0.2222222222222222, \"#7201a8\"], [0.3333333333333333, \"#9c179e\"], [0.4444444444444444, \"#bd3786\"], [0.5555555555555556, \"#d8576b\"], [0.6666666666666666, \"#ed7953\"], [0.7777777777777778, \"#fb9f3a\"], [0.8888888888888888, \"#fdca26\"], [1.0, \"#f0f921\"]], \"type\": \"heatmap\"}], \"heatmapgl\": [{\"colorbar\": {\"outlinewidth\": 0, \"ticks\": \"\"}, \"colorscale\": [[0.0, \"#0d0887\"], [0.1111111111111111, \"#46039f\"], [0.2222222222222222, \"#7201a8\"], [0.3333333333333333, \"#9c179e\"], [0.4444444444444444, \"#bd3786\"], [0.5555555555555556, \"#d8576b\"], [0.6666666666666666, \"#ed7953\"], [0.7777777777777778, \"#fb9f3a\"], [0.8888888888888888, \"#fdca26\"], [1.0, \"#f0f921\"]], \"type\": \"heatmapgl\"}], \"histogram\": [{\"marker\": {\"colorbar\": {\"outlinewidth\": 0, \"ticks\": \"\"}}, \"type\": \"histogram\"}], \"histogram2d\": [{\"colorbar\": {\"outlinewidth\": 0, \"ticks\": \"\"}, \"colorscale\": [[0.0, \"#0d0887\"], [0.1111111111111111, \"#46039f\"], [0.2222222222222222, \"#7201a8\"], [0.3333333333333333, \"#9c179e\"], [0.4444444444444444, \"#bd3786\"], [0.5555555555555556, \"#d8576b\"], [0.6666666666666666, \"#ed7953\"], [0.7777777777777778, \"#fb9f3a\"], [0.8888888888888888, \"#fdca26\"], [1.0, \"#f0f921\"]], \"type\": \"histogram2d\"}], \"histogram2dcontour\": [{\"colorbar\": {\"outlinewidth\": 0, \"ticks\": \"\"}, \"colorscale\": [[0.0, \"#0d0887\"], [0.1111111111111111, \"#46039f\"], [0.2222222222222222, \"#7201a8\"], [0.3333333333333333, \"#9c179e\"], [0.4444444444444444, \"#bd3786\"], [0.5555555555555556, \"#d8576b\"], [0.6666666666666666, \"#ed7953\"], [0.7777777777777778, \"#fb9f3a\"], [0.8888888888888888, \"#fdca26\"], [1.0, \"#f0f921\"]], \"type\": \"histogram2dcontour\"}], \"mesh3d\": [{\"colorbar\": {\"outlinewidth\": 0, \"ticks\": \"\"}, \"type\": \"mesh3d\"}], \"parcoords\": [{\"line\": {\"colorbar\": {\"outlinewidth\": 0, \"ticks\": \"\"}}, \"type\": \"parcoords\"}], \"scatter\": [{\"marker\": {\"colorbar\": {\"outlinewidth\": 0, \"ticks\": \"\"}}, \"type\": \"scatter\"}], \"scatter3d\": [{\"line\": {\"colorbar\": {\"outlinewidth\": 0, \"ticks\": \"\"}}, \"marker\": {\"colorbar\": {\"outlinewidth\": 0, \"ticks\": \"\"}}, \"type\": \"scatter3d\"}], \"scattercarpet\": [{\"marker\": {\"colorbar\": {\"outlinewidth\": 0, \"ticks\": \"\"}}, \"type\": \"scattercarpet\"}], \"scattergeo\": [{\"marker\": {\"colorbar\": {\"outlinewidth\": 0, \"ticks\": \"\"}}, \"type\": \"scattergeo\"}], \"scattergl\": [{\"marker\": {\"colorbar\": {\"outlinewidth\": 0, \"ticks\": \"\"}}, \"type\": \"scattergl\"}], \"scattermapbox\": [{\"marker\": {\"colorbar\": {\"outlinewidth\": 0, \"ticks\": \"\"}}, \"type\": \"scattermapbox\"}], \"scatterpolar\": [{\"marker\": {\"colorbar\": {\"outlinewidth\": 0, \"ticks\": \"\"}}, \"type\": \"scatterpolar\"}], \"scatterpolargl\": [{\"marker\": {\"colorbar\": {\"outlinewidth\": 0, \"ticks\": \"\"}}, \"type\": \"scatterpolargl\"}], \"scatterternary\": [{\"marker\": {\"colorbar\": {\"outlinewidth\": 0, \"ticks\": \"\"}}, \"type\": \"scatterternary\"}], \"surface\": [{\"colorbar\": {\"outlinewidth\": 0, \"ticks\": \"\"}, \"colorscale\": [[0.0, \"#0d0887\"], [0.1111111111111111, \"#46039f\"], [0.2222222222222222, \"#7201a8\"], [0.3333333333333333, \"#9c179e\"], [0.4444444444444444, \"#bd3786\"], [0.5555555555555556, \"#d8576b\"], [0.6666666666666666, \"#ed7953\"], [0.7777777777777778, \"#fb9f3a\"], [0.8888888888888888, \"#fdca26\"], [1.0, \"#f0f921\"]], \"type\": \"surface\"}], \"table\": [{\"cells\": {\"fill\": {\"color\": \"#EBF0F8\"}, \"line\": {\"color\": \"white\"}}, \"header\": {\"fill\": {\"color\": \"#C8D4E3\"}, \"line\": {\"color\": \"white\"}}, \"type\": \"table\"}]}, \"layout\": {\"annotationdefaults\": {\"arrowcolor\": \"#2a3f5f\", \"arrowhead\": 0, \"arrowwidth\": 1}, \"colorscale\": {\"diverging\": [[0, \"#8e0152\"], [0.1, \"#c51b7d\"], [0.2, \"#de77ae\"], [0.3, \"#f1b6da\"], [0.4, \"#fde0ef\"], [0.5, \"#f7f7f7\"], [0.6, \"#e6f5d0\"], [0.7, \"#b8e186\"], [0.8, \"#7fbc41\"], [0.9, \"#4d9221\"], [1, \"#276419\"]], \"sequential\": [[0.0, \"#0d0887\"], [0.1111111111111111, \"#46039f\"], [0.2222222222222222, \"#7201a8\"], [0.3333333333333333, \"#9c179e\"], [0.4444444444444444, \"#bd3786\"], [0.5555555555555556, \"#d8576b\"], [0.6666666666666666, \"#ed7953\"], [0.7777777777777778, \"#fb9f3a\"], [0.8888888888888888, \"#fdca26\"], [1.0, \"#f0f921\"]], \"sequentialminus\": [[0.0, \"#0d0887\"], [0.1111111111111111, \"#46039f\"], [0.2222222222222222, \"#7201a8\"], [0.3333333333333333, \"#9c179e\"], [0.4444444444444444, \"#bd3786\"], [0.5555555555555556, \"#d8576b\"], [0.6666666666666666, \"#ed7953\"], [0.7777777777777778, \"#fb9f3a\"], [0.8888888888888888, \"#fdca26\"], [1.0, \"#f0f921\"]]}, \"colorway\": [\"#636efa\", \"#EF553B\", \"#00cc96\", \"#ab63fa\", \"#FFA15A\", \"#19d3f3\", \"#FF6692\", \"#B6E880\", \"#FF97FF\", \"#FECB52\"], \"font\": {\"color\": \"#2a3f5f\"}, \"geo\": {\"bgcolor\": \"white\", \"lakecolor\": \"white\", \"landcolor\": \"#E5ECF6\", \"showlakes\": true, \"showland\": true, \"subunitcolor\": \"white\"}, \"hoverlabel\": {\"align\": \"left\"}, \"hovermode\": \"closest\", \"mapbox\": {\"style\": \"light\"}, \"paper_bgcolor\": \"white\", \"plot_bgcolor\": \"#E5ECF6\", \"polar\": {\"angularaxis\": {\"gridcolor\": \"white\", \"linecolor\": \"white\", \"ticks\": \"\"}, \"bgcolor\": \"#E5ECF6\", \"radialaxis\": {\"gridcolor\": \"white\", \"linecolor\": \"white\", \"ticks\": \"\"}}, \"scene\": {\"xaxis\": {\"backgroundcolor\": \"#E5ECF6\", \"gridcolor\": \"white\", \"gridwidth\": 2, \"linecolor\": \"white\", \"showbackground\": true, \"ticks\": \"\", \"zerolinecolor\": \"white\"}, \"yaxis\": {\"backgroundcolor\": \"#E5ECF6\", \"gridcolor\": \"white\", \"gridwidth\": 2, \"linecolor\": \"white\", \"showbackground\": true, \"ticks\": \"\", \"zerolinecolor\": \"white\"}, \"zaxis\": {\"backgroundcolor\": \"#E5ECF6\", \"gridcolor\": \"white\", \"gridwidth\": 2, \"linecolor\": \"white\", \"showbackground\": true, \"ticks\": \"\", \"zerolinecolor\": \"white\"}}, \"shapedefaults\": {\"line\": {\"color\": \"#2a3f5f\"}}, \"ternary\": {\"aaxis\": {\"gridcolor\": \"white\", \"linecolor\": \"white\", \"ticks\": \"\"}, \"baxis\": {\"gridcolor\": \"white\", \"linecolor\": \"white\", \"ticks\": \"\"}, \"bgcolor\": \"#E5ECF6\", \"caxis\": {\"gridcolor\": \"white\", \"linecolor\": \"white\", \"ticks\": \"\"}}, \"title\": {\"x\": 0.05}, \"xaxis\": {\"automargin\": true, \"gridcolor\": \"white\", \"linecolor\": \"white\", \"ticks\": \"\", \"zerolinecolor\": \"white\", \"zerolinewidth\": 2}, \"yaxis\": {\"automargin\": true, \"gridcolor\": \"white\", \"linecolor\": \"white\", \"ticks\": \"\", \"zerolinecolor\": \"white\", \"zerolinewidth\": 2}}}, \"title\": {\"font\": {\"color\": \"#4D5663\"}, \"text\": \"Output\"}, \"xaxis\": {\"gridcolor\": \"#E1E5ED\", \"showgrid\": true, \"tickfont\": {\"color\": \"#4D5663\"}, \"title\": {\"font\": {\"color\": \"#4D5663\"}, \"text\": \"Tout\"}, \"zerolinecolor\": \"#E1E5ED\"}, \"yaxis\": {\"gridcolor\": \"#E1E5ED\", \"showgrid\": true, \"tickfont\": {\"color\": \"#4D5663\"}, \"title\": {\"font\": {\"color\": \"#4D5663\"}, \"text\": \"yout\"}, \"zerolinecolor\": \"#E1E5ED\"}},\n",
       "                        {\"showLink\": true, \"linkText\": \"Export to plot.ly\", \"plotlyServerURL\": \"https://plot.ly\", \"responsive\": true}\n",
       "                    ).then(function(){\n",
       "                            \n",
       "var gd = document.getElementById('dfd3a943-f2ed-4142-a096-f8208fcbdfc4');\n",
       "var x = new MutationObserver(function (mutations, observer) {{\n",
       "        var display = window.getComputedStyle(gd).display;\n",
       "        if (!display || display === 'none') {{\n",
       "            console.log([gd, 'removed!']);\n",
       "            Plotly.purge(gd);\n",
       "            observer.disconnect();\n",
       "        }}\n",
       "}});\n",
       "\n",
       "// Listen for the removal of the full notebook cells\n",
       "var notebookContainer = gd.closest('#notebook-container');\n",
       "if (notebookContainer) {{\n",
       "    x.observe(notebookContainer, {childList: true});\n",
       "}}\n",
       "\n",
       "// Listen for the clearing of the current output cell\n",
       "var outputEl = gd.closest('.output');\n",
       "if (outputEl) {{\n",
       "    x.observe(outputEl, {childList: true});\n",
       "}}\n",
       "\n",
       "                        })\n",
       "                };\n",
       "                });\n",
       "            </script>\n",
       "        </div>"
      ]
     },
     "metadata": {},
     "output_type": "display_data"
    }
   ],
   "source": [
    "# Система всегда устойчива, так как по критерию Гурвица для a*λ+1=0: Единственный главный минор det(1) > 0\n",
    "# Так что берем любой a\n",
    "w = 0.001\n",
    "T = np.linspace(0, 3.0/w, 1001)\n",
    "S = [sin(t * 2*pi*w) for t in T]\n",
    "Tout, yout, xout = signal.lsim(transfer_func, S, T)\n",
    "\n",
    "df_i = pd.DataFrame(S, index=T)\n",
    "df_i.iplot(mode='lines', xTitle='T', yTitle='S', title='Input')\n",
    "\n",
    "df_o = pd.DataFrame(yout, index=Tout)\n",
    "df_o.iplot(mode='lines', xTitle='Tout', yTitle='yout', title='Output')"
   ]
  },
  {
   "cell_type": "markdown",
   "metadata": {},
   "source": [
    "### 5. Постройте графики АЧХ и ФЧХ для двух систем, описанных в пункте выше. Имеет ли смысл это действие для неустойчивой системы?"
   ]
  },
  {
   "cell_type": "code",
   "execution_count": 8,
   "metadata": {},
   "outputs": [
    {
     "data": {
      "application/vnd.plotly.v1+json": {
       "config": {
        "linkText": "Export to plot.ly",
        "plotlyServerURL": "https://plot.ly",
        "showLink": true
       },
       "data": [
        {
         "line": {
          "color": "rgba(255, 153, 51, 1.0)",
          "dash": "solid",
          "shape": "linear",
          "width": 1.3
         },
         "mode": "lines",
         "name": "0",
         "text": "",
         "type": "scatter",
         "x": [
          1e-10,
          1.2915496650148827e-10,
          1.6681005372000558e-10,
          2.1544346900318867e-10,
          2.782559402207126e-10,
          3.593813663804626e-10,
          4.6415888336127727e-10,
          5.994842503189421e-10,
          7.742636826811277e-10,
          1e-09,
          1.2915496650148826e-09,
          1.6681005372000556e-09,
          2.1544346900318866e-09,
          2.7825594022071257e-09,
          3.5938136638046257e-09,
          4.641588833612773e-09,
          5.994842503189421e-09,
          7.742636826811278e-09,
          1e-08,
          1.2915496650148827e-08,
          1.6681005372000592e-08,
          2.1544346900318822e-08,
          2.782559402207126e-08,
          3.593813663804626e-08,
          4.641588833612773e-08,
          5.99484250318941e-08,
          7.742636826811277e-08,
          1e-07,
          1.2915496650148827e-07,
          1.6681005372000556e-07,
          2.1544346900318822e-07,
          2.782559402207126e-07,
          3.5938136638046254e-07,
          4.6415888336127725e-07,
          5.994842503189409e-07,
          7.742636826811278e-07,
          1e-06,
          1.2915496650148827e-06,
          1.6681005372000591e-06,
          2.1544346900318822e-06,
          2.782559402207126e-06,
          3.5938136638046257e-06,
          4.641588833612773e-06,
          5.994842503189409e-06,
          7.742636826811262e-06,
          1e-05,
          1.2915496650148827e-05,
          1.6681005372000593e-05,
          2.1544346900318823e-05,
          2.7825594022071202e-05,
          3.5938136638046256e-05,
          4.641588833612772e-05,
          5.994842503189409e-05,
          7.742636826811262e-05,
          0.0001,
          0.00012915496650148828,
          0.00016681005372000556,
          0.00021544346900318823,
          0.00027825594022071204,
          0.00035938136638046257,
          0.00046415888336127724,
          0.0005994842503189409,
          0.0007742636826811262,
          0.001,
          0.0012915496650148827,
          0.0016681005372000558,
          0.002154434690031882,
          0.00278255940220712,
          0.003593813663804626,
          0.004641588833612773,
          0.005994842503189409,
          0.007742636826811262,
          0.01,
          0.012915496650148827,
          0.016681005372000558,
          0.021544346900318777,
          0.02782559402207126,
          0.03593813663804626,
          0.046415888336127725,
          0.059948425031893966,
          0.07742636826811278,
          0.1,
          0.12915496650148828,
          0.16681005372000557,
          0.21544346900318778,
          0.2782559402207126,
          0.3593813663804626,
          0.46415888336127725,
          0.5994842503189397,
          0.7742636826811246,
          1,
          1.2915496650148828,
          1.6681005372000557,
          2.154434690031878,
          2.782559402207126,
          3.593813663804626,
          4.641588833612772,
          5.994842503189396,
          7.742636826811246,
          10
         ],
         "y": [
          -200.00043427276862,
          -197.77850216422055,
          -195.5567638376515,
          -193.33534868206618,
          -191.11447239446844,
          -188.89449439869665,
          -186.67601319301272,
          -184.46002420024487,
          -182.24817976423097,
          -180.04321373782642,
          -177.8496248749673,
          -175.6747498346412,
          -173.5303765850726,
          -171.43498711106278,
          -169.41642437968883,
          -167.51401431021748,
          -165.77785757011998,
          -164.26202190285204,
          -163.0102999566398,
          -162.0397996806298,
          -161.33341312567552,
          -160.8473476435508,
          -160.52753549079995,
          -160.32387599995167,
          -160.19704325173927,
          -160.11919427908563,
          -160.07184709718953,
          -160.04321373782642,
          -160.02595754200877,
          -160.01557975580045,
          -160.00934652634606,
          -160.00560550980776,
          -160.0033612833573,
          -160.00201534873287,
          -160.0012082820959,
          -160.00072438644278,
          -160.00043427276864,
          -160.00026034489835,
          -160.0001560745398,
          -160.00009356490185,
          -160.00005609092705,
          -160.0000336257143,
          -160.00002015811737,
          -160.00001208448512,
          -160.00000724446255,
          -160.00000434294265,
          -160.00000260352624,
          -160.00000156077317,
          -160.000000935659,
          -160.00000056091284,
          -160.0000003362584,
          -160.00000020158166,
          -160.00000012084502,
          -160.0000000724447,
          -160.00000004342945,
          -160.00000002603528,
          -160.00000001560775,
          -160.0000000093566,
          -160.00000000560914,
          -160.00000000336257,
          -160.0000000020158,
          -160.00000000120846,
          -160.00000000072444,
          -160.00000000043428,
          -160.00000000026034,
          -160.00000000015606,
          -160.00000000009356,
          -160.0000000000561,
          -160.0000000000336,
          -160.00000000002015,
          -160.00000000001208,
          -160.00000000000725,
          -160.00000000000432,
          -160.0000000000026,
          -160.00000000000156,
          -160.0000000000009,
          -160.00000000000057,
          -160.0000000000003,
          -160.00000000000023,
          -160.0000000000001,
          -160.00000000000006,
          -160.00000000000003,
          -160.00000000000003,
          -160,
          -160,
          -160,
          -160,
          -160,
          -160,
          -160,
          -160,
          -160,
          -160,
          -160,
          -160,
          -160,
          -160,
          -160,
          -160,
          -160
         ]
        }
       ],
       "layout": {
        "legend": {
         "bgcolor": "#FFFFFF",
         "font": {
          "color": "#4D5663"
         }
        },
        "paper_bgcolor": "#FFFFFF",
        "plot_bgcolor": "#FFFFFF",
        "template": {
         "data": {
          "bar": [
           {
            "error_x": {
             "color": "#2a3f5f"
            },
            "error_y": {
             "color": "#2a3f5f"
            },
            "marker": {
             "line": {
              "color": "#E5ECF6",
              "width": 0.5
             }
            },
            "type": "bar"
           }
          ],
          "barpolar": [
           {
            "marker": {
             "line": {
              "color": "#E5ECF6",
              "width": 0.5
             }
            },
            "type": "barpolar"
           }
          ],
          "carpet": [
           {
            "aaxis": {
             "endlinecolor": "#2a3f5f",
             "gridcolor": "white",
             "linecolor": "white",
             "minorgridcolor": "white",
             "startlinecolor": "#2a3f5f"
            },
            "baxis": {
             "endlinecolor": "#2a3f5f",
             "gridcolor": "white",
             "linecolor": "white",
             "minorgridcolor": "white",
             "startlinecolor": "#2a3f5f"
            },
            "type": "carpet"
           }
          ],
          "choropleth": [
           {
            "colorbar": {
             "outlinewidth": 0,
             "ticks": ""
            },
            "type": "choropleth"
           }
          ],
          "contour": [
           {
            "colorbar": {
             "outlinewidth": 0,
             "ticks": ""
            },
            "colorscale": [
             [
              0,
              "#0d0887"
             ],
             [
              0.1111111111111111,
              "#46039f"
             ],
             [
              0.2222222222222222,
              "#7201a8"
             ],
             [
              0.3333333333333333,
              "#9c179e"
             ],
             [
              0.4444444444444444,
              "#bd3786"
             ],
             [
              0.5555555555555556,
              "#d8576b"
             ],
             [
              0.6666666666666666,
              "#ed7953"
             ],
             [
              0.7777777777777778,
              "#fb9f3a"
             ],
             [
              0.8888888888888888,
              "#fdca26"
             ],
             [
              1,
              "#f0f921"
             ]
            ],
            "type": "contour"
           }
          ],
          "contourcarpet": [
           {
            "colorbar": {
             "outlinewidth": 0,
             "ticks": ""
            },
            "type": "contourcarpet"
           }
          ],
          "heatmap": [
           {
            "colorbar": {
             "outlinewidth": 0,
             "ticks": ""
            },
            "colorscale": [
             [
              0,
              "#0d0887"
             ],
             [
              0.1111111111111111,
              "#46039f"
             ],
             [
              0.2222222222222222,
              "#7201a8"
             ],
             [
              0.3333333333333333,
              "#9c179e"
             ],
             [
              0.4444444444444444,
              "#bd3786"
             ],
             [
              0.5555555555555556,
              "#d8576b"
             ],
             [
              0.6666666666666666,
              "#ed7953"
             ],
             [
              0.7777777777777778,
              "#fb9f3a"
             ],
             [
              0.8888888888888888,
              "#fdca26"
             ],
             [
              1,
              "#f0f921"
             ]
            ],
            "type": "heatmap"
           }
          ],
          "heatmapgl": [
           {
            "colorbar": {
             "outlinewidth": 0,
             "ticks": ""
            },
            "colorscale": [
             [
              0,
              "#0d0887"
             ],
             [
              0.1111111111111111,
              "#46039f"
             ],
             [
              0.2222222222222222,
              "#7201a8"
             ],
             [
              0.3333333333333333,
              "#9c179e"
             ],
             [
              0.4444444444444444,
              "#bd3786"
             ],
             [
              0.5555555555555556,
              "#d8576b"
             ],
             [
              0.6666666666666666,
              "#ed7953"
             ],
             [
              0.7777777777777778,
              "#fb9f3a"
             ],
             [
              0.8888888888888888,
              "#fdca26"
             ],
             [
              1,
              "#f0f921"
             ]
            ],
            "type": "heatmapgl"
           }
          ],
          "histogram": [
           {
            "marker": {
             "colorbar": {
              "outlinewidth": 0,
              "ticks": ""
             }
            },
            "type": "histogram"
           }
          ],
          "histogram2d": [
           {
            "colorbar": {
             "outlinewidth": 0,
             "ticks": ""
            },
            "colorscale": [
             [
              0,
              "#0d0887"
             ],
             [
              0.1111111111111111,
              "#46039f"
             ],
             [
              0.2222222222222222,
              "#7201a8"
             ],
             [
              0.3333333333333333,
              "#9c179e"
             ],
             [
              0.4444444444444444,
              "#bd3786"
             ],
             [
              0.5555555555555556,
              "#d8576b"
             ],
             [
              0.6666666666666666,
              "#ed7953"
             ],
             [
              0.7777777777777778,
              "#fb9f3a"
             ],
             [
              0.8888888888888888,
              "#fdca26"
             ],
             [
              1,
              "#f0f921"
             ]
            ],
            "type": "histogram2d"
           }
          ],
          "histogram2dcontour": [
           {
            "colorbar": {
             "outlinewidth": 0,
             "ticks": ""
            },
            "colorscale": [
             [
              0,
              "#0d0887"
             ],
             [
              0.1111111111111111,
              "#46039f"
             ],
             [
              0.2222222222222222,
              "#7201a8"
             ],
             [
              0.3333333333333333,
              "#9c179e"
             ],
             [
              0.4444444444444444,
              "#bd3786"
             ],
             [
              0.5555555555555556,
              "#d8576b"
             ],
             [
              0.6666666666666666,
              "#ed7953"
             ],
             [
              0.7777777777777778,
              "#fb9f3a"
             ],
             [
              0.8888888888888888,
              "#fdca26"
             ],
             [
              1,
              "#f0f921"
             ]
            ],
            "type": "histogram2dcontour"
           }
          ],
          "mesh3d": [
           {
            "colorbar": {
             "outlinewidth": 0,
             "ticks": ""
            },
            "type": "mesh3d"
           }
          ],
          "parcoords": [
           {
            "line": {
             "colorbar": {
              "outlinewidth": 0,
              "ticks": ""
             }
            },
            "type": "parcoords"
           }
          ],
          "scatter": [
           {
            "marker": {
             "colorbar": {
              "outlinewidth": 0,
              "ticks": ""
             }
            },
            "type": "scatter"
           }
          ],
          "scatter3d": [
           {
            "line": {
             "colorbar": {
              "outlinewidth": 0,
              "ticks": ""
             }
            },
            "marker": {
             "colorbar": {
              "outlinewidth": 0,
              "ticks": ""
             }
            },
            "type": "scatter3d"
           }
          ],
          "scattercarpet": [
           {
            "marker": {
             "colorbar": {
              "outlinewidth": 0,
              "ticks": ""
             }
            },
            "type": "scattercarpet"
           }
          ],
          "scattergeo": [
           {
            "marker": {
             "colorbar": {
              "outlinewidth": 0,
              "ticks": ""
             }
            },
            "type": "scattergeo"
           }
          ],
          "scattergl": [
           {
            "marker": {
             "colorbar": {
              "outlinewidth": 0,
              "ticks": ""
             }
            },
            "type": "scattergl"
           }
          ],
          "scattermapbox": [
           {
            "marker": {
             "colorbar": {
              "outlinewidth": 0,
              "ticks": ""
             }
            },
            "type": "scattermapbox"
           }
          ],
          "scatterpolar": [
           {
            "marker": {
             "colorbar": {
              "outlinewidth": 0,
              "ticks": ""
             }
            },
            "type": "scatterpolar"
           }
          ],
          "scatterpolargl": [
           {
            "marker": {
             "colorbar": {
              "outlinewidth": 0,
              "ticks": ""
             }
            },
            "type": "scatterpolargl"
           }
          ],
          "scatterternary": [
           {
            "marker": {
             "colorbar": {
              "outlinewidth": 0,
              "ticks": ""
             }
            },
            "type": "scatterternary"
           }
          ],
          "surface": [
           {
            "colorbar": {
             "outlinewidth": 0,
             "ticks": ""
            },
            "colorscale": [
             [
              0,
              "#0d0887"
             ],
             [
              0.1111111111111111,
              "#46039f"
             ],
             [
              0.2222222222222222,
              "#7201a8"
             ],
             [
              0.3333333333333333,
              "#9c179e"
             ],
             [
              0.4444444444444444,
              "#bd3786"
             ],
             [
              0.5555555555555556,
              "#d8576b"
             ],
             [
              0.6666666666666666,
              "#ed7953"
             ],
             [
              0.7777777777777778,
              "#fb9f3a"
             ],
             [
              0.8888888888888888,
              "#fdca26"
             ],
             [
              1,
              "#f0f921"
             ]
            ],
            "type": "surface"
           }
          ],
          "table": [
           {
            "cells": {
             "fill": {
              "color": "#EBF0F8"
             },
             "line": {
              "color": "white"
             }
            },
            "header": {
             "fill": {
              "color": "#C8D4E3"
             },
             "line": {
              "color": "white"
             }
            },
            "type": "table"
           }
          ]
         },
         "layout": {
          "annotationdefaults": {
           "arrowcolor": "#2a3f5f",
           "arrowhead": 0,
           "arrowwidth": 1
          },
          "colorscale": {
           "diverging": [
            [
             0,
             "#8e0152"
            ],
            [
             0.1,
             "#c51b7d"
            ],
            [
             0.2,
             "#de77ae"
            ],
            [
             0.3,
             "#f1b6da"
            ],
            [
             0.4,
             "#fde0ef"
            ],
            [
             0.5,
             "#f7f7f7"
            ],
            [
             0.6,
             "#e6f5d0"
            ],
            [
             0.7,
             "#b8e186"
            ],
            [
             0.8,
             "#7fbc41"
            ],
            [
             0.9,
             "#4d9221"
            ],
            [
             1,
             "#276419"
            ]
           ],
           "sequential": [
            [
             0,
             "#0d0887"
            ],
            [
             0.1111111111111111,
             "#46039f"
            ],
            [
             0.2222222222222222,
             "#7201a8"
            ],
            [
             0.3333333333333333,
             "#9c179e"
            ],
            [
             0.4444444444444444,
             "#bd3786"
            ],
            [
             0.5555555555555556,
             "#d8576b"
            ],
            [
             0.6666666666666666,
             "#ed7953"
            ],
            [
             0.7777777777777778,
             "#fb9f3a"
            ],
            [
             0.8888888888888888,
             "#fdca26"
            ],
            [
             1,
             "#f0f921"
            ]
           ],
           "sequentialminus": [
            [
             0,
             "#0d0887"
            ],
            [
             0.1111111111111111,
             "#46039f"
            ],
            [
             0.2222222222222222,
             "#7201a8"
            ],
            [
             0.3333333333333333,
             "#9c179e"
            ],
            [
             0.4444444444444444,
             "#bd3786"
            ],
            [
             0.5555555555555556,
             "#d8576b"
            ],
            [
             0.6666666666666666,
             "#ed7953"
            ],
            [
             0.7777777777777778,
             "#fb9f3a"
            ],
            [
             0.8888888888888888,
             "#fdca26"
            ],
            [
             1,
             "#f0f921"
            ]
           ]
          },
          "colorway": [
           "#636efa",
           "#EF553B",
           "#00cc96",
           "#ab63fa",
           "#FFA15A",
           "#19d3f3",
           "#FF6692",
           "#B6E880",
           "#FF97FF",
           "#FECB52"
          ],
          "font": {
           "color": "#2a3f5f"
          },
          "geo": {
           "bgcolor": "white",
           "lakecolor": "white",
           "landcolor": "#E5ECF6",
           "showlakes": true,
           "showland": true,
           "subunitcolor": "white"
          },
          "hoverlabel": {
           "align": "left"
          },
          "hovermode": "closest",
          "mapbox": {
           "style": "light"
          },
          "paper_bgcolor": "white",
          "plot_bgcolor": "#E5ECF6",
          "polar": {
           "angularaxis": {
            "gridcolor": "white",
            "linecolor": "white",
            "ticks": ""
           },
           "bgcolor": "#E5ECF6",
           "radialaxis": {
            "gridcolor": "white",
            "linecolor": "white",
            "ticks": ""
           }
          },
          "scene": {
           "xaxis": {
            "backgroundcolor": "#E5ECF6",
            "gridcolor": "white",
            "gridwidth": 2,
            "linecolor": "white",
            "showbackground": true,
            "ticks": "",
            "zerolinecolor": "white"
           },
           "yaxis": {
            "backgroundcolor": "#E5ECF6",
            "gridcolor": "white",
            "gridwidth": 2,
            "linecolor": "white",
            "showbackground": true,
            "ticks": "",
            "zerolinecolor": "white"
           },
           "zaxis": {
            "backgroundcolor": "#E5ECF6",
            "gridcolor": "white",
            "gridwidth": 2,
            "linecolor": "white",
            "showbackground": true,
            "ticks": "",
            "zerolinecolor": "white"
           }
          },
          "shapedefaults": {
           "line": {
            "color": "#2a3f5f"
           }
          },
          "ternary": {
           "aaxis": {
            "gridcolor": "white",
            "linecolor": "white",
            "ticks": ""
           },
           "baxis": {
            "gridcolor": "white",
            "linecolor": "white",
            "ticks": ""
           },
           "bgcolor": "#E5ECF6",
           "caxis": {
            "gridcolor": "white",
            "linecolor": "white",
            "ticks": ""
           }
          },
          "title": {
           "x": 0.05
          },
          "xaxis": {
           "automargin": true,
           "gridcolor": "white",
           "linecolor": "white",
           "ticks": "",
           "zerolinecolor": "white",
           "zerolinewidth": 2
          },
          "yaxis": {
           "automargin": true,
           "gridcolor": "white",
           "linecolor": "white",
           "ticks": "",
           "zerolinecolor": "white",
           "zerolinewidth": 2
          }
         }
        },
        "title": {
         "font": {
          "color": "#4D5663"
         },
         "text": "АЧХ"
        },
        "xaxis": {
         "gridcolor": "#E1E5ED",
         "showgrid": true,
         "tickfont": {
          "color": "#4D5663"
         },
         "title": {
          "font": {
           "color": "#4D5663"
          },
          "text": "W"
         },
         "type": "log",
         "zerolinecolor": "#E1E5ED"
        },
        "yaxis": {
         "gridcolor": "#E1E5ED",
         "showgrid": true,
         "tickfont": {
          "color": "#4D5663"
         },
         "title": {
          "font": {
           "color": "#4D5663"
          },
          "text": "mag"
         },
         "zerolinecolor": "#E1E5ED"
        }
       }
      },
      "text/html": [
       "<div>\n",
       "        \n",
       "        \n",
       "            <div id=\"133e1436-f085-4c9e-b882-868c009a3f98\" class=\"plotly-graph-div\" style=\"height:525px; width:100%;\"></div>\n",
       "            <script type=\"text/javascript\">\n",
       "                require([\"plotly\"], function(Plotly) {\n",
       "                    window.PLOTLYENV=window.PLOTLYENV || {};\n",
       "                    window.PLOTLYENV.BASE_URL='https://plot.ly';\n",
       "                    \n",
       "                if (document.getElementById(\"133e1436-f085-4c9e-b882-868c009a3f98\")) {\n",
       "                    Plotly.newPlot(\n",
       "                        '133e1436-f085-4c9e-b882-868c009a3f98',\n",
       "                        [{\"line\": {\"color\": \"rgba(255, 153, 51, 1.0)\", \"dash\": \"solid\", \"shape\": \"linear\", \"width\": 1.3}, \"mode\": \"lines\", \"name\": \"0\", \"text\": \"\", \"type\": \"scatter\", \"x\": [1e-10, 1.2915496650148827e-10, 1.6681005372000558e-10, 2.1544346900318867e-10, 2.782559402207126e-10, 3.593813663804626e-10, 4.6415888336127727e-10, 5.994842503189421e-10, 7.742636826811277e-10, 1e-09, 1.2915496650148826e-09, 1.6681005372000556e-09, 2.1544346900318866e-09, 2.7825594022071257e-09, 3.5938136638046257e-09, 4.641588833612773e-09, 5.994842503189421e-09, 7.742636826811278e-09, 1e-08, 1.2915496650148827e-08, 1.6681005372000592e-08, 2.1544346900318822e-08, 2.782559402207126e-08, 3.593813663804626e-08, 4.641588833612773e-08, 5.99484250318941e-08, 7.742636826811277e-08, 1e-07, 1.2915496650148827e-07, 1.6681005372000556e-07, 2.1544346900318822e-07, 2.782559402207126e-07, 3.5938136638046254e-07, 4.6415888336127725e-07, 5.994842503189409e-07, 7.742636826811278e-07, 1e-06, 1.2915496650148827e-06, 1.6681005372000591e-06, 2.1544346900318822e-06, 2.782559402207126e-06, 3.5938136638046257e-06, 4.641588833612773e-06, 5.994842503189409e-06, 7.742636826811262e-06, 1e-05, 1.2915496650148827e-05, 1.6681005372000593e-05, 2.1544346900318823e-05, 2.7825594022071202e-05, 3.5938136638046256e-05, 4.641588833612772e-05, 5.994842503189409e-05, 7.742636826811262e-05, 0.0001, 0.00012915496650148828, 0.00016681005372000556, 0.00021544346900318823, 0.00027825594022071204, 0.00035938136638046257, 0.00046415888336127724, 0.0005994842503189409, 0.0007742636826811262, 0.001, 0.0012915496650148827, 0.0016681005372000558, 0.002154434690031882, 0.00278255940220712, 0.003593813663804626, 0.004641588833612773, 0.005994842503189409, 0.007742636826811262, 0.01, 0.012915496650148827, 0.016681005372000558, 0.021544346900318777, 0.02782559402207126, 0.03593813663804626, 0.046415888336127725, 0.059948425031893966, 0.07742636826811278, 0.1, 0.12915496650148828, 0.16681005372000557, 0.21544346900318778, 0.2782559402207126, 0.3593813663804626, 0.46415888336127725, 0.5994842503189397, 0.7742636826811246, 1.0, 1.2915496650148828, 1.6681005372000557, 2.154434690031878, 2.782559402207126, 3.593813663804626, 4.641588833612772, 5.994842503189396, 7.742636826811246, 10.0], \"y\": [-200.00043427276862, -197.77850216422055, -195.5567638376515, -193.33534868206618, -191.11447239446844, -188.89449439869665, -186.67601319301272, -184.46002420024487, -182.24817976423097, -180.04321373782642, -177.8496248749673, -175.6747498346412, -173.5303765850726, -171.43498711106278, -169.41642437968883, -167.51401431021748, -165.77785757011998, -164.26202190285204, -163.0102999566398, -162.0397996806298, -161.33341312567552, -160.8473476435508, -160.52753549079995, -160.32387599995167, -160.19704325173927, -160.11919427908563, -160.07184709718953, -160.04321373782642, -160.02595754200877, -160.01557975580045, -160.00934652634606, -160.00560550980776, -160.0033612833573, -160.00201534873287, -160.0012082820959, -160.00072438644278, -160.00043427276864, -160.00026034489835, -160.0001560745398, -160.00009356490185, -160.00005609092705, -160.0000336257143, -160.00002015811737, -160.00001208448512, -160.00000724446255, -160.00000434294265, -160.00000260352624, -160.00000156077317, -160.000000935659, -160.00000056091284, -160.0000003362584, -160.00000020158166, -160.00000012084502, -160.0000000724447, -160.00000004342945, -160.00000002603528, -160.00000001560775, -160.0000000093566, -160.00000000560914, -160.00000000336257, -160.0000000020158, -160.00000000120846, -160.00000000072444, -160.00000000043428, -160.00000000026034, -160.00000000015606, -160.00000000009356, -160.0000000000561, -160.0000000000336, -160.00000000002015, -160.00000000001208, -160.00000000000725, -160.00000000000432, -160.0000000000026, -160.00000000000156, -160.0000000000009, -160.00000000000057, -160.0000000000003, -160.00000000000023, -160.0000000000001, -160.00000000000006, -160.00000000000003, -160.00000000000003, -160.0, -160.0, -160.0, -160.0, -160.0, -160.0, -160.0, -160.0, -160.0, -160.0, -160.0, -160.0, -160.0, -160.0, -160.0, -160.0, -160.0]}],\n",
       "                        {\"legend\": {\"bgcolor\": \"#FFFFFF\", \"font\": {\"color\": \"#4D5663\"}}, \"paper_bgcolor\": \"#FFFFFF\", \"plot_bgcolor\": \"#FFFFFF\", \"template\": {\"data\": {\"bar\": [{\"error_x\": {\"color\": \"#2a3f5f\"}, \"error_y\": {\"color\": \"#2a3f5f\"}, \"marker\": {\"line\": {\"color\": \"#E5ECF6\", \"width\": 0.5}}, \"type\": \"bar\"}], \"barpolar\": [{\"marker\": {\"line\": {\"color\": \"#E5ECF6\", \"width\": 0.5}}, \"type\": \"barpolar\"}], \"carpet\": [{\"aaxis\": {\"endlinecolor\": \"#2a3f5f\", \"gridcolor\": \"white\", \"linecolor\": \"white\", \"minorgridcolor\": \"white\", \"startlinecolor\": \"#2a3f5f\"}, \"baxis\": {\"endlinecolor\": \"#2a3f5f\", \"gridcolor\": \"white\", \"linecolor\": \"white\", \"minorgridcolor\": \"white\", \"startlinecolor\": \"#2a3f5f\"}, \"type\": \"carpet\"}], \"choropleth\": [{\"colorbar\": {\"outlinewidth\": 0, \"ticks\": \"\"}, \"type\": \"choropleth\"}], \"contour\": [{\"colorbar\": {\"outlinewidth\": 0, \"ticks\": \"\"}, \"colorscale\": [[0.0, \"#0d0887\"], [0.1111111111111111, \"#46039f\"], [0.2222222222222222, \"#7201a8\"], [0.3333333333333333, \"#9c179e\"], [0.4444444444444444, \"#bd3786\"], [0.5555555555555556, \"#d8576b\"], [0.6666666666666666, \"#ed7953\"], [0.7777777777777778, \"#fb9f3a\"], [0.8888888888888888, \"#fdca26\"], [1.0, \"#f0f921\"]], \"type\": \"contour\"}], \"contourcarpet\": [{\"colorbar\": {\"outlinewidth\": 0, \"ticks\": \"\"}, \"type\": \"contourcarpet\"}], \"heatmap\": [{\"colorbar\": {\"outlinewidth\": 0, \"ticks\": \"\"}, \"colorscale\": [[0.0, \"#0d0887\"], [0.1111111111111111, \"#46039f\"], [0.2222222222222222, \"#7201a8\"], [0.3333333333333333, \"#9c179e\"], [0.4444444444444444, \"#bd3786\"], [0.5555555555555556, \"#d8576b\"], [0.6666666666666666, \"#ed7953\"], [0.7777777777777778, \"#fb9f3a\"], [0.8888888888888888, \"#fdca26\"], [1.0, \"#f0f921\"]], \"type\": \"heatmap\"}], \"heatmapgl\": [{\"colorbar\": {\"outlinewidth\": 0, \"ticks\": \"\"}, \"colorscale\": [[0.0, \"#0d0887\"], [0.1111111111111111, \"#46039f\"], [0.2222222222222222, \"#7201a8\"], [0.3333333333333333, \"#9c179e\"], [0.4444444444444444, \"#bd3786\"], [0.5555555555555556, \"#d8576b\"], [0.6666666666666666, \"#ed7953\"], [0.7777777777777778, \"#fb9f3a\"], [0.8888888888888888, \"#fdca26\"], [1.0, \"#f0f921\"]], \"type\": \"heatmapgl\"}], \"histogram\": [{\"marker\": {\"colorbar\": {\"outlinewidth\": 0, \"ticks\": \"\"}}, \"type\": \"histogram\"}], \"histogram2d\": [{\"colorbar\": {\"outlinewidth\": 0, \"ticks\": \"\"}, \"colorscale\": [[0.0, \"#0d0887\"], [0.1111111111111111, \"#46039f\"], [0.2222222222222222, \"#7201a8\"], [0.3333333333333333, \"#9c179e\"], [0.4444444444444444, \"#bd3786\"], [0.5555555555555556, \"#d8576b\"], [0.6666666666666666, \"#ed7953\"], [0.7777777777777778, \"#fb9f3a\"], [0.8888888888888888, \"#fdca26\"], [1.0, \"#f0f921\"]], \"type\": \"histogram2d\"}], \"histogram2dcontour\": [{\"colorbar\": {\"outlinewidth\": 0, \"ticks\": \"\"}, \"colorscale\": [[0.0, \"#0d0887\"], [0.1111111111111111, \"#46039f\"], [0.2222222222222222, \"#7201a8\"], [0.3333333333333333, \"#9c179e\"], [0.4444444444444444, \"#bd3786\"], [0.5555555555555556, \"#d8576b\"], [0.6666666666666666, \"#ed7953\"], [0.7777777777777778, \"#fb9f3a\"], [0.8888888888888888, \"#fdca26\"], [1.0, \"#f0f921\"]], \"type\": \"histogram2dcontour\"}], \"mesh3d\": [{\"colorbar\": {\"outlinewidth\": 0, \"ticks\": \"\"}, \"type\": \"mesh3d\"}], \"parcoords\": [{\"line\": {\"colorbar\": {\"outlinewidth\": 0, \"ticks\": \"\"}}, \"type\": \"parcoords\"}], \"scatter\": [{\"marker\": {\"colorbar\": {\"outlinewidth\": 0, \"ticks\": \"\"}}, \"type\": \"scatter\"}], \"scatter3d\": [{\"line\": {\"colorbar\": {\"outlinewidth\": 0, \"ticks\": \"\"}}, \"marker\": {\"colorbar\": {\"outlinewidth\": 0, \"ticks\": \"\"}}, \"type\": \"scatter3d\"}], \"scattercarpet\": [{\"marker\": {\"colorbar\": {\"outlinewidth\": 0, \"ticks\": \"\"}}, \"type\": \"scattercarpet\"}], \"scattergeo\": [{\"marker\": {\"colorbar\": {\"outlinewidth\": 0, \"ticks\": \"\"}}, \"type\": \"scattergeo\"}], \"scattergl\": [{\"marker\": {\"colorbar\": {\"outlinewidth\": 0, \"ticks\": \"\"}}, \"type\": \"scattergl\"}], \"scattermapbox\": [{\"marker\": {\"colorbar\": {\"outlinewidth\": 0, \"ticks\": \"\"}}, \"type\": \"scattermapbox\"}], \"scatterpolar\": [{\"marker\": {\"colorbar\": {\"outlinewidth\": 0, \"ticks\": \"\"}}, \"type\": \"scatterpolar\"}], \"scatterpolargl\": [{\"marker\": {\"colorbar\": {\"outlinewidth\": 0, \"ticks\": \"\"}}, \"type\": \"scatterpolargl\"}], \"scatterternary\": [{\"marker\": {\"colorbar\": {\"outlinewidth\": 0, \"ticks\": \"\"}}, \"type\": \"scatterternary\"}], \"surface\": [{\"colorbar\": {\"outlinewidth\": 0, \"ticks\": \"\"}, \"colorscale\": [[0.0, \"#0d0887\"], [0.1111111111111111, \"#46039f\"], [0.2222222222222222, \"#7201a8\"], [0.3333333333333333, \"#9c179e\"], [0.4444444444444444, \"#bd3786\"], [0.5555555555555556, \"#d8576b\"], [0.6666666666666666, \"#ed7953\"], [0.7777777777777778, \"#fb9f3a\"], [0.8888888888888888, \"#fdca26\"], [1.0, \"#f0f921\"]], \"type\": \"surface\"}], \"table\": [{\"cells\": {\"fill\": {\"color\": \"#EBF0F8\"}, \"line\": {\"color\": \"white\"}}, \"header\": {\"fill\": {\"color\": \"#C8D4E3\"}, \"line\": {\"color\": \"white\"}}, \"type\": \"table\"}]}, \"layout\": {\"annotationdefaults\": {\"arrowcolor\": \"#2a3f5f\", \"arrowhead\": 0, \"arrowwidth\": 1}, \"colorscale\": {\"diverging\": [[0, \"#8e0152\"], [0.1, \"#c51b7d\"], [0.2, \"#de77ae\"], [0.3, \"#f1b6da\"], [0.4, \"#fde0ef\"], [0.5, \"#f7f7f7\"], [0.6, \"#e6f5d0\"], [0.7, \"#b8e186\"], [0.8, \"#7fbc41\"], [0.9, \"#4d9221\"], [1, \"#276419\"]], \"sequential\": [[0.0, \"#0d0887\"], [0.1111111111111111, \"#46039f\"], [0.2222222222222222, \"#7201a8\"], [0.3333333333333333, \"#9c179e\"], [0.4444444444444444, \"#bd3786\"], [0.5555555555555556, \"#d8576b\"], [0.6666666666666666, \"#ed7953\"], [0.7777777777777778, \"#fb9f3a\"], [0.8888888888888888, \"#fdca26\"], [1.0, \"#f0f921\"]], \"sequentialminus\": [[0.0, \"#0d0887\"], [0.1111111111111111, \"#46039f\"], [0.2222222222222222, \"#7201a8\"], [0.3333333333333333, \"#9c179e\"], [0.4444444444444444, \"#bd3786\"], [0.5555555555555556, \"#d8576b\"], [0.6666666666666666, \"#ed7953\"], [0.7777777777777778, \"#fb9f3a\"], [0.8888888888888888, \"#fdca26\"], [1.0, \"#f0f921\"]]}, \"colorway\": [\"#636efa\", \"#EF553B\", \"#00cc96\", \"#ab63fa\", \"#FFA15A\", \"#19d3f3\", \"#FF6692\", \"#B6E880\", \"#FF97FF\", \"#FECB52\"], \"font\": {\"color\": \"#2a3f5f\"}, \"geo\": {\"bgcolor\": \"white\", \"lakecolor\": \"white\", \"landcolor\": \"#E5ECF6\", \"showlakes\": true, \"showland\": true, \"subunitcolor\": \"white\"}, \"hoverlabel\": {\"align\": \"left\"}, \"hovermode\": \"closest\", \"mapbox\": {\"style\": \"light\"}, \"paper_bgcolor\": \"white\", \"plot_bgcolor\": \"#E5ECF6\", \"polar\": {\"angularaxis\": {\"gridcolor\": \"white\", \"linecolor\": \"white\", \"ticks\": \"\"}, \"bgcolor\": \"#E5ECF6\", \"radialaxis\": {\"gridcolor\": \"white\", \"linecolor\": \"white\", \"ticks\": \"\"}}, \"scene\": {\"xaxis\": {\"backgroundcolor\": \"#E5ECF6\", \"gridcolor\": \"white\", \"gridwidth\": 2, \"linecolor\": \"white\", \"showbackground\": true, \"ticks\": \"\", \"zerolinecolor\": \"white\"}, \"yaxis\": {\"backgroundcolor\": \"#E5ECF6\", \"gridcolor\": \"white\", \"gridwidth\": 2, \"linecolor\": \"white\", \"showbackground\": true, \"ticks\": \"\", \"zerolinecolor\": \"white\"}, \"zaxis\": {\"backgroundcolor\": \"#E5ECF6\", \"gridcolor\": \"white\", \"gridwidth\": 2, \"linecolor\": \"white\", \"showbackground\": true, \"ticks\": \"\", \"zerolinecolor\": \"white\"}}, \"shapedefaults\": {\"line\": {\"color\": \"#2a3f5f\"}}, \"ternary\": {\"aaxis\": {\"gridcolor\": \"white\", \"linecolor\": \"white\", \"ticks\": \"\"}, \"baxis\": {\"gridcolor\": \"white\", \"linecolor\": \"white\", \"ticks\": \"\"}, \"bgcolor\": \"#E5ECF6\", \"caxis\": {\"gridcolor\": \"white\", \"linecolor\": \"white\", \"ticks\": \"\"}}, \"title\": {\"x\": 0.05}, \"xaxis\": {\"automargin\": true, \"gridcolor\": \"white\", \"linecolor\": \"white\", \"ticks\": \"\", \"zerolinecolor\": \"white\", \"zerolinewidth\": 2}, \"yaxis\": {\"automargin\": true, \"gridcolor\": \"white\", \"linecolor\": \"white\", \"ticks\": \"\", \"zerolinecolor\": \"white\", \"zerolinewidth\": 2}}}, \"title\": {\"font\": {\"color\": \"#4D5663\"}, \"text\": \"\\u0410\\u0427\\u0425\"}, \"xaxis\": {\"gridcolor\": \"#E1E5ED\", \"showgrid\": true, \"tickfont\": {\"color\": \"#4D5663\"}, \"title\": {\"font\": {\"color\": \"#4D5663\"}, \"text\": \"W\"}, \"type\": \"log\", \"zerolinecolor\": \"#E1E5ED\"}, \"yaxis\": {\"gridcolor\": \"#E1E5ED\", \"showgrid\": true, \"tickfont\": {\"color\": \"#4D5663\"}, \"title\": {\"font\": {\"color\": \"#4D5663\"}, \"text\": \"mag\"}, \"zerolinecolor\": \"#E1E5ED\"}},\n",
       "                        {\"showLink\": true, \"linkText\": \"Export to plot.ly\", \"plotlyServerURL\": \"https://plot.ly\", \"responsive\": true}\n",
       "                    ).then(function(){\n",
       "                            \n",
       "var gd = document.getElementById('133e1436-f085-4c9e-b882-868c009a3f98');\n",
       "var x = new MutationObserver(function (mutations, observer) {{\n",
       "        var display = window.getComputedStyle(gd).display;\n",
       "        if (!display || display === 'none') {{\n",
       "            console.log([gd, 'removed!']);\n",
       "            Plotly.purge(gd);\n",
       "            observer.disconnect();\n",
       "        }}\n",
       "}});\n",
       "\n",
       "// Listen for the removal of the full notebook cells\n",
       "var notebookContainer = gd.closest('#notebook-container');\n",
       "if (notebookContainer) {{\n",
       "    x.observe(notebookContainer, {childList: true});\n",
       "}}\n",
       "\n",
       "// Listen for the clearing of the current output cell\n",
       "var outputEl = gd.closest('.output');\n",
       "if (outputEl) {{\n",
       "    x.observe(outputEl, {childList: true});\n",
       "}}\n",
       "\n",
       "                        })\n",
       "                };\n",
       "                });\n",
       "            </script>\n",
       "        </div>"
      ]
     },
     "metadata": {},
     "output_type": "display_data"
    },
    {
     "data": {
      "application/vnd.plotly.v1+json": {
       "config": {
        "linkText": "Export to plot.ly",
        "plotlyServerURL": "https://plot.ly",
        "showLink": true
       },
       "data": [
        {
         "line": {
          "color": "rgba(255, 153, 51, 1.0)",
          "dash": "solid",
          "shape": "linear",
          "width": 1.3
         },
         "mode": "lines",
         "name": "0",
         "text": "",
         "type": "scatter",
         "x": [
          1e-10,
          1.2915496650148827e-10,
          1.6681005372000558e-10,
          2.1544346900318867e-10,
          2.782559402207126e-10,
          3.593813663804626e-10,
          4.6415888336127727e-10,
          5.994842503189421e-10,
          7.742636826811277e-10,
          1e-09,
          1.2915496650148826e-09,
          1.6681005372000556e-09,
          2.1544346900318866e-09,
          2.7825594022071257e-09,
          3.5938136638046257e-09,
          4.641588833612773e-09,
          5.994842503189421e-09,
          7.742636826811278e-09,
          1e-08,
          1.2915496650148827e-08,
          1.6681005372000592e-08,
          2.1544346900318822e-08,
          2.782559402207126e-08,
          3.593813663804626e-08,
          4.641588833612773e-08,
          5.99484250318941e-08,
          7.742636826811277e-08,
          1e-07,
          1.2915496650148827e-07,
          1.6681005372000556e-07,
          2.1544346900318822e-07,
          2.782559402207126e-07,
          3.5938136638046254e-07,
          4.6415888336127725e-07,
          5.994842503189409e-07,
          7.742636826811278e-07,
          1e-06,
          1.2915496650148827e-06,
          1.6681005372000591e-06,
          2.1544346900318822e-06,
          2.782559402207126e-06,
          3.5938136638046257e-06,
          4.641588833612773e-06,
          5.994842503189409e-06,
          7.742636826811262e-06,
          1e-05,
          1.2915496650148827e-05,
          1.6681005372000593e-05,
          2.1544346900318823e-05,
          2.7825594022071202e-05,
          3.5938136638046256e-05,
          4.641588833612772e-05,
          5.994842503189409e-05,
          7.742636826811262e-05,
          0.0001,
          0.00012915496650148828,
          0.00016681005372000556,
          0.00021544346900318823,
          0.00027825594022071204,
          0.00035938136638046257,
          0.00046415888336127724,
          0.0005994842503189409,
          0.0007742636826811262,
          0.001,
          0.0012915496650148827,
          0.0016681005372000558,
          0.002154434690031882,
          0.00278255940220712,
          0.003593813663804626,
          0.004641588833612773,
          0.005994842503189409,
          0.007742636826811262,
          0.01,
          0.012915496650148827,
          0.016681005372000558,
          0.021544346900318777,
          0.02782559402207126,
          0.03593813663804626,
          0.046415888336127725,
          0.059948425031893966,
          0.07742636826811278,
          0.1,
          0.12915496650148828,
          0.16681005372000557,
          0.21544346900318778,
          0.2782559402207126,
          0.3593813663804626,
          0.46415888336127725,
          0.5994842503189397,
          0.7742636826811246,
          1,
          1.2915496650148828,
          1.6681005372000557,
          2.154434690031878,
          2.782559402207126,
          3.593813663804626,
          4.641588833612772,
          5.994842503189396,
          7.742636826811246,
          10
         ],
         "y": [
          89.42706130231653,
          89.26003769418507,
          89.04433742716898,
          88.76579078300661,
          88.40612217576286,
          87.94178223891824,
          87.34247289029904,
          86.56931407468574,
          85.57262890701192,
          84.28940686250037,
          82.64070521129922,
          80.52968454470236,
          77.84183577448113,
          74.4504579644773,
          70.23250827855884,
          65.1012096885512,
          59.05797655902463,
          52.25068221820012,
          45,
          37.74931778179989,
          30.942023440975312,
          24.898790311448842,
          19.76749172144115,
          15.549542035522716,
          12.158164225518878,
          9.470315455297667,
          7.359294788700779,
          5.710593137499643,
          4.427371092988093,
          3.430685925314276,
          2.6575271097009887,
          2.0582177610817616,
          1.5938778242371419,
          1.2342092169933803,
          0.9556625728310153,
          0.7399623058149387,
          0.5729386976834859,
          0.44361154801601443,
          0.34347505969995085,
          0.2659415405664335,
          0.2059094688211539,
          0.15942849852610855,
          0.12343982399000304,
          0.0955750319374,
          0.07400030369025773,
          0.057295760414500616,
          0.04436203238310654,
          0.03434791331317321,
          0.02659434313024722,
          0.02059103464276718,
          0.015942890587624665,
          0.012344001306554359,
          0.009557511969859062,
          0.007400034442542149,
          0.005729577932209638,
          0.004436204115923721,
          0.003434791738669289,
          0.00265943450210077,
          0.00205910355203805,
          0.0015942890994976695,
          0.0012344001495630424,
          0.0009557512057620398,
          0.0007400034483277353,
          0.0005729577951117247,
          0.00044362041246998567,
          0.000343479174274281,
          0.0002659434503991531,
          0.00020591035529156636,
          0.00015942890999050217,
          0.00012344001497521182,
          9.557512058498014e-05,
          7.400034483684706e-05,
          5.729577951306322e-05,
          4.436204124787617e-05,
          3.4347917427835444e-05,
          2.659434504010444e-05,
          2.059103552924435e-05,
          1.5942890999090952e-05,
          1.2344001497540094e-05,
          9.557512058506806e-06,
          7.400034483688764e-06,
          5.729577951308212e-06,
          4.436204124788495e-06,
          3.4347917427839523e-06,
          2.6594345040106334e-06,
          2.0591035529245234e-06,
          1.594289099909136e-06,
          1.234400149754028e-06,
          9.557512058506895e-07,
          7.400034483688835e-07,
          5.729577951308232e-07,
          4.4362041247885034e-07,
          3.4347917427839556e-07,
          2.6594345040106346e-07,
          2.059103552924524e-07,
          1.594289099909136e-07,
          1.2344001497540285e-07,
          9.557512058506898e-08,
          7.400034483688836e-08,
          5.729577951308233e-08
         ]
        }
       ],
       "layout": {
        "legend": {
         "bgcolor": "#FFFFFF",
         "font": {
          "color": "#4D5663"
         }
        },
        "paper_bgcolor": "#FFFFFF",
        "plot_bgcolor": "#FFFFFF",
        "template": {
         "data": {
          "bar": [
           {
            "error_x": {
             "color": "#2a3f5f"
            },
            "error_y": {
             "color": "#2a3f5f"
            },
            "marker": {
             "line": {
              "color": "#E5ECF6",
              "width": 0.5
             }
            },
            "type": "bar"
           }
          ],
          "barpolar": [
           {
            "marker": {
             "line": {
              "color": "#E5ECF6",
              "width": 0.5
             }
            },
            "type": "barpolar"
           }
          ],
          "carpet": [
           {
            "aaxis": {
             "endlinecolor": "#2a3f5f",
             "gridcolor": "white",
             "linecolor": "white",
             "minorgridcolor": "white",
             "startlinecolor": "#2a3f5f"
            },
            "baxis": {
             "endlinecolor": "#2a3f5f",
             "gridcolor": "white",
             "linecolor": "white",
             "minorgridcolor": "white",
             "startlinecolor": "#2a3f5f"
            },
            "type": "carpet"
           }
          ],
          "choropleth": [
           {
            "colorbar": {
             "outlinewidth": 0,
             "ticks": ""
            },
            "type": "choropleth"
           }
          ],
          "contour": [
           {
            "colorbar": {
             "outlinewidth": 0,
             "ticks": ""
            },
            "colorscale": [
             [
              0,
              "#0d0887"
             ],
             [
              0.1111111111111111,
              "#46039f"
             ],
             [
              0.2222222222222222,
              "#7201a8"
             ],
             [
              0.3333333333333333,
              "#9c179e"
             ],
             [
              0.4444444444444444,
              "#bd3786"
             ],
             [
              0.5555555555555556,
              "#d8576b"
             ],
             [
              0.6666666666666666,
              "#ed7953"
             ],
             [
              0.7777777777777778,
              "#fb9f3a"
             ],
             [
              0.8888888888888888,
              "#fdca26"
             ],
             [
              1,
              "#f0f921"
             ]
            ],
            "type": "contour"
           }
          ],
          "contourcarpet": [
           {
            "colorbar": {
             "outlinewidth": 0,
             "ticks": ""
            },
            "type": "contourcarpet"
           }
          ],
          "heatmap": [
           {
            "colorbar": {
             "outlinewidth": 0,
             "ticks": ""
            },
            "colorscale": [
             [
              0,
              "#0d0887"
             ],
             [
              0.1111111111111111,
              "#46039f"
             ],
             [
              0.2222222222222222,
              "#7201a8"
             ],
             [
              0.3333333333333333,
              "#9c179e"
             ],
             [
              0.4444444444444444,
              "#bd3786"
             ],
             [
              0.5555555555555556,
              "#d8576b"
             ],
             [
              0.6666666666666666,
              "#ed7953"
             ],
             [
              0.7777777777777778,
              "#fb9f3a"
             ],
             [
              0.8888888888888888,
              "#fdca26"
             ],
             [
              1,
              "#f0f921"
             ]
            ],
            "type": "heatmap"
           }
          ],
          "heatmapgl": [
           {
            "colorbar": {
             "outlinewidth": 0,
             "ticks": ""
            },
            "colorscale": [
             [
              0,
              "#0d0887"
             ],
             [
              0.1111111111111111,
              "#46039f"
             ],
             [
              0.2222222222222222,
              "#7201a8"
             ],
             [
              0.3333333333333333,
              "#9c179e"
             ],
             [
              0.4444444444444444,
              "#bd3786"
             ],
             [
              0.5555555555555556,
              "#d8576b"
             ],
             [
              0.6666666666666666,
              "#ed7953"
             ],
             [
              0.7777777777777778,
              "#fb9f3a"
             ],
             [
              0.8888888888888888,
              "#fdca26"
             ],
             [
              1,
              "#f0f921"
             ]
            ],
            "type": "heatmapgl"
           }
          ],
          "histogram": [
           {
            "marker": {
             "colorbar": {
              "outlinewidth": 0,
              "ticks": ""
             }
            },
            "type": "histogram"
           }
          ],
          "histogram2d": [
           {
            "colorbar": {
             "outlinewidth": 0,
             "ticks": ""
            },
            "colorscale": [
             [
              0,
              "#0d0887"
             ],
             [
              0.1111111111111111,
              "#46039f"
             ],
             [
              0.2222222222222222,
              "#7201a8"
             ],
             [
              0.3333333333333333,
              "#9c179e"
             ],
             [
              0.4444444444444444,
              "#bd3786"
             ],
             [
              0.5555555555555556,
              "#d8576b"
             ],
             [
              0.6666666666666666,
              "#ed7953"
             ],
             [
              0.7777777777777778,
              "#fb9f3a"
             ],
             [
              0.8888888888888888,
              "#fdca26"
             ],
             [
              1,
              "#f0f921"
             ]
            ],
            "type": "histogram2d"
           }
          ],
          "histogram2dcontour": [
           {
            "colorbar": {
             "outlinewidth": 0,
             "ticks": ""
            },
            "colorscale": [
             [
              0,
              "#0d0887"
             ],
             [
              0.1111111111111111,
              "#46039f"
             ],
             [
              0.2222222222222222,
              "#7201a8"
             ],
             [
              0.3333333333333333,
              "#9c179e"
             ],
             [
              0.4444444444444444,
              "#bd3786"
             ],
             [
              0.5555555555555556,
              "#d8576b"
             ],
             [
              0.6666666666666666,
              "#ed7953"
             ],
             [
              0.7777777777777778,
              "#fb9f3a"
             ],
             [
              0.8888888888888888,
              "#fdca26"
             ],
             [
              1,
              "#f0f921"
             ]
            ],
            "type": "histogram2dcontour"
           }
          ],
          "mesh3d": [
           {
            "colorbar": {
             "outlinewidth": 0,
             "ticks": ""
            },
            "type": "mesh3d"
           }
          ],
          "parcoords": [
           {
            "line": {
             "colorbar": {
              "outlinewidth": 0,
              "ticks": ""
             }
            },
            "type": "parcoords"
           }
          ],
          "scatter": [
           {
            "marker": {
             "colorbar": {
              "outlinewidth": 0,
              "ticks": ""
             }
            },
            "type": "scatter"
           }
          ],
          "scatter3d": [
           {
            "line": {
             "colorbar": {
              "outlinewidth": 0,
              "ticks": ""
             }
            },
            "marker": {
             "colorbar": {
              "outlinewidth": 0,
              "ticks": ""
             }
            },
            "type": "scatter3d"
           }
          ],
          "scattercarpet": [
           {
            "marker": {
             "colorbar": {
              "outlinewidth": 0,
              "ticks": ""
             }
            },
            "type": "scattercarpet"
           }
          ],
          "scattergeo": [
           {
            "marker": {
             "colorbar": {
              "outlinewidth": 0,
              "ticks": ""
             }
            },
            "type": "scattergeo"
           }
          ],
          "scattergl": [
           {
            "marker": {
             "colorbar": {
              "outlinewidth": 0,
              "ticks": ""
             }
            },
            "type": "scattergl"
           }
          ],
          "scattermapbox": [
           {
            "marker": {
             "colorbar": {
              "outlinewidth": 0,
              "ticks": ""
             }
            },
            "type": "scattermapbox"
           }
          ],
          "scatterpolar": [
           {
            "marker": {
             "colorbar": {
              "outlinewidth": 0,
              "ticks": ""
             }
            },
            "type": "scatterpolar"
           }
          ],
          "scatterpolargl": [
           {
            "marker": {
             "colorbar": {
              "outlinewidth": 0,
              "ticks": ""
             }
            },
            "type": "scatterpolargl"
           }
          ],
          "scatterternary": [
           {
            "marker": {
             "colorbar": {
              "outlinewidth": 0,
              "ticks": ""
             }
            },
            "type": "scatterternary"
           }
          ],
          "surface": [
           {
            "colorbar": {
             "outlinewidth": 0,
             "ticks": ""
            },
            "colorscale": [
             [
              0,
              "#0d0887"
             ],
             [
              0.1111111111111111,
              "#46039f"
             ],
             [
              0.2222222222222222,
              "#7201a8"
             ],
             [
              0.3333333333333333,
              "#9c179e"
             ],
             [
              0.4444444444444444,
              "#bd3786"
             ],
             [
              0.5555555555555556,
              "#d8576b"
             ],
             [
              0.6666666666666666,
              "#ed7953"
             ],
             [
              0.7777777777777778,
              "#fb9f3a"
             ],
             [
              0.8888888888888888,
              "#fdca26"
             ],
             [
              1,
              "#f0f921"
             ]
            ],
            "type": "surface"
           }
          ],
          "table": [
           {
            "cells": {
             "fill": {
              "color": "#EBF0F8"
             },
             "line": {
              "color": "white"
             }
            },
            "header": {
             "fill": {
              "color": "#C8D4E3"
             },
             "line": {
              "color": "white"
             }
            },
            "type": "table"
           }
          ]
         },
         "layout": {
          "annotationdefaults": {
           "arrowcolor": "#2a3f5f",
           "arrowhead": 0,
           "arrowwidth": 1
          },
          "colorscale": {
           "diverging": [
            [
             0,
             "#8e0152"
            ],
            [
             0.1,
             "#c51b7d"
            ],
            [
             0.2,
             "#de77ae"
            ],
            [
             0.3,
             "#f1b6da"
            ],
            [
             0.4,
             "#fde0ef"
            ],
            [
             0.5,
             "#f7f7f7"
            ],
            [
             0.6,
             "#e6f5d0"
            ],
            [
             0.7,
             "#b8e186"
            ],
            [
             0.8,
             "#7fbc41"
            ],
            [
             0.9,
             "#4d9221"
            ],
            [
             1,
             "#276419"
            ]
           ],
           "sequential": [
            [
             0,
             "#0d0887"
            ],
            [
             0.1111111111111111,
             "#46039f"
            ],
            [
             0.2222222222222222,
             "#7201a8"
            ],
            [
             0.3333333333333333,
             "#9c179e"
            ],
            [
             0.4444444444444444,
             "#bd3786"
            ],
            [
             0.5555555555555556,
             "#d8576b"
            ],
            [
             0.6666666666666666,
             "#ed7953"
            ],
            [
             0.7777777777777778,
             "#fb9f3a"
            ],
            [
             0.8888888888888888,
             "#fdca26"
            ],
            [
             1,
             "#f0f921"
            ]
           ],
           "sequentialminus": [
            [
             0,
             "#0d0887"
            ],
            [
             0.1111111111111111,
             "#46039f"
            ],
            [
             0.2222222222222222,
             "#7201a8"
            ],
            [
             0.3333333333333333,
             "#9c179e"
            ],
            [
             0.4444444444444444,
             "#bd3786"
            ],
            [
             0.5555555555555556,
             "#d8576b"
            ],
            [
             0.6666666666666666,
             "#ed7953"
            ],
            [
             0.7777777777777778,
             "#fb9f3a"
            ],
            [
             0.8888888888888888,
             "#fdca26"
            ],
            [
             1,
             "#f0f921"
            ]
           ]
          },
          "colorway": [
           "#636efa",
           "#EF553B",
           "#00cc96",
           "#ab63fa",
           "#FFA15A",
           "#19d3f3",
           "#FF6692",
           "#B6E880",
           "#FF97FF",
           "#FECB52"
          ],
          "font": {
           "color": "#2a3f5f"
          },
          "geo": {
           "bgcolor": "white",
           "lakecolor": "white",
           "landcolor": "#E5ECF6",
           "showlakes": true,
           "showland": true,
           "subunitcolor": "white"
          },
          "hoverlabel": {
           "align": "left"
          },
          "hovermode": "closest",
          "mapbox": {
           "style": "light"
          },
          "paper_bgcolor": "white",
          "plot_bgcolor": "#E5ECF6",
          "polar": {
           "angularaxis": {
            "gridcolor": "white",
            "linecolor": "white",
            "ticks": ""
           },
           "bgcolor": "#E5ECF6",
           "radialaxis": {
            "gridcolor": "white",
            "linecolor": "white",
            "ticks": ""
           }
          },
          "scene": {
           "xaxis": {
            "backgroundcolor": "#E5ECF6",
            "gridcolor": "white",
            "gridwidth": 2,
            "linecolor": "white",
            "showbackground": true,
            "ticks": "",
            "zerolinecolor": "white"
           },
           "yaxis": {
            "backgroundcolor": "#E5ECF6",
            "gridcolor": "white",
            "gridwidth": 2,
            "linecolor": "white",
            "showbackground": true,
            "ticks": "",
            "zerolinecolor": "white"
           },
           "zaxis": {
            "backgroundcolor": "#E5ECF6",
            "gridcolor": "white",
            "gridwidth": 2,
            "linecolor": "white",
            "showbackground": true,
            "ticks": "",
            "zerolinecolor": "white"
           }
          },
          "shapedefaults": {
           "line": {
            "color": "#2a3f5f"
           }
          },
          "ternary": {
           "aaxis": {
            "gridcolor": "white",
            "linecolor": "white",
            "ticks": ""
           },
           "baxis": {
            "gridcolor": "white",
            "linecolor": "white",
            "ticks": ""
           },
           "bgcolor": "#E5ECF6",
           "caxis": {
            "gridcolor": "white",
            "linecolor": "white",
            "ticks": ""
           }
          },
          "title": {
           "x": 0.05
          },
          "xaxis": {
           "automargin": true,
           "gridcolor": "white",
           "linecolor": "white",
           "ticks": "",
           "zerolinecolor": "white",
           "zerolinewidth": 2
          },
          "yaxis": {
           "automargin": true,
           "gridcolor": "white",
           "linecolor": "white",
           "ticks": "",
           "zerolinecolor": "white",
           "zerolinewidth": 2
          }
         }
        },
        "title": {
         "font": {
          "color": "#4D5663"
         },
         "text": "ФЧХ"
        },
        "xaxis": {
         "gridcolor": "#E1E5ED",
         "showgrid": true,
         "tickfont": {
          "color": "#4D5663"
         },
         "title": {
          "font": {
           "color": "#4D5663"
          },
          "text": "W"
         },
         "type": "log",
         "zerolinecolor": "#E1E5ED"
        },
        "yaxis": {
         "gridcolor": "#E1E5ED",
         "showgrid": true,
         "tickfont": {
          "color": "#4D5663"
         },
         "title": {
          "font": {
           "color": "#4D5663"
          },
          "text": "phase"
         },
         "zerolinecolor": "#E1E5ED"
        }
       }
      },
      "text/html": [
       "<div>\n",
       "        \n",
       "        \n",
       "            <div id=\"61eab787-20c3-4b74-a3e2-1755e3a6a0dd\" class=\"plotly-graph-div\" style=\"height:525px; width:100%;\"></div>\n",
       "            <script type=\"text/javascript\">\n",
       "                require([\"plotly\"], function(Plotly) {\n",
       "                    window.PLOTLYENV=window.PLOTLYENV || {};\n",
       "                    window.PLOTLYENV.BASE_URL='https://plot.ly';\n",
       "                    \n",
       "                if (document.getElementById(\"61eab787-20c3-4b74-a3e2-1755e3a6a0dd\")) {\n",
       "                    Plotly.newPlot(\n",
       "                        '61eab787-20c3-4b74-a3e2-1755e3a6a0dd',\n",
       "                        [{\"line\": {\"color\": \"rgba(255, 153, 51, 1.0)\", \"dash\": \"solid\", \"shape\": \"linear\", \"width\": 1.3}, \"mode\": \"lines\", \"name\": \"0\", \"text\": \"\", \"type\": \"scatter\", \"x\": [1e-10, 1.2915496650148827e-10, 1.6681005372000558e-10, 2.1544346900318867e-10, 2.782559402207126e-10, 3.593813663804626e-10, 4.6415888336127727e-10, 5.994842503189421e-10, 7.742636826811277e-10, 1e-09, 1.2915496650148826e-09, 1.6681005372000556e-09, 2.1544346900318866e-09, 2.7825594022071257e-09, 3.5938136638046257e-09, 4.641588833612773e-09, 5.994842503189421e-09, 7.742636826811278e-09, 1e-08, 1.2915496650148827e-08, 1.6681005372000592e-08, 2.1544346900318822e-08, 2.782559402207126e-08, 3.593813663804626e-08, 4.641588833612773e-08, 5.99484250318941e-08, 7.742636826811277e-08, 1e-07, 1.2915496650148827e-07, 1.6681005372000556e-07, 2.1544346900318822e-07, 2.782559402207126e-07, 3.5938136638046254e-07, 4.6415888336127725e-07, 5.994842503189409e-07, 7.742636826811278e-07, 1e-06, 1.2915496650148827e-06, 1.6681005372000591e-06, 2.1544346900318822e-06, 2.782559402207126e-06, 3.5938136638046257e-06, 4.641588833612773e-06, 5.994842503189409e-06, 7.742636826811262e-06, 1e-05, 1.2915496650148827e-05, 1.6681005372000593e-05, 2.1544346900318823e-05, 2.7825594022071202e-05, 3.5938136638046256e-05, 4.641588833612772e-05, 5.994842503189409e-05, 7.742636826811262e-05, 0.0001, 0.00012915496650148828, 0.00016681005372000556, 0.00021544346900318823, 0.00027825594022071204, 0.00035938136638046257, 0.00046415888336127724, 0.0005994842503189409, 0.0007742636826811262, 0.001, 0.0012915496650148827, 0.0016681005372000558, 0.002154434690031882, 0.00278255940220712, 0.003593813663804626, 0.004641588833612773, 0.005994842503189409, 0.007742636826811262, 0.01, 0.012915496650148827, 0.016681005372000558, 0.021544346900318777, 0.02782559402207126, 0.03593813663804626, 0.046415888336127725, 0.059948425031893966, 0.07742636826811278, 0.1, 0.12915496650148828, 0.16681005372000557, 0.21544346900318778, 0.2782559402207126, 0.3593813663804626, 0.46415888336127725, 0.5994842503189397, 0.7742636826811246, 1.0, 1.2915496650148828, 1.6681005372000557, 2.154434690031878, 2.782559402207126, 3.593813663804626, 4.641588833612772, 5.994842503189396, 7.742636826811246, 10.0], \"y\": [89.42706130231653, 89.26003769418507, 89.04433742716898, 88.76579078300661, 88.40612217576286, 87.94178223891824, 87.34247289029904, 86.56931407468574, 85.57262890701192, 84.28940686250037, 82.64070521129922, 80.52968454470236, 77.84183577448113, 74.4504579644773, 70.23250827855884, 65.1012096885512, 59.05797655902463, 52.25068221820012, 45.0, 37.74931778179989, 30.942023440975312, 24.898790311448842, 19.76749172144115, 15.549542035522716, 12.158164225518878, 9.470315455297667, 7.359294788700779, 5.710593137499643, 4.427371092988093, 3.430685925314276, 2.6575271097009887, 2.0582177610817616, 1.5938778242371419, 1.2342092169933803, 0.9556625728310153, 0.7399623058149387, 0.5729386976834859, 0.44361154801601443, 0.34347505969995085, 0.2659415405664335, 0.2059094688211539, 0.15942849852610855, 0.12343982399000304, 0.0955750319374, 0.07400030369025773, 0.057295760414500616, 0.04436203238310654, 0.03434791331317321, 0.02659434313024722, 0.02059103464276718, 0.015942890587624665, 0.012344001306554359, 0.009557511969859062, 0.007400034442542149, 0.005729577932209638, 0.004436204115923721, 0.003434791738669289, 0.00265943450210077, 0.00205910355203805, 0.0015942890994976695, 0.0012344001495630424, 0.0009557512057620398, 0.0007400034483277353, 0.0005729577951117247, 0.00044362041246998567, 0.000343479174274281, 0.0002659434503991531, 0.00020591035529156636, 0.00015942890999050217, 0.00012344001497521182, 9.557512058498014e-05, 7.400034483684706e-05, 5.729577951306322e-05, 4.436204124787617e-05, 3.4347917427835444e-05, 2.659434504010444e-05, 2.059103552924435e-05, 1.5942890999090952e-05, 1.2344001497540094e-05, 9.557512058506806e-06, 7.400034483688764e-06, 5.729577951308212e-06, 4.436204124788495e-06, 3.4347917427839523e-06, 2.6594345040106334e-06, 2.0591035529245234e-06, 1.594289099909136e-06, 1.234400149754028e-06, 9.557512058506895e-07, 7.400034483688835e-07, 5.729577951308232e-07, 4.4362041247885034e-07, 3.4347917427839556e-07, 2.6594345040106346e-07, 2.059103552924524e-07, 1.594289099909136e-07, 1.2344001497540285e-07, 9.557512058506898e-08, 7.400034483688836e-08, 5.729577951308233e-08]}],\n",
       "                        {\"legend\": {\"bgcolor\": \"#FFFFFF\", \"font\": {\"color\": \"#4D5663\"}}, \"paper_bgcolor\": \"#FFFFFF\", \"plot_bgcolor\": \"#FFFFFF\", \"template\": {\"data\": {\"bar\": [{\"error_x\": {\"color\": \"#2a3f5f\"}, \"error_y\": {\"color\": \"#2a3f5f\"}, \"marker\": {\"line\": {\"color\": \"#E5ECF6\", \"width\": 0.5}}, \"type\": \"bar\"}], \"barpolar\": [{\"marker\": {\"line\": {\"color\": \"#E5ECF6\", \"width\": 0.5}}, \"type\": \"barpolar\"}], \"carpet\": [{\"aaxis\": {\"endlinecolor\": \"#2a3f5f\", \"gridcolor\": \"white\", \"linecolor\": \"white\", \"minorgridcolor\": \"white\", \"startlinecolor\": \"#2a3f5f\"}, \"baxis\": {\"endlinecolor\": \"#2a3f5f\", \"gridcolor\": \"white\", \"linecolor\": \"white\", \"minorgridcolor\": \"white\", \"startlinecolor\": \"#2a3f5f\"}, \"type\": \"carpet\"}], \"choropleth\": [{\"colorbar\": {\"outlinewidth\": 0, \"ticks\": \"\"}, \"type\": \"choropleth\"}], \"contour\": [{\"colorbar\": {\"outlinewidth\": 0, \"ticks\": \"\"}, \"colorscale\": [[0.0, \"#0d0887\"], [0.1111111111111111, \"#46039f\"], [0.2222222222222222, \"#7201a8\"], [0.3333333333333333, \"#9c179e\"], [0.4444444444444444, \"#bd3786\"], [0.5555555555555556, \"#d8576b\"], [0.6666666666666666, \"#ed7953\"], [0.7777777777777778, \"#fb9f3a\"], [0.8888888888888888, \"#fdca26\"], [1.0, \"#f0f921\"]], \"type\": \"contour\"}], \"contourcarpet\": [{\"colorbar\": {\"outlinewidth\": 0, \"ticks\": \"\"}, \"type\": \"contourcarpet\"}], \"heatmap\": [{\"colorbar\": {\"outlinewidth\": 0, \"ticks\": \"\"}, \"colorscale\": [[0.0, \"#0d0887\"], [0.1111111111111111, \"#46039f\"], [0.2222222222222222, \"#7201a8\"], [0.3333333333333333, \"#9c179e\"], [0.4444444444444444, \"#bd3786\"], [0.5555555555555556, \"#d8576b\"], [0.6666666666666666, \"#ed7953\"], [0.7777777777777778, \"#fb9f3a\"], [0.8888888888888888, \"#fdca26\"], [1.0, \"#f0f921\"]], \"type\": \"heatmap\"}], \"heatmapgl\": [{\"colorbar\": {\"outlinewidth\": 0, \"ticks\": \"\"}, \"colorscale\": [[0.0, \"#0d0887\"], [0.1111111111111111, \"#46039f\"], [0.2222222222222222, \"#7201a8\"], [0.3333333333333333, \"#9c179e\"], [0.4444444444444444, \"#bd3786\"], [0.5555555555555556, \"#d8576b\"], [0.6666666666666666, \"#ed7953\"], [0.7777777777777778, \"#fb9f3a\"], [0.8888888888888888, \"#fdca26\"], [1.0, \"#f0f921\"]], \"type\": \"heatmapgl\"}], \"histogram\": [{\"marker\": {\"colorbar\": {\"outlinewidth\": 0, \"ticks\": \"\"}}, \"type\": \"histogram\"}], \"histogram2d\": [{\"colorbar\": {\"outlinewidth\": 0, \"ticks\": \"\"}, \"colorscale\": [[0.0, \"#0d0887\"], [0.1111111111111111, \"#46039f\"], [0.2222222222222222, \"#7201a8\"], [0.3333333333333333, \"#9c179e\"], [0.4444444444444444, \"#bd3786\"], [0.5555555555555556, \"#d8576b\"], [0.6666666666666666, \"#ed7953\"], [0.7777777777777778, \"#fb9f3a\"], [0.8888888888888888, \"#fdca26\"], [1.0, \"#f0f921\"]], \"type\": \"histogram2d\"}], \"histogram2dcontour\": [{\"colorbar\": {\"outlinewidth\": 0, \"ticks\": \"\"}, \"colorscale\": [[0.0, \"#0d0887\"], [0.1111111111111111, \"#46039f\"], [0.2222222222222222, \"#7201a8\"], [0.3333333333333333, \"#9c179e\"], [0.4444444444444444, \"#bd3786\"], [0.5555555555555556, \"#d8576b\"], [0.6666666666666666, \"#ed7953\"], [0.7777777777777778, \"#fb9f3a\"], [0.8888888888888888, \"#fdca26\"], [1.0, \"#f0f921\"]], \"type\": \"histogram2dcontour\"}], \"mesh3d\": [{\"colorbar\": {\"outlinewidth\": 0, \"ticks\": \"\"}, \"type\": \"mesh3d\"}], \"parcoords\": [{\"line\": {\"colorbar\": {\"outlinewidth\": 0, \"ticks\": \"\"}}, \"type\": \"parcoords\"}], \"scatter\": [{\"marker\": {\"colorbar\": {\"outlinewidth\": 0, \"ticks\": \"\"}}, \"type\": \"scatter\"}], \"scatter3d\": [{\"line\": {\"colorbar\": {\"outlinewidth\": 0, \"ticks\": \"\"}}, \"marker\": {\"colorbar\": {\"outlinewidth\": 0, \"ticks\": \"\"}}, \"type\": \"scatter3d\"}], \"scattercarpet\": [{\"marker\": {\"colorbar\": {\"outlinewidth\": 0, \"ticks\": \"\"}}, \"type\": \"scattercarpet\"}], \"scattergeo\": [{\"marker\": {\"colorbar\": {\"outlinewidth\": 0, \"ticks\": \"\"}}, \"type\": \"scattergeo\"}], \"scattergl\": [{\"marker\": {\"colorbar\": {\"outlinewidth\": 0, \"ticks\": \"\"}}, \"type\": \"scattergl\"}], \"scattermapbox\": [{\"marker\": {\"colorbar\": {\"outlinewidth\": 0, \"ticks\": \"\"}}, \"type\": \"scattermapbox\"}], \"scatterpolar\": [{\"marker\": {\"colorbar\": {\"outlinewidth\": 0, \"ticks\": \"\"}}, \"type\": \"scatterpolar\"}], \"scatterpolargl\": [{\"marker\": {\"colorbar\": {\"outlinewidth\": 0, \"ticks\": \"\"}}, \"type\": \"scatterpolargl\"}], \"scatterternary\": [{\"marker\": {\"colorbar\": {\"outlinewidth\": 0, \"ticks\": \"\"}}, \"type\": \"scatterternary\"}], \"surface\": [{\"colorbar\": {\"outlinewidth\": 0, \"ticks\": \"\"}, \"colorscale\": [[0.0, \"#0d0887\"], [0.1111111111111111, \"#46039f\"], [0.2222222222222222, \"#7201a8\"], [0.3333333333333333, \"#9c179e\"], [0.4444444444444444, \"#bd3786\"], [0.5555555555555556, \"#d8576b\"], [0.6666666666666666, \"#ed7953\"], [0.7777777777777778, \"#fb9f3a\"], [0.8888888888888888, \"#fdca26\"], [1.0, \"#f0f921\"]], \"type\": \"surface\"}], \"table\": [{\"cells\": {\"fill\": {\"color\": \"#EBF0F8\"}, \"line\": {\"color\": \"white\"}}, \"header\": {\"fill\": {\"color\": \"#C8D4E3\"}, \"line\": {\"color\": \"white\"}}, \"type\": \"table\"}]}, \"layout\": {\"annotationdefaults\": {\"arrowcolor\": \"#2a3f5f\", \"arrowhead\": 0, \"arrowwidth\": 1}, \"colorscale\": {\"diverging\": [[0, \"#8e0152\"], [0.1, \"#c51b7d\"], [0.2, \"#de77ae\"], [0.3, \"#f1b6da\"], [0.4, \"#fde0ef\"], [0.5, \"#f7f7f7\"], [0.6, \"#e6f5d0\"], [0.7, \"#b8e186\"], [0.8, \"#7fbc41\"], [0.9, \"#4d9221\"], [1, \"#276419\"]], \"sequential\": [[0.0, \"#0d0887\"], [0.1111111111111111, \"#46039f\"], [0.2222222222222222, \"#7201a8\"], [0.3333333333333333, \"#9c179e\"], [0.4444444444444444, \"#bd3786\"], [0.5555555555555556, \"#d8576b\"], [0.6666666666666666, \"#ed7953\"], [0.7777777777777778, \"#fb9f3a\"], [0.8888888888888888, \"#fdca26\"], [1.0, \"#f0f921\"]], \"sequentialminus\": [[0.0, \"#0d0887\"], [0.1111111111111111, \"#46039f\"], [0.2222222222222222, \"#7201a8\"], [0.3333333333333333, \"#9c179e\"], [0.4444444444444444, \"#bd3786\"], [0.5555555555555556, \"#d8576b\"], [0.6666666666666666, \"#ed7953\"], [0.7777777777777778, \"#fb9f3a\"], [0.8888888888888888, \"#fdca26\"], [1.0, \"#f0f921\"]]}, \"colorway\": [\"#636efa\", \"#EF553B\", \"#00cc96\", \"#ab63fa\", \"#FFA15A\", \"#19d3f3\", \"#FF6692\", \"#B6E880\", \"#FF97FF\", \"#FECB52\"], \"font\": {\"color\": \"#2a3f5f\"}, \"geo\": {\"bgcolor\": \"white\", \"lakecolor\": \"white\", \"landcolor\": \"#E5ECF6\", \"showlakes\": true, \"showland\": true, \"subunitcolor\": \"white\"}, \"hoverlabel\": {\"align\": \"left\"}, \"hovermode\": \"closest\", \"mapbox\": {\"style\": \"light\"}, \"paper_bgcolor\": \"white\", \"plot_bgcolor\": \"#E5ECF6\", \"polar\": {\"angularaxis\": {\"gridcolor\": \"white\", \"linecolor\": \"white\", \"ticks\": \"\"}, \"bgcolor\": \"#E5ECF6\", \"radialaxis\": {\"gridcolor\": \"white\", \"linecolor\": \"white\", \"ticks\": \"\"}}, \"scene\": {\"xaxis\": {\"backgroundcolor\": \"#E5ECF6\", \"gridcolor\": \"white\", \"gridwidth\": 2, \"linecolor\": \"white\", \"showbackground\": true, \"ticks\": \"\", \"zerolinecolor\": \"white\"}, \"yaxis\": {\"backgroundcolor\": \"#E5ECF6\", \"gridcolor\": \"white\", \"gridwidth\": 2, \"linecolor\": \"white\", \"showbackground\": true, \"ticks\": \"\", \"zerolinecolor\": \"white\"}, \"zaxis\": {\"backgroundcolor\": \"#E5ECF6\", \"gridcolor\": \"white\", \"gridwidth\": 2, \"linecolor\": \"white\", \"showbackground\": true, \"ticks\": \"\", \"zerolinecolor\": \"white\"}}, \"shapedefaults\": {\"line\": {\"color\": \"#2a3f5f\"}}, \"ternary\": {\"aaxis\": {\"gridcolor\": \"white\", \"linecolor\": \"white\", \"ticks\": \"\"}, \"baxis\": {\"gridcolor\": \"white\", \"linecolor\": \"white\", \"ticks\": \"\"}, \"bgcolor\": \"#E5ECF6\", \"caxis\": {\"gridcolor\": \"white\", \"linecolor\": \"white\", \"ticks\": \"\"}}, \"title\": {\"x\": 0.05}, \"xaxis\": {\"automargin\": true, \"gridcolor\": \"white\", \"linecolor\": \"white\", \"ticks\": \"\", \"zerolinecolor\": \"white\", \"zerolinewidth\": 2}, \"yaxis\": {\"automargin\": true, \"gridcolor\": \"white\", \"linecolor\": \"white\", \"ticks\": \"\", \"zerolinecolor\": \"white\", \"zerolinewidth\": 2}}}, \"title\": {\"font\": {\"color\": \"#4D5663\"}, \"text\": \"\\u0424\\u0427\\u0425\"}, \"xaxis\": {\"gridcolor\": \"#E1E5ED\", \"showgrid\": true, \"tickfont\": {\"color\": \"#4D5663\"}, \"title\": {\"font\": {\"color\": \"#4D5663\"}, \"text\": \"W\"}, \"type\": \"log\", \"zerolinecolor\": \"#E1E5ED\"}, \"yaxis\": {\"gridcolor\": \"#E1E5ED\", \"showgrid\": true, \"tickfont\": {\"color\": \"#4D5663\"}, \"title\": {\"font\": {\"color\": \"#4D5663\"}, \"text\": \"phase\"}, \"zerolinecolor\": \"#E1E5ED\"}},\n",
       "                        {\"showLink\": true, \"linkText\": \"Export to plot.ly\", \"plotlyServerURL\": \"https://plot.ly\", \"responsive\": true}\n",
       "                    ).then(function(){\n",
       "                            \n",
       "var gd = document.getElementById('61eab787-20c3-4b74-a3e2-1755e3a6a0dd');\n",
       "var x = new MutationObserver(function (mutations, observer) {{\n",
       "        var display = window.getComputedStyle(gd).display;\n",
       "        if (!display || display === 'none') {{\n",
       "            console.log([gd, 'removed!']);\n",
       "            Plotly.purge(gd);\n",
       "            observer.disconnect();\n",
       "        }}\n",
       "}});\n",
       "\n",
       "// Listen for the removal of the full notebook cells\n",
       "var notebookContainer = gd.closest('#notebook-container');\n",
       "if (notebookContainer) {{\n",
       "    x.observe(notebookContainer, {childList: true});\n",
       "}}\n",
       "\n",
       "// Listen for the clearing of the current output cell\n",
       "var outputEl = gd.closest('.output');\n",
       "if (outputEl) {{\n",
       "    x.observe(outputEl, {childList: true});\n",
       "}}\n",
       "\n",
       "                        })\n",
       "                };\n",
       "                });\n",
       "            </script>\n",
       "        </div>"
      ]
     },
     "metadata": {},
     "output_type": "display_data"
    }
   ],
   "source": [
    "W, bode_mag, phase = signal.bode(transfer_func)\n",
    "\n",
    "\n",
    "df_mwp = pd.DataFrame(bode_mag, index=W)\n",
    "df_mwp.iplot(mode='lines', xTitle='W', yTitle='mag', title='АЧХ', xaxis_type=\"log\")\n",
    "\n",
    "df_pwp = pd.DataFrame(phase, index=W)\n",
    "df_pwp.iplot(mode='lines', xTitle='W', yTitle='phase', title='ФЧХ', xaxis_type=\"log\")\n",
    "\n",
    "# Имеет ли смысл это действие для неустойчивой системы?\n",
    "# - Нет. Так как неустойчивая система дает бесконечный рост амплитуды."
   ]
  },
  {
   "cell_type": "markdown",
   "metadata": {},
   "source": [
    "### 6. Превратите систему в замкнутую, добавив в неё отрицательную обратную связь выхода со входом. Повторите для полученной системы пункты задания 2-5. Влияет ли обратная связь на устойчивость системы? На АЧХ, ФЧХ?"
   ]
  },
  {
   "cell_type": "code",
   "execution_count": 9,
   "metadata": {},
   "outputs": [],
   "source": [
    "# Пусть R(s) = s - обратная связь, C(s) = 1, W(s) = s/(1+a*s)\n",
    "# Тогда Z(s) = C(s)W(s)/(1+C(s)W(s)R(s)) = s/(1+as+s^2)\n",
    "# Тогда устойчивость зависит от знака a => так как устойчивость зависит от обратной связи => АЧХ и ФЧХ тоже\n",
    "\n",
    "transfer_func = signal.lti([1, 0], [1, a, 1])"
   ]
  },
  {
   "cell_type": "code",
   "execution_count": 10,
   "metadata": {},
   "outputs": [
    {
     "data": {
      "application/vnd.plotly.v1+json": {
       "config": {
        "linkText": "Export to plot.ly",
        "plotlyServerURL": "https://plot.ly",
        "showLink": true
       },
       "data": [
        {
         "line": {
          "color": "rgba(255, 153, 51, 1.0)",
          "dash": "solid",
          "shape": "linear",
          "width": 1.3
         },
         "marker": {
          "size": 12,
          "symbol": "square"
         },
         "mode": "lines+markers",
         "name": "Re(Ps[0])",
         "text": "",
         "type": "scatter",
         "x": [
          0,
          0,
          0,
          0,
          0,
          0,
          0,
          0,
          0,
          0,
          0,
          0,
          0,
          0,
          0,
          0,
          0,
          0,
          0,
          0,
          0,
          0,
          0,
          0,
          0,
          0,
          0,
          0,
          0,
          0,
          0,
          0,
          0,
          0,
          0,
          0,
          0,
          0,
          0,
          0,
          0,
          0,
          0,
          0,
          0,
          0,
          0,
          0,
          0,
          0,
          0,
          0,
          0,
          0,
          0,
          0,
          0,
          0,
          0,
          0,
          0,
          0,
          0,
          0,
          0,
          0,
          0,
          0,
          0,
          0,
          0,
          0,
          0,
          0,
          0,
          0,
          0,
          0,
          0,
          0,
          0,
          0,
          0,
          0,
          0,
          0,
          0,
          0,
          0,
          0,
          0,
          0,
          0,
          0,
          0,
          0,
          0,
          0,
          0,
          0,
          0
         ],
         "y": [
          -9999999.9999999,
          -8709635.89956069,
          -7585775.750291705,
          -6606934.48007581,
          -5754399.373371396,
          -5011872.336272523,
          -4365158.322401432,
          -3801893.9632053496,
          -3311311.214825609,
          -2884031.5031262594,
          -2511886.4315091814,
          -2187761.6239490956,
          -1905460.7179627225,
          -1659586.907436958,
          -1445439.770745236,
          -1258925.411793373,
          -1096478.196142273,
          -954992.5860203889,
          -831763.7711014685,
          -724435.9600736103,
          -630957.3444786081,
          -549540.8738558051,
          -478630.0923205492,
          -416869.38346793666,
          -363078.0547673472,
          -316227.7660136756,
          -275422.87033018586,
          -239883.29189778032,
          -208929.6130806178,
          -181970.0858555029,
          -158489.31923980184,
          -138038.42645304417,
          -120226.44345342368,
          -104712.85479554003,
          -91201.08392462617,
          -79432.82345983888,
          -69183.09707743922,
          -60255.95859083994,
          -52480.74600592267,
          -45708.818939609904,
          -39810.717030230866,
          -34673.68501641285,
          -30199.51717090705,
          -26302.679880934877,
          -22908.67648402616,
          -19952.623099570086,
          -17378.008229949774,
          -15135.612418292741,
          -13182.567309706315,
          -11481.536127872469,
          -9999.999899999999,
          -8709.635784745435,
          -7585.775618466159,
          -6606.934328719836,
          -5754.3991995914785,
          -5011.872136746486,
          -4365.158093314889,
          -3801.8937001787954,
          -3311.3109128307083,
          -2884.031156389714,
          -2511.8860334023484,
          -2187.7611668612667,
          -1905.4601931556435,
          -1659.5863048777583,
          -1445.439078914626,
          -1258.9246174654304,
          -1096.477284131587,
          -954.9915388917407,
          -831.7625688364985,
          -724.4345796880957,
          -630.9557595830195,
          -549.5390541507405,
          -478.62800301738696,
          -416.86698462361244,
          -363.07530052050515,
          -316.22460370755437,
          -275.4192395054049,
          -239.87912313566818,
          -208.924826674828,
          -181.96459028629096,
          -158.48300942145798,
          -138.03118172045862,
          -120.21812524851072,
          -104.70330400810735,
          -91.19011783505573,
          -79.42023222241527,
          -69.16863967297186,
          -60.23935816495995,
          -52.46168449445966,
          -45.68693086392679,
          -39.78558232207115,
          -34.64482070190429,
          -30.16636770422609,
          -26.264605865792312,
          -22.864941449579902,
          -19.90237789732956,
          -17.320272475229253,
          -15.06925219074287,
          -13.106268014999124,
          -11.393768944554079,
          -9.898979485566356
         ]
        },
        {
         "line": {
          "color": "rgba(55, 128, 191, 1.0)",
          "dash": "solid",
          "shape": "linear",
          "width": 1.3
         },
         "marker": {
          "size": 12,
          "symbol": "diamond"
         },
         "mode": "lines+markers",
         "name": "Re(Ps[1])",
         "text": "",
         "type": "scatter",
         "x": [
          0,
          0,
          0,
          0,
          0,
          0,
          0,
          0,
          0,
          0,
          0,
          0,
          0,
          0,
          0,
          0,
          0,
          0,
          0,
          0,
          0,
          0,
          0,
          0,
          0,
          0,
          0,
          0,
          0,
          0,
          0,
          0,
          0,
          0,
          0,
          0,
          0,
          0,
          0,
          0,
          0,
          0,
          0,
          0,
          0,
          0,
          0,
          0,
          0,
          0,
          0,
          0,
          0,
          0,
          0,
          0,
          0,
          0,
          0,
          0,
          0,
          0,
          0,
          0,
          0,
          0,
          0,
          0,
          0,
          0,
          0,
          0,
          0,
          0,
          0,
          0,
          0,
          0,
          0,
          0,
          0,
          0,
          0,
          0,
          0,
          0,
          0,
          0,
          0,
          0,
          0,
          0,
          0,
          0,
          0,
          0,
          0,
          0,
          0,
          0,
          0
         ],
         "y": [
          -1.00000000000001e-07,
          -1.1481536214968981e-07,
          -1.3182567385564302e-07,
          -1.5135612484362424e-07,
          -1.7378008287494278e-07,
          -1.9952623149689592e-07,
          -2.2908676527678923e-07,
          -2.630267991895563e-07,
          -3.019951720402292e-07,
          -3.467368504525733e-07,
          -3.9810717055356045e-07,
          -4.570881896149705e-07,
          -5.248074602499171e-07,
          -6.025595860745765e-07,
          -6.918309709192675e-07,
          -7.943282347247826e-07,
          -9.120108393566683e-07,
          -1.0471285480520475e-06,
          -1.202264434619151e-06,
          -1.3803842646055138e-06,
          -1.5848931924650951e-06,
          -1.8197008586160082e-06,
          -2.089296130863159e-06,
          -2.398832919033294e-06,
          -2.754228703359059e-06,
          -3.1622776602000027e-06,
          -3.6307805477488765e-06,
          -4.168693834775798e-06,
          -4.786300923336028e-06,
          -5.495408738742205e-06,
          -6.309573445053118e-06,
          -7.244359601130087e-06,
          -8.317637711602148e-06,
          -9.549925861085324e-06,
          -1.096478196275011e-05,
          -1.2589254119936937e-05,
          -1.4454397710479234e-05,
          -1.659586907894648e-05,
          -1.9054607186550775e-05,
          -2.18776162499668e-05,
          -2.511886433094473e-05,
          -2.884031505525439e-05,
          -3.311311218456691e-05,
          -3.801893968701021e-05,
          -4.365158330719295e-05,
          -5.011872348861974e-05,
          -5.754399392426172e-05,
          -6.606934508916274e-05,
          -7.58577579394342e-05,
          -8.709635965630152e-05,
          -0.00010000000100000001,
          -0.00011481536366324966,
          -0.00013182567614650849,
          -0.0001513561283109894,
          -0.00017378008812301256,
          -0.00019952623944017084,
          -0.00022908677729942256,
          -0.00026302681738654926,
          -0.000301995199582494,
          -0.00034673689213948,
          -0.0003981072336492514,
          -0.00045708828511417367,
          -0.000524807604793829,
          -0.0006025598048506781,
          -0.0006918313020503747,
          -0.0007943287359121481,
          -0.0009120115979347466,
          -0.001047129696207038,
          -0.0012022661724232656,
          -0.0013803868948808996,
          -0.0015848971735528197,
          -0.001819706884245749,
          -0.002089305251042057,
          -0.0023988467230210042,
          -0.0027542495966164566,
          -0.003162309283577452,
          -0.003630828411972199,
          -0.0041687662808173225,
          -0.004786410576070055,
          -0.005495574707291494,
          -0.006309824653447071,
          -0.0072447398300566936,
          -0.008318213230599253,
          -0.009550796982706184,
          -0.01096610053524435,
          -0.012591250012962865,
          -0.014457418921753886,
          -0.016600442475857593,
          -0.01906153051767919,
          -0.02188809756073096,
          -0.02513473327862409,
          -0.028864343348875637,
          -0.03314949979410041,
          -0.03807405316149919,
          -0.043735078097843674,
          -0.05024525235922572,
          -0.05773581226451023,
          -0.06636029361923519,
          -0.0762993705649523,
          -0.08776727041476241,
          -0.10102051443364381
         ]
        }
       ],
       "layout": {
        "legend": {
         "bgcolor": "#FFFFFF",
         "font": {
          "color": "#4D5663"
         }
        },
        "paper_bgcolor": "#FFFFFF",
        "plot_bgcolor": "#FFFFFF",
        "template": {
         "data": {
          "bar": [
           {
            "error_x": {
             "color": "#2a3f5f"
            },
            "error_y": {
             "color": "#2a3f5f"
            },
            "marker": {
             "line": {
              "color": "#E5ECF6",
              "width": 0.5
             }
            },
            "type": "bar"
           }
          ],
          "barpolar": [
           {
            "marker": {
             "line": {
              "color": "#E5ECF6",
              "width": 0.5
             }
            },
            "type": "barpolar"
           }
          ],
          "carpet": [
           {
            "aaxis": {
             "endlinecolor": "#2a3f5f",
             "gridcolor": "white",
             "linecolor": "white",
             "minorgridcolor": "white",
             "startlinecolor": "#2a3f5f"
            },
            "baxis": {
             "endlinecolor": "#2a3f5f",
             "gridcolor": "white",
             "linecolor": "white",
             "minorgridcolor": "white",
             "startlinecolor": "#2a3f5f"
            },
            "type": "carpet"
           }
          ],
          "choropleth": [
           {
            "colorbar": {
             "outlinewidth": 0,
             "ticks": ""
            },
            "type": "choropleth"
           }
          ],
          "contour": [
           {
            "colorbar": {
             "outlinewidth": 0,
             "ticks": ""
            },
            "colorscale": [
             [
              0,
              "#0d0887"
             ],
             [
              0.1111111111111111,
              "#46039f"
             ],
             [
              0.2222222222222222,
              "#7201a8"
             ],
             [
              0.3333333333333333,
              "#9c179e"
             ],
             [
              0.4444444444444444,
              "#bd3786"
             ],
             [
              0.5555555555555556,
              "#d8576b"
             ],
             [
              0.6666666666666666,
              "#ed7953"
             ],
             [
              0.7777777777777778,
              "#fb9f3a"
             ],
             [
              0.8888888888888888,
              "#fdca26"
             ],
             [
              1,
              "#f0f921"
             ]
            ],
            "type": "contour"
           }
          ],
          "contourcarpet": [
           {
            "colorbar": {
             "outlinewidth": 0,
             "ticks": ""
            },
            "type": "contourcarpet"
           }
          ],
          "heatmap": [
           {
            "colorbar": {
             "outlinewidth": 0,
             "ticks": ""
            },
            "colorscale": [
             [
              0,
              "#0d0887"
             ],
             [
              0.1111111111111111,
              "#46039f"
             ],
             [
              0.2222222222222222,
              "#7201a8"
             ],
             [
              0.3333333333333333,
              "#9c179e"
             ],
             [
              0.4444444444444444,
              "#bd3786"
             ],
             [
              0.5555555555555556,
              "#d8576b"
             ],
             [
              0.6666666666666666,
              "#ed7953"
             ],
             [
              0.7777777777777778,
              "#fb9f3a"
             ],
             [
              0.8888888888888888,
              "#fdca26"
             ],
             [
              1,
              "#f0f921"
             ]
            ],
            "type": "heatmap"
           }
          ],
          "heatmapgl": [
           {
            "colorbar": {
             "outlinewidth": 0,
             "ticks": ""
            },
            "colorscale": [
             [
              0,
              "#0d0887"
             ],
             [
              0.1111111111111111,
              "#46039f"
             ],
             [
              0.2222222222222222,
              "#7201a8"
             ],
             [
              0.3333333333333333,
              "#9c179e"
             ],
             [
              0.4444444444444444,
              "#bd3786"
             ],
             [
              0.5555555555555556,
              "#d8576b"
             ],
             [
              0.6666666666666666,
              "#ed7953"
             ],
             [
              0.7777777777777778,
              "#fb9f3a"
             ],
             [
              0.8888888888888888,
              "#fdca26"
             ],
             [
              1,
              "#f0f921"
             ]
            ],
            "type": "heatmapgl"
           }
          ],
          "histogram": [
           {
            "marker": {
             "colorbar": {
              "outlinewidth": 0,
              "ticks": ""
             }
            },
            "type": "histogram"
           }
          ],
          "histogram2d": [
           {
            "colorbar": {
             "outlinewidth": 0,
             "ticks": ""
            },
            "colorscale": [
             [
              0,
              "#0d0887"
             ],
             [
              0.1111111111111111,
              "#46039f"
             ],
             [
              0.2222222222222222,
              "#7201a8"
             ],
             [
              0.3333333333333333,
              "#9c179e"
             ],
             [
              0.4444444444444444,
              "#bd3786"
             ],
             [
              0.5555555555555556,
              "#d8576b"
             ],
             [
              0.6666666666666666,
              "#ed7953"
             ],
             [
              0.7777777777777778,
              "#fb9f3a"
             ],
             [
              0.8888888888888888,
              "#fdca26"
             ],
             [
              1,
              "#f0f921"
             ]
            ],
            "type": "histogram2d"
           }
          ],
          "histogram2dcontour": [
           {
            "colorbar": {
             "outlinewidth": 0,
             "ticks": ""
            },
            "colorscale": [
             [
              0,
              "#0d0887"
             ],
             [
              0.1111111111111111,
              "#46039f"
             ],
             [
              0.2222222222222222,
              "#7201a8"
             ],
             [
              0.3333333333333333,
              "#9c179e"
             ],
             [
              0.4444444444444444,
              "#bd3786"
             ],
             [
              0.5555555555555556,
              "#d8576b"
             ],
             [
              0.6666666666666666,
              "#ed7953"
             ],
             [
              0.7777777777777778,
              "#fb9f3a"
             ],
             [
              0.8888888888888888,
              "#fdca26"
             ],
             [
              1,
              "#f0f921"
             ]
            ],
            "type": "histogram2dcontour"
           }
          ],
          "mesh3d": [
           {
            "colorbar": {
             "outlinewidth": 0,
             "ticks": ""
            },
            "type": "mesh3d"
           }
          ],
          "parcoords": [
           {
            "line": {
             "colorbar": {
              "outlinewidth": 0,
              "ticks": ""
             }
            },
            "type": "parcoords"
           }
          ],
          "scatter": [
           {
            "marker": {
             "colorbar": {
              "outlinewidth": 0,
              "ticks": ""
             }
            },
            "type": "scatter"
           }
          ],
          "scatter3d": [
           {
            "line": {
             "colorbar": {
              "outlinewidth": 0,
              "ticks": ""
             }
            },
            "marker": {
             "colorbar": {
              "outlinewidth": 0,
              "ticks": ""
             }
            },
            "type": "scatter3d"
           }
          ],
          "scattercarpet": [
           {
            "marker": {
             "colorbar": {
              "outlinewidth": 0,
              "ticks": ""
             }
            },
            "type": "scattercarpet"
           }
          ],
          "scattergeo": [
           {
            "marker": {
             "colorbar": {
              "outlinewidth": 0,
              "ticks": ""
             }
            },
            "type": "scattergeo"
           }
          ],
          "scattergl": [
           {
            "marker": {
             "colorbar": {
              "outlinewidth": 0,
              "ticks": ""
             }
            },
            "type": "scattergl"
           }
          ],
          "scattermapbox": [
           {
            "marker": {
             "colorbar": {
              "outlinewidth": 0,
              "ticks": ""
             }
            },
            "type": "scattermapbox"
           }
          ],
          "scatterpolar": [
           {
            "marker": {
             "colorbar": {
              "outlinewidth": 0,
              "ticks": ""
             }
            },
            "type": "scatterpolar"
           }
          ],
          "scatterpolargl": [
           {
            "marker": {
             "colorbar": {
              "outlinewidth": 0,
              "ticks": ""
             }
            },
            "type": "scatterpolargl"
           }
          ],
          "scatterternary": [
           {
            "marker": {
             "colorbar": {
              "outlinewidth": 0,
              "ticks": ""
             }
            },
            "type": "scatterternary"
           }
          ],
          "surface": [
           {
            "colorbar": {
             "outlinewidth": 0,
             "ticks": ""
            },
            "colorscale": [
             [
              0,
              "#0d0887"
             ],
             [
              0.1111111111111111,
              "#46039f"
             ],
             [
              0.2222222222222222,
              "#7201a8"
             ],
             [
              0.3333333333333333,
              "#9c179e"
             ],
             [
              0.4444444444444444,
              "#bd3786"
             ],
             [
              0.5555555555555556,
              "#d8576b"
             ],
             [
              0.6666666666666666,
              "#ed7953"
             ],
             [
              0.7777777777777778,
              "#fb9f3a"
             ],
             [
              0.8888888888888888,
              "#fdca26"
             ],
             [
              1,
              "#f0f921"
             ]
            ],
            "type": "surface"
           }
          ],
          "table": [
           {
            "cells": {
             "fill": {
              "color": "#EBF0F8"
             },
             "line": {
              "color": "white"
             }
            },
            "header": {
             "fill": {
              "color": "#C8D4E3"
             },
             "line": {
              "color": "white"
             }
            },
            "type": "table"
           }
          ]
         },
         "layout": {
          "annotationdefaults": {
           "arrowcolor": "#2a3f5f",
           "arrowhead": 0,
           "arrowwidth": 1
          },
          "colorscale": {
           "diverging": [
            [
             0,
             "#8e0152"
            ],
            [
             0.1,
             "#c51b7d"
            ],
            [
             0.2,
             "#de77ae"
            ],
            [
             0.3,
             "#f1b6da"
            ],
            [
             0.4,
             "#fde0ef"
            ],
            [
             0.5,
             "#f7f7f7"
            ],
            [
             0.6,
             "#e6f5d0"
            ],
            [
             0.7,
             "#b8e186"
            ],
            [
             0.8,
             "#7fbc41"
            ],
            [
             0.9,
             "#4d9221"
            ],
            [
             1,
             "#276419"
            ]
           ],
           "sequential": [
            [
             0,
             "#0d0887"
            ],
            [
             0.1111111111111111,
             "#46039f"
            ],
            [
             0.2222222222222222,
             "#7201a8"
            ],
            [
             0.3333333333333333,
             "#9c179e"
            ],
            [
             0.4444444444444444,
             "#bd3786"
            ],
            [
             0.5555555555555556,
             "#d8576b"
            ],
            [
             0.6666666666666666,
             "#ed7953"
            ],
            [
             0.7777777777777778,
             "#fb9f3a"
            ],
            [
             0.8888888888888888,
             "#fdca26"
            ],
            [
             1,
             "#f0f921"
            ]
           ],
           "sequentialminus": [
            [
             0,
             "#0d0887"
            ],
            [
             0.1111111111111111,
             "#46039f"
            ],
            [
             0.2222222222222222,
             "#7201a8"
            ],
            [
             0.3333333333333333,
             "#9c179e"
            ],
            [
             0.4444444444444444,
             "#bd3786"
            ],
            [
             0.5555555555555556,
             "#d8576b"
            ],
            [
             0.6666666666666666,
             "#ed7953"
            ],
            [
             0.7777777777777778,
             "#fb9f3a"
            ],
            [
             0.8888888888888888,
             "#fdca26"
            ],
            [
             1,
             "#f0f921"
            ]
           ]
          },
          "colorway": [
           "#636efa",
           "#EF553B",
           "#00cc96",
           "#ab63fa",
           "#FFA15A",
           "#19d3f3",
           "#FF6692",
           "#B6E880",
           "#FF97FF",
           "#FECB52"
          ],
          "font": {
           "color": "#2a3f5f"
          },
          "geo": {
           "bgcolor": "white",
           "lakecolor": "white",
           "landcolor": "#E5ECF6",
           "showlakes": true,
           "showland": true,
           "subunitcolor": "white"
          },
          "hoverlabel": {
           "align": "left"
          },
          "hovermode": "closest",
          "mapbox": {
           "style": "light"
          },
          "paper_bgcolor": "white",
          "plot_bgcolor": "#E5ECF6",
          "polar": {
           "angularaxis": {
            "gridcolor": "white",
            "linecolor": "white",
            "ticks": ""
           },
           "bgcolor": "#E5ECF6",
           "radialaxis": {
            "gridcolor": "white",
            "linecolor": "white",
            "ticks": ""
           }
          },
          "scene": {
           "xaxis": {
            "backgroundcolor": "#E5ECF6",
            "gridcolor": "white",
            "gridwidth": 2,
            "linecolor": "white",
            "showbackground": true,
            "ticks": "",
            "zerolinecolor": "white"
           },
           "yaxis": {
            "backgroundcolor": "#E5ECF6",
            "gridcolor": "white",
            "gridwidth": 2,
            "linecolor": "white",
            "showbackground": true,
            "ticks": "",
            "zerolinecolor": "white"
           },
           "zaxis": {
            "backgroundcolor": "#E5ECF6",
            "gridcolor": "white",
            "gridwidth": 2,
            "linecolor": "white",
            "showbackground": true,
            "ticks": "",
            "zerolinecolor": "white"
           }
          },
          "shapedefaults": {
           "line": {
            "color": "#2a3f5f"
           }
          },
          "ternary": {
           "aaxis": {
            "gridcolor": "white",
            "linecolor": "white",
            "ticks": ""
           },
           "baxis": {
            "gridcolor": "white",
            "linecolor": "white",
            "ticks": ""
           },
           "bgcolor": "#E5ECF6",
           "caxis": {
            "gridcolor": "white",
            "linecolor": "white",
            "ticks": ""
           }
          },
          "title": {
           "x": 0.05
          },
          "xaxis": {
           "automargin": true,
           "gridcolor": "white",
           "linecolor": "white",
           "ticks": "",
           "zerolinecolor": "white",
           "zerolinewidth": 2
          },
          "yaxis": {
           "automargin": true,
           "gridcolor": "white",
           "linecolor": "white",
           "ticks": "",
           "zerolinecolor": "white",
           "zerolinewidth": 2
          }
         }
        },
        "title": {
         "font": {
          "color": "#4D5663"
         },
         "text": "a varies from 10000000.0 to 10.0"
        },
        "xaxis": {
         "gridcolor": "#E1E5ED",
         "showgrid": true,
         "tickfont": {
          "color": "#4D5663"
         },
         "title": {
          "font": {
           "color": "#4D5663"
          },
          "text": "Im(P)"
         },
         "zerolinecolor": "#E1E5ED"
        },
        "yaxis": {
         "gridcolor": "#E1E5ED",
         "showgrid": true,
         "tickfont": {
          "color": "#4D5663"
         },
         "title": {
          "font": {
           "color": "#4D5663"
          },
          "text": "Re(P)"
         },
         "zerolinecolor": "#E1E5ED"
        }
       }
      },
      "text/html": [
       "<div>\n",
       "        \n",
       "        \n",
       "            <div id=\"dfdf82a3-4e2f-4d6b-b455-388d209c8117\" class=\"plotly-graph-div\" style=\"height:525px; width:100%;\"></div>\n",
       "            <script type=\"text/javascript\">\n",
       "                require([\"plotly\"], function(Plotly) {\n",
       "                    window.PLOTLYENV=window.PLOTLYENV || {};\n",
       "                    window.PLOTLYENV.BASE_URL='https://plot.ly';\n",
       "                    \n",
       "                if (document.getElementById(\"dfdf82a3-4e2f-4d6b-b455-388d209c8117\")) {\n",
       "                    Plotly.newPlot(\n",
       "                        'dfdf82a3-4e2f-4d6b-b455-388d209c8117',\n",
       "                        [{\"line\": {\"color\": \"rgba(255, 153, 51, 1.0)\", \"dash\": \"solid\", \"shape\": \"linear\", \"width\": 1.3}, \"marker\": {\"size\": 12, \"symbol\": \"square\"}, \"mode\": \"lines+markers\", \"name\": \"Re(Ps[0])\", \"text\": \"\", \"type\": \"scatter\", \"x\": [0.0, 0.0, 0.0, 0.0, 0.0, 0.0, 0.0, 0.0, 0.0, 0.0, 0.0, 0.0, 0.0, 0.0, 0.0, 0.0, 0.0, 0.0, 0.0, 0.0, 0.0, 0.0, 0.0, 0.0, 0.0, 0.0, 0.0, 0.0, 0.0, 0.0, 0.0, 0.0, 0.0, 0.0, 0.0, 0.0, 0.0, 0.0, 0.0, 0.0, 0.0, 0.0, 0.0, 0.0, 0.0, 0.0, 0.0, 0.0, 0.0, 0.0, 0.0, 0.0, 0.0, 0.0, 0.0, 0.0, 0.0, 0.0, 0.0, 0.0, 0.0, 0.0, 0.0, 0.0, 0.0, 0.0, 0.0, 0.0, 0.0, 0.0, 0.0, 0.0, 0.0, 0.0, 0.0, 0.0, 0.0, 0.0, 0.0, 0.0, 0.0, 0.0, 0.0, 0.0, 0.0, 0.0, 0.0, 0.0, 0.0, 0.0, 0.0, 0.0, 0.0, 0.0, 0.0, 0.0, 0.0, 0.0, 0.0, 0.0, 0.0], \"y\": [-9999999.9999999, -8709635.89956069, -7585775.750291705, -6606934.48007581, -5754399.373371396, -5011872.336272523, -4365158.322401432, -3801893.9632053496, -3311311.214825609, -2884031.5031262594, -2511886.4315091814, -2187761.6239490956, -1905460.7179627225, -1659586.907436958, -1445439.770745236, -1258925.411793373, -1096478.196142273, -954992.5860203889, -831763.7711014685, -724435.9600736103, -630957.3444786081, -549540.8738558051, -478630.0923205492, -416869.38346793666, -363078.0547673472, -316227.7660136756, -275422.87033018586, -239883.29189778032, -208929.6130806178, -181970.0858555029, -158489.31923980184, -138038.42645304417, -120226.44345342368, -104712.85479554003, -91201.08392462617, -79432.82345983888, -69183.09707743922, -60255.95859083994, -52480.74600592267, -45708.818939609904, -39810.717030230866, -34673.68501641285, -30199.51717090705, -26302.679880934877, -22908.67648402616, -19952.623099570086, -17378.008229949774, -15135.612418292741, -13182.567309706315, -11481.536127872469, -9999.999899999999, -8709.635784745435, -7585.775618466159, -6606.934328719836, -5754.3991995914785, -5011.872136746486, -4365.158093314889, -3801.8937001787954, -3311.3109128307083, -2884.031156389714, -2511.8860334023484, -2187.7611668612667, -1905.4601931556435, -1659.5863048777583, -1445.439078914626, -1258.9246174654304, -1096.477284131587, -954.9915388917407, -831.7625688364985, -724.4345796880957, -630.9557595830195, -549.5390541507405, -478.62800301738696, -416.86698462361244, -363.07530052050515, -316.22460370755437, -275.4192395054049, -239.87912313566818, -208.924826674828, -181.96459028629096, -158.48300942145798, -138.03118172045862, -120.21812524851072, -104.70330400810735, -91.19011783505573, -79.42023222241527, -69.16863967297186, -60.23935816495995, -52.46168449445966, -45.68693086392679, -39.78558232207115, -34.64482070190429, -30.16636770422609, -26.264605865792312, -22.864941449579902, -19.90237789732956, -17.320272475229253, -15.06925219074287, -13.106268014999124, -11.393768944554079, -9.898979485566356]}, {\"line\": {\"color\": \"rgba(55, 128, 191, 1.0)\", \"dash\": \"solid\", \"shape\": \"linear\", \"width\": 1.3}, \"marker\": {\"size\": 12, \"symbol\": \"diamond\"}, \"mode\": \"lines+markers\", \"name\": \"Re(Ps[1])\", \"text\": \"\", \"type\": \"scatter\", \"x\": [0.0, 0.0, 0.0, 0.0, 0.0, 0.0, 0.0, 0.0, 0.0, 0.0, 0.0, 0.0, 0.0, 0.0, 0.0, 0.0, 0.0, 0.0, 0.0, 0.0, 0.0, 0.0, 0.0, 0.0, 0.0, 0.0, 0.0, 0.0, 0.0, 0.0, 0.0, 0.0, 0.0, 0.0, 0.0, 0.0, 0.0, 0.0, 0.0, 0.0, 0.0, 0.0, 0.0, 0.0, 0.0, 0.0, 0.0, 0.0, 0.0, 0.0, 0.0, 0.0, 0.0, 0.0, 0.0, 0.0, 0.0, 0.0, 0.0, 0.0, 0.0, 0.0, 0.0, 0.0, 0.0, 0.0, 0.0, 0.0, 0.0, 0.0, 0.0, 0.0, 0.0, 0.0, 0.0, 0.0, 0.0, 0.0, 0.0, 0.0, 0.0, 0.0, 0.0, 0.0, 0.0, 0.0, 0.0, 0.0, 0.0, 0.0, 0.0, 0.0, 0.0, 0.0, 0.0, 0.0, 0.0, 0.0, 0.0, 0.0, 0.0], \"y\": [-1.00000000000001e-07, -1.1481536214968981e-07, -1.3182567385564302e-07, -1.5135612484362424e-07, -1.7378008287494278e-07, -1.9952623149689592e-07, -2.2908676527678923e-07, -2.630267991895563e-07, -3.019951720402292e-07, -3.467368504525733e-07, -3.9810717055356045e-07, -4.570881896149705e-07, -5.248074602499171e-07, -6.025595860745765e-07, -6.918309709192675e-07, -7.943282347247826e-07, -9.120108393566683e-07, -1.0471285480520475e-06, -1.202264434619151e-06, -1.3803842646055138e-06, -1.5848931924650951e-06, -1.8197008586160082e-06, -2.089296130863159e-06, -2.398832919033294e-06, -2.754228703359059e-06, -3.1622776602000027e-06, -3.6307805477488765e-06, -4.168693834775798e-06, -4.786300923336028e-06, -5.495408738742205e-06, -6.309573445053118e-06, -7.244359601130087e-06, -8.317637711602148e-06, -9.549925861085324e-06, -1.096478196275011e-05, -1.2589254119936937e-05, -1.4454397710479234e-05, -1.659586907894648e-05, -1.9054607186550775e-05, -2.18776162499668e-05, -2.511886433094473e-05, -2.884031505525439e-05, -3.311311218456691e-05, -3.801893968701021e-05, -4.365158330719295e-05, -5.011872348861974e-05, -5.754399392426172e-05, -6.606934508916274e-05, -7.58577579394342e-05, -8.709635965630152e-05, -0.00010000000100000001, -0.00011481536366324966, -0.00013182567614650849, -0.0001513561283109894, -0.00017378008812301256, -0.00019952623944017084, -0.00022908677729942256, -0.00026302681738654926, -0.000301995199582494, -0.00034673689213948, -0.0003981072336492514, -0.00045708828511417367, -0.000524807604793829, -0.0006025598048506781, -0.0006918313020503747, -0.0007943287359121481, -0.0009120115979347466, -0.001047129696207038, -0.0012022661724232656, -0.0013803868948808996, -0.0015848971735528197, -0.001819706884245749, -0.002089305251042057, -0.0023988467230210042, -0.0027542495966164566, -0.003162309283577452, -0.003630828411972199, -0.0041687662808173225, -0.004786410576070055, -0.005495574707291494, -0.006309824653447071, -0.0072447398300566936, -0.008318213230599253, -0.009550796982706184, -0.01096610053524435, -0.012591250012962865, -0.014457418921753886, -0.016600442475857593, -0.01906153051767919, -0.02188809756073096, -0.02513473327862409, -0.028864343348875637, -0.03314949979410041, -0.03807405316149919, -0.043735078097843674, -0.05024525235922572, -0.05773581226451023, -0.06636029361923519, -0.0762993705649523, -0.08776727041476241, -0.10102051443364381]}],\n",
       "                        {\"legend\": {\"bgcolor\": \"#FFFFFF\", \"font\": {\"color\": \"#4D5663\"}}, \"paper_bgcolor\": \"#FFFFFF\", \"plot_bgcolor\": \"#FFFFFF\", \"template\": {\"data\": {\"bar\": [{\"error_x\": {\"color\": \"#2a3f5f\"}, \"error_y\": {\"color\": \"#2a3f5f\"}, \"marker\": {\"line\": {\"color\": \"#E5ECF6\", \"width\": 0.5}}, \"type\": \"bar\"}], \"barpolar\": [{\"marker\": {\"line\": {\"color\": \"#E5ECF6\", \"width\": 0.5}}, \"type\": \"barpolar\"}], \"carpet\": [{\"aaxis\": {\"endlinecolor\": \"#2a3f5f\", \"gridcolor\": \"white\", \"linecolor\": \"white\", \"minorgridcolor\": \"white\", \"startlinecolor\": \"#2a3f5f\"}, \"baxis\": {\"endlinecolor\": \"#2a3f5f\", \"gridcolor\": \"white\", \"linecolor\": \"white\", \"minorgridcolor\": \"white\", \"startlinecolor\": \"#2a3f5f\"}, \"type\": \"carpet\"}], \"choropleth\": [{\"colorbar\": {\"outlinewidth\": 0, \"ticks\": \"\"}, \"type\": \"choropleth\"}], \"contour\": [{\"colorbar\": {\"outlinewidth\": 0, \"ticks\": \"\"}, \"colorscale\": [[0.0, \"#0d0887\"], [0.1111111111111111, \"#46039f\"], [0.2222222222222222, \"#7201a8\"], [0.3333333333333333, \"#9c179e\"], [0.4444444444444444, \"#bd3786\"], [0.5555555555555556, \"#d8576b\"], [0.6666666666666666, \"#ed7953\"], [0.7777777777777778, \"#fb9f3a\"], [0.8888888888888888, \"#fdca26\"], [1.0, \"#f0f921\"]], \"type\": \"contour\"}], \"contourcarpet\": [{\"colorbar\": {\"outlinewidth\": 0, \"ticks\": \"\"}, \"type\": \"contourcarpet\"}], \"heatmap\": [{\"colorbar\": {\"outlinewidth\": 0, \"ticks\": \"\"}, \"colorscale\": [[0.0, \"#0d0887\"], [0.1111111111111111, \"#46039f\"], [0.2222222222222222, \"#7201a8\"], [0.3333333333333333, \"#9c179e\"], [0.4444444444444444, \"#bd3786\"], [0.5555555555555556, \"#d8576b\"], [0.6666666666666666, \"#ed7953\"], [0.7777777777777778, \"#fb9f3a\"], [0.8888888888888888, \"#fdca26\"], [1.0, \"#f0f921\"]], \"type\": \"heatmap\"}], \"heatmapgl\": [{\"colorbar\": {\"outlinewidth\": 0, \"ticks\": \"\"}, \"colorscale\": [[0.0, \"#0d0887\"], [0.1111111111111111, \"#46039f\"], [0.2222222222222222, \"#7201a8\"], [0.3333333333333333, \"#9c179e\"], [0.4444444444444444, \"#bd3786\"], [0.5555555555555556, \"#d8576b\"], [0.6666666666666666, \"#ed7953\"], [0.7777777777777778, \"#fb9f3a\"], [0.8888888888888888, \"#fdca26\"], [1.0, \"#f0f921\"]], \"type\": \"heatmapgl\"}], \"histogram\": [{\"marker\": {\"colorbar\": {\"outlinewidth\": 0, \"ticks\": \"\"}}, \"type\": \"histogram\"}], \"histogram2d\": [{\"colorbar\": {\"outlinewidth\": 0, \"ticks\": \"\"}, \"colorscale\": [[0.0, \"#0d0887\"], [0.1111111111111111, \"#46039f\"], [0.2222222222222222, \"#7201a8\"], [0.3333333333333333, \"#9c179e\"], [0.4444444444444444, \"#bd3786\"], [0.5555555555555556, \"#d8576b\"], [0.6666666666666666, \"#ed7953\"], [0.7777777777777778, \"#fb9f3a\"], [0.8888888888888888, \"#fdca26\"], [1.0, \"#f0f921\"]], \"type\": \"histogram2d\"}], \"histogram2dcontour\": [{\"colorbar\": {\"outlinewidth\": 0, \"ticks\": \"\"}, \"colorscale\": [[0.0, \"#0d0887\"], [0.1111111111111111, \"#46039f\"], [0.2222222222222222, \"#7201a8\"], [0.3333333333333333, \"#9c179e\"], [0.4444444444444444, \"#bd3786\"], [0.5555555555555556, \"#d8576b\"], [0.6666666666666666, \"#ed7953\"], [0.7777777777777778, \"#fb9f3a\"], [0.8888888888888888, \"#fdca26\"], [1.0, \"#f0f921\"]], \"type\": \"histogram2dcontour\"}], \"mesh3d\": [{\"colorbar\": {\"outlinewidth\": 0, \"ticks\": \"\"}, \"type\": \"mesh3d\"}], \"parcoords\": [{\"line\": {\"colorbar\": {\"outlinewidth\": 0, \"ticks\": \"\"}}, \"type\": \"parcoords\"}], \"scatter\": [{\"marker\": {\"colorbar\": {\"outlinewidth\": 0, \"ticks\": \"\"}}, \"type\": \"scatter\"}], \"scatter3d\": [{\"line\": {\"colorbar\": {\"outlinewidth\": 0, \"ticks\": \"\"}}, \"marker\": {\"colorbar\": {\"outlinewidth\": 0, \"ticks\": \"\"}}, \"type\": \"scatter3d\"}], \"scattercarpet\": [{\"marker\": {\"colorbar\": {\"outlinewidth\": 0, \"ticks\": \"\"}}, \"type\": \"scattercarpet\"}], \"scattergeo\": [{\"marker\": {\"colorbar\": {\"outlinewidth\": 0, \"ticks\": \"\"}}, \"type\": \"scattergeo\"}], \"scattergl\": [{\"marker\": {\"colorbar\": {\"outlinewidth\": 0, \"ticks\": \"\"}}, \"type\": \"scattergl\"}], \"scattermapbox\": [{\"marker\": {\"colorbar\": {\"outlinewidth\": 0, \"ticks\": \"\"}}, \"type\": \"scattermapbox\"}], \"scatterpolar\": [{\"marker\": {\"colorbar\": {\"outlinewidth\": 0, \"ticks\": \"\"}}, \"type\": \"scatterpolar\"}], \"scatterpolargl\": [{\"marker\": {\"colorbar\": {\"outlinewidth\": 0, \"ticks\": \"\"}}, \"type\": \"scatterpolargl\"}], \"scatterternary\": [{\"marker\": {\"colorbar\": {\"outlinewidth\": 0, \"ticks\": \"\"}}, \"type\": \"scatterternary\"}], \"surface\": [{\"colorbar\": {\"outlinewidth\": 0, \"ticks\": \"\"}, \"colorscale\": [[0.0, \"#0d0887\"], [0.1111111111111111, \"#46039f\"], [0.2222222222222222, \"#7201a8\"], [0.3333333333333333, \"#9c179e\"], [0.4444444444444444, \"#bd3786\"], [0.5555555555555556, \"#d8576b\"], [0.6666666666666666, \"#ed7953\"], [0.7777777777777778, \"#fb9f3a\"], [0.8888888888888888, \"#fdca26\"], [1.0, \"#f0f921\"]], \"type\": \"surface\"}], \"table\": [{\"cells\": {\"fill\": {\"color\": \"#EBF0F8\"}, \"line\": {\"color\": \"white\"}}, \"header\": {\"fill\": {\"color\": \"#C8D4E3\"}, \"line\": {\"color\": \"white\"}}, \"type\": \"table\"}]}, \"layout\": {\"annotationdefaults\": {\"arrowcolor\": \"#2a3f5f\", \"arrowhead\": 0, \"arrowwidth\": 1}, \"colorscale\": {\"diverging\": [[0, \"#8e0152\"], [0.1, \"#c51b7d\"], [0.2, \"#de77ae\"], [0.3, \"#f1b6da\"], [0.4, \"#fde0ef\"], [0.5, \"#f7f7f7\"], [0.6, \"#e6f5d0\"], [0.7, \"#b8e186\"], [0.8, \"#7fbc41\"], [0.9, \"#4d9221\"], [1, \"#276419\"]], \"sequential\": [[0.0, \"#0d0887\"], [0.1111111111111111, \"#46039f\"], [0.2222222222222222, \"#7201a8\"], [0.3333333333333333, \"#9c179e\"], [0.4444444444444444, \"#bd3786\"], [0.5555555555555556, \"#d8576b\"], [0.6666666666666666, \"#ed7953\"], [0.7777777777777778, \"#fb9f3a\"], [0.8888888888888888, \"#fdca26\"], [1.0, \"#f0f921\"]], \"sequentialminus\": [[0.0, \"#0d0887\"], [0.1111111111111111, \"#46039f\"], [0.2222222222222222, \"#7201a8\"], [0.3333333333333333, \"#9c179e\"], [0.4444444444444444, \"#bd3786\"], [0.5555555555555556, \"#d8576b\"], [0.6666666666666666, \"#ed7953\"], [0.7777777777777778, \"#fb9f3a\"], [0.8888888888888888, \"#fdca26\"], [1.0, \"#f0f921\"]]}, \"colorway\": [\"#636efa\", \"#EF553B\", \"#00cc96\", \"#ab63fa\", \"#FFA15A\", \"#19d3f3\", \"#FF6692\", \"#B6E880\", \"#FF97FF\", \"#FECB52\"], \"font\": {\"color\": \"#2a3f5f\"}, \"geo\": {\"bgcolor\": \"white\", \"lakecolor\": \"white\", \"landcolor\": \"#E5ECF6\", \"showlakes\": true, \"showland\": true, \"subunitcolor\": \"white\"}, \"hoverlabel\": {\"align\": \"left\"}, \"hovermode\": \"closest\", \"mapbox\": {\"style\": \"light\"}, \"paper_bgcolor\": \"white\", \"plot_bgcolor\": \"#E5ECF6\", \"polar\": {\"angularaxis\": {\"gridcolor\": \"white\", \"linecolor\": \"white\", \"ticks\": \"\"}, \"bgcolor\": \"#E5ECF6\", \"radialaxis\": {\"gridcolor\": \"white\", \"linecolor\": \"white\", \"ticks\": \"\"}}, \"scene\": {\"xaxis\": {\"backgroundcolor\": \"#E5ECF6\", \"gridcolor\": \"white\", \"gridwidth\": 2, \"linecolor\": \"white\", \"showbackground\": true, \"ticks\": \"\", \"zerolinecolor\": \"white\"}, \"yaxis\": {\"backgroundcolor\": \"#E5ECF6\", \"gridcolor\": \"white\", \"gridwidth\": 2, \"linecolor\": \"white\", \"showbackground\": true, \"ticks\": \"\", \"zerolinecolor\": \"white\"}, \"zaxis\": {\"backgroundcolor\": \"#E5ECF6\", \"gridcolor\": \"white\", \"gridwidth\": 2, \"linecolor\": \"white\", \"showbackground\": true, \"ticks\": \"\", \"zerolinecolor\": \"white\"}}, \"shapedefaults\": {\"line\": {\"color\": \"#2a3f5f\"}}, \"ternary\": {\"aaxis\": {\"gridcolor\": \"white\", \"linecolor\": \"white\", \"ticks\": \"\"}, \"baxis\": {\"gridcolor\": \"white\", \"linecolor\": \"white\", \"ticks\": \"\"}, \"bgcolor\": \"#E5ECF6\", \"caxis\": {\"gridcolor\": \"white\", \"linecolor\": \"white\", \"ticks\": \"\"}}, \"title\": {\"x\": 0.05}, \"xaxis\": {\"automargin\": true, \"gridcolor\": \"white\", \"linecolor\": \"white\", \"ticks\": \"\", \"zerolinecolor\": \"white\", \"zerolinewidth\": 2}, \"yaxis\": {\"automargin\": true, \"gridcolor\": \"white\", \"linecolor\": \"white\", \"ticks\": \"\", \"zerolinecolor\": \"white\", \"zerolinewidth\": 2}}}, \"title\": {\"font\": {\"color\": \"#4D5663\"}, \"text\": \"a varies from 10000000.0 to 10.0\"}, \"xaxis\": {\"gridcolor\": \"#E1E5ED\", \"showgrid\": true, \"tickfont\": {\"color\": \"#4D5663\"}, \"title\": {\"font\": {\"color\": \"#4D5663\"}, \"text\": \"Im(P)\"}, \"zerolinecolor\": \"#E1E5ED\"}, \"yaxis\": {\"gridcolor\": \"#E1E5ED\", \"showgrid\": true, \"tickfont\": {\"color\": \"#4D5663\"}, \"title\": {\"font\": {\"color\": \"#4D5663\"}, \"text\": \"Re(P)\"}, \"zerolinecolor\": \"#E1E5ED\"}},\n",
       "                        {\"showLink\": true, \"linkText\": \"Export to plot.ly\", \"plotlyServerURL\": \"https://plot.ly\", \"responsive\": true}\n",
       "                    ).then(function(){\n",
       "                            \n",
       "var gd = document.getElementById('dfdf82a3-4e2f-4d6b-b455-388d209c8117');\n",
       "var x = new MutationObserver(function (mutations, observer) {{\n",
       "        var display = window.getComputedStyle(gd).display;\n",
       "        if (!display || display === 'none') {{\n",
       "            console.log([gd, 'removed!']);\n",
       "            Plotly.purge(gd);\n",
       "            observer.disconnect();\n",
       "        }}\n",
       "}});\n",
       "\n",
       "// Listen for the removal of the full notebook cells\n",
       "var notebookContainer = gd.closest('#notebook-container');\n",
       "if (notebookContainer) {{\n",
       "    x.observe(notebookContainer, {childList: true});\n",
       "}}\n",
       "\n",
       "// Listen for the clearing of the current output cell\n",
       "var outputEl = gd.closest('.output');\n",
       "if (outputEl) {{\n",
       "    x.observe(outputEl, {childList: true});\n",
       "}}\n",
       "\n",
       "                        })\n",
       "                };\n",
       "                });\n",
       "            </script>\n",
       "        </div>"
      ]
     },
     "metadata": {},
     "output_type": "display_data"
    }
   ],
   "source": [
    "# P = -a/2 ± √(a^2-4)/2\n",
    "p_num = 101\n",
    "vs = np.logspace(1, 7, p_num)\n",
    "# массив для результатов (так как полюс один, то достаточно массива, а не матрицы\n",
    "Ps = np.empty((2, p_num))\n",
    "\n",
    "for i, vs_i in enumerate(vs):\n",
    "    _, p, _ = signal.tf2zpk([1, 0], [1, a / vs_i, 1])\n",
    "    Ps[0][i] = p[0]\n",
    "    Ps[1][i] = p[1]\n",
    "    \n",
    "df = pd.DataFrame(np.real(Ps).T, columns=['Re(Ps[0])', 'Re(Ps[1])'], index=np.imag(Ps[0]))\n",
    "df.iplot(mode='lines + markers', xTitle='Im(P)', yTitle='Re(P)',\n",
    "         title=f'a varies from {a / vs[0]} to {a / vs[-1]}', symbol=['square', 'diamond'])\n"
   ]
  },
  {
   "cell_type": "code",
   "execution_count": 11,
   "metadata": {},
   "outputs": [
    {
     "data": {
      "application/vnd.plotly.v1+json": {
       "config": {
        "linkText": "Export to plot.ly",
        "plotlyServerURL": "https://plot.ly",
        "showLink": true
       },
       "data": [
        {
         "line": {
          "color": "rgba(255, 153, 51, 1.0)",
          "dash": "solid",
          "shape": "linear",
          "width": 1.3
         },
         "mode": "lines",
         "name": "0",
         "text": "",
         "type": "scatter",
         "x": [
          0,
          3,
          6,
          9,
          12,
          15,
          18,
          21,
          24,
          27,
          30,
          33,
          36,
          39,
          42,
          45,
          48,
          51,
          54,
          57,
          60,
          63,
          66,
          69,
          72,
          75,
          78,
          81,
          84,
          87,
          90,
          93,
          96,
          99,
          102,
          105,
          108,
          111,
          114,
          117,
          120,
          123,
          126,
          129,
          132,
          135,
          138,
          141,
          144,
          147,
          150,
          153,
          156,
          159,
          162,
          165,
          168,
          171,
          174,
          177,
          180,
          183,
          186,
          189,
          192,
          195,
          198,
          201,
          204,
          207,
          210,
          213,
          216,
          219,
          222,
          225,
          228,
          231,
          234,
          237,
          240,
          243,
          246,
          249,
          252,
          255,
          258,
          261,
          264,
          267,
          270,
          273,
          276,
          279,
          282,
          285,
          288,
          291,
          294,
          297,
          300,
          303,
          306,
          309,
          312,
          315,
          318,
          321,
          324,
          327,
          330,
          333,
          336,
          339,
          342,
          345,
          348,
          351,
          354,
          357,
          360,
          363,
          366,
          369,
          372,
          375,
          378,
          381,
          384,
          387,
          390,
          393,
          396,
          399,
          402,
          405,
          408,
          411,
          414,
          417,
          420,
          423,
          426,
          429,
          432,
          435,
          438,
          441,
          444,
          447,
          450,
          453,
          456,
          459,
          462,
          465,
          468,
          471,
          474,
          477,
          480,
          483,
          486,
          489,
          492,
          495,
          498,
          501,
          504,
          507,
          510,
          513,
          516,
          519,
          522,
          525,
          528,
          531,
          534,
          537,
          540,
          543,
          546,
          549,
          552,
          555,
          558,
          561,
          564,
          567,
          570,
          573,
          576,
          579,
          582,
          585,
          588,
          591,
          594,
          597,
          600,
          603,
          606,
          609,
          612,
          615,
          618,
          621,
          624,
          627,
          630,
          633,
          636,
          639,
          642,
          645,
          648,
          651,
          654,
          657,
          660,
          663,
          666,
          669,
          672,
          675,
          678,
          681,
          684,
          687,
          690,
          693,
          696,
          699,
          702,
          705,
          708,
          711,
          714,
          717,
          720,
          723,
          726,
          729,
          732,
          735,
          738,
          741,
          744,
          747,
          750,
          753,
          756,
          759,
          762,
          765,
          768,
          771,
          774,
          777,
          780,
          783,
          786,
          789,
          792,
          795,
          798,
          801,
          804,
          807,
          810,
          813,
          816,
          819,
          822,
          825,
          828,
          831,
          834,
          837,
          840,
          843,
          846,
          849,
          852,
          855,
          858,
          861,
          864,
          867,
          870,
          873,
          876,
          879,
          882,
          885,
          888,
          891,
          894,
          897,
          900,
          903,
          906,
          909,
          912,
          915,
          918,
          921,
          924,
          927,
          930,
          933,
          936,
          939,
          942,
          945,
          948,
          951,
          954,
          957,
          960,
          963,
          966,
          969,
          972,
          975,
          978,
          981,
          984,
          987,
          990,
          993,
          996,
          999,
          1002,
          1005,
          1008,
          1011,
          1014,
          1017,
          1020,
          1023,
          1026,
          1029,
          1032,
          1035,
          1038,
          1041,
          1044,
          1047,
          1050,
          1053,
          1056,
          1059,
          1062,
          1065,
          1068,
          1071,
          1074,
          1077,
          1080,
          1083,
          1086,
          1089,
          1092,
          1095,
          1098,
          1101,
          1104,
          1107,
          1110,
          1113,
          1116,
          1119,
          1122,
          1125,
          1128,
          1131,
          1134,
          1137,
          1140,
          1143,
          1146,
          1149,
          1152,
          1155,
          1158,
          1161,
          1164,
          1167,
          1170,
          1173,
          1176,
          1179,
          1182,
          1185,
          1188,
          1191,
          1194,
          1197,
          1200,
          1203,
          1206,
          1209,
          1212,
          1215,
          1218,
          1221,
          1224,
          1227,
          1230,
          1233,
          1236,
          1239,
          1242,
          1245,
          1248,
          1251,
          1254,
          1257,
          1260,
          1263,
          1266,
          1269,
          1272,
          1275,
          1278,
          1281,
          1284,
          1287,
          1290,
          1293,
          1296,
          1299,
          1302,
          1305,
          1308,
          1311,
          1314,
          1317,
          1320,
          1323,
          1326,
          1329,
          1332,
          1335,
          1338,
          1341,
          1344,
          1347,
          1350,
          1353,
          1356,
          1359,
          1362,
          1365,
          1368,
          1371,
          1374,
          1377,
          1380,
          1383,
          1386,
          1389,
          1392,
          1395,
          1398,
          1401,
          1404,
          1407,
          1410,
          1413,
          1416,
          1419,
          1422,
          1425,
          1428,
          1431,
          1434,
          1437,
          1440,
          1443,
          1446,
          1449,
          1452,
          1455,
          1458,
          1461,
          1464,
          1467,
          1470,
          1473,
          1476,
          1479,
          1482,
          1485,
          1488,
          1491,
          1494,
          1497,
          1500,
          1503,
          1506,
          1509,
          1512,
          1515,
          1518,
          1521,
          1524,
          1527,
          1530,
          1533,
          1536,
          1539,
          1542,
          1545,
          1548,
          1551,
          1554,
          1557,
          1560,
          1563,
          1566,
          1569,
          1572,
          1575,
          1578,
          1581,
          1584,
          1587,
          1590,
          1593,
          1596,
          1599,
          1602,
          1605,
          1608,
          1611,
          1614,
          1617,
          1620,
          1623,
          1626,
          1629,
          1632,
          1635,
          1638,
          1641,
          1644,
          1647,
          1650,
          1653,
          1656,
          1659,
          1662,
          1665,
          1668,
          1671,
          1674,
          1677,
          1680,
          1683,
          1686,
          1689,
          1692,
          1695,
          1698,
          1701,
          1704,
          1707,
          1710,
          1713,
          1716,
          1719,
          1722,
          1725,
          1728,
          1731,
          1734,
          1737,
          1740,
          1743,
          1746,
          1749,
          1752,
          1755,
          1758,
          1761,
          1764,
          1767,
          1770,
          1773,
          1776,
          1779,
          1782,
          1785,
          1788,
          1791,
          1794,
          1797,
          1800,
          1803,
          1806,
          1809,
          1812,
          1815,
          1818,
          1821,
          1824,
          1827,
          1830,
          1833,
          1836,
          1839,
          1842,
          1845,
          1848,
          1851,
          1854,
          1857,
          1860,
          1863,
          1866,
          1869,
          1872,
          1875,
          1878,
          1881,
          1884,
          1887,
          1890,
          1893,
          1896,
          1899,
          1902,
          1905,
          1908,
          1911,
          1914,
          1917,
          1920,
          1923,
          1926,
          1929,
          1932,
          1935,
          1938,
          1941,
          1944,
          1947,
          1950,
          1953,
          1956,
          1959,
          1962,
          1965,
          1968,
          1971,
          1974,
          1977,
          1980,
          1983,
          1986,
          1989,
          1992,
          1995,
          1998,
          2001,
          2004,
          2007,
          2010,
          2013,
          2016,
          2019,
          2022,
          2025,
          2028,
          2031,
          2034,
          2037,
          2040,
          2043,
          2046,
          2049,
          2052,
          2055,
          2058,
          2061,
          2064,
          2067,
          2070,
          2073,
          2076,
          2079,
          2082,
          2085,
          2088,
          2091,
          2094,
          2097,
          2100,
          2103,
          2106,
          2109,
          2112,
          2115,
          2118,
          2121,
          2124,
          2127,
          2130,
          2133,
          2136,
          2139,
          2142,
          2145,
          2148,
          2151,
          2154,
          2157,
          2160,
          2163,
          2166,
          2169,
          2172,
          2175,
          2178,
          2181,
          2184,
          2187,
          2190,
          2193,
          2196,
          2199,
          2202,
          2205,
          2208,
          2211,
          2214,
          2217,
          2220,
          2223,
          2226,
          2229,
          2232,
          2235,
          2238,
          2241,
          2244,
          2247,
          2250,
          2253,
          2256,
          2259,
          2262,
          2265,
          2268,
          2271,
          2274,
          2277,
          2280,
          2283,
          2286,
          2289,
          2292,
          2295,
          2298,
          2301,
          2304,
          2307,
          2310,
          2313,
          2316,
          2319,
          2322,
          2325,
          2328,
          2331,
          2334,
          2337,
          2340,
          2343,
          2346,
          2349,
          2352,
          2355,
          2358,
          2361,
          2364,
          2367,
          2370,
          2373,
          2376,
          2379,
          2382,
          2385,
          2388,
          2391,
          2394,
          2397,
          2400,
          2403,
          2406,
          2409,
          2412,
          2415,
          2418,
          2421,
          2424,
          2427,
          2430,
          2433,
          2436,
          2439,
          2442,
          2445,
          2448,
          2451,
          2454,
          2457,
          2460,
          2463,
          2466,
          2469,
          2472,
          2475,
          2478,
          2481,
          2484,
          2487,
          2490,
          2493,
          2496,
          2499,
          2502,
          2505,
          2508,
          2511,
          2514,
          2517,
          2520,
          2523,
          2526,
          2529,
          2532,
          2535,
          2538,
          2541,
          2544,
          2547,
          2550,
          2553,
          2556,
          2559,
          2562,
          2565,
          2568,
          2571,
          2574,
          2577,
          2580,
          2583,
          2586,
          2589,
          2592,
          2595,
          2598,
          2601,
          2604,
          2607,
          2610,
          2613,
          2616,
          2619,
          2622,
          2625,
          2628,
          2631,
          2634,
          2637,
          2640,
          2643,
          2646,
          2649,
          2652,
          2655,
          2658,
          2661,
          2664,
          2667,
          2670,
          2673,
          2676,
          2679,
          2682,
          2685,
          2688,
          2691,
          2694,
          2697,
          2700,
          2703,
          2706,
          2709,
          2712,
          2715,
          2718,
          2721,
          2724,
          2727,
          2730,
          2733,
          2736,
          2739,
          2742,
          2745,
          2748,
          2751,
          2754,
          2757,
          2760,
          2763,
          2766,
          2769,
          2772,
          2775,
          2778,
          2781,
          2784,
          2787,
          2790,
          2793,
          2796,
          2799,
          2802,
          2805,
          2808,
          2811,
          2814,
          2817,
          2820,
          2823,
          2826,
          2829,
          2832,
          2835,
          2838,
          2841,
          2844,
          2847,
          2850,
          2853,
          2856,
          2859,
          2862,
          2865,
          2868,
          2871,
          2874,
          2877,
          2880,
          2883,
          2886,
          2889,
          2892,
          2895,
          2898,
          2901,
          2904,
          2907,
          2910,
          2913,
          2916,
          2919,
          2922,
          2925,
          2928,
          2931,
          2934,
          2937,
          2940,
          2943,
          2946,
          2949,
          2952,
          2955,
          2958,
          2961,
          2964,
          2967,
          2970,
          2973,
          2976,
          2979,
          2982,
          2985,
          2988,
          2991,
          2994,
          2997,
          3000
         ],
         "y": [
          0,
          0.018848439715408175,
          0.03769018266993454,
          0.05651853448202453,
          0.07532680552793272,
          0.09410831331851431,
          0.11285638487348168,
          0.1315643590922825,
          0.15022558912075706,
          0.16883344471273387,
          0.1873813145857246,
          0.20586260876988133,
          0.22427076094938117,
          0.2425992307954074,
          0.26084150628989694,
          0.2789911060392293,
          0.2970415815770349,
          0.3149865196553048,
          0.3328195445229866,
          0.35053432019125896,
          0.3681245526846779,
          0.38558399227739654,
          0.40290643571366264,
          0.42008572841180625,
          0.4371157666509329,
          0.45399049973954675,
          0.4707039321653326,
          0.4872501257253323,
          0.5036232016357608,
          0.5198173426207094,
          0.5358267949789967,
          0.5516458706284302,
          0.5672689491267565,
          0.5826904796685761,
          0.5979049830575188,
          0.6129070536529765,
          0.6276913612907005,
          0.6422526531765844,
          0.6565857557529564,
          0.67068557653672,
          0.6845471059286886,
          0.6981654189934727,
          0.7115356772092853,
          0.7246531301870466,
          0.7375131173581739,
          0.7501110696304595,
          0.7624425110114479,
          0.7745030601987337,
          0.7862884321366188,
          0.797794439538571,
          0.8090169943749473,
          0.8199521093254523,
          0.8305958991958126,
          0.840944582298169,
          0.8509944817946917,
          0.8607420270039435,
          0.8701837546695257,
          0.8793163101905562,
          0.8881364488135445,
          0.8966410367852359,
          0.9048270524660196,
          0.9126915874035028,
          0.9202318473658703,
          0.9274451533346614,
          0.934328942456612,
          0.9408807689542255,
          0.9470983049947443,
          0.9529793415172189,
          0.9585217890173758,
          0.9637236782900097,
          0.9685831611286311,
          0.9730985109821265,
          0.9772681235681935,
          0.9810905174433341,
          0.9845643345292053,
          0.9876883405951378,
          0.9904614256966512,
          0.9928826045698137,
          0.9949510169813002,
          0.9966659280340299,
          0.9980267284282716,
          0.9990329346781247,
          0.9996841892832999,
          0.9999802608561371,
          0.9999210442038161,
          0.9995065603657316,
          0.9987369566060175,
          0.9976125063612252,
          0.9961336091431725,
          0.9943007903969989,
          0.9921147013144779,
          0.9895761186026509,
          0.986685944207868,
          0.9834452049953297,
          0.9798550523842469,
          0.9759167619387474,
          0.971631732914674,
          0.9670014877624351,
          0.9620276715860858,
          0.9567120515588305,
          0.9510565162951536,
          0.9450630751798049,
          0.9387338576538741,
          0.932071112458211,
          0.925077206834458,
          0.9177546256839811,
          0.9101059706849957,
          0.9021339593682027,
          0.8938414241512638,
          0.8852313113324553,
          0.8763066800438637,
          0.8670707011644901,
          0.8575266561936523,
          0.8476779360850834,
          0.8375280400421418,
          0.8270805742745618,
          0.816339250717184,
          0.805307885711122,
          0.7939903986478353,
          0.7823908105765882,
          0.7705132427757893,
          0.7583619152887218,
          0.7459411454241822,
          0.73325534622256,
          0.7203090248879072,
          0.7071067811865476,
          0.6936533058128049,
          0.6799533787224193,
          0.6660118674342517,
          0.6518337253008787,
          0.6374239897486899,
          0.6227877804881126,
          0.6079302976946053,
          0.5928568201610593,
          0.5775727034222676,
          0.5620833778521308,
          0.5463943467342691,
          0.530511184306734,
          0.5144395337815066,
          0.4981851053394909,
          0.4817536741017152,
          0.46515107807745854,
          0.4483832160900323,
          0.43145604568095886,
          0.4143755809932843,
          0.3971478906347806,
          0.37977909552180095,
          0.3622753667045458,
          0.34464292317451706,
          0.32688802965494274,
          0.3090169943749475,
          0.29103616682827177,
          0.27295193551732544,
          0.2547707256833822,
          0.2364989970237246,
          0.21814324139654273,
          0.19970998051440705,
          0.18120576362713722,
          0.16263716519488375,
          0.14401078255225216,
          0.12533323356430454,
          0.10661115427526005,
          0.08785119655074315,
          0.06906002571440606,
          0.05024431817976966,
          0.03141075907812824,
          0.012566039883352836,
          -0.006283143965558882,
          -0.02513009544333757,
          -0.04396811831786471,
          -0.06279051952931333,
          -0.08159061156815767,
          -0.10036171485121473,
          -0.11909716009486973,
          -0.1377902906846378,
          -0.15643446504023076,
          -0.1750230589752761,
          -0.19354946805086,
          -0.21200710992205457,
          -0.23038942667659065,
          -0.24868988716485457,
          -0.2669019893203755,
          -0.2850192624699762,
          -0.30303526963277383,
          -0.3209436098072095,
          -0.33873792024529153,
          -0.3564118787132506,
          -0.37395920573780045,
          -0.39137366683720215,
          -0.4086490747363489,
          -0.4257792915650727,
          -0.44275823103890133,
          -0.4595798606214878,
          -0.4762382036679392,
          -0.4927273415482914,
          -0.5090414157503713,
          -0.5251746299612958,
          -0.5411212521268757,
          -0.556875616488188,
          -0.5724321255945907,
          -0.587785252292473,
          -0.6029295416890247,
          -0.6178596130903341,
          -0.6325701619131244,
          -0.6470559615694443,
          -0.6613118653236517,
          -0.6753328081210244,
          -0.6891138083873485,
          -0.7026499697988491,
          -0.7159364830218311,
          -0.7289686274214116,
          -0.7417417727387391,
          -0.7542513807361038,
          -0.7664930068093496,
          -0.7784623015670236,
          -0.7901550123756904,
          -0.8015669848708764,
          -0.8126941644330942,
          -0.8235325976284275,
          -0.8340784336131715,
          -0.8443279255020147,
          -0.8542774316992952,
          -0.8639234171928352,
          -0.8732624548099204,
          -0.8822912264349534,
          -0.8910065241883682,
          -0.8994052515663709,
          -0.907484424541117,
          -0.9152411726209175,
          -0.922672739870115,
          -0.9297764858882515,
          -0.9365498867481923,
          -0.9429905358928643,
          -0.9490961449902947,
          -0.954864544746643,
          -0.9602936856769432,
          -0.965381638833274,
          -0.9701265964901058,
          -0.9745268727865771,
          -0.9785809043254722,
          -0.9822872507286887,
          -0.9856445951489982,
          -0.9886517447379141,
          -0.9913076310695066,
          -0.9936113105200084,
          -0.99556196460308,
          -0.9971589002606139,
          -0.9984015501089751,
          -0.9992894726405892,
          -0.999822352380809,
          -1,
          -0.999822352380809,
          -0.9992894726405892,
          -0.998401550108975,
          -0.9971589002606139,
          -0.99556196460308,
          -0.9936113105200084,
          -0.9913076310695065,
          -0.988651744737914,
          -0.985644595148998,
          -0.9822872507286887,
          -0.9785809043254721,
          -0.9745268727865771,
          -0.9701265964901057,
          -0.9653816388332738,
          -0.9602936856769431,
          -0.9548645447466431,
          -0.9490961449902945,
          -0.9429905358928644,
          -0.9365498867481922,
          -0.9297764858882516,
          -0.9226727398701148,
          -0.9152411726209176,
          -0.9074844245411168,
          -0.899405251566371,
          -0.8910065241883676,
          -0.8822912264349535,
          -0.8732624548099202,
          -0.8639234171928354,
          -0.8542774316992949,
          -0.8443279255020151,
          -0.8340784336131708,
          -0.8235325976284277,
          -0.8126941644330938,
          -0.8015669848708766,
          -0.7901550123756901,
          -0.7784623015670233,
          -0.7664930068093498,
          -0.7542513807361041,
          -0.7417417727387391,
          -0.7289686274214116,
          -0.7159364830218309,
          -0.702649969798849,
          -0.6891138083873485,
          -0.6753328081210246,
          -0.6613118653236516,
          -0.6470559615694442,
          -0.632570161913124,
          -0.6178596130903348,
          -0.6029295416890247,
          -0.5877852522924732,
          -0.5724321255945906,
          -0.556875616488188,
          -0.5411212521268752,
          -0.525174629961296,
          -0.5090414157503712,
          -0.4927273415482917,
          -0.4762382036679387,
          -0.4595798606214877,
          -0.4427582310389016,
          -0.425779291565073,
          -0.40864907473634887,
          -0.3913736668372025,
          -0.37395920573779995,
          -0.3564118787132505,
          -0.3387379202452914,
          -0.32094360980720976,
          -0.3030352696327737,
          -0.2850192624699761,
          -0.26690198932037495,
          -0.24868988716485535,
          -0.23038942667659057,
          -0.2120071099220549,
          -0.19354946805085993,
          -0.175023058975276,
          -0.15643446504023023,
          -0.13779029068463858,
          -0.11909716009486966,
          -0.1003617148512151,
          -0.08159061156815717,
          -0.06279051952931326,
          -0.04396811831786419,
          -0.025130095443337937,
          -0.0062831439655588045,
          0.012566039883352469,
          0.03141075907812876,
          0.05024431817976974,
          0.06906002571440568,
          0.08785119655074278,
          0.10661115427526012,
          0.12533323356430418,
          0.1440107825522527,
          0.16263716519488383,
          0.1812057636271373,
          0.1997099805144067,
          0.21814324139654281,
          0.23649899702372468,
          0.25477072568338277,
          0.2729519355173247,
          0.2910361668282719,
          0.3090169943749472,
          0.32688802965494285,
          0.3446429231745171,
          0.36227536670454635,
          0.37977909552180067,
          0.39714789063478073,
          0.414375580993284,
          0.43145604568095935,
          0.4483832160900324,
          0.46515107807745826,
          0.48175367410171493,
          0.498185105339491,
          0.5144395337815064,
          0.5305111843067345,
          0.5463943467342692,
          0.5620833778521306,
          0.5775727034222673,
          0.5928568201610595,
          0.6079302976946054,
          0.622787780488113,
          0.63742398974869,
          0.6518337253008788,
          0.6660118674342514,
          0.6799533787224195,
          0.693653305812805,
          0.7071067811865479,
          0.7203090248879065,
          0.73325534622256,
          0.745941145424182,
          0.758361915288722,
          0.7705132427757893,
          0.7823908105765885,
          0.7939903986478349,
          0.805307885711122,
          0.8163392507171838,
          0.827080574274562,
          0.8375280400421418,
          0.8476779360850831,
          0.8575266561936521,
          0.8670707011644901,
          0.8763066800438635,
          0.8852313113324555,
          0.8938414241512639,
          0.9021339593682027,
          0.9101059706849955,
          0.9177546256839813,
          0.925077206834458,
          0.9320711124582112,
          0.9387338576538738,
          0.9450630751798048,
          0.9510565162951534,
          0.9567120515588305,
          0.9620276715860859,
          0.9670014877624352,
          0.9716317329146738,
          0.9759167619387474,
          0.9798550523842469,
          0.9834452049953297,
          0.986685944207868,
          0.989576118602651,
          0.9921147013144778,
          0.9943007903969989,
          0.9961336091431725,
          0.9976125063612252,
          0.9987369566060175,
          0.9995065603657316,
          0.9999210442038161,
          0.9999802608561371,
          0.9996841892832999,
          0.9990329346781247,
          0.9980267284282716,
          0.9966659280340299,
          0.9949510169813002,
          0.9928826045698136,
          0.9904614256966512,
          0.9876883405951377,
          0.9845643345292054,
          0.9810905174433341,
          0.9772681235681934,
          0.9730985109821267,
          0.9685831611286311,
          0.9637236782900096,
          0.9585217890173761,
          0.9529793415172187,
          0.9470983049947441,
          0.9408807689542257,
          0.934328942456612,
          0.927445153334661,
          0.9202318473658698,
          0.9126915874035028,
          0.90482705246602,
          0.8966410367852361,
          0.8881364488135445,
          0.8793163101905568,
          0.8701837546695259,
          0.8607420270039435,
          0.8509944817946915,
          0.8409445822981693,
          0.8305958991958126,
          0.8199521093254518,
          0.8090169943749466,
          0.7977944395385719,
          0.7862884321366195,
          0.774503060198734,
          0.7624425110114477,
          0.7501110696304601,
          0.7375131173581742,
          0.7246531301870465,
          0.7115356772092847,
          0.6981654189934728,
          0.6845471059286884,
          0.6706855765367193,
          0.6565857557529565,
          0.6422526531765854,
          0.627691361290701,
          0.6129070536529766,
          0.5979049830575185,
          0.5826904796685767,
          0.5672689491267566,
          0.5516458706284298,
          0.5358267949789957,
          0.5198173426207096,
          0.5036232016357604,
          0.48725012572533133,
          0.47070393216533263,
          0.4539904997395479,
          0.4371157666509335,
          0.4200857284118063,
          0.40290643571366214,
          0.38558399227739715,
          0.368124552684678,
          0.35053432019125846,
          0.3328195445229855,
          0.3149865196553048,
          0.2970415815770343,
          0.2789911060392298,
          0.2608415062898969,
          0.2425992307954085,
          0.22427076094938167,
          0.20586260876988122,
          0.18738131458572393,
          0.16883344471273432,
          0.15022558912075692,
          0.13156435909228176,
          0.11285638487348035,
          0.09410831331851414,
          0.07532680552793372,
          0.05651853448202493,
          0.03769018266993434,
          0.018848439715409147,
          3.6739403974420594e-16,
          -0.01884843971540841,
          -0.037690182669935374,
          -0.056518534482024194,
          -0.075326805527933,
          -0.0941083133185152,
          -0.11285638487348316,
          -0.13156435909228104,
          -0.1502255891207562,
          -0.16883344471273362,
          -0.18738131458572496,
          -0.20586260876988052,
          -0.22427076094938098,
          -0.2425992307954078,
          -0.26084150628989783,
          -0.27899110603922905,
          -0.29704158157703525,
          -0.3149865196553057,
          -0.33281954452298645,
          -0.35053432019125774,
          -0.36812455268467725,
          -0.3855839922773964,
          -0.4029064357136631,
          -0.4200857284118056,
          -0.4371157666509328,
          -0.4539904997395472,
          -0.4707039321653335,
          -0.4872501257253323,
          -0.5036232016357614,
          -0.519817342620709,
          -0.5358267949789967,
          -0.5516458706284293,
          -0.5672689491267561,
          -0.5826904796685761,
          -0.5979049830575194,
          -0.612907053652976,
          -0.6276913612907006,
          -0.6422526531765849,
          -0.6565857557529574,
          -0.6706855765367201,
          -0.684547105928688,
          -0.6981654189934724,
          -0.7115356772092853,
          -0.7246531301870459,
          -0.7375131173581736,
          -0.7501110696304596,
          -0.7624425110114483,
          -0.7745030601987335,
          -0.786288432136619,
          -0.7977944395385714,
          -0.8090169943749482,
          -0.8199521093254514,
          -0.8305958991958121,
          -0.8409445822981689,
          -0.850994481794692,
          -0.8607420270039432,
          -0.8701837546695255,
          -0.8793163101905563,
          -0.8881364488135449,
          -0.8966410367852358,
          -0.9048270524660197,
          -0.9126915874035032,
          -0.9202318473658709,
          -0.9274451533346608,
          -0.9343289424566117,
          -0.9408807689542253,
          -0.9470983049947443,
          -0.9529793415172185,
          -0.9585217890173758,
          -0.9637236782900098,
          -0.9685831611286314,
          -0.9730985109821265,
          -0.9772681235681936,
          -0.9810905174433343,
          -0.9845643345292053,
          -0.9876883405951375,
          -0.9904614256966511,
          -0.9928826045698137,
          -0.9949510169813002,
          -0.9966659280340299,
          -0.9980267284282716,
          -0.9990329346781247,
          -0.9996841892833,
          -0.9999802608561371,
          -0.9999210442038161,
          -0.9995065603657316,
          -0.9987369566060175,
          -0.9976125063612253,
          -0.9961336091431725,
          -0.9943007903969989,
          -0.9921147013144778,
          -0.989576118602651,
          -0.986685944207868,
          -0.9834452049953295,
          -0.9798550523842466,
          -0.9759167619387473,
          -0.9716317329146742,
          -0.9670014877624352,
          -0.9620276715860858,
          -0.9567120515588308,
          -0.9510565162951538,
          -0.9450630751798048,
          -0.9387338576538738,
          -0.9320711124582112,
          -0.9250772068344579,
          -0.9177546256839808,
          -0.9101059706849951,
          -0.9021339593682035,
          -0.8938414241512642,
          -0.8852313113324554,
          -0.8763066800438635,
          -0.8670707011644905,
          -0.8575266561936524,
          -0.8476779360850831,
          -0.8375280400421412,
          -0.8270805742745619,
          -0.8163392507171838,
          -0.8053078857111214,
          -0.7939903986478355,
          -0.782390810576589,
          -0.7705132427757897,
          -0.758361915288722,
          -0.7459411454241819,
          -0.7332553462225606,
          -0.720309024887907,
          -0.7071067811865472,
          -0.6936533058128042,
          -0.6799533787224192,
          -0.6660118674342512,
          -0.6518337253008792,
          -0.6374239897486897,
          -0.6227877804881135,
          -0.6079302976946059,
          -0.5928568201610592,
          -0.5775727034222671,
          -0.5620833778521311,
          -0.5463943467342691,
          -0.5305111843067335,
          -0.5144395337815054,
          -0.4981851053394908,
          -0.48175367410171627,
          -0.46515107807745887,
          -0.44838321609003223,
          -0.43145604568096,
          -0.41437558099328464,
          -0.39714789063478056,
          -0.3797790955218005,
          -0.3622753667045462,
          -0.344642923174517,
          -0.32688802965494185,
          -0.3090169943749462,
          -0.2910361668282717,
          -0.27295193551732627,
          -0.2547707256833826,
          -0.23649899702372454,
          -0.21814324139654356,
          -0.19970998051440744,
          -0.18120576362713717,
          -0.16263716519488283,
          -0.14401078255225255,
          -0.12533323356430404,
          -0.10661115427525909,
          -0.08785119655074175,
          -0.06906002571440731,
          -0.05024431817977047,
          -0.031410759078128604,
          -0.012566039883352314,
          0.00628314396555807,
          0.025130095443337202,
          0.04396811831786523,
          0.0627905195293143,
          0.0815906115681573,
          0.10036171485121526,
          0.1190971600948707,
          0.13779029068463786,
          0.15643446504022948,
          0.17502305897527526,
          0.19354946805086007,
          0.21200710992205504,
          0.23038942667658985,
          0.24868988716485463,
          0.266901989320376,
          0.28501926246997716,
          0.30303526963277383,
          0.32094360980720993,
          0.3387379202452907,
          0.35641187871325064,
          0.3739592057377993,
          0.3913736668372018,
          0.408649074736349,
          0.42577929156507316,
          0.442758231038901,
          0.45957986062148787,
          0.4762382036679396,
          0.4927273415482927,
          0.5090414157503713,
          0.5251746299612947,
          0.5411212521268755,
          0.5568756164881881,
          0.57243212559459,
          0.5877852522924728,
          0.6029295416890248,
          0.6178596130903349,
          0.6325701619131241,
          0.6470559615694444,
          0.6613118653236525,
          0.6753328081210255,
          0.6891138083873474,
          0.7026499697988485,
          0.7159364830218309,
          0.7289686274214117,
          0.7417417727387385,
          0.7542513807361035,
          0.76649300680935,
          0.778462301567024,
          0.7901550123756902,
          0.8015669848708767,
          0.8126941644330945,
          0.8235325976284272,
          0.8340784336131704,
          0.8443279255020146,
          0.854277431699295,
          0.8639234171928355,
          0.8732624548099197,
          0.8822912264349532,
          0.891006524188368,
          0.8994052515663714,
          0.9074844245411169,
          0.9152411726209178,
          0.9226727398701152,
          0.9297764858882513,
          0.9365498867481918,
          0.9429905358928642,
          0.9490961449902945,
          0.9548645447466431,
          0.9602936856769428,
          0.9653816388332739,
          0.9701265964901059,
          0.9745268727865773,
          0.9785809043254721,
          0.9822872507286888,
          0.9856445951489979,
          0.988651744737914,
          0.9913076310695064,
          0.9936113105200083,
          0.99556196460308,
          0.9971589002606139,
          0.998401550108975,
          0.9992894726405892,
          0.9998223523808091,
          1,
          0.999822352380809,
          0.9992894726405893,
          0.998401550108975,
          0.9971589002606139,
          0.9955619646030801,
          0.9936113105200085,
          0.9913076310695066,
          0.988651744737914,
          0.9856445951489982,
          0.9822872507286886,
          0.978580904325472,
          0.9745268727865768,
          0.9701265964901062,
          0.9653816388332741,
          0.9602936856769432,
          0.9548645447466428,
          0.9490961449902949,
          0.9429905358928646,
          0.9365498867481923,
          0.9297764858882511,
          0.922672739870115,
          0.9152411726209174,
          0.9074844245411166,
          0.8994052515663712,
          0.8910065241883686,
          0.8822912264349537,
          0.8732624548099203,
          0.8639234171928352,
          0.8542774316992956,
          0.8443279255020152,
          0.834078433613171,
          0.8235325976284269,
          0.8126941644330941,
          0.8015669848708763,
          0.7901550123756909,
          0.7784623015670236,
          0.7664930068093507,
          0.7542513807361043,
          0.7417417727387393,
          0.7289686274214111,
          0.7159364830218317,
          0.7026499697988493,
          0.6891138083873481,
          0.6753328081210237,
          0.6613118653236519,
          0.6470559615694453,
          0.632570161913125,
          0.6178596130903344,
          0.6029295416890257,
          0.5877852522924737,
          0.5724321255945909,
          0.5568756164881875,
          0.5411212521268763,
          0.5251746299612957,
          0.5090414157503708,
          0.4927273415482905,
          0.4762382036679406,
          0.4595798606214888,
          0.442758231038902,
          0.42577929156507255,
          0.40864907473635004,
          0.3913736668372028,
          0.3739592057378003,
          0.35641187871325,
          0.33873792024529176,
          0.3209436098072093,
          0.3030352696327732,
          0.2850192624699748,
          0.26690198932037706,
          0.2486898871648557,
          0.23038942667659093,
          0.2120071099220544,
          0.19354946805086118,
          0.17502305897527637,
          0.1564344650402306,
          0.1377902906846372,
          0.11909716009487002,
          0.10036171485121458,
          0.08159061156815664,
          0.06279051952931362,
          0.04396811831786633,
          0.0251300954433383,
          0.006283143965559172,
          -0.012566039883352989,
          -0.03141075907812751,
          -0.05024431817976937,
          -0.06906002571440621,
          -0.08785119655074419,
          -0.10661115427525976,
          -0.1253332335643047,
          -0.14401078255225144,
          -0.1626371651948835,
          -0.18120576362713608,
          -0.19970998051440633,
          -0.21814324139654248,
          -0.23649899702372518,
          -0.25477072568338155,
          -0.27295193551732516,
          -0.29103616682827066,
          -0.3090169943749485,
          -0.32688802965494246,
          -0.34464292317451595,
          -0.36227536670454347,
          -0.3797790955218011,
          -0.39714789063477957,
          -0.41437558099328525,
          -0.431456045680959,
          -0.44838321609003123,
          -0.4651510780774595,
          -0.4817536741017153,
          -0.49818510533948984,
          -0.5144395337815075,
          -0.530511184306734,
          -0.5463943467342681,
          -0.5620833778521287,
          -0.5775727034222676,
          -0.5928568201610583,
          -0.6079302976946064,
          -0.6227877804881126,
          -0.6374239897486889,
          -0.6518337253008771,
          -0.6660118674342518,
          -0.6799533787224185,
          -0.6936533058128059,
          -0.7071067811865477,
          -0.7203090248879087,
          -0.7332553462225586,
          -0.7459411454241823,
          -0.7583619152887213,
          -0.7705132427757879,
          -0.7823908105765883,
          -0.7939903986478348,
          -0.8053078857111229,
          -0.8163392507171842,
          -0.8270805742745614,
          -0.8375280400421407,
          -0.8476779360850835,
          -0.8575266561936519,
          -0.8670707011644908,
          -0.8763066800438638,
          -0.8852313113324548,
          -0.8938414241512646,
          -0.9021339593682015,
          -0.9101059706849954,
          -0.9177546256839804,
          -0.9250772068344583,
          -0.9320711124582107,
          -0.9387338576538746,
          -0.945063075179805,
          -0.9510565162951544,
          -0.95671205155883,
          -0.962027671586085,
          -0.9670014877624349,
          -0.9716317329146735,
          -0.9759167619387475,
          -0.9798550523842467,
          -0.9834452049953301,
          -0.9866859442078681,
          -0.9895761186026509,
          -0.9921147013144777,
          -0.9943007903969989,
          -0.9961336091431724,
          -0.9976125063612251,
          -0.9987369566060176,
          -0.9995065603657315,
          -0.9999210442038161,
          -0.9999802608561371,
          -0.9996841892832999,
          -0.9990329346781248,
          -0.9980267284282716,
          -0.9966659280340299,
          -0.9949510169813,
          -0.9928826045698136,
          -0.9904614256966513,
          -0.987688340595138,
          -0.9845643345292059,
          -0.9810905174433342,
          -0.9772681235681938,
          -0.9730985109821264,
          -0.9685831611286312,
          -0.9637236782900092,
          -0.9585217890173756,
          -0.9529793415172189,
          -0.9470983049947448,
          -0.9408807689542263,
          -0.9343289424566121,
          -0.9274451533346618,
          -0.9202318473658699,
          -0.9126915874035029,
          -0.9048270524660186,
          -0.896641036785237,
          -0.8881364488135446,
          -0.8793163101905569,
          -0.8701837546695252,
          -0.8607420270039438,
          -0.8509944817946906,
          -0.8409445822981685,
          -0.8305958991958127,
          -0.819952109325453,
          -0.8090169943749489,
          -0.797794439538571,
          -0.7862884321366197,
          -0.774503060198733,
          -0.7624425110114479,
          -0.750111069630458,
          -0.737513117358173,
          -0.7246531301870467,
          -0.7115356772092862,
          -0.6981654189934744,
          -0.6845471059286887,
          -0.670685576536721,
          -0.6565857557529555,
          -0.6422526531765844,
          -0.6276913612906987,
          -0.6129070536529784,
          -0.5979049830575188,
          -0.582690479668577,
          -0.5672689491267555,
          -0.5516458706284302,
          -0.5358267949789975,
          -0.5198173426207084,
          -0.5036232016357608,
          -0.48725012572533327,
          -0.4707039321653345,
          -0.45399049973954664,
          -0.43711576665093377,
          -0.42008572841180497,
          -0.40290643571366247,
          -0.38558399227739415,
          -0.36812455268467664,
          -0.3505343201912621,
          -0.3328195445229875,
          -0.3149865196553068,
          -0.29704158157703464,
          -0.2789911060392301,
          -0.2608415062898955,
          -0.24259923079540713,
          -0.22427076094937856,
          -0.2058626087698833,
          -0.1873813145857243,
          -0.16883344471273468,
          -0.15022558912075903,
          -0.13156435909228212,
          -0.11285638487348248,
          -0.09410831331851274,
          -0.07532680552793232,
          -0.0565185344820253,
          -0.03769018266993648,
          -0.018848439715407738,
          -7.347880794884119e-16
         ]
        }
       ],
       "layout": {
        "legend": {
         "bgcolor": "#FFFFFF",
         "font": {
          "color": "#4D5663"
         }
        },
        "paper_bgcolor": "#FFFFFF",
        "plot_bgcolor": "#FFFFFF",
        "template": {
         "data": {
          "bar": [
           {
            "error_x": {
             "color": "#2a3f5f"
            },
            "error_y": {
             "color": "#2a3f5f"
            },
            "marker": {
             "line": {
              "color": "#E5ECF6",
              "width": 0.5
             }
            },
            "type": "bar"
           }
          ],
          "barpolar": [
           {
            "marker": {
             "line": {
              "color": "#E5ECF6",
              "width": 0.5
             }
            },
            "type": "barpolar"
           }
          ],
          "carpet": [
           {
            "aaxis": {
             "endlinecolor": "#2a3f5f",
             "gridcolor": "white",
             "linecolor": "white",
             "minorgridcolor": "white",
             "startlinecolor": "#2a3f5f"
            },
            "baxis": {
             "endlinecolor": "#2a3f5f",
             "gridcolor": "white",
             "linecolor": "white",
             "minorgridcolor": "white",
             "startlinecolor": "#2a3f5f"
            },
            "type": "carpet"
           }
          ],
          "choropleth": [
           {
            "colorbar": {
             "outlinewidth": 0,
             "ticks": ""
            },
            "type": "choropleth"
           }
          ],
          "contour": [
           {
            "colorbar": {
             "outlinewidth": 0,
             "ticks": ""
            },
            "colorscale": [
             [
              0,
              "#0d0887"
             ],
             [
              0.1111111111111111,
              "#46039f"
             ],
             [
              0.2222222222222222,
              "#7201a8"
             ],
             [
              0.3333333333333333,
              "#9c179e"
             ],
             [
              0.4444444444444444,
              "#bd3786"
             ],
             [
              0.5555555555555556,
              "#d8576b"
             ],
             [
              0.6666666666666666,
              "#ed7953"
             ],
             [
              0.7777777777777778,
              "#fb9f3a"
             ],
             [
              0.8888888888888888,
              "#fdca26"
             ],
             [
              1,
              "#f0f921"
             ]
            ],
            "type": "contour"
           }
          ],
          "contourcarpet": [
           {
            "colorbar": {
             "outlinewidth": 0,
             "ticks": ""
            },
            "type": "contourcarpet"
           }
          ],
          "heatmap": [
           {
            "colorbar": {
             "outlinewidth": 0,
             "ticks": ""
            },
            "colorscale": [
             [
              0,
              "#0d0887"
             ],
             [
              0.1111111111111111,
              "#46039f"
             ],
             [
              0.2222222222222222,
              "#7201a8"
             ],
             [
              0.3333333333333333,
              "#9c179e"
             ],
             [
              0.4444444444444444,
              "#bd3786"
             ],
             [
              0.5555555555555556,
              "#d8576b"
             ],
             [
              0.6666666666666666,
              "#ed7953"
             ],
             [
              0.7777777777777778,
              "#fb9f3a"
             ],
             [
              0.8888888888888888,
              "#fdca26"
             ],
             [
              1,
              "#f0f921"
             ]
            ],
            "type": "heatmap"
           }
          ],
          "heatmapgl": [
           {
            "colorbar": {
             "outlinewidth": 0,
             "ticks": ""
            },
            "colorscale": [
             [
              0,
              "#0d0887"
             ],
             [
              0.1111111111111111,
              "#46039f"
             ],
             [
              0.2222222222222222,
              "#7201a8"
             ],
             [
              0.3333333333333333,
              "#9c179e"
             ],
             [
              0.4444444444444444,
              "#bd3786"
             ],
             [
              0.5555555555555556,
              "#d8576b"
             ],
             [
              0.6666666666666666,
              "#ed7953"
             ],
             [
              0.7777777777777778,
              "#fb9f3a"
             ],
             [
              0.8888888888888888,
              "#fdca26"
             ],
             [
              1,
              "#f0f921"
             ]
            ],
            "type": "heatmapgl"
           }
          ],
          "histogram": [
           {
            "marker": {
             "colorbar": {
              "outlinewidth": 0,
              "ticks": ""
             }
            },
            "type": "histogram"
           }
          ],
          "histogram2d": [
           {
            "colorbar": {
             "outlinewidth": 0,
             "ticks": ""
            },
            "colorscale": [
             [
              0,
              "#0d0887"
             ],
             [
              0.1111111111111111,
              "#46039f"
             ],
             [
              0.2222222222222222,
              "#7201a8"
             ],
             [
              0.3333333333333333,
              "#9c179e"
             ],
             [
              0.4444444444444444,
              "#bd3786"
             ],
             [
              0.5555555555555556,
              "#d8576b"
             ],
             [
              0.6666666666666666,
              "#ed7953"
             ],
             [
              0.7777777777777778,
              "#fb9f3a"
             ],
             [
              0.8888888888888888,
              "#fdca26"
             ],
             [
              1,
              "#f0f921"
             ]
            ],
            "type": "histogram2d"
           }
          ],
          "histogram2dcontour": [
           {
            "colorbar": {
             "outlinewidth": 0,
             "ticks": ""
            },
            "colorscale": [
             [
              0,
              "#0d0887"
             ],
             [
              0.1111111111111111,
              "#46039f"
             ],
             [
              0.2222222222222222,
              "#7201a8"
             ],
             [
              0.3333333333333333,
              "#9c179e"
             ],
             [
              0.4444444444444444,
              "#bd3786"
             ],
             [
              0.5555555555555556,
              "#d8576b"
             ],
             [
              0.6666666666666666,
              "#ed7953"
             ],
             [
              0.7777777777777778,
              "#fb9f3a"
             ],
             [
              0.8888888888888888,
              "#fdca26"
             ],
             [
              1,
              "#f0f921"
             ]
            ],
            "type": "histogram2dcontour"
           }
          ],
          "mesh3d": [
           {
            "colorbar": {
             "outlinewidth": 0,
             "ticks": ""
            },
            "type": "mesh3d"
           }
          ],
          "parcoords": [
           {
            "line": {
             "colorbar": {
              "outlinewidth": 0,
              "ticks": ""
             }
            },
            "type": "parcoords"
           }
          ],
          "scatter": [
           {
            "marker": {
             "colorbar": {
              "outlinewidth": 0,
              "ticks": ""
             }
            },
            "type": "scatter"
           }
          ],
          "scatter3d": [
           {
            "line": {
             "colorbar": {
              "outlinewidth": 0,
              "ticks": ""
             }
            },
            "marker": {
             "colorbar": {
              "outlinewidth": 0,
              "ticks": ""
             }
            },
            "type": "scatter3d"
           }
          ],
          "scattercarpet": [
           {
            "marker": {
             "colorbar": {
              "outlinewidth": 0,
              "ticks": ""
             }
            },
            "type": "scattercarpet"
           }
          ],
          "scattergeo": [
           {
            "marker": {
             "colorbar": {
              "outlinewidth": 0,
              "ticks": ""
             }
            },
            "type": "scattergeo"
           }
          ],
          "scattergl": [
           {
            "marker": {
             "colorbar": {
              "outlinewidth": 0,
              "ticks": ""
             }
            },
            "type": "scattergl"
           }
          ],
          "scattermapbox": [
           {
            "marker": {
             "colorbar": {
              "outlinewidth": 0,
              "ticks": ""
             }
            },
            "type": "scattermapbox"
           }
          ],
          "scatterpolar": [
           {
            "marker": {
             "colorbar": {
              "outlinewidth": 0,
              "ticks": ""
             }
            },
            "type": "scatterpolar"
           }
          ],
          "scatterpolargl": [
           {
            "marker": {
             "colorbar": {
              "outlinewidth": 0,
              "ticks": ""
             }
            },
            "type": "scatterpolargl"
           }
          ],
          "scatterternary": [
           {
            "marker": {
             "colorbar": {
              "outlinewidth": 0,
              "ticks": ""
             }
            },
            "type": "scatterternary"
           }
          ],
          "surface": [
           {
            "colorbar": {
             "outlinewidth": 0,
             "ticks": ""
            },
            "colorscale": [
             [
              0,
              "#0d0887"
             ],
             [
              0.1111111111111111,
              "#46039f"
             ],
             [
              0.2222222222222222,
              "#7201a8"
             ],
             [
              0.3333333333333333,
              "#9c179e"
             ],
             [
              0.4444444444444444,
              "#bd3786"
             ],
             [
              0.5555555555555556,
              "#d8576b"
             ],
             [
              0.6666666666666666,
              "#ed7953"
             ],
             [
              0.7777777777777778,
              "#fb9f3a"
             ],
             [
              0.8888888888888888,
              "#fdca26"
             ],
             [
              1,
              "#f0f921"
             ]
            ],
            "type": "surface"
           }
          ],
          "table": [
           {
            "cells": {
             "fill": {
              "color": "#EBF0F8"
             },
             "line": {
              "color": "white"
             }
            },
            "header": {
             "fill": {
              "color": "#C8D4E3"
             },
             "line": {
              "color": "white"
             }
            },
            "type": "table"
           }
          ]
         },
         "layout": {
          "annotationdefaults": {
           "arrowcolor": "#2a3f5f",
           "arrowhead": 0,
           "arrowwidth": 1
          },
          "colorscale": {
           "diverging": [
            [
             0,
             "#8e0152"
            ],
            [
             0.1,
             "#c51b7d"
            ],
            [
             0.2,
             "#de77ae"
            ],
            [
             0.3,
             "#f1b6da"
            ],
            [
             0.4,
             "#fde0ef"
            ],
            [
             0.5,
             "#f7f7f7"
            ],
            [
             0.6,
             "#e6f5d0"
            ],
            [
             0.7,
             "#b8e186"
            ],
            [
             0.8,
             "#7fbc41"
            ],
            [
             0.9,
             "#4d9221"
            ],
            [
             1,
             "#276419"
            ]
           ],
           "sequential": [
            [
             0,
             "#0d0887"
            ],
            [
             0.1111111111111111,
             "#46039f"
            ],
            [
             0.2222222222222222,
             "#7201a8"
            ],
            [
             0.3333333333333333,
             "#9c179e"
            ],
            [
             0.4444444444444444,
             "#bd3786"
            ],
            [
             0.5555555555555556,
             "#d8576b"
            ],
            [
             0.6666666666666666,
             "#ed7953"
            ],
            [
             0.7777777777777778,
             "#fb9f3a"
            ],
            [
             0.8888888888888888,
             "#fdca26"
            ],
            [
             1,
             "#f0f921"
            ]
           ],
           "sequentialminus": [
            [
             0,
             "#0d0887"
            ],
            [
             0.1111111111111111,
             "#46039f"
            ],
            [
             0.2222222222222222,
             "#7201a8"
            ],
            [
             0.3333333333333333,
             "#9c179e"
            ],
            [
             0.4444444444444444,
             "#bd3786"
            ],
            [
             0.5555555555555556,
             "#d8576b"
            ],
            [
             0.6666666666666666,
             "#ed7953"
            ],
            [
             0.7777777777777778,
             "#fb9f3a"
            ],
            [
             0.8888888888888888,
             "#fdca26"
            ],
            [
             1,
             "#f0f921"
            ]
           ]
          },
          "colorway": [
           "#636efa",
           "#EF553B",
           "#00cc96",
           "#ab63fa",
           "#FFA15A",
           "#19d3f3",
           "#FF6692",
           "#B6E880",
           "#FF97FF",
           "#FECB52"
          ],
          "font": {
           "color": "#2a3f5f"
          },
          "geo": {
           "bgcolor": "white",
           "lakecolor": "white",
           "landcolor": "#E5ECF6",
           "showlakes": true,
           "showland": true,
           "subunitcolor": "white"
          },
          "hoverlabel": {
           "align": "left"
          },
          "hovermode": "closest",
          "mapbox": {
           "style": "light"
          },
          "paper_bgcolor": "white",
          "plot_bgcolor": "#E5ECF6",
          "polar": {
           "angularaxis": {
            "gridcolor": "white",
            "linecolor": "white",
            "ticks": ""
           },
           "bgcolor": "#E5ECF6",
           "radialaxis": {
            "gridcolor": "white",
            "linecolor": "white",
            "ticks": ""
           }
          },
          "scene": {
           "xaxis": {
            "backgroundcolor": "#E5ECF6",
            "gridcolor": "white",
            "gridwidth": 2,
            "linecolor": "white",
            "showbackground": true,
            "ticks": "",
            "zerolinecolor": "white"
           },
           "yaxis": {
            "backgroundcolor": "#E5ECF6",
            "gridcolor": "white",
            "gridwidth": 2,
            "linecolor": "white",
            "showbackground": true,
            "ticks": "",
            "zerolinecolor": "white"
           },
           "zaxis": {
            "backgroundcolor": "#E5ECF6",
            "gridcolor": "white",
            "gridwidth": 2,
            "linecolor": "white",
            "showbackground": true,
            "ticks": "",
            "zerolinecolor": "white"
           }
          },
          "shapedefaults": {
           "line": {
            "color": "#2a3f5f"
           }
          },
          "ternary": {
           "aaxis": {
            "gridcolor": "white",
            "linecolor": "white",
            "ticks": ""
           },
           "baxis": {
            "gridcolor": "white",
            "linecolor": "white",
            "ticks": ""
           },
           "bgcolor": "#E5ECF6",
           "caxis": {
            "gridcolor": "white",
            "linecolor": "white",
            "ticks": ""
           }
          },
          "title": {
           "x": 0.05
          },
          "xaxis": {
           "automargin": true,
           "gridcolor": "white",
           "linecolor": "white",
           "ticks": "",
           "zerolinecolor": "white",
           "zerolinewidth": 2
          },
          "yaxis": {
           "automargin": true,
           "gridcolor": "white",
           "linecolor": "white",
           "ticks": "",
           "zerolinecolor": "white",
           "zerolinewidth": 2
          }
         }
        },
        "title": {
         "font": {
          "color": "#4D5663"
         },
         "text": "Input"
        },
        "xaxis": {
         "gridcolor": "#E1E5ED",
         "showgrid": true,
         "tickfont": {
          "color": "#4D5663"
         },
         "title": {
          "font": {
           "color": "#4D5663"
          },
          "text": "T"
         },
         "zerolinecolor": "#E1E5ED"
        },
        "yaxis": {
         "gridcolor": "#E1E5ED",
         "showgrid": true,
         "tickfont": {
          "color": "#4D5663"
         },
         "title": {
          "font": {
           "color": "#4D5663"
          },
          "text": "S"
         },
         "zerolinecolor": "#E1E5ED"
        }
       }
      },
      "text/html": [
       "<div>\n",
       "        \n",
       "        \n",
       "            <div id=\"1b2f57e0-a841-4bf6-b887-322008dab3d1\" class=\"plotly-graph-div\" style=\"height:525px; width:100%;\"></div>\n",
       "            <script type=\"text/javascript\">\n",
       "                require([\"plotly\"], function(Plotly) {\n",
       "                    window.PLOTLYENV=window.PLOTLYENV || {};\n",
       "                    window.PLOTLYENV.BASE_URL='https://plot.ly';\n",
       "                    \n",
       "                if (document.getElementById(\"1b2f57e0-a841-4bf6-b887-322008dab3d1\")) {\n",
       "                    Plotly.newPlot(\n",
       "                        '1b2f57e0-a841-4bf6-b887-322008dab3d1',\n",
       "                        [{\"line\": {\"color\": \"rgba(255, 153, 51, 1.0)\", \"dash\": \"solid\", \"shape\": \"linear\", \"width\": 1.3}, \"mode\": \"lines\", \"name\": \"0\", \"text\": \"\", \"type\": \"scatter\", \"x\": [0.0, 3.0, 6.0, 9.0, 12.0, 15.0, 18.0, 21.0, 24.0, 27.0, 30.0, 33.0, 36.0, 39.0, 42.0, 45.0, 48.0, 51.0, 54.0, 57.0, 60.0, 63.0, 66.0, 69.0, 72.0, 75.0, 78.0, 81.0, 84.0, 87.0, 90.0, 93.0, 96.0, 99.0, 102.0, 105.0, 108.0, 111.0, 114.0, 117.0, 120.0, 123.0, 126.0, 129.0, 132.0, 135.0, 138.0, 141.0, 144.0, 147.0, 150.0, 153.0, 156.0, 159.0, 162.0, 165.0, 168.0, 171.0, 174.0, 177.0, 180.0, 183.0, 186.0, 189.0, 192.0, 195.0, 198.0, 201.0, 204.0, 207.0, 210.0, 213.0, 216.0, 219.0, 222.0, 225.0, 228.0, 231.0, 234.0, 237.0, 240.0, 243.0, 246.0, 249.0, 252.0, 255.0, 258.0, 261.0, 264.0, 267.0, 270.0, 273.0, 276.0, 279.0, 282.0, 285.0, 288.0, 291.0, 294.0, 297.0, 300.0, 303.0, 306.0, 309.0, 312.0, 315.0, 318.0, 321.0, 324.0, 327.0, 330.0, 333.0, 336.0, 339.0, 342.0, 345.0, 348.0, 351.0, 354.0, 357.0, 360.0, 363.0, 366.0, 369.0, 372.0, 375.0, 378.0, 381.0, 384.0, 387.0, 390.0, 393.0, 396.0, 399.0, 402.0, 405.0, 408.0, 411.0, 414.0, 417.0, 420.0, 423.0, 426.0, 429.0, 432.0, 435.0, 438.0, 441.0, 444.0, 447.0, 450.0, 453.0, 456.0, 459.0, 462.0, 465.0, 468.0, 471.0, 474.0, 477.0, 480.0, 483.0, 486.0, 489.0, 492.0, 495.0, 498.0, 501.0, 504.0, 507.0, 510.0, 513.0, 516.0, 519.0, 522.0, 525.0, 528.0, 531.0, 534.0, 537.0, 540.0, 543.0, 546.0, 549.0, 552.0, 555.0, 558.0, 561.0, 564.0, 567.0, 570.0, 573.0, 576.0, 579.0, 582.0, 585.0, 588.0, 591.0, 594.0, 597.0, 600.0, 603.0, 606.0, 609.0, 612.0, 615.0, 618.0, 621.0, 624.0, 627.0, 630.0, 633.0, 636.0, 639.0, 642.0, 645.0, 648.0, 651.0, 654.0, 657.0, 660.0, 663.0, 666.0, 669.0, 672.0, 675.0, 678.0, 681.0, 684.0, 687.0, 690.0, 693.0, 696.0, 699.0, 702.0, 705.0, 708.0, 711.0, 714.0, 717.0, 720.0, 723.0, 726.0, 729.0, 732.0, 735.0, 738.0, 741.0, 744.0, 747.0, 750.0, 753.0, 756.0, 759.0, 762.0, 765.0, 768.0, 771.0, 774.0, 777.0, 780.0, 783.0, 786.0, 789.0, 792.0, 795.0, 798.0, 801.0, 804.0, 807.0, 810.0, 813.0, 816.0, 819.0, 822.0, 825.0, 828.0, 831.0, 834.0, 837.0, 840.0, 843.0, 846.0, 849.0, 852.0, 855.0, 858.0, 861.0, 864.0, 867.0, 870.0, 873.0, 876.0, 879.0, 882.0, 885.0, 888.0, 891.0, 894.0, 897.0, 900.0, 903.0, 906.0, 909.0, 912.0, 915.0, 918.0, 921.0, 924.0, 927.0, 930.0, 933.0, 936.0, 939.0, 942.0, 945.0, 948.0, 951.0, 954.0, 957.0, 960.0, 963.0, 966.0, 969.0, 972.0, 975.0, 978.0, 981.0, 984.0, 987.0, 990.0, 993.0, 996.0, 999.0, 1002.0, 1005.0, 1008.0, 1011.0, 1014.0, 1017.0, 1020.0, 1023.0, 1026.0, 1029.0, 1032.0, 1035.0, 1038.0, 1041.0, 1044.0, 1047.0, 1050.0, 1053.0, 1056.0, 1059.0, 1062.0, 1065.0, 1068.0, 1071.0, 1074.0, 1077.0, 1080.0, 1083.0, 1086.0, 1089.0, 1092.0, 1095.0, 1098.0, 1101.0, 1104.0, 1107.0, 1110.0, 1113.0, 1116.0, 1119.0, 1122.0, 1125.0, 1128.0, 1131.0, 1134.0, 1137.0, 1140.0, 1143.0, 1146.0, 1149.0, 1152.0, 1155.0, 1158.0, 1161.0, 1164.0, 1167.0, 1170.0, 1173.0, 1176.0, 1179.0, 1182.0, 1185.0, 1188.0, 1191.0, 1194.0, 1197.0, 1200.0, 1203.0, 1206.0, 1209.0, 1212.0, 1215.0, 1218.0, 1221.0, 1224.0, 1227.0, 1230.0, 1233.0, 1236.0, 1239.0, 1242.0, 1245.0, 1248.0, 1251.0, 1254.0, 1257.0, 1260.0, 1263.0, 1266.0, 1269.0, 1272.0, 1275.0, 1278.0, 1281.0, 1284.0, 1287.0, 1290.0, 1293.0, 1296.0, 1299.0, 1302.0, 1305.0, 1308.0, 1311.0, 1314.0, 1317.0, 1320.0, 1323.0, 1326.0, 1329.0, 1332.0, 1335.0, 1338.0, 1341.0, 1344.0, 1347.0, 1350.0, 1353.0, 1356.0, 1359.0, 1362.0, 1365.0, 1368.0, 1371.0, 1374.0, 1377.0, 1380.0, 1383.0, 1386.0, 1389.0, 1392.0, 1395.0, 1398.0, 1401.0, 1404.0, 1407.0, 1410.0, 1413.0, 1416.0, 1419.0, 1422.0, 1425.0, 1428.0, 1431.0, 1434.0, 1437.0, 1440.0, 1443.0, 1446.0, 1449.0, 1452.0, 1455.0, 1458.0, 1461.0, 1464.0, 1467.0, 1470.0, 1473.0, 1476.0, 1479.0, 1482.0, 1485.0, 1488.0, 1491.0, 1494.0, 1497.0, 1500.0, 1503.0, 1506.0, 1509.0, 1512.0, 1515.0, 1518.0, 1521.0, 1524.0, 1527.0, 1530.0, 1533.0, 1536.0, 1539.0, 1542.0, 1545.0, 1548.0, 1551.0, 1554.0, 1557.0, 1560.0, 1563.0, 1566.0, 1569.0, 1572.0, 1575.0, 1578.0, 1581.0, 1584.0, 1587.0, 1590.0, 1593.0, 1596.0, 1599.0, 1602.0, 1605.0, 1608.0, 1611.0, 1614.0, 1617.0, 1620.0, 1623.0, 1626.0, 1629.0, 1632.0, 1635.0, 1638.0, 1641.0, 1644.0, 1647.0, 1650.0, 1653.0, 1656.0, 1659.0, 1662.0, 1665.0, 1668.0, 1671.0, 1674.0, 1677.0, 1680.0, 1683.0, 1686.0, 1689.0, 1692.0, 1695.0, 1698.0, 1701.0, 1704.0, 1707.0, 1710.0, 1713.0, 1716.0, 1719.0, 1722.0, 1725.0, 1728.0, 1731.0, 1734.0, 1737.0, 1740.0, 1743.0, 1746.0, 1749.0, 1752.0, 1755.0, 1758.0, 1761.0, 1764.0, 1767.0, 1770.0, 1773.0, 1776.0, 1779.0, 1782.0, 1785.0, 1788.0, 1791.0, 1794.0, 1797.0, 1800.0, 1803.0, 1806.0, 1809.0, 1812.0, 1815.0, 1818.0, 1821.0, 1824.0, 1827.0, 1830.0, 1833.0, 1836.0, 1839.0, 1842.0, 1845.0, 1848.0, 1851.0, 1854.0, 1857.0, 1860.0, 1863.0, 1866.0, 1869.0, 1872.0, 1875.0, 1878.0, 1881.0, 1884.0, 1887.0, 1890.0, 1893.0, 1896.0, 1899.0, 1902.0, 1905.0, 1908.0, 1911.0, 1914.0, 1917.0, 1920.0, 1923.0, 1926.0, 1929.0, 1932.0, 1935.0, 1938.0, 1941.0, 1944.0, 1947.0, 1950.0, 1953.0, 1956.0, 1959.0, 1962.0, 1965.0, 1968.0, 1971.0, 1974.0, 1977.0, 1980.0, 1983.0, 1986.0, 1989.0, 1992.0, 1995.0, 1998.0, 2001.0, 2004.0, 2007.0, 2010.0, 2013.0, 2016.0, 2019.0, 2022.0, 2025.0, 2028.0, 2031.0, 2034.0, 2037.0, 2040.0, 2043.0, 2046.0, 2049.0, 2052.0, 2055.0, 2058.0, 2061.0, 2064.0, 2067.0, 2070.0, 2073.0, 2076.0, 2079.0, 2082.0, 2085.0, 2088.0, 2091.0, 2094.0, 2097.0, 2100.0, 2103.0, 2106.0, 2109.0, 2112.0, 2115.0, 2118.0, 2121.0, 2124.0, 2127.0, 2130.0, 2133.0, 2136.0, 2139.0, 2142.0, 2145.0, 2148.0, 2151.0, 2154.0, 2157.0, 2160.0, 2163.0, 2166.0, 2169.0, 2172.0, 2175.0, 2178.0, 2181.0, 2184.0, 2187.0, 2190.0, 2193.0, 2196.0, 2199.0, 2202.0, 2205.0, 2208.0, 2211.0, 2214.0, 2217.0, 2220.0, 2223.0, 2226.0, 2229.0, 2232.0, 2235.0, 2238.0, 2241.0, 2244.0, 2247.0, 2250.0, 2253.0, 2256.0, 2259.0, 2262.0, 2265.0, 2268.0, 2271.0, 2274.0, 2277.0, 2280.0, 2283.0, 2286.0, 2289.0, 2292.0, 2295.0, 2298.0, 2301.0, 2304.0, 2307.0, 2310.0, 2313.0, 2316.0, 2319.0, 2322.0, 2325.0, 2328.0, 2331.0, 2334.0, 2337.0, 2340.0, 2343.0, 2346.0, 2349.0, 2352.0, 2355.0, 2358.0, 2361.0, 2364.0, 2367.0, 2370.0, 2373.0, 2376.0, 2379.0, 2382.0, 2385.0, 2388.0, 2391.0, 2394.0, 2397.0, 2400.0, 2403.0, 2406.0, 2409.0, 2412.0, 2415.0, 2418.0, 2421.0, 2424.0, 2427.0, 2430.0, 2433.0, 2436.0, 2439.0, 2442.0, 2445.0, 2448.0, 2451.0, 2454.0, 2457.0, 2460.0, 2463.0, 2466.0, 2469.0, 2472.0, 2475.0, 2478.0, 2481.0, 2484.0, 2487.0, 2490.0, 2493.0, 2496.0, 2499.0, 2502.0, 2505.0, 2508.0, 2511.0, 2514.0, 2517.0, 2520.0, 2523.0, 2526.0, 2529.0, 2532.0, 2535.0, 2538.0, 2541.0, 2544.0, 2547.0, 2550.0, 2553.0, 2556.0, 2559.0, 2562.0, 2565.0, 2568.0, 2571.0, 2574.0, 2577.0, 2580.0, 2583.0, 2586.0, 2589.0, 2592.0, 2595.0, 2598.0, 2601.0, 2604.0, 2607.0, 2610.0, 2613.0, 2616.0, 2619.0, 2622.0, 2625.0, 2628.0, 2631.0, 2634.0, 2637.0, 2640.0, 2643.0, 2646.0, 2649.0, 2652.0, 2655.0, 2658.0, 2661.0, 2664.0, 2667.0, 2670.0, 2673.0, 2676.0, 2679.0, 2682.0, 2685.0, 2688.0, 2691.0, 2694.0, 2697.0, 2700.0, 2703.0, 2706.0, 2709.0, 2712.0, 2715.0, 2718.0, 2721.0, 2724.0, 2727.0, 2730.0, 2733.0, 2736.0, 2739.0, 2742.0, 2745.0, 2748.0, 2751.0, 2754.0, 2757.0, 2760.0, 2763.0, 2766.0, 2769.0, 2772.0, 2775.0, 2778.0, 2781.0, 2784.0, 2787.0, 2790.0, 2793.0, 2796.0, 2799.0, 2802.0, 2805.0, 2808.0, 2811.0, 2814.0, 2817.0, 2820.0, 2823.0, 2826.0, 2829.0, 2832.0, 2835.0, 2838.0, 2841.0, 2844.0, 2847.0, 2850.0, 2853.0, 2856.0, 2859.0, 2862.0, 2865.0, 2868.0, 2871.0, 2874.0, 2877.0, 2880.0, 2883.0, 2886.0, 2889.0, 2892.0, 2895.0, 2898.0, 2901.0, 2904.0, 2907.0, 2910.0, 2913.0, 2916.0, 2919.0, 2922.0, 2925.0, 2928.0, 2931.0, 2934.0, 2937.0, 2940.0, 2943.0, 2946.0, 2949.0, 2952.0, 2955.0, 2958.0, 2961.0, 2964.0, 2967.0, 2970.0, 2973.0, 2976.0, 2979.0, 2982.0, 2985.0, 2988.0, 2991.0, 2994.0, 2997.0, 3000.0], \"y\": [0.0, 0.018848439715408175, 0.03769018266993454, 0.05651853448202453, 0.07532680552793272, 0.09410831331851431, 0.11285638487348168, 0.1315643590922825, 0.15022558912075706, 0.16883344471273387, 0.1873813145857246, 0.20586260876988133, 0.22427076094938117, 0.2425992307954074, 0.26084150628989694, 0.2789911060392293, 0.2970415815770349, 0.3149865196553048, 0.3328195445229866, 0.35053432019125896, 0.3681245526846779, 0.38558399227739654, 0.40290643571366264, 0.42008572841180625, 0.4371157666509329, 0.45399049973954675, 0.4707039321653326, 0.4872501257253323, 0.5036232016357608, 0.5198173426207094, 0.5358267949789967, 0.5516458706284302, 0.5672689491267565, 0.5826904796685761, 0.5979049830575188, 0.6129070536529765, 0.6276913612907005, 0.6422526531765844, 0.6565857557529564, 0.67068557653672, 0.6845471059286886, 0.6981654189934727, 0.7115356772092853, 0.7246531301870466, 0.7375131173581739, 0.7501110696304595, 0.7624425110114479, 0.7745030601987337, 0.7862884321366188, 0.797794439538571, 0.8090169943749473, 0.8199521093254523, 0.8305958991958126, 0.840944582298169, 0.8509944817946917, 0.8607420270039435, 0.8701837546695257, 0.8793163101905562, 0.8881364488135445, 0.8966410367852359, 0.9048270524660196, 0.9126915874035028, 0.9202318473658703, 0.9274451533346614, 0.934328942456612, 0.9408807689542255, 0.9470983049947443, 0.9529793415172189, 0.9585217890173758, 0.9637236782900097, 0.9685831611286311, 0.9730985109821265, 0.9772681235681935, 0.9810905174433341, 0.9845643345292053, 0.9876883405951378, 0.9904614256966512, 0.9928826045698137, 0.9949510169813002, 0.9966659280340299, 0.9980267284282716, 0.9990329346781247, 0.9996841892832999, 0.9999802608561371, 0.9999210442038161, 0.9995065603657316, 0.9987369566060175, 0.9976125063612252, 0.9961336091431725, 0.9943007903969989, 0.9921147013144779, 0.9895761186026509, 0.986685944207868, 0.9834452049953297, 0.9798550523842469, 0.9759167619387474, 0.971631732914674, 0.9670014877624351, 0.9620276715860858, 0.9567120515588305, 0.9510565162951536, 0.9450630751798049, 0.9387338576538741, 0.932071112458211, 0.925077206834458, 0.9177546256839811, 0.9101059706849957, 0.9021339593682027, 0.8938414241512638, 0.8852313113324553, 0.8763066800438637, 0.8670707011644901, 0.8575266561936523, 0.8476779360850834, 0.8375280400421418, 0.8270805742745618, 0.816339250717184, 0.805307885711122, 0.7939903986478353, 0.7823908105765882, 0.7705132427757893, 0.7583619152887218, 0.7459411454241822, 0.73325534622256, 0.7203090248879072, 0.7071067811865476, 0.6936533058128049, 0.6799533787224193, 0.6660118674342517, 0.6518337253008787, 0.6374239897486899, 0.6227877804881126, 0.6079302976946053, 0.5928568201610593, 0.5775727034222676, 0.5620833778521308, 0.5463943467342691, 0.530511184306734, 0.5144395337815066, 0.4981851053394909, 0.4817536741017152, 0.46515107807745854, 0.4483832160900323, 0.43145604568095886, 0.4143755809932843, 0.3971478906347806, 0.37977909552180095, 0.3622753667045458, 0.34464292317451706, 0.32688802965494274, 0.3090169943749475, 0.29103616682827177, 0.27295193551732544, 0.2547707256833822, 0.2364989970237246, 0.21814324139654273, 0.19970998051440705, 0.18120576362713722, 0.16263716519488375, 0.14401078255225216, 0.12533323356430454, 0.10661115427526005, 0.08785119655074315, 0.06906002571440606, 0.05024431817976966, 0.03141075907812824, 0.012566039883352836, -0.006283143965558882, -0.02513009544333757, -0.04396811831786471, -0.06279051952931333, -0.08159061156815767, -0.10036171485121473, -0.11909716009486973, -0.1377902906846378, -0.15643446504023076, -0.1750230589752761, -0.19354946805086, -0.21200710992205457, -0.23038942667659065, -0.24868988716485457, -0.2669019893203755, -0.2850192624699762, -0.30303526963277383, -0.3209436098072095, -0.33873792024529153, -0.3564118787132506, -0.37395920573780045, -0.39137366683720215, -0.4086490747363489, -0.4257792915650727, -0.44275823103890133, -0.4595798606214878, -0.4762382036679392, -0.4927273415482914, -0.5090414157503713, -0.5251746299612958, -0.5411212521268757, -0.556875616488188, -0.5724321255945907, -0.587785252292473, -0.6029295416890247, -0.6178596130903341, -0.6325701619131244, -0.6470559615694443, -0.6613118653236517, -0.6753328081210244, -0.6891138083873485, -0.7026499697988491, -0.7159364830218311, -0.7289686274214116, -0.7417417727387391, -0.7542513807361038, -0.7664930068093496, -0.7784623015670236, -0.7901550123756904, -0.8015669848708764, -0.8126941644330942, -0.8235325976284275, -0.8340784336131715, -0.8443279255020147, -0.8542774316992952, -0.8639234171928352, -0.8732624548099204, -0.8822912264349534, -0.8910065241883682, -0.8994052515663709, -0.907484424541117, -0.9152411726209175, -0.922672739870115, -0.9297764858882515, -0.9365498867481923, -0.9429905358928643, -0.9490961449902947, -0.954864544746643, -0.9602936856769432, -0.965381638833274, -0.9701265964901058, -0.9745268727865771, -0.9785809043254722, -0.9822872507286887, -0.9856445951489982, -0.9886517447379141, -0.9913076310695066, -0.9936113105200084, -0.99556196460308, -0.9971589002606139, -0.9984015501089751, -0.9992894726405892, -0.999822352380809, -1.0, -0.999822352380809, -0.9992894726405892, -0.998401550108975, -0.9971589002606139, -0.99556196460308, -0.9936113105200084, -0.9913076310695065, -0.988651744737914, -0.985644595148998, -0.9822872507286887, -0.9785809043254721, -0.9745268727865771, -0.9701265964901057, -0.9653816388332738, -0.9602936856769431, -0.9548645447466431, -0.9490961449902945, -0.9429905358928644, -0.9365498867481922, -0.9297764858882516, -0.9226727398701148, -0.9152411726209176, -0.9074844245411168, -0.899405251566371, -0.8910065241883676, -0.8822912264349535, -0.8732624548099202, -0.8639234171928354, -0.8542774316992949, -0.8443279255020151, -0.8340784336131708, -0.8235325976284277, -0.8126941644330938, -0.8015669848708766, -0.7901550123756901, -0.7784623015670233, -0.7664930068093498, -0.7542513807361041, -0.7417417727387391, -0.7289686274214116, -0.7159364830218309, -0.702649969798849, -0.6891138083873485, -0.6753328081210246, -0.6613118653236516, -0.6470559615694442, -0.632570161913124, -0.6178596130903348, -0.6029295416890247, -0.5877852522924732, -0.5724321255945906, -0.556875616488188, -0.5411212521268752, -0.525174629961296, -0.5090414157503712, -0.4927273415482917, -0.4762382036679387, -0.4595798606214877, -0.4427582310389016, -0.425779291565073, -0.40864907473634887, -0.3913736668372025, -0.37395920573779995, -0.3564118787132505, -0.3387379202452914, -0.32094360980720976, -0.3030352696327737, -0.2850192624699761, -0.26690198932037495, -0.24868988716485535, -0.23038942667659057, -0.2120071099220549, -0.19354946805085993, -0.175023058975276, -0.15643446504023023, -0.13779029068463858, -0.11909716009486966, -0.1003617148512151, -0.08159061156815717, -0.06279051952931326, -0.04396811831786419, -0.025130095443337937, -0.0062831439655588045, 0.012566039883352469, 0.03141075907812876, 0.05024431817976974, 0.06906002571440568, 0.08785119655074278, 0.10661115427526012, 0.12533323356430418, 0.1440107825522527, 0.16263716519488383, 0.1812057636271373, 0.1997099805144067, 0.21814324139654281, 0.23649899702372468, 0.25477072568338277, 0.2729519355173247, 0.2910361668282719, 0.3090169943749472, 0.32688802965494285, 0.3446429231745171, 0.36227536670454635, 0.37977909552180067, 0.39714789063478073, 0.414375580993284, 0.43145604568095935, 0.4483832160900324, 0.46515107807745826, 0.48175367410171493, 0.498185105339491, 0.5144395337815064, 0.5305111843067345, 0.5463943467342692, 0.5620833778521306, 0.5775727034222673, 0.5928568201610595, 0.6079302976946054, 0.622787780488113, 0.63742398974869, 0.6518337253008788, 0.6660118674342514, 0.6799533787224195, 0.693653305812805, 0.7071067811865479, 0.7203090248879065, 0.73325534622256, 0.745941145424182, 0.758361915288722, 0.7705132427757893, 0.7823908105765885, 0.7939903986478349, 0.805307885711122, 0.8163392507171838, 0.827080574274562, 0.8375280400421418, 0.8476779360850831, 0.8575266561936521, 0.8670707011644901, 0.8763066800438635, 0.8852313113324555, 0.8938414241512639, 0.9021339593682027, 0.9101059706849955, 0.9177546256839813, 0.925077206834458, 0.9320711124582112, 0.9387338576538738, 0.9450630751798048, 0.9510565162951534, 0.9567120515588305, 0.9620276715860859, 0.9670014877624352, 0.9716317329146738, 0.9759167619387474, 0.9798550523842469, 0.9834452049953297, 0.986685944207868, 0.989576118602651, 0.9921147013144778, 0.9943007903969989, 0.9961336091431725, 0.9976125063612252, 0.9987369566060175, 0.9995065603657316, 0.9999210442038161, 0.9999802608561371, 0.9996841892832999, 0.9990329346781247, 0.9980267284282716, 0.9966659280340299, 0.9949510169813002, 0.9928826045698136, 0.9904614256966512, 0.9876883405951377, 0.9845643345292054, 0.9810905174433341, 0.9772681235681934, 0.9730985109821267, 0.9685831611286311, 0.9637236782900096, 0.9585217890173761, 0.9529793415172187, 0.9470983049947441, 0.9408807689542257, 0.934328942456612, 0.927445153334661, 0.9202318473658698, 0.9126915874035028, 0.90482705246602, 0.8966410367852361, 0.8881364488135445, 0.8793163101905568, 0.8701837546695259, 0.8607420270039435, 0.8509944817946915, 0.8409445822981693, 0.8305958991958126, 0.8199521093254518, 0.8090169943749466, 0.7977944395385719, 0.7862884321366195, 0.774503060198734, 0.7624425110114477, 0.7501110696304601, 0.7375131173581742, 0.7246531301870465, 0.7115356772092847, 0.6981654189934728, 0.6845471059286884, 0.6706855765367193, 0.6565857557529565, 0.6422526531765854, 0.627691361290701, 0.6129070536529766, 0.5979049830575185, 0.5826904796685767, 0.5672689491267566, 0.5516458706284298, 0.5358267949789957, 0.5198173426207096, 0.5036232016357604, 0.48725012572533133, 0.47070393216533263, 0.4539904997395479, 0.4371157666509335, 0.4200857284118063, 0.40290643571366214, 0.38558399227739715, 0.368124552684678, 0.35053432019125846, 0.3328195445229855, 0.3149865196553048, 0.2970415815770343, 0.2789911060392298, 0.2608415062898969, 0.2425992307954085, 0.22427076094938167, 0.20586260876988122, 0.18738131458572393, 0.16883344471273432, 0.15022558912075692, 0.13156435909228176, 0.11285638487348035, 0.09410831331851414, 0.07532680552793372, 0.05651853448202493, 0.03769018266993434, 0.018848439715409147, 3.6739403974420594e-16, -0.01884843971540841, -0.037690182669935374, -0.056518534482024194, -0.075326805527933, -0.0941083133185152, -0.11285638487348316, -0.13156435909228104, -0.1502255891207562, -0.16883344471273362, -0.18738131458572496, -0.20586260876988052, -0.22427076094938098, -0.2425992307954078, -0.26084150628989783, -0.27899110603922905, -0.29704158157703525, -0.3149865196553057, -0.33281954452298645, -0.35053432019125774, -0.36812455268467725, -0.3855839922773964, -0.4029064357136631, -0.4200857284118056, -0.4371157666509328, -0.4539904997395472, -0.4707039321653335, -0.4872501257253323, -0.5036232016357614, -0.519817342620709, -0.5358267949789967, -0.5516458706284293, -0.5672689491267561, -0.5826904796685761, -0.5979049830575194, -0.612907053652976, -0.6276913612907006, -0.6422526531765849, -0.6565857557529574, -0.6706855765367201, -0.684547105928688, -0.6981654189934724, -0.7115356772092853, -0.7246531301870459, -0.7375131173581736, -0.7501110696304596, -0.7624425110114483, -0.7745030601987335, -0.786288432136619, -0.7977944395385714, -0.8090169943749482, -0.8199521093254514, -0.8305958991958121, -0.8409445822981689, -0.850994481794692, -0.8607420270039432, -0.8701837546695255, -0.8793163101905563, -0.8881364488135449, -0.8966410367852358, -0.9048270524660197, -0.9126915874035032, -0.9202318473658709, -0.9274451533346608, -0.9343289424566117, -0.9408807689542253, -0.9470983049947443, -0.9529793415172185, -0.9585217890173758, -0.9637236782900098, -0.9685831611286314, -0.9730985109821265, -0.9772681235681936, -0.9810905174433343, -0.9845643345292053, -0.9876883405951375, -0.9904614256966511, -0.9928826045698137, -0.9949510169813002, -0.9966659280340299, -0.9980267284282716, -0.9990329346781247, -0.9996841892833, -0.9999802608561371, -0.9999210442038161, -0.9995065603657316, -0.9987369566060175, -0.9976125063612253, -0.9961336091431725, -0.9943007903969989, -0.9921147013144778, -0.989576118602651, -0.986685944207868, -0.9834452049953295, -0.9798550523842466, -0.9759167619387473, -0.9716317329146742, -0.9670014877624352, -0.9620276715860858, -0.9567120515588308, -0.9510565162951538, -0.9450630751798048, -0.9387338576538738, -0.9320711124582112, -0.9250772068344579, -0.9177546256839808, -0.9101059706849951, -0.9021339593682035, -0.8938414241512642, -0.8852313113324554, -0.8763066800438635, -0.8670707011644905, -0.8575266561936524, -0.8476779360850831, -0.8375280400421412, -0.8270805742745619, -0.8163392507171838, -0.8053078857111214, -0.7939903986478355, -0.782390810576589, -0.7705132427757897, -0.758361915288722, -0.7459411454241819, -0.7332553462225606, -0.720309024887907, -0.7071067811865472, -0.6936533058128042, -0.6799533787224192, -0.6660118674342512, -0.6518337253008792, -0.6374239897486897, -0.6227877804881135, -0.6079302976946059, -0.5928568201610592, -0.5775727034222671, -0.5620833778521311, -0.5463943467342691, -0.5305111843067335, -0.5144395337815054, -0.4981851053394908, -0.48175367410171627, -0.46515107807745887, -0.44838321609003223, -0.43145604568096, -0.41437558099328464, -0.39714789063478056, -0.3797790955218005, -0.3622753667045462, -0.344642923174517, -0.32688802965494185, -0.3090169943749462, -0.2910361668282717, -0.27295193551732627, -0.2547707256833826, -0.23649899702372454, -0.21814324139654356, -0.19970998051440744, -0.18120576362713717, -0.16263716519488283, -0.14401078255225255, -0.12533323356430404, -0.10661115427525909, -0.08785119655074175, -0.06906002571440731, -0.05024431817977047, -0.031410759078128604, -0.012566039883352314, 0.00628314396555807, 0.025130095443337202, 0.04396811831786523, 0.0627905195293143, 0.0815906115681573, 0.10036171485121526, 0.1190971600948707, 0.13779029068463786, 0.15643446504022948, 0.17502305897527526, 0.19354946805086007, 0.21200710992205504, 0.23038942667658985, 0.24868988716485463, 0.266901989320376, 0.28501926246997716, 0.30303526963277383, 0.32094360980720993, 0.3387379202452907, 0.35641187871325064, 0.3739592057377993, 0.3913736668372018, 0.408649074736349, 0.42577929156507316, 0.442758231038901, 0.45957986062148787, 0.4762382036679396, 0.4927273415482927, 0.5090414157503713, 0.5251746299612947, 0.5411212521268755, 0.5568756164881881, 0.57243212559459, 0.5877852522924728, 0.6029295416890248, 0.6178596130903349, 0.6325701619131241, 0.6470559615694444, 0.6613118653236525, 0.6753328081210255, 0.6891138083873474, 0.7026499697988485, 0.7159364830218309, 0.7289686274214117, 0.7417417727387385, 0.7542513807361035, 0.76649300680935, 0.778462301567024, 0.7901550123756902, 0.8015669848708767, 0.8126941644330945, 0.8235325976284272, 0.8340784336131704, 0.8443279255020146, 0.854277431699295, 0.8639234171928355, 0.8732624548099197, 0.8822912264349532, 0.891006524188368, 0.8994052515663714, 0.9074844245411169, 0.9152411726209178, 0.9226727398701152, 0.9297764858882513, 0.9365498867481918, 0.9429905358928642, 0.9490961449902945, 0.9548645447466431, 0.9602936856769428, 0.9653816388332739, 0.9701265964901059, 0.9745268727865773, 0.9785809043254721, 0.9822872507286888, 0.9856445951489979, 0.988651744737914, 0.9913076310695064, 0.9936113105200083, 0.99556196460308, 0.9971589002606139, 0.998401550108975, 0.9992894726405892, 0.9998223523808091, 1.0, 0.999822352380809, 0.9992894726405893, 0.998401550108975, 0.9971589002606139, 0.9955619646030801, 0.9936113105200085, 0.9913076310695066, 0.988651744737914, 0.9856445951489982, 0.9822872507286886, 0.978580904325472, 0.9745268727865768, 0.9701265964901062, 0.9653816388332741, 0.9602936856769432, 0.9548645447466428, 0.9490961449902949, 0.9429905358928646, 0.9365498867481923, 0.9297764858882511, 0.922672739870115, 0.9152411726209174, 0.9074844245411166, 0.8994052515663712, 0.8910065241883686, 0.8822912264349537, 0.8732624548099203, 0.8639234171928352, 0.8542774316992956, 0.8443279255020152, 0.834078433613171, 0.8235325976284269, 0.8126941644330941, 0.8015669848708763, 0.7901550123756909, 0.7784623015670236, 0.7664930068093507, 0.7542513807361043, 0.7417417727387393, 0.7289686274214111, 0.7159364830218317, 0.7026499697988493, 0.6891138083873481, 0.6753328081210237, 0.6613118653236519, 0.6470559615694453, 0.632570161913125, 0.6178596130903344, 0.6029295416890257, 0.5877852522924737, 0.5724321255945909, 0.5568756164881875, 0.5411212521268763, 0.5251746299612957, 0.5090414157503708, 0.4927273415482905, 0.4762382036679406, 0.4595798606214888, 0.442758231038902, 0.42577929156507255, 0.40864907473635004, 0.3913736668372028, 0.3739592057378003, 0.35641187871325, 0.33873792024529176, 0.3209436098072093, 0.3030352696327732, 0.2850192624699748, 0.26690198932037706, 0.2486898871648557, 0.23038942667659093, 0.2120071099220544, 0.19354946805086118, 0.17502305897527637, 0.1564344650402306, 0.1377902906846372, 0.11909716009487002, 0.10036171485121458, 0.08159061156815664, 0.06279051952931362, 0.04396811831786633, 0.0251300954433383, 0.006283143965559172, -0.012566039883352989, -0.03141075907812751, -0.05024431817976937, -0.06906002571440621, -0.08785119655074419, -0.10661115427525976, -0.1253332335643047, -0.14401078255225144, -0.1626371651948835, -0.18120576362713608, -0.19970998051440633, -0.21814324139654248, -0.23649899702372518, -0.25477072568338155, -0.27295193551732516, -0.29103616682827066, -0.3090169943749485, -0.32688802965494246, -0.34464292317451595, -0.36227536670454347, -0.3797790955218011, -0.39714789063477957, -0.41437558099328525, -0.431456045680959, -0.44838321609003123, -0.4651510780774595, -0.4817536741017153, -0.49818510533948984, -0.5144395337815075, -0.530511184306734, -0.5463943467342681, -0.5620833778521287, -0.5775727034222676, -0.5928568201610583, -0.6079302976946064, -0.6227877804881126, -0.6374239897486889, -0.6518337253008771, -0.6660118674342518, -0.6799533787224185, -0.6936533058128059, -0.7071067811865477, -0.7203090248879087, -0.7332553462225586, -0.7459411454241823, -0.7583619152887213, -0.7705132427757879, -0.7823908105765883, -0.7939903986478348, -0.8053078857111229, -0.8163392507171842, -0.8270805742745614, -0.8375280400421407, -0.8476779360850835, -0.8575266561936519, -0.8670707011644908, -0.8763066800438638, -0.8852313113324548, -0.8938414241512646, -0.9021339593682015, -0.9101059706849954, -0.9177546256839804, -0.9250772068344583, -0.9320711124582107, -0.9387338576538746, -0.945063075179805, -0.9510565162951544, -0.95671205155883, -0.962027671586085, -0.9670014877624349, -0.9716317329146735, -0.9759167619387475, -0.9798550523842467, -0.9834452049953301, -0.9866859442078681, -0.9895761186026509, -0.9921147013144777, -0.9943007903969989, -0.9961336091431724, -0.9976125063612251, -0.9987369566060176, -0.9995065603657315, -0.9999210442038161, -0.9999802608561371, -0.9996841892832999, -0.9990329346781248, -0.9980267284282716, -0.9966659280340299, -0.9949510169813, -0.9928826045698136, -0.9904614256966513, -0.987688340595138, -0.9845643345292059, -0.9810905174433342, -0.9772681235681938, -0.9730985109821264, -0.9685831611286312, -0.9637236782900092, -0.9585217890173756, -0.9529793415172189, -0.9470983049947448, -0.9408807689542263, -0.9343289424566121, -0.9274451533346618, -0.9202318473658699, -0.9126915874035029, -0.9048270524660186, -0.896641036785237, -0.8881364488135446, -0.8793163101905569, -0.8701837546695252, -0.8607420270039438, -0.8509944817946906, -0.8409445822981685, -0.8305958991958127, -0.819952109325453, -0.8090169943749489, -0.797794439538571, -0.7862884321366197, -0.774503060198733, -0.7624425110114479, -0.750111069630458, -0.737513117358173, -0.7246531301870467, -0.7115356772092862, -0.6981654189934744, -0.6845471059286887, -0.670685576536721, -0.6565857557529555, -0.6422526531765844, -0.6276913612906987, -0.6129070536529784, -0.5979049830575188, -0.582690479668577, -0.5672689491267555, -0.5516458706284302, -0.5358267949789975, -0.5198173426207084, -0.5036232016357608, -0.48725012572533327, -0.4707039321653345, -0.45399049973954664, -0.43711576665093377, -0.42008572841180497, -0.40290643571366247, -0.38558399227739415, -0.36812455268467664, -0.3505343201912621, -0.3328195445229875, -0.3149865196553068, -0.29704158157703464, -0.2789911060392301, -0.2608415062898955, -0.24259923079540713, -0.22427076094937856, -0.2058626087698833, -0.1873813145857243, -0.16883344471273468, -0.15022558912075903, -0.13156435909228212, -0.11285638487348248, -0.09410831331851274, -0.07532680552793232, -0.0565185344820253, -0.03769018266993648, -0.018848439715407738, -7.347880794884119e-16]}],\n",
       "                        {\"legend\": {\"bgcolor\": \"#FFFFFF\", \"font\": {\"color\": \"#4D5663\"}}, \"paper_bgcolor\": \"#FFFFFF\", \"plot_bgcolor\": \"#FFFFFF\", \"template\": {\"data\": {\"bar\": [{\"error_x\": {\"color\": \"#2a3f5f\"}, \"error_y\": {\"color\": \"#2a3f5f\"}, \"marker\": {\"line\": {\"color\": \"#E5ECF6\", \"width\": 0.5}}, \"type\": \"bar\"}], \"barpolar\": [{\"marker\": {\"line\": {\"color\": \"#E5ECF6\", \"width\": 0.5}}, \"type\": \"barpolar\"}], \"carpet\": [{\"aaxis\": {\"endlinecolor\": \"#2a3f5f\", \"gridcolor\": \"white\", \"linecolor\": \"white\", \"minorgridcolor\": \"white\", \"startlinecolor\": \"#2a3f5f\"}, \"baxis\": {\"endlinecolor\": \"#2a3f5f\", \"gridcolor\": \"white\", \"linecolor\": \"white\", \"minorgridcolor\": \"white\", \"startlinecolor\": \"#2a3f5f\"}, \"type\": \"carpet\"}], \"choropleth\": [{\"colorbar\": {\"outlinewidth\": 0, \"ticks\": \"\"}, \"type\": \"choropleth\"}], \"contour\": [{\"colorbar\": {\"outlinewidth\": 0, \"ticks\": \"\"}, \"colorscale\": [[0.0, \"#0d0887\"], [0.1111111111111111, \"#46039f\"], [0.2222222222222222, \"#7201a8\"], [0.3333333333333333, \"#9c179e\"], [0.4444444444444444, \"#bd3786\"], [0.5555555555555556, \"#d8576b\"], [0.6666666666666666, \"#ed7953\"], [0.7777777777777778, \"#fb9f3a\"], [0.8888888888888888, \"#fdca26\"], [1.0, \"#f0f921\"]], \"type\": \"contour\"}], \"contourcarpet\": [{\"colorbar\": {\"outlinewidth\": 0, \"ticks\": \"\"}, \"type\": \"contourcarpet\"}], \"heatmap\": [{\"colorbar\": {\"outlinewidth\": 0, \"ticks\": \"\"}, \"colorscale\": [[0.0, \"#0d0887\"], [0.1111111111111111, \"#46039f\"], [0.2222222222222222, \"#7201a8\"], [0.3333333333333333, \"#9c179e\"], [0.4444444444444444, \"#bd3786\"], [0.5555555555555556, \"#d8576b\"], [0.6666666666666666, \"#ed7953\"], [0.7777777777777778, \"#fb9f3a\"], [0.8888888888888888, \"#fdca26\"], [1.0, \"#f0f921\"]], \"type\": \"heatmap\"}], \"heatmapgl\": [{\"colorbar\": {\"outlinewidth\": 0, \"ticks\": \"\"}, \"colorscale\": [[0.0, \"#0d0887\"], [0.1111111111111111, \"#46039f\"], [0.2222222222222222, \"#7201a8\"], [0.3333333333333333, \"#9c179e\"], [0.4444444444444444, \"#bd3786\"], [0.5555555555555556, \"#d8576b\"], [0.6666666666666666, \"#ed7953\"], [0.7777777777777778, \"#fb9f3a\"], [0.8888888888888888, \"#fdca26\"], [1.0, \"#f0f921\"]], \"type\": \"heatmapgl\"}], \"histogram\": [{\"marker\": {\"colorbar\": {\"outlinewidth\": 0, \"ticks\": \"\"}}, \"type\": \"histogram\"}], \"histogram2d\": [{\"colorbar\": {\"outlinewidth\": 0, \"ticks\": \"\"}, \"colorscale\": [[0.0, \"#0d0887\"], [0.1111111111111111, \"#46039f\"], [0.2222222222222222, \"#7201a8\"], [0.3333333333333333, \"#9c179e\"], [0.4444444444444444, \"#bd3786\"], [0.5555555555555556, \"#d8576b\"], [0.6666666666666666, \"#ed7953\"], [0.7777777777777778, \"#fb9f3a\"], [0.8888888888888888, \"#fdca26\"], [1.0, \"#f0f921\"]], \"type\": \"histogram2d\"}], \"histogram2dcontour\": [{\"colorbar\": {\"outlinewidth\": 0, \"ticks\": \"\"}, \"colorscale\": [[0.0, \"#0d0887\"], [0.1111111111111111, \"#46039f\"], [0.2222222222222222, \"#7201a8\"], [0.3333333333333333, \"#9c179e\"], [0.4444444444444444, \"#bd3786\"], [0.5555555555555556, \"#d8576b\"], [0.6666666666666666, \"#ed7953\"], [0.7777777777777778, \"#fb9f3a\"], [0.8888888888888888, \"#fdca26\"], [1.0, \"#f0f921\"]], \"type\": \"histogram2dcontour\"}], \"mesh3d\": [{\"colorbar\": {\"outlinewidth\": 0, \"ticks\": \"\"}, \"type\": \"mesh3d\"}], \"parcoords\": [{\"line\": {\"colorbar\": {\"outlinewidth\": 0, \"ticks\": \"\"}}, \"type\": \"parcoords\"}], \"scatter\": [{\"marker\": {\"colorbar\": {\"outlinewidth\": 0, \"ticks\": \"\"}}, \"type\": \"scatter\"}], \"scatter3d\": [{\"line\": {\"colorbar\": {\"outlinewidth\": 0, \"ticks\": \"\"}}, \"marker\": {\"colorbar\": {\"outlinewidth\": 0, \"ticks\": \"\"}}, \"type\": \"scatter3d\"}], \"scattercarpet\": [{\"marker\": {\"colorbar\": {\"outlinewidth\": 0, \"ticks\": \"\"}}, \"type\": \"scattercarpet\"}], \"scattergeo\": [{\"marker\": {\"colorbar\": {\"outlinewidth\": 0, \"ticks\": \"\"}}, \"type\": \"scattergeo\"}], \"scattergl\": [{\"marker\": {\"colorbar\": {\"outlinewidth\": 0, \"ticks\": \"\"}}, \"type\": \"scattergl\"}], \"scattermapbox\": [{\"marker\": {\"colorbar\": {\"outlinewidth\": 0, \"ticks\": \"\"}}, \"type\": \"scattermapbox\"}], \"scatterpolar\": [{\"marker\": {\"colorbar\": {\"outlinewidth\": 0, \"ticks\": \"\"}}, \"type\": \"scatterpolar\"}], \"scatterpolargl\": [{\"marker\": {\"colorbar\": {\"outlinewidth\": 0, \"ticks\": \"\"}}, \"type\": \"scatterpolargl\"}], \"scatterternary\": [{\"marker\": {\"colorbar\": {\"outlinewidth\": 0, \"ticks\": \"\"}}, \"type\": \"scatterternary\"}], \"surface\": [{\"colorbar\": {\"outlinewidth\": 0, \"ticks\": \"\"}, \"colorscale\": [[0.0, \"#0d0887\"], [0.1111111111111111, \"#46039f\"], [0.2222222222222222, \"#7201a8\"], [0.3333333333333333, \"#9c179e\"], [0.4444444444444444, \"#bd3786\"], [0.5555555555555556, \"#d8576b\"], [0.6666666666666666, \"#ed7953\"], [0.7777777777777778, \"#fb9f3a\"], [0.8888888888888888, \"#fdca26\"], [1.0, \"#f0f921\"]], \"type\": \"surface\"}], \"table\": [{\"cells\": {\"fill\": {\"color\": \"#EBF0F8\"}, \"line\": {\"color\": \"white\"}}, \"header\": {\"fill\": {\"color\": \"#C8D4E3\"}, \"line\": {\"color\": \"white\"}}, \"type\": \"table\"}]}, \"layout\": {\"annotationdefaults\": {\"arrowcolor\": \"#2a3f5f\", \"arrowhead\": 0, \"arrowwidth\": 1}, \"colorscale\": {\"diverging\": [[0, \"#8e0152\"], [0.1, \"#c51b7d\"], [0.2, \"#de77ae\"], [0.3, \"#f1b6da\"], [0.4, \"#fde0ef\"], [0.5, \"#f7f7f7\"], [0.6, \"#e6f5d0\"], [0.7, \"#b8e186\"], [0.8, \"#7fbc41\"], [0.9, \"#4d9221\"], [1, \"#276419\"]], \"sequential\": [[0.0, \"#0d0887\"], [0.1111111111111111, \"#46039f\"], [0.2222222222222222, \"#7201a8\"], [0.3333333333333333, \"#9c179e\"], [0.4444444444444444, \"#bd3786\"], [0.5555555555555556, \"#d8576b\"], [0.6666666666666666, \"#ed7953\"], [0.7777777777777778, \"#fb9f3a\"], [0.8888888888888888, \"#fdca26\"], [1.0, \"#f0f921\"]], \"sequentialminus\": [[0.0, \"#0d0887\"], [0.1111111111111111, \"#46039f\"], [0.2222222222222222, \"#7201a8\"], [0.3333333333333333, \"#9c179e\"], [0.4444444444444444, \"#bd3786\"], [0.5555555555555556, \"#d8576b\"], [0.6666666666666666, \"#ed7953\"], [0.7777777777777778, \"#fb9f3a\"], [0.8888888888888888, \"#fdca26\"], [1.0, \"#f0f921\"]]}, \"colorway\": [\"#636efa\", \"#EF553B\", \"#00cc96\", \"#ab63fa\", \"#FFA15A\", \"#19d3f3\", \"#FF6692\", \"#B6E880\", \"#FF97FF\", \"#FECB52\"], \"font\": {\"color\": \"#2a3f5f\"}, \"geo\": {\"bgcolor\": \"white\", \"lakecolor\": \"white\", \"landcolor\": \"#E5ECF6\", \"showlakes\": true, \"showland\": true, \"subunitcolor\": \"white\"}, \"hoverlabel\": {\"align\": \"left\"}, \"hovermode\": \"closest\", \"mapbox\": {\"style\": \"light\"}, \"paper_bgcolor\": \"white\", \"plot_bgcolor\": \"#E5ECF6\", \"polar\": {\"angularaxis\": {\"gridcolor\": \"white\", \"linecolor\": \"white\", \"ticks\": \"\"}, \"bgcolor\": \"#E5ECF6\", \"radialaxis\": {\"gridcolor\": \"white\", \"linecolor\": \"white\", \"ticks\": \"\"}}, \"scene\": {\"xaxis\": {\"backgroundcolor\": \"#E5ECF6\", \"gridcolor\": \"white\", \"gridwidth\": 2, \"linecolor\": \"white\", \"showbackground\": true, \"ticks\": \"\", \"zerolinecolor\": \"white\"}, \"yaxis\": {\"backgroundcolor\": \"#E5ECF6\", \"gridcolor\": \"white\", \"gridwidth\": 2, \"linecolor\": \"white\", \"showbackground\": true, \"ticks\": \"\", \"zerolinecolor\": \"white\"}, \"zaxis\": {\"backgroundcolor\": \"#E5ECF6\", \"gridcolor\": \"white\", \"gridwidth\": 2, \"linecolor\": \"white\", \"showbackground\": true, \"ticks\": \"\", \"zerolinecolor\": \"white\"}}, \"shapedefaults\": {\"line\": {\"color\": \"#2a3f5f\"}}, \"ternary\": {\"aaxis\": {\"gridcolor\": \"white\", \"linecolor\": \"white\", \"ticks\": \"\"}, \"baxis\": {\"gridcolor\": \"white\", \"linecolor\": \"white\", \"ticks\": \"\"}, \"bgcolor\": \"#E5ECF6\", \"caxis\": {\"gridcolor\": \"white\", \"linecolor\": \"white\", \"ticks\": \"\"}}, \"title\": {\"x\": 0.05}, \"xaxis\": {\"automargin\": true, \"gridcolor\": \"white\", \"linecolor\": \"white\", \"ticks\": \"\", \"zerolinecolor\": \"white\", \"zerolinewidth\": 2}, \"yaxis\": {\"automargin\": true, \"gridcolor\": \"white\", \"linecolor\": \"white\", \"ticks\": \"\", \"zerolinecolor\": \"white\", \"zerolinewidth\": 2}}}, \"title\": {\"font\": {\"color\": \"#4D5663\"}, \"text\": \"Input\"}, \"xaxis\": {\"gridcolor\": \"#E1E5ED\", \"showgrid\": true, \"tickfont\": {\"color\": \"#4D5663\"}, \"title\": {\"font\": {\"color\": \"#4D5663\"}, \"text\": \"T\"}, \"zerolinecolor\": \"#E1E5ED\"}, \"yaxis\": {\"gridcolor\": \"#E1E5ED\", \"showgrid\": true, \"tickfont\": {\"color\": \"#4D5663\"}, \"title\": {\"font\": {\"color\": \"#4D5663\"}, \"text\": \"S\"}, \"zerolinecolor\": \"#E1E5ED\"}},\n",
       "                        {\"showLink\": true, \"linkText\": \"Export to plot.ly\", \"plotlyServerURL\": \"https://plot.ly\", \"responsive\": true}\n",
       "                    ).then(function(){\n",
       "                            \n",
       "var gd = document.getElementById('1b2f57e0-a841-4bf6-b887-322008dab3d1');\n",
       "var x = new MutationObserver(function (mutations, observer) {{\n",
       "        var display = window.getComputedStyle(gd).display;\n",
       "        if (!display || display === 'none') {{\n",
       "            console.log([gd, 'removed!']);\n",
       "            Plotly.purge(gd);\n",
       "            observer.disconnect();\n",
       "        }}\n",
       "}});\n",
       "\n",
       "// Listen for the removal of the full notebook cells\n",
       "var notebookContainer = gd.closest('#notebook-container');\n",
       "if (notebookContainer) {{\n",
       "    x.observe(notebookContainer, {childList: true});\n",
       "}}\n",
       "\n",
       "// Listen for the clearing of the current output cell\n",
       "var outputEl = gd.closest('.output');\n",
       "if (outputEl) {{\n",
       "    x.observe(outputEl, {childList: true});\n",
       "}}\n",
       "\n",
       "                        })\n",
       "                };\n",
       "                });\n",
       "            </script>\n",
       "        </div>"
      ]
     },
     "metadata": {},
     "output_type": "display_data"
    },
    {
     "data": {
      "application/vnd.plotly.v1+json": {
       "config": {
        "linkText": "Export to plot.ly",
        "plotlyServerURL": "https://plot.ly",
        "showLink": true
       },
       "data": [
        {
         "line": {
          "color": "rgba(255, 153, 51, 1.0)",
          "dash": "solid",
          "shape": "linear",
          "width": 1.3
         },
         "mode": "lines",
         "name": "0",
         "text": "",
         "type": "scatter",
         "x": [
          0,
          3,
          6,
          9,
          12,
          15,
          18,
          21,
          24,
          27,
          30,
          33,
          36,
          39,
          42,
          45,
          48,
          51,
          54,
          57,
          60,
          63,
          66,
          69,
          72,
          75,
          78,
          81,
          84,
          87,
          90,
          93,
          96,
          99,
          102,
          105,
          108,
          111,
          114,
          117,
          120,
          123,
          126,
          129,
          132,
          135,
          138,
          141,
          144,
          147,
          150,
          153,
          156,
          159,
          162,
          165,
          168,
          171,
          174,
          177,
          180,
          183,
          186,
          189,
          192,
          195,
          198,
          201,
          204,
          207,
          210,
          213,
          216,
          219,
          222,
          225,
          228,
          231,
          234,
          237,
          240,
          243,
          246,
          249,
          252,
          255,
          258,
          261,
          264,
          267,
          270,
          273,
          276,
          279,
          282,
          285,
          288,
          291,
          294,
          297,
          300,
          303,
          306,
          309,
          312,
          315,
          318,
          321,
          324,
          327,
          330,
          333,
          336,
          339,
          342,
          345,
          348,
          351,
          354,
          357,
          360,
          363,
          366,
          369,
          372,
          375,
          378,
          381,
          384,
          387,
          390,
          393,
          396,
          399,
          402,
          405,
          408,
          411,
          414,
          417,
          420,
          423,
          426,
          429,
          432,
          435,
          438,
          441,
          444,
          447,
          450,
          453,
          456,
          459,
          462,
          465,
          468,
          471,
          474,
          477,
          480,
          483,
          486,
          489,
          492,
          495,
          498,
          501,
          504,
          507,
          510,
          513,
          516,
          519,
          522,
          525,
          528,
          531,
          534,
          537,
          540,
          543,
          546,
          549,
          552,
          555,
          558,
          561,
          564,
          567,
          570,
          573,
          576,
          579,
          582,
          585,
          588,
          591,
          594,
          597,
          600,
          603,
          606,
          609,
          612,
          615,
          618,
          621,
          624,
          627,
          630,
          633,
          636,
          639,
          642,
          645,
          648,
          651,
          654,
          657,
          660,
          663,
          666,
          669,
          672,
          675,
          678,
          681,
          684,
          687,
          690,
          693,
          696,
          699,
          702,
          705,
          708,
          711,
          714,
          717,
          720,
          723,
          726,
          729,
          732,
          735,
          738,
          741,
          744,
          747,
          750,
          753,
          756,
          759,
          762,
          765,
          768,
          771,
          774,
          777,
          780,
          783,
          786,
          789,
          792,
          795,
          798,
          801,
          804,
          807,
          810,
          813,
          816,
          819,
          822,
          825,
          828,
          831,
          834,
          837,
          840,
          843,
          846,
          849,
          852,
          855,
          858,
          861,
          864,
          867,
          870,
          873,
          876,
          879,
          882,
          885,
          888,
          891,
          894,
          897,
          900,
          903,
          906,
          909,
          912,
          915,
          918,
          921,
          924,
          927,
          930,
          933,
          936,
          939,
          942,
          945,
          948,
          951,
          954,
          957,
          960,
          963,
          966,
          969,
          972,
          975,
          978,
          981,
          984,
          987,
          990,
          993,
          996,
          999,
          1002,
          1005,
          1008,
          1011,
          1014,
          1017,
          1020,
          1023,
          1026,
          1029,
          1032,
          1035,
          1038,
          1041,
          1044,
          1047,
          1050,
          1053,
          1056,
          1059,
          1062,
          1065,
          1068,
          1071,
          1074,
          1077,
          1080,
          1083,
          1086,
          1089,
          1092,
          1095,
          1098,
          1101,
          1104,
          1107,
          1110,
          1113,
          1116,
          1119,
          1122,
          1125,
          1128,
          1131,
          1134,
          1137,
          1140,
          1143,
          1146,
          1149,
          1152,
          1155,
          1158,
          1161,
          1164,
          1167,
          1170,
          1173,
          1176,
          1179,
          1182,
          1185,
          1188,
          1191,
          1194,
          1197,
          1200,
          1203,
          1206,
          1209,
          1212,
          1215,
          1218,
          1221,
          1224,
          1227,
          1230,
          1233,
          1236,
          1239,
          1242,
          1245,
          1248,
          1251,
          1254,
          1257,
          1260,
          1263,
          1266,
          1269,
          1272,
          1275,
          1278,
          1281,
          1284,
          1287,
          1290,
          1293,
          1296,
          1299,
          1302,
          1305,
          1308,
          1311,
          1314,
          1317,
          1320,
          1323,
          1326,
          1329,
          1332,
          1335,
          1338,
          1341,
          1344,
          1347,
          1350,
          1353,
          1356,
          1359,
          1362,
          1365,
          1368,
          1371,
          1374,
          1377,
          1380,
          1383,
          1386,
          1389,
          1392,
          1395,
          1398,
          1401,
          1404,
          1407,
          1410,
          1413,
          1416,
          1419,
          1422,
          1425,
          1428,
          1431,
          1434,
          1437,
          1440,
          1443,
          1446,
          1449,
          1452,
          1455,
          1458,
          1461,
          1464,
          1467,
          1470,
          1473,
          1476,
          1479,
          1482,
          1485,
          1488,
          1491,
          1494,
          1497,
          1500,
          1503,
          1506,
          1509,
          1512,
          1515,
          1518,
          1521,
          1524,
          1527,
          1530,
          1533,
          1536,
          1539,
          1542,
          1545,
          1548,
          1551,
          1554,
          1557,
          1560,
          1563,
          1566,
          1569,
          1572,
          1575,
          1578,
          1581,
          1584,
          1587,
          1590,
          1593,
          1596,
          1599,
          1602,
          1605,
          1608,
          1611,
          1614,
          1617,
          1620,
          1623,
          1626,
          1629,
          1632,
          1635,
          1638,
          1641,
          1644,
          1647,
          1650,
          1653,
          1656,
          1659,
          1662,
          1665,
          1668,
          1671,
          1674,
          1677,
          1680,
          1683,
          1686,
          1689,
          1692,
          1695,
          1698,
          1701,
          1704,
          1707,
          1710,
          1713,
          1716,
          1719,
          1722,
          1725,
          1728,
          1731,
          1734,
          1737,
          1740,
          1743,
          1746,
          1749,
          1752,
          1755,
          1758,
          1761,
          1764,
          1767,
          1770,
          1773,
          1776,
          1779,
          1782,
          1785,
          1788,
          1791,
          1794,
          1797,
          1800,
          1803,
          1806,
          1809,
          1812,
          1815,
          1818,
          1821,
          1824,
          1827,
          1830,
          1833,
          1836,
          1839,
          1842,
          1845,
          1848,
          1851,
          1854,
          1857,
          1860,
          1863,
          1866,
          1869,
          1872,
          1875,
          1878,
          1881,
          1884,
          1887,
          1890,
          1893,
          1896,
          1899,
          1902,
          1905,
          1908,
          1911,
          1914,
          1917,
          1920,
          1923,
          1926,
          1929,
          1932,
          1935,
          1938,
          1941,
          1944,
          1947,
          1950,
          1953,
          1956,
          1959,
          1962,
          1965,
          1968,
          1971,
          1974,
          1977,
          1980,
          1983,
          1986,
          1989,
          1992,
          1995,
          1998,
          2001,
          2004,
          2007,
          2010,
          2013,
          2016,
          2019,
          2022,
          2025,
          2028,
          2031,
          2034,
          2037,
          2040,
          2043,
          2046,
          2049,
          2052,
          2055,
          2058,
          2061,
          2064,
          2067,
          2070,
          2073,
          2076,
          2079,
          2082,
          2085,
          2088,
          2091,
          2094,
          2097,
          2100,
          2103,
          2106,
          2109,
          2112,
          2115,
          2118,
          2121,
          2124,
          2127,
          2130,
          2133,
          2136,
          2139,
          2142,
          2145,
          2148,
          2151,
          2154,
          2157,
          2160,
          2163,
          2166,
          2169,
          2172,
          2175,
          2178,
          2181,
          2184,
          2187,
          2190,
          2193,
          2196,
          2199,
          2202,
          2205,
          2208,
          2211,
          2214,
          2217,
          2220,
          2223,
          2226,
          2229,
          2232,
          2235,
          2238,
          2241,
          2244,
          2247,
          2250,
          2253,
          2256,
          2259,
          2262,
          2265,
          2268,
          2271,
          2274,
          2277,
          2280,
          2283,
          2286,
          2289,
          2292,
          2295,
          2298,
          2301,
          2304,
          2307,
          2310,
          2313,
          2316,
          2319,
          2322,
          2325,
          2328,
          2331,
          2334,
          2337,
          2340,
          2343,
          2346,
          2349,
          2352,
          2355,
          2358,
          2361,
          2364,
          2367,
          2370,
          2373,
          2376,
          2379,
          2382,
          2385,
          2388,
          2391,
          2394,
          2397,
          2400,
          2403,
          2406,
          2409,
          2412,
          2415,
          2418,
          2421,
          2424,
          2427,
          2430,
          2433,
          2436,
          2439,
          2442,
          2445,
          2448,
          2451,
          2454,
          2457,
          2460,
          2463,
          2466,
          2469,
          2472,
          2475,
          2478,
          2481,
          2484,
          2487,
          2490,
          2493,
          2496,
          2499,
          2502,
          2505,
          2508,
          2511,
          2514,
          2517,
          2520,
          2523,
          2526,
          2529,
          2532,
          2535,
          2538,
          2541,
          2544,
          2547,
          2550,
          2553,
          2556,
          2559,
          2562,
          2565,
          2568,
          2571,
          2574,
          2577,
          2580,
          2583,
          2586,
          2589,
          2592,
          2595,
          2598,
          2601,
          2604,
          2607,
          2610,
          2613,
          2616,
          2619,
          2622,
          2625,
          2628,
          2631,
          2634,
          2637,
          2640,
          2643,
          2646,
          2649,
          2652,
          2655,
          2658,
          2661,
          2664,
          2667,
          2670,
          2673,
          2676,
          2679,
          2682,
          2685,
          2688,
          2691,
          2694,
          2697,
          2700,
          2703,
          2706,
          2709,
          2712,
          2715,
          2718,
          2721,
          2724,
          2727,
          2730,
          2733,
          2736,
          2739,
          2742,
          2745,
          2748,
          2751,
          2754,
          2757,
          2760,
          2763,
          2766,
          2769,
          2772,
          2775,
          2778,
          2781,
          2784,
          2787,
          2790,
          2793,
          2796,
          2799,
          2802,
          2805,
          2808,
          2811,
          2814,
          2817,
          2820,
          2823,
          2826,
          2829,
          2832,
          2835,
          2838,
          2841,
          2844,
          2847,
          2850,
          2853,
          2856,
          2859,
          2862,
          2865,
          2868,
          2871,
          2874,
          2877,
          2880,
          2883,
          2886,
          2889,
          2892,
          2895,
          2898,
          2901,
          2904,
          2907,
          2910,
          2913,
          2916,
          2919,
          2922,
          2925,
          2928,
          2931,
          2934,
          2937,
          2940,
          2943,
          2946,
          2949,
          2952,
          2955,
          2958,
          2961,
          2964,
          2967,
          2970,
          2973,
          2976,
          2979,
          2982,
          2985,
          2988,
          2991,
          2994,
          2997,
          3000
         ],
         "y": [
          0,
          1.884843908898981e-10,
          3.7690180914695346e-10,
          5.6518531033135e-10,
          7.532679982116512e-10,
          9.410830479044316e-10,
          1.1285637296168385e-09,
          1.315643432355372e-09,
          1.5022556875924509e-09,
          1.688334192882366e-09,
          1.8738128354182226e-09,
          2.0586257155215076e-09,
          2.242707170055927e-09,
          2.4259917957572123e-09,
          2.6084144724705825e-09,
          2.7899103862876294e-09,
          2.970415052574387e-09,
          3.149864338882419e-09,
          3.32819448773477e-09,
          3.5053421392786913e-09,
          3.6812443537971008e-09,
          3.8558386340707585e-09,
          4.029062947583236e-09,
          4.200855748560769e-09,
          4.371155999839182e-09,
          4.539903194550102e-09,
          4.707037377618758e-09,
          4.8724991670657345e-09,
          5.036229775105108e-09,
          5.198171029031462e-09,
          5.358265391888385e-09,
          5.516455982911056e-09,
          5.672686597735732e-09,
          5.826901728368876e-09,
          5.979046582908885e-09,
          6.129067105013401e-09,
          6.2769099931052585e-09,
          6.422522719310291e-09,
          6.56585354812023e-09,
          6.706851554774085e-09,
          6.845466643351473e-09,
          6.981649564571455e-09,
          7.11535193329057e-09,
          7.246526245693853e-09,
          7.375125896172712e-09,
          7.50110519388367e-09,
          7.624419378982122e-09,
          7.745024638525269e-09,
          7.862878122038679e-09,
          7.977937956740833e-09,
          8.090163262420329e-09,
          8.199514165960434e-09,
          8.30595181550581e-09,
          8.409438394266388e-09,
          8.509937133953499e-09,
          8.607412327843467e-09,
          8.701829343464044e-09,
          8.793154634899158e-09,
          8.881355754707618e-09,
          8.966401365451537e-09,
          9.048261250830374e-09,
          9.126906326416636e-09,
          9.202308649989447e-09,
          9.27444143146228e-09,
          9.343279042401345e-09,
          9.408797025131257e-09,
          9.470972101424723e-09,
          9.529782180773184e-09,
          9.585206368235488e-09,
          9.637224971861732e-09,
          9.685819509689746e-09,
          9.730972716311624e-09,
          9.772668549008059e-09,
          9.81089219344823e-09,
          9.845630068953277e-09,
          9.876869833321444e-09,
          9.904600387213197e-09,
          9.928811878094787e-09,
          9.949495703738785e-09,
          9.96664451528043e-09,
          9.980252219828641e-09,
          9.990313982630782e-09,
          9.996826228790442e-09,
          9.99978664453757e-09,
          9.999194178050547e-09,
          9.995049039829897e-09,
          9.987352702623486e-09,
          9.976107900903285e-09,
          9.961318629893799e-09,
          9.942990144152594e-09,
          9.921128955703384e-09,
          9.895742831722329e-09,
          9.866840791778403e-09,
          9.834433104628777e-09,
          9.79853128457038e-09,
          9.75914808734893e-09,
          9.716297505626874e-09,
          9.66999476401186e-09,
          9.620256313647502e-09,
          9.567099826368388e-09,
          9.510544188421333e-09,
          9.450609493755201e-09,
          9.387317036881624e-09,
          9.320689305309158e-09,
          9.25074997155357e-09,
          9.177523884727122e-09,
          9.101037061709786e-09,
          9.021316677905583e-09,
          8.938391057587281e-09,
          8.852289663832916e-09,
          8.76304308805771e-09,
          8.670683039145075e-09,
          8.57524233218061e-09,
          8.476754876793046e-09,
          8.375255665106322e-09,
          8.27078075930705e-09,
          8.163367278831794e-09,
          8.053053387178704e-09,
          7.939878278348208e-09,
          7.823882162917584e-09,
          7.70510625375431e-09,
          7.583592751373347e-09,
          7.459384828943494e-09,
          7.332526616948155e-09,
          7.20306318750601e-09,
          7.071040538357073e-09,
          6.936505576519953e-09,
          6.7995061016259875e-09,
          6.660090788936263e-09,
          6.518309172047537e-09,
          6.3742116252931865e-09,
          6.227849345845428e-09,
          6.07927433552523e-09,
          5.928539382326308e-09,
          5.775698041659784e-09,
          5.62080461732623e-09,
          5.463914142221764e-09,
          5.305082358785143e-09,
          5.144365699192726e-09,
          4.98182126530839e-09,
          4.817506808395523e-09,
          4.651480708598268e-09,
          4.483801954199322e-09,
          4.3145301206617045e-09,
          4.143725349461869e-09,
          3.971448326721708e-09,
          3.797760261647087e-09,
          3.6227228647804955e-09,
          3.4463983260755717e-09,
          3.2688492928013347e-09,
          3.0901388472838787e-09,
          2.9103304844935498e-09,
          2.7294880894854732e-09,
          2.547675914701484e-09,
          2.364958557141568e-09,
          2.18140093541284e-09,
          1.9970682666642614e-09,
          1.8120260434153201e-09,
          1.6263400102868415e-09,
          1.4400761406422218e-09,
          1.2533006131474372e-09,
          1.0660797882580439e-09,
          8.784801846416563e-10,
          6.90568455544166e-10,
          5.02411365108149e-10,
          3.140757646519097e-10,
          1.256285689175126e-10,
          -6.286326770371997e-11,
          -2.5133277495975793e-10,
          -4.3971299053208833e-10,
          -6.279369838271215e-10,
          -8.159378797562859e-10,
          -1.0036488824964416e-09,
          -1.1910032992221317e-09,
          -1.3779345638011952e-09,
          -1.5643762604454297e-09,
          -1.7502621473077783e-09,
          -1.9355261800177507e-09,
          -2.1201025351466914e-09,
          -2.303925633594499e-09,
          -2.486930163889587e-09,
          -2.6690511053937473e-09,
          -2.8502237514036486e-09,
          -3.0303837321408356e-09,
          -3.209467037622012e-09,
          -3.3874100404014624e-09,
          -3.564149518177592e-09,
          -3.73962267625552e-09,
          -3.91376716985771e-09,
          -4.086521126274803e-09,
          -4.257823166848668e-09,
          -4.4276124287799574e-09,
          -4.595828586752388e-09,
          -4.762411874366009e-09,
          -4.927303105371935e-09,
          -5.090443694700943e-09,
          -5.251775679278455e-09,
          -5.411241738618546e-09,
          -5.568785215189659e-09,
          -5.724350134544723e-09,
          -5.877881225208635e-09,
          -6.029323938315937e-09,
          -6.178624466991771e-09,
          -6.325729765469218e-09,
          -6.4705875679361805e-09,
          -6.6131464071052e-09,
          -6.753355632499535e-09,
          -6.891165428449023e-09,
          -7.026526831789358e-09,
          -7.159391749258475e-09,
          -7.28971297458385e-09,
          -7.4174442052546595e-09,
          -7.542540058972858e-09,
          -7.664956089777276e-09,
          -7.784648803835071e-09,
          -7.901575674894862e-09,
          -8.015695159396123e-09,
          -8.126966711229412e-09,
          -8.235350796142185e-09,
          -8.340808905785163e-09,
          -8.443303571394131e-09,
          -8.542798377102454e-09,
          -8.639257972879406e-09,
          -8.732648087089922e-09,
          -8.8229355386711e-09,
          -8.910088248921316e-09,
          -8.994075252897595e-09,
          -9.074866710417351e-09,
          -9.152433916660416e-09,
          -9.226749312367765e-09,
          -9.297786493633154e-09,
          -9.365520221284338e-09,
          -9.429926429850403e-09,
          -9.490982236112126e-09,
          -9.54866594723226e-09,
          -9.602957068462917e-09,
          -9.653836310427234e-09,
          -9.701285595972807e-09,
          -9.745288066594423e-09,
          -9.785828088423788e-09,
          -9.822891257784182e-09,
          -9.856464406308013e-09,
          -9.886535605615471e-09,
          -9.913094171552631e-09,
          -9.936130667987477e-09,
          -9.955636910162518e-09,
          -9.971605967602785e-09,
          -9.984032166578213e-09,
          -9.992911092119472e-09,
          -9.998239589586597e-09,
          -1.0000015765789807e-08,
          -9.998238989662156e-09,
          -9.99290989248374e-09,
          -9.984030367657415e-09,
          -9.97160357003607e-09,
          -9.955633914801724e-09,
          -9.93612707589684e-09,
          -9.913089984008401e-09,
          -9.886530824105458e-09,
          -9.856459032531061e-09,
          -9.822885293649565e-09,
          -9.785821536050528e-09,
          -9.745280928310543e-09,
          -9.701277874314498e-09,
          -9.653828008137956e-09,
          -9.602948188492432e-09,
          -9.54865649273557e-09,
          -9.490972210448358e-09,
          -9.429915836581623e-09,
          -9.365509064174268e-09,
          -9.29777477664586e-09,
          -9.22673703966622e-09,
          -9.15242109260505e-09,
          -9.07485333956447e-09,
          -8.994061339997795e-09,
          -8.91007379891776e-09,
          -8.822920556697811e-09,
          -8.732632578469898e-09,
          -8.63924194312278e-09,
          -8.542781831904496e-09,
          -8.44328651663327e-09,
          -8.340791347520843e-09,
          -8.235332740612776e-09,
          -8.126948164849928e-09,
          -8.015676128755999e-09,
          -7.901556166755564e-09,
          -7.784628825127738e-09,
          -7.664935647600233e-09,
          -7.542519160589091e-09,
          -7.417422858089241e-09,
          -7.289691186221309e-09,
          -7.159369527440092e-09,
          -7.0265041844104204e-09,
          -6.891142363556016e-09,
          -6.753332158287286e-09,
          -6.613122531913956e-09,
          -6.470563300248663e-09,
          -6.325705113907595e-09,
          -6.178599440314616e-09,
          -6.029298545415066e-09,
          -5.87785547510601e-09,
          -5.724324036389201e-09,
          -5.56875877825377e-09,
          -5.411214972295176e-09,
          -5.2517485930775345e-09,
          -5.090416298246034e-09,
          -4.927275408396845e-09,
          -4.762383886711304e-09,
          -4.59580031836193e-09,
          -4.42758388969734e-09,
          -4.257794367213659e-09,
          -4.086492076319743e-09,
          -3.913737879903885e-09,
          -3.739593156709467e-09,
          -3.5641197795274463e-09,
          -3.387380093213188e-09,
          -3.2094368925356742e-09,
          -3.030353399866798e-09,
          -2.8501932427187946e-09,
          -2.6690204311376285e-09,
          -2.486899334960603e-09,
          -2.3038946609459642e-09,
          -2.120071429783017e-09,
          -1.9354949529904802e-09,
          -1.7502308097116926e-09,
          -1.5643448234145858e-09,
          -1.3779030385049997e-09,
          -1.1909716968613128e-09,
          -1.0036172142991414e-09,
          -8.159061569740112e-10,
          -6.279052177307991e-10,
          -4.396811924080118e-10,
          -2.5130095610562177e-10,
          -6.283143942455673e-11,
          1.2566039531329991e-10,
          3.1410757785661e-10,
          5.024431538187119e-10,
          6.906002084662573e-10,
          8.785118904936625e-10,
          1.0661114357750757e-09,
          1.2533321910853185e-09,
          1.4401076377815208e-09,
          1.626371415436807e-09,
          1.8120573454179027e-09,
          1.997099454398051e-09,
          2.1814319977970404e-09,
          2.364989483139905e-09,
          2.5477066933261516e-09,
          2.7295187098010032e-09,
          2.9103609356207614e-09,
          3.090169118403668e-09,
          3.268879373158577e-09,
          3.446428204982905e-09,
          3.622752531622143e-09,
          3.7977897058826e-09,
          3.971477537889755e-09,
          4.143754317183907e-09,
          4.314558834645704e-09,
          4.483830404243383e-09,
          4.651508884594281e-09,
          4.817534700332751e-09,
          4.981848863277019e-09,
          5.144392993387377e-09,
          5.305109339508386e-09,
          5.4639407998875244e-09,
          5.620830942463223e-09,
          5.775724024914874e-09,
          5.9285650144678314e-09,
          6.0792996074462656e-09,
          6.2278742485670445e-09,
          6.37423614996762e-09,
          6.51833330996135e-09,
          6.660114531513428e-09,
          6.799529440430949e-09,
          6.936528503260602e-09,
          7.071063044887714e-09,
          7.20308526583023e-09,
          7.332548259221712e-09,
          7.459406027477047e-09,
          7.583613498635226e-09,
          7.705126542373173e-09,
          7.823901985685052e-09,
          7.939897628221403e-09,
          8.053072257282783e-09,
          8.163385662462364e-09,
          8.270798649932566e-09,
          8.375273056370392e-09,
          8.476771762516706e-09,
          8.575258706364513e-09,
          8.670698895971626e-09,
          8.763058421893118e-09,
          8.85230446922922e-09,
          8.938405329284259e-09,
          9.021330410832643e-09,
          9.101050250987755e-09,
          9.177536525669988e-09,
          9.250762059670139e-09,
          9.320700836304653e-09,
          9.38732800665921e-09,
          9.450619898417444e-09,
          9.510554024271579e-09,
          9.567109089912088e-09,
          9.620265001593439e-09,
          9.67000287327332e-09,
          9.716305033322753e-09,
          9.759155030804755e-09,
          9.79853764131925e-09,
          9.834438872412248e-09,
          9.86684596854729e-09,
          9.895747415637431e-09,
          9.921132945136135e-09,
          9.94299353768565e-09,
          9.961321426321536e-09,
          9.976110099232229e-09,
          9.98735430207266e-09,
          9.995050039831108e-09,
          9.999194578248584e-09,
          9.999786444790328e-09,
          9.996825429168975e-09,
          9.990312583419276e-09,
          9.980250221524316e-09,
          9.966641918593358e-09,
          9.949492509591644e-09,
          9.928808087622527e-09,
          9.904596001762648e-09,
          9.876864854450818e-09,
          9.845624498431636e-09,
          9.810886033254839e-09,
          9.772661801331695e-09,
          9.730965383549796e-09,
          9.685811594447839e-09,
          9.637216476952086e-09,
          9.585197296676396e-09,
          9.529772535787817e-09,
          9.470961886439987e-09,
          9.408786243776591e-09,
          9.3432676985074e-09,
          9.27442952905958e-09,
          9.202296193306953e-09,
          9.12689331988025e-09,
          9.048247699061352e-09,
          8.966387273264851e-09,
          8.881341127110247e-09,
          8.793139477088326e-09,
          8.701813660825336e-09,
          8.607396125948948e-09,
          8.509920418559724e-09,
          8.409421171312364e-09,
          8.305934091110861e-09,
          8.199495946422053e-09,
          8.09014455421193e-09,
          7.97791876650948e-09,
          7.862858456602648e-09,
          7.745004504871697e-09,
          7.624398784264501e-09,
          7.501084145419324e-09,
          7.3751044014401505e-09,
          7.246504312330157e-09,
          7.115329569088661e-09,
          6.981626777477346e-09,
          6.845443441461405e-09,
          6.706827946331685e-09,
          6.565829541513582e-09,
          6.4224983230689386e-09,
          6.276885215897163e-09,
          6.1290419556418945e-09,
          5.979021070309528e-09,
          5.826875861606296e-09,
          5.672660386000364e-09,
          5.5164294355159144e-09,
          5.358238518265742e-09,
          5.198143838729518e-09,
          5.036202277784539e-09,
          4.872471372496323e-09,
          4.707009295675909e-09,
          4.539874835211311e-09,
          4.371127373180484e-09,
          4.200826864753193e-09,
          4.029033816889178e-09,
          3.855809266840347e-09,
          3.68121476046447e-09,
          3.505312330358329e-09,
          3.328164473817759e-09,
          3.149834130632697e-09,
          2.970384660724901e-09,
          2.789879821636594e-09,
          2.608383745877576e-09,
          2.4259609181393823e-09,
          2.2426761523840466e-09,
          2.058594568816128e-09,
          1.8737815707457417e-09,
          1.6883028213511108e-09,
          1.5022242203486818e-09,
          1.3156118805793733e-09,
          1.128532104518929e-09,
          9.410513607209984e-10,
          7.532362602011243e-10,
          5.651535327701997e-10,
          3.768700033257208e-10,
          1.884525681091831e-10,
          -3.182906188814249e-14,
          -1.8851622057865073e-10,
          -3.7693363883428915e-10,
          -5.652171400172512e-10,
          -7.532998278961355e-10,
          -9.411148775874989e-10,
          -1.128595559298489e-09,
          -1.3156752620355702e-09,
          -1.5022875172712322e-09,
          -1.6883660225597306e-09,
          -1.87384466509417e-09,
          -2.0586575451960204e-09,
          -2.242738999729024e-09,
          -2.4260236254288917e-09,
          -2.6084463021408444e-09,
          -2.789942215956457e-09,
          -2.970446882241797e-09,
          -3.1498961685484123e-09,
          -3.328226317399329e-09,
          -3.505373968941817e-09,
          -3.6812761834588093e-09,
          -3.85587046373105e-09,
          -4.0290947772421095e-09,
          -4.200887578218209e-09,
          -4.371187829495205e-09,
          -4.539935024204707e-09,
          -4.707069207271946e-09,
          -4.8725309967174895e-09,
          -5.036261604755444e-09,
          -5.198202858680368e-09,
          -5.358297221535871e-09,
          -5.51648781255711e-09,
          -5.672718427380368e-09,
          -5.826933558012093e-09,
          -5.979078412550685e-09,
          -6.129098934653768e-09,
          -6.276941822744209e-09,
          -6.422554548947822e-09,
          -6.565885377756343e-09,
          -6.7068833844087664e-09,
          -6.845498472984724e-09,
          -6.981681394203286e-09,
          -7.115383762920982e-09,
          -7.246558075322835e-09,
          -7.375157725800274e-09,
          -7.501137023509814e-09,
          -7.624451208606845e-09,
          -7.745056468148563e-09,
          -7.862909951660556e-09,
          -7.97796978636129e-09,
          -8.090195092039365e-09,
          -8.199545995578031e-09,
          -8.30598364512199e-09,
          -8.409470223881148e-09,
          -8.509968963566836e-09,
          -8.607444157455378e-09,
          -8.701861173074533e-09,
          -8.793186464508227e-09,
          -8.881387584315267e-09,
          -8.966433195057758e-09,
          -9.048293080435174e-09,
          -9.126938156020016e-09,
          -9.202340479591407e-09,
          -9.274473261062806e-09,
          -9.34331087200045e-09,
          -9.408828854728941e-09,
          -9.471003931020984e-09,
          -9.529814010368021e-09,
          -9.585238197828903e-09,
          -9.637256801453728e-09,
          -9.68585133928032e-09,
          -9.731004545900771e-09,
          -9.772700378595785e-09,
          -9.810924023034535e-09,
          -9.845661898538156e-09,
          -9.876901662904897e-09,
          -9.90463221679523e-09,
          -9.928843707675396e-09,
          -9.949527533317973e-09,
          -9.966676344858195e-09,
          -9.980284049404982e-09,
          -9.9903458122057e-09,
          -9.996858058363938e-09,
          -9.999818474109642e-09,
          -9.999226007621197e-09,
          -9.995080869399122e-09,
          -9.98738453219129e-09,
          -9.976139730469667e-09,
          -9.961350459458756e-09,
          -9.94302197371613e-09,
          -9.921160785265496e-09,
          -9.89577466128302e-09,
          -9.866872621337669e-09,
          -9.834464934186619e-09,
          -9.798563114126798e-09,
          -9.75917991690393e-09,
          -9.716329335180453e-09,
          -9.670026593564014e-09,
          -9.620288143198232e-09,
          -9.567131655917697e-09,
          -9.510576017969215e-09,
          -9.450641323301663e-09,
          -9.387348866426662e-09,
          -9.320721134852774e-09,
          -9.25078180109576e-09,
          -9.177555714267888e-09,
          -9.101068891249128e-09,
          -9.021348507443514e-09,
          -8.938422887123785e-09,
          -8.852321493367995e-09,
          -8.763074917591362e-09,
          -8.670714868677311e-09,
          -8.57527416171142e-09,
          -8.47678670632243e-09,
          -8.375287494634279e-09,
          -8.270812588833593e-09,
          -8.16339910835691e-09,
          -8.053085216702391e-09,
          -7.939910107870483e-09,
          -7.823913992438441e-09,
          -7.70513808327374e-09,
          -7.583624580891352e-09,
          -7.459416658460071e-09,
          -7.332558446463319e-09,
          -7.203095017019743e-09,
          -7.071072367869381e-09,
          -6.936537406030833e-09,
          -6.799537931135452e-09,
          -6.6601226184443e-09,
          -6.5183410015541636e-09,
          -6.3742434547983825e-09,
          -6.227881175349211e-09,
          -6.079306165027588e-09,
          -5.928571211827235e-09,
          -5.775729871159283e-09,
          -5.620836446824316e-09,
          -5.463945971718424e-09,
          -5.3051141882803746e-09,
          -5.1443975286865275e-09,
          -4.98185309480078e-09,
          -4.8175386378865015e-09,
          -4.651512538087816e-09,
          -4.483833783687443e-09,
          -4.3145619501484155e-09,
          -4.143757178947149e-09,
          -3.971480156205561e-09,
          -3.797792091129513e-09,
          -3.6227546942615073e-09,
          -3.446430155555156e-09,
          -3.268881122279488e-09,
          -3.090170676760605e-09,
          -2.9103623139688655e-09,
          -2.729519918959375e-09,
          -2.5477077441739587e-09,
          -2.364990386612615e-09,
          -2.181432764882473e-09,
          -1.997100096132467e-09,
          -1.8120578728820983e-09,
          -1.6263718397521884e-09,
          -1.4401079701061589e-09,
          -1.2533324426099424e-09,
          -1.0661116177191218e-09,
          -8.785120141013068e-10,
          -6.906002850024201e-10,
          -5.024431945649758e-10,
          -3.1410759410730917e-10,
          -1.2566039837148034e-10,
          6.283143825116178e-11,
          2.513009455086271e-10,
          4.396811610823892e-10,
          6.279051543788498e-10,
          8.159060503094237e-10,
          1.0036170530510114e-09,
          1.1909714697781287e-09,
          1.3779027343586057e-09,
          1.5643444310042503e-09,
          1.750230317868026e-09,
          1.93549435057943e-09,
          2.120070705709798e-09,
          2.3038938041590153e-09,
          2.486898334455535e-09,
          2.6690192759611224e-09,
          2.8501919219724514e-09,
          3.0303519027110515e-09,
          3.209435208193655e-09,
          3.387378210974516e-09,
          3.5641176887520774e-09,
          3.739590846831416e-09,
          3.913735340435038e-09,
          4.086489296853557e-09,
          4.257791337428848e-09,
          4.427580599361553e-09,
          4.595796757335411e-09,
          4.76238004495046e-09,
          4.927271275957815e-09,
          5.0904118652882335e-09,
          5.251743849867157e-09,
          5.411209909208681e-09,
          5.56875338578122e-09,
          5.7243183051376984e-09,
          5.877849395803038e-09,
          6.029292108911766e-09,
          6.1785926375890295e-09,
          6.325697936067888e-09,
          6.470555738536279e-09,
          6.6131145777067285e-09,
          6.753323803102489e-09,
          6.891133599053377e-09,
          7.02649500239514e-09,
          7.159359919865685e-09,
          7.289681145192485e-09,
          7.4174123758647105e-09,
          7.542508229584337e-09,
          7.66492426039018e-09,
          7.7846169744494e-09,
          7.901543845510609e-09,
          8.015663330013298e-09,
          8.126934881848009e-09,
          8.235318966762199e-09,
          8.340777076406594e-09,
          8.443271742016992e-09,
          8.542766547726739e-09,
          8.639226143505119e-09,
          8.732616257717048e-09,
          8.822903709299654e-09,
          8.910056419551292e-09,
          8.994043423529e-09,
          9.074834881050173e-09,
          9.152402087294665e-09,
          9.226717483003435e-09,
          9.297754664270244e-09,
          9.365488391922848e-09,
          9.429894600490338e-09,
          9.490950406753484e-09,
          9.548634117875043e-09,
          9.602925239107118e-09,
          9.65380448107286e-09,
          9.70125376661986e-09,
          9.745256237242898e-09,
          9.785796259073684e-09,
          9.822859428435503e-09,
          9.856432576960755e-09,
          9.886503776269636e-09,
          9.913062342208218e-09,
          9.936098838644487e-09,
          9.955605080820952e-09,
          9.971574138262644e-09,
          9.984000337239493e-09,
          9.992879262782175e-09,
          9.998207760250724e-09,
          9.999983936455357e-09,
          9.998207160329129e-09,
          9.992878063152138e-09,
          9.983998538327233e-09,
          9.97157174070731e-09,
          9.955602085474388e-09,
          9.93609524657093e-09,
          9.91305815468391e-09,
          9.88649899478239e-09,
          9.856427203209417e-09,
          9.822853464329343e-09,
          9.785789706731728e-09,
          9.745249098993165e-09,
          9.701246044998552e-09,
          9.65379617882343e-09,
          9.602916359179325e-09,
          9.548624663423884e-09,
          9.4909403811381e-09,
          9.429884007272786e-09,
          9.365477234866855e-09,
          9.297742947339865e-09,
          9.226705210361652e-09,
          9.152389263301902e-09,
          9.074821510262743e-09,
          8.994029510697496e-09,
          8.910041969618892e-09,
          8.822888727400356e-09,
          8.732600749173865e-09,
          8.639210113828167e-09,
          8.542750002611315e-09,
          8.443254687341506e-09,
          8.340759518230504e-09,
          8.23530091132385e-09,
          8.126916335562435e-09,
          8.015644299469924e-09,
          7.901524337470922e-09,
          7.784596995844515e-09,
          7.664903818318438e-09,
          7.542487331308714e-09,
          7.417391028810285e-09,
          7.289659356943769e-09,
          7.159337698163987e-09,
          7.026472355135734e-09,
          6.891110534282746e-09,
          6.753300329015433e-09,
          6.613090702643538e-09,
          6.470531470979676e-09,
          6.325673284640029e-09,
          6.17856761104846e-09,
          6.029266716150346e-09,
          5.8778236458427075e-09,
          5.724292207127321e-09,
          5.568726948993305e-09,
          5.4111831430361485e-09,
          5.251716763819916e-09,
          5.0903844689898365e-09,
          4.927243579142064e-09,
          4.762352057457977e-09,
          4.595768489110017e-09,
          4.427552060446843e-09,
          4.257762537964577e-09,
          4.0864602470720996e-09,
          3.913706050657657e-09,
          3.739561327464662e-09,
          3.564087950284055e-09,
          3.3873482639712284e-09,
          3.209405063295129e-09,
          3.0303215706276755e-09,
          2.8501614134810865e-09,
          2.6689886019013775e-09,
          2.486867505725757e-09,
          2.3038628317125417e-09,
          2.120039600551009e-09,
          1.9354631237599124e-09,
          1.7501989804825385e-09,
          1.5643129941868547e-09,
          1.377871209278674e-09,
          1.1909398676364274e-09,
          1.00358538507567e-09,
          8.158743277519627e-10,
          6.278733885101825e-10,
          4.396493631888358e-10,
          2.5126912688785087e-10,
          6.279961020820877e-11,
          -1.256922245282339e-10,
          -3.141394070701034e-10,
          -5.024749830307912e-10,
          -6.906320376769227e-10,
          -8.785437197029139e-10,
          -1.0661432649828864e-09,
          -1.2533640202917154e-09,
          -1.4401394669864769e-09,
          -1.6264032446403493e-09,
          -1.8120891746200133e-09,
          -1.9971312835987477e-09,
          -2.1814638269963144e-09,
          -2.3650213123377646e-09,
          -2.5477385225225706e-09,
          -2.7295505389960164e-09,
          -2.910392764814335e-09,
          -3.090200947595844e-09,
          -3.268911202349313e-09,
          -3.4464600341722097e-09,
          -3.6227843608100085e-09,
          -3.797821535069076e-09,
          -3.971509367074792e-09,
          -4.143786146367545e-09,
          -4.314590663827903e-09,
          -4.4838622334241514e-09,
          -4.651540713773651e-09,
          -4.817566529510689e-09,
          -4.981880692453518e-09,
          -5.144424822562477e-09,
          -5.305141168682047e-09,
          -5.463972629059755e-09,
          -5.620862771634024e-09,
          -5.775755854084274e-09,
          -5.928596843635795e-09,
          -6.079331436612826e-09,
          -6.227906077732168e-09,
          -6.374267979131313e-09,
          -6.518365139123616e-09,
          -6.660146360674291e-09,
          -6.7995612695903745e-09,
          -6.936560332418625e-09,
          -7.071094874044303e-09,
          -7.20311709498542e-09,
          -7.332580088375444e-09,
          -7.459437856629372e-09,
          -7.583645327786118e-09,
          -7.705158371522636e-09,
          -7.823933814833104e-09,
          -7.939929457368032e-09,
          -8.053104086428e-09,
          -8.163417491606152e-09,
          -8.270830479074922e-09,
          -8.375304885511321e-09,
          -8.476803591656227e-09,
          -8.575290535502604e-09,
          -8.670730725108304e-09,
          -8.763090251028368e-09,
          -8.85233629836304e-09,
          -8.938437158416669e-09,
          -9.02136223996361e-09,
          -9.10108208011731e-09,
          -9.177568354798113e-09,
          -9.250793888796851e-09,
          -9.320732665429936e-09,
          -9.387359835783081e-09,
          -9.450651727539888e-09,
          -9.510585853392608e-09,
          -9.56714091903168e-09,
          -9.620296830711603e-09,
          -9.670034702390068e-09,
          -9.71633686243808e-09,
          -9.759186859918662e-09,
          -9.79856947043173e-09,
          -9.834470701523311e-09,
          -9.866877797656927e-09,
          -9.895779244745643e-09,
          -9.921164774242924e-09,
          -9.943025366791018e-09,
          -9.96135325542548e-09,
          -9.976141928334748e-09,
          -9.98738613117376e-09,
          -9.995081868930781e-09,
          -9.999226407346838e-09,
          -9.999818273887159e-09,
          -9.996857258264383e-09,
          -9.990344412513262e-09,
          -9.980282050616877e-09,
          -9.966673747684497e-09,
          -9.949524338681358e-09,
          -9.92883991671082e-09,
          -9.90462783084952e-09,
          -9.876896683536268e-09,
          -9.845656327515666e-09,
          -9.810917862337442e-09,
          -9.772693630412876e-09,
          -9.73099721262955e-09,
          -9.685843423526173e-09,
          -9.63724830602899e-09,
          -9.585229125751878e-09,
          -9.529804364861881e-09,
          -9.470993715512635e-09,
          -9.408818072847818e-09,
          -9.343299527577198e-09,
          -9.274461358127961e-09,
          -9.202328022373904e-09,
          -9.126925148945778e-09,
          -9.048279528125444e-09,
          -8.966419102327543e-09,
          -8.881372956171508e-09,
          -8.793171306148162e-09,
          -8.701845489883743e-09,
          -8.607427955005939e-09,
          -8.50995224761528e-09,
          -8.4094530003665e-09,
          -8.305965920163584e-09,
          -8.199527775473364e-09,
          -8.09017638326183e-09,
          -7.977950595557922e-09,
          -7.862890285649679e-09,
          -7.745036333917294e-09,
          -7.624430613308688e-09,
          -7.501115974462065e-09,
          -7.375136230481478e-09,
          -7.246536141370074e-09,
          -7.1153613981271685e-09,
          -6.9816586065144316e-09,
          -6.845475270497055e-09,
          -6.706859775365925e-09,
          -6.5658613705463735e-09,
          -6.4225301521003065e-09,
          -6.276917044927094e-09,
          -6.129073784670445e-09,
          -5.979052899336641e-09,
          -5.826907690631986e-09,
          -5.6726922150246175e-09,
          -5.516461264538759e-09,
          -5.3582703472871785e-09,
          -5.198175667749501e-09,
          -5.036234106803116e-09,
          -4.872503201513492e-09,
          -4.707041124691655e-09,
          -4.539906664225602e-09,
          -4.371159202193367e-09,
          -4.2008586937646384e-09,
          -4.029065645899216e-09,
          -3.855841095848929e-09,
          -3.681246589471646e-09,
          -3.505344159364132e-09,
          -3.3281963028221225e-09,
          -3.1498659596356375e-09,
          -2.970416489726402e-09,
          -2.7899116506366727e-09,
          -2.608415574876214e-09,
          -2.425992747136598e-09,
          -2.242707981379822e-09,
          -2.0586263978105324e-09,
          -1.873813399738706e-09,
          -1.688334650342652e-09,
          -1.5022560493388181e-09,
          -1.315643709568069e-09,
          -1.1285639335062197e-09,
          -9.410831897068308e-10,
          -7.532680891855338e-10,
          -5.65185361753204e-10,
          -3.7690183230732007e-10,
          -1.8848439708932398e-10,
          8.315237611270716e-20
         ]
        }
       ],
       "layout": {
        "legend": {
         "bgcolor": "#FFFFFF",
         "font": {
          "color": "#4D5663"
         }
        },
        "paper_bgcolor": "#FFFFFF",
        "plot_bgcolor": "#FFFFFF",
        "template": {
         "data": {
          "bar": [
           {
            "error_x": {
             "color": "#2a3f5f"
            },
            "error_y": {
             "color": "#2a3f5f"
            },
            "marker": {
             "line": {
              "color": "#E5ECF6",
              "width": 0.5
             }
            },
            "type": "bar"
           }
          ],
          "barpolar": [
           {
            "marker": {
             "line": {
              "color": "#E5ECF6",
              "width": 0.5
             }
            },
            "type": "barpolar"
           }
          ],
          "carpet": [
           {
            "aaxis": {
             "endlinecolor": "#2a3f5f",
             "gridcolor": "white",
             "linecolor": "white",
             "minorgridcolor": "white",
             "startlinecolor": "#2a3f5f"
            },
            "baxis": {
             "endlinecolor": "#2a3f5f",
             "gridcolor": "white",
             "linecolor": "white",
             "minorgridcolor": "white",
             "startlinecolor": "#2a3f5f"
            },
            "type": "carpet"
           }
          ],
          "choropleth": [
           {
            "colorbar": {
             "outlinewidth": 0,
             "ticks": ""
            },
            "type": "choropleth"
           }
          ],
          "contour": [
           {
            "colorbar": {
             "outlinewidth": 0,
             "ticks": ""
            },
            "colorscale": [
             [
              0,
              "#0d0887"
             ],
             [
              0.1111111111111111,
              "#46039f"
             ],
             [
              0.2222222222222222,
              "#7201a8"
             ],
             [
              0.3333333333333333,
              "#9c179e"
             ],
             [
              0.4444444444444444,
              "#bd3786"
             ],
             [
              0.5555555555555556,
              "#d8576b"
             ],
             [
              0.6666666666666666,
              "#ed7953"
             ],
             [
              0.7777777777777778,
              "#fb9f3a"
             ],
             [
              0.8888888888888888,
              "#fdca26"
             ],
             [
              1,
              "#f0f921"
             ]
            ],
            "type": "contour"
           }
          ],
          "contourcarpet": [
           {
            "colorbar": {
             "outlinewidth": 0,
             "ticks": ""
            },
            "type": "contourcarpet"
           }
          ],
          "heatmap": [
           {
            "colorbar": {
             "outlinewidth": 0,
             "ticks": ""
            },
            "colorscale": [
             [
              0,
              "#0d0887"
             ],
             [
              0.1111111111111111,
              "#46039f"
             ],
             [
              0.2222222222222222,
              "#7201a8"
             ],
             [
              0.3333333333333333,
              "#9c179e"
             ],
             [
              0.4444444444444444,
              "#bd3786"
             ],
             [
              0.5555555555555556,
              "#d8576b"
             ],
             [
              0.6666666666666666,
              "#ed7953"
             ],
             [
              0.7777777777777778,
              "#fb9f3a"
             ],
             [
              0.8888888888888888,
              "#fdca26"
             ],
             [
              1,
              "#f0f921"
             ]
            ],
            "type": "heatmap"
           }
          ],
          "heatmapgl": [
           {
            "colorbar": {
             "outlinewidth": 0,
             "ticks": ""
            },
            "colorscale": [
             [
              0,
              "#0d0887"
             ],
             [
              0.1111111111111111,
              "#46039f"
             ],
             [
              0.2222222222222222,
              "#7201a8"
             ],
             [
              0.3333333333333333,
              "#9c179e"
             ],
             [
              0.4444444444444444,
              "#bd3786"
             ],
             [
              0.5555555555555556,
              "#d8576b"
             ],
             [
              0.6666666666666666,
              "#ed7953"
             ],
             [
              0.7777777777777778,
              "#fb9f3a"
             ],
             [
              0.8888888888888888,
              "#fdca26"
             ],
             [
              1,
              "#f0f921"
             ]
            ],
            "type": "heatmapgl"
           }
          ],
          "histogram": [
           {
            "marker": {
             "colorbar": {
              "outlinewidth": 0,
              "ticks": ""
             }
            },
            "type": "histogram"
           }
          ],
          "histogram2d": [
           {
            "colorbar": {
             "outlinewidth": 0,
             "ticks": ""
            },
            "colorscale": [
             [
              0,
              "#0d0887"
             ],
             [
              0.1111111111111111,
              "#46039f"
             ],
             [
              0.2222222222222222,
              "#7201a8"
             ],
             [
              0.3333333333333333,
              "#9c179e"
             ],
             [
              0.4444444444444444,
              "#bd3786"
             ],
             [
              0.5555555555555556,
              "#d8576b"
             ],
             [
              0.6666666666666666,
              "#ed7953"
             ],
             [
              0.7777777777777778,
              "#fb9f3a"
             ],
             [
              0.8888888888888888,
              "#fdca26"
             ],
             [
              1,
              "#f0f921"
             ]
            ],
            "type": "histogram2d"
           }
          ],
          "histogram2dcontour": [
           {
            "colorbar": {
             "outlinewidth": 0,
             "ticks": ""
            },
            "colorscale": [
             [
              0,
              "#0d0887"
             ],
             [
              0.1111111111111111,
              "#46039f"
             ],
             [
              0.2222222222222222,
              "#7201a8"
             ],
             [
              0.3333333333333333,
              "#9c179e"
             ],
             [
              0.4444444444444444,
              "#bd3786"
             ],
             [
              0.5555555555555556,
              "#d8576b"
             ],
             [
              0.6666666666666666,
              "#ed7953"
             ],
             [
              0.7777777777777778,
              "#fb9f3a"
             ],
             [
              0.8888888888888888,
              "#fdca26"
             ],
             [
              1,
              "#f0f921"
             ]
            ],
            "type": "histogram2dcontour"
           }
          ],
          "mesh3d": [
           {
            "colorbar": {
             "outlinewidth": 0,
             "ticks": ""
            },
            "type": "mesh3d"
           }
          ],
          "parcoords": [
           {
            "line": {
             "colorbar": {
              "outlinewidth": 0,
              "ticks": ""
             }
            },
            "type": "parcoords"
           }
          ],
          "scatter": [
           {
            "marker": {
             "colorbar": {
              "outlinewidth": 0,
              "ticks": ""
             }
            },
            "type": "scatter"
           }
          ],
          "scatter3d": [
           {
            "line": {
             "colorbar": {
              "outlinewidth": 0,
              "ticks": ""
             }
            },
            "marker": {
             "colorbar": {
              "outlinewidth": 0,
              "ticks": ""
             }
            },
            "type": "scatter3d"
           }
          ],
          "scattercarpet": [
           {
            "marker": {
             "colorbar": {
              "outlinewidth": 0,
              "ticks": ""
             }
            },
            "type": "scattercarpet"
           }
          ],
          "scattergeo": [
           {
            "marker": {
             "colorbar": {
              "outlinewidth": 0,
              "ticks": ""
             }
            },
            "type": "scattergeo"
           }
          ],
          "scattergl": [
           {
            "marker": {
             "colorbar": {
              "outlinewidth": 0,
              "ticks": ""
             }
            },
            "type": "scattergl"
           }
          ],
          "scattermapbox": [
           {
            "marker": {
             "colorbar": {
              "outlinewidth": 0,
              "ticks": ""
             }
            },
            "type": "scattermapbox"
           }
          ],
          "scatterpolar": [
           {
            "marker": {
             "colorbar": {
              "outlinewidth": 0,
              "ticks": ""
             }
            },
            "type": "scatterpolar"
           }
          ],
          "scatterpolargl": [
           {
            "marker": {
             "colorbar": {
              "outlinewidth": 0,
              "ticks": ""
             }
            },
            "type": "scatterpolargl"
           }
          ],
          "scatterternary": [
           {
            "marker": {
             "colorbar": {
              "outlinewidth": 0,
              "ticks": ""
             }
            },
            "type": "scatterternary"
           }
          ],
          "surface": [
           {
            "colorbar": {
             "outlinewidth": 0,
             "ticks": ""
            },
            "colorscale": [
             [
              0,
              "#0d0887"
             ],
             [
              0.1111111111111111,
              "#46039f"
             ],
             [
              0.2222222222222222,
              "#7201a8"
             ],
             [
              0.3333333333333333,
              "#9c179e"
             ],
             [
              0.4444444444444444,
              "#bd3786"
             ],
             [
              0.5555555555555556,
              "#d8576b"
             ],
             [
              0.6666666666666666,
              "#ed7953"
             ],
             [
              0.7777777777777778,
              "#fb9f3a"
             ],
             [
              0.8888888888888888,
              "#fdca26"
             ],
             [
              1,
              "#f0f921"
             ]
            ],
            "type": "surface"
           }
          ],
          "table": [
           {
            "cells": {
             "fill": {
              "color": "#EBF0F8"
             },
             "line": {
              "color": "white"
             }
            },
            "header": {
             "fill": {
              "color": "#C8D4E3"
             },
             "line": {
              "color": "white"
             }
            },
            "type": "table"
           }
          ]
         },
         "layout": {
          "annotationdefaults": {
           "arrowcolor": "#2a3f5f",
           "arrowhead": 0,
           "arrowwidth": 1
          },
          "colorscale": {
           "diverging": [
            [
             0,
             "#8e0152"
            ],
            [
             0.1,
             "#c51b7d"
            ],
            [
             0.2,
             "#de77ae"
            ],
            [
             0.3,
             "#f1b6da"
            ],
            [
             0.4,
             "#fde0ef"
            ],
            [
             0.5,
             "#f7f7f7"
            ],
            [
             0.6,
             "#e6f5d0"
            ],
            [
             0.7,
             "#b8e186"
            ],
            [
             0.8,
             "#7fbc41"
            ],
            [
             0.9,
             "#4d9221"
            ],
            [
             1,
             "#276419"
            ]
           ],
           "sequential": [
            [
             0,
             "#0d0887"
            ],
            [
             0.1111111111111111,
             "#46039f"
            ],
            [
             0.2222222222222222,
             "#7201a8"
            ],
            [
             0.3333333333333333,
             "#9c179e"
            ],
            [
             0.4444444444444444,
             "#bd3786"
            ],
            [
             0.5555555555555556,
             "#d8576b"
            ],
            [
             0.6666666666666666,
             "#ed7953"
            ],
            [
             0.7777777777777778,
             "#fb9f3a"
            ],
            [
             0.8888888888888888,
             "#fdca26"
            ],
            [
             1,
             "#f0f921"
            ]
           ],
           "sequentialminus": [
            [
             0,
             "#0d0887"
            ],
            [
             0.1111111111111111,
             "#46039f"
            ],
            [
             0.2222222222222222,
             "#7201a8"
            ],
            [
             0.3333333333333333,
             "#9c179e"
            ],
            [
             0.4444444444444444,
             "#bd3786"
            ],
            [
             0.5555555555555556,
             "#d8576b"
            ],
            [
             0.6666666666666666,
             "#ed7953"
            ],
            [
             0.7777777777777778,
             "#fb9f3a"
            ],
            [
             0.8888888888888888,
             "#fdca26"
            ],
            [
             1,
             "#f0f921"
            ]
           ]
          },
          "colorway": [
           "#636efa",
           "#EF553B",
           "#00cc96",
           "#ab63fa",
           "#FFA15A",
           "#19d3f3",
           "#FF6692",
           "#B6E880",
           "#FF97FF",
           "#FECB52"
          ],
          "font": {
           "color": "#2a3f5f"
          },
          "geo": {
           "bgcolor": "white",
           "lakecolor": "white",
           "landcolor": "#E5ECF6",
           "showlakes": true,
           "showland": true,
           "subunitcolor": "white"
          },
          "hoverlabel": {
           "align": "left"
          },
          "hovermode": "closest",
          "mapbox": {
           "style": "light"
          },
          "paper_bgcolor": "white",
          "plot_bgcolor": "#E5ECF6",
          "polar": {
           "angularaxis": {
            "gridcolor": "white",
            "linecolor": "white",
            "ticks": ""
           },
           "bgcolor": "#E5ECF6",
           "radialaxis": {
            "gridcolor": "white",
            "linecolor": "white",
            "ticks": ""
           }
          },
          "scene": {
           "xaxis": {
            "backgroundcolor": "#E5ECF6",
            "gridcolor": "white",
            "gridwidth": 2,
            "linecolor": "white",
            "showbackground": true,
            "ticks": "",
            "zerolinecolor": "white"
           },
           "yaxis": {
            "backgroundcolor": "#E5ECF6",
            "gridcolor": "white",
            "gridwidth": 2,
            "linecolor": "white",
            "showbackground": true,
            "ticks": "",
            "zerolinecolor": "white"
           },
           "zaxis": {
            "backgroundcolor": "#E5ECF6",
            "gridcolor": "white",
            "gridwidth": 2,
            "linecolor": "white",
            "showbackground": true,
            "ticks": "",
            "zerolinecolor": "white"
           }
          },
          "shapedefaults": {
           "line": {
            "color": "#2a3f5f"
           }
          },
          "ternary": {
           "aaxis": {
            "gridcolor": "white",
            "linecolor": "white",
            "ticks": ""
           },
           "baxis": {
            "gridcolor": "white",
            "linecolor": "white",
            "ticks": ""
           },
           "bgcolor": "#E5ECF6",
           "caxis": {
            "gridcolor": "white",
            "linecolor": "white",
            "ticks": ""
           }
          },
          "title": {
           "x": 0.05
          },
          "xaxis": {
           "automargin": true,
           "gridcolor": "white",
           "linecolor": "white",
           "ticks": "",
           "zerolinecolor": "white",
           "zerolinewidth": 2
          },
          "yaxis": {
           "automargin": true,
           "gridcolor": "white",
           "linecolor": "white",
           "ticks": "",
           "zerolinecolor": "white",
           "zerolinewidth": 2
          }
         }
        },
        "title": {
         "font": {
          "color": "#4D5663"
         },
         "text": "Output"
        },
        "xaxis": {
         "gridcolor": "#E1E5ED",
         "showgrid": true,
         "tickfont": {
          "color": "#4D5663"
         },
         "title": {
          "font": {
           "color": "#4D5663"
          },
          "text": "Tout"
         },
         "zerolinecolor": "#E1E5ED"
        },
        "yaxis": {
         "gridcolor": "#E1E5ED",
         "showgrid": true,
         "tickfont": {
          "color": "#4D5663"
         },
         "title": {
          "font": {
           "color": "#4D5663"
          },
          "text": "yout"
         },
         "zerolinecolor": "#E1E5ED"
        }
       }
      },
      "text/html": [
       "<div>\n",
       "        \n",
       "        \n",
       "            <div id=\"6d219852-ba1e-403e-9706-226125304852\" class=\"plotly-graph-div\" style=\"height:525px; width:100%;\"></div>\n",
       "            <script type=\"text/javascript\">\n",
       "                require([\"plotly\"], function(Plotly) {\n",
       "                    window.PLOTLYENV=window.PLOTLYENV || {};\n",
       "                    window.PLOTLYENV.BASE_URL='https://plot.ly';\n",
       "                    \n",
       "                if (document.getElementById(\"6d219852-ba1e-403e-9706-226125304852\")) {\n",
       "                    Plotly.newPlot(\n",
       "                        '6d219852-ba1e-403e-9706-226125304852',\n",
       "                        [{\"line\": {\"color\": \"rgba(255, 153, 51, 1.0)\", \"dash\": \"solid\", \"shape\": \"linear\", \"width\": 1.3}, \"mode\": \"lines\", \"name\": \"0\", \"text\": \"\", \"type\": \"scatter\", \"x\": [0.0, 3.0, 6.0, 9.0, 12.0, 15.0, 18.0, 21.0, 24.0, 27.0, 30.0, 33.0, 36.0, 39.0, 42.0, 45.0, 48.0, 51.0, 54.0, 57.0, 60.0, 63.0, 66.0, 69.0, 72.0, 75.0, 78.0, 81.0, 84.0, 87.0, 90.0, 93.0, 96.0, 99.0, 102.0, 105.0, 108.0, 111.0, 114.0, 117.0, 120.0, 123.0, 126.0, 129.0, 132.0, 135.0, 138.0, 141.0, 144.0, 147.0, 150.0, 153.0, 156.0, 159.0, 162.0, 165.0, 168.0, 171.0, 174.0, 177.0, 180.0, 183.0, 186.0, 189.0, 192.0, 195.0, 198.0, 201.0, 204.0, 207.0, 210.0, 213.0, 216.0, 219.0, 222.0, 225.0, 228.0, 231.0, 234.0, 237.0, 240.0, 243.0, 246.0, 249.0, 252.0, 255.0, 258.0, 261.0, 264.0, 267.0, 270.0, 273.0, 276.0, 279.0, 282.0, 285.0, 288.0, 291.0, 294.0, 297.0, 300.0, 303.0, 306.0, 309.0, 312.0, 315.0, 318.0, 321.0, 324.0, 327.0, 330.0, 333.0, 336.0, 339.0, 342.0, 345.0, 348.0, 351.0, 354.0, 357.0, 360.0, 363.0, 366.0, 369.0, 372.0, 375.0, 378.0, 381.0, 384.0, 387.0, 390.0, 393.0, 396.0, 399.0, 402.0, 405.0, 408.0, 411.0, 414.0, 417.0, 420.0, 423.0, 426.0, 429.0, 432.0, 435.0, 438.0, 441.0, 444.0, 447.0, 450.0, 453.0, 456.0, 459.0, 462.0, 465.0, 468.0, 471.0, 474.0, 477.0, 480.0, 483.0, 486.0, 489.0, 492.0, 495.0, 498.0, 501.0, 504.0, 507.0, 510.0, 513.0, 516.0, 519.0, 522.0, 525.0, 528.0, 531.0, 534.0, 537.0, 540.0, 543.0, 546.0, 549.0, 552.0, 555.0, 558.0, 561.0, 564.0, 567.0, 570.0, 573.0, 576.0, 579.0, 582.0, 585.0, 588.0, 591.0, 594.0, 597.0, 600.0, 603.0, 606.0, 609.0, 612.0, 615.0, 618.0, 621.0, 624.0, 627.0, 630.0, 633.0, 636.0, 639.0, 642.0, 645.0, 648.0, 651.0, 654.0, 657.0, 660.0, 663.0, 666.0, 669.0, 672.0, 675.0, 678.0, 681.0, 684.0, 687.0, 690.0, 693.0, 696.0, 699.0, 702.0, 705.0, 708.0, 711.0, 714.0, 717.0, 720.0, 723.0, 726.0, 729.0, 732.0, 735.0, 738.0, 741.0, 744.0, 747.0, 750.0, 753.0, 756.0, 759.0, 762.0, 765.0, 768.0, 771.0, 774.0, 777.0, 780.0, 783.0, 786.0, 789.0, 792.0, 795.0, 798.0, 801.0, 804.0, 807.0, 810.0, 813.0, 816.0, 819.0, 822.0, 825.0, 828.0, 831.0, 834.0, 837.0, 840.0, 843.0, 846.0, 849.0, 852.0, 855.0, 858.0, 861.0, 864.0, 867.0, 870.0, 873.0, 876.0, 879.0, 882.0, 885.0, 888.0, 891.0, 894.0, 897.0, 900.0, 903.0, 906.0, 909.0, 912.0, 915.0, 918.0, 921.0, 924.0, 927.0, 930.0, 933.0, 936.0, 939.0, 942.0, 945.0, 948.0, 951.0, 954.0, 957.0, 960.0, 963.0, 966.0, 969.0, 972.0, 975.0, 978.0, 981.0, 984.0, 987.0, 990.0, 993.0, 996.0, 999.0, 1002.0, 1005.0, 1008.0, 1011.0, 1014.0, 1017.0, 1020.0, 1023.0, 1026.0, 1029.0, 1032.0, 1035.0, 1038.0, 1041.0, 1044.0, 1047.0, 1050.0, 1053.0, 1056.0, 1059.0, 1062.0, 1065.0, 1068.0, 1071.0, 1074.0, 1077.0, 1080.0, 1083.0, 1086.0, 1089.0, 1092.0, 1095.0, 1098.0, 1101.0, 1104.0, 1107.0, 1110.0, 1113.0, 1116.0, 1119.0, 1122.0, 1125.0, 1128.0, 1131.0, 1134.0, 1137.0, 1140.0, 1143.0, 1146.0, 1149.0, 1152.0, 1155.0, 1158.0, 1161.0, 1164.0, 1167.0, 1170.0, 1173.0, 1176.0, 1179.0, 1182.0, 1185.0, 1188.0, 1191.0, 1194.0, 1197.0, 1200.0, 1203.0, 1206.0, 1209.0, 1212.0, 1215.0, 1218.0, 1221.0, 1224.0, 1227.0, 1230.0, 1233.0, 1236.0, 1239.0, 1242.0, 1245.0, 1248.0, 1251.0, 1254.0, 1257.0, 1260.0, 1263.0, 1266.0, 1269.0, 1272.0, 1275.0, 1278.0, 1281.0, 1284.0, 1287.0, 1290.0, 1293.0, 1296.0, 1299.0, 1302.0, 1305.0, 1308.0, 1311.0, 1314.0, 1317.0, 1320.0, 1323.0, 1326.0, 1329.0, 1332.0, 1335.0, 1338.0, 1341.0, 1344.0, 1347.0, 1350.0, 1353.0, 1356.0, 1359.0, 1362.0, 1365.0, 1368.0, 1371.0, 1374.0, 1377.0, 1380.0, 1383.0, 1386.0, 1389.0, 1392.0, 1395.0, 1398.0, 1401.0, 1404.0, 1407.0, 1410.0, 1413.0, 1416.0, 1419.0, 1422.0, 1425.0, 1428.0, 1431.0, 1434.0, 1437.0, 1440.0, 1443.0, 1446.0, 1449.0, 1452.0, 1455.0, 1458.0, 1461.0, 1464.0, 1467.0, 1470.0, 1473.0, 1476.0, 1479.0, 1482.0, 1485.0, 1488.0, 1491.0, 1494.0, 1497.0, 1500.0, 1503.0, 1506.0, 1509.0, 1512.0, 1515.0, 1518.0, 1521.0, 1524.0, 1527.0, 1530.0, 1533.0, 1536.0, 1539.0, 1542.0, 1545.0, 1548.0, 1551.0, 1554.0, 1557.0, 1560.0, 1563.0, 1566.0, 1569.0, 1572.0, 1575.0, 1578.0, 1581.0, 1584.0, 1587.0, 1590.0, 1593.0, 1596.0, 1599.0, 1602.0, 1605.0, 1608.0, 1611.0, 1614.0, 1617.0, 1620.0, 1623.0, 1626.0, 1629.0, 1632.0, 1635.0, 1638.0, 1641.0, 1644.0, 1647.0, 1650.0, 1653.0, 1656.0, 1659.0, 1662.0, 1665.0, 1668.0, 1671.0, 1674.0, 1677.0, 1680.0, 1683.0, 1686.0, 1689.0, 1692.0, 1695.0, 1698.0, 1701.0, 1704.0, 1707.0, 1710.0, 1713.0, 1716.0, 1719.0, 1722.0, 1725.0, 1728.0, 1731.0, 1734.0, 1737.0, 1740.0, 1743.0, 1746.0, 1749.0, 1752.0, 1755.0, 1758.0, 1761.0, 1764.0, 1767.0, 1770.0, 1773.0, 1776.0, 1779.0, 1782.0, 1785.0, 1788.0, 1791.0, 1794.0, 1797.0, 1800.0, 1803.0, 1806.0, 1809.0, 1812.0, 1815.0, 1818.0, 1821.0, 1824.0, 1827.0, 1830.0, 1833.0, 1836.0, 1839.0, 1842.0, 1845.0, 1848.0, 1851.0, 1854.0, 1857.0, 1860.0, 1863.0, 1866.0, 1869.0, 1872.0, 1875.0, 1878.0, 1881.0, 1884.0, 1887.0, 1890.0, 1893.0, 1896.0, 1899.0, 1902.0, 1905.0, 1908.0, 1911.0, 1914.0, 1917.0, 1920.0, 1923.0, 1926.0, 1929.0, 1932.0, 1935.0, 1938.0, 1941.0, 1944.0, 1947.0, 1950.0, 1953.0, 1956.0, 1959.0, 1962.0, 1965.0, 1968.0, 1971.0, 1974.0, 1977.0, 1980.0, 1983.0, 1986.0, 1989.0, 1992.0, 1995.0, 1998.0, 2001.0, 2004.0, 2007.0, 2010.0, 2013.0, 2016.0, 2019.0, 2022.0, 2025.0, 2028.0, 2031.0, 2034.0, 2037.0, 2040.0, 2043.0, 2046.0, 2049.0, 2052.0, 2055.0, 2058.0, 2061.0, 2064.0, 2067.0, 2070.0, 2073.0, 2076.0, 2079.0, 2082.0, 2085.0, 2088.0, 2091.0, 2094.0, 2097.0, 2100.0, 2103.0, 2106.0, 2109.0, 2112.0, 2115.0, 2118.0, 2121.0, 2124.0, 2127.0, 2130.0, 2133.0, 2136.0, 2139.0, 2142.0, 2145.0, 2148.0, 2151.0, 2154.0, 2157.0, 2160.0, 2163.0, 2166.0, 2169.0, 2172.0, 2175.0, 2178.0, 2181.0, 2184.0, 2187.0, 2190.0, 2193.0, 2196.0, 2199.0, 2202.0, 2205.0, 2208.0, 2211.0, 2214.0, 2217.0, 2220.0, 2223.0, 2226.0, 2229.0, 2232.0, 2235.0, 2238.0, 2241.0, 2244.0, 2247.0, 2250.0, 2253.0, 2256.0, 2259.0, 2262.0, 2265.0, 2268.0, 2271.0, 2274.0, 2277.0, 2280.0, 2283.0, 2286.0, 2289.0, 2292.0, 2295.0, 2298.0, 2301.0, 2304.0, 2307.0, 2310.0, 2313.0, 2316.0, 2319.0, 2322.0, 2325.0, 2328.0, 2331.0, 2334.0, 2337.0, 2340.0, 2343.0, 2346.0, 2349.0, 2352.0, 2355.0, 2358.0, 2361.0, 2364.0, 2367.0, 2370.0, 2373.0, 2376.0, 2379.0, 2382.0, 2385.0, 2388.0, 2391.0, 2394.0, 2397.0, 2400.0, 2403.0, 2406.0, 2409.0, 2412.0, 2415.0, 2418.0, 2421.0, 2424.0, 2427.0, 2430.0, 2433.0, 2436.0, 2439.0, 2442.0, 2445.0, 2448.0, 2451.0, 2454.0, 2457.0, 2460.0, 2463.0, 2466.0, 2469.0, 2472.0, 2475.0, 2478.0, 2481.0, 2484.0, 2487.0, 2490.0, 2493.0, 2496.0, 2499.0, 2502.0, 2505.0, 2508.0, 2511.0, 2514.0, 2517.0, 2520.0, 2523.0, 2526.0, 2529.0, 2532.0, 2535.0, 2538.0, 2541.0, 2544.0, 2547.0, 2550.0, 2553.0, 2556.0, 2559.0, 2562.0, 2565.0, 2568.0, 2571.0, 2574.0, 2577.0, 2580.0, 2583.0, 2586.0, 2589.0, 2592.0, 2595.0, 2598.0, 2601.0, 2604.0, 2607.0, 2610.0, 2613.0, 2616.0, 2619.0, 2622.0, 2625.0, 2628.0, 2631.0, 2634.0, 2637.0, 2640.0, 2643.0, 2646.0, 2649.0, 2652.0, 2655.0, 2658.0, 2661.0, 2664.0, 2667.0, 2670.0, 2673.0, 2676.0, 2679.0, 2682.0, 2685.0, 2688.0, 2691.0, 2694.0, 2697.0, 2700.0, 2703.0, 2706.0, 2709.0, 2712.0, 2715.0, 2718.0, 2721.0, 2724.0, 2727.0, 2730.0, 2733.0, 2736.0, 2739.0, 2742.0, 2745.0, 2748.0, 2751.0, 2754.0, 2757.0, 2760.0, 2763.0, 2766.0, 2769.0, 2772.0, 2775.0, 2778.0, 2781.0, 2784.0, 2787.0, 2790.0, 2793.0, 2796.0, 2799.0, 2802.0, 2805.0, 2808.0, 2811.0, 2814.0, 2817.0, 2820.0, 2823.0, 2826.0, 2829.0, 2832.0, 2835.0, 2838.0, 2841.0, 2844.0, 2847.0, 2850.0, 2853.0, 2856.0, 2859.0, 2862.0, 2865.0, 2868.0, 2871.0, 2874.0, 2877.0, 2880.0, 2883.0, 2886.0, 2889.0, 2892.0, 2895.0, 2898.0, 2901.0, 2904.0, 2907.0, 2910.0, 2913.0, 2916.0, 2919.0, 2922.0, 2925.0, 2928.0, 2931.0, 2934.0, 2937.0, 2940.0, 2943.0, 2946.0, 2949.0, 2952.0, 2955.0, 2958.0, 2961.0, 2964.0, 2967.0, 2970.0, 2973.0, 2976.0, 2979.0, 2982.0, 2985.0, 2988.0, 2991.0, 2994.0, 2997.0, 3000.0], \"y\": [0.0, 1.884843908898981e-10, 3.7690180914695346e-10, 5.6518531033135e-10, 7.532679982116512e-10, 9.410830479044316e-10, 1.1285637296168385e-09, 1.315643432355372e-09, 1.5022556875924509e-09, 1.688334192882366e-09, 1.8738128354182226e-09, 2.0586257155215076e-09, 2.242707170055927e-09, 2.4259917957572123e-09, 2.6084144724705825e-09, 2.7899103862876294e-09, 2.970415052574387e-09, 3.149864338882419e-09, 3.32819448773477e-09, 3.5053421392786913e-09, 3.6812443537971008e-09, 3.8558386340707585e-09, 4.029062947583236e-09, 4.200855748560769e-09, 4.371155999839182e-09, 4.539903194550102e-09, 4.707037377618758e-09, 4.8724991670657345e-09, 5.036229775105108e-09, 5.198171029031462e-09, 5.358265391888385e-09, 5.516455982911056e-09, 5.672686597735732e-09, 5.826901728368876e-09, 5.979046582908885e-09, 6.129067105013401e-09, 6.2769099931052585e-09, 6.422522719310291e-09, 6.56585354812023e-09, 6.706851554774085e-09, 6.845466643351473e-09, 6.981649564571455e-09, 7.11535193329057e-09, 7.246526245693853e-09, 7.375125896172712e-09, 7.50110519388367e-09, 7.624419378982122e-09, 7.745024638525269e-09, 7.862878122038679e-09, 7.977937956740833e-09, 8.090163262420329e-09, 8.199514165960434e-09, 8.30595181550581e-09, 8.409438394266388e-09, 8.509937133953499e-09, 8.607412327843467e-09, 8.701829343464044e-09, 8.793154634899158e-09, 8.881355754707618e-09, 8.966401365451537e-09, 9.048261250830374e-09, 9.126906326416636e-09, 9.202308649989447e-09, 9.27444143146228e-09, 9.343279042401345e-09, 9.408797025131257e-09, 9.470972101424723e-09, 9.529782180773184e-09, 9.585206368235488e-09, 9.637224971861732e-09, 9.685819509689746e-09, 9.730972716311624e-09, 9.772668549008059e-09, 9.81089219344823e-09, 9.845630068953277e-09, 9.876869833321444e-09, 9.904600387213197e-09, 9.928811878094787e-09, 9.949495703738785e-09, 9.96664451528043e-09, 9.980252219828641e-09, 9.990313982630782e-09, 9.996826228790442e-09, 9.99978664453757e-09, 9.999194178050547e-09, 9.995049039829897e-09, 9.987352702623486e-09, 9.976107900903285e-09, 9.961318629893799e-09, 9.942990144152594e-09, 9.921128955703384e-09, 9.895742831722329e-09, 9.866840791778403e-09, 9.834433104628777e-09, 9.79853128457038e-09, 9.75914808734893e-09, 9.716297505626874e-09, 9.66999476401186e-09, 9.620256313647502e-09, 9.567099826368388e-09, 9.510544188421333e-09, 9.450609493755201e-09, 9.387317036881624e-09, 9.320689305309158e-09, 9.25074997155357e-09, 9.177523884727122e-09, 9.101037061709786e-09, 9.021316677905583e-09, 8.938391057587281e-09, 8.852289663832916e-09, 8.76304308805771e-09, 8.670683039145075e-09, 8.57524233218061e-09, 8.476754876793046e-09, 8.375255665106322e-09, 8.27078075930705e-09, 8.163367278831794e-09, 8.053053387178704e-09, 7.939878278348208e-09, 7.823882162917584e-09, 7.70510625375431e-09, 7.583592751373347e-09, 7.459384828943494e-09, 7.332526616948155e-09, 7.20306318750601e-09, 7.071040538357073e-09, 6.936505576519953e-09, 6.7995061016259875e-09, 6.660090788936263e-09, 6.518309172047537e-09, 6.3742116252931865e-09, 6.227849345845428e-09, 6.07927433552523e-09, 5.928539382326308e-09, 5.775698041659784e-09, 5.62080461732623e-09, 5.463914142221764e-09, 5.305082358785143e-09, 5.144365699192726e-09, 4.98182126530839e-09, 4.817506808395523e-09, 4.651480708598268e-09, 4.483801954199322e-09, 4.3145301206617045e-09, 4.143725349461869e-09, 3.971448326721708e-09, 3.797760261647087e-09, 3.6227228647804955e-09, 3.4463983260755717e-09, 3.2688492928013347e-09, 3.0901388472838787e-09, 2.9103304844935498e-09, 2.7294880894854732e-09, 2.547675914701484e-09, 2.364958557141568e-09, 2.18140093541284e-09, 1.9970682666642614e-09, 1.8120260434153201e-09, 1.6263400102868415e-09, 1.4400761406422218e-09, 1.2533006131474372e-09, 1.0660797882580439e-09, 8.784801846416563e-10, 6.90568455544166e-10, 5.02411365108149e-10, 3.140757646519097e-10, 1.256285689175126e-10, -6.286326770371997e-11, -2.5133277495975793e-10, -4.3971299053208833e-10, -6.279369838271215e-10, -8.159378797562859e-10, -1.0036488824964416e-09, -1.1910032992221317e-09, -1.3779345638011952e-09, -1.5643762604454297e-09, -1.7502621473077783e-09, -1.9355261800177507e-09, -2.1201025351466914e-09, -2.303925633594499e-09, -2.486930163889587e-09, -2.6690511053937473e-09, -2.8502237514036486e-09, -3.0303837321408356e-09, -3.209467037622012e-09, -3.3874100404014624e-09, -3.564149518177592e-09, -3.73962267625552e-09, -3.91376716985771e-09, -4.086521126274803e-09, -4.257823166848668e-09, -4.4276124287799574e-09, -4.595828586752388e-09, -4.762411874366009e-09, -4.927303105371935e-09, -5.090443694700943e-09, -5.251775679278455e-09, -5.411241738618546e-09, -5.568785215189659e-09, -5.724350134544723e-09, -5.877881225208635e-09, -6.029323938315937e-09, -6.178624466991771e-09, -6.325729765469218e-09, -6.4705875679361805e-09, -6.6131464071052e-09, -6.753355632499535e-09, -6.891165428449023e-09, -7.026526831789358e-09, -7.159391749258475e-09, -7.28971297458385e-09, -7.4174442052546595e-09, -7.542540058972858e-09, -7.664956089777276e-09, -7.784648803835071e-09, -7.901575674894862e-09, -8.015695159396123e-09, -8.126966711229412e-09, -8.235350796142185e-09, -8.340808905785163e-09, -8.443303571394131e-09, -8.542798377102454e-09, -8.639257972879406e-09, -8.732648087089922e-09, -8.8229355386711e-09, -8.910088248921316e-09, -8.994075252897595e-09, -9.074866710417351e-09, -9.152433916660416e-09, -9.226749312367765e-09, -9.297786493633154e-09, -9.365520221284338e-09, -9.429926429850403e-09, -9.490982236112126e-09, -9.54866594723226e-09, -9.602957068462917e-09, -9.653836310427234e-09, -9.701285595972807e-09, -9.745288066594423e-09, -9.785828088423788e-09, -9.822891257784182e-09, -9.856464406308013e-09, -9.886535605615471e-09, -9.913094171552631e-09, -9.936130667987477e-09, -9.955636910162518e-09, -9.971605967602785e-09, -9.984032166578213e-09, -9.992911092119472e-09, -9.998239589586597e-09, -1.0000015765789807e-08, -9.998238989662156e-09, -9.99290989248374e-09, -9.984030367657415e-09, -9.97160357003607e-09, -9.955633914801724e-09, -9.93612707589684e-09, -9.913089984008401e-09, -9.886530824105458e-09, -9.856459032531061e-09, -9.822885293649565e-09, -9.785821536050528e-09, -9.745280928310543e-09, -9.701277874314498e-09, -9.653828008137956e-09, -9.602948188492432e-09, -9.54865649273557e-09, -9.490972210448358e-09, -9.429915836581623e-09, -9.365509064174268e-09, -9.29777477664586e-09, -9.22673703966622e-09, -9.15242109260505e-09, -9.07485333956447e-09, -8.994061339997795e-09, -8.91007379891776e-09, -8.822920556697811e-09, -8.732632578469898e-09, -8.63924194312278e-09, -8.542781831904496e-09, -8.44328651663327e-09, -8.340791347520843e-09, -8.235332740612776e-09, -8.126948164849928e-09, -8.015676128755999e-09, -7.901556166755564e-09, -7.784628825127738e-09, -7.664935647600233e-09, -7.542519160589091e-09, -7.417422858089241e-09, -7.289691186221309e-09, -7.159369527440092e-09, -7.0265041844104204e-09, -6.891142363556016e-09, -6.753332158287286e-09, -6.613122531913956e-09, -6.470563300248663e-09, -6.325705113907595e-09, -6.178599440314616e-09, -6.029298545415066e-09, -5.87785547510601e-09, -5.724324036389201e-09, -5.56875877825377e-09, -5.411214972295176e-09, -5.2517485930775345e-09, -5.090416298246034e-09, -4.927275408396845e-09, -4.762383886711304e-09, -4.59580031836193e-09, -4.42758388969734e-09, -4.257794367213659e-09, -4.086492076319743e-09, -3.913737879903885e-09, -3.739593156709467e-09, -3.5641197795274463e-09, -3.387380093213188e-09, -3.2094368925356742e-09, -3.030353399866798e-09, -2.8501932427187946e-09, -2.6690204311376285e-09, -2.486899334960603e-09, -2.3038946609459642e-09, -2.120071429783017e-09, -1.9354949529904802e-09, -1.7502308097116926e-09, -1.5643448234145858e-09, -1.3779030385049997e-09, -1.1909716968613128e-09, -1.0036172142991414e-09, -8.159061569740112e-10, -6.279052177307991e-10, -4.396811924080118e-10, -2.5130095610562177e-10, -6.283143942455673e-11, 1.2566039531329991e-10, 3.1410757785661e-10, 5.024431538187119e-10, 6.906002084662573e-10, 8.785118904936625e-10, 1.0661114357750757e-09, 1.2533321910853185e-09, 1.4401076377815208e-09, 1.626371415436807e-09, 1.8120573454179027e-09, 1.997099454398051e-09, 2.1814319977970404e-09, 2.364989483139905e-09, 2.5477066933261516e-09, 2.7295187098010032e-09, 2.9103609356207614e-09, 3.090169118403668e-09, 3.268879373158577e-09, 3.446428204982905e-09, 3.622752531622143e-09, 3.7977897058826e-09, 3.971477537889755e-09, 4.143754317183907e-09, 4.314558834645704e-09, 4.483830404243383e-09, 4.651508884594281e-09, 4.817534700332751e-09, 4.981848863277019e-09, 5.144392993387377e-09, 5.305109339508386e-09, 5.4639407998875244e-09, 5.620830942463223e-09, 5.775724024914874e-09, 5.9285650144678314e-09, 6.0792996074462656e-09, 6.2278742485670445e-09, 6.37423614996762e-09, 6.51833330996135e-09, 6.660114531513428e-09, 6.799529440430949e-09, 6.936528503260602e-09, 7.071063044887714e-09, 7.20308526583023e-09, 7.332548259221712e-09, 7.459406027477047e-09, 7.583613498635226e-09, 7.705126542373173e-09, 7.823901985685052e-09, 7.939897628221403e-09, 8.053072257282783e-09, 8.163385662462364e-09, 8.270798649932566e-09, 8.375273056370392e-09, 8.476771762516706e-09, 8.575258706364513e-09, 8.670698895971626e-09, 8.763058421893118e-09, 8.85230446922922e-09, 8.938405329284259e-09, 9.021330410832643e-09, 9.101050250987755e-09, 9.177536525669988e-09, 9.250762059670139e-09, 9.320700836304653e-09, 9.38732800665921e-09, 9.450619898417444e-09, 9.510554024271579e-09, 9.567109089912088e-09, 9.620265001593439e-09, 9.67000287327332e-09, 9.716305033322753e-09, 9.759155030804755e-09, 9.79853764131925e-09, 9.834438872412248e-09, 9.86684596854729e-09, 9.895747415637431e-09, 9.921132945136135e-09, 9.94299353768565e-09, 9.961321426321536e-09, 9.976110099232229e-09, 9.98735430207266e-09, 9.995050039831108e-09, 9.999194578248584e-09, 9.999786444790328e-09, 9.996825429168975e-09, 9.990312583419276e-09, 9.980250221524316e-09, 9.966641918593358e-09, 9.949492509591644e-09, 9.928808087622527e-09, 9.904596001762648e-09, 9.876864854450818e-09, 9.845624498431636e-09, 9.810886033254839e-09, 9.772661801331695e-09, 9.730965383549796e-09, 9.685811594447839e-09, 9.637216476952086e-09, 9.585197296676396e-09, 9.529772535787817e-09, 9.470961886439987e-09, 9.408786243776591e-09, 9.3432676985074e-09, 9.27442952905958e-09, 9.202296193306953e-09, 9.12689331988025e-09, 9.048247699061352e-09, 8.966387273264851e-09, 8.881341127110247e-09, 8.793139477088326e-09, 8.701813660825336e-09, 8.607396125948948e-09, 8.509920418559724e-09, 8.409421171312364e-09, 8.305934091110861e-09, 8.199495946422053e-09, 8.09014455421193e-09, 7.97791876650948e-09, 7.862858456602648e-09, 7.745004504871697e-09, 7.624398784264501e-09, 7.501084145419324e-09, 7.3751044014401505e-09, 7.246504312330157e-09, 7.115329569088661e-09, 6.981626777477346e-09, 6.845443441461405e-09, 6.706827946331685e-09, 6.565829541513582e-09, 6.4224983230689386e-09, 6.276885215897163e-09, 6.1290419556418945e-09, 5.979021070309528e-09, 5.826875861606296e-09, 5.672660386000364e-09, 5.5164294355159144e-09, 5.358238518265742e-09, 5.198143838729518e-09, 5.036202277784539e-09, 4.872471372496323e-09, 4.707009295675909e-09, 4.539874835211311e-09, 4.371127373180484e-09, 4.200826864753193e-09, 4.029033816889178e-09, 3.855809266840347e-09, 3.68121476046447e-09, 3.505312330358329e-09, 3.328164473817759e-09, 3.149834130632697e-09, 2.970384660724901e-09, 2.789879821636594e-09, 2.608383745877576e-09, 2.4259609181393823e-09, 2.2426761523840466e-09, 2.058594568816128e-09, 1.8737815707457417e-09, 1.6883028213511108e-09, 1.5022242203486818e-09, 1.3156118805793733e-09, 1.128532104518929e-09, 9.410513607209984e-10, 7.532362602011243e-10, 5.651535327701997e-10, 3.768700033257208e-10, 1.884525681091831e-10, -3.182906188814249e-14, -1.8851622057865073e-10, -3.7693363883428915e-10, -5.652171400172512e-10, -7.532998278961355e-10, -9.411148775874989e-10, -1.128595559298489e-09, -1.3156752620355702e-09, -1.5022875172712322e-09, -1.6883660225597306e-09, -1.87384466509417e-09, -2.0586575451960204e-09, -2.242738999729024e-09, -2.4260236254288917e-09, -2.6084463021408444e-09, -2.789942215956457e-09, -2.970446882241797e-09, -3.1498961685484123e-09, -3.328226317399329e-09, -3.505373968941817e-09, -3.6812761834588093e-09, -3.85587046373105e-09, -4.0290947772421095e-09, -4.200887578218209e-09, -4.371187829495205e-09, -4.539935024204707e-09, -4.707069207271946e-09, -4.8725309967174895e-09, -5.036261604755444e-09, -5.198202858680368e-09, -5.358297221535871e-09, -5.51648781255711e-09, -5.672718427380368e-09, -5.826933558012093e-09, -5.979078412550685e-09, -6.129098934653768e-09, -6.276941822744209e-09, -6.422554548947822e-09, -6.565885377756343e-09, -6.7068833844087664e-09, -6.845498472984724e-09, -6.981681394203286e-09, -7.115383762920982e-09, -7.246558075322835e-09, -7.375157725800274e-09, -7.501137023509814e-09, -7.624451208606845e-09, -7.745056468148563e-09, -7.862909951660556e-09, -7.97796978636129e-09, -8.090195092039365e-09, -8.199545995578031e-09, -8.30598364512199e-09, -8.409470223881148e-09, -8.509968963566836e-09, -8.607444157455378e-09, -8.701861173074533e-09, -8.793186464508227e-09, -8.881387584315267e-09, -8.966433195057758e-09, -9.048293080435174e-09, -9.126938156020016e-09, -9.202340479591407e-09, -9.274473261062806e-09, -9.34331087200045e-09, -9.408828854728941e-09, -9.471003931020984e-09, -9.529814010368021e-09, -9.585238197828903e-09, -9.637256801453728e-09, -9.68585133928032e-09, -9.731004545900771e-09, -9.772700378595785e-09, -9.810924023034535e-09, -9.845661898538156e-09, -9.876901662904897e-09, -9.90463221679523e-09, -9.928843707675396e-09, -9.949527533317973e-09, -9.966676344858195e-09, -9.980284049404982e-09, -9.9903458122057e-09, -9.996858058363938e-09, -9.999818474109642e-09, -9.999226007621197e-09, -9.995080869399122e-09, -9.98738453219129e-09, -9.976139730469667e-09, -9.961350459458756e-09, -9.94302197371613e-09, -9.921160785265496e-09, -9.89577466128302e-09, -9.866872621337669e-09, -9.834464934186619e-09, -9.798563114126798e-09, -9.75917991690393e-09, -9.716329335180453e-09, -9.670026593564014e-09, -9.620288143198232e-09, -9.567131655917697e-09, -9.510576017969215e-09, -9.450641323301663e-09, -9.387348866426662e-09, -9.320721134852774e-09, -9.25078180109576e-09, -9.177555714267888e-09, -9.101068891249128e-09, -9.021348507443514e-09, -8.938422887123785e-09, -8.852321493367995e-09, -8.763074917591362e-09, -8.670714868677311e-09, -8.57527416171142e-09, -8.47678670632243e-09, -8.375287494634279e-09, -8.270812588833593e-09, -8.16339910835691e-09, -8.053085216702391e-09, -7.939910107870483e-09, -7.823913992438441e-09, -7.70513808327374e-09, -7.583624580891352e-09, -7.459416658460071e-09, -7.332558446463319e-09, -7.203095017019743e-09, -7.071072367869381e-09, -6.936537406030833e-09, -6.799537931135452e-09, -6.6601226184443e-09, -6.5183410015541636e-09, -6.3742434547983825e-09, -6.227881175349211e-09, -6.079306165027588e-09, -5.928571211827235e-09, -5.775729871159283e-09, -5.620836446824316e-09, -5.463945971718424e-09, -5.3051141882803746e-09, -5.1443975286865275e-09, -4.98185309480078e-09, -4.8175386378865015e-09, -4.651512538087816e-09, -4.483833783687443e-09, -4.3145619501484155e-09, -4.143757178947149e-09, -3.971480156205561e-09, -3.797792091129513e-09, -3.6227546942615073e-09, -3.446430155555156e-09, -3.268881122279488e-09, -3.090170676760605e-09, -2.9103623139688655e-09, -2.729519918959375e-09, -2.5477077441739587e-09, -2.364990386612615e-09, -2.181432764882473e-09, -1.997100096132467e-09, -1.8120578728820983e-09, -1.6263718397521884e-09, -1.4401079701061589e-09, -1.2533324426099424e-09, -1.0661116177191218e-09, -8.785120141013068e-10, -6.906002850024201e-10, -5.024431945649758e-10, -3.1410759410730917e-10, -1.2566039837148034e-10, 6.283143825116178e-11, 2.513009455086271e-10, 4.396811610823892e-10, 6.279051543788498e-10, 8.159060503094237e-10, 1.0036170530510114e-09, 1.1909714697781287e-09, 1.3779027343586057e-09, 1.5643444310042503e-09, 1.750230317868026e-09, 1.93549435057943e-09, 2.120070705709798e-09, 2.3038938041590153e-09, 2.486898334455535e-09, 2.6690192759611224e-09, 2.8501919219724514e-09, 3.0303519027110515e-09, 3.209435208193655e-09, 3.387378210974516e-09, 3.5641176887520774e-09, 3.739590846831416e-09, 3.913735340435038e-09, 4.086489296853557e-09, 4.257791337428848e-09, 4.427580599361553e-09, 4.595796757335411e-09, 4.76238004495046e-09, 4.927271275957815e-09, 5.0904118652882335e-09, 5.251743849867157e-09, 5.411209909208681e-09, 5.56875338578122e-09, 5.7243183051376984e-09, 5.877849395803038e-09, 6.029292108911766e-09, 6.1785926375890295e-09, 6.325697936067888e-09, 6.470555738536279e-09, 6.6131145777067285e-09, 6.753323803102489e-09, 6.891133599053377e-09, 7.02649500239514e-09, 7.159359919865685e-09, 7.289681145192485e-09, 7.4174123758647105e-09, 7.542508229584337e-09, 7.66492426039018e-09, 7.7846169744494e-09, 7.901543845510609e-09, 8.015663330013298e-09, 8.126934881848009e-09, 8.235318966762199e-09, 8.340777076406594e-09, 8.443271742016992e-09, 8.542766547726739e-09, 8.639226143505119e-09, 8.732616257717048e-09, 8.822903709299654e-09, 8.910056419551292e-09, 8.994043423529e-09, 9.074834881050173e-09, 9.152402087294665e-09, 9.226717483003435e-09, 9.297754664270244e-09, 9.365488391922848e-09, 9.429894600490338e-09, 9.490950406753484e-09, 9.548634117875043e-09, 9.602925239107118e-09, 9.65380448107286e-09, 9.70125376661986e-09, 9.745256237242898e-09, 9.785796259073684e-09, 9.822859428435503e-09, 9.856432576960755e-09, 9.886503776269636e-09, 9.913062342208218e-09, 9.936098838644487e-09, 9.955605080820952e-09, 9.971574138262644e-09, 9.984000337239493e-09, 9.992879262782175e-09, 9.998207760250724e-09, 9.999983936455357e-09, 9.998207160329129e-09, 9.992878063152138e-09, 9.983998538327233e-09, 9.97157174070731e-09, 9.955602085474388e-09, 9.93609524657093e-09, 9.91305815468391e-09, 9.88649899478239e-09, 9.856427203209417e-09, 9.822853464329343e-09, 9.785789706731728e-09, 9.745249098993165e-09, 9.701246044998552e-09, 9.65379617882343e-09, 9.602916359179325e-09, 9.548624663423884e-09, 9.4909403811381e-09, 9.429884007272786e-09, 9.365477234866855e-09, 9.297742947339865e-09, 9.226705210361652e-09, 9.152389263301902e-09, 9.074821510262743e-09, 8.994029510697496e-09, 8.910041969618892e-09, 8.822888727400356e-09, 8.732600749173865e-09, 8.639210113828167e-09, 8.542750002611315e-09, 8.443254687341506e-09, 8.340759518230504e-09, 8.23530091132385e-09, 8.126916335562435e-09, 8.015644299469924e-09, 7.901524337470922e-09, 7.784596995844515e-09, 7.664903818318438e-09, 7.542487331308714e-09, 7.417391028810285e-09, 7.289659356943769e-09, 7.159337698163987e-09, 7.026472355135734e-09, 6.891110534282746e-09, 6.753300329015433e-09, 6.613090702643538e-09, 6.470531470979676e-09, 6.325673284640029e-09, 6.17856761104846e-09, 6.029266716150346e-09, 5.8778236458427075e-09, 5.724292207127321e-09, 5.568726948993305e-09, 5.4111831430361485e-09, 5.251716763819916e-09, 5.0903844689898365e-09, 4.927243579142064e-09, 4.762352057457977e-09, 4.595768489110017e-09, 4.427552060446843e-09, 4.257762537964577e-09, 4.0864602470720996e-09, 3.913706050657657e-09, 3.739561327464662e-09, 3.564087950284055e-09, 3.3873482639712284e-09, 3.209405063295129e-09, 3.0303215706276755e-09, 2.8501614134810865e-09, 2.6689886019013775e-09, 2.486867505725757e-09, 2.3038628317125417e-09, 2.120039600551009e-09, 1.9354631237599124e-09, 1.7501989804825385e-09, 1.5643129941868547e-09, 1.377871209278674e-09, 1.1909398676364274e-09, 1.00358538507567e-09, 8.158743277519627e-10, 6.278733885101825e-10, 4.396493631888358e-10, 2.5126912688785087e-10, 6.279961020820877e-11, -1.256922245282339e-10, -3.141394070701034e-10, -5.024749830307912e-10, -6.906320376769227e-10, -8.785437197029139e-10, -1.0661432649828864e-09, -1.2533640202917154e-09, -1.4401394669864769e-09, -1.6264032446403493e-09, -1.8120891746200133e-09, -1.9971312835987477e-09, -2.1814638269963144e-09, -2.3650213123377646e-09, -2.5477385225225706e-09, -2.7295505389960164e-09, -2.910392764814335e-09, -3.090200947595844e-09, -3.268911202349313e-09, -3.4464600341722097e-09, -3.6227843608100085e-09, -3.797821535069076e-09, -3.971509367074792e-09, -4.143786146367545e-09, -4.314590663827903e-09, -4.4838622334241514e-09, -4.651540713773651e-09, -4.817566529510689e-09, -4.981880692453518e-09, -5.144424822562477e-09, -5.305141168682047e-09, -5.463972629059755e-09, -5.620862771634024e-09, -5.775755854084274e-09, -5.928596843635795e-09, -6.079331436612826e-09, -6.227906077732168e-09, -6.374267979131313e-09, -6.518365139123616e-09, -6.660146360674291e-09, -6.7995612695903745e-09, -6.936560332418625e-09, -7.071094874044303e-09, -7.20311709498542e-09, -7.332580088375444e-09, -7.459437856629372e-09, -7.583645327786118e-09, -7.705158371522636e-09, -7.823933814833104e-09, -7.939929457368032e-09, -8.053104086428e-09, -8.163417491606152e-09, -8.270830479074922e-09, -8.375304885511321e-09, -8.476803591656227e-09, -8.575290535502604e-09, -8.670730725108304e-09, -8.763090251028368e-09, -8.85233629836304e-09, -8.938437158416669e-09, -9.02136223996361e-09, -9.10108208011731e-09, -9.177568354798113e-09, -9.250793888796851e-09, -9.320732665429936e-09, -9.387359835783081e-09, -9.450651727539888e-09, -9.510585853392608e-09, -9.56714091903168e-09, -9.620296830711603e-09, -9.670034702390068e-09, -9.71633686243808e-09, -9.759186859918662e-09, -9.79856947043173e-09, -9.834470701523311e-09, -9.866877797656927e-09, -9.895779244745643e-09, -9.921164774242924e-09, -9.943025366791018e-09, -9.96135325542548e-09, -9.976141928334748e-09, -9.98738613117376e-09, -9.995081868930781e-09, -9.999226407346838e-09, -9.999818273887159e-09, -9.996857258264383e-09, -9.990344412513262e-09, -9.980282050616877e-09, -9.966673747684497e-09, -9.949524338681358e-09, -9.92883991671082e-09, -9.90462783084952e-09, -9.876896683536268e-09, -9.845656327515666e-09, -9.810917862337442e-09, -9.772693630412876e-09, -9.73099721262955e-09, -9.685843423526173e-09, -9.63724830602899e-09, -9.585229125751878e-09, -9.529804364861881e-09, -9.470993715512635e-09, -9.408818072847818e-09, -9.343299527577198e-09, -9.274461358127961e-09, -9.202328022373904e-09, -9.126925148945778e-09, -9.048279528125444e-09, -8.966419102327543e-09, -8.881372956171508e-09, -8.793171306148162e-09, -8.701845489883743e-09, -8.607427955005939e-09, -8.50995224761528e-09, -8.4094530003665e-09, -8.305965920163584e-09, -8.199527775473364e-09, -8.09017638326183e-09, -7.977950595557922e-09, -7.862890285649679e-09, -7.745036333917294e-09, -7.624430613308688e-09, -7.501115974462065e-09, -7.375136230481478e-09, -7.246536141370074e-09, -7.1153613981271685e-09, -6.9816586065144316e-09, -6.845475270497055e-09, -6.706859775365925e-09, -6.5658613705463735e-09, -6.4225301521003065e-09, -6.276917044927094e-09, -6.129073784670445e-09, -5.979052899336641e-09, -5.826907690631986e-09, -5.6726922150246175e-09, -5.516461264538759e-09, -5.3582703472871785e-09, -5.198175667749501e-09, -5.036234106803116e-09, -4.872503201513492e-09, -4.707041124691655e-09, -4.539906664225602e-09, -4.371159202193367e-09, -4.2008586937646384e-09, -4.029065645899216e-09, -3.855841095848929e-09, -3.681246589471646e-09, -3.505344159364132e-09, -3.3281963028221225e-09, -3.1498659596356375e-09, -2.970416489726402e-09, -2.7899116506366727e-09, -2.608415574876214e-09, -2.425992747136598e-09, -2.242707981379822e-09, -2.0586263978105324e-09, -1.873813399738706e-09, -1.688334650342652e-09, -1.5022560493388181e-09, -1.315643709568069e-09, -1.1285639335062197e-09, -9.410831897068308e-10, -7.532680891855338e-10, -5.65185361753204e-10, -3.7690183230732007e-10, -1.8848439708932398e-10, 8.315237611270716e-20]}],\n",
       "                        {\"legend\": {\"bgcolor\": \"#FFFFFF\", \"font\": {\"color\": \"#4D5663\"}}, \"paper_bgcolor\": \"#FFFFFF\", \"plot_bgcolor\": \"#FFFFFF\", \"template\": {\"data\": {\"bar\": [{\"error_x\": {\"color\": \"#2a3f5f\"}, \"error_y\": {\"color\": \"#2a3f5f\"}, \"marker\": {\"line\": {\"color\": \"#E5ECF6\", \"width\": 0.5}}, \"type\": \"bar\"}], \"barpolar\": [{\"marker\": {\"line\": {\"color\": \"#E5ECF6\", \"width\": 0.5}}, \"type\": \"barpolar\"}], \"carpet\": [{\"aaxis\": {\"endlinecolor\": \"#2a3f5f\", \"gridcolor\": \"white\", \"linecolor\": \"white\", \"minorgridcolor\": \"white\", \"startlinecolor\": \"#2a3f5f\"}, \"baxis\": {\"endlinecolor\": \"#2a3f5f\", \"gridcolor\": \"white\", \"linecolor\": \"white\", \"minorgridcolor\": \"white\", \"startlinecolor\": \"#2a3f5f\"}, \"type\": \"carpet\"}], \"choropleth\": [{\"colorbar\": {\"outlinewidth\": 0, \"ticks\": \"\"}, \"type\": \"choropleth\"}], \"contour\": [{\"colorbar\": {\"outlinewidth\": 0, \"ticks\": \"\"}, \"colorscale\": [[0.0, \"#0d0887\"], [0.1111111111111111, \"#46039f\"], [0.2222222222222222, \"#7201a8\"], [0.3333333333333333, \"#9c179e\"], [0.4444444444444444, \"#bd3786\"], [0.5555555555555556, \"#d8576b\"], [0.6666666666666666, \"#ed7953\"], [0.7777777777777778, \"#fb9f3a\"], [0.8888888888888888, \"#fdca26\"], [1.0, \"#f0f921\"]], \"type\": \"contour\"}], \"contourcarpet\": [{\"colorbar\": {\"outlinewidth\": 0, \"ticks\": \"\"}, \"type\": \"contourcarpet\"}], \"heatmap\": [{\"colorbar\": {\"outlinewidth\": 0, \"ticks\": \"\"}, \"colorscale\": [[0.0, \"#0d0887\"], [0.1111111111111111, \"#46039f\"], [0.2222222222222222, \"#7201a8\"], [0.3333333333333333, \"#9c179e\"], [0.4444444444444444, \"#bd3786\"], [0.5555555555555556, \"#d8576b\"], [0.6666666666666666, \"#ed7953\"], [0.7777777777777778, \"#fb9f3a\"], [0.8888888888888888, \"#fdca26\"], [1.0, \"#f0f921\"]], \"type\": \"heatmap\"}], \"heatmapgl\": [{\"colorbar\": {\"outlinewidth\": 0, \"ticks\": \"\"}, \"colorscale\": [[0.0, \"#0d0887\"], [0.1111111111111111, \"#46039f\"], [0.2222222222222222, \"#7201a8\"], [0.3333333333333333, \"#9c179e\"], [0.4444444444444444, \"#bd3786\"], [0.5555555555555556, \"#d8576b\"], [0.6666666666666666, \"#ed7953\"], [0.7777777777777778, \"#fb9f3a\"], [0.8888888888888888, \"#fdca26\"], [1.0, \"#f0f921\"]], \"type\": \"heatmapgl\"}], \"histogram\": [{\"marker\": {\"colorbar\": {\"outlinewidth\": 0, \"ticks\": \"\"}}, \"type\": \"histogram\"}], \"histogram2d\": [{\"colorbar\": {\"outlinewidth\": 0, \"ticks\": \"\"}, \"colorscale\": [[0.0, \"#0d0887\"], [0.1111111111111111, \"#46039f\"], [0.2222222222222222, \"#7201a8\"], [0.3333333333333333, \"#9c179e\"], [0.4444444444444444, \"#bd3786\"], [0.5555555555555556, \"#d8576b\"], [0.6666666666666666, \"#ed7953\"], [0.7777777777777778, \"#fb9f3a\"], [0.8888888888888888, \"#fdca26\"], [1.0, \"#f0f921\"]], \"type\": \"histogram2d\"}], \"histogram2dcontour\": [{\"colorbar\": {\"outlinewidth\": 0, \"ticks\": \"\"}, \"colorscale\": [[0.0, \"#0d0887\"], [0.1111111111111111, \"#46039f\"], [0.2222222222222222, \"#7201a8\"], [0.3333333333333333, \"#9c179e\"], [0.4444444444444444, \"#bd3786\"], [0.5555555555555556, \"#d8576b\"], [0.6666666666666666, \"#ed7953\"], [0.7777777777777778, \"#fb9f3a\"], [0.8888888888888888, \"#fdca26\"], [1.0, \"#f0f921\"]], \"type\": \"histogram2dcontour\"}], \"mesh3d\": [{\"colorbar\": {\"outlinewidth\": 0, \"ticks\": \"\"}, \"type\": \"mesh3d\"}], \"parcoords\": [{\"line\": {\"colorbar\": {\"outlinewidth\": 0, \"ticks\": \"\"}}, \"type\": \"parcoords\"}], \"scatter\": [{\"marker\": {\"colorbar\": {\"outlinewidth\": 0, \"ticks\": \"\"}}, \"type\": \"scatter\"}], \"scatter3d\": [{\"line\": {\"colorbar\": {\"outlinewidth\": 0, \"ticks\": \"\"}}, \"marker\": {\"colorbar\": {\"outlinewidth\": 0, \"ticks\": \"\"}}, \"type\": \"scatter3d\"}], \"scattercarpet\": [{\"marker\": {\"colorbar\": {\"outlinewidth\": 0, \"ticks\": \"\"}}, \"type\": \"scattercarpet\"}], \"scattergeo\": [{\"marker\": {\"colorbar\": {\"outlinewidth\": 0, \"ticks\": \"\"}}, \"type\": \"scattergeo\"}], \"scattergl\": [{\"marker\": {\"colorbar\": {\"outlinewidth\": 0, \"ticks\": \"\"}}, \"type\": \"scattergl\"}], \"scattermapbox\": [{\"marker\": {\"colorbar\": {\"outlinewidth\": 0, \"ticks\": \"\"}}, \"type\": \"scattermapbox\"}], \"scatterpolar\": [{\"marker\": {\"colorbar\": {\"outlinewidth\": 0, \"ticks\": \"\"}}, \"type\": \"scatterpolar\"}], \"scatterpolargl\": [{\"marker\": {\"colorbar\": {\"outlinewidth\": 0, \"ticks\": \"\"}}, \"type\": \"scatterpolargl\"}], \"scatterternary\": [{\"marker\": {\"colorbar\": {\"outlinewidth\": 0, \"ticks\": \"\"}}, \"type\": \"scatterternary\"}], \"surface\": [{\"colorbar\": {\"outlinewidth\": 0, \"ticks\": \"\"}, \"colorscale\": [[0.0, \"#0d0887\"], [0.1111111111111111, \"#46039f\"], [0.2222222222222222, \"#7201a8\"], [0.3333333333333333, \"#9c179e\"], [0.4444444444444444, \"#bd3786\"], [0.5555555555555556, \"#d8576b\"], [0.6666666666666666, \"#ed7953\"], [0.7777777777777778, \"#fb9f3a\"], [0.8888888888888888, \"#fdca26\"], [1.0, \"#f0f921\"]], \"type\": \"surface\"}], \"table\": [{\"cells\": {\"fill\": {\"color\": \"#EBF0F8\"}, \"line\": {\"color\": \"white\"}}, \"header\": {\"fill\": {\"color\": \"#C8D4E3\"}, \"line\": {\"color\": \"white\"}}, \"type\": \"table\"}]}, \"layout\": {\"annotationdefaults\": {\"arrowcolor\": \"#2a3f5f\", \"arrowhead\": 0, \"arrowwidth\": 1}, \"colorscale\": {\"diverging\": [[0, \"#8e0152\"], [0.1, \"#c51b7d\"], [0.2, \"#de77ae\"], [0.3, \"#f1b6da\"], [0.4, \"#fde0ef\"], [0.5, \"#f7f7f7\"], [0.6, \"#e6f5d0\"], [0.7, \"#b8e186\"], [0.8, \"#7fbc41\"], [0.9, \"#4d9221\"], [1, \"#276419\"]], \"sequential\": [[0.0, \"#0d0887\"], [0.1111111111111111, \"#46039f\"], [0.2222222222222222, \"#7201a8\"], [0.3333333333333333, \"#9c179e\"], [0.4444444444444444, \"#bd3786\"], [0.5555555555555556, \"#d8576b\"], [0.6666666666666666, \"#ed7953\"], [0.7777777777777778, \"#fb9f3a\"], [0.8888888888888888, \"#fdca26\"], [1.0, \"#f0f921\"]], \"sequentialminus\": [[0.0, \"#0d0887\"], [0.1111111111111111, \"#46039f\"], [0.2222222222222222, \"#7201a8\"], [0.3333333333333333, \"#9c179e\"], [0.4444444444444444, \"#bd3786\"], [0.5555555555555556, \"#d8576b\"], [0.6666666666666666, \"#ed7953\"], [0.7777777777777778, \"#fb9f3a\"], [0.8888888888888888, \"#fdca26\"], [1.0, \"#f0f921\"]]}, \"colorway\": [\"#636efa\", \"#EF553B\", \"#00cc96\", \"#ab63fa\", \"#FFA15A\", \"#19d3f3\", \"#FF6692\", \"#B6E880\", \"#FF97FF\", \"#FECB52\"], \"font\": {\"color\": \"#2a3f5f\"}, \"geo\": {\"bgcolor\": \"white\", \"lakecolor\": \"white\", \"landcolor\": \"#E5ECF6\", \"showlakes\": true, \"showland\": true, \"subunitcolor\": \"white\"}, \"hoverlabel\": {\"align\": \"left\"}, \"hovermode\": \"closest\", \"mapbox\": {\"style\": \"light\"}, \"paper_bgcolor\": \"white\", \"plot_bgcolor\": \"#E5ECF6\", \"polar\": {\"angularaxis\": {\"gridcolor\": \"white\", \"linecolor\": \"white\", \"ticks\": \"\"}, \"bgcolor\": \"#E5ECF6\", \"radialaxis\": {\"gridcolor\": \"white\", \"linecolor\": \"white\", \"ticks\": \"\"}}, \"scene\": {\"xaxis\": {\"backgroundcolor\": \"#E5ECF6\", \"gridcolor\": \"white\", \"gridwidth\": 2, \"linecolor\": \"white\", \"showbackground\": true, \"ticks\": \"\", \"zerolinecolor\": \"white\"}, \"yaxis\": {\"backgroundcolor\": \"#E5ECF6\", \"gridcolor\": \"white\", \"gridwidth\": 2, \"linecolor\": \"white\", \"showbackground\": true, \"ticks\": \"\", \"zerolinecolor\": \"white\"}, \"zaxis\": {\"backgroundcolor\": \"#E5ECF6\", \"gridcolor\": \"white\", \"gridwidth\": 2, \"linecolor\": \"white\", \"showbackground\": true, \"ticks\": \"\", \"zerolinecolor\": \"white\"}}, \"shapedefaults\": {\"line\": {\"color\": \"#2a3f5f\"}}, \"ternary\": {\"aaxis\": {\"gridcolor\": \"white\", \"linecolor\": \"white\", \"ticks\": \"\"}, \"baxis\": {\"gridcolor\": \"white\", \"linecolor\": \"white\", \"ticks\": \"\"}, \"bgcolor\": \"#E5ECF6\", \"caxis\": {\"gridcolor\": \"white\", \"linecolor\": \"white\", \"ticks\": \"\"}}, \"title\": {\"x\": 0.05}, \"xaxis\": {\"automargin\": true, \"gridcolor\": \"white\", \"linecolor\": \"white\", \"ticks\": \"\", \"zerolinecolor\": \"white\", \"zerolinewidth\": 2}, \"yaxis\": {\"automargin\": true, \"gridcolor\": \"white\", \"linecolor\": \"white\", \"ticks\": \"\", \"zerolinecolor\": \"white\", \"zerolinewidth\": 2}}}, \"title\": {\"font\": {\"color\": \"#4D5663\"}, \"text\": \"Output\"}, \"xaxis\": {\"gridcolor\": \"#E1E5ED\", \"showgrid\": true, \"tickfont\": {\"color\": \"#4D5663\"}, \"title\": {\"font\": {\"color\": \"#4D5663\"}, \"text\": \"Tout\"}, \"zerolinecolor\": \"#E1E5ED\"}, \"yaxis\": {\"gridcolor\": \"#E1E5ED\", \"showgrid\": true, \"tickfont\": {\"color\": \"#4D5663\"}, \"title\": {\"font\": {\"color\": \"#4D5663\"}, \"text\": \"yout\"}, \"zerolinecolor\": \"#E1E5ED\"}},\n",
       "                        {\"showLink\": true, \"linkText\": \"Export to plot.ly\", \"plotlyServerURL\": \"https://plot.ly\", \"responsive\": true}\n",
       "                    ).then(function(){\n",
       "                            \n",
       "var gd = document.getElementById('6d219852-ba1e-403e-9706-226125304852');\n",
       "var x = new MutationObserver(function (mutations, observer) {{\n",
       "        var display = window.getComputedStyle(gd).display;\n",
       "        if (!display || display === 'none') {{\n",
       "            console.log([gd, 'removed!']);\n",
       "            Plotly.purge(gd);\n",
       "            observer.disconnect();\n",
       "        }}\n",
       "}});\n",
       "\n",
       "// Listen for the removal of the full notebook cells\n",
       "var notebookContainer = gd.closest('#notebook-container');\n",
       "if (notebookContainer) {{\n",
       "    x.observe(notebookContainer, {childList: true});\n",
       "}}\n",
       "\n",
       "// Listen for the clearing of the current output cell\n",
       "var outputEl = gd.closest('.output');\n",
       "if (outputEl) {{\n",
       "    x.observe(outputEl, {childList: true});\n",
       "}}\n",
       "\n",
       "                        })\n",
       "                };\n",
       "                });\n",
       "            </script>\n",
       "        </div>"
      ]
     },
     "metadata": {},
     "output_type": "display_data"
    }
   ],
   "source": [
    "# Система всегда устойчива, так как по критерию Гурвица для a*λ+1=0: Единственный главный минор a > 0\n",
    "w = 0.001\n",
    "T = np.linspace(0, 3.0/w, 1001)\n",
    "S = [sin(t * 2*pi*w) for t in T]\n",
    "Tout, yout, xout = signal.lsim(transfer_func, S, T)\n",
    "\n",
    "df_i = pd.DataFrame(S, index=T)\n",
    "df_i.iplot(mode='lines', xTitle='T', yTitle='S', title='Input')\n",
    "\n",
    "df_o = pd.DataFrame(yout, index=Tout)\n",
    "df_o.iplot(mode='lines', xTitle='Tout', yTitle='yout', title='Output')"
   ]
  },
  {
   "cell_type": "code",
   "execution_count": 12,
   "metadata": {},
   "outputs": [
    {
     "data": {
      "application/vnd.plotly.v1+json": {
       "config": {
        "linkText": "Export to plot.ly",
        "plotlyServerURL": "https://plot.ly",
        "showLink": true
       },
       "data": [
        {
         "line": {
          "color": "rgba(255, 153, 51, 1.0)",
          "dash": "solid",
          "shape": "linear",
          "width": 1.3
         },
         "mode": "lines",
         "name": "0",
         "text": "",
         "type": "scatter",
         "x": [
          1e-10,
          1.5556761439304722e-10,
          2.420128264794383e-10,
          3.7649358067924715e-10,
          5.857020818056674e-10,
          9.111627561154905e-10,
          1.4174741629268078e-09,
          2.205130739903041e-09,
          3.430469286314912e-09,
          5.336699231206302e-09,
          8.302175681319736e-09,
          1.2915496650148827e-08,
          2.009233002565046e-08,
          3.1257158496882355e-08,
          4.8626015800653535e-08,
          7.56463327554629e-08,
          1.1768119524349991e-07,
          1.8307382802953697e-07,
          2.848035868435799e-07,
          4.4306214575838777e-07,
          6.892612104349695e-07,
          1.0722672220103232e-06,
          1.6681005372000591e-06,
          2.5950242113997318e-06,
          4.037017258596549e-06,
          6.2802914418342466e-06,
          9.770099572992246e-06,
          1.5199110829529332e-05,
          2.3644894126454072e-05,
          3.678379771828627e-05,
          5.722367659350208e-05,
          8.902150854450375e-05,
          0.00013848863713938718,
          0.00021544346900318823,
          0.0003351602650938841,
          0.0005214008287999684,
          0.0008111308307896856,
          0.0012618568830660185,
          0.0019630406500402682,
          0.0030538555088334123,
          0.004750810162102793,
          0.007390722033525776,
          0.011497569953977356,
          0.01788649529057435,
          0.02782559402207126,
          0.04328761281083044,
          0.06734150657750801,
          0.10476157527896619,
          0.16297508346206402,
          0.25353644939701064,
          0.39442060594376477,
          0.6135907273413164,
          0.9545484566618327,
          1.4849682622544635,
          2.310129700083158,
          3.593813663804626,
          5.5908101825122225,
          8.697490026177835,
          13.53047774579802,
          21.04904144512013,
          32.74549162877718,
          50.941380148163645,
          79.24828983539153,
          123.28467394420633,
          191.79102616724848,
          298.3647240283334,
          464.1588833612773,
          722.0809018385456,
          1123.3240329780265,
          1747.5284000076829,
          2718.58824273294,
          4229.242874389482,
          6579.3322465756555,
          10235.310218990227,
          15922.827933410874,
          24770.76355991704,
          38535.285937105196,
          59948.42503189397,
          93260.3346883218,
          145082.87784959373,
          225701.9719633917,
          351119.17342151277,
          546227.7217684337,
          849753.4359086438,
          1321941.1484660287,
          2056512.3083486431,
          3199267.1377973845,
          4977023.564332093,
          7742636.826811277,
          12045035.402587786,
          18738174.228603713,
          29150530.628251698,
          45348785.081285544,
          70548023.1071863,
          109749876.549305,
          170735264.74706888,
          265608778.2946673,
          413201240.01153344,
          642807311.7284293,
          1000000000
         ],
         "y": [
          -200.00043427276862,
          -196.16266708280398,
          -192.3257752504278,
          -188.49100013804502,
          -184.6613374894235,
          -180.843987851046,
          -177.0560917912957,
          -173.33751941235806,
          -169.77610873370182,
          -166.54291285830155,
          -163.89312971328843,
          -162.0397996806298,
          -160.96112832845625,
          -160.42320728608016,
          -160.17989583044482,
          -160.0752386836138,
          -160.03124689645978,
          -160.012938522914,
          -160.00535088762487,
          -160.0022117927188,
          -160.00091405205868,
          -160.00037771076703,
          -160.0001560745398,
          -160.00006449087337,
          -160.00002664782497,
          -160.00001101093414,
          -160.00000454973502,
          -160.00000187995676,
          -160.00000077680056,
          -160.00000032097495,
          -160.00000013262724,
          -160.00000005480175,
          -160.00000002264414,
          -160.0000000093566,
          -160.00000000386618,
          -160.00000000159753,
          -160.0000000006601,
          -160.00000000027273,
          -160.0000000001127,
          -160.00000000004658,
          -160.00000000001927,
          -160.00000000000796,
          -160.00000000000327,
          -160.00000000000136,
          -160.00000000000057,
          -160.00000000000023,
          -160.0000000000001,
          -160.00000000000003,
          -160,
          -160,
          -160,
          -160,
          -160,
          -160,
          -160,
          -160,
          -160,
          -160.00000000000003,
          -160.00000000000006,
          -160.00000000000017,
          -160.00000000000045,
          -160.00000000000114,
          -160.00000000000273,
          -160.0000000000066,
          -160.00000000001597,
          -160.00000000003865,
          -160.00000000009356,
          -160.00000000022646,
          -160.000000000548,
          -160.00000000132627,
          -160.00000000320972,
          -160.000000007768,
          -160.00000001879957,
          -160.00000004549736,
          -160.00000011010945,
          -160.00000026647908,
          -160.00000064491346,
          -160.00000156077317,
          -160.00000377727025,
          -160.00000914147293,
          -160.00002212350395,
          -160.00005354152358,
          -160.0001295762202,
          -160.00031358442965,
          -160.0007588756352,
          -160.00183634855216,
          -160.00444286543103,
          -160.01074450393543,
          -160.02595754200877,
          -160.06255599249673,
          -160.14987308688023,
          -160.35419868816712,
          -160.8122169384885,
          -161.7542551309481,
          -163.43310800605576,
          -165.9273765266114,
          -169.060548859821,
          -172.57042899604733,
          -176.2654693154456,
          -180.04321373782642
         ]
        }
       ],
       "layout": {
        "legend": {
         "bgcolor": "#FFFFFF",
         "font": {
          "color": "#4D5663"
         }
        },
        "paper_bgcolor": "#FFFFFF",
        "plot_bgcolor": "#FFFFFF",
        "template": {
         "data": {
          "bar": [
           {
            "error_x": {
             "color": "#2a3f5f"
            },
            "error_y": {
             "color": "#2a3f5f"
            },
            "marker": {
             "line": {
              "color": "#E5ECF6",
              "width": 0.5
             }
            },
            "type": "bar"
           }
          ],
          "barpolar": [
           {
            "marker": {
             "line": {
              "color": "#E5ECF6",
              "width": 0.5
             }
            },
            "type": "barpolar"
           }
          ],
          "carpet": [
           {
            "aaxis": {
             "endlinecolor": "#2a3f5f",
             "gridcolor": "white",
             "linecolor": "white",
             "minorgridcolor": "white",
             "startlinecolor": "#2a3f5f"
            },
            "baxis": {
             "endlinecolor": "#2a3f5f",
             "gridcolor": "white",
             "linecolor": "white",
             "minorgridcolor": "white",
             "startlinecolor": "#2a3f5f"
            },
            "type": "carpet"
           }
          ],
          "choropleth": [
           {
            "colorbar": {
             "outlinewidth": 0,
             "ticks": ""
            },
            "type": "choropleth"
           }
          ],
          "contour": [
           {
            "colorbar": {
             "outlinewidth": 0,
             "ticks": ""
            },
            "colorscale": [
             [
              0,
              "#0d0887"
             ],
             [
              0.1111111111111111,
              "#46039f"
             ],
             [
              0.2222222222222222,
              "#7201a8"
             ],
             [
              0.3333333333333333,
              "#9c179e"
             ],
             [
              0.4444444444444444,
              "#bd3786"
             ],
             [
              0.5555555555555556,
              "#d8576b"
             ],
             [
              0.6666666666666666,
              "#ed7953"
             ],
             [
              0.7777777777777778,
              "#fb9f3a"
             ],
             [
              0.8888888888888888,
              "#fdca26"
             ],
             [
              1,
              "#f0f921"
             ]
            ],
            "type": "contour"
           }
          ],
          "contourcarpet": [
           {
            "colorbar": {
             "outlinewidth": 0,
             "ticks": ""
            },
            "type": "contourcarpet"
           }
          ],
          "heatmap": [
           {
            "colorbar": {
             "outlinewidth": 0,
             "ticks": ""
            },
            "colorscale": [
             [
              0,
              "#0d0887"
             ],
             [
              0.1111111111111111,
              "#46039f"
             ],
             [
              0.2222222222222222,
              "#7201a8"
             ],
             [
              0.3333333333333333,
              "#9c179e"
             ],
             [
              0.4444444444444444,
              "#bd3786"
             ],
             [
              0.5555555555555556,
              "#d8576b"
             ],
             [
              0.6666666666666666,
              "#ed7953"
             ],
             [
              0.7777777777777778,
              "#fb9f3a"
             ],
             [
              0.8888888888888888,
              "#fdca26"
             ],
             [
              1,
              "#f0f921"
             ]
            ],
            "type": "heatmap"
           }
          ],
          "heatmapgl": [
           {
            "colorbar": {
             "outlinewidth": 0,
             "ticks": ""
            },
            "colorscale": [
             [
              0,
              "#0d0887"
             ],
             [
              0.1111111111111111,
              "#46039f"
             ],
             [
              0.2222222222222222,
              "#7201a8"
             ],
             [
              0.3333333333333333,
              "#9c179e"
             ],
             [
              0.4444444444444444,
              "#bd3786"
             ],
             [
              0.5555555555555556,
              "#d8576b"
             ],
             [
              0.6666666666666666,
              "#ed7953"
             ],
             [
              0.7777777777777778,
              "#fb9f3a"
             ],
             [
              0.8888888888888888,
              "#fdca26"
             ],
             [
              1,
              "#f0f921"
             ]
            ],
            "type": "heatmapgl"
           }
          ],
          "histogram": [
           {
            "marker": {
             "colorbar": {
              "outlinewidth": 0,
              "ticks": ""
             }
            },
            "type": "histogram"
           }
          ],
          "histogram2d": [
           {
            "colorbar": {
             "outlinewidth": 0,
             "ticks": ""
            },
            "colorscale": [
             [
              0,
              "#0d0887"
             ],
             [
              0.1111111111111111,
              "#46039f"
             ],
             [
              0.2222222222222222,
              "#7201a8"
             ],
             [
              0.3333333333333333,
              "#9c179e"
             ],
             [
              0.4444444444444444,
              "#bd3786"
             ],
             [
              0.5555555555555556,
              "#d8576b"
             ],
             [
              0.6666666666666666,
              "#ed7953"
             ],
             [
              0.7777777777777778,
              "#fb9f3a"
             ],
             [
              0.8888888888888888,
              "#fdca26"
             ],
             [
              1,
              "#f0f921"
             ]
            ],
            "type": "histogram2d"
           }
          ],
          "histogram2dcontour": [
           {
            "colorbar": {
             "outlinewidth": 0,
             "ticks": ""
            },
            "colorscale": [
             [
              0,
              "#0d0887"
             ],
             [
              0.1111111111111111,
              "#46039f"
             ],
             [
              0.2222222222222222,
              "#7201a8"
             ],
             [
              0.3333333333333333,
              "#9c179e"
             ],
             [
              0.4444444444444444,
              "#bd3786"
             ],
             [
              0.5555555555555556,
              "#d8576b"
             ],
             [
              0.6666666666666666,
              "#ed7953"
             ],
             [
              0.7777777777777778,
              "#fb9f3a"
             ],
             [
              0.8888888888888888,
              "#fdca26"
             ],
             [
              1,
              "#f0f921"
             ]
            ],
            "type": "histogram2dcontour"
           }
          ],
          "mesh3d": [
           {
            "colorbar": {
             "outlinewidth": 0,
             "ticks": ""
            },
            "type": "mesh3d"
           }
          ],
          "parcoords": [
           {
            "line": {
             "colorbar": {
              "outlinewidth": 0,
              "ticks": ""
             }
            },
            "type": "parcoords"
           }
          ],
          "scatter": [
           {
            "marker": {
             "colorbar": {
              "outlinewidth": 0,
              "ticks": ""
             }
            },
            "type": "scatter"
           }
          ],
          "scatter3d": [
           {
            "line": {
             "colorbar": {
              "outlinewidth": 0,
              "ticks": ""
             }
            },
            "marker": {
             "colorbar": {
              "outlinewidth": 0,
              "ticks": ""
             }
            },
            "type": "scatter3d"
           }
          ],
          "scattercarpet": [
           {
            "marker": {
             "colorbar": {
              "outlinewidth": 0,
              "ticks": ""
             }
            },
            "type": "scattercarpet"
           }
          ],
          "scattergeo": [
           {
            "marker": {
             "colorbar": {
              "outlinewidth": 0,
              "ticks": ""
             }
            },
            "type": "scattergeo"
           }
          ],
          "scattergl": [
           {
            "marker": {
             "colorbar": {
              "outlinewidth": 0,
              "ticks": ""
             }
            },
            "type": "scattergl"
           }
          ],
          "scattermapbox": [
           {
            "marker": {
             "colorbar": {
              "outlinewidth": 0,
              "ticks": ""
             }
            },
            "type": "scattermapbox"
           }
          ],
          "scatterpolar": [
           {
            "marker": {
             "colorbar": {
              "outlinewidth": 0,
              "ticks": ""
             }
            },
            "type": "scatterpolar"
           }
          ],
          "scatterpolargl": [
           {
            "marker": {
             "colorbar": {
              "outlinewidth": 0,
              "ticks": ""
             }
            },
            "type": "scatterpolargl"
           }
          ],
          "scatterternary": [
           {
            "marker": {
             "colorbar": {
              "outlinewidth": 0,
              "ticks": ""
             }
            },
            "type": "scatterternary"
           }
          ],
          "surface": [
           {
            "colorbar": {
             "outlinewidth": 0,
             "ticks": ""
            },
            "colorscale": [
             [
              0,
              "#0d0887"
             ],
             [
              0.1111111111111111,
              "#46039f"
             ],
             [
              0.2222222222222222,
              "#7201a8"
             ],
             [
              0.3333333333333333,
              "#9c179e"
             ],
             [
              0.4444444444444444,
              "#bd3786"
             ],
             [
              0.5555555555555556,
              "#d8576b"
             ],
             [
              0.6666666666666666,
              "#ed7953"
             ],
             [
              0.7777777777777778,
              "#fb9f3a"
             ],
             [
              0.8888888888888888,
              "#fdca26"
             ],
             [
              1,
              "#f0f921"
             ]
            ],
            "type": "surface"
           }
          ],
          "table": [
           {
            "cells": {
             "fill": {
              "color": "#EBF0F8"
             },
             "line": {
              "color": "white"
             }
            },
            "header": {
             "fill": {
              "color": "#C8D4E3"
             },
             "line": {
              "color": "white"
             }
            },
            "type": "table"
           }
          ]
         },
         "layout": {
          "annotationdefaults": {
           "arrowcolor": "#2a3f5f",
           "arrowhead": 0,
           "arrowwidth": 1
          },
          "colorscale": {
           "diverging": [
            [
             0,
             "#8e0152"
            ],
            [
             0.1,
             "#c51b7d"
            ],
            [
             0.2,
             "#de77ae"
            ],
            [
             0.3,
             "#f1b6da"
            ],
            [
             0.4,
             "#fde0ef"
            ],
            [
             0.5,
             "#f7f7f7"
            ],
            [
             0.6,
             "#e6f5d0"
            ],
            [
             0.7,
             "#b8e186"
            ],
            [
             0.8,
             "#7fbc41"
            ],
            [
             0.9,
             "#4d9221"
            ],
            [
             1,
             "#276419"
            ]
           ],
           "sequential": [
            [
             0,
             "#0d0887"
            ],
            [
             0.1111111111111111,
             "#46039f"
            ],
            [
             0.2222222222222222,
             "#7201a8"
            ],
            [
             0.3333333333333333,
             "#9c179e"
            ],
            [
             0.4444444444444444,
             "#bd3786"
            ],
            [
             0.5555555555555556,
             "#d8576b"
            ],
            [
             0.6666666666666666,
             "#ed7953"
            ],
            [
             0.7777777777777778,
             "#fb9f3a"
            ],
            [
             0.8888888888888888,
             "#fdca26"
            ],
            [
             1,
             "#f0f921"
            ]
           ],
           "sequentialminus": [
            [
             0,
             "#0d0887"
            ],
            [
             0.1111111111111111,
             "#46039f"
            ],
            [
             0.2222222222222222,
             "#7201a8"
            ],
            [
             0.3333333333333333,
             "#9c179e"
            ],
            [
             0.4444444444444444,
             "#bd3786"
            ],
            [
             0.5555555555555556,
             "#d8576b"
            ],
            [
             0.6666666666666666,
             "#ed7953"
            ],
            [
             0.7777777777777778,
             "#fb9f3a"
            ],
            [
             0.8888888888888888,
             "#fdca26"
            ],
            [
             1,
             "#f0f921"
            ]
           ]
          },
          "colorway": [
           "#636efa",
           "#EF553B",
           "#00cc96",
           "#ab63fa",
           "#FFA15A",
           "#19d3f3",
           "#FF6692",
           "#B6E880",
           "#FF97FF",
           "#FECB52"
          ],
          "font": {
           "color": "#2a3f5f"
          },
          "geo": {
           "bgcolor": "white",
           "lakecolor": "white",
           "landcolor": "#E5ECF6",
           "showlakes": true,
           "showland": true,
           "subunitcolor": "white"
          },
          "hoverlabel": {
           "align": "left"
          },
          "hovermode": "closest",
          "mapbox": {
           "style": "light"
          },
          "paper_bgcolor": "white",
          "plot_bgcolor": "#E5ECF6",
          "polar": {
           "angularaxis": {
            "gridcolor": "white",
            "linecolor": "white",
            "ticks": ""
           },
           "bgcolor": "#E5ECF6",
           "radialaxis": {
            "gridcolor": "white",
            "linecolor": "white",
            "ticks": ""
           }
          },
          "scene": {
           "xaxis": {
            "backgroundcolor": "#E5ECF6",
            "gridcolor": "white",
            "gridwidth": 2,
            "linecolor": "white",
            "showbackground": true,
            "ticks": "",
            "zerolinecolor": "white"
           },
           "yaxis": {
            "backgroundcolor": "#E5ECF6",
            "gridcolor": "white",
            "gridwidth": 2,
            "linecolor": "white",
            "showbackground": true,
            "ticks": "",
            "zerolinecolor": "white"
           },
           "zaxis": {
            "backgroundcolor": "#E5ECF6",
            "gridcolor": "white",
            "gridwidth": 2,
            "linecolor": "white",
            "showbackground": true,
            "ticks": "",
            "zerolinecolor": "white"
           }
          },
          "shapedefaults": {
           "line": {
            "color": "#2a3f5f"
           }
          },
          "ternary": {
           "aaxis": {
            "gridcolor": "white",
            "linecolor": "white",
            "ticks": ""
           },
           "baxis": {
            "gridcolor": "white",
            "linecolor": "white",
            "ticks": ""
           },
           "bgcolor": "#E5ECF6",
           "caxis": {
            "gridcolor": "white",
            "linecolor": "white",
            "ticks": ""
           }
          },
          "title": {
           "x": 0.05
          },
          "xaxis": {
           "automargin": true,
           "gridcolor": "white",
           "linecolor": "white",
           "ticks": "",
           "zerolinecolor": "white",
           "zerolinewidth": 2
          },
          "yaxis": {
           "automargin": true,
           "gridcolor": "white",
           "linecolor": "white",
           "ticks": "",
           "zerolinecolor": "white",
           "zerolinewidth": 2
          }
         }
        },
        "title": {
         "font": {
          "color": "#4D5663"
         },
         "text": "АЧХ"
        },
        "xaxis": {
         "gridcolor": "#E1E5ED",
         "showgrid": true,
         "tickfont": {
          "color": "#4D5663"
         },
         "title": {
          "font": {
           "color": "#4D5663"
          },
          "text": "W"
         },
         "type": "log",
         "zerolinecolor": "#E1E5ED"
        },
        "yaxis": {
         "gridcolor": "#E1E5ED",
         "showgrid": true,
         "tickfont": {
          "color": "#4D5663"
         },
         "title": {
          "font": {
           "color": "#4D5663"
          },
          "text": "mag"
         },
         "zerolinecolor": "#E1E5ED"
        }
       }
      },
      "text/html": [
       "<div>\n",
       "        \n",
       "        \n",
       "            <div id=\"57a32da4-4cee-418e-810a-727253fddf7a\" class=\"plotly-graph-div\" style=\"height:525px; width:100%;\"></div>\n",
       "            <script type=\"text/javascript\">\n",
       "                require([\"plotly\"], function(Plotly) {\n",
       "                    window.PLOTLYENV=window.PLOTLYENV || {};\n",
       "                    window.PLOTLYENV.BASE_URL='https://plot.ly';\n",
       "                    \n",
       "                if (document.getElementById(\"57a32da4-4cee-418e-810a-727253fddf7a\")) {\n",
       "                    Plotly.newPlot(\n",
       "                        '57a32da4-4cee-418e-810a-727253fddf7a',\n",
       "                        [{\"line\": {\"color\": \"rgba(255, 153, 51, 1.0)\", \"dash\": \"solid\", \"shape\": \"linear\", \"width\": 1.3}, \"mode\": \"lines\", \"name\": \"0\", \"text\": \"\", \"type\": \"scatter\", \"x\": [1e-10, 1.5556761439304722e-10, 2.420128264794383e-10, 3.7649358067924715e-10, 5.857020818056674e-10, 9.111627561154905e-10, 1.4174741629268078e-09, 2.205130739903041e-09, 3.430469286314912e-09, 5.336699231206302e-09, 8.302175681319736e-09, 1.2915496650148827e-08, 2.009233002565046e-08, 3.1257158496882355e-08, 4.8626015800653535e-08, 7.56463327554629e-08, 1.1768119524349991e-07, 1.8307382802953697e-07, 2.848035868435799e-07, 4.4306214575838777e-07, 6.892612104349695e-07, 1.0722672220103232e-06, 1.6681005372000591e-06, 2.5950242113997318e-06, 4.037017258596549e-06, 6.2802914418342466e-06, 9.770099572992246e-06, 1.5199110829529332e-05, 2.3644894126454072e-05, 3.678379771828627e-05, 5.722367659350208e-05, 8.902150854450375e-05, 0.00013848863713938718, 0.00021544346900318823, 0.0003351602650938841, 0.0005214008287999684, 0.0008111308307896856, 0.0012618568830660185, 0.0019630406500402682, 0.0030538555088334123, 0.004750810162102793, 0.007390722033525776, 0.011497569953977356, 0.01788649529057435, 0.02782559402207126, 0.04328761281083044, 0.06734150657750801, 0.10476157527896619, 0.16297508346206402, 0.25353644939701064, 0.39442060594376477, 0.6135907273413164, 0.9545484566618327, 1.4849682622544635, 2.310129700083158, 3.593813663804626, 5.5908101825122225, 8.697490026177835, 13.53047774579802, 21.04904144512013, 32.74549162877718, 50.941380148163645, 79.24828983539153, 123.28467394420633, 191.79102616724848, 298.3647240283334, 464.1588833612773, 722.0809018385456, 1123.3240329780265, 1747.5284000076829, 2718.58824273294, 4229.242874389482, 6579.3322465756555, 10235.310218990227, 15922.827933410874, 24770.76355991704, 38535.285937105196, 59948.42503189397, 93260.3346883218, 145082.87784959373, 225701.9719633917, 351119.17342151277, 546227.7217684337, 849753.4359086438, 1321941.1484660287, 2056512.3083486431, 3199267.1377973845, 4977023.564332093, 7742636.826811277, 12045035.402587786, 18738174.228603713, 29150530.628251698, 45348785.081285544, 70548023.1071863, 109749876.549305, 170735264.74706888, 265608778.2946673, 413201240.01153344, 642807311.7284293, 1000000000.0], \"y\": [-200.00043427276862, -196.16266708280398, -192.3257752504278, -188.49100013804502, -184.6613374894235, -180.843987851046, -177.0560917912957, -173.33751941235806, -169.77610873370182, -166.54291285830155, -163.89312971328843, -162.0397996806298, -160.96112832845625, -160.42320728608016, -160.17989583044482, -160.0752386836138, -160.03124689645978, -160.012938522914, -160.00535088762487, -160.0022117927188, -160.00091405205868, -160.00037771076703, -160.0001560745398, -160.00006449087337, -160.00002664782497, -160.00001101093414, -160.00000454973502, -160.00000187995676, -160.00000077680056, -160.00000032097495, -160.00000013262724, -160.00000005480175, -160.00000002264414, -160.0000000093566, -160.00000000386618, -160.00000000159753, -160.0000000006601, -160.00000000027273, -160.0000000001127, -160.00000000004658, -160.00000000001927, -160.00000000000796, -160.00000000000327, -160.00000000000136, -160.00000000000057, -160.00000000000023, -160.0000000000001, -160.00000000000003, -160.0, -160.0, -160.0, -160.0, -160.0, -160.0, -160.0, -160.0, -160.0, -160.00000000000003, -160.00000000000006, -160.00000000000017, -160.00000000000045, -160.00000000000114, -160.00000000000273, -160.0000000000066, -160.00000000001597, -160.00000000003865, -160.00000000009356, -160.00000000022646, -160.000000000548, -160.00000000132627, -160.00000000320972, -160.000000007768, -160.00000001879957, -160.00000004549736, -160.00000011010945, -160.00000026647908, -160.00000064491346, -160.00000156077317, -160.00000377727025, -160.00000914147293, -160.00002212350395, -160.00005354152358, -160.0001295762202, -160.00031358442965, -160.0007588756352, -160.00183634855216, -160.00444286543103, -160.01074450393543, -160.02595754200877, -160.06255599249673, -160.14987308688023, -160.35419868816712, -160.8122169384885, -161.7542551309481, -163.43310800605576, -165.9273765266114, -169.060548859821, -172.57042899604733, -176.2654693154456, -180.04321373782642]}],\n",
       "                        {\"legend\": {\"bgcolor\": \"#FFFFFF\", \"font\": {\"color\": \"#4D5663\"}}, \"paper_bgcolor\": \"#FFFFFF\", \"plot_bgcolor\": \"#FFFFFF\", \"template\": {\"data\": {\"bar\": [{\"error_x\": {\"color\": \"#2a3f5f\"}, \"error_y\": {\"color\": \"#2a3f5f\"}, \"marker\": {\"line\": {\"color\": \"#E5ECF6\", \"width\": 0.5}}, \"type\": \"bar\"}], \"barpolar\": [{\"marker\": {\"line\": {\"color\": \"#E5ECF6\", \"width\": 0.5}}, \"type\": \"barpolar\"}], \"carpet\": [{\"aaxis\": {\"endlinecolor\": \"#2a3f5f\", \"gridcolor\": \"white\", \"linecolor\": \"white\", \"minorgridcolor\": \"white\", \"startlinecolor\": \"#2a3f5f\"}, \"baxis\": {\"endlinecolor\": \"#2a3f5f\", \"gridcolor\": \"white\", \"linecolor\": \"white\", \"minorgridcolor\": \"white\", \"startlinecolor\": \"#2a3f5f\"}, \"type\": \"carpet\"}], \"choropleth\": [{\"colorbar\": {\"outlinewidth\": 0, \"ticks\": \"\"}, \"type\": \"choropleth\"}], \"contour\": [{\"colorbar\": {\"outlinewidth\": 0, \"ticks\": \"\"}, \"colorscale\": [[0.0, \"#0d0887\"], [0.1111111111111111, \"#46039f\"], [0.2222222222222222, \"#7201a8\"], [0.3333333333333333, \"#9c179e\"], [0.4444444444444444, \"#bd3786\"], [0.5555555555555556, \"#d8576b\"], [0.6666666666666666, \"#ed7953\"], [0.7777777777777778, \"#fb9f3a\"], [0.8888888888888888, \"#fdca26\"], [1.0, \"#f0f921\"]], \"type\": \"contour\"}], \"contourcarpet\": [{\"colorbar\": {\"outlinewidth\": 0, \"ticks\": \"\"}, \"type\": \"contourcarpet\"}], \"heatmap\": [{\"colorbar\": {\"outlinewidth\": 0, \"ticks\": \"\"}, \"colorscale\": [[0.0, \"#0d0887\"], [0.1111111111111111, \"#46039f\"], [0.2222222222222222, \"#7201a8\"], [0.3333333333333333, \"#9c179e\"], [0.4444444444444444, \"#bd3786\"], [0.5555555555555556, \"#d8576b\"], [0.6666666666666666, \"#ed7953\"], [0.7777777777777778, \"#fb9f3a\"], [0.8888888888888888, \"#fdca26\"], [1.0, \"#f0f921\"]], \"type\": \"heatmap\"}], \"heatmapgl\": [{\"colorbar\": {\"outlinewidth\": 0, \"ticks\": \"\"}, \"colorscale\": [[0.0, \"#0d0887\"], [0.1111111111111111, \"#46039f\"], [0.2222222222222222, \"#7201a8\"], [0.3333333333333333, \"#9c179e\"], [0.4444444444444444, \"#bd3786\"], [0.5555555555555556, \"#d8576b\"], [0.6666666666666666, \"#ed7953\"], [0.7777777777777778, \"#fb9f3a\"], [0.8888888888888888, \"#fdca26\"], [1.0, \"#f0f921\"]], \"type\": \"heatmapgl\"}], \"histogram\": [{\"marker\": {\"colorbar\": {\"outlinewidth\": 0, \"ticks\": \"\"}}, \"type\": \"histogram\"}], \"histogram2d\": [{\"colorbar\": {\"outlinewidth\": 0, \"ticks\": \"\"}, \"colorscale\": [[0.0, \"#0d0887\"], [0.1111111111111111, \"#46039f\"], [0.2222222222222222, \"#7201a8\"], [0.3333333333333333, \"#9c179e\"], [0.4444444444444444, \"#bd3786\"], [0.5555555555555556, \"#d8576b\"], [0.6666666666666666, \"#ed7953\"], [0.7777777777777778, \"#fb9f3a\"], [0.8888888888888888, \"#fdca26\"], [1.0, \"#f0f921\"]], \"type\": \"histogram2d\"}], \"histogram2dcontour\": [{\"colorbar\": {\"outlinewidth\": 0, \"ticks\": \"\"}, \"colorscale\": [[0.0, \"#0d0887\"], [0.1111111111111111, \"#46039f\"], [0.2222222222222222, \"#7201a8\"], [0.3333333333333333, \"#9c179e\"], [0.4444444444444444, \"#bd3786\"], [0.5555555555555556, \"#d8576b\"], [0.6666666666666666, \"#ed7953\"], [0.7777777777777778, \"#fb9f3a\"], [0.8888888888888888, \"#fdca26\"], [1.0, \"#f0f921\"]], \"type\": \"histogram2dcontour\"}], \"mesh3d\": [{\"colorbar\": {\"outlinewidth\": 0, \"ticks\": \"\"}, \"type\": \"mesh3d\"}], \"parcoords\": [{\"line\": {\"colorbar\": {\"outlinewidth\": 0, \"ticks\": \"\"}}, \"type\": \"parcoords\"}], \"scatter\": [{\"marker\": {\"colorbar\": {\"outlinewidth\": 0, \"ticks\": \"\"}}, \"type\": \"scatter\"}], \"scatter3d\": [{\"line\": {\"colorbar\": {\"outlinewidth\": 0, \"ticks\": \"\"}}, \"marker\": {\"colorbar\": {\"outlinewidth\": 0, \"ticks\": \"\"}}, \"type\": \"scatter3d\"}], \"scattercarpet\": [{\"marker\": {\"colorbar\": {\"outlinewidth\": 0, \"ticks\": \"\"}}, \"type\": \"scattercarpet\"}], \"scattergeo\": [{\"marker\": {\"colorbar\": {\"outlinewidth\": 0, \"ticks\": \"\"}}, \"type\": \"scattergeo\"}], \"scattergl\": [{\"marker\": {\"colorbar\": {\"outlinewidth\": 0, \"ticks\": \"\"}}, \"type\": \"scattergl\"}], \"scattermapbox\": [{\"marker\": {\"colorbar\": {\"outlinewidth\": 0, \"ticks\": \"\"}}, \"type\": \"scattermapbox\"}], \"scatterpolar\": [{\"marker\": {\"colorbar\": {\"outlinewidth\": 0, \"ticks\": \"\"}}, \"type\": \"scatterpolar\"}], \"scatterpolargl\": [{\"marker\": {\"colorbar\": {\"outlinewidth\": 0, \"ticks\": \"\"}}, \"type\": \"scatterpolargl\"}], \"scatterternary\": [{\"marker\": {\"colorbar\": {\"outlinewidth\": 0, \"ticks\": \"\"}}, \"type\": \"scatterternary\"}], \"surface\": [{\"colorbar\": {\"outlinewidth\": 0, \"ticks\": \"\"}, \"colorscale\": [[0.0, \"#0d0887\"], [0.1111111111111111, \"#46039f\"], [0.2222222222222222, \"#7201a8\"], [0.3333333333333333, \"#9c179e\"], [0.4444444444444444, \"#bd3786\"], [0.5555555555555556, \"#d8576b\"], [0.6666666666666666, \"#ed7953\"], [0.7777777777777778, \"#fb9f3a\"], [0.8888888888888888, \"#fdca26\"], [1.0, \"#f0f921\"]], \"type\": \"surface\"}], \"table\": [{\"cells\": {\"fill\": {\"color\": \"#EBF0F8\"}, \"line\": {\"color\": \"white\"}}, \"header\": {\"fill\": {\"color\": \"#C8D4E3\"}, \"line\": {\"color\": \"white\"}}, \"type\": \"table\"}]}, \"layout\": {\"annotationdefaults\": {\"arrowcolor\": \"#2a3f5f\", \"arrowhead\": 0, \"arrowwidth\": 1}, \"colorscale\": {\"diverging\": [[0, \"#8e0152\"], [0.1, \"#c51b7d\"], [0.2, \"#de77ae\"], [0.3, \"#f1b6da\"], [0.4, \"#fde0ef\"], [0.5, \"#f7f7f7\"], [0.6, \"#e6f5d0\"], [0.7, \"#b8e186\"], [0.8, \"#7fbc41\"], [0.9, \"#4d9221\"], [1, \"#276419\"]], \"sequential\": [[0.0, \"#0d0887\"], [0.1111111111111111, \"#46039f\"], [0.2222222222222222, \"#7201a8\"], [0.3333333333333333, \"#9c179e\"], [0.4444444444444444, \"#bd3786\"], [0.5555555555555556, \"#d8576b\"], [0.6666666666666666, \"#ed7953\"], [0.7777777777777778, \"#fb9f3a\"], [0.8888888888888888, \"#fdca26\"], [1.0, \"#f0f921\"]], \"sequentialminus\": [[0.0, \"#0d0887\"], [0.1111111111111111, \"#46039f\"], [0.2222222222222222, \"#7201a8\"], [0.3333333333333333, \"#9c179e\"], [0.4444444444444444, \"#bd3786\"], [0.5555555555555556, \"#d8576b\"], [0.6666666666666666, \"#ed7953\"], [0.7777777777777778, \"#fb9f3a\"], [0.8888888888888888, \"#fdca26\"], [1.0, \"#f0f921\"]]}, \"colorway\": [\"#636efa\", \"#EF553B\", \"#00cc96\", \"#ab63fa\", \"#FFA15A\", \"#19d3f3\", \"#FF6692\", \"#B6E880\", \"#FF97FF\", \"#FECB52\"], \"font\": {\"color\": \"#2a3f5f\"}, \"geo\": {\"bgcolor\": \"white\", \"lakecolor\": \"white\", \"landcolor\": \"#E5ECF6\", \"showlakes\": true, \"showland\": true, \"subunitcolor\": \"white\"}, \"hoverlabel\": {\"align\": \"left\"}, \"hovermode\": \"closest\", \"mapbox\": {\"style\": \"light\"}, \"paper_bgcolor\": \"white\", \"plot_bgcolor\": \"#E5ECF6\", \"polar\": {\"angularaxis\": {\"gridcolor\": \"white\", \"linecolor\": \"white\", \"ticks\": \"\"}, \"bgcolor\": \"#E5ECF6\", \"radialaxis\": {\"gridcolor\": \"white\", \"linecolor\": \"white\", \"ticks\": \"\"}}, \"scene\": {\"xaxis\": {\"backgroundcolor\": \"#E5ECF6\", \"gridcolor\": \"white\", \"gridwidth\": 2, \"linecolor\": \"white\", \"showbackground\": true, \"ticks\": \"\", \"zerolinecolor\": \"white\"}, \"yaxis\": {\"backgroundcolor\": \"#E5ECF6\", \"gridcolor\": \"white\", \"gridwidth\": 2, \"linecolor\": \"white\", \"showbackground\": true, \"ticks\": \"\", \"zerolinecolor\": \"white\"}, \"zaxis\": {\"backgroundcolor\": \"#E5ECF6\", \"gridcolor\": \"white\", \"gridwidth\": 2, \"linecolor\": \"white\", \"showbackground\": true, \"ticks\": \"\", \"zerolinecolor\": \"white\"}}, \"shapedefaults\": {\"line\": {\"color\": \"#2a3f5f\"}}, \"ternary\": {\"aaxis\": {\"gridcolor\": \"white\", \"linecolor\": \"white\", \"ticks\": \"\"}, \"baxis\": {\"gridcolor\": \"white\", \"linecolor\": \"white\", \"ticks\": \"\"}, \"bgcolor\": \"#E5ECF6\", \"caxis\": {\"gridcolor\": \"white\", \"linecolor\": \"white\", \"ticks\": \"\"}}, \"title\": {\"x\": 0.05}, \"xaxis\": {\"automargin\": true, \"gridcolor\": \"white\", \"linecolor\": \"white\", \"ticks\": \"\", \"zerolinecolor\": \"white\", \"zerolinewidth\": 2}, \"yaxis\": {\"automargin\": true, \"gridcolor\": \"white\", \"linecolor\": \"white\", \"ticks\": \"\", \"zerolinecolor\": \"white\", \"zerolinewidth\": 2}}}, \"title\": {\"font\": {\"color\": \"#4D5663\"}, \"text\": \"\\u0410\\u0427\\u0425\"}, \"xaxis\": {\"gridcolor\": \"#E1E5ED\", \"showgrid\": true, \"tickfont\": {\"color\": \"#4D5663\"}, \"title\": {\"font\": {\"color\": \"#4D5663\"}, \"text\": \"W\"}, \"type\": \"log\", \"zerolinecolor\": \"#E1E5ED\"}, \"yaxis\": {\"gridcolor\": \"#E1E5ED\", \"showgrid\": true, \"tickfont\": {\"color\": \"#4D5663\"}, \"title\": {\"font\": {\"color\": \"#4D5663\"}, \"text\": \"mag\"}, \"zerolinecolor\": \"#E1E5ED\"}},\n",
       "                        {\"showLink\": true, \"linkText\": \"Export to plot.ly\", \"plotlyServerURL\": \"https://plot.ly\", \"responsive\": true}\n",
       "                    ).then(function(){\n",
       "                            \n",
       "var gd = document.getElementById('57a32da4-4cee-418e-810a-727253fddf7a');\n",
       "var x = new MutationObserver(function (mutations, observer) {{\n",
       "        var display = window.getComputedStyle(gd).display;\n",
       "        if (!display || display === 'none') {{\n",
       "            console.log([gd, 'removed!']);\n",
       "            Plotly.purge(gd);\n",
       "            observer.disconnect();\n",
       "        }}\n",
       "}});\n",
       "\n",
       "// Listen for the removal of the full notebook cells\n",
       "var notebookContainer = gd.closest('#notebook-container');\n",
       "if (notebookContainer) {{\n",
       "    x.observe(notebookContainer, {childList: true});\n",
       "}}\n",
       "\n",
       "// Listen for the clearing of the current output cell\n",
       "var outputEl = gd.closest('.output');\n",
       "if (outputEl) {{\n",
       "    x.observe(outputEl, {childList: true});\n",
       "}}\n",
       "\n",
       "                        })\n",
       "                };\n",
       "                });\n",
       "            </script>\n",
       "        </div>"
      ]
     },
     "metadata": {},
     "output_type": "display_data"
    },
    {
     "data": {
      "application/vnd.plotly.v1+json": {
       "config": {
        "linkText": "Export to plot.ly",
        "plotlyServerURL": "https://plot.ly",
        "showLink": true
       },
       "data": [
        {
         "line": {
          "color": "rgba(255, 153, 51, 1.0)",
          "dash": "solid",
          "shape": "linear",
          "width": 1.3
         },
         "mode": "lines",
         "name": "0",
         "text": "",
         "type": "scatter",
         "x": [
          1e-10,
          1.5556761439304722e-10,
          2.420128264794383e-10,
          3.7649358067924715e-10,
          5.857020818056674e-10,
          9.111627561154905e-10,
          1.4174741629268078e-09,
          2.205130739903041e-09,
          3.430469286314912e-09,
          5.336699231206302e-09,
          8.302175681319736e-09,
          1.2915496650148827e-08,
          2.009233002565046e-08,
          3.1257158496882355e-08,
          4.8626015800653535e-08,
          7.56463327554629e-08,
          1.1768119524349991e-07,
          1.8307382802953697e-07,
          2.848035868435799e-07,
          4.4306214575838777e-07,
          6.892612104349695e-07,
          1.0722672220103232e-06,
          1.6681005372000591e-06,
          2.5950242113997318e-06,
          4.037017258596549e-06,
          6.2802914418342466e-06,
          9.770099572992246e-06,
          1.5199110829529332e-05,
          2.3644894126454072e-05,
          3.678379771828627e-05,
          5.722367659350208e-05,
          8.902150854450375e-05,
          0.00013848863713938718,
          0.00021544346900318823,
          0.0003351602650938841,
          0.0005214008287999684,
          0.0008111308307896856,
          0.0012618568830660185,
          0.0019630406500402682,
          0.0030538555088334123,
          0.004750810162102793,
          0.007390722033525776,
          0.011497569953977356,
          0.01788649529057435,
          0.02782559402207126,
          0.04328761281083044,
          0.06734150657750801,
          0.10476157527896619,
          0.16297508346206402,
          0.25353644939701064,
          0.39442060594376477,
          0.6135907273413164,
          0.9545484566618327,
          1.4849682622544635,
          2.310129700083158,
          3.593813663804626,
          5.5908101825122225,
          8.697490026177835,
          13.53047774579802,
          21.04904144512013,
          32.74549162877718,
          50.941380148163645,
          79.24828983539153,
          123.28467394420633,
          191.79102616724848,
          298.3647240283334,
          464.1588833612773,
          722.0809018385456,
          1123.3240329780265,
          1747.5284000076829,
          2718.58824273294,
          4229.242874389482,
          6579.3322465756555,
          10235.310218990227,
          15922.827933410874,
          24770.76355991704,
          38535.285937105196,
          59948.42503189397,
          93260.3346883218,
          145082.87784959373,
          225701.9719633917,
          351119.17342151277,
          546227.7217684337,
          849753.4359086438,
          1321941.1484660287,
          2056512.3083486431,
          3199267.1377973845,
          4977023.564332093,
          7742636.826811277,
          12045035.402587786,
          18738174.228603713,
          29150530.628251698,
          45348785.081285544,
          70548023.1071863,
          109749876.549305,
          170735264.74706888,
          265608778.2946673,
          413201240.01153344,
          642807311.7284293,
          1000000000
         ],
         "y": [
          89.42706130231653,
          89.10873512117392,
          88.61363926799717,
          87.84386904983961,
          86.64800373937155,
          84.79379780504567,
          81.9322182991007,
          77.56454464773893,
          71.06562601412926,
          61.91250075360829,
          50.299946659311914,
          37.74931778179988,
          26.459638191956763,
          17.740862589825422,
          11.620929582393034,
          7.5305015409106515,
          4.857060341535993,
          3.12654727650484,
          2.0109385528135677,
          1.2929575218090832,
          0.8312053410599404,
          0.5343268667118467,
          0.3434750596989951,
          0.22078983176912856,
          0.14192573044709203,
          0.09123100674491483,
          0.058643987271146066,
          0.037696791526256414,
          0.024231775265543615,
          0.015576362849437697,
          0.0100126000552588,
          0.006436172533448226,
          0.004137218727696262,
          0.002659434378660755,
          0.0017095037517009465,
          0.0010988813359112434,
          0.0007063686847854325,
          0.0004540585311195025,
          0.00029187148376416325,
          0.00018761609711000123,
          0.00012059940174624031,
          7.751969239114332e-05,
          4.9826359463369024e-05,
          3.202273454476394e-05,
          2.0575092638245262e-05,
          1.3211266219066012e-05,
          8.46965757267621e-06,
          5.409135829558678e-06,
          3.4222380580203112e-06,
          2.1145979223252267e-06,
          1.2266704895823907e-06,
          5.822168545666659e-07,
          5.332363278819086e-08,
          -4.649857300861977e-07,
          -1.0755870675001733e-06,
          -1.8996746429336098e-06,
          -3.100816206124102e-06,
          -4.917418485269234e-06,
          -7.71004697829152e-06,
          -1.2032992238857536e-05,
          -1.8744287380908437e-05,
          -2.9176013456184412e-05,
          -4.5398695504589937e-05,
          -7.06322675191354e-05,
          -0.0001098851760718375,
          -0.00017094847409671819,
          -0.00026594221599900283,
          -0.00041372108793485724,
          -0.0006436167510698099,
          -0.0010012596910274583,
          -0.001557636114285473,
          -0.00242317753546294,
          -0.003769679604907275,
          -0.005864400699095283,
          -0.009123108271889809,
          -0.014192601759584979,
          -0.0220790913574996,
          -0.03434791330361563,
          -0.0534342202385902,
          -0.08312630747571831,
          -0.12931748462354542,
          -0.20117564070372423,
          -0.31296231856362977,
          -0.48686113683039434,
          -0.7573723701155601,
          -1.178128690165339,
          -1.832420036268716,
          -2.8492733771826755,
          -4.427371092988018,
          -6.868209146724134,
          -10.613109585091394,
          -16.251683898892583,
          -24.393714613536602,
          -35.20221239406925,
          -47.66138395453767,
          -59.64240516990321,
          -69.36896622600574,
          -76.39527119190933,
          -81.1575108441294,
          -84.28940686250034
         ]
        }
       ],
       "layout": {
        "legend": {
         "bgcolor": "#FFFFFF",
         "font": {
          "color": "#4D5663"
         }
        },
        "paper_bgcolor": "#FFFFFF",
        "plot_bgcolor": "#FFFFFF",
        "template": {
         "data": {
          "bar": [
           {
            "error_x": {
             "color": "#2a3f5f"
            },
            "error_y": {
             "color": "#2a3f5f"
            },
            "marker": {
             "line": {
              "color": "#E5ECF6",
              "width": 0.5
             }
            },
            "type": "bar"
           }
          ],
          "barpolar": [
           {
            "marker": {
             "line": {
              "color": "#E5ECF6",
              "width": 0.5
             }
            },
            "type": "barpolar"
           }
          ],
          "carpet": [
           {
            "aaxis": {
             "endlinecolor": "#2a3f5f",
             "gridcolor": "white",
             "linecolor": "white",
             "minorgridcolor": "white",
             "startlinecolor": "#2a3f5f"
            },
            "baxis": {
             "endlinecolor": "#2a3f5f",
             "gridcolor": "white",
             "linecolor": "white",
             "minorgridcolor": "white",
             "startlinecolor": "#2a3f5f"
            },
            "type": "carpet"
           }
          ],
          "choropleth": [
           {
            "colorbar": {
             "outlinewidth": 0,
             "ticks": ""
            },
            "type": "choropleth"
           }
          ],
          "contour": [
           {
            "colorbar": {
             "outlinewidth": 0,
             "ticks": ""
            },
            "colorscale": [
             [
              0,
              "#0d0887"
             ],
             [
              0.1111111111111111,
              "#46039f"
             ],
             [
              0.2222222222222222,
              "#7201a8"
             ],
             [
              0.3333333333333333,
              "#9c179e"
             ],
             [
              0.4444444444444444,
              "#bd3786"
             ],
             [
              0.5555555555555556,
              "#d8576b"
             ],
             [
              0.6666666666666666,
              "#ed7953"
             ],
             [
              0.7777777777777778,
              "#fb9f3a"
             ],
             [
              0.8888888888888888,
              "#fdca26"
             ],
             [
              1,
              "#f0f921"
             ]
            ],
            "type": "contour"
           }
          ],
          "contourcarpet": [
           {
            "colorbar": {
             "outlinewidth": 0,
             "ticks": ""
            },
            "type": "contourcarpet"
           }
          ],
          "heatmap": [
           {
            "colorbar": {
             "outlinewidth": 0,
             "ticks": ""
            },
            "colorscale": [
             [
              0,
              "#0d0887"
             ],
             [
              0.1111111111111111,
              "#46039f"
             ],
             [
              0.2222222222222222,
              "#7201a8"
             ],
             [
              0.3333333333333333,
              "#9c179e"
             ],
             [
              0.4444444444444444,
              "#bd3786"
             ],
             [
              0.5555555555555556,
              "#d8576b"
             ],
             [
              0.6666666666666666,
              "#ed7953"
             ],
             [
              0.7777777777777778,
              "#fb9f3a"
             ],
             [
              0.8888888888888888,
              "#fdca26"
             ],
             [
              1,
              "#f0f921"
             ]
            ],
            "type": "heatmap"
           }
          ],
          "heatmapgl": [
           {
            "colorbar": {
             "outlinewidth": 0,
             "ticks": ""
            },
            "colorscale": [
             [
              0,
              "#0d0887"
             ],
             [
              0.1111111111111111,
              "#46039f"
             ],
             [
              0.2222222222222222,
              "#7201a8"
             ],
             [
              0.3333333333333333,
              "#9c179e"
             ],
             [
              0.4444444444444444,
              "#bd3786"
             ],
             [
              0.5555555555555556,
              "#d8576b"
             ],
             [
              0.6666666666666666,
              "#ed7953"
             ],
             [
              0.7777777777777778,
              "#fb9f3a"
             ],
             [
              0.8888888888888888,
              "#fdca26"
             ],
             [
              1,
              "#f0f921"
             ]
            ],
            "type": "heatmapgl"
           }
          ],
          "histogram": [
           {
            "marker": {
             "colorbar": {
              "outlinewidth": 0,
              "ticks": ""
             }
            },
            "type": "histogram"
           }
          ],
          "histogram2d": [
           {
            "colorbar": {
             "outlinewidth": 0,
             "ticks": ""
            },
            "colorscale": [
             [
              0,
              "#0d0887"
             ],
             [
              0.1111111111111111,
              "#46039f"
             ],
             [
              0.2222222222222222,
              "#7201a8"
             ],
             [
              0.3333333333333333,
              "#9c179e"
             ],
             [
              0.4444444444444444,
              "#bd3786"
             ],
             [
              0.5555555555555556,
              "#d8576b"
             ],
             [
              0.6666666666666666,
              "#ed7953"
             ],
             [
              0.7777777777777778,
              "#fb9f3a"
             ],
             [
              0.8888888888888888,
              "#fdca26"
             ],
             [
              1,
              "#f0f921"
             ]
            ],
            "type": "histogram2d"
           }
          ],
          "histogram2dcontour": [
           {
            "colorbar": {
             "outlinewidth": 0,
             "ticks": ""
            },
            "colorscale": [
             [
              0,
              "#0d0887"
             ],
             [
              0.1111111111111111,
              "#46039f"
             ],
             [
              0.2222222222222222,
              "#7201a8"
             ],
             [
              0.3333333333333333,
              "#9c179e"
             ],
             [
              0.4444444444444444,
              "#bd3786"
             ],
             [
              0.5555555555555556,
              "#d8576b"
             ],
             [
              0.6666666666666666,
              "#ed7953"
             ],
             [
              0.7777777777777778,
              "#fb9f3a"
             ],
             [
              0.8888888888888888,
              "#fdca26"
             ],
             [
              1,
              "#f0f921"
             ]
            ],
            "type": "histogram2dcontour"
           }
          ],
          "mesh3d": [
           {
            "colorbar": {
             "outlinewidth": 0,
             "ticks": ""
            },
            "type": "mesh3d"
           }
          ],
          "parcoords": [
           {
            "line": {
             "colorbar": {
              "outlinewidth": 0,
              "ticks": ""
             }
            },
            "type": "parcoords"
           }
          ],
          "scatter": [
           {
            "marker": {
             "colorbar": {
              "outlinewidth": 0,
              "ticks": ""
             }
            },
            "type": "scatter"
           }
          ],
          "scatter3d": [
           {
            "line": {
             "colorbar": {
              "outlinewidth": 0,
              "ticks": ""
             }
            },
            "marker": {
             "colorbar": {
              "outlinewidth": 0,
              "ticks": ""
             }
            },
            "type": "scatter3d"
           }
          ],
          "scattercarpet": [
           {
            "marker": {
             "colorbar": {
              "outlinewidth": 0,
              "ticks": ""
             }
            },
            "type": "scattercarpet"
           }
          ],
          "scattergeo": [
           {
            "marker": {
             "colorbar": {
              "outlinewidth": 0,
              "ticks": ""
             }
            },
            "type": "scattergeo"
           }
          ],
          "scattergl": [
           {
            "marker": {
             "colorbar": {
              "outlinewidth": 0,
              "ticks": ""
             }
            },
            "type": "scattergl"
           }
          ],
          "scattermapbox": [
           {
            "marker": {
             "colorbar": {
              "outlinewidth": 0,
              "ticks": ""
             }
            },
            "type": "scattermapbox"
           }
          ],
          "scatterpolar": [
           {
            "marker": {
             "colorbar": {
              "outlinewidth": 0,
              "ticks": ""
             }
            },
            "type": "scatterpolar"
           }
          ],
          "scatterpolargl": [
           {
            "marker": {
             "colorbar": {
              "outlinewidth": 0,
              "ticks": ""
             }
            },
            "type": "scatterpolargl"
           }
          ],
          "scatterternary": [
           {
            "marker": {
             "colorbar": {
              "outlinewidth": 0,
              "ticks": ""
             }
            },
            "type": "scatterternary"
           }
          ],
          "surface": [
           {
            "colorbar": {
             "outlinewidth": 0,
             "ticks": ""
            },
            "colorscale": [
             [
              0,
              "#0d0887"
             ],
             [
              0.1111111111111111,
              "#46039f"
             ],
             [
              0.2222222222222222,
              "#7201a8"
             ],
             [
              0.3333333333333333,
              "#9c179e"
             ],
             [
              0.4444444444444444,
              "#bd3786"
             ],
             [
              0.5555555555555556,
              "#d8576b"
             ],
             [
              0.6666666666666666,
              "#ed7953"
             ],
             [
              0.7777777777777778,
              "#fb9f3a"
             ],
             [
              0.8888888888888888,
              "#fdca26"
             ],
             [
              1,
              "#f0f921"
             ]
            ],
            "type": "surface"
           }
          ],
          "table": [
           {
            "cells": {
             "fill": {
              "color": "#EBF0F8"
             },
             "line": {
              "color": "white"
             }
            },
            "header": {
             "fill": {
              "color": "#C8D4E3"
             },
             "line": {
              "color": "white"
             }
            },
            "type": "table"
           }
          ]
         },
         "layout": {
          "annotationdefaults": {
           "arrowcolor": "#2a3f5f",
           "arrowhead": 0,
           "arrowwidth": 1
          },
          "colorscale": {
           "diverging": [
            [
             0,
             "#8e0152"
            ],
            [
             0.1,
             "#c51b7d"
            ],
            [
             0.2,
             "#de77ae"
            ],
            [
             0.3,
             "#f1b6da"
            ],
            [
             0.4,
             "#fde0ef"
            ],
            [
             0.5,
             "#f7f7f7"
            ],
            [
             0.6,
             "#e6f5d0"
            ],
            [
             0.7,
             "#b8e186"
            ],
            [
             0.8,
             "#7fbc41"
            ],
            [
             0.9,
             "#4d9221"
            ],
            [
             1,
             "#276419"
            ]
           ],
           "sequential": [
            [
             0,
             "#0d0887"
            ],
            [
             0.1111111111111111,
             "#46039f"
            ],
            [
             0.2222222222222222,
             "#7201a8"
            ],
            [
             0.3333333333333333,
             "#9c179e"
            ],
            [
             0.4444444444444444,
             "#bd3786"
            ],
            [
             0.5555555555555556,
             "#d8576b"
            ],
            [
             0.6666666666666666,
             "#ed7953"
            ],
            [
             0.7777777777777778,
             "#fb9f3a"
            ],
            [
             0.8888888888888888,
             "#fdca26"
            ],
            [
             1,
             "#f0f921"
            ]
           ],
           "sequentialminus": [
            [
             0,
             "#0d0887"
            ],
            [
             0.1111111111111111,
             "#46039f"
            ],
            [
             0.2222222222222222,
             "#7201a8"
            ],
            [
             0.3333333333333333,
             "#9c179e"
            ],
            [
             0.4444444444444444,
             "#bd3786"
            ],
            [
             0.5555555555555556,
             "#d8576b"
            ],
            [
             0.6666666666666666,
             "#ed7953"
            ],
            [
             0.7777777777777778,
             "#fb9f3a"
            ],
            [
             0.8888888888888888,
             "#fdca26"
            ],
            [
             1,
             "#f0f921"
            ]
           ]
          },
          "colorway": [
           "#636efa",
           "#EF553B",
           "#00cc96",
           "#ab63fa",
           "#FFA15A",
           "#19d3f3",
           "#FF6692",
           "#B6E880",
           "#FF97FF",
           "#FECB52"
          ],
          "font": {
           "color": "#2a3f5f"
          },
          "geo": {
           "bgcolor": "white",
           "lakecolor": "white",
           "landcolor": "#E5ECF6",
           "showlakes": true,
           "showland": true,
           "subunitcolor": "white"
          },
          "hoverlabel": {
           "align": "left"
          },
          "hovermode": "closest",
          "mapbox": {
           "style": "light"
          },
          "paper_bgcolor": "white",
          "plot_bgcolor": "#E5ECF6",
          "polar": {
           "angularaxis": {
            "gridcolor": "white",
            "linecolor": "white",
            "ticks": ""
           },
           "bgcolor": "#E5ECF6",
           "radialaxis": {
            "gridcolor": "white",
            "linecolor": "white",
            "ticks": ""
           }
          },
          "scene": {
           "xaxis": {
            "backgroundcolor": "#E5ECF6",
            "gridcolor": "white",
            "gridwidth": 2,
            "linecolor": "white",
            "showbackground": true,
            "ticks": "",
            "zerolinecolor": "white"
           },
           "yaxis": {
            "backgroundcolor": "#E5ECF6",
            "gridcolor": "white",
            "gridwidth": 2,
            "linecolor": "white",
            "showbackground": true,
            "ticks": "",
            "zerolinecolor": "white"
           },
           "zaxis": {
            "backgroundcolor": "#E5ECF6",
            "gridcolor": "white",
            "gridwidth": 2,
            "linecolor": "white",
            "showbackground": true,
            "ticks": "",
            "zerolinecolor": "white"
           }
          },
          "shapedefaults": {
           "line": {
            "color": "#2a3f5f"
           }
          },
          "ternary": {
           "aaxis": {
            "gridcolor": "white",
            "linecolor": "white",
            "ticks": ""
           },
           "baxis": {
            "gridcolor": "white",
            "linecolor": "white",
            "ticks": ""
           },
           "bgcolor": "#E5ECF6",
           "caxis": {
            "gridcolor": "white",
            "linecolor": "white",
            "ticks": ""
           }
          },
          "title": {
           "x": 0.05
          },
          "xaxis": {
           "automargin": true,
           "gridcolor": "white",
           "linecolor": "white",
           "ticks": "",
           "zerolinecolor": "white",
           "zerolinewidth": 2
          },
          "yaxis": {
           "automargin": true,
           "gridcolor": "white",
           "linecolor": "white",
           "ticks": "",
           "zerolinecolor": "white",
           "zerolinewidth": 2
          }
         }
        },
        "title": {
         "font": {
          "color": "#4D5663"
         },
         "text": "ФЧХ"
        },
        "xaxis": {
         "gridcolor": "#E1E5ED",
         "showgrid": true,
         "tickfont": {
          "color": "#4D5663"
         },
         "title": {
          "font": {
           "color": "#4D5663"
          },
          "text": "W"
         },
         "type": "log",
         "zerolinecolor": "#E1E5ED"
        },
        "yaxis": {
         "gridcolor": "#E1E5ED",
         "showgrid": true,
         "tickfont": {
          "color": "#4D5663"
         },
         "title": {
          "font": {
           "color": "#4D5663"
          },
          "text": "phase"
         },
         "zerolinecolor": "#E1E5ED"
        }
       }
      },
      "text/html": [
       "<div>\n",
       "        \n",
       "        \n",
       "            <div id=\"526f70a6-4d2e-4486-b657-ccb4313737fe\" class=\"plotly-graph-div\" style=\"height:525px; width:100%;\"></div>\n",
       "            <script type=\"text/javascript\">\n",
       "                require([\"plotly\"], function(Plotly) {\n",
       "                    window.PLOTLYENV=window.PLOTLYENV || {};\n",
       "                    window.PLOTLYENV.BASE_URL='https://plot.ly';\n",
       "                    \n",
       "                if (document.getElementById(\"526f70a6-4d2e-4486-b657-ccb4313737fe\")) {\n",
       "                    Plotly.newPlot(\n",
       "                        '526f70a6-4d2e-4486-b657-ccb4313737fe',\n",
       "                        [{\"line\": {\"color\": \"rgba(255, 153, 51, 1.0)\", \"dash\": \"solid\", \"shape\": \"linear\", \"width\": 1.3}, \"mode\": \"lines\", \"name\": \"0\", \"text\": \"\", \"type\": \"scatter\", \"x\": [1e-10, 1.5556761439304722e-10, 2.420128264794383e-10, 3.7649358067924715e-10, 5.857020818056674e-10, 9.111627561154905e-10, 1.4174741629268078e-09, 2.205130739903041e-09, 3.430469286314912e-09, 5.336699231206302e-09, 8.302175681319736e-09, 1.2915496650148827e-08, 2.009233002565046e-08, 3.1257158496882355e-08, 4.8626015800653535e-08, 7.56463327554629e-08, 1.1768119524349991e-07, 1.8307382802953697e-07, 2.848035868435799e-07, 4.4306214575838777e-07, 6.892612104349695e-07, 1.0722672220103232e-06, 1.6681005372000591e-06, 2.5950242113997318e-06, 4.037017258596549e-06, 6.2802914418342466e-06, 9.770099572992246e-06, 1.5199110829529332e-05, 2.3644894126454072e-05, 3.678379771828627e-05, 5.722367659350208e-05, 8.902150854450375e-05, 0.00013848863713938718, 0.00021544346900318823, 0.0003351602650938841, 0.0005214008287999684, 0.0008111308307896856, 0.0012618568830660185, 0.0019630406500402682, 0.0030538555088334123, 0.004750810162102793, 0.007390722033525776, 0.011497569953977356, 0.01788649529057435, 0.02782559402207126, 0.04328761281083044, 0.06734150657750801, 0.10476157527896619, 0.16297508346206402, 0.25353644939701064, 0.39442060594376477, 0.6135907273413164, 0.9545484566618327, 1.4849682622544635, 2.310129700083158, 3.593813663804626, 5.5908101825122225, 8.697490026177835, 13.53047774579802, 21.04904144512013, 32.74549162877718, 50.941380148163645, 79.24828983539153, 123.28467394420633, 191.79102616724848, 298.3647240283334, 464.1588833612773, 722.0809018385456, 1123.3240329780265, 1747.5284000076829, 2718.58824273294, 4229.242874389482, 6579.3322465756555, 10235.310218990227, 15922.827933410874, 24770.76355991704, 38535.285937105196, 59948.42503189397, 93260.3346883218, 145082.87784959373, 225701.9719633917, 351119.17342151277, 546227.7217684337, 849753.4359086438, 1321941.1484660287, 2056512.3083486431, 3199267.1377973845, 4977023.564332093, 7742636.826811277, 12045035.402587786, 18738174.228603713, 29150530.628251698, 45348785.081285544, 70548023.1071863, 109749876.549305, 170735264.74706888, 265608778.2946673, 413201240.01153344, 642807311.7284293, 1000000000.0], \"y\": [89.42706130231653, 89.10873512117392, 88.61363926799717, 87.84386904983961, 86.64800373937155, 84.79379780504567, 81.9322182991007, 77.56454464773893, 71.06562601412926, 61.91250075360829, 50.299946659311914, 37.74931778179988, 26.459638191956763, 17.740862589825422, 11.620929582393034, 7.5305015409106515, 4.857060341535993, 3.12654727650484, 2.0109385528135677, 1.2929575218090832, 0.8312053410599404, 0.5343268667118467, 0.3434750596989951, 0.22078983176912856, 0.14192573044709203, 0.09123100674491483, 0.058643987271146066, 0.037696791526256414, 0.024231775265543615, 0.015576362849437697, 0.0100126000552588, 0.006436172533448226, 0.004137218727696262, 0.002659434378660755, 0.0017095037517009465, 0.0010988813359112434, 0.0007063686847854325, 0.0004540585311195025, 0.00029187148376416325, 0.00018761609711000123, 0.00012059940174624031, 7.751969239114332e-05, 4.9826359463369024e-05, 3.202273454476394e-05, 2.0575092638245262e-05, 1.3211266219066012e-05, 8.46965757267621e-06, 5.409135829558678e-06, 3.4222380580203112e-06, 2.1145979223252267e-06, 1.2266704895823907e-06, 5.822168545666659e-07, 5.332363278819086e-08, -4.649857300861977e-07, -1.0755870675001733e-06, -1.8996746429336098e-06, -3.100816206124102e-06, -4.917418485269234e-06, -7.71004697829152e-06, -1.2032992238857536e-05, -1.8744287380908437e-05, -2.9176013456184412e-05, -4.5398695504589937e-05, -7.06322675191354e-05, -0.0001098851760718375, -0.00017094847409671819, -0.00026594221599900283, -0.00041372108793485724, -0.0006436167510698099, -0.0010012596910274583, -0.001557636114285473, -0.00242317753546294, -0.003769679604907275, -0.005864400699095283, -0.009123108271889809, -0.014192601759584979, -0.0220790913574996, -0.03434791330361563, -0.0534342202385902, -0.08312630747571831, -0.12931748462354542, -0.20117564070372423, -0.31296231856362977, -0.48686113683039434, -0.7573723701155601, -1.178128690165339, -1.832420036268716, -2.8492733771826755, -4.427371092988018, -6.868209146724134, -10.613109585091394, -16.251683898892583, -24.393714613536602, -35.20221239406925, -47.66138395453767, -59.64240516990321, -69.36896622600574, -76.39527119190933, -81.1575108441294, -84.28940686250034]}],\n",
       "                        {\"legend\": {\"bgcolor\": \"#FFFFFF\", \"font\": {\"color\": \"#4D5663\"}}, \"paper_bgcolor\": \"#FFFFFF\", \"plot_bgcolor\": \"#FFFFFF\", \"template\": {\"data\": {\"bar\": [{\"error_x\": {\"color\": \"#2a3f5f\"}, \"error_y\": {\"color\": \"#2a3f5f\"}, \"marker\": {\"line\": {\"color\": \"#E5ECF6\", \"width\": 0.5}}, \"type\": \"bar\"}], \"barpolar\": [{\"marker\": {\"line\": {\"color\": \"#E5ECF6\", \"width\": 0.5}}, \"type\": \"barpolar\"}], \"carpet\": [{\"aaxis\": {\"endlinecolor\": \"#2a3f5f\", \"gridcolor\": \"white\", \"linecolor\": \"white\", \"minorgridcolor\": \"white\", \"startlinecolor\": \"#2a3f5f\"}, \"baxis\": {\"endlinecolor\": \"#2a3f5f\", \"gridcolor\": \"white\", \"linecolor\": \"white\", \"minorgridcolor\": \"white\", \"startlinecolor\": \"#2a3f5f\"}, \"type\": \"carpet\"}], \"choropleth\": [{\"colorbar\": {\"outlinewidth\": 0, \"ticks\": \"\"}, \"type\": \"choropleth\"}], \"contour\": [{\"colorbar\": {\"outlinewidth\": 0, \"ticks\": \"\"}, \"colorscale\": [[0.0, \"#0d0887\"], [0.1111111111111111, \"#46039f\"], [0.2222222222222222, \"#7201a8\"], [0.3333333333333333, \"#9c179e\"], [0.4444444444444444, \"#bd3786\"], [0.5555555555555556, \"#d8576b\"], [0.6666666666666666, \"#ed7953\"], [0.7777777777777778, \"#fb9f3a\"], [0.8888888888888888, \"#fdca26\"], [1.0, \"#f0f921\"]], \"type\": \"contour\"}], \"contourcarpet\": [{\"colorbar\": {\"outlinewidth\": 0, \"ticks\": \"\"}, \"type\": \"contourcarpet\"}], \"heatmap\": [{\"colorbar\": {\"outlinewidth\": 0, \"ticks\": \"\"}, \"colorscale\": [[0.0, \"#0d0887\"], [0.1111111111111111, \"#46039f\"], [0.2222222222222222, \"#7201a8\"], [0.3333333333333333, \"#9c179e\"], [0.4444444444444444, \"#bd3786\"], [0.5555555555555556, \"#d8576b\"], [0.6666666666666666, \"#ed7953\"], [0.7777777777777778, \"#fb9f3a\"], [0.8888888888888888, \"#fdca26\"], [1.0, \"#f0f921\"]], \"type\": \"heatmap\"}], \"heatmapgl\": [{\"colorbar\": {\"outlinewidth\": 0, \"ticks\": \"\"}, \"colorscale\": [[0.0, \"#0d0887\"], [0.1111111111111111, \"#46039f\"], [0.2222222222222222, \"#7201a8\"], [0.3333333333333333, \"#9c179e\"], [0.4444444444444444, \"#bd3786\"], [0.5555555555555556, \"#d8576b\"], [0.6666666666666666, \"#ed7953\"], [0.7777777777777778, \"#fb9f3a\"], [0.8888888888888888, \"#fdca26\"], [1.0, \"#f0f921\"]], \"type\": \"heatmapgl\"}], \"histogram\": [{\"marker\": {\"colorbar\": {\"outlinewidth\": 0, \"ticks\": \"\"}}, \"type\": \"histogram\"}], \"histogram2d\": [{\"colorbar\": {\"outlinewidth\": 0, \"ticks\": \"\"}, \"colorscale\": [[0.0, \"#0d0887\"], [0.1111111111111111, \"#46039f\"], [0.2222222222222222, \"#7201a8\"], [0.3333333333333333, \"#9c179e\"], [0.4444444444444444, \"#bd3786\"], [0.5555555555555556, \"#d8576b\"], [0.6666666666666666, \"#ed7953\"], [0.7777777777777778, \"#fb9f3a\"], [0.8888888888888888, \"#fdca26\"], [1.0, \"#f0f921\"]], \"type\": \"histogram2d\"}], \"histogram2dcontour\": [{\"colorbar\": {\"outlinewidth\": 0, \"ticks\": \"\"}, \"colorscale\": [[0.0, \"#0d0887\"], [0.1111111111111111, \"#46039f\"], [0.2222222222222222, \"#7201a8\"], [0.3333333333333333, \"#9c179e\"], [0.4444444444444444, \"#bd3786\"], [0.5555555555555556, \"#d8576b\"], [0.6666666666666666, \"#ed7953\"], [0.7777777777777778, \"#fb9f3a\"], [0.8888888888888888, \"#fdca26\"], [1.0, \"#f0f921\"]], \"type\": \"histogram2dcontour\"}], \"mesh3d\": [{\"colorbar\": {\"outlinewidth\": 0, \"ticks\": \"\"}, \"type\": \"mesh3d\"}], \"parcoords\": [{\"line\": {\"colorbar\": {\"outlinewidth\": 0, \"ticks\": \"\"}}, \"type\": \"parcoords\"}], \"scatter\": [{\"marker\": {\"colorbar\": {\"outlinewidth\": 0, \"ticks\": \"\"}}, \"type\": \"scatter\"}], \"scatter3d\": [{\"line\": {\"colorbar\": {\"outlinewidth\": 0, \"ticks\": \"\"}}, \"marker\": {\"colorbar\": {\"outlinewidth\": 0, \"ticks\": \"\"}}, \"type\": \"scatter3d\"}], \"scattercarpet\": [{\"marker\": {\"colorbar\": {\"outlinewidth\": 0, \"ticks\": \"\"}}, \"type\": \"scattercarpet\"}], \"scattergeo\": [{\"marker\": {\"colorbar\": {\"outlinewidth\": 0, \"ticks\": \"\"}}, \"type\": \"scattergeo\"}], \"scattergl\": [{\"marker\": {\"colorbar\": {\"outlinewidth\": 0, \"ticks\": \"\"}}, \"type\": \"scattergl\"}], \"scattermapbox\": [{\"marker\": {\"colorbar\": {\"outlinewidth\": 0, \"ticks\": \"\"}}, \"type\": \"scattermapbox\"}], \"scatterpolar\": [{\"marker\": {\"colorbar\": {\"outlinewidth\": 0, \"ticks\": \"\"}}, \"type\": \"scatterpolar\"}], \"scatterpolargl\": [{\"marker\": {\"colorbar\": {\"outlinewidth\": 0, \"ticks\": \"\"}}, \"type\": \"scatterpolargl\"}], \"scatterternary\": [{\"marker\": {\"colorbar\": {\"outlinewidth\": 0, \"ticks\": \"\"}}, \"type\": \"scatterternary\"}], \"surface\": [{\"colorbar\": {\"outlinewidth\": 0, \"ticks\": \"\"}, \"colorscale\": [[0.0, \"#0d0887\"], [0.1111111111111111, \"#46039f\"], [0.2222222222222222, \"#7201a8\"], [0.3333333333333333, \"#9c179e\"], [0.4444444444444444, \"#bd3786\"], [0.5555555555555556, \"#d8576b\"], [0.6666666666666666, \"#ed7953\"], [0.7777777777777778, \"#fb9f3a\"], [0.8888888888888888, \"#fdca26\"], [1.0, \"#f0f921\"]], \"type\": \"surface\"}], \"table\": [{\"cells\": {\"fill\": {\"color\": \"#EBF0F8\"}, \"line\": {\"color\": \"white\"}}, \"header\": {\"fill\": {\"color\": \"#C8D4E3\"}, \"line\": {\"color\": \"white\"}}, \"type\": \"table\"}]}, \"layout\": {\"annotationdefaults\": {\"arrowcolor\": \"#2a3f5f\", \"arrowhead\": 0, \"arrowwidth\": 1}, \"colorscale\": {\"diverging\": [[0, \"#8e0152\"], [0.1, \"#c51b7d\"], [0.2, \"#de77ae\"], [0.3, \"#f1b6da\"], [0.4, \"#fde0ef\"], [0.5, \"#f7f7f7\"], [0.6, \"#e6f5d0\"], [0.7, \"#b8e186\"], [0.8, \"#7fbc41\"], [0.9, \"#4d9221\"], [1, \"#276419\"]], \"sequential\": [[0.0, \"#0d0887\"], [0.1111111111111111, \"#46039f\"], [0.2222222222222222, \"#7201a8\"], [0.3333333333333333, \"#9c179e\"], [0.4444444444444444, \"#bd3786\"], [0.5555555555555556, \"#d8576b\"], [0.6666666666666666, \"#ed7953\"], [0.7777777777777778, \"#fb9f3a\"], [0.8888888888888888, \"#fdca26\"], [1.0, \"#f0f921\"]], \"sequentialminus\": [[0.0, \"#0d0887\"], [0.1111111111111111, \"#46039f\"], [0.2222222222222222, \"#7201a8\"], [0.3333333333333333, \"#9c179e\"], [0.4444444444444444, \"#bd3786\"], [0.5555555555555556, \"#d8576b\"], [0.6666666666666666, \"#ed7953\"], [0.7777777777777778, \"#fb9f3a\"], [0.8888888888888888, \"#fdca26\"], [1.0, \"#f0f921\"]]}, \"colorway\": [\"#636efa\", \"#EF553B\", \"#00cc96\", \"#ab63fa\", \"#FFA15A\", \"#19d3f3\", \"#FF6692\", \"#B6E880\", \"#FF97FF\", \"#FECB52\"], \"font\": {\"color\": \"#2a3f5f\"}, \"geo\": {\"bgcolor\": \"white\", \"lakecolor\": \"white\", \"landcolor\": \"#E5ECF6\", \"showlakes\": true, \"showland\": true, \"subunitcolor\": \"white\"}, \"hoverlabel\": {\"align\": \"left\"}, \"hovermode\": \"closest\", \"mapbox\": {\"style\": \"light\"}, \"paper_bgcolor\": \"white\", \"plot_bgcolor\": \"#E5ECF6\", \"polar\": {\"angularaxis\": {\"gridcolor\": \"white\", \"linecolor\": \"white\", \"ticks\": \"\"}, \"bgcolor\": \"#E5ECF6\", \"radialaxis\": {\"gridcolor\": \"white\", \"linecolor\": \"white\", \"ticks\": \"\"}}, \"scene\": {\"xaxis\": {\"backgroundcolor\": \"#E5ECF6\", \"gridcolor\": \"white\", \"gridwidth\": 2, \"linecolor\": \"white\", \"showbackground\": true, \"ticks\": \"\", \"zerolinecolor\": \"white\"}, \"yaxis\": {\"backgroundcolor\": \"#E5ECF6\", \"gridcolor\": \"white\", \"gridwidth\": 2, \"linecolor\": \"white\", \"showbackground\": true, \"ticks\": \"\", \"zerolinecolor\": \"white\"}, \"zaxis\": {\"backgroundcolor\": \"#E5ECF6\", \"gridcolor\": \"white\", \"gridwidth\": 2, \"linecolor\": \"white\", \"showbackground\": true, \"ticks\": \"\", \"zerolinecolor\": \"white\"}}, \"shapedefaults\": {\"line\": {\"color\": \"#2a3f5f\"}}, \"ternary\": {\"aaxis\": {\"gridcolor\": \"white\", \"linecolor\": \"white\", \"ticks\": \"\"}, \"baxis\": {\"gridcolor\": \"white\", \"linecolor\": \"white\", \"ticks\": \"\"}, \"bgcolor\": \"#E5ECF6\", \"caxis\": {\"gridcolor\": \"white\", \"linecolor\": \"white\", \"ticks\": \"\"}}, \"title\": {\"x\": 0.05}, \"xaxis\": {\"automargin\": true, \"gridcolor\": \"white\", \"linecolor\": \"white\", \"ticks\": \"\", \"zerolinecolor\": \"white\", \"zerolinewidth\": 2}, \"yaxis\": {\"automargin\": true, \"gridcolor\": \"white\", \"linecolor\": \"white\", \"ticks\": \"\", \"zerolinecolor\": \"white\", \"zerolinewidth\": 2}}}, \"title\": {\"font\": {\"color\": \"#4D5663\"}, \"text\": \"\\u0424\\u0427\\u0425\"}, \"xaxis\": {\"gridcolor\": \"#E1E5ED\", \"showgrid\": true, \"tickfont\": {\"color\": \"#4D5663\"}, \"title\": {\"font\": {\"color\": \"#4D5663\"}, \"text\": \"W\"}, \"type\": \"log\", \"zerolinecolor\": \"#E1E5ED\"}, \"yaxis\": {\"gridcolor\": \"#E1E5ED\", \"showgrid\": true, \"tickfont\": {\"color\": \"#4D5663\"}, \"title\": {\"font\": {\"color\": \"#4D5663\"}, \"text\": \"phase\"}, \"zerolinecolor\": \"#E1E5ED\"}},\n",
       "                        {\"showLink\": true, \"linkText\": \"Export to plot.ly\", \"plotlyServerURL\": \"https://plot.ly\", \"responsive\": true}\n",
       "                    ).then(function(){\n",
       "                            \n",
       "var gd = document.getElementById('526f70a6-4d2e-4486-b657-ccb4313737fe');\n",
       "var x = new MutationObserver(function (mutations, observer) {{\n",
       "        var display = window.getComputedStyle(gd).display;\n",
       "        if (!display || display === 'none') {{\n",
       "            console.log([gd, 'removed!']);\n",
       "            Plotly.purge(gd);\n",
       "            observer.disconnect();\n",
       "        }}\n",
       "}});\n",
       "\n",
       "// Listen for the removal of the full notebook cells\n",
       "var notebookContainer = gd.closest('#notebook-container');\n",
       "if (notebookContainer) {{\n",
       "    x.observe(notebookContainer, {childList: true});\n",
       "}}\n",
       "\n",
       "// Listen for the clearing of the current output cell\n",
       "var outputEl = gd.closest('.output');\n",
       "if (outputEl) {{\n",
       "    x.observe(outputEl, {childList: true});\n",
       "}}\n",
       "\n",
       "                        })\n",
       "                };\n",
       "                });\n",
       "            </script>\n",
       "        </div>"
      ]
     },
     "metadata": {},
     "output_type": "display_data"
    }
   ],
   "source": [
    "W, bode_mag, phase = signal.bode(transfer_func)\n",
    "\n",
    "\n",
    "df_mwp = pd.DataFrame(bode_mag, index=W)\n",
    "df_mwp.iplot(mode='lines', xTitle='W', yTitle='mag', title='АЧХ', xaxis_type=\"log\")\n",
    "\n",
    "df_pwp = pd.DataFrame(phase, index=W)\n",
    "df_pwp.iplot(mode='lines', xTitle='W', yTitle='phase', title='ФЧХ', xaxis_type=\"log\")"
   ]
  },
  {
   "cell_type": "code",
   "execution_count": null,
   "metadata": {},
   "outputs": [],
   "source": []
  }
 ],
 "metadata": {
  "kernelspec": {
   "display_name": "Python 3",
   "language": "python",
   "name": "python3"
  },
  "language_info": {
   "codemirror_mode": {
    "name": "ipython",
    "version": 3
   },
   "file_extension": ".py",
   "mimetype": "text/x-python",
   "name": "python",
   "nbconvert_exporter": "python",
   "pygments_lexer": "ipython3",
   "version": "3.7.4"
  }
 },
 "nbformat": 4,
 "nbformat_minor": 2
}
