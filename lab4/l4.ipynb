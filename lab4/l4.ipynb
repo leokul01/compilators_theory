{
 "cells": [
  {
   "cell_type": "code",
   "execution_count": 1,
   "metadata": {},
   "outputs": [],
   "source": [
    "import math\n",
    "import numpy as np\n",
    "from scipy import signal\n",
    "import skfuzzy as fuzz\n",
    "from skfuzzy import control as ctrl\n",
    "import matplotlib.pyplot as plt"
   ]
  },
  {
   "cell_type": "code",
   "execution_count": 2,
   "metadata": {},
   "outputs": [],
   "source": [
    "import fuzzy_reg"
   ]
  },
  {
   "cell_type": "markdown",
   "metadata": {},
   "source": [
    "### 1. В качестве управляемой системы используйте тот же обратный маятник, который моделировали в работе 3. Используйте при создании нечёткого регулятора указанное число лингвистических переменных: 2 входных, 4 выходных"
   ]
  },
  {
   "cell_type": "code",
   "execution_count": 3,
   "metadata": {},
   "outputs": [],
   "source": [
    "# создаём управляемую систему\n",
    "dT = 0.01\n",
    "TotalTime = 5\n",
    "moments_num = int(TotalTime/dT) + 1\n",
    "Tin = np.linspace(0, TotalTime, moments_num)\n",
    "\n",
    "m = 1\n",
    "L = 1\n",
    "g = 9.81\n",
    "\n",
    "A, B, C, D = signal.tf2ss([1], [m*L**2, 0, -0.98*m*g*L])\n",
    "sys_tf = signal.StateSpace(A, B, C, D)"
   ]
  },
  {
   "cell_type": "code",
   "execution_count": 4,
   "metadata": {},
   "outputs": [
    {
     "data": {
      "image/png": "[encoded data removed]",
      "text/plain": [
       "<Figure size 432x288 with 1 Axes>"
      ]
     },
     "metadata": {
      "needs_background": "light"
     },
     "output_type": "display_data"
    }
   ],
   "source": [
    "# создаём нечёткий регулятор\n",
    "fc = fuzzy_reg.FuzzyController()\n",
    "# выведем зависимость выхода от входа\n",
    "fc.plot()"
   ]
  },
  {
   "cell_type": "markdown",
   "metadata": {},
   "source": [
    "### 2. Задайте функции принадлежности, описывающие каждую входную и выходную лингвистическую переменную."
   ]
  },
  {
   "cell_type": "markdown",
   "metadata": {},
   "source": [
    "### 3. Задайте правила работы нечёткого компонента."
   ]
  },
  {
   "cell_type": "markdown",
   "metadata": {},
   "source": [
    "### 4. Оцените правильность работы нечёткого регулятора, передавая на него разные комбинации входных сигналов. Постройте зависимость его выхода от какого-либо входного параметра при фиксированных остальных.\n",
    "\n",
    "### 5. Реализуйте требуемую систему управления. Является ли её реакция на сигнал ограниченной во времени и величине?"
   ]
  },
  {
   "cell_type": "code",
   "execution_count": 5,
   "metadata": {},
   "outputs": [],
   "source": [
    "# задаём начальные условия\n",
    "init_angle = 5.0 / 180.0 * math.pi\n",
    "out_pos = np.zeros(moments_num + 1)\n",
    "out_pos[0] = init_angle\n",
    "curr_state = [0, out_pos[0]]"
   ]
  },
  {
   "cell_type": "code",
   "execution_count": 6,
   "metadata": {},
   "outputs": [],
   "source": [
    "# для каждого момента времени\n",
    "for i in range(moments_num):\n",
    "    # вычислим сигнал нечёткого регулятора\n",
    "    inp = fc.calc(curr_state[1] * 10) # передаём угол, а не переменную состояния\n",
    "    # вычислим выход управляемой системы по входу\n",
    "    Tout,yout,xout = signal.lsim(sys_tf, [inp, inp], [0, dT], X0=curr_state)\n",
    "    curr_state = xout[-1]\n",
    "    out_pos[i+1] = yout[-1]"
   ]
  },
  {
   "cell_type": "code",
   "execution_count": 7,
   "metadata": {},
   "outputs": [
    {
     "data": {
      "image/png": "[encoded data removed]",
      "text/plain": [
       "<Figure size 432x288 with 1 Axes>"
      ]
     },
     "metadata": {
      "needs_background": "light"
     },
     "output_type": "display_data"
    }
   ],
   "source": [
    "ax = plt.axes()\n",
    "ax.set_ylim([-1, 5])\n",
    "\n",
    "plt.plot(Tin, out_pos[:-1],'b')\n",
    "limit = 15 / 180.0 * np.pi\n",
    "plt.plot([0, TotalTime], [limit, limit], 'r')\n",
    "plt.plot([0, TotalTime], [-limit, -limit], 'r')\n",
    "plt.show()"
   ]
  },
  {
   "cell_type": "markdown",
   "metadata": {},
   "source": [
    "### 6. Постарайтесь настроить нечёткий регулятор так, чтобы он приводил маятник в вертикальное положение за достаточно малое время при любых отклонениях от равновесия в пределах 15°. Для некоторых комбинаций лингвистических переменных и управляемых систем корректная настройка может быть затруднена, поэтому для сдачи достаточно продемонстрировать верную работу нечёткого регулятора совместно с управляемой системой."
   ]
  },
  {
   "cell_type": "code",
   "execution_count": 34,
   "metadata": {},
   "outputs": [
    {
     "data": {
      "image/png": "[encoded data removed]",
      "text/plain": [
       "<Figure size 432x288 with 1 Axes>"
      ]
     },
     "metadata": {
      "needs_background": "light"
     },
     "output_type": "display_data"
    }
   ],
   "source": [
    "zero_input = np.zeros(Tin.shape)\n",
    "start_pos = 1 / 180.0 * np.pi # начнём с позиции в 1°\n",
    "Tout, yout, xout = signal.lsim(sys_tf, zero_input, \n",
    "                               Tin, X0=[0, start_pos])\n",
    "\n",
    "ax = plt.axes()\n",
    "ax.set_ylim([-.3, .3])\n",
    "\n",
    "plt.plot(Tout, yout, 'b')\n",
    "\n",
    "# покажем предельные допустимые отклонения красными линиями\n",
    "limit = 15 / 180.0 * np.pi\n",
    "\n",
    "plt.plot([0, TotalTime], [limit, limit], 'r')\n",
    "plt.plot([0, TotalTime], [-limit, -limit], 'r')\n",
    "\n",
    "plt.show()"
   ]
  },
  {
   "cell_type": "code",
   "execution_count": null,
   "metadata": {},
   "outputs": [],
   "source": []
  }
 ],
 "metadata": {
  "kernelspec": {
   "display_name": "Python 3",
   "language": "python",
   "name": "python3"
  },
  "language_info": {
   "codemirror_mode": {
    "name": "ipython",
    "version": 3
   },
   "file_extension": ".py",
   "mimetype": "text/x-python",
   "name": "python",
   "nbconvert_exporter": "python",
   "pygments_lexer": "ipython3",
   "version": "3.7.4"
  }
 },
 "nbformat": 4,
 "nbformat_minor": 2
}
