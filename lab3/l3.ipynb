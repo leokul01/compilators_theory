{
 "cells": [
  {
   "cell_type": "code",
   "execution_count": 2,
   "metadata": {},
   "outputs": [],
   "source": [
    "import numpy as np\n",
    "from scipy import signal\n",
    "import matplotlib.pyplot as plt"
   ]
  },
  {
   "cell_type": "markdown",
   "metadata": {},
   "source": [
    "### 1. Маятник – материальная точка с m = 1 кг, L= a м, момент силы трения в оси пропорционален углу отклонения с коэффициентом 0.02;"
   ]
  },
  {
   "cell_type": "code",
   "execution_count": 3,
   "metadata": {},
   "outputs": [],
   "source": [
    "m = 1\n",
    "L = 1\n",
    "g = 9.81\n",
    "k = 0.02"
   ]
  },
  {
   "cell_type": "markdown",
   "metadata": {},
   "source": [
    "### 2. Вычислите дифференциальное уравнение регулируемой системы, её передаточную функцию. Всюду можно предполагать, что отклонения угла поворота маятника от нуля достаточно малы."
   ]
  },
  {
   "cell_type": "code",
   "execution_count": 4,
   "metadata": {},
   "outputs": [
    {
     "data": {
      "text/plain": [
       "TransferFunctionContinuous(\n",
       "array([1.]),\n",
       "array([ 1.    ,  0.    , -9.6138]),\n",
       "dt: None\n",
       ")"
      ]
     },
     "execution_count": 4,
     "metadata": {},
     "output_type": "execute_result"
    }
   ],
   "source": [
    "# (mL^2p^2 - 0.98mgL)θ = M => θ = M / (mL^2p^2 - 0.98mgL)\n",
    "\n",
    "dT = 0.1\n",
    "TotalTime = 50\n",
    "Tin = np.linspace(0, TotalTime, TotalTime/dT + 1)\n",
    "sys_tf = signal.TransferFunction([1], [m*L**2, 0, -0.98*m*g*L])\n",
    "\n",
    "sys_tf"
   ]
  },
  {
   "cell_type": "markdown",
   "metadata": {},
   "source": [
    "### 3. Представьте систему с помощью уравнения состояния. Проинтерпретируйте переменные состояния."
   ]
  },
  {
   "cell_type": "code",
   "execution_count": 5,
   "metadata": {},
   "outputs": [
    {
     "data": {
      "text/plain": [
       "(array([[-0.    ,  9.6138],\n",
       "        [ 1.    ,  0.    ]]), array([[1.],\n",
       "        [0.]]), array([[0., 1.]]), array([[0.]]))"
      ]
     },
     "execution_count": 5,
     "metadata": {},
     "output_type": "execute_result"
    }
   ],
   "source": [
    "sys_tf = signal.tf2ss([1], [m*L**2, 0, -0.98*m*g*L])\n",
    "sys_tf\n",
    "\n",
    "# z1* = 9.6138z2 + M\n",
    "# z2* = z1\n",
    "# θ = z2\n",
    "# z2 - угол отклонения\n",
    "# z1 - скорость угла отклонения"
   ]
  },
  {
   "cell_type": "markdown",
   "metadata": {},
   "source": [
    "### 4. Промоделируйте свободное (т.е. без включения двигателя) движение маятника из малого ненулевого угла. Упадёт ли при этом маятник?"
   ]
  },
  {
   "cell_type": "code",
   "execution_count": 6,
   "metadata": {},
   "outputs": [
    {
     "data": {
      "image/png": "[encoded data removed]",
      "text/plain": [
       "<Figure size 432x288 with 1 Axes>"
      ]
     },
     "metadata": {
      "needs_background": "light"
     },
     "output_type": "display_data"
    }
   ],
   "source": [
    "zero_input = np.zeros(Tin.shape) # не будем прилагать момент => M = 0\n",
    "start_pos = 1 / 180.0 * np.pi # начнём с позиции в 1°.\n",
    "Tout, yout, xout = signal.lsim(sys_tf, zero_input, Tin, X0=[0, start_pos]) # начальная скорость нулевая, угол - start_pos\n",
    "\n",
    "ax = plt.axes()\n",
    "ax.set_ylim([-1, 5])\n",
    "# ax.set_xlim([0, 5])\n",
    "\n",
    "plt.plot(Tout, yout, 'b')\n",
    "\n",
    "# покажем предельные допустимые отклонения красными линиями\n",
    "limit = 15 / 180.0 * np.pi\n",
    "\n",
    "plt.plot([0, TotalTime], [limit, limit], 'r')\n",
    "plt.plot([0, TotalTime], [-limit, -limit], 'r')\n",
    "\n",
    "plt.show()\n",
    "# Упадет"
   ]
  },
  {
   "cell_type": "markdown",
   "metadata": {},
   "source": [
    "### 5. Добавьте в систему PID-регулятор. Проинтерпретируйте изменения в уравнении состояния."
   ]
  },
  {
   "cell_type": "code",
   "execution_count": 7,
   "metadata": {},
   "outputs": [
    {
     "name": "stderr",
     "output_type": "stream",
     "text": [
      "/usr/local/lib/python3.7/site-packages/scipy/signal/filter_design.py:1619: BadCoefficients: Badly conditioned filter coefficients (numerator): the results may be meaningless\n",
      "  \"results may be meaningless\", BadCoefficients)\n"
     ]
    },
    {
     "data": {
      "text/plain": [
       "(array([[-0.    , -0.3862, -0.    ],\n",
       "        [ 1.    ,  0.    ,  0.    ],\n",
       "        [ 0.    ,  1.    ,  0.    ]]), array([[1.],\n",
       "        [0.],\n",
       "        [0.]]), array([[ 0., 10.,  0.]]), array([[0.]]))"
      ]
     },
     "execution_count": 7,
     "metadata": {},
     "output_type": "execute_result"
    }
   ],
   "source": [
    "P = 10\n",
    "I = 0\n",
    "D = 0\n",
    "\n",
    "PID_num = [D, P, I]\n",
    "PID_den = [1, 0]\n",
    "\n",
    "T_num = [1]\n",
    "T_den = [m*L**2, 0, -0.98*m*g*L]\n",
    "\n",
    "interm_num = np.convolve(T_num, PID_num)\n",
    "interm_den = np.convolve(T_den, PID_den)\n",
    "\n",
    "total_sys = signal.tf2ss(interm_num, np.polyadd(interm_den, interm_num))\n",
    "\n",
    "total_sys\n",
    "\n",
    "# z1* ~ z2 + M\n",
    "# z2* ~ z1 => z1 - угловая скорость\n",
    "# z3* ~ z2 => z3 - интегральное отклонение\n",
    "# θ ~ z2 => z2 - текущее отклонение"
   ]
  },
  {
   "cell_type": "code",
   "execution_count": 8,
   "metadata": {},
   "outputs": [],
   "source": [
    "A, B, C, D = total_sys"
   ]
  },
  {
   "cell_type": "markdown",
   "metadata": {},
   "source": [
    "### 6. Настройте PID-регулятор так, чтобы он возвращал маятник в положение равновесия за время меньше 10 с из всех допустимых отклонений (±15°)."
   ]
  },
  {
   "cell_type": "code",
   "execution_count": 9,
   "metadata": {},
   "outputs": [
    {
     "data": {
      "image/png": "[encoded data removed]",
      "text/plain": [
       "<Figure size 432x288 with 1 Axes>"
      ]
     },
     "metadata": {
      "needs_background": "light"
     },
     "output_type": "display_data"
    }
   ],
   "source": [
    "zero_input = np.zeros(Tin.shape) # не будем прилагать момент\n",
    "start_pos = 1 / 180.0 * np.pi # начнём с позиции в 1°.\n",
    "Tout, yout, xout = signal.lsim(total_sys, zero_input, Tin, X0=[0, start_pos/C[0][1], 0]) # начальная скорость нулевая, угол - start_pos\n",
    "\n",
    "ax = plt.axes()\n",
    "ax.set_ylim([-.3, .3])\n",
    "\n",
    "plt.plot(Tout, yout, 'b')\n",
    "\n",
    "# покажем предельные допустимые отклонения красными линиями\n",
    "limit = 15 / 180.0 * np.pi\n",
    "\n",
    "plt.plot([0, TotalTime], [limit, limit], 'r')\n",
    "plt.plot([0, TotalTime], [-limit, -limit], 'r')\n",
    "\n",
    "plt.show()"
   ]
  },
  {
   "cell_type": "code",
   "execution_count": 10,
   "metadata": {},
   "outputs": [
    {
     "name": "stdout",
     "output_type": "stream",
     "text": [
      "10 5 12\n"
     ]
    }
   ],
   "source": [
    "P_kr = P\n",
    "T_kr = 100\n",
    "\n",
    "P = 10  # 0.6 * P_kr\n",
    "I = 5  # 1.2 * P_kr / T_kr\n",
    "D = 12  # 3 * P_kr * T_kr / 40\n",
    "\n",
    "print(P, I, D)"
   ]
  },
  {
   "cell_type": "code",
   "execution_count": 11,
   "metadata": {},
   "outputs": [
    {
     "name": "stdout",
     "output_type": "stream",
     "text": [
      "(array([[-12.    ,  -0.3862,  -5.    ],\n",
      "       [  1.    ,   0.    ,   0.    ],\n",
      "       [  0.    ,   1.    ,   0.    ]]), array([[1.],\n",
      "       [0.],\n",
      "       [0.]]), array([[12., 10.,  5.]]), array([[0.]]))\n"
     ]
    }
   ],
   "source": [
    "PID_num = [D, P, I]\n",
    "PID_den = [1, 0]\n",
    "\n",
    "interm_num = np.convolve(T_num, PID_num)\n",
    "interm_den = np.convolve(T_den, PID_den)\n",
    "\n",
    "total_sys = signal.tf2ss(interm_num, np.polyadd(interm_den, interm_num))\n",
    "print(total_sys)\n",
    "\n",
    "# z1* ~ z2 + M\n",
    "# z2* ~ z1 => z1 - угловая скорость\n",
    "# z3* ~ z2 => z3 - интегральное отклонение\n",
    "# θ ~ z1 + z2 + z3 => z2 - текущее отклонение"
   ]
  },
  {
   "cell_type": "code",
   "execution_count": 12,
   "metadata": {},
   "outputs": [],
   "source": [
    "A, B, C, D = total_sys"
   ]
  },
  {
   "cell_type": "code",
   "execution_count": 14,
   "metadata": {},
   "outputs": [
    {
     "data": {
      "image/png": "[encoded data removed]",
      "text/plain": [
       "<Figure size 432x288 with 1 Axes>"
      ]
     },
     "metadata": {
      "needs_background": "light"
     },
     "output_type": "display_data"
    }
   ],
   "source": [
    "zero_input = np.zeros(Tin.shape) # не будем прилагать момент => M = 0\n",
    "start_pos = 1 / 180.0 * np.pi # начнём с позиции в 1°\n",
    "Tout, yout, xout = signal.lsim(total_sys, zero_input, \n",
    "                               Tin, X0=[start_pos/3/C[0][0], start_pos/3/C[0][1], start_pos/3/C[0][2]])\n",
    "\n",
    "ax = plt.axes()\n",
    "ax.set_ylim([-.3, .3])\n",
    "\n",
    "plt.plot(Tout, yout, 'b')\n",
    "\n",
    "# покажем предельные допустимые отклонения красными линиями\n",
    "limit = 15 / 180.0 * np.pi\n",
    "\n",
    "plt.plot([0, TotalTime], [limit, limit], 'r')\n",
    "plt.plot([0, TotalTime], [-limit, -limit], 'r')\n",
    "\n",
    "plt.show()"
   ]
  },
  {
   "cell_type": "code",
   "execution_count": null,
   "metadata": {},
   "outputs": [],
   "source": []
  }
 ],
 "metadata": {
  "kernelspec": {
   "display_name": "Python 3",
   "language": "python",
   "name": "python3"
  },
  "language_info": {
   "codemirror_mode": {
    "name": "ipython",
    "version": 3
   },
   "file_extension": ".py",
   "mimetype": "text/x-python",
   "name": "python",
   "nbconvert_exporter": "python",
   "pygments_lexer": "ipython3",
   "version": "3.7.4"
  }
 },
 "nbformat": 4,
 "nbformat_minor": 2
}
